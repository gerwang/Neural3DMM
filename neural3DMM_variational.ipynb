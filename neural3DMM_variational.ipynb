{
 "cells": [
  {
   "cell_type": "code",
   "execution_count": 1,
   "metadata": {},
   "outputs": [
    {
     "name": "stdout",
     "output_type": "stream",
     "text": [
      "GeForce GTX TITAN X\n"
     ]
    }
   ],
   "source": [
    "import numpy as np\n",
    "import json\n",
    "import os\n",
    "import copy\n",
    "import pickle\n",
    "\n",
    "import mesh_sampling\n",
    "import trimesh\n",
    "from shape_data import ShapeData\n",
    "\n",
    "from autoencoder_dataset import autoencoder_dataset, cached_autoencoder_dataset\n",
    "from torch.utils.data import DataLoader\n",
    "\n",
    "from spiral_utils import get_adj_trigs, generate_spirals\n",
    "from models import SpiralAutoencoderVariationalLoss\n",
    "from train_funcs import train_variational_autoencoder_dataloader\n",
    "from test_funcs import test_variational_autoencoder_dataloader\n",
    "\n",
    "\n",
    "import torch\n",
    "from tensorboardX import SummaryWriter\n",
    "\n",
    "from sklearn.metrics.pairwise import euclidean_distances\n",
    "meshpackage = 'mpi-mesh' # 'mpi-mesh', 'trimesh'\n",
    "root_dir = '/home/jingwang/Data/data/'\n",
    "\n",
    "dataset = 'FaceWarehouse'\n",
    "name = 'real_variational'\n",
    "\n",
    "torch.backends.cudnn.benchmark = True\n",
    "\n",
    "\n",
    "GPU = True\n",
    "os.environ[\"CUDA_VISIBLE_DEVICES\"]=\"2\"\n",
    "device_idx = 0\n",
    "print(torch.cuda.get_device_name(device_idx))"
   ]
  },
  {
   "cell_type": "code",
   "execution_count": 2,
   "metadata": {},
   "outputs": [],
   "source": [
    "args = {}\n",
    "\n",
    "generative_model = 'variational_autoencoder'\n",
    "downsample_method = 'COMA_downsample' # choose'COMA_downsample' or 'meshlab_downsample'\n",
    "\n",
    "\n",
    "# below are the arguments for the DFAUST run\n",
    "reference_mesh_file = os.path.join(root_dir, dataset, 'template', 'template.obj')\n",
    "downsample_directory = os.path.join(root_dir, dataset,'template', downsample_method)\n",
    "ds_factors = [4, 4, 4, 4]\n",
    "step_sizes = [2, 2, 1, 1, 1]\n",
    "filter_sizes_enc = [[3, 16, 32, 64, 128],[[],[],[],[],[]]]\n",
    "filter_sizes_dec = [[128, 64, 32, 32, 16],[[],[],[],[],3]]\n",
    "dilation_flag = True\n",
    "if dilation_flag:\n",
    "    dilation=[2, 2, 1, 1, 1] \n",
    "else:\n",
    "    dilation = None\n",
    "reference_points = [[5930]]# [[3567,4051,4597]] # [[414]]  # used for COMA with 3 disconnected components\n",
    "\n",
    "args = {'generative_model': generative_model,\n",
    "        'name': name, 'data': os.path.join(root_dir, dataset, 'preprocessed',name),\n",
    "        'results_folder':  os.path.join(root_dir, dataset,'results/spirals_'+ generative_model),\n",
    "        'reference_mesh_file':reference_mesh_file, 'downsample_directory': downsample_directory,\n",
    "        'checkpoint_file': 'checkpoint',\n",
    "        'seed':2, 'loss':'l1',\n",
    "        'batch_size': 16, 'num_epochs':300, 'eval_frequency':200, 'num_workers': 40,\n",
    "        'filter_sizes_enc': filter_sizes_enc, 'filter_sizes_dec': filter_sizes_dec,\n",
    "        'nz': 128, # 100 identity + 46 expression \n",
    "        'ds_factors': ds_factors, 'step_sizes' : step_sizes, 'dilation': dilation,\n",
    "        \n",
    "        'lr':1e-3, \n",
    "        'regularization': 5e-5,         \n",
    "        'scheduler': True, 'decay_rate': 0.99,'decay_steps':1,  \n",
    "        'resume': True,\n",
    "        \n",
    "        'mode':'test', 'shuffle': False, 'nVal': 100, 'normalization': True,\n",
    "        'write_mesh': True,\n",
    "        'lambda_var': 1e-5,\n",
    "        'worst_face_num': 20,\n",
    "        'use_cache': True}\n",
    "\n",
    "args['results_folder'] = os.path.join(args['results_folder'],'latent_'+str(args['nz']))\n",
    "    \n",
    "if not os.path.exists(os.path.join(args['results_folder'])):\n",
    "    os.makedirs(os.path.join(args['results_folder']))\n",
    "\n",
    "summary_path = os.path.join(args['results_folder'],'summaries',args['name'])\n",
    "if not os.path.exists(summary_path):\n",
    "    os.makedirs(summary_path)  \n",
    "    \n",
    "checkpoint_path = os.path.join(args['results_folder'],'checkpoints', args['name'])\n",
    "if not os.path.exists(checkpoint_path):\n",
    "    os.makedirs(checkpoint_path)\n",
    "    \n",
    "samples_path = os.path.join(args['results_folder'],'samples', args['name'])\n",
    "if not os.path.exists(samples_path):\n",
    "    os.makedirs(samples_path)\n",
    "    \n",
    "prediction_path = os.path.join(args['results_folder'],'predictions', args['name'])\n",
    "if not os.path.exists(prediction_path):\n",
    "    os.makedirs(prediction_path)\n",
    "\n",
    "if not os.path.exists(downsample_directory):\n",
    "    os.makedirs(downsample_directory)\n",
    "\n",
    "downsample_mesh_path = os.path.join(args['results_folder'],'downsample_mesh', args['name'])\n",
    "if not os.path.exists(downsample_mesh_path):\n",
    "    os.makedirs(downsample_mesh_path)\n",
    "    \n",
    "worst_mesh_path = os.path.join(args['results_folder'],'worst_test', args['name'])\n",
    "if not os.path.exists(downsample_mesh_path):\n",
    "    os.makedirs(downsample_mesh_path)"
   ]
  },
  {
   "cell_type": "code",
   "execution_count": 3,
   "metadata": {},
   "outputs": [
    {
     "name": "stdout",
     "output_type": "stream",
     "text": [
      "Loading data .. \n",
      "Loading Transform Matrices ..\n",
      "Calculating reference points for downsampled versions..\n"
     ]
    }
   ],
   "source": [
    "np.random.seed(args['seed'])\n",
    "print(\"Loading data .. \")\n",
    "if not os.path.exists(args['data']+'/mean.npy') or not os.path.exists(args['data']+'/std.npy'):\n",
    "    shapedata =  ShapeData(nVal=args['nVal'], \n",
    "                          train_file=args['data']+'/train.npy', \n",
    "                          test_file=args['data']+'/test.npy', \n",
    "                          reference_mesh_file=args['reference_mesh_file'],\n",
    "                          normalization = args['normalization'],\n",
    "                          meshpackage = meshpackage, load_flag = True)\n",
    "    np.save(args['data']+'/mean.npy', shapedata.mean)\n",
    "    np.save(args['data']+'/std.npy', shapedata.std)\n",
    "else:\n",
    "    shapedata = ShapeData(nVal=args['nVal'], \n",
    "                         train_file=args['data']+'/train.npy',\n",
    "                         test_file=args['data']+'/test.npy', \n",
    "                         reference_mesh_file=args['reference_mesh_file'],\n",
    "                         normalization = args['normalization'],\n",
    "                         meshpackage = meshpackage, load_flag = False)\n",
    "    shapedata.mean = np.load(args['data']+'/mean.npy')\n",
    "    shapedata.std = np.load(args['data']+'/std.npy')\n",
    "    shapedata.n_vertex = shapedata.mean.shape[0]\n",
    "    shapedata.n_features = shapedata.mean.shape[1]\n",
    "\n",
    "if not os.path.exists(os.path.join(args['downsample_directory'],'downsampling_matrices.pkl')):\n",
    "    if shapedata.meshpackage == 'trimesh':\n",
    "        raise NotImplementedError('Rerun with mpi-mesh as meshpackage')\n",
    "    print(\"Generating Transform Matrices ..\")\n",
    "    if downsample_method == 'COMA_downsample':\n",
    "        M,A,D,U,F = mesh_sampling.generate_transform_matrices(shapedata.reference_mesh, args['ds_factors'])\n",
    "        if args['write_mesh']:\n",
    "            import openmesh\n",
    "            for i in range(len(M)):\n",
    "                mesh = openmesh.TriMesh(points=M[i].v,face_vertex_indices=M[i].f)\n",
    "                openmesh.write_mesh(os.path.join(args['results_folder'],'downsample_mesh',args['name'], '%d.obj'%i),mesh)\n",
    "    with open(os.path.join(args['downsample_directory'],'downsampling_matrices.pkl'), 'wb') as fp:\n",
    "        M_verts_faces = [(M[i].v, M[i].f) for i in range(len(M))]\n",
    "        pickle.dump({'M_verts_faces':M_verts_faces,'A':A,'D':D,'U':U,'F':F}, fp)\n",
    "else:\n",
    "    print(\"Loading Transform Matrices ..\")\n",
    "    with open(os.path.join(args['downsample_directory'],'downsampling_matrices.pkl'), 'rb') as fp:\n",
    "        #downsampling_matrices = pickle.load(fp,encoding = 'latin1')\n",
    "        downsampling_matrices = pickle.load(fp)\n",
    "            \n",
    "    M_verts_faces = downsampling_matrices['M_verts_faces']\n",
    "    if shapedata.meshpackage == 'mpi-mesh':\n",
    "        from psbody.mesh import Mesh\n",
    "        M = [Mesh(v=M_verts_faces[i][0], f=M_verts_faces[i][1]) for i in range(len(M_verts_faces))]\n",
    "    elif shapedata.meshpackage == 'trimesh':\n",
    "        M = [trimesh.base.Trimesh(vertices=M_verts_faces[i][0], faces=M_verts_faces[i][1], process = False) for i in range(len(M_verts_faces))]\n",
    "    A = downsampling_matrices['A']\n",
    "    D = downsampling_matrices['D']\n",
    "    U = downsampling_matrices['U']\n",
    "    F = downsampling_matrices['F']\n",
    "        \n",
    "# Needs also an extra check to enforce points to belong to different disconnected component at each hierarchy level\n",
    "print(\"Calculating reference points for downsampled versions..\")\n",
    "for i in range(len(args['ds_factors'])):\n",
    "    if shapedata.meshpackage == 'mpi-mesh':\n",
    "        dist = euclidean_distances(M[i+1].v, M[0].v[reference_points[0]])\n",
    "    elif shapedata.meshpackage == 'trimesh':\n",
    "        dist = euclidean_distances(M[i+1].vertices, M[0].vertices[reference_points[0]])\n",
    "    reference_points.append(np.argmin(dist,axis=0).tolist())\n",
    "\n"
   ]
  },
  {
   "cell_type": "code",
   "execution_count": 4,
   "metadata": {
    "scrolled": true
   },
   "outputs": [
    {
     "name": "stdout",
     "output_type": "stream",
     "text": [
      "spiral generation for hierarchy 0 (11510 vertices) finished\n",
      "spiral generation for hierarchy 1 (2878 vertices) finished\n",
      "spiral generation for hierarchy 2 (720 vertices) finished\n",
      "spiral generation for hierarchy 3 (180 vertices) finished\n",
      "spiral generation for hierarchy 4 (45 vertices) finished\n",
      "spiral sizes for hierarchy 0:  14\n",
      "spiral sizes for hierarchy 1:  13\n",
      "spiral sizes for hierarchy 2:  9\n",
      "spiral sizes for hierarchy 3:  9\n",
      "spiral sizes for hierarchy 4:  9\n"
     ]
    }
   ],
   "source": [
    "if shapedata.meshpackage == 'mpi-mesh':\n",
    "    sizes = [x.v.shape[0] for x in M]\n",
    "elif shapedata.meshpackage == 'trimesh':\n",
    "    sizes = [x.vertices.shape[0] for x in M]\n",
    "Adj, Trigs = get_adj_trigs(A, F, shapedata.reference_mesh, meshpackage = shapedata.meshpackage)\n",
    "\n",
    "spirals_np, spiral_sizes,spirals = generate_spirals(args['step_sizes'], \n",
    "                                                    M, Adj, Trigs, \n",
    "                                                    reference_points = reference_points, \n",
    "                                                    dilation = args['dilation'], random = False, \n",
    "                                                    meshpackage = shapedata.meshpackage, \n",
    "                                                    counter_clockwise = True)\n",
    "\n",
    "bU = []\n",
    "bD = []\n",
    "for i in range(len(D)):\n",
    "    d = np.zeros((1,D[i].shape[0]+1,D[i].shape[1]+1))\n",
    "    u = np.zeros((1,U[i].shape[0]+1,U[i].shape[1]+1))\n",
    "    d[0,:-1,:-1] = D[i].todense()\n",
    "    u[0,:-1,:-1] = U[i].todense()\n",
    "    d[0,-1,-1] = 1\n",
    "    u[0,-1,-1] = 1\n",
    "    bD.append(d)\n",
    "    bU.append(u)\n"
   ]
  },
  {
   "cell_type": "code",
   "execution_count": 5,
   "metadata": {},
   "outputs": [
    {
     "name": "stdout",
     "output_type": "stream",
     "text": [
      "cuda:0\n"
     ]
    }
   ],
   "source": [
    "torch.manual_seed(args['seed'])\n",
    "\n",
    "if GPU:\n",
    "#     device = torch.device(\"cuda:0\" if torch.cuda.is_available() else \"cpu\")\n",
    "    device = torch.device(\"cuda:\"+str(device_idx) if torch.cuda.is_available() else \"cpu\")\n",
    "else:\n",
    "    device = torch.device(\"cpu\")\n",
    "print(device)\n",
    "\n",
    "tspirals = [torch.from_numpy(s).long().to(device) for s in spirals_np]\n",
    "tD = [torch.from_numpy(s).float().to(device) for s in bD]\n",
    "tU = [torch.from_numpy(s).float().to(device) for s in bU]"
   ]
  },
  {
   "cell_type": "code",
   "execution_count": 6,
   "metadata": {
    "scrolled": true
   },
   "outputs": [],
   "source": [
    "# Building model, optimizer, and loss function\n",
    "\n",
    "if args['use_cache']:\n",
    "    dataset_train = cached_autoencoder_dataset(root_dir = args['data'], points_dataset = 'train',\n",
    "                                               shapedata = shapedata,\n",
    "                                               normalization = args['normalization'], device=device)\n",
    "    dataloader_train = DataLoader(dataset_train, batch_size=args['batch_size'],\\\n",
    "                                         shuffle = args['shuffle'], num_workers=0)\n",
    "else:\n",
    "    dataset_train = autoencoder_dataset(root_dir = args['data'], points_dataset = 'train',\n",
    "                                               shapedata = shapedata,\n",
    "                                               normalization = args['normalization'])\n",
    "    dataloader_train = DataLoader(dataset_train, batch_size=args['batch_size'],\\\n",
    "                                         shuffle = args['shuffle'], num_workers = args['num_workers'],pin_memory=True)\n",
    "\n",
    "if args['use_cache']:\n",
    "    dataset_val = cached_autoencoder_dataset(root_dir = args['data'], points_dataset = 'val', \n",
    "                                             shapedata = shapedata,\n",
    "                                             normalization = args['normalization'], device=device)\n",
    "    dataloader_val = DataLoader(dataset_val, batch_size=args['batch_size'],\\\n",
    "                                         shuffle = False, num_workers=0)\n",
    "else:\n",
    "    dataset_val = autoencoder_dataset(root_dir = args['data'], points_dataset = 'val', \n",
    "                                             shapedata = shapedata,\n",
    "                                             normalization = args['normalization'])\n",
    "    dataloader_val = DataLoader(dataset_val, batch_size=args['batch_size'],\\\n",
    "                                         shuffle = False, num_workers = args['num_workers'],pin_memory=True)\n",
    "\n",
    "\n",
    "dataset_test = autoencoder_dataset(root_dir = args['data'], points_dataset = 'test',\n",
    "                                          shapedata = shapedata,\n",
    "                                          normalization = args['normalization'])\n",
    "\n",
    "dataloader_test = DataLoader(dataset_test, batch_size=args['batch_size'],\\\n",
    "                                     shuffle = False, num_workers = args['num_workers'],  pin_memory=True)\n",
    "\n",
    "\n",
    "\n",
    "if 'autoencoder' == args['generative_model']:\n",
    "        model = SpiralAutoencoder(filters_enc = args['filter_sizes_enc'],   \n",
    "                                  filters_dec = args['filter_sizes_dec'],\n",
    "                                  latent_size=args['nz'],\n",
    "                                  sizes=sizes,\n",
    "                                  spiral_sizes=spiral_sizes,\n",
    "                                  spirals=tspirals,\n",
    "                                  D=tD, U=tU).to(device)\n",
    "elif 'variational_autoencoder' == args['generative_model']:\n",
    "    model = SpiralAutoencoderVariationalLoss(filters_enc = args['filter_sizes_enc'],   \n",
    "                                  filters_dec = args['filter_sizes_dec'],\n",
    "                                  latent_size=args['nz'],\n",
    "                                  sizes=sizes,\n",
    "                                  spiral_sizes=spiral_sizes,\n",
    "                                  spirals=tspirals,\n",
    "                                  D=tD, U=tU).to(device)\n",
    " \n",
    "    \n",
    "optim = torch.optim.Adam(model.parameters(),lr=args['lr'],weight_decay=args['regularization'])\n",
    "if args['scheduler']:\n",
    "    scheduler=torch.optim.lr_scheduler.StepLR(optim, args['decay_steps'],gamma=args['decay_rate'])\n",
    "else:\n",
    "    scheduler = None\n",
    "\n",
    "if args['loss']=='l1':\n",
    "    def loss_l1(outputs, targets):\n",
    "        L = torch.abs(outputs - targets).mean()\n",
    "        return L \n",
    "    loss_fn = loss_l1\n",
    "\n",
    "def var_loss_fn(mu, logvar):\n",
    "    var_loss = -0.5 * torch.sum(1 + logvar - mu.pow(2) - logvar.exp())\n",
    "    return var_loss\n",
    "\n"
   ]
  },
  {
   "cell_type": "code",
   "execution_count": 7,
   "metadata": {
    "scrolled": true
   },
   "outputs": [
    {
     "name": "stdout",
     "output_type": "stream",
     "text": [
      "Total number of parameters is: 2480323\n",
      "SpiralAutoencoderVariationalLoss(\n",
      "  (conv): ModuleList(\n",
      "    (0): SpiralConv(\n",
      "      (conv): Linear(in_features=42, out_features=16, bias=True)\n",
      "      (activation): ELU(alpha=1.0)\n",
      "    )\n",
      "    (1): SpiralConv(\n",
      "      (conv): Linear(in_features=208, out_features=32, bias=True)\n",
      "      (activation): ELU(alpha=1.0)\n",
      "    )\n",
      "    (2): SpiralConv(\n",
      "      (conv): Linear(in_features=288, out_features=64, bias=True)\n",
      "      (activation): ELU(alpha=1.0)\n",
      "    )\n",
      "    (3): SpiralConv(\n",
      "      (conv): Linear(in_features=576, out_features=128, bias=True)\n",
      "      (activation): ELU(alpha=1.0)\n",
      "    )\n",
      "  )\n",
      "  (fc_latent_enc_mu): Linear(in_features=5888, out_features=128, bias=True)\n",
      "  (fc_latent_enc_logvar): Linear(in_features=5888, out_features=128, bias=True)\n",
      "  (fc_latent_dec): Linear(in_features=128, out_features=5888, bias=True)\n",
      "  (dconv): ModuleList(\n",
      "    (0): SpiralConv(\n",
      "      (conv): Linear(in_features=1152, out_features=64, bias=True)\n",
      "      (activation): ELU(alpha=1.0)\n",
      "    )\n",
      "    (1): SpiralConv(\n",
      "      (conv): Linear(in_features=576, out_features=32, bias=True)\n",
      "      (activation): ELU(alpha=1.0)\n",
      "    )\n",
      "    (2): SpiralConv(\n",
      "      (conv): Linear(in_features=416, out_features=32, bias=True)\n",
      "      (activation): ELU(alpha=1.0)\n",
      "    )\n",
      "    (3): SpiralConv(\n",
      "      (conv): Linear(in_features=448, out_features=16, bias=True)\n",
      "      (activation): ELU(alpha=1.0)\n",
      "    )\n",
      "    (4): SpiralConv(\n",
      "      (conv): Linear(in_features=224, out_features=3, bias=True)\n",
      "    )\n",
      "  )\n",
      ")\n"
     ]
    }
   ],
   "source": [
    "params = sum(p.numel() for p in model.parameters() if p.requires_grad)\n",
    "print(\"Total number of parameters is: {}\".format(params)) \n",
    "print(model)\n",
    "# print(M[4].v.shape)"
   ]
  },
  {
   "cell_type": "code",
   "execution_count": 8,
   "metadata": {
    "scrolled": false
   },
   "outputs": [
    {
     "name": "stdout",
     "output_type": "stream",
     "text": [
      "loading checkpoint from file /home/jingwang/Data/data/FaceWarehouse/results/spirals_variational_autoencoder/latent_128/checkpoints/real_variational/checkpoint\n"
     ]
    },
    {
     "name": "stderr",
     "output_type": "stream",
     "text": [
      "\r",
      "  0%|          | 0/580 [00:00<?, ?it/s]"
     ]
    },
    {
     "name": "stdout",
     "output_type": "stream",
     "text": [
      "Resuming from epoch 120\n"
     ]
    },
    {
     "name": "stderr",
     "output_type": "stream",
     "text": [
      "100%|██████████| 580/580 [06:04<00:00,  1.59it/s]\n",
      "100%|██████████| 7/7 [00:00<00:00,  7.65it/s]\n"
     ]
    },
    {
     "name": "stdout",
     "output_type": "stream",
     "text": [
      "epoch 120 | tr 0.0935972279644 | val 0.12669129163\n"
     ]
    },
    {
     "name": "stderr",
     "output_type": "stream",
     "text": [
      "100%|██████████| 580/580 [05:56<00:00,  1.63it/s]\n",
      "100%|██████████| 7/7 [00:00<00:00,  8.10it/s]\n"
     ]
    },
    {
     "name": "stdout",
     "output_type": "stream",
     "text": [
      "epoch 121 | tr 0.0913352404175 | val 0.125673815608\n"
     ]
    },
    {
     "name": "stderr",
     "output_type": "stream",
     "text": [
      "100%|██████████| 580/580 [05:55<00:00,  1.63it/s]\n",
      "100%|██████████| 7/7 [00:00<00:00,  8.10it/s]\n"
     ]
    },
    {
     "name": "stdout",
     "output_type": "stream",
     "text": [
      "epoch 122 | tr 0.0901174583826 | val 0.126921301782\n"
     ]
    },
    {
     "name": "stderr",
     "output_type": "stream",
     "text": [
      "100%|██████████| 580/580 [05:55<00:00,  1.63it/s]\n",
      "100%|██████████| 7/7 [00:00<00:00,  8.10it/s]\n"
     ]
    },
    {
     "name": "stdout",
     "output_type": "stream",
     "text": [
      "epoch 123 | tr 0.0893398786927 | val 0.124335560799\n"
     ]
    },
    {
     "name": "stderr",
     "output_type": "stream",
     "text": [
      "100%|██████████| 580/580 [05:55<00:00,  1.63it/s]\n",
      "100%|██████████| 7/7 [00:00<00:00,  8.10it/s]\n"
     ]
    },
    {
     "name": "stdout",
     "output_type": "stream",
     "text": [
      "epoch 124 | tr 0.0892811511868 | val 0.12744318068\n"
     ]
    },
    {
     "name": "stderr",
     "output_type": "stream",
     "text": [
      "100%|██████████| 580/580 [05:55<00:00,  1.64it/s]\n",
      "100%|██████████| 7/7 [00:00<00:00,  8.10it/s]\n"
     ]
    },
    {
     "name": "stdout",
     "output_type": "stream",
     "text": [
      "epoch 125 | tr 0.0884004267768 | val 0.126046479046\n"
     ]
    },
    {
     "name": "stderr",
     "output_type": "stream",
     "text": [
      "100%|██████████| 580/580 [05:55<00:00,  1.63it/s]\n",
      "100%|██████████| 7/7 [00:00<00:00,  8.10it/s]\n"
     ]
    },
    {
     "name": "stdout",
     "output_type": "stream",
     "text": [
      "epoch 126 | tr 0.0882731916447 | val 0.127746262252\n"
     ]
    },
    {
     "name": "stderr",
     "output_type": "stream",
     "text": [
      "100%|██████████| 580/580 [05:55<00:00,  1.63it/s]\n",
      "100%|██████████| 7/7 [00:00<00:00,  8.10it/s]\n"
     ]
    },
    {
     "name": "stdout",
     "output_type": "stream",
     "text": [
      "epoch 127 | tr 0.0877273355707 | val 0.128338495195\n"
     ]
    },
    {
     "name": "stderr",
     "output_type": "stream",
     "text": [
      "100%|██████████| 580/580 [05:55<00:00,  1.63it/s]\n",
      "100%|██████████| 7/7 [00:00<00:00,  8.10it/s]\n"
     ]
    },
    {
     "name": "stdout",
     "output_type": "stream",
     "text": [
      "epoch 128 | tr 0.087765673381 | val 0.126531115174\n"
     ]
    },
    {
     "name": "stderr",
     "output_type": "stream",
     "text": [
      "100%|██████████| 580/580 [05:55<00:00,  1.63it/s]\n",
      "100%|██████████| 7/7 [00:00<00:00,  8.10it/s]\n"
     ]
    },
    {
     "name": "stdout",
     "output_type": "stream",
     "text": [
      "epoch 129 | tr 0.0871206572087 | val 0.124528908432\n"
     ]
    },
    {
     "name": "stderr",
     "output_type": "stream",
     "text": [
      "100%|██████████| 580/580 [05:55<00:00,  1.63it/s]\n",
      "100%|██████████| 7/7 [00:00<00:00,  8.10it/s]\n"
     ]
    },
    {
     "name": "stdout",
     "output_type": "stream",
     "text": [
      "epoch 130 | tr 0.086957635692 | val 0.126261770427\n"
     ]
    },
    {
     "name": "stderr",
     "output_type": "stream",
     "text": [
      "100%|██████████| 580/580 [05:55<00:00,  1.63it/s]\n",
      "100%|██████████| 7/7 [00:00<00:00,  8.10it/s]\n"
     ]
    },
    {
     "name": "stdout",
     "output_type": "stream",
     "text": [
      "epoch 131 | tr 0.0865166120488 | val 0.12572383821\n"
     ]
    },
    {
     "name": "stderr",
     "output_type": "stream",
     "text": [
      "100%|██████████| 580/580 [05:55<00:00,  1.63it/s]\n",
      "100%|██████████| 7/7 [00:00<00:00,  8.10it/s]\n"
     ]
    },
    {
     "name": "stdout",
     "output_type": "stream",
     "text": [
      "epoch 132 | tr 0.0864467153261 | val 0.12890542984\n"
     ]
    },
    {
     "name": "stderr",
     "output_type": "stream",
     "text": [
      "100%|██████████| 580/580 [05:55<00:00,  1.63it/s]\n",
      "100%|██████████| 7/7 [00:00<00:00,  8.10it/s]\n"
     ]
    },
    {
     "name": "stdout",
     "output_type": "stream",
     "text": [
      "epoch 133 | tr 0.0862603593489 | val 0.124186766744\n"
     ]
    },
    {
     "name": "stderr",
     "output_type": "stream",
     "text": [
      "100%|██████████| 580/580 [05:55<00:00,  1.63it/s]\n",
      "100%|██████████| 7/7 [00:00<00:00,  8.10it/s]\n"
     ]
    },
    {
     "name": "stdout",
     "output_type": "stream",
     "text": [
      "epoch 134 | tr 0.085896241819 | val 0.127513096929\n"
     ]
    },
    {
     "name": "stderr",
     "output_type": "stream",
     "text": [
      "100%|██████████| 580/580 [05:55<00:00,  1.63it/s]\n",
      "100%|██████████| 7/7 [00:00<00:00,  8.09it/s]\n"
     ]
    },
    {
     "name": "stdout",
     "output_type": "stream",
     "text": [
      "epoch 135 | tr 0.086112780201 | val 0.126776534319\n"
     ]
    },
    {
     "name": "stderr",
     "output_type": "stream",
     "text": [
      "100%|██████████| 580/580 [05:55<00:00,  1.63it/s]\n",
      "100%|██████████| 7/7 [00:00<00:00,  8.10it/s]\n"
     ]
    },
    {
     "name": "stdout",
     "output_type": "stream",
     "text": [
      "epoch 136 | tr 0.0854330744723 | val 0.125587154329\n"
     ]
    },
    {
     "name": "stderr",
     "output_type": "stream",
     "text": [
      "100%|██████████| 580/580 [05:55<00:00,  1.63it/s]\n",
      "100%|██████████| 7/7 [00:00<00:00,  8.10it/s]\n"
     ]
    },
    {
     "name": "stdout",
     "output_type": "stream",
     "text": [
      "epoch 137 | tr 0.0852663879636 | val 0.126974284649\n"
     ]
    },
    {
     "name": "stderr",
     "output_type": "stream",
     "text": [
      "100%|██████████| 580/580 [05:55<00:00,  1.63it/s]\n",
      "100%|██████████| 7/7 [00:00<00:00,  8.10it/s]\n"
     ]
    },
    {
     "name": "stdout",
     "output_type": "stream",
     "text": [
      "epoch 138 | tr 0.0850088105505 | val 0.12556846261\n"
     ]
    },
    {
     "name": "stderr",
     "output_type": "stream",
     "text": [
      "100%|██████████| 580/580 [05:55<00:00,  1.63it/s]\n",
      "100%|██████████| 7/7 [00:00<00:00,  8.10it/s]\n"
     ]
    },
    {
     "name": "stdout",
     "output_type": "stream",
     "text": [
      "epoch 139 | tr 0.0848608441394 | val 0.127779404223\n"
     ]
    },
    {
     "name": "stderr",
     "output_type": "stream",
     "text": [
      "100%|██████████| 580/580 [05:55<00:00,  1.63it/s]\n",
      "100%|██████████| 7/7 [00:00<00:00,  8.10it/s]\n"
     ]
    },
    {
     "name": "stdout",
     "output_type": "stream",
     "text": [
      "epoch 140 | tr 0.084686493591 | val 0.127618067265\n"
     ]
    },
    {
     "name": "stderr",
     "output_type": "stream",
     "text": [
      "100%|██████████| 580/580 [05:55<00:00,  1.63it/s]\n",
      "100%|██████████| 7/7 [00:00<00:00,  8.10it/s]\n"
     ]
    },
    {
     "name": "stdout",
     "output_type": "stream",
     "text": [
      "epoch 141 | tr 0.0847079316732 | val 0.127387380302\n"
     ]
    },
    {
     "name": "stderr",
     "output_type": "stream",
     "text": [
      "100%|██████████| 580/580 [05:55<00:00,  1.63it/s]\n",
      "100%|██████████| 7/7 [00:00<00:00,  8.10it/s]\n"
     ]
    },
    {
     "name": "stdout",
     "output_type": "stream",
     "text": [
      "epoch 142 | tr 0.0842977338181 | val 0.128841271996\n"
     ]
    },
    {
     "name": "stderr",
     "output_type": "stream",
     "text": [
      "100%|██████████| 580/580 [05:55<00:00,  1.63it/s]\n",
      "100%|██████████| 7/7 [00:00<00:00,  8.10it/s]\n"
     ]
    },
    {
     "name": "stdout",
     "output_type": "stream",
     "text": [
      "epoch 143 | tr 0.0838566522917 | val 0.129471877217\n"
     ]
    },
    {
     "name": "stderr",
     "output_type": "stream",
     "text": [
      "100%|██████████| 580/580 [05:55<00:00,  1.63it/s]\n",
      "100%|██████████| 7/7 [00:00<00:00,  8.10it/s]\n"
     ]
    },
    {
     "name": "stdout",
     "output_type": "stream",
     "text": [
      "epoch 144 | tr 0.0843997863988 | val 0.127794386744\n"
     ]
    },
    {
     "name": "stderr",
     "output_type": "stream",
     "text": [
      "100%|██████████| 580/580 [05:55<00:00,  1.63it/s]\n",
      "100%|██████████| 7/7 [00:00<00:00,  8.10it/s]\n"
     ]
    },
    {
     "name": "stdout",
     "output_type": "stream",
     "text": [
      "epoch 145 | tr 0.0838031536932 | val 0.126327231526\n"
     ]
    },
    {
     "name": "stderr",
     "output_type": "stream",
     "text": [
      "100%|██████████| 580/580 [05:55<00:00,  1.63it/s]\n",
      "100%|██████████| 7/7 [00:00<00:00,  8.10it/s]\n"
     ]
    },
    {
     "name": "stdout",
     "output_type": "stream",
     "text": [
      "epoch 146 | tr 0.0836464648488 | val 0.126126395762\n"
     ]
    },
    {
     "name": "stderr",
     "output_type": "stream",
     "text": [
      "100%|██████████| 580/580 [05:55<00:00,  1.63it/s]\n",
      "100%|██████████| 7/7 [00:00<00:00,  8.10it/s]\n"
     ]
    },
    {
     "name": "stdout",
     "output_type": "stream",
     "text": [
      "epoch 147 | tr 0.0834622500015 | val 0.125546510518\n"
     ]
    },
    {
     "name": "stderr",
     "output_type": "stream",
     "text": [
      "100%|██████████| 580/580 [05:55<00:00,  1.63it/s]\n",
      "100%|██████████| 7/7 [00:00<00:00,  8.10it/s]\n"
     ]
    },
    {
     "name": "stdout",
     "output_type": "stream",
     "text": [
      "epoch 148 | tr 0.0833791050803 | val 0.128741071224\n"
     ]
    },
    {
     "name": "stderr",
     "output_type": "stream",
     "text": [
      "100%|██████████| 580/580 [05:55<00:00,  1.63it/s]\n",
      "100%|██████████| 7/7 [00:00<00:00,  8.10it/s]\n"
     ]
    },
    {
     "name": "stdout",
     "output_type": "stream",
     "text": [
      "epoch 149 | tr 0.0830107125486 | val 0.128401395679\n"
     ]
    },
    {
     "name": "stderr",
     "output_type": "stream",
     "text": [
      "100%|██████████| 580/580 [05:55<00:00,  1.63it/s]\n",
      "100%|██████████| 7/7 [00:00<00:00,  8.10it/s]\n"
     ]
    },
    {
     "name": "stdout",
     "output_type": "stream",
     "text": [
      "epoch 150 | tr 0.0827607629756 | val 0.126347078681\n"
     ]
    },
    {
     "name": "stderr",
     "output_type": "stream",
     "text": [
      "100%|██████████| 580/580 [05:55<00:00,  1.63it/s]\n",
      "100%|██████████| 7/7 [00:00<00:00,  8.10it/s]\n"
     ]
    },
    {
     "name": "stdout",
     "output_type": "stream",
     "text": [
      "epoch 151 | tr 0.0826669955048 | val 0.127203900516\n"
     ]
    },
    {
     "name": "stderr",
     "output_type": "stream",
     "text": [
      "100%|██████████| 580/580 [05:55<00:00,  1.63it/s]\n",
      "100%|██████████| 7/7 [00:00<00:00,  8.10it/s]\n"
     ]
    },
    {
     "name": "stdout",
     "output_type": "stream",
     "text": [
      "epoch 152 | tr 0.0828287194387 | val 0.129330022037\n"
     ]
    },
    {
     "name": "stderr",
     "output_type": "stream",
     "text": [
      "100%|██████████| 580/580 [05:55<00:00,  1.63it/s]\n",
      "100%|██████████| 7/7 [00:00<00:00,  8.10it/s]\n"
     ]
    },
    {
     "name": "stdout",
     "output_type": "stream",
     "text": [
      "epoch 153 | tr 0.0827080810121 | val 0.131046710908\n"
     ]
    },
    {
     "name": "stderr",
     "output_type": "stream",
     "text": [
      "100%|██████████| 580/580 [05:55<00:00,  1.64it/s]\n",
      "100%|██████████| 7/7 [00:00<00:00,  8.10it/s]\n"
     ]
    },
    {
     "name": "stdout",
     "output_type": "stream",
     "text": [
      "epoch 154 | tr 0.082114789378 | val 0.125595413148\n"
     ]
    },
    {
     "name": "stderr",
     "output_type": "stream",
     "text": [
      "100%|██████████| 580/580 [05:55<00:00,  1.63it/s]\n",
      "100%|██████████| 7/7 [00:00<00:00,  8.10it/s]\n"
     ]
    },
    {
     "name": "stdout",
     "output_type": "stream",
     "text": [
      "epoch 155 | tr 0.0821181095109 | val 0.129833897352\n"
     ]
    },
    {
     "name": "stderr",
     "output_type": "stream",
     "text": [
      "100%|██████████| 580/580 [05:55<00:00,  1.63it/s]\n",
      "100%|██████████| 7/7 [00:00<00:00,  8.10it/s]\n"
     ]
    },
    {
     "name": "stdout",
     "output_type": "stream",
     "text": [
      "epoch 156 | tr 0.0822378508875 | val 0.126279719174\n"
     ]
    },
    {
     "name": "stderr",
     "output_type": "stream",
     "text": [
      "100%|██████████| 580/580 [05:55<00:00,  1.63it/s]\n",
      "100%|██████████| 7/7 [00:00<00:00,  8.10it/s]\n"
     ]
    },
    {
     "name": "stdout",
     "output_type": "stream",
     "text": [
      "epoch 157 | tr 0.0817456749878 | val 0.12827134639\n"
     ]
    },
    {
     "name": "stderr",
     "output_type": "stream",
     "text": [
      "100%|██████████| 580/580 [05:55<00:00,  1.63it/s]\n",
      "100%|██████████| 7/7 [00:00<00:00,  8.10it/s]\n"
     ]
    },
    {
     "name": "stdout",
     "output_type": "stream",
     "text": [
      "epoch 158 | tr 0.0817082302838 | val 0.126649749875\n"
     ]
    },
    {
     "name": "stderr",
     "output_type": "stream",
     "text": [
      "100%|██████████| 580/580 [05:55<00:00,  1.63it/s]\n",
      "100%|██████████| 7/7 [00:00<00:00,  8.10it/s]\n"
     ]
    },
    {
     "name": "stdout",
     "output_type": "stream",
     "text": [
      "epoch 159 | tr 0.0817975445811 | val 0.12727527082\n"
     ]
    },
    {
     "name": "stderr",
     "output_type": "stream",
     "text": [
      "100%|██████████| 580/580 [05:55<00:00,  1.63it/s]\n",
      "100%|██████████| 7/7 [00:00<00:00,  8.11it/s]\n"
     ]
    },
    {
     "name": "stdout",
     "output_type": "stream",
     "text": [
      "epoch 160 | tr 0.0813754815994 | val 0.128032041788\n"
     ]
    },
    {
     "name": "stderr",
     "output_type": "stream",
     "text": [
      "100%|██████████| 580/580 [05:55<00:00,  1.63it/s]\n",
      "100%|██████████| 7/7 [00:00<00:00,  8.10it/s]\n"
     ]
    },
    {
     "name": "stdout",
     "output_type": "stream",
     "text": [
      "epoch 161 | tr 0.0813587938275 | val 0.12840057224\n"
     ]
    },
    {
     "name": "stderr",
     "output_type": "stream",
     "text": [
      "100%|██████████| 580/580 [05:55<00:00,  1.63it/s]\n",
      "100%|██████████| 7/7 [00:00<00:00,  8.09it/s]\n"
     ]
    },
    {
     "name": "stdout",
     "output_type": "stream",
     "text": [
      "epoch 162 | tr 0.0813308443874 | val 0.128878329396\n"
     ]
    },
    {
     "name": "stderr",
     "output_type": "stream",
     "text": [
      "100%|██████████| 580/580 [05:55<00:00,  1.63it/s]\n",
      "100%|██████████| 7/7 [00:00<00:00,  8.10it/s]\n"
     ]
    },
    {
     "name": "stdout",
     "output_type": "stream",
     "text": [
      "epoch 163 | tr 0.0811190221459 | val 0.126294587553\n"
     ]
    },
    {
     "name": "stderr",
     "output_type": "stream",
     "text": [
      "100%|██████████| 580/580 [05:55<00:00,  1.63it/s]\n",
      "100%|██████████| 7/7 [00:00<00:00,  8.10it/s]\n"
     ]
    },
    {
     "name": "stdout",
     "output_type": "stream",
     "text": [
      "epoch 164 | tr 0.0806963372205 | val 0.125161167681\n"
     ]
    },
    {
     "name": "stderr",
     "output_type": "stream",
     "text": [
      "100%|██████████| 580/580 [05:55<00:00,  1.63it/s]\n",
      "100%|██████████| 7/7 [00:00<00:00,  8.10it/s]\n"
     ]
    },
    {
     "name": "stdout",
     "output_type": "stream",
     "text": [
      "epoch 165 | tr 0.0808768860353 | val 0.126601489186\n"
     ]
    },
    {
     "name": "stderr",
     "output_type": "stream",
     "text": [
      "100%|██████████| 580/580 [05:55<00:00,  1.63it/s]\n",
      "100%|██████████| 7/7 [00:00<00:00,  8.10it/s]\n"
     ]
    },
    {
     "name": "stdout",
     "output_type": "stream",
     "text": [
      "epoch 166 | tr 0.0806600966459 | val 0.128456626534\n"
     ]
    },
    {
     "name": "stderr",
     "output_type": "stream",
     "text": [
      "100%|██████████| 580/580 [05:55<00:00,  1.63it/s]\n",
      "100%|██████████| 7/7 [00:00<00:00,  8.10it/s]\n"
     ]
    },
    {
     "name": "stdout",
     "output_type": "stream",
     "text": [
      "epoch 167 | tr 0.0807317702164 | val 0.124753981531\n"
     ]
    },
    {
     "name": "stderr",
     "output_type": "stream",
     "text": [
      "100%|██████████| 580/580 [05:55<00:00,  1.63it/s]\n",
      "100%|██████████| 7/7 [00:00<00:00,  8.10it/s]\n"
     ]
    },
    {
     "name": "stdout",
     "output_type": "stream",
     "text": [
      "epoch 168 | tr 0.0805051937057 | val 0.125815992057\n"
     ]
    },
    {
     "name": "stderr",
     "output_type": "stream",
     "text": [
      "100%|██████████| 580/580 [05:55<00:00,  1.63it/s]\n",
      "100%|██████████| 7/7 [00:00<00:00,  8.10it/s]\n"
     ]
    },
    {
     "name": "stdout",
     "output_type": "stream",
     "text": [
      "epoch 169 | tr 0.080312535565 | val 0.125816102922\n"
     ]
    },
    {
     "name": "stderr",
     "output_type": "stream",
     "text": [
      "100%|██████████| 580/580 [05:55<00:00,  1.63it/s]\n",
      "100%|██████████| 7/7 [00:00<00:00,  8.10it/s]\n"
     ]
    },
    {
     "name": "stdout",
     "output_type": "stream",
     "text": [
      "epoch 170 | tr 0.0800865649021 | val 0.126286758482\n"
     ]
    },
    {
     "name": "stderr",
     "output_type": "stream",
     "text": [
      "100%|██████████| 580/580 [05:55<00:00,  1.63it/s]\n",
      "100%|██████████| 7/7 [00:00<00:00,  8.10it/s]\n"
     ]
    },
    {
     "name": "stdout",
     "output_type": "stream",
     "text": [
      "epoch 171 | tr 0.0799387988602 | val 0.128109132648\n"
     ]
    },
    {
     "name": "stderr",
     "output_type": "stream",
     "text": [
      "100%|██████████| 580/580 [05:55<00:00,  1.63it/s]\n",
      "100%|██████████| 7/7 [00:00<00:00,  8.10it/s]\n"
     ]
    },
    {
     "name": "stdout",
     "output_type": "stream",
     "text": [
      "epoch 172 | tr 0.0797663990023 | val 0.125209099054\n"
     ]
    },
    {
     "name": "stderr",
     "output_type": "stream",
     "text": [
      "100%|██████████| 580/580 [05:55<00:00,  1.63it/s]\n",
      "100%|██████████| 7/7 [00:00<00:00,  8.10it/s]\n"
     ]
    },
    {
     "name": "stdout",
     "output_type": "stream",
     "text": [
      "epoch 173 | tr 0.0797497565505 | val 0.12594635874\n"
     ]
    },
    {
     "name": "stderr",
     "output_type": "stream",
     "text": [
      "100%|██████████| 580/580 [05:55<00:00,  1.63it/s]\n",
      "100%|██████████| 7/7 [00:00<00:00,  8.10it/s]\n"
     ]
    },
    {
     "name": "stdout",
     "output_type": "stream",
     "text": [
      "epoch 174 | tr 0.0797028376496 | val 0.12976885736\n"
     ]
    },
    {
     "name": "stderr",
     "output_type": "stream",
     "text": [
      "100%|██████████| 580/580 [05:55<00:00,  1.63it/s]\n",
      "100%|██████████| 7/7 [00:00<00:00,  8.10it/s]\n"
     ]
    },
    {
     "name": "stdout",
     "output_type": "stream",
     "text": [
      "epoch 175 | tr 0.0795872466574 | val 0.126011635959\n"
     ]
    },
    {
     "name": "stderr",
     "output_type": "stream",
     "text": [
      "100%|██████████| 580/580 [05:55<00:00,  1.63it/s]\n",
      "100%|██████████| 7/7 [00:00<00:00,  8.10it/s]\n"
     ]
    },
    {
     "name": "stdout",
     "output_type": "stream",
     "text": [
      "epoch 176 | tr 0.0794586300465 | val 0.12650963366\n"
     ]
    },
    {
     "name": "stderr",
     "output_type": "stream",
     "text": [
      "100%|██████████| 580/580 [05:55<00:00,  1.64it/s]\n",
      "100%|██████████| 7/7 [00:00<00:00,  8.09it/s]\n"
     ]
    },
    {
     "name": "stdout",
     "output_type": "stream",
     "text": [
      "epoch 177 | tr 0.0793565129925 | val 0.12573453635\n"
     ]
    },
    {
     "name": "stderr",
     "output_type": "stream",
     "text": [
      "100%|██████████| 580/580 [05:55<00:00,  1.63it/s]\n",
      "100%|██████████| 7/7 [00:00<00:00,  8.09it/s]\n"
     ]
    },
    {
     "name": "stdout",
     "output_type": "stream",
     "text": [
      "epoch 178 | tr 0.0791845409649 | val 0.128726720512\n"
     ]
    },
    {
     "name": "stderr",
     "output_type": "stream",
     "text": [
      "100%|██████████| 580/580 [05:55<00:00,  1.63it/s]\n",
      "100%|██████████| 7/7 [00:00<00:00,  8.10it/s]\n"
     ]
    },
    {
     "name": "stdout",
     "output_type": "stream",
     "text": [
      "epoch 179 | tr 0.0790446617865 | val 0.124491409659\n"
     ]
    },
    {
     "name": "stderr",
     "output_type": "stream",
     "text": [
      "100%|██████████| 580/580 [05:55<00:00,  1.63it/s]\n",
      "100%|██████████| 7/7 [00:00<00:00,  8.10it/s]\n"
     ]
    },
    {
     "name": "stdout",
     "output_type": "stream",
     "text": [
      "epoch 180 | tr 0.0788213660491 | val 0.127066037357\n"
     ]
    },
    {
     "name": "stderr",
     "output_type": "stream",
     "text": [
      "100%|██████████| 580/580 [05:55<00:00,  1.63it/s]\n",
      "100%|██████████| 7/7 [00:00<00:00,  8.10it/s]\n"
     ]
    },
    {
     "name": "stdout",
     "output_type": "stream",
     "text": [
      "epoch 181 | tr 0.0788670497722 | val 0.126664746106\n"
     ]
    },
    {
     "name": "stderr",
     "output_type": "stream",
     "text": [
      "100%|██████████| 580/580 [05:55<00:00,  1.63it/s]\n",
      "100%|██████████| 7/7 [00:00<00:00,  8.10it/s]\n"
     ]
    },
    {
     "name": "stdout",
     "output_type": "stream",
     "text": [
      "epoch 182 | tr 0.0788414641701 | val 0.126416695714\n"
     ]
    },
    {
     "name": "stderr",
     "output_type": "stream",
     "text": [
      "100%|██████████| 580/580 [05:55<00:00,  1.63it/s]\n",
      "100%|██████████| 7/7 [00:00<00:00,  8.10it/s]\n"
     ]
    },
    {
     "name": "stdout",
     "output_type": "stream",
     "text": [
      "epoch 183 | tr 0.0786496347009 | val 0.125971558988\n"
     ]
    },
    {
     "name": "stderr",
     "output_type": "stream",
     "text": [
      "100%|██████████| 580/580 [05:55<00:00,  1.63it/s]\n",
      "100%|██████████| 7/7 [00:00<00:00,  8.10it/s]\n"
     ]
    },
    {
     "name": "stdout",
     "output_type": "stream",
     "text": [
      "epoch 184 | tr 0.0785685076539 | val 0.12863658309\n"
     ]
    },
    {
     "name": "stderr",
     "output_type": "stream",
     "text": [
      "100%|██████████| 580/580 [05:55<00:00,  1.63it/s]\n",
      "100%|██████████| 7/7 [00:00<00:00,  8.10it/s]\n"
     ]
    },
    {
     "name": "stdout",
     "output_type": "stream",
     "text": [
      "epoch 185 | tr 0.0785346501603 | val 0.127537178993\n"
     ]
    },
    {
     "name": "stderr",
     "output_type": "stream",
     "text": [
      "100%|██████████| 580/580 [05:55<00:00,  1.63it/s]\n",
      "100%|██████████| 7/7 [00:00<00:00,  8.11it/s]\n"
     ]
    },
    {
     "name": "stdout",
     "output_type": "stream",
     "text": [
      "epoch 186 | tr 0.0783074166112 | val 0.125892575979\n"
     ]
    },
    {
     "name": "stderr",
     "output_type": "stream",
     "text": [
      "100%|██████████| 580/580 [05:55<00:00,  1.63it/s]\n",
      "100%|██████████| 7/7 [00:00<00:00,  8.11it/s]\n"
     ]
    },
    {
     "name": "stdout",
     "output_type": "stream",
     "text": [
      "epoch 187 | tr 0.0781448099762 | val 0.125719977617\n"
     ]
    },
    {
     "name": "stderr",
     "output_type": "stream",
     "text": [
      "100%|██████████| 580/580 [05:55<00:00,  1.63it/s]\n",
      "100%|██████████| 7/7 [00:00<00:00,  8.10it/s]\n"
     ]
    },
    {
     "name": "stdout",
     "output_type": "stream",
     "text": [
      "epoch 188 | tr 0.0779699227805 | val 0.125759177208\n"
     ]
    },
    {
     "name": "stderr",
     "output_type": "stream",
     "text": [
      "100%|██████████| 580/580 [05:55<00:00,  1.63it/s]\n",
      "100%|██████████| 7/7 [00:00<00:00,  8.11it/s]\n"
     ]
    },
    {
     "name": "stdout",
     "output_type": "stream",
     "text": [
      "epoch 189 | tr 0.0779712836804 | val 0.128553471863\n"
     ]
    },
    {
     "name": "stderr",
     "output_type": "stream",
     "text": [
      "100%|██████████| 580/580 [05:55<00:00,  1.63it/s]\n",
      "100%|██████████| 7/7 [00:00<00:00,  8.10it/s]\n"
     ]
    },
    {
     "name": "stdout",
     "output_type": "stream",
     "text": [
      "epoch 190 | tr 0.0777741661103 | val 0.125525082946\n"
     ]
    },
    {
     "name": "stderr",
     "output_type": "stream",
     "text": [
      "100%|██████████| 580/580 [05:55<00:00,  1.63it/s]\n",
      "100%|██████████| 7/7 [00:00<00:00,  8.10it/s]\n"
     ]
    },
    {
     "name": "stdout",
     "output_type": "stream",
     "text": [
      "epoch 191 | tr 0.0779059798553 | val 0.127822740674\n"
     ]
    },
    {
     "name": "stderr",
     "output_type": "stream",
     "text": [
      "100%|██████████| 580/580 [05:55<00:00,  1.63it/s]\n",
      "100%|██████████| 7/7 [00:00<00:00,  8.10it/s]\n"
     ]
    },
    {
     "name": "stdout",
     "output_type": "stream",
     "text": [
      "epoch 192 | tr 0.0777264970772 | val 0.128249840736\n"
     ]
    },
    {
     "name": "stderr",
     "output_type": "stream",
     "text": [
      "100%|██████████| 580/580 [05:55<00:00,  1.63it/s]\n",
      "100%|██████████| 7/7 [00:00<00:00,  8.10it/s]\n"
     ]
    },
    {
     "name": "stdout",
     "output_type": "stream",
     "text": [
      "epoch 193 | tr 0.0774533278983 | val 0.127113197446\n"
     ]
    },
    {
     "name": "stderr",
     "output_type": "stream",
     "text": [
      "100%|██████████| 580/580 [05:55<00:00,  1.63it/s]\n",
      "100%|██████████| 7/7 [00:00<00:00,  8.10it/s]\n"
     ]
    },
    {
     "name": "stdout",
     "output_type": "stream",
     "text": [
      "epoch 194 | tr 0.0773858966755 | val 0.12731711328\n"
     ]
    },
    {
     "name": "stderr",
     "output_type": "stream",
     "text": [
      "100%|██████████| 580/580 [05:55<00:00,  1.63it/s]\n",
      "100%|██████████| 7/7 [00:00<00:00,  8.10it/s]\n"
     ]
    },
    {
     "name": "stdout",
     "output_type": "stream",
     "text": [
      "epoch 195 | tr 0.0774635881314 | val 0.126749370098\n"
     ]
    },
    {
     "name": "stderr",
     "output_type": "stream",
     "text": [
      "100%|██████████| 580/580 [05:55<00:00,  1.63it/s]\n",
      "100%|██████████| 7/7 [00:00<00:00,  8.10it/s]\n"
     ]
    },
    {
     "name": "stdout",
     "output_type": "stream",
     "text": [
      "epoch 196 | tr 0.0772142034281 | val 0.126965379119\n"
     ]
    },
    {
     "name": "stderr",
     "output_type": "stream",
     "text": [
      "100%|██████████| 580/580 [05:55<00:00,  1.63it/s]\n",
      "100%|██████████| 7/7 [00:00<00:00,  8.10it/s]\n"
     ]
    },
    {
     "name": "stdout",
     "output_type": "stream",
     "text": [
      "epoch 197 | tr 0.0771785249099 | val 0.126899375021\n"
     ]
    },
    {
     "name": "stderr",
     "output_type": "stream",
     "text": [
      "100%|██████████| 580/580 [05:55<00:00,  1.63it/s]\n",
      "100%|██████████| 7/7 [00:00<00:00,  8.10it/s]\n"
     ]
    },
    {
     "name": "stdout",
     "output_type": "stream",
     "text": [
      "epoch 198 | tr 0.0769879036037 | val 0.126757373214\n"
     ]
    },
    {
     "name": "stderr",
     "output_type": "stream",
     "text": [
      "100%|██████████| 580/580 [05:55<00:00,  1.63it/s]\n",
      "100%|██████████| 7/7 [00:00<00:00,  8.10it/s]\n"
     ]
    },
    {
     "name": "stdout",
     "output_type": "stream",
     "text": [
      "epoch 199 | tr 0.0770588014275 | val 0.127516851425\n"
     ]
    },
    {
     "name": "stderr",
     "output_type": "stream",
     "text": [
      "100%|██████████| 580/580 [05:55<00:00,  1.63it/s]\n",
      "100%|██████████| 7/7 [00:00<00:00,  8.10it/s]\n"
     ]
    },
    {
     "name": "stdout",
     "output_type": "stream",
     "text": [
      "epoch 200 | tr 0.0770271060153 | val 0.126788114607\n"
     ]
    },
    {
     "name": "stderr",
     "output_type": "stream",
     "text": [
      "100%|██████████| 580/580 [05:55<00:00,  1.63it/s]\n",
      "100%|██████████| 7/7 [00:00<00:00,  8.10it/s]\n"
     ]
    },
    {
     "name": "stdout",
     "output_type": "stream",
     "text": [
      "epoch 201 | tr 0.0768473504175 | val 0.126611439586\n"
     ]
    },
    {
     "name": "stderr",
     "output_type": "stream",
     "text": [
      "100%|██████████| 580/580 [05:55<00:00,  1.63it/s]\n",
      "100%|██████████| 7/7 [00:00<00:00,  8.10it/s]\n"
     ]
    },
    {
     "name": "stdout",
     "output_type": "stream",
     "text": [
      "epoch 202 | tr 0.0767409796216 | val 0.128273918927\n"
     ]
    },
    {
     "name": "stderr",
     "output_type": "stream",
     "text": [
      "100%|██████████| 580/580 [05:55<00:00,  1.63it/s]\n",
      "100%|██████████| 7/7 [00:00<00:00,  8.10it/s]\n"
     ]
    },
    {
     "name": "stdout",
     "output_type": "stream",
     "text": [
      "epoch 203 | tr 0.0765146295701 | val 0.126559756398\n"
     ]
    },
    {
     "name": "stderr",
     "output_type": "stream",
     "text": [
      "100%|██████████| 580/580 [05:55<00:00,  1.63it/s]\n",
      "100%|██████████| 7/7 [00:00<00:00,  8.10it/s]\n"
     ]
    },
    {
     "name": "stdout",
     "output_type": "stream",
     "text": [
      "epoch 204 | tr 0.0765438966582 | val 0.126051509678\n"
     ]
    },
    {
     "name": "stderr",
     "output_type": "stream",
     "text": [
      "100%|██████████| 580/580 [05:55<00:00,  1.63it/s]\n",
      "100%|██████████| 7/7 [00:00<00:00,  8.10it/s]\n"
     ]
    },
    {
     "name": "stdout",
     "output_type": "stream",
     "text": [
      "epoch 205 | tr 0.076446434393 | val 0.126202525496\n"
     ]
    },
    {
     "name": "stderr",
     "output_type": "stream",
     "text": [
      "100%|██████████| 580/580 [05:55<00:00,  1.63it/s]\n",
      "100%|██████████| 7/7 [00:00<00:00,  8.10it/s]\n"
     ]
    },
    {
     "name": "stdout",
     "output_type": "stream",
     "text": [
      "epoch 206 | tr 0.0764046294679 | val 0.126996386945\n"
     ]
    },
    {
     "name": "stderr",
     "output_type": "stream",
     "text": [
      "100%|██████████| 580/580 [05:55<00:00,  1.63it/s]\n",
      "100%|██████████| 7/7 [00:00<00:00,  8.10it/s]\n"
     ]
    },
    {
     "name": "stdout",
     "output_type": "stream",
     "text": [
      "epoch 207 | tr 0.0762459460903 | val 0.125927505791\n"
     ]
    },
    {
     "name": "stderr",
     "output_type": "stream",
     "text": [
      "100%|██████████| 580/580 [05:55<00:00,  1.63it/s]\n",
      "100%|██████████| 7/7 [00:00<00:00,  8.10it/s]\n"
     ]
    },
    {
     "name": "stdout",
     "output_type": "stream",
     "text": [
      "epoch 208 | tr 0.0762136175972 | val 0.127116561234\n"
     ]
    },
    {
     "name": "stderr",
     "output_type": "stream",
     "text": [
      "100%|██████████| 580/580 [05:55<00:00,  1.63it/s]\n",
      "100%|██████████| 7/7 [00:00<00:00,  8.10it/s]\n"
     ]
    },
    {
     "name": "stdout",
     "output_type": "stream",
     "text": [
      "epoch 209 | tr 0.076121080898 | val 0.125459685922\n"
     ]
    },
    {
     "name": "stderr",
     "output_type": "stream",
     "text": [
      "100%|██████████| 580/580 [05:55<00:00,  1.63it/s]\n",
      "100%|██████████| 7/7 [00:00<00:00,  8.10it/s]\n"
     ]
    },
    {
     "name": "stdout",
     "output_type": "stream",
     "text": [
      "epoch 210 | tr 0.0760457974056 | val 0.124879873097\n"
     ]
    },
    {
     "name": "stderr",
     "output_type": "stream",
     "text": [
      "100%|██████████| 580/580 [05:55<00:00,  1.64it/s]\n",
      "100%|██████████| 7/7 [00:00<00:00,  8.10it/s]\n"
     ]
    },
    {
     "name": "stdout",
     "output_type": "stream",
     "text": [
      "epoch 211 | tr 0.0759236869242 | val 0.125811567307\n"
     ]
    },
    {
     "name": "stderr",
     "output_type": "stream",
     "text": [
      "100%|██████████| 580/580 [05:55<00:00,  1.62it/s]\n",
      "100%|██████████| 7/7 [00:00<00:00,  8.10it/s]\n"
     ]
    },
    {
     "name": "stdout",
     "output_type": "stream",
     "text": [
      "epoch 212 | tr 0.075852663404 | val 0.12544067502\n"
     ]
    },
    {
     "name": "stderr",
     "output_type": "stream",
     "text": [
      "100%|██████████| 580/580 [05:55<00:00,  1.64it/s]\n",
      "100%|██████████| 7/7 [00:00<00:00,  8.10it/s]\n"
     ]
    },
    {
     "name": "stdout",
     "output_type": "stream",
     "text": [
      "epoch 213 | tr 0.075808577779 | val 0.126500205696\n"
     ]
    },
    {
     "name": "stderr",
     "output_type": "stream",
     "text": [
      "100%|██████████| 580/580 [05:55<00:00,  1.63it/s]\n",
      "100%|██████████| 7/7 [00:00<00:00,  8.10it/s]\n"
     ]
    },
    {
     "name": "stdout",
     "output_type": "stream",
     "text": [
      "epoch 214 | tr 0.0757291557588 | val 0.124770555496\n"
     ]
    },
    {
     "name": "stderr",
     "output_type": "stream",
     "text": [
      "100%|██████████| 580/580 [05:55<00:00,  1.64it/s]\n",
      "100%|██████████| 7/7 [00:00<00:00,  8.10it/s]\n"
     ]
    },
    {
     "name": "stdout",
     "output_type": "stream",
     "text": [
      "epoch 215 | tr 0.0755793549377 | val 0.125991169214\n"
     ]
    },
    {
     "name": "stderr",
     "output_type": "stream",
     "text": [
      "100%|██████████| 580/580 [05:55<00:00,  1.63it/s]\n",
      "100%|██████████| 7/7 [00:00<00:00,  8.10it/s]\n"
     ]
    },
    {
     "name": "stdout",
     "output_type": "stream",
     "text": [
      "epoch 216 | tr 0.0755357187884 | val 0.12667963028\n"
     ]
    },
    {
     "name": "stderr",
     "output_type": "stream",
     "text": [
      "100%|██████████| 580/580 [05:55<00:00,  1.63it/s]\n",
      "100%|██████████| 7/7 [00:00<00:00,  8.10it/s]\n"
     ]
    },
    {
     "name": "stdout",
     "output_type": "stream",
     "text": [
      "epoch 217 | tr 0.0752973137102 | val 0.126486702561\n"
     ]
    },
    {
     "name": "stderr",
     "output_type": "stream",
     "text": [
      "100%|██████████| 580/580 [05:55<00:00,  1.63it/s]\n",
      "100%|██████████| 7/7 [00:00<00:00,  8.10it/s]\n"
     ]
    },
    {
     "name": "stdout",
     "output_type": "stream",
     "text": [
      "epoch 218 | tr 0.0753857966127 | val 0.126406072378\n"
     ]
    },
    {
     "name": "stderr",
     "output_type": "stream",
     "text": [
      "100%|██████████| 580/580 [05:55<00:00,  1.63it/s]\n",
      "100%|██████████| 7/7 [00:00<00:00,  8.09it/s]\n"
     ]
    },
    {
     "name": "stdout",
     "output_type": "stream",
     "text": [
      "epoch 219 | tr 0.075325434899 | val 0.127099686265\n"
     ]
    },
    {
     "name": "stderr",
     "output_type": "stream",
     "text": [
      "100%|██████████| 580/580 [05:55<00:00,  1.64it/s]\n",
      "100%|██████████| 7/7 [00:00<00:00,  8.10it/s]\n"
     ]
    },
    {
     "name": "stdout",
     "output_type": "stream",
     "text": [
      "epoch 220 | tr 0.0752708598329 | val 0.127271085978\n"
     ]
    },
    {
     "name": "stderr",
     "output_type": "stream",
     "text": [
      "100%|██████████| 580/580 [05:55<00:00,  1.63it/s]\n",
      "100%|██████████| 7/7 [00:00<00:00,  8.10it/s]\n"
     ]
    },
    {
     "name": "stdout",
     "output_type": "stream",
     "text": [
      "epoch 221 | tr 0.0750408127262 | val 0.125698310435\n"
     ]
    },
    {
     "name": "stderr",
     "output_type": "stream",
     "text": [
      "100%|██████████| 580/580 [05:55<00:00,  1.63it/s]\n",
      "100%|██████████| 7/7 [00:00<00:00,  8.10it/s]\n"
     ]
    },
    {
     "name": "stdout",
     "output_type": "stream",
     "text": [
      "epoch 222 | tr 0.0750743852864 | val 0.125086376965\n"
     ]
    },
    {
     "name": "stderr",
     "output_type": "stream",
     "text": [
      "100%|██████████| 580/580 [05:55<00:00,  1.63it/s]\n",
      "100%|██████████| 7/7 [00:00<00:00,  8.10it/s]\n"
     ]
    },
    {
     "name": "stdout",
     "output_type": "stream",
     "text": [
      "epoch 223 | tr 0.0749590035014 | val 0.125726017058\n"
     ]
    },
    {
     "name": "stderr",
     "output_type": "stream",
     "text": [
      "100%|██████████| 580/580 [05:55<00:00,  1.63it/s]\n",
      "100%|██████████| 7/7 [00:00<00:00,  8.10it/s]\n"
     ]
    },
    {
     "name": "stdout",
     "output_type": "stream",
     "text": [
      "epoch 224 | tr 0.0748558319334 | val 0.124701615572\n"
     ]
    },
    {
     "name": "stderr",
     "output_type": "stream",
     "text": [
      "100%|██████████| 580/580 [05:55<00:00,  1.63it/s]\n",
      "100%|██████████| 7/7 [00:00<00:00,  8.10it/s]\n"
     ]
    },
    {
     "name": "stdout",
     "output_type": "stream",
     "text": [
      "epoch 225 | tr 0.0748306132981 | val 0.124636489451\n"
     ]
    },
    {
     "name": "stderr",
     "output_type": "stream",
     "text": [
      "100%|██████████| 580/580 [05:55<00:00,  1.63it/s]\n",
      "100%|██████████| 7/7 [00:00<00:00,  8.10it/s]\n"
     ]
    },
    {
     "name": "stdout",
     "output_type": "stream",
     "text": [
      "epoch 226 | tr 0.0747984331743 | val 0.125046389997\n"
     ]
    },
    {
     "name": "stderr",
     "output_type": "stream",
     "text": [
      "100%|██████████| 580/580 [05:55<00:00,  1.63it/s]\n",
      "100%|██████████| 7/7 [00:00<00:00,  8.10it/s]\n"
     ]
    },
    {
     "name": "stdout",
     "output_type": "stream",
     "text": [
      "epoch 227 | tr 0.0746982903958 | val 0.124719335139\n"
     ]
    },
    {
     "name": "stderr",
     "output_type": "stream",
     "text": [
      "100%|██████████| 580/580 [05:55<00:00,  1.63it/s]\n",
      "100%|██████████| 7/7 [00:00<00:00,  8.10it/s]\n"
     ]
    },
    {
     "name": "stdout",
     "output_type": "stream",
     "text": [
      "epoch 228 | tr 0.0745955652975 | val 0.12552313447\n"
     ]
    },
    {
     "name": "stderr",
     "output_type": "stream",
     "text": [
      "100%|██████████| 580/580 [05:55<00:00,  1.63it/s]\n",
      "100%|██████████| 7/7 [00:00<00:00,  8.10it/s]\n"
     ]
    },
    {
     "name": "stdout",
     "output_type": "stream",
     "text": [
      "epoch 229 | tr 0.0745003053726 | val 0.124526467323\n"
     ]
    },
    {
     "name": "stderr",
     "output_type": "stream",
     "text": [
      "100%|██████████| 580/580 [05:55<00:00,  1.63it/s]\n",
      "100%|██████████| 7/7 [00:00<00:00,  8.09it/s]\n"
     ]
    },
    {
     "name": "stdout",
     "output_type": "stream",
     "text": [
      "epoch 230 | tr 0.0743836468535 | val 0.125060845912\n"
     ]
    },
    {
     "name": "stderr",
     "output_type": "stream",
     "text": [
      "100%|██████████| 580/580 [05:55<00:00,  1.63it/s]\n",
      "100%|██████████| 7/7 [00:00<00:00,  8.10it/s]\n"
     ]
    },
    {
     "name": "stdout",
     "output_type": "stream",
     "text": [
      "epoch 231 | tr 0.0744648042809 | val 0.12596981585\n"
     ]
    },
    {
     "name": "stderr",
     "output_type": "stream",
     "text": [
      "100%|██████████| 580/580 [05:55<00:00,  1.63it/s]\n",
      "100%|██████████| 7/7 [00:00<00:00,  8.10it/s]\n"
     ]
    },
    {
     "name": "stdout",
     "output_type": "stream",
     "text": [
      "epoch 232 | tr 0.0743616394827 | val 0.124261137843\n"
     ]
    },
    {
     "name": "stderr",
     "output_type": "stream",
     "text": [
      "100%|██████████| 580/580 [05:55<00:00,  1.63it/s]\n",
      "100%|██████████| 7/7 [00:00<00:00,  8.10it/s]\n"
     ]
    },
    {
     "name": "stdout",
     "output_type": "stream",
     "text": [
      "epoch 233 | tr 0.074268277529 | val 0.124415925145\n"
     ]
    },
    {
     "name": "stderr",
     "output_type": "stream",
     "text": [
      "100%|██████████| 580/580 [05:55<00:00,  1.62it/s]\n",
      "100%|██████████| 7/7 [00:00<00:00,  8.10it/s]\n"
     ]
    },
    {
     "name": "stdout",
     "output_type": "stream",
     "text": [
      "epoch 234 | tr 0.0742325203429 | val 0.124812020063\n"
     ]
    },
    {
     "name": "stderr",
     "output_type": "stream",
     "text": [
      "100%|██████████| 580/580 [05:55<00:00,  1.63it/s]\n",
      "100%|██████████| 7/7 [00:00<00:00,  8.10it/s]\n"
     ]
    },
    {
     "name": "stdout",
     "output_type": "stream",
     "text": [
      "epoch 235 | tr 0.074034720428 | val 0.125182133913\n"
     ]
    },
    {
     "name": "stderr",
     "output_type": "stream",
     "text": [
      "100%|██████████| 580/580 [05:55<00:00,  1.63it/s]\n",
      "100%|██████████| 7/7 [00:00<00:00,  8.10it/s]\n"
     ]
    },
    {
     "name": "stdout",
     "output_type": "stream",
     "text": [
      "epoch 236 | tr 0.0740647334092 | val 0.126199449301\n"
     ]
    },
    {
     "name": "stderr",
     "output_type": "stream",
     "text": [
      "100%|██████████| 580/580 [05:55<00:00,  1.63it/s]\n",
      "100%|██████████| 7/7 [00:00<00:00,  8.10it/s]\n"
     ]
    },
    {
     "name": "stdout",
     "output_type": "stream",
     "text": [
      "epoch 237 | tr 0.0740378779841 | val 0.126683093905\n"
     ]
    },
    {
     "name": "stderr",
     "output_type": "stream",
     "text": [
      "100%|██████████| 580/580 [05:55<00:00,  1.63it/s]\n",
      "100%|██████████| 7/7 [00:00<00:00,  8.10it/s]\n"
     ]
    },
    {
     "name": "stdout",
     "output_type": "stream",
     "text": [
      "epoch 238 | tr 0.0738046930782 | val 0.126140496731\n"
     ]
    },
    {
     "name": "stderr",
     "output_type": "stream",
     "text": [
      "100%|██████████| 580/580 [05:55<00:00,  1.63it/s]\n",
      "100%|██████████| 7/7 [00:00<00:00,  8.10it/s]\n"
     ]
    },
    {
     "name": "stdout",
     "output_type": "stream",
     "text": [
      "epoch 239 | tr 0.0738911519919 | val 0.126868778765\n"
     ]
    },
    {
     "name": "stderr",
     "output_type": "stream",
     "text": [
      "100%|██████████| 580/580 [05:55<00:00,  1.63it/s]\n",
      "100%|██████████| 7/7 [00:00<00:00,  8.10it/s]\n"
     ]
    },
    {
     "name": "stdout",
     "output_type": "stream",
     "text": [
      "epoch 240 | tr 0.0737141460437 | val 0.126441178024\n"
     ]
    },
    {
     "name": "stderr",
     "output_type": "stream",
     "text": [
      "100%|██████████| 580/580 [05:55<00:00,  1.63it/s]\n",
      "100%|██████████| 7/7 [00:00<00:00,  8.10it/s]\n"
     ]
    },
    {
     "name": "stdout",
     "output_type": "stream",
     "text": [
      "epoch 241 | tr 0.0737213368431 | val 0.125625659823\n"
     ]
    },
    {
     "name": "stderr",
     "output_type": "stream",
     "text": [
      "100%|██████████| 580/580 [05:55<00:00,  1.63it/s]\n",
      "100%|██████████| 7/7 [00:00<00:00,  8.10it/s]\n"
     ]
    },
    {
     "name": "stdout",
     "output_type": "stream",
     "text": [
      "epoch 242 | tr 0.0736605254869 | val 0.125148750842\n"
     ]
    },
    {
     "name": "stderr",
     "output_type": "stream",
     "text": [
      "100%|██████████| 580/580 [05:55<00:00,  1.63it/s]\n",
      "100%|██████████| 7/7 [00:00<00:00,  8.10it/s]\n"
     ]
    },
    {
     "name": "stdout",
     "output_type": "stream",
     "text": [
      "epoch 243 | tr 0.0735761712337 | val 0.124772302508\n"
     ]
    },
    {
     "name": "stderr",
     "output_type": "stream",
     "text": [
      "100%|██████████| 580/580 [05:55<00:00,  1.63it/s]\n",
      "100%|██████████| 7/7 [00:00<00:00,  8.10it/s]\n"
     ]
    },
    {
     "name": "stdout",
     "output_type": "stream",
     "text": [
      "epoch 244 | tr 0.0735725524482 | val 0.126012691557\n"
     ]
    },
    {
     "name": "stderr",
     "output_type": "stream",
     "text": [
      "100%|██████████| 580/580 [05:55<00:00,  1.63it/s]\n",
      "100%|██████████| 7/7 [00:00<00:00,  8.10it/s]\n"
     ]
    },
    {
     "name": "stdout",
     "output_type": "stream",
     "text": [
      "epoch 245 | tr 0.0733930674221 | val 0.125349895358\n"
     ]
    },
    {
     "name": "stderr",
     "output_type": "stream",
     "text": [
      "100%|██████████| 580/580 [05:55<00:00,  1.63it/s]\n",
      "100%|██████████| 7/7 [00:00<00:00,  8.10it/s]\n"
     ]
    },
    {
     "name": "stdout",
     "output_type": "stream",
     "text": [
      "epoch 246 | tr 0.0734201940098 | val 0.124251668453\n"
     ]
    },
    {
     "name": "stderr",
     "output_type": "stream",
     "text": [
      "100%|██████████| 580/580 [05:55<00:00,  1.64it/s]\n",
      "100%|██████████| 7/7 [00:00<00:00,  8.10it/s]\n"
     ]
    },
    {
     "name": "stdout",
     "output_type": "stream",
     "text": [
      "epoch 247 | tr 0.0732974079277 | val 0.12510948658\n"
     ]
    },
    {
     "name": "stderr",
     "output_type": "stream",
     "text": [
      "100%|██████████| 580/580 [05:55<00:00,  1.63it/s]\n",
      "100%|██████████| 7/7 [00:00<00:00,  8.11it/s]\n"
     ]
    },
    {
     "name": "stdout",
     "output_type": "stream",
     "text": [
      "epoch 248 | tr 0.0733169900446 | val 0.12582611531\n"
     ]
    },
    {
     "name": "stderr",
     "output_type": "stream",
     "text": [
      "100%|██████████| 580/580 [05:55<00:00,  1.63it/s]\n",
      "100%|██████████| 7/7 [00:00<00:00,  8.09it/s]\n"
     ]
    },
    {
     "name": "stdout",
     "output_type": "stream",
     "text": [
      "epoch 249 | tr 0.0732395557751 | val 0.125025185347\n"
     ]
    },
    {
     "name": "stderr",
     "output_type": "stream",
     "text": [
      "100%|██████████| 580/580 [05:55<00:00,  1.63it/s]\n",
      "100%|██████████| 7/7 [00:00<00:00,  8.10it/s]\n"
     ]
    },
    {
     "name": "stdout",
     "output_type": "stream",
     "text": [
      "epoch 250 | tr 0.0730811616984 | val 0.124700248837\n"
     ]
    },
    {
     "name": "stderr",
     "output_type": "stream",
     "text": [
      "100%|██████████| 580/580 [05:55<00:00,  1.63it/s]\n",
      "100%|██████████| 7/7 [00:00<00:00,  8.10it/s]\n"
     ]
    },
    {
     "name": "stdout",
     "output_type": "stream",
     "text": [
      "epoch 251 | tr 0.0730218694899 | val 0.127046827972\n"
     ]
    },
    {
     "name": "stderr",
     "output_type": "stream",
     "text": [
      "100%|██████████| 580/580 [05:55<00:00,  1.63it/s]\n",
      "100%|██████████| 7/7 [00:00<00:00,  8.10it/s]\n"
     ]
    },
    {
     "name": "stdout",
     "output_type": "stream",
     "text": [
      "epoch 252 | tr 0.0730235268972 | val 0.125921624303\n"
     ]
    },
    {
     "name": "stderr",
     "output_type": "stream",
     "text": [
      "100%|██████████| 580/580 [05:55<00:00,  1.63it/s]\n",
      "100%|██████████| 7/7 [00:00<00:00,  8.10it/s]\n"
     ]
    },
    {
     "name": "stdout",
     "output_type": "stream",
     "text": [
      "epoch 253 | tr 0.0728960785116 | val 0.126529980004\n"
     ]
    },
    {
     "name": "stderr",
     "output_type": "stream",
     "text": [
      "100%|██████████| 580/580 [05:55<00:00,  1.63it/s]\n",
      "100%|██████████| 7/7 [00:00<00:00,  8.10it/s]\n"
     ]
    },
    {
     "name": "stdout",
     "output_type": "stream",
     "text": [
      "epoch 254 | tr 0.0729816787587 | val 0.125391917825\n"
     ]
    },
    {
     "name": "stderr",
     "output_type": "stream",
     "text": [
      "100%|██████████| 580/580 [05:55<00:00,  1.63it/s]\n",
      "100%|██████████| 7/7 [00:00<00:00,  8.10it/s]\n"
     ]
    },
    {
     "name": "stdout",
     "output_type": "stream",
     "text": [
      "epoch 255 | tr 0.0728241158328 | val 0.1262780267\n"
     ]
    },
    {
     "name": "stderr",
     "output_type": "stream",
     "text": [
      "100%|██████████| 580/580 [05:55<00:00,  1.63it/s]\n",
      "100%|██████████| 7/7 [00:00<00:00,  8.10it/s]\n"
     ]
    },
    {
     "name": "stdout",
     "output_type": "stream",
     "text": [
      "epoch 256 | tr 0.072914211619 | val 0.12432972908\n"
     ]
    },
    {
     "name": "stderr",
     "output_type": "stream",
     "text": [
      "100%|██████████| 580/580 [05:55<00:00,  1.63it/s]\n",
      "100%|██████████| 7/7 [00:00<00:00,  8.10it/s]\n"
     ]
    },
    {
     "name": "stdout",
     "output_type": "stream",
     "text": [
      "epoch 257 | tr 0.0727278788028 | val 0.125762955546\n"
     ]
    },
    {
     "name": "stderr",
     "output_type": "stream",
     "text": [
      "100%|██████████| 580/580 [05:55<00:00,  1.63it/s]\n",
      "100%|██████████| 7/7 [00:00<00:00,  8.10it/s]\n"
     ]
    },
    {
     "name": "stdout",
     "output_type": "stream",
     "text": [
      "epoch 258 | tr 0.0726991102356 | val 0.126445642412\n"
     ]
    },
    {
     "name": "stderr",
     "output_type": "stream",
     "text": [
      "100%|██████████| 580/580 [05:55<00:00,  1.63it/s]\n",
      "100%|██████████| 7/7 [00:00<00:00,  8.10it/s]\n"
     ]
    },
    {
     "name": "stdout",
     "output_type": "stream",
     "text": [
      "epoch 259 | tr 0.0726150561124 | val 0.127402655482\n"
     ]
    },
    {
     "name": "stderr",
     "output_type": "stream",
     "text": [
      "100%|██████████| 580/580 [05:55<00:00,  1.63it/s]\n",
      "100%|██████████| 7/7 [00:00<00:00,  8.10it/s]\n"
     ]
    },
    {
     "name": "stdout",
     "output_type": "stream",
     "text": [
      "epoch 260 | tr 0.0725716702383 | val 0.126344363987\n"
     ]
    },
    {
     "name": "stderr",
     "output_type": "stream",
     "text": [
      "100%|██████████| 580/580 [05:55<00:00,  1.63it/s]\n",
      "100%|██████████| 7/7 [00:00<00:00,  8.10it/s]\n"
     ]
    },
    {
     "name": "stdout",
     "output_type": "stream",
     "text": [
      "epoch 261 | tr 0.0725143952359 | val 0.12634203434\n"
     ]
    },
    {
     "name": "stderr",
     "output_type": "stream",
     "text": [
      "100%|██████████| 580/580 [05:55<00:00,  1.63it/s]\n",
      "100%|██████████| 7/7 [00:00<00:00,  8.10it/s]\n"
     ]
    },
    {
     "name": "stdout",
     "output_type": "stream",
     "text": [
      "epoch 262 | tr 0.0724217004946 | val 0.126370007992\n"
     ]
    },
    {
     "name": "stderr",
     "output_type": "stream",
     "text": [
      "100%|██████████| 580/580 [05:55<00:00,  1.64it/s]\n",
      "100%|██████████| 7/7 [00:00<00:00,  8.09it/s]\n"
     ]
    },
    {
     "name": "stdout",
     "output_type": "stream",
     "text": [
      "epoch 263 | tr 0.0724175876071 | val 0.125116153657\n"
     ]
    },
    {
     "name": "stderr",
     "output_type": "stream",
     "text": [
      "100%|██████████| 580/580 [05:55<00:00,  1.63it/s]\n",
      "100%|██████████| 7/7 [00:00<00:00,  8.10it/s]\n"
     ]
    },
    {
     "name": "stdout",
     "output_type": "stream",
     "text": [
      "epoch 264 | tr 0.0723724500501 | val 0.124523094594\n"
     ]
    },
    {
     "name": "stderr",
     "output_type": "stream",
     "text": [
      "100%|██████████| 580/580 [05:55<00:00,  1.63it/s]\n",
      "100%|██████████| 7/7 [00:00<00:00,  8.11it/s]\n"
     ]
    },
    {
     "name": "stdout",
     "output_type": "stream",
     "text": [
      "epoch 265 | tr 0.0722607970109 | val 0.124905199409\n"
     ]
    },
    {
     "name": "stderr",
     "output_type": "stream",
     "text": [
      "100%|██████████| 580/580 [05:55<00:00,  1.63it/s]\n",
      "100%|██████████| 7/7 [00:00<00:00,  8.10it/s]\n"
     ]
    },
    {
     "name": "stdout",
     "output_type": "stream",
     "text": [
      "epoch 266 | tr 0.0722738785862 | val 0.125774158537\n"
     ]
    },
    {
     "name": "stderr",
     "output_type": "stream",
     "text": [
      "100%|██████████| 580/580 [05:55<00:00,  1.63it/s]\n",
      "100%|██████████| 7/7 [00:00<00:00,  8.10it/s]\n"
     ]
    },
    {
     "name": "stdout",
     "output_type": "stream",
     "text": [
      "epoch 267 | tr 0.0722155652426 | val 0.125756448805\n"
     ]
    },
    {
     "name": "stderr",
     "output_type": "stream",
     "text": [
      "100%|██████████| 580/580 [05:55<00:00,  1.63it/s]\n",
      "100%|██████████| 7/7 [00:00<00:00,  8.10it/s]\n"
     ]
    },
    {
     "name": "stdout",
     "output_type": "stream",
     "text": [
      "epoch 268 | tr 0.0721770735265 | val 0.125656427145\n"
     ]
    },
    {
     "name": "stderr",
     "output_type": "stream",
     "text": [
      "100%|██████████| 580/580 [05:55<00:00,  1.64it/s]\n",
      "100%|██████████| 7/7 [00:00<00:00,  8.09it/s]\n"
     ]
    },
    {
     "name": "stdout",
     "output_type": "stream",
     "text": [
      "epoch 269 | tr 0.0721059902089 | val 0.126136979163\n"
     ]
    },
    {
     "name": "stderr",
     "output_type": "stream",
     "text": [
      "100%|██████████| 580/580 [05:55<00:00,  1.63it/s]\n",
      "100%|██████████| 7/7 [00:00<00:00,  8.10it/s]\n"
     ]
    },
    {
     "name": "stdout",
     "output_type": "stream",
     "text": [
      "epoch 270 | tr 0.0720100818523 | val 0.124737569988\n"
     ]
    },
    {
     "name": "stderr",
     "output_type": "stream",
     "text": [
      "100%|██████████| 580/580 [05:55<00:00,  1.63it/s]\n",
      "100%|██████████| 7/7 [00:00<00:00,  8.10it/s]\n"
     ]
    },
    {
     "name": "stdout",
     "output_type": "stream",
     "text": [
      "epoch 271 | tr 0.0720198792245 | val 0.124737045765\n"
     ]
    },
    {
     "name": "stderr",
     "output_type": "stream",
     "text": [
      "100%|██████████| 580/580 [05:55<00:00,  1.63it/s]\n",
      "100%|██████████| 7/7 [00:00<00:00,  8.10it/s]\n"
     ]
    },
    {
     "name": "stdout",
     "output_type": "stream",
     "text": [
      "epoch 272 | tr 0.0719001466344 | val 0.125862728655\n"
     ]
    },
    {
     "name": "stderr",
     "output_type": "stream",
     "text": [
      "100%|██████████| 580/580 [05:55<00:00,  1.63it/s]\n",
      "100%|██████████| 7/7 [00:00<00:00,  8.10it/s]\n"
     ]
    },
    {
     "name": "stdout",
     "output_type": "stream",
     "text": [
      "epoch 273 | tr 0.0718809844862 | val 0.126136627793\n"
     ]
    },
    {
     "name": "stderr",
     "output_type": "stream",
     "text": [
      "100%|██████████| 580/580 [05:55<00:00,  1.63it/s]\n",
      "100%|██████████| 7/7 [00:00<00:00,  8.10it/s]\n"
     ]
    },
    {
     "name": "stdout",
     "output_type": "stream",
     "text": [
      "epoch 274 | tr 0.0719444268479 | val 0.125792791545\n"
     ]
    },
    {
     "name": "stderr",
     "output_type": "stream",
     "text": [
      "100%|██████████| 580/580 [05:55<00:00,  1.63it/s]\n",
      "100%|██████████| 7/7 [00:00<00:00,  8.10it/s]\n"
     ]
    },
    {
     "name": "stdout",
     "output_type": "stream",
     "text": [
      "epoch 275 | tr 0.0717499486074 | val 0.12581820637\n"
     ]
    },
    {
     "name": "stderr",
     "output_type": "stream",
     "text": [
      "100%|██████████| 580/580 [05:55<00:00,  1.63it/s]\n",
      "100%|██████████| 7/7 [00:00<00:00,  8.10it/s]\n"
     ]
    },
    {
     "name": "stdout",
     "output_type": "stream",
     "text": [
      "epoch 276 | tr 0.0717329240693 | val 0.126561007202\n"
     ]
    },
    {
     "name": "stderr",
     "output_type": "stream",
     "text": [
      "100%|██████████| 580/580 [05:55<00:00,  1.63it/s]\n",
      "100%|██████████| 7/7 [00:00<00:00,  8.10it/s]\n"
     ]
    },
    {
     "name": "stdout",
     "output_type": "stream",
     "text": [
      "epoch 277 | tr 0.0717425702846 | val 0.125194103718\n"
     ]
    },
    {
     "name": "stderr",
     "output_type": "stream",
     "text": [
      "100%|██████████| 580/580 [05:55<00:00,  1.63it/s]\n",
      "100%|██████████| 7/7 [00:00<00:00,  8.10it/s]\n"
     ]
    },
    {
     "name": "stdout",
     "output_type": "stream",
     "text": [
      "epoch 278 | tr 0.0716331135225 | val 0.127590142488\n"
     ]
    },
    {
     "name": "stderr",
     "output_type": "stream",
     "text": [
      "100%|██████████| 580/580 [05:55<00:00,  1.63it/s]\n",
      "100%|██████████| 7/7 [00:00<00:00,  8.10it/s]\n"
     ]
    },
    {
     "name": "stdout",
     "output_type": "stream",
     "text": [
      "epoch 279 | tr 0.0715677490907 | val 0.124682282805\n"
     ]
    },
    {
     "name": "stderr",
     "output_type": "stream",
     "text": [
      "100%|██████████| 580/580 [05:55<00:00,  1.63it/s]\n",
      "100%|██████████| 7/7 [00:00<00:00,  8.10it/s]\n"
     ]
    },
    {
     "name": "stdout",
     "output_type": "stream",
     "text": [
      "epoch 280 | tr 0.0715384514681 | val 0.126314548254\n"
     ]
    },
    {
     "name": "stderr",
     "output_type": "stream",
     "text": [
      "100%|██████████| 580/580 [05:55<00:00,  1.63it/s]\n",
      "100%|██████████| 7/7 [00:00<00:00,  8.10it/s]\n"
     ]
    },
    {
     "name": "stdout",
     "output_type": "stream",
     "text": [
      "epoch 281 | tr 0.0715042720709 | val 0.126141423583\n"
     ]
    },
    {
     "name": "stderr",
     "output_type": "stream",
     "text": [
      "100%|██████████| 580/580 [05:55<00:00,  1.63it/s]\n",
      "100%|██████████| 7/7 [00:00<00:00,  8.10it/s]\n"
     ]
    },
    {
     "name": "stdout",
     "output_type": "stream",
     "text": [
      "epoch 282 | tr 0.0714864759867 | val 0.126006202996\n"
     ]
    },
    {
     "name": "stderr",
     "output_type": "stream",
     "text": [
      "100%|██████████| 580/580 [05:55<00:00,  1.63it/s]\n",
      "100%|██████████| 7/7 [00:00<00:00,  8.10it/s]\n"
     ]
    },
    {
     "name": "stdout",
     "output_type": "stream",
     "text": [
      "epoch 283 | tr 0.0713801364575 | val 0.125183651149\n"
     ]
    },
    {
     "name": "stderr",
     "output_type": "stream",
     "text": [
      "100%|██████████| 580/580 [05:55<00:00,  1.62it/s]\n",
      "100%|██████████| 7/7 [00:00<00:00,  8.10it/s]\n"
     ]
    },
    {
     "name": "stdout",
     "output_type": "stream",
     "text": [
      "epoch 284 | tr 0.0713524203876 | val 0.125070055425\n"
     ]
    },
    {
     "name": "stderr",
     "output_type": "stream",
     "text": [
      "100%|██████████| 580/580 [05:55<00:00,  1.63it/s]\n",
      "100%|██████████| 7/7 [00:00<00:00,  8.10it/s]\n"
     ]
    },
    {
     "name": "stdout",
     "output_type": "stream",
     "text": [
      "epoch 285 | tr 0.0712736987862 | val 0.126298620105\n"
     ]
    },
    {
     "name": "stderr",
     "output_type": "stream",
     "text": [
      "100%|██████████| 580/580 [05:55<00:00,  1.63it/s]\n",
      "100%|██████████| 7/7 [00:00<00:00,  8.10it/s]\n"
     ]
    },
    {
     "name": "stdout",
     "output_type": "stream",
     "text": [
      "epoch 286 | tr 0.0713085501487 | val 0.12596480161\n"
     ]
    },
    {
     "name": "stderr",
     "output_type": "stream",
     "text": [
      "100%|██████████| 580/580 [05:55<00:00,  1.63it/s]\n",
      "100%|██████████| 7/7 [00:00<00:00,  8.10it/s]\n"
     ]
    },
    {
     "name": "stdout",
     "output_type": "stream",
     "text": [
      "epoch 287 | tr 0.0712268155967 | val 0.126706005931\n"
     ]
    },
    {
     "name": "stderr",
     "output_type": "stream",
     "text": [
      "100%|██████████| 580/580 [05:55<00:00,  1.63it/s]\n",
      "100%|██████████| 7/7 [00:00<00:00,  8.10it/s]\n"
     ]
    },
    {
     "name": "stdout",
     "output_type": "stream",
     "text": [
      "epoch 288 | tr 0.0711783676826 | val 0.125191653967\n"
     ]
    },
    {
     "name": "stderr",
     "output_type": "stream",
     "text": [
      "100%|██████████| 580/580 [05:55<00:00,  1.64it/s]\n",
      "100%|██████████| 7/7 [00:00<00:00,  8.10it/s]\n"
     ]
    },
    {
     "name": "stdout",
     "output_type": "stream",
     "text": [
      "epoch 289 | tr 0.0711323280144 | val 0.126164340079\n"
     ]
    },
    {
     "name": "stderr",
     "output_type": "stream",
     "text": [
      "100%|██████████| 580/580 [05:55<00:00,  1.63it/s]\n",
      "100%|██████████| 7/7 [00:00<00:00,  8.10it/s]\n"
     ]
    },
    {
     "name": "stdout",
     "output_type": "stream",
     "text": [
      "epoch 290 | tr 0.0710960313292 | val 0.126703008115\n"
     ]
    },
    {
     "name": "stderr",
     "output_type": "stream",
     "text": [
      "100%|██████████| 580/580 [05:55<00:00,  1.64it/s]\n",
      "100%|██████████| 7/7 [00:00<00:00,  8.10it/s]\n"
     ]
    },
    {
     "name": "stdout",
     "output_type": "stream",
     "text": [
      "epoch 291 | tr 0.0710831587299 | val 0.126987924278\n"
     ]
    },
    {
     "name": "stderr",
     "output_type": "stream",
     "text": [
      "100%|██████████| 580/580 [05:55<00:00,  1.63it/s]\n",
      "100%|██████████| 7/7 [00:00<00:00,  8.10it/s]\n"
     ]
    },
    {
     "name": "stdout",
     "output_type": "stream",
     "text": [
      "epoch 292 | tr 0.0710489946835 | val 0.126148284078\n"
     ]
    },
    {
     "name": "stderr",
     "output_type": "stream",
     "text": [
      "100%|██████████| 580/580 [05:55<00:00,  1.63it/s]\n",
      "100%|██████████| 7/7 [00:00<00:00,  8.10it/s]\n"
     ]
    },
    {
     "name": "stdout",
     "output_type": "stream",
     "text": [
      "epoch 293 | tr 0.0709210478412 | val 0.125757313669\n"
     ]
    },
    {
     "name": "stderr",
     "output_type": "stream",
     "text": [
      "100%|██████████| 580/580 [05:55<00:00,  1.64it/s]\n",
      "100%|██████████| 7/7 [00:00<00:00,  8.10it/s]\n"
     ]
    },
    {
     "name": "stdout",
     "output_type": "stream",
     "text": [
      "epoch 294 | tr 0.0709373486967 | val 0.125989741981\n"
     ]
    },
    {
     "name": "stderr",
     "output_type": "stream",
     "text": [
      "100%|██████████| 580/580 [05:55<00:00,  1.63it/s]\n",
      "100%|██████████| 7/7 [00:00<00:00,  8.10it/s]\n"
     ]
    },
    {
     "name": "stdout",
     "output_type": "stream",
     "text": [
      "epoch 295 | tr 0.0709066725625 | val 0.124821308255\n"
     ]
    },
    {
     "name": "stderr",
     "output_type": "stream",
     "text": [
      "100%|██████████| 580/580 [05:55<00:00,  1.63it/s]\n",
      "100%|██████████| 7/7 [00:00<00:00,  8.10it/s]\n"
     ]
    },
    {
     "name": "stdout",
     "output_type": "stream",
     "text": [
      "epoch 296 | tr 0.0708482611796 | val 0.126449755132\n"
     ]
    },
    {
     "name": "stderr",
     "output_type": "stream",
     "text": [
      "100%|██████████| 580/580 [05:55<00:00,  1.63it/s]\n",
      "100%|██████████| 7/7 [00:00<00:00,  8.10it/s]\n"
     ]
    },
    {
     "name": "stdout",
     "output_type": "stream",
     "text": [
      "epoch 297 | tr 0.0708246250219 | val 0.125583043098\n"
     ]
    },
    {
     "name": "stderr",
     "output_type": "stream",
     "text": [
      "100%|██████████| 580/580 [05:55<00:00,  1.63it/s]\n",
      "100%|██████████| 7/7 [00:00<00:00,  8.10it/s]\n"
     ]
    },
    {
     "name": "stdout",
     "output_type": "stream",
     "text": [
      "epoch 298 | tr 0.0707376234105 | val 0.125319937766\n"
     ]
    },
    {
     "name": "stderr",
     "output_type": "stream",
     "text": [
      "100%|██████████| 580/580 [05:55<00:00,  1.63it/s]\n",
      "100%|██████████| 7/7 [00:00<00:00,  8.10it/s]\n"
     ]
    },
    {
     "name": "stdout",
     "output_type": "stream",
     "text": [
      "epoch 299 | tr 0.0707067936787 | val 0.126154121757\n"
     ]
    },
    {
     "name": "stderr",
     "output_type": "stream",
     "text": [
      "100%|██████████| 580/580 [05:55<00:00,  1.63it/s]\n",
      "100%|██████████| 7/7 [00:00<00:00,  8.10it/s]\n"
     ]
    },
    {
     "name": "stdout",
     "output_type": "stream",
     "text": [
      "epoch 300 | tr 0.0707101332473 | val 0.125371993482\n"
     ]
    },
    {
     "name": "stderr",
     "output_type": "stream",
     "text": [
      "100%|██████████| 580/580 [05:55<00:00,  1.63it/s]\n",
      "100%|██████████| 7/7 [00:00<00:00,  8.10it/s]\n"
     ]
    },
    {
     "name": "stdout",
     "output_type": "stream",
     "text": [
      "epoch 301 | tr 0.0706459562198 | val 0.126500203609\n"
     ]
    },
    {
     "name": "stderr",
     "output_type": "stream",
     "text": [
      "100%|██████████| 580/580 [05:55<00:00,  1.63it/s]\n",
      "100%|██████████| 7/7 [00:00<00:00,  8.10it/s]\n"
     ]
    },
    {
     "name": "stdout",
     "output_type": "stream",
     "text": [
      "epoch 302 | tr 0.0705815352114 | val 0.126795408428\n"
     ]
    },
    {
     "name": "stderr",
     "output_type": "stream",
     "text": [
      "100%|██████████| 580/580 [05:55<00:00,  1.63it/s]\n",
      "100%|██████████| 7/7 [00:00<00:00,  8.10it/s]\n"
     ]
    },
    {
     "name": "stdout",
     "output_type": "stream",
     "text": [
      "epoch 303 | tr 0.0706188007547 | val 0.126654640734\n"
     ]
    },
    {
     "name": "stderr",
     "output_type": "stream",
     "text": [
      "100%|██████████| 580/580 [05:55<00:00,  1.63it/s]\n",
      "100%|██████████| 7/7 [00:00<00:00,  8.10it/s]\n"
     ]
    },
    {
     "name": "stdout",
     "output_type": "stream",
     "text": [
      "epoch 304 | tr 0.0705168687321 | val 0.126870725453\n"
     ]
    },
    {
     "name": "stderr",
     "output_type": "stream",
     "text": [
      "100%|██████████| 580/580 [05:55<00:00,  1.63it/s]\n",
      "100%|██████████| 7/7 [00:00<00:00,  8.10it/s]\n"
     ]
    },
    {
     "name": "stdout",
     "output_type": "stream",
     "text": [
      "epoch 305 | tr 0.070499331093 | val 0.125136205256\n"
     ]
    },
    {
     "name": "stderr",
     "output_type": "stream",
     "text": [
      "100%|██████████| 580/580 [05:55<00:00,  1.63it/s]\n",
      "100%|██████████| 7/7 [00:00<00:00,  8.10it/s]\n"
     ]
    },
    {
     "name": "stdout",
     "output_type": "stream",
     "text": [
      "epoch 306 | tr 0.0704839127588 | val 0.125927200913\n"
     ]
    },
    {
     "name": "stderr",
     "output_type": "stream",
     "text": [
      "100%|██████████| 580/580 [05:55<00:00,  1.63it/s]\n",
      "100%|██████████| 7/7 [00:00<00:00,  8.10it/s]\n"
     ]
    },
    {
     "name": "stdout",
     "output_type": "stream",
     "text": [
      "epoch 307 | tr 0.070381807356 | val 0.126062508523\n"
     ]
    },
    {
     "name": "stderr",
     "output_type": "stream",
     "text": [
      "100%|██████████| 580/580 [05:55<00:00,  1.63it/s]\n",
      "100%|██████████| 7/7 [00:00<00:00,  8.10it/s]\n"
     ]
    },
    {
     "name": "stdout",
     "output_type": "stream",
     "text": [
      "epoch 308 | tr 0.0704158423276 | val 0.126422215998\n"
     ]
    },
    {
     "name": "stderr",
     "output_type": "stream",
     "text": [
      "100%|██████████| 580/580 [05:55<00:00,  1.63it/s]\n",
      "100%|██████████| 7/7 [00:00<00:00,  8.10it/s]\n"
     ]
    },
    {
     "name": "stdout",
     "output_type": "stream",
     "text": [
      "epoch 309 | tr 0.0703547338859 | val 0.125470393002\n"
     ]
    },
    {
     "name": "stderr",
     "output_type": "stream",
     "text": [
      "100%|██████████| 580/580 [05:55<00:00,  1.63it/s]\n",
      "100%|██████████| 7/7 [00:00<00:00,  8.10it/s]\n"
     ]
    },
    {
     "name": "stdout",
     "output_type": "stream",
     "text": [
      "epoch 310 | tr 0.0703175487575 | val 0.125587899685\n"
     ]
    },
    {
     "name": "stderr",
     "output_type": "stream",
     "text": [
      "100%|██████████| 580/580 [05:55<00:00,  1.63it/s]\n",
      "100%|██████████| 7/7 [00:00<00:00,  8.10it/s]\n"
     ]
    },
    {
     "name": "stdout",
     "output_type": "stream",
     "text": [
      "epoch 311 | tr 0.0702230943046 | val 0.12566847831\n"
     ]
    },
    {
     "name": "stderr",
     "output_type": "stream",
     "text": [
      "100%|██████████| 580/580 [05:55<00:00,  1.63it/s]\n",
      "100%|██████████| 7/7 [00:00<00:00,  8.10it/s]\n"
     ]
    },
    {
     "name": "stdout",
     "output_type": "stream",
     "text": [
      "epoch 312 | tr 0.0702083020246 | val 0.127161608934\n"
     ]
    },
    {
     "name": "stderr",
     "output_type": "stream",
     "text": [
      "100%|██████████| 580/580 [05:55<00:00,  1.63it/s]\n",
      "100%|██████████| 7/7 [00:00<00:00,  8.10it/s]\n"
     ]
    },
    {
     "name": "stdout",
     "output_type": "stream",
     "text": [
      "epoch 313 | tr 0.0702060948415 | val 0.125264793336\n"
     ]
    },
    {
     "name": "stderr",
     "output_type": "stream",
     "text": [
      "100%|██████████| 580/580 [05:55<00:00,  1.63it/s]\n",
      "100%|██████████| 7/7 [00:00<00:00,  8.10it/s]\n"
     ]
    },
    {
     "name": "stdout",
     "output_type": "stream",
     "text": [
      "epoch 314 | tr 0.0701460674148 | val 0.125821827352\n"
     ]
    },
    {
     "name": "stderr",
     "output_type": "stream",
     "text": [
      "100%|██████████| 580/580 [05:55<00:00,  1.63it/s]\n",
      "100%|██████████| 7/7 [00:00<00:00,  8.10it/s]\n"
     ]
    },
    {
     "name": "stdout",
     "output_type": "stream",
     "text": [
      "epoch 315 | tr 0.0701451830694 | val 0.127538530827\n"
     ]
    },
    {
     "name": "stderr",
     "output_type": "stream",
     "text": [
      "100%|██████████| 580/580 [05:55<00:00,  1.63it/s]\n",
      "100%|██████████| 7/7 [00:00<00:00,  8.09it/s]\n"
     ]
    },
    {
     "name": "stdout",
     "output_type": "stream",
     "text": [
      "epoch 316 | tr 0.0700689092535 | val 0.126152086258\n"
     ]
    },
    {
     "name": "stderr",
     "output_type": "stream",
     "text": [
      "100%|██████████| 580/580 [05:55<00:00,  1.63it/s]\n",
      "100%|██████████| 7/7 [00:00<00:00,  8.10it/s]\n"
     ]
    },
    {
     "name": "stdout",
     "output_type": "stream",
     "text": [
      "epoch 317 | tr 0.0699773145133 | val 0.125601114929\n"
     ]
    },
    {
     "name": "stderr",
     "output_type": "stream",
     "text": [
      "100%|██████████| 580/580 [05:55<00:00,  1.63it/s]\n",
      "100%|██████████| 7/7 [00:00<00:00,  8.10it/s]\n"
     ]
    },
    {
     "name": "stdout",
     "output_type": "stream",
     "text": [
      "epoch 318 | tr 0.0700515101311 | val 0.126463345289\n"
     ]
    },
    {
     "name": "stderr",
     "output_type": "stream",
     "text": [
      "100%|██████████| 580/580 [05:55<00:00,  1.63it/s]\n",
      "100%|██████████| 7/7 [00:00<00:00,  8.11it/s]\n"
     ]
    },
    {
     "name": "stdout",
     "output_type": "stream",
     "text": [
      "epoch 319 | tr 0.0700200240674 | val 0.125347690582\n"
     ]
    },
    {
     "name": "stderr",
     "output_type": "stream",
     "text": [
      "100%|██████████| 580/580 [05:55<00:00,  1.63it/s]\n",
      "100%|██████████| 7/7 [00:00<00:00,  8.10it/s]\n"
     ]
    },
    {
     "name": "stdout",
     "output_type": "stream",
     "text": [
      "epoch 320 | tr 0.0699583492017 | val 0.125313014686\n"
     ]
    },
    {
     "name": "stderr",
     "output_type": "stream",
     "text": [
      "100%|██████████| 580/580 [05:55<00:00,  1.64it/s]\n",
      "100%|██████████| 7/7 [00:00<00:00,  8.10it/s]\n"
     ]
    },
    {
     "name": "stdout",
     "output_type": "stream",
     "text": [
      "epoch 321 | tr 0.0699269647485 | val 0.126739203334\n"
     ]
    },
    {
     "name": "stderr",
     "output_type": "stream",
     "text": [
      "100%|██████████| 580/580 [05:55<00:00,  1.63it/s]\n",
      "100%|██████████| 7/7 [00:00<00:00,  8.10it/s]\n"
     ]
    },
    {
     "name": "stdout",
     "output_type": "stream",
     "text": [
      "epoch 322 | tr 0.0698834715475 | val 0.126257829964\n"
     ]
    },
    {
     "name": "stderr",
     "output_type": "stream",
     "text": [
      "100%|██████████| 580/580 [05:55<00:00,  1.63it/s]\n",
      "100%|██████████| 7/7 [00:00<00:00,  8.11it/s]\n"
     ]
    },
    {
     "name": "stdout",
     "output_type": "stream",
     "text": [
      "epoch 323 | tr 0.0698637931768 | val 0.12575891763\n"
     ]
    },
    {
     "name": "stderr",
     "output_type": "stream",
     "text": [
      "100%|██████████| 580/580 [05:55<00:00,  1.63it/s]\n",
      "100%|██████████| 7/7 [00:00<00:00,  8.10it/s]\n"
     ]
    },
    {
     "name": "stdout",
     "output_type": "stream",
     "text": [
      "epoch 324 | tr 0.0698036185883 | val 0.126274283528\n"
     ]
    },
    {
     "name": "stderr",
     "output_type": "stream",
     "text": [
      "100%|██████████| 580/580 [05:55<00:00,  1.63it/s]\n",
      "100%|██████████| 7/7 [00:00<00:00,  8.10it/s]\n"
     ]
    },
    {
     "name": "stdout",
     "output_type": "stream",
     "text": [
      "epoch 325 | tr 0.0697933421181 | val 0.12672375828\n"
     ]
    },
    {
     "name": "stderr",
     "output_type": "stream",
     "text": [
      "100%|██████████| 580/580 [05:55<00:00,  1.63it/s]\n",
      "100%|██████████| 7/7 [00:00<00:00,  8.10it/s]\n"
     ]
    },
    {
     "name": "stdout",
     "output_type": "stream",
     "text": [
      "epoch 326 | tr 0.0697546898291 | val 0.125805251598\n"
     ]
    },
    {
     "name": "stderr",
     "output_type": "stream",
     "text": [
      "100%|██████████| 580/580 [05:55<00:00,  1.63it/s]\n",
      "100%|██████████| 7/7 [00:00<00:00,  8.10it/s]\n"
     ]
    },
    {
     "name": "stdout",
     "output_type": "stream",
     "text": [
      "epoch 327 | tr 0.0697587345309 | val 0.124800254703\n"
     ]
    },
    {
     "name": "stderr",
     "output_type": "stream",
     "text": [
      "100%|██████████| 580/580 [05:55<00:00,  1.63it/s]\n",
      "100%|██████████| 7/7 [00:00<00:00,  8.10it/s]\n"
     ]
    },
    {
     "name": "stdout",
     "output_type": "stream",
     "text": [
      "epoch 328 | tr 0.0696425692403 | val 0.12661898911\n"
     ]
    },
    {
     "name": "stderr",
     "output_type": "stream",
     "text": [
      "100%|██████████| 580/580 [05:55<00:00,  1.63it/s]\n",
      "100%|██████████| 7/7 [00:00<00:00,  8.10it/s]\n"
     ]
    },
    {
     "name": "stdout",
     "output_type": "stream",
     "text": [
      "epoch 329 | tr 0.0696347154292 | val 0.125929565728\n"
     ]
    },
    {
     "name": "stderr",
     "output_type": "stream",
     "text": [
      "100%|██████████| 580/580 [05:55<00:00,  1.63it/s]\n",
      "100%|██████████| 7/7 [00:00<00:00,  8.10it/s]\n"
     ]
    },
    {
     "name": "stdout",
     "output_type": "stream",
     "text": [
      "epoch 330 | tr 0.0696430529757 | val 0.125633936524\n"
     ]
    },
    {
     "name": "stderr",
     "output_type": "stream",
     "text": [
      "100%|██████████| 580/580 [05:55<00:00,  1.63it/s]\n",
      "100%|██████████| 7/7 [00:00<00:00,  8.10it/s]\n"
     ]
    },
    {
     "name": "stdout",
     "output_type": "stream",
     "text": [
      "epoch 331 | tr 0.0695995225603 | val 0.125830941796\n"
     ]
    },
    {
     "name": "stderr",
     "output_type": "stream",
     "text": [
      "100%|██████████| 580/580 [05:54<00:00,  1.64it/s]\n",
      "100%|██████████| 7/7 [00:00<00:00,  8.10it/s]\n"
     ]
    },
    {
     "name": "stdout",
     "output_type": "stream",
     "text": [
      "epoch 332 | tr 0.0695593301592 | val 0.125192117989\n"
     ]
    },
    {
     "name": "stderr",
     "output_type": "stream",
     "text": [
      "100%|██████████| 580/580 [05:55<00:00,  1.63it/s]\n",
      "100%|██████████| 7/7 [00:00<00:00,  8.11it/s]\n"
     ]
    },
    {
     "name": "stdout",
     "output_type": "stream",
     "text": [
      "epoch 333 | tr 0.0695437350664 | val 0.126333985925\n"
     ]
    },
    {
     "name": "stderr",
     "output_type": "stream",
     "text": [
      "100%|██████████| 580/580 [05:55<00:00,  1.63it/s]\n",
      "100%|██████████| 7/7 [00:00<00:00,  8.10it/s]\n"
     ]
    },
    {
     "name": "stdout",
     "output_type": "stream",
     "text": [
      "epoch 334 | tr 0.0695080683149 | val 0.125679027736\n"
     ]
    },
    {
     "name": "stderr",
     "output_type": "stream",
     "text": [
      "100%|██████████| 580/580 [05:55<00:00,  1.63it/s]\n",
      "100%|██████████| 7/7 [00:00<00:00,  8.10it/s]\n"
     ]
    },
    {
     "name": "stdout",
     "output_type": "stream",
     "text": [
      "epoch 335 | tr 0.0694728460934 | val 0.125698602796\n"
     ]
    },
    {
     "name": "stderr",
     "output_type": "stream",
     "text": [
      "100%|██████████| 580/580 [05:55<00:00,  1.63it/s]\n",
      "100%|██████████| 7/7 [00:00<00:00,  8.10it/s]\n"
     ]
    },
    {
     "name": "stdout",
     "output_type": "stream",
     "text": [
      "epoch 336 | tr 0.0694221386429 | val 0.125385129452\n"
     ]
    },
    {
     "name": "stderr",
     "output_type": "stream",
     "text": [
      "100%|██████████| 580/580 [05:54<00:00,  1.64it/s]\n",
      "100%|██████████| 7/7 [00:00<00:00,  8.10it/s]\n"
     ]
    },
    {
     "name": "stdout",
     "output_type": "stream",
     "text": [
      "epoch 337 | tr 0.0694406057098 | val 0.126262603402\n"
     ]
    },
    {
     "name": "stderr",
     "output_type": "stream",
     "text": [
      "100%|██████████| 580/580 [05:55<00:00,  1.64it/s]\n",
      "100%|██████████| 7/7 [00:00<00:00,  8.10it/s]\n"
     ]
    },
    {
     "name": "stdout",
     "output_type": "stream",
     "text": [
      "epoch 338 | tr 0.0693960348594 | val 0.126050354838\n"
     ]
    },
    {
     "name": "stderr",
     "output_type": "stream",
     "text": [
      "100%|██████████| 580/580 [05:55<00:00,  1.63it/s]\n",
      "100%|██████████| 7/7 [00:00<00:00,  8.10it/s]\n"
     ]
    },
    {
     "name": "stdout",
     "output_type": "stream",
     "text": [
      "epoch 339 | tr 0.0693816938727 | val 0.126323172152\n"
     ]
    },
    {
     "name": "stderr",
     "output_type": "stream",
     "text": [
      "100%|██████████| 580/580 [05:55<00:00,  1.63it/s]\n",
      "100%|██████████| 7/7 [00:00<00:00,  8.10it/s]\n"
     ]
    },
    {
     "name": "stdout",
     "output_type": "stream",
     "text": [
      "epoch 340 | tr 0.0693305124754 | val 0.126411953568\n"
     ]
    },
    {
     "name": "stderr",
     "output_type": "stream",
     "text": [
      "100%|██████████| 580/580 [05:55<00:00,  1.63it/s]\n",
      "100%|██████████| 7/7 [00:00<00:00,  8.10it/s]\n"
     ]
    },
    {
     "name": "stdout",
     "output_type": "stream",
     "text": [
      "epoch 341 | tr 0.0693239208696 | val 0.125804611146\n"
     ]
    },
    {
     "name": "stderr",
     "output_type": "stream",
     "text": [
      "100%|██████████| 580/580 [05:55<00:00,  1.63it/s]\n",
      "100%|██████████| 7/7 [00:00<00:00,  8.10it/s]\n"
     ]
    },
    {
     "name": "stdout",
     "output_type": "stream",
     "text": [
      "epoch 342 | tr 0.0692809742201 | val 0.125997051299\n"
     ]
    },
    {
     "name": "stderr",
     "output_type": "stream",
     "text": [
      "100%|██████████| 580/580 [05:55<00:00,  1.63it/s]\n",
      "100%|██████████| 7/7 [00:00<00:00,  8.10it/s]\n"
     ]
    },
    {
     "name": "stdout",
     "output_type": "stream",
     "text": [
      "epoch 343 | tr 0.0692394615504 | val 0.126697075963\n"
     ]
    },
    {
     "name": "stderr",
     "output_type": "stream",
     "text": [
      "100%|██████████| 580/580 [05:55<00:00,  1.63it/s]\n",
      "100%|██████████| 7/7 [00:00<00:00,  8.10it/s]\n"
     ]
    },
    {
     "name": "stdout",
     "output_type": "stream",
     "text": [
      "epoch 344 | tr 0.0692453726869 | val 0.126810880303\n"
     ]
    },
    {
     "name": "stderr",
     "output_type": "stream",
     "text": [
      "100%|██████████| 580/580 [05:55<00:00,  1.63it/s]\n",
      "100%|██████████| 7/7 [00:00<00:00,  8.11it/s]\n"
     ]
    },
    {
     "name": "stdout",
     "output_type": "stream",
     "text": [
      "epoch 345 | tr 0.0691945655849 | val 0.126045403183\n"
     ]
    },
    {
     "name": "stderr",
     "output_type": "stream",
     "text": [
      "100%|██████████| 580/580 [05:55<00:00,  1.63it/s]\n",
      "100%|██████████| 7/7 [00:00<00:00,  8.10it/s]\n"
     ]
    },
    {
     "name": "stdout",
     "output_type": "stream",
     "text": [
      "epoch 346 | tr 0.0691668771464 | val 0.125955170095\n"
     ]
    },
    {
     "name": "stderr",
     "output_type": "stream",
     "text": [
      "100%|██████████| 580/580 [05:55<00:00,  1.63it/s]\n",
      "100%|██████████| 7/7 [00:00<00:00,  8.10it/s]\n"
     ]
    },
    {
     "name": "stdout",
     "output_type": "stream",
     "text": [
      "epoch 347 | tr 0.0691024605956 | val 0.12588629663\n"
     ]
    },
    {
     "name": "stderr",
     "output_type": "stream",
     "text": [
      "100%|██████████| 580/580 [05:55<00:00,  1.63it/s]\n",
      "100%|██████████| 7/7 [00:00<00:00,  8.10it/s]\n"
     ]
    },
    {
     "name": "stdout",
     "output_type": "stream",
     "text": [
      "epoch 348 | tr 0.0691193533869 | val 0.127104579508\n"
     ]
    },
    {
     "name": "stderr",
     "output_type": "stream",
     "text": [
      "100%|██████████| 580/580 [05:55<00:00,  1.63it/s]\n",
      "100%|██████████| 7/7 [00:00<00:00,  8.10it/s]\n"
     ]
    },
    {
     "name": "stdout",
     "output_type": "stream",
     "text": [
      "epoch 349 | tr 0.0690443966152 | val 0.126450093389\n"
     ]
    },
    {
     "name": "stderr",
     "output_type": "stream",
     "text": [
      "100%|██████████| 580/580 [05:55<00:00,  1.63it/s]\n",
      "100%|██████████| 7/7 [00:00<00:00,  8.10it/s]\n"
     ]
    },
    {
     "name": "stdout",
     "output_type": "stream",
     "text": [
      "epoch 350 | tr 0.069027043712 | val 0.127187848389\n"
     ]
    },
    {
     "name": "stderr",
     "output_type": "stream",
     "text": [
      "100%|██████████| 580/580 [05:55<00:00,  1.63it/s]\n",
      "100%|██████████| 7/7 [00:00<00:00,  8.10it/s]\n"
     ]
    },
    {
     "name": "stdout",
     "output_type": "stream",
     "text": [
      "epoch 351 | tr 0.069013124653 | val 0.126279476881\n"
     ]
    },
    {
     "name": "stderr",
     "output_type": "stream",
     "text": [
      "100%|██████████| 580/580 [05:55<00:00,  1.63it/s]\n",
      "100%|██████████| 7/7 [00:00<00:00,  8.10it/s]\n"
     ]
    },
    {
     "name": "stdout",
     "output_type": "stream",
     "text": [
      "epoch 352 | tr 0.0690317950244 | val 0.126480930448\n"
     ]
    },
    {
     "name": "stderr",
     "output_type": "stream",
     "text": [
      "100%|██████████| 580/580 [05:55<00:00,  1.63it/s]\n",
      "100%|██████████| 7/7 [00:00<00:00,  8.11it/s]\n"
     ]
    },
    {
     "name": "stdout",
     "output_type": "stream",
     "text": [
      "epoch 353 | tr 0.0690345647905 | val 0.126283698678\n"
     ]
    },
    {
     "name": "stderr",
     "output_type": "stream",
     "text": [
      "100%|██████████| 580/580 [05:55<00:00,  1.63it/s]\n",
      "100%|██████████| 7/7 [00:00<00:00,  8.11it/s]\n"
     ]
    },
    {
     "name": "stdout",
     "output_type": "stream",
     "text": [
      "epoch 354 | tr 0.0689865933539 | val 0.127503915727\n"
     ]
    },
    {
     "name": "stderr",
     "output_type": "stream",
     "text": [
      "100%|██████████| 580/580 [05:55<00:00,  1.63it/s]\n",
      "100%|██████████| 7/7 [00:00<00:00,  8.10it/s]\n"
     ]
    },
    {
     "name": "stdout",
     "output_type": "stream",
     "text": [
      "epoch 355 | tr 0.0689316942517 | val 0.126733381152\n"
     ]
    },
    {
     "name": "stderr",
     "output_type": "stream",
     "text": [
      "100%|██████████| 580/580 [05:55<00:00,  1.63it/s]\n",
      "100%|██████████| 7/7 [00:00<00:00,  8.10it/s]\n"
     ]
    },
    {
     "name": "stdout",
     "output_type": "stream",
     "text": [
      "epoch 356 | tr 0.0688434758577 | val 0.127076848149\n"
     ]
    },
    {
     "name": "stderr",
     "output_type": "stream",
     "text": [
      "100%|██████████| 580/580 [05:55<00:00,  1.63it/s]\n",
      "100%|██████████| 7/7 [00:00<00:00,  8.10it/s]\n"
     ]
    },
    {
     "name": "stdout",
     "output_type": "stream",
     "text": [
      "epoch 357 | tr 0.0688898181671 | val 0.126800936162\n"
     ]
    },
    {
     "name": "stderr",
     "output_type": "stream",
     "text": [
      "100%|██████████| 580/580 [05:55<00:00,  1.63it/s]\n",
      "100%|██████████| 7/7 [00:00<00:00,  8.10it/s]\n"
     ]
    },
    {
     "name": "stdout",
     "output_type": "stream",
     "text": [
      "epoch 358 | tr 0.0688960872205 | val 0.126666752398\n"
     ]
    },
    {
     "name": "stderr",
     "output_type": "stream",
     "text": [
      "100%|██████████| 580/580 [05:55<00:00,  1.63it/s]\n",
      "100%|██████████| 7/7 [00:00<00:00,  8.10it/s]\n"
     ]
    },
    {
     "name": "stdout",
     "output_type": "stream",
     "text": [
      "epoch 359 | tr 0.0688140448954 | val 0.126142551005\n"
     ]
    },
    {
     "name": "stderr",
     "output_type": "stream",
     "text": [
      "100%|██████████| 580/580 [05:55<00:00,  1.62it/s]\n",
      "100%|██████████| 7/7 [00:00<00:00,  8.10it/s]\n"
     ]
    },
    {
     "name": "stdout",
     "output_type": "stream",
     "text": [
      "epoch 360 | tr 0.0688281873948 | val 0.126671007872\n"
     ]
    },
    {
     "name": "stderr",
     "output_type": "stream",
     "text": [
      "100%|██████████| 580/580 [05:55<00:00,  1.63it/s]\n",
      "100%|██████████| 7/7 [00:00<00:00,  8.10it/s]\n"
     ]
    },
    {
     "name": "stdout",
     "output_type": "stream",
     "text": [
      "epoch 361 | tr 0.0688350415756 | val 0.127262001336\n"
     ]
    },
    {
     "name": "stderr",
     "output_type": "stream",
     "text": [
      "100%|██████████| 580/580 [05:55<00:00,  1.63it/s]\n",
      "100%|██████████| 7/7 [00:00<00:00,  8.10it/s]\n"
     ]
    },
    {
     "name": "stdout",
     "output_type": "stream",
     "text": [
      "epoch 362 | tr 0.0687573303115 | val 0.126174449027\n"
     ]
    },
    {
     "name": "stderr",
     "output_type": "stream",
     "text": [
      "100%|██████████| 580/580 [05:55<00:00,  1.63it/s]\n",
      "100%|██████████| 7/7 [00:00<00:00,  8.10it/s]\n"
     ]
    },
    {
     "name": "stdout",
     "output_type": "stream",
     "text": [
      "epoch 363 | tr 0.0687404742143 | val 0.127038908303\n"
     ]
    },
    {
     "name": "stderr",
     "output_type": "stream",
     "text": [
      "100%|██████████| 580/580 [05:55<00:00,  1.63it/s]\n",
      "100%|██████████| 7/7 [00:00<00:00,  8.10it/s]\n"
     ]
    },
    {
     "name": "stdout",
     "output_type": "stream",
     "text": [
      "epoch 364 | tr 0.0687065460944 | val 0.126997961104\n"
     ]
    },
    {
     "name": "stderr",
     "output_type": "stream",
     "text": [
      "100%|██████████| 580/580 [05:55<00:00,  1.63it/s]\n",
      "100%|██████████| 7/7 [00:00<00:00,  8.09it/s]\n"
     ]
    },
    {
     "name": "stdout",
     "output_type": "stream",
     "text": [
      "epoch 365 | tr 0.0687047539086 | val 0.125871758759\n"
     ]
    },
    {
     "name": "stderr",
     "output_type": "stream",
     "text": [
      "100%|██████████| 580/580 [05:55<00:00,  1.63it/s]\n",
      "100%|██████████| 7/7 [00:00<00:00,  8.10it/s]\n"
     ]
    },
    {
     "name": "stdout",
     "output_type": "stream",
     "text": [
      "epoch 366 | tr 0.0686947175526 | val 0.126495281458\n"
     ]
    },
    {
     "name": "stderr",
     "output_type": "stream",
     "text": [
      "100%|██████████| 580/580 [05:55<00:00,  1.63it/s]\n",
      "100%|██████████| 7/7 [00:00<00:00,  8.10it/s]\n"
     ]
    },
    {
     "name": "stdout",
     "output_type": "stream",
     "text": [
      "epoch 367 | tr 0.0686546038194 | val 0.126218557954\n"
     ]
    },
    {
     "name": "stderr",
     "output_type": "stream",
     "text": [
      "100%|██████████| 580/580 [05:55<00:00,  1.63it/s]\n",
      "100%|██████████| 7/7 [00:00<00:00,  8.10it/s]\n"
     ]
    },
    {
     "name": "stdout",
     "output_type": "stream",
     "text": [
      "epoch 368 | tr 0.0686531202803 | val 0.125877706707\n"
     ]
    },
    {
     "name": "stderr",
     "output_type": "stream",
     "text": [
      "100%|██████████| 580/580 [05:55<00:00,  1.63it/s]\n",
      "100%|██████████| 7/7 [00:00<00:00,  8.10it/s]\n"
     ]
    },
    {
     "name": "stdout",
     "output_type": "stream",
     "text": [
      "epoch 369 | tr 0.0685773194543 | val 0.127534774244\n"
     ]
    },
    {
     "name": "stderr",
     "output_type": "stream",
     "text": [
      "100%|██████████| 580/580 [05:55<00:00,  1.63it/s]\n",
      "100%|██████████| 7/7 [00:00<00:00,  8.10it/s]\n"
     ]
    },
    {
     "name": "stdout",
     "output_type": "stream",
     "text": [
      "epoch 370 | tr 0.0686110633201 | val 0.126948643327\n"
     ]
    },
    {
     "name": "stderr",
     "output_type": "stream",
     "text": [
      "100%|██████████| 580/580 [05:55<00:00,  1.63it/s]\n",
      "100%|██████████| 7/7 [00:00<00:00,  8.10it/s]\n"
     ]
    },
    {
     "name": "stdout",
     "output_type": "stream",
     "text": [
      "epoch 371 | tr 0.0685607945611 | val 0.126557149291\n"
     ]
    },
    {
     "name": "stderr",
     "output_type": "stream",
     "text": [
      "100%|██████████| 580/580 [05:55<00:00,  1.63it/s]\n",
      "100%|██████████| 7/7 [00:00<00:00,  8.10it/s]\n"
     ]
    },
    {
     "name": "stdout",
     "output_type": "stream",
     "text": [
      "epoch 372 | tr 0.0685569384489 | val 0.126178435981\n"
     ]
    },
    {
     "name": "stderr",
     "output_type": "stream",
     "text": [
      "100%|██████████| 580/580 [05:55<00:00,  1.63it/s]\n",
      "100%|██████████| 7/7 [00:00<00:00,  8.10it/s]\n"
     ]
    },
    {
     "name": "stdout",
     "output_type": "stream",
     "text": [
      "epoch 373 | tr 0.0685177414839 | val 0.126515457034\n"
     ]
    },
    {
     "name": "stderr",
     "output_type": "stream",
     "text": [
      "100%|██████████| 580/580 [05:55<00:00,  1.63it/s]\n",
      "100%|██████████| 7/7 [00:00<00:00,  8.10it/s]\n"
     ]
    },
    {
     "name": "stdout",
     "output_type": "stream",
     "text": [
      "epoch 374 | tr 0.0685279195679 | val 0.126832596362\n"
     ]
    },
    {
     "name": "stderr",
     "output_type": "stream",
     "text": [
      "100%|██████████| 580/580 [05:55<00:00,  1.64it/s]\n",
      "100%|██████████| 7/7 [00:00<00:00,  8.10it/s]\n"
     ]
    },
    {
     "name": "stdout",
     "output_type": "stream",
     "text": [
      "epoch 375 | tr 0.0685137347029 | val 0.12607257545\n"
     ]
    },
    {
     "name": "stderr",
     "output_type": "stream",
     "text": [
      "100%|██████████| 580/580 [05:55<00:00,  1.63it/s]\n",
      "100%|██████████| 7/7 [00:00<00:00,  8.11it/s]\n"
     ]
    },
    {
     "name": "stdout",
     "output_type": "stream",
     "text": [
      "epoch 376 | tr 0.0684640418032 | val 0.127140611112\n"
     ]
    },
    {
     "name": "stderr",
     "output_type": "stream",
     "text": [
      "100%|██████████| 580/580 [05:55<00:00,  1.63it/s]\n",
      "100%|██████████| 7/7 [00:00<00:00,  8.10it/s]\n"
     ]
    },
    {
     "name": "stdout",
     "output_type": "stream",
     "text": [
      "epoch 377 | tr 0.0684257396722 | val 0.126580443382\n"
     ]
    },
    {
     "name": "stderr",
     "output_type": "stream",
     "text": [
      "100%|██████████| 580/580 [05:55<00:00,  1.63it/s]\n",
      "100%|██████████| 7/7 [00:00<00:00,  8.10it/s]\n"
     ]
    },
    {
     "name": "stdout",
     "output_type": "stream",
     "text": [
      "epoch 378 | tr 0.0684299375348 | val 0.126510769427\n"
     ]
    },
    {
     "name": "stderr",
     "output_type": "stream",
     "text": [
      "100%|██████████| 580/580 [05:55<00:00,  1.63it/s]\n",
      "100%|██████████| 7/7 [00:00<00:00,  8.10it/s]\n"
     ]
    },
    {
     "name": "stdout",
     "output_type": "stream",
     "text": [
      "epoch 379 | tr 0.0684062492167 | val 0.126992024481\n"
     ]
    },
    {
     "name": "stderr",
     "output_type": "stream",
     "text": [
      "100%|██████████| 580/580 [05:55<00:00,  1.63it/s]\n",
      "100%|██████████| 7/7 [00:00<00:00,  8.10it/s]\n"
     ]
    },
    {
     "name": "stdout",
     "output_type": "stream",
     "text": [
      "epoch 380 | tr 0.0683664715367 | val 0.126395225823\n"
     ]
    },
    {
     "name": "stderr",
     "output_type": "stream",
     "text": [
      "100%|██████████| 580/580 [05:55<00:00,  1.63it/s]\n",
      "100%|██████████| 7/7 [00:00<00:00,  8.10it/s]\n"
     ]
    },
    {
     "name": "stdout",
     "output_type": "stream",
     "text": [
      "epoch 381 | tr 0.0683590652742 | val 0.127085318267\n"
     ]
    },
    {
     "name": "stderr",
     "output_type": "stream",
     "text": [
      "100%|██████████| 580/580 [05:55<00:00,  1.63it/s]\n",
      "100%|██████████| 7/7 [00:00<00:00,  8.10it/s]\n"
     ]
    },
    {
     "name": "stdout",
     "output_type": "stream",
     "text": [
      "epoch 382 | tr 0.068329817108 | val 0.1264921242\n"
     ]
    },
    {
     "name": "stderr",
     "output_type": "stream",
     "text": [
      "100%|██████████| 580/580 [05:55<00:00,  1.63it/s]\n",
      "100%|██████████| 7/7 [00:00<00:00,  8.10it/s]\n"
     ]
    },
    {
     "name": "stdout",
     "output_type": "stream",
     "text": [
      "epoch 383 | tr 0.0683372716195 | val 0.126560344696\n"
     ]
    },
    {
     "name": "stderr",
     "output_type": "stream",
     "text": [
      "100%|██████████| 580/580 [05:55<00:00,  1.63it/s]\n",
      "100%|██████████| 7/7 [00:00<00:00,  8.10it/s]\n"
     ]
    },
    {
     "name": "stdout",
     "output_type": "stream",
     "text": [
      "epoch 384 | tr 0.0682956174273 | val 0.126943388879\n"
     ]
    },
    {
     "name": "stderr",
     "output_type": "stream",
     "text": [
      "100%|██████████| 580/580 [05:55<00:00,  1.63it/s]\n",
      "100%|██████████| 7/7 [00:00<00:00,  8.10it/s]\n"
     ]
    },
    {
     "name": "stdout",
     "output_type": "stream",
     "text": [
      "epoch 385 | tr 0.068293615649 | val 0.127532443404\n"
     ]
    },
    {
     "name": "stderr",
     "output_type": "stream",
     "text": [
      "100%|██████████| 580/580 [05:55<00:00,  1.64it/s]\n",
      "100%|██████████| 7/7 [00:00<00:00,  8.10it/s]\n"
     ]
    },
    {
     "name": "stdout",
     "output_type": "stream",
     "text": [
      "epoch 386 | tr 0.0682777991647 | val 0.126336897016\n"
     ]
    },
    {
     "name": "stderr",
     "output_type": "stream",
     "text": [
      "100%|██████████| 580/580 [05:55<00:00,  1.63it/s]\n",
      "100%|██████████| 7/7 [00:00<00:00,  8.10it/s]\n"
     ]
    },
    {
     "name": "stdout",
     "output_type": "stream",
     "text": [
      "epoch 387 | tr 0.0682576247973 | val 0.127297624052\n"
     ]
    },
    {
     "name": "stderr",
     "output_type": "stream",
     "text": [
      "100%|██████████| 580/580 [05:55<00:00,  1.63it/s]\n",
      "100%|██████████| 7/7 [00:00<00:00,  8.10it/s]\n"
     ]
    },
    {
     "name": "stdout",
     "output_type": "stream",
     "text": [
      "epoch 388 | tr 0.0682472153599 | val 0.126878826022\n"
     ]
    },
    {
     "name": "stderr",
     "output_type": "stream",
     "text": [
      "100%|██████████| 580/580 [05:55<00:00,  1.63it/s]\n",
      "100%|██████████| 7/7 [00:00<00:00,  8.10it/s]\n"
     ]
    },
    {
     "name": "stdout",
     "output_type": "stream",
     "text": [
      "epoch 389 | tr 0.0682406686953 | val 0.126097805798\n"
     ]
    },
    {
     "name": "stderr",
     "output_type": "stream",
     "text": [
      "100%|██████████| 580/580 [05:55<00:00,  1.63it/s]\n",
      "100%|██████████| 7/7 [00:00<00:00,  8.10it/s]\n"
     ]
    },
    {
     "name": "stdout",
     "output_type": "stream",
     "text": [
      "epoch 390 | tr 0.0681985943803 | val 0.126939208806\n"
     ]
    },
    {
     "name": "stderr",
     "output_type": "stream",
     "text": [
      "100%|██████████| 580/580 [05:55<00:00,  1.63it/s]\n",
      "100%|██████████| 7/7 [00:00<00:00,  8.10it/s]\n"
     ]
    },
    {
     "name": "stdout",
     "output_type": "stream",
     "text": [
      "epoch 391 | tr 0.0681503986297 | val 0.126395356655\n"
     ]
    },
    {
     "name": "stderr",
     "output_type": "stream",
     "text": [
      "100%|██████████| 580/580 [05:55<00:00,  1.63it/s]\n",
      "100%|██████████| 7/7 [00:00<00:00,  8.10it/s]\n"
     ]
    },
    {
     "name": "stdout",
     "output_type": "stream",
     "text": [
      "epoch 392 | tr 0.0681873807362 | val 0.126691091657\n"
     ]
    },
    {
     "name": "stderr",
     "output_type": "stream",
     "text": [
      "100%|██████████| 580/580 [05:55<00:00,  1.63it/s]\n",
      "100%|██████████| 7/7 [00:00<00:00,  8.10it/s]\n"
     ]
    },
    {
     "name": "stdout",
     "output_type": "stream",
     "text": [
      "epoch 393 | tr 0.0681273298081 | val 0.127273091376\n"
     ]
    },
    {
     "name": "stderr",
     "output_type": "stream",
     "text": [
      "100%|██████████| 580/580 [05:55<00:00,  1.63it/s]\n",
      "100%|██████████| 7/7 [00:00<00:00,  8.10it/s]\n"
     ]
    },
    {
     "name": "stdout",
     "output_type": "stream",
     "text": [
      "epoch 394 | tr 0.0681454330875 | val 0.126659329832\n"
     ]
    },
    {
     "name": "stderr",
     "output_type": "stream",
     "text": [
      "100%|██████████| 580/580 [05:55<00:00,  1.63it/s]\n",
      "100%|██████████| 7/7 [00:00<00:00,  8.10it/s]\n"
     ]
    },
    {
     "name": "stdout",
     "output_type": "stream",
     "text": [
      "epoch 395 | tr 0.0680958915759 | val 0.12666795969\n"
     ]
    },
    {
     "name": "stderr",
     "output_type": "stream",
     "text": [
      "100%|██████████| 580/580 [05:55<00:00,  1.63it/s]\n",
      "100%|██████████| 7/7 [00:00<00:00,  8.10it/s]\n"
     ]
    },
    {
     "name": "stdout",
     "output_type": "stream",
     "text": [
      "epoch 396 | tr 0.0680783032343 | val 0.12701872766\n"
     ]
    },
    {
     "name": "stderr",
     "output_type": "stream",
     "text": [
      "100%|██████████| 580/580 [05:55<00:00,  1.63it/s]\n",
      "100%|██████████| 7/7 [00:00<00:00,  8.10it/s]\n"
     ]
    },
    {
     "name": "stdout",
     "output_type": "stream",
     "text": [
      "epoch 397 | tr 0.0680566154099 | val 0.126565287411\n"
     ]
    },
    {
     "name": "stderr",
     "output_type": "stream",
     "text": [
      "100%|██████████| 580/580 [05:55<00:00,  1.63it/s]\n",
      "100%|██████████| 7/7 [00:00<00:00,  8.10it/s]\n"
     ]
    },
    {
     "name": "stdout",
     "output_type": "stream",
     "text": [
      "epoch 398 | tr 0.0680607265504 | val 0.126024469435\n"
     ]
    },
    {
     "name": "stderr",
     "output_type": "stream",
     "text": [
      "100%|██████████| 580/580 [05:55<00:00,  1.63it/s]\n",
      "100%|██████████| 7/7 [00:00<00:00,  8.10it/s]\n"
     ]
    },
    {
     "name": "stdout",
     "output_type": "stream",
     "text": [
      "epoch 399 | tr 0.06799378485 | val 0.126273058951\n",
      "~FIN~\n"
     ]
    }
   ],
   "source": [
    "if args['mode'] == 'train':\n",
    "    writer = SummaryWriter(summary_path)\n",
    "    with open(os.path.join(args['results_folder'],'checkpoints', args['name'] +'_params.json'),'w') as fp:\n",
    "        saveparams = copy.deepcopy(args)\n",
    "        json.dump(saveparams, fp)\n",
    "        \n",
    "    if args['resume']:\n",
    "            print('loading checkpoint from file %s'%(os.path.join(checkpoint_path,args['checkpoint_file'])))\n",
    "            checkpoint_dict = torch.load(os.path.join(checkpoint_path,args['checkpoint_file']+'.pth.tar'),map_location=device)\n",
    "            start_epoch = checkpoint_dict['epoch'] + 1\n",
    "            model.load_state_dict(checkpoint_dict['autoencoder_state_dict'])\n",
    "            optim.load_state_dict(checkpoint_dict['optimizer_state_dict'])\n",
    "            scheduler.load_state_dict(checkpoint_dict['scheduler_state_dict'])\n",
    "            print('Resuming from epoch %s'%(str(start_epoch)))     \n",
    "    else:\n",
    "        start_epoch = 0\n",
    "        \n",
    "    if args['generative_model'] == 'autoencoder':\n",
    "        train_autoencoder_dataloader(dataloader_train, dataloader_val,\n",
    "                          device, model, optim, loss_fn,\n",
    "                          bsize = args['batch_size'],\n",
    "                          start_epoch = start_epoch,\n",
    "                          n_epochs = args['num_epochs'],\n",
    "                          eval_freq = args['eval_frequency'],\n",
    "                          scheduler = scheduler,\n",
    "                          writer = writer,\n",
    "                          save_recons=True,\n",
    "                          shapedata=shapedata,\n",
    "                          metadata_dir=checkpoint_path, samples_dir=samples_path,\n",
    "                          checkpoint_path = args['checkpoint_file'])\n",
    "    elif args['generative_model'] == 'variational_autoencoder':\n",
    "        train_variational_autoencoder_dataloader(dataloader_train, dataloader_val,\n",
    "                          device, model, optim, loss_fn, var_loss_fn, args['lambda_var'],\n",
    "                          bsize = args['batch_size'],\n",
    "                          start_epoch = start_epoch,\n",
    "                          n_epochs = args['num_epochs'],\n",
    "                          eval_freq = args['eval_frequency'],\n",
    "                          scheduler = scheduler,\n",
    "                          writer = writer,\n",
    "                          save_recons=True,\n",
    "                          shapedata=shapedata,\n",
    "                          metadata_dir=checkpoint_path, samples_dir=samples_path,\n",
    "                          checkpoint_path = args['checkpoint_file'])"
   ]
  },
  {
   "cell_type": "markdown",
   "metadata": {},
   "source": [
    "lambda_var=1e-5 | epoch 399 | tr 0.06799378485 | val 0.126273058951"
   ]
  },
  {
   "cell_type": "code",
   "execution_count": null,
   "metadata": {},
   "outputs": [],
   "source": [
    "model.module.fc_latent_dec.weight.device"
   ]
  },
  {
   "cell_type": "code",
   "execution_count": 9,
   "metadata": {},
   "outputs": [
    {
     "name": "stdout",
     "output_type": "stream",
     "text": [
      "loading checkpoint from file /home/jingwang/Data/data/FaceWarehouse/results/spirals_variational_autoencoder/latent_128/checkpoints/real_variational/checkpoint.pth.tar\n"
     ]
    },
    {
     "name": "stderr",
     "output_type": "stream",
     "text": [
      "100%|██████████| 42/42 [00:08<00:00,  7.63it/s]\n"
     ]
    },
    {
     "name": "stdout",
     "output_type": "stream",
     "text": [
      "('loss for ', 402, tensor(3.7335, device='cuda:0'))\n",
      "('loss for ', 169, tensor(3.7734, device='cuda:0'))\n",
      "('loss for ', 364, tensor(3.7402, device='cuda:0'))\n",
      "('loss for ', 537, tensor(3.7736, device='cuda:0'))\n",
      "('loss for ', 370, tensor(3.8049, device='cuda:0'))\n",
      "('loss for ', 612, tensor(3.7892, device='cuda:0'))\n",
      "('loss for ', 194, tensor(3.8605, device='cuda:0'))\n",
      "('loss for ', 499, tensor(3.8726, device='cuda:0'))\n",
      "('loss for ', 8, tensor(3.8141, device='cuda:0'))\n",
      "('loss for ', 628, tensor(3.8478, device='cuda:0'))\n",
      "('loss for ', 389, tensor(3.9959, device='cuda:0'))\n",
      "('loss for ', 50, tensor(3.8525, device='cuda:0'))\n",
      "('loss for ', 560, tensor(3.8142, device='cuda:0'))\n",
      "('loss for ', 583, tensor(3.8838, device='cuda:0'))\n",
      "('loss for ', 125, tensor(3.8742, device='cuda:0'))\n",
      "('loss for ', 341, tensor(3.8894, device='cuda:0'))\n",
      "('loss for ', 602, tensor(3.9182, device='cuda:0'))\n",
      "('loss for ', 626, tensor(3.9905, device='cuda:0'))\n",
      "('loss for ', 559, tensor(3.8887, device='cuda:0'))\n",
      "('loss for ', 390, tensor(3.8568, device='cuda:0'))\n",
      "('autoencoder: normalized loss', 0.18488809466362)\n",
      "('autoencoder: euclidean distance in mm=', 1.318008303642273)\n"
     ]
    }
   ],
   "source": [
    "if args['mode'] == 'test': # lambda_var = 1e-5\n",
    "    print('loading checkpoint from file %s'%(os.path.join(checkpoint_path,args['checkpoint_file']+'.pth.tar')))\n",
    "    checkpoint_dict = torch.load(os.path.join(checkpoint_path,args['checkpoint_file']+'.pth.tar'),map_location=device)\n",
    "    model.load_state_dict(checkpoint_dict['autoencoder_state_dict'])\n",
    "        \n",
    "    predictions, norm_l1_loss, l2_loss = test_variational_autoencoder_dataloader(device, model, dataloader_test, \n",
    "                                                                     shapedata, worst_path=worst_mesh_path, \n",
    "                                                                     worst_face_num=args['worst_face_num'],\n",
    "                                                                     mm_constant = 100)    \n",
    "    np.save(os.path.join(prediction_path,'predictions'), predictions)   \n",
    "        \n",
    "    print('autoencoder: normalized loss', norm_l1_loss)\n",
    "    \n",
    "    print('autoencoder: euclidean distance in mm=', l2_loss)"
   ]
  },
  {
   "cell_type": "code",
   "execution_count": 8,
   "metadata": {},
   "outputs": [
    {
     "name": "stdout",
     "output_type": "stream",
     "text": [
      "loading checkpoint from file /home/jingwang/Data/data/FaceWarehouse/results/spirals_variational_autoencoder/latent_128/checkpoints/real_variational/checkpoint.pth.tar\n"
     ]
    },
    {
     "name": "stderr",
     "output_type": "stream",
     "text": [
      "100%|██████████| 42/42 [00:08<00:00,  7.62it/s]\n"
     ]
    },
    {
     "name": "stdout",
     "output_type": "stream",
     "text": [
      "('loss for ', 560, tensor(3.3856, device='cuda:0'))\n",
      "('loss for ', 169, tensor(3.3871, device='cuda:0'))\n",
      "('loss for ', 499, tensor(3.3962, device='cuda:0'))\n",
      "('loss for ', 402, tensor(3.4166, device='cuda:0'))\n",
      "('loss for ', 537, tensor(3.3890, device='cuda:0'))\n",
      "('loss for ', 364, tensor(3.4537, device='cuda:0'))\n",
      "('loss for ', 612, tensor(3.4090, device='cuda:0'))\n",
      "('loss for ', 370, tensor(3.4655, device='cuda:0'))\n",
      "('loss for ', 390, tensor(3.4357, device='cuda:0'))\n",
      "('loss for ', 389, tensor(3.5490, device='cuda:0'))\n",
      "('loss for ', 628, tensor(3.4595, device='cuda:0'))\n",
      "('loss for ', 602, tensor(3.4861, device='cuda:0'))\n",
      "('loss for ', 583, tensor(3.4888, device='cuda:0'))\n",
      "('loss for ', 50, tensor(3.4964, device='cuda:0'))\n",
      "('loss for ', 626, tensor(3.4939, device='cuda:0'))\n",
      "('loss for ', 341, tensor(3.5481, device='cuda:0'))\n",
      "('loss for ', 125, tensor(3.5830, device='cuda:0'))\n",
      "('loss for ', 8, tensor(3.4934, device='cuda:0'))\n",
      "('loss for ', 194, tensor(3.5734, device='cuda:0'))\n",
      "('loss for ', 559, tensor(3.6434, device='cuda:0'))\n",
      "('autoencoder: normalized loss', 0.15056107938289642)\n",
      "('autoencoder: euclidean distance in mm=', 1.0725711584091187)\n"
     ]
    }
   ],
   "source": [
    "if args['mode'] == 'test':\n",
    "    print('loading checkpoint from file %s'%(os.path.join(checkpoint_path,args['checkpoint_file']+'.pth.tar')))\n",
    "    checkpoint_dict = torch.load(os.path.join(checkpoint_path,args['checkpoint_file']+'.pth.tar'),map_location=device)\n",
    "    model.load_state_dict(checkpoint_dict['autoencoder_state_dict'])\n",
    "        \n",
    "    predictions, norm_l1_loss, l2_loss = test_variational_autoencoder_dataloader(device, model, dataloader_test, \n",
    "                                                                     shapedata, worst_path=worst_mesh_path, \n",
    "                                                                     worst_face_num=args['worst_face_num'],\n",
    "                                                                     mm_constant = 100)    \n",
    "    np.save(os.path.join(prediction_path,'predictions'), predictions)   \n",
    "        \n",
    "    print('autoencoder: normalized loss', norm_l1_loss)\n",
    "    \n",
    "    print('autoencoder: euclidean distance in mm=', l2_loss)"
   ]
  },
  {
   "cell_type": "code",
   "execution_count": 10,
   "metadata": {},
   "outputs": [
    {
     "name": "stdout",
     "output_type": "stream",
     "text": [
      "loading checkpoint from file /home/jingwang/Data/data/FaceWarehouse/results/spirals_variational_autoencoder/latent_128/checkpoints/real_variational/checkpoint.pth.tar\n"
     ]
    },
    {
     "name": "stderr",
     "output_type": "stream",
     "text": [
      "100%|██████████| 580/580 [01:30<00:00,  6.25it/s]\n"
     ]
    },
    {
     "name": "stdout",
     "output_type": "stream",
     "text": [
      "('loss for ', 7306, tensor(0.6339, device='cuda:0'))\n",
      "('loss for ', 1443, tensor(0.6429, device='cuda:0'))\n",
      "('loss for ', 5314, tensor(0.6481, device='cuda:0'))\n",
      "('loss for ', 5167, tensor(0.6456, device='cuda:0'))\n",
      "('loss for ', 1052, tensor(0.6705, device='cuda:0'))\n",
      "('loss for ', 1533, tensor(0.6584, device='cuda:0'))\n",
      "('loss for ', 4689, tensor(0.6725, device='cuda:0'))\n",
      "('loss for ', 5009, tensor(0.6617, device='cuda:0'))\n",
      "('loss for ', 7357, tensor(0.6693, device='cuda:0'))\n",
      "('loss for ', 7875, tensor(0.8278, device='cuda:0'))\n",
      "('loss for ', 3114, tensor(0.7798, device='cuda:0'))\n",
      "('loss for ', 3660, tensor(0.8747, device='cuda:0'))\n",
      "('loss for ', 9272, tensor(0.6907, device='cuda:0'))\n",
      "('loss for ', 6394, tensor(0.7031, device='cuda:0'))\n",
      "('loss for ', 8612, tensor(0.6756, device='cuda:0'))\n",
      "('loss for ', 2876, tensor(0.7130, device='cuda:0'))\n",
      "('loss for ', 8032, tensor(0.6918, device='cuda:0'))\n",
      "('loss for ', 737, tensor(0.6941, device='cuda:0'))\n",
      "('loss for ', 4046, tensor(0.7354, device='cuda:0'))\n",
      "('loss for ', 4373, tensor(0.8425, device='cuda:0'))\n",
      "('autoencoder: normalized loss', 0.04287116974592209)\n",
      "('autoencoder: euclidean distance in mm=', 0.3267036974430084)\n"
     ]
    }
   ],
   "source": [
    "if args['mode'] == 'test': # test with train set\n",
    "    print('loading checkpoint from file %s'%(os.path.join(checkpoint_path,args['checkpoint_file']+'.pth.tar')))\n",
    "    checkpoint_dict = torch.load(os.path.join(checkpoint_path,args['checkpoint_file']+'.pth.tar'),map_location=device)\n",
    "    model.load_state_dict(checkpoint_dict['autoencoder_state_dict'])\n",
    "        \n",
    "    predictions, norm_l1_loss, l2_loss = test_variational_autoencoder_dataloader(device, model, dataloader_train, \n",
    "                                                                     shapedata, worst_path=worst_mesh_path, \n",
    "                                                                     worst_face_num=args['worst_face_num'],\n",
    "                                                                     mm_constant = 100)    \n",
    "    np.save(os.path.join(prediction_path,'predictions'), predictions)   \n",
    "        \n",
    "    print('autoencoder: normalized loss', norm_l1_loss)\n",
    "    \n",
    "    print('autoencoder: euclidean distance in mm=', l2_loss)"
   ]
  },
  {
   "cell_type": "code",
   "execution_count": 12,
   "metadata": {},
   "outputs": [
    {
     "data": {
      "text/plain": [
       "'5705'"
      ]
     },
     "execution_count": 12,
     "metadata": {},
     "output_type": "execute_result"
    }
   ],
   "source": [
    "dataset_train.paths[7357]"
   ]
  },
  {
   "cell_type": "code",
   "execution_count": 37,
   "metadata": {
    "scrolled": true
   },
   "outputs": [
    {
     "name": "stdout",
     "output_type": "stream",
     "text": [
      "[DataParallel(\n",
      "  (module): SpiralAutoencoder(\n",
      "    (conv_0): SpiralConv(\n",
      "      (conv): Linear(in_features=42, out_features=16, bias=True)\n",
      "      (activation): ELU(alpha=1.0)\n",
      "    )\n",
      "    (conv_1): SpiralConv(\n",
      "      (conv): Linear(in_features=208, out_features=32, bias=True)\n",
      "      (activation): ELU(alpha=1.0)\n",
      "    )\n",
      "    (conv_2): SpiralConv(\n",
      "      (conv): Linear(in_features=288, out_features=64, bias=True)\n",
      "      (activation): ELU(alpha=1.0)\n",
      "    )\n",
      "    (conv_3): SpiralConv(\n",
      "      (conv): Linear(in_features=576, out_features=128, bias=True)\n",
      "      (activation): ELU(alpha=1.0)\n",
      "    )\n",
      "    (fc_latent_enc): Linear(in_features=5888, out_features=146, bias=True)\n",
      "    (fc_latent_dec): Linear(in_features=146, out_features=5888, bias=True)\n",
      "    (dconv): ModuleList(\n",
      "      (0): SpiralConv(\n",
      "        (conv): Linear(in_features=1152, out_features=64, bias=True)\n",
      "        (activation): ELU(alpha=1.0)\n",
      "      )\n",
      "      (1): SpiralConv(\n",
      "        (conv): Linear(in_features=576, out_features=32, bias=True)\n",
      "        (activation): ELU(alpha=1.0)\n",
      "      )\n",
      "      (2): SpiralConv(\n",
      "        (conv): Linear(in_features=416, out_features=32, bias=True)\n",
      "        (activation): ELU(alpha=1.0)\n",
      "      )\n",
      "      (3): SpiralConv(\n",
      "        (conv): Linear(in_features=448, out_features=16, bias=True)\n",
      "        (activation): ELU(alpha=1.0)\n",
      "      )\n",
      "      (4): SpiralConv(\n",
      "        (conv): Linear(in_features=224, out_features=3, bias=True)\n",
      "      )\n",
      "    )\n",
      "    (dconv_0): SpiralConv(\n",
      "      (conv): Linear(in_features=1152, out_features=64, bias=True)\n",
      "      (activation): ELU(alpha=1.0)\n",
      "    )\n",
      "    (dconv_1): SpiralConv(\n",
      "      (conv): Linear(in_features=576, out_features=32, bias=True)\n",
      "      (activation): ELU(alpha=1.0)\n",
      "    )\n",
      "    (dconv_2): SpiralConv(\n",
      "      (conv): Linear(in_features=416, out_features=32, bias=True)\n",
      "      (activation): ELU(alpha=1.0)\n",
      "    )\n",
      "    (dconv_3): SpiralConv(\n",
      "      (conv): Linear(in_features=448, out_features=16, bias=True)\n",
      "      (activation): ELU(alpha=1.0)\n",
      "    )\n",
      "    (dconv_4): SpiralConv(\n",
      "      (conv): Linear(in_features=224, out_features=3, bias=True)\n",
      "    )\n",
      "  )\n",
      "),\n",
      " SpiralAutoencoder(\n",
      "  (conv_0): SpiralConv(\n",
      "    (conv): Linear(in_features=42, out_features=16, bias=True)\n",
      "    (activation): ELU(alpha=1.0)\n",
      "  )\n",
      "  (conv_1): SpiralConv(\n",
      "    (conv): Linear(in_features=208, out_features=32, bias=True)\n",
      "    (activation): ELU(alpha=1.0)\n",
      "  )\n",
      "  (conv_2): SpiralConv(\n",
      "    (conv): Linear(in_features=288, out_features=64, bias=True)\n",
      "    (activation): ELU(alpha=1.0)\n",
      "  )\n",
      "  (conv_3): SpiralConv(\n",
      "    (conv): Linear(in_features=576, out_features=128, bias=True)\n",
      "    (activation): ELU(alpha=1.0)\n",
      "  )\n",
      "  (fc_latent_enc): Linear(in_features=5888, out_features=146, bias=True)\n",
      "  (fc_latent_dec): Linear(in_features=146, out_features=5888, bias=True)\n",
      "  (dconv): ModuleList(\n",
      "    (0): SpiralConv(\n",
      "      (conv): Linear(in_features=1152, out_features=64, bias=True)\n",
      "      (activation): ELU(alpha=1.0)\n",
      "    )\n",
      "    (1): SpiralConv(\n",
      "      (conv): Linear(in_features=576, out_features=32, bias=True)\n",
      "      (activation): ELU(alpha=1.0)\n",
      "    )\n",
      "    (2): SpiralConv(\n",
      "      (conv): Linear(in_features=416, out_features=32, bias=True)\n",
      "      (activation): ELU(alpha=1.0)\n",
      "    )\n",
      "    (3): SpiralConv(\n",
      "      (conv): Linear(in_features=448, out_features=16, bias=True)\n",
      "      (activation): ELU(alpha=1.0)\n",
      "    )\n",
      "    (4): SpiralConv(\n",
      "      (conv): Linear(in_features=224, out_features=3, bias=True)\n",
      "    )\n",
      "  )\n",
      "  (dconv_0): SpiralConv(\n",
      "    (conv): Linear(in_features=1152, out_features=64, bias=True)\n",
      "    (activation): ELU(alpha=1.0)\n",
      "  )\n",
      "  (dconv_1): SpiralConv(\n",
      "    (conv): Linear(in_features=576, out_features=32, bias=True)\n",
      "    (activation): ELU(alpha=1.0)\n",
      "  )\n",
      "  (dconv_2): SpiralConv(\n",
      "    (conv): Linear(in_features=416, out_features=32, bias=True)\n",
      "    (activation): ELU(alpha=1.0)\n",
      "  )\n",
      "  (dconv_3): SpiralConv(\n",
      "    (conv): Linear(in_features=448, out_features=16, bias=True)\n",
      "    (activation): ELU(alpha=1.0)\n",
      "  )\n",
      "  (dconv_4): SpiralConv(\n",
      "    (conv): Linear(in_features=224, out_features=3, bias=True)\n",
      "  )\n",
      "),\n",
      " SpiralConv(\n",
      "  (conv): Linear(in_features=42, out_features=16, bias=True)\n",
      "  (activation): ELU(alpha=1.0)\n",
      "),\n",
      " Linear(in_features=42, out_features=16, bias=True),\n",
      " ELU(alpha=1.0),\n",
      " SpiralConv(\n",
      "  (conv): Linear(in_features=208, out_features=32, bias=True)\n",
      "  (activation): ELU(alpha=1.0)\n",
      "),\n",
      " Linear(in_features=208, out_features=32, bias=True),\n",
      " ELU(alpha=1.0),\n",
      " SpiralConv(\n",
      "  (conv): Linear(in_features=288, out_features=64, bias=True)\n",
      "  (activation): ELU(alpha=1.0)\n",
      "),\n",
      " Linear(in_features=288, out_features=64, bias=True),\n",
      " ELU(alpha=1.0),\n",
      " SpiralConv(\n",
      "  (conv): Linear(in_features=576, out_features=128, bias=True)\n",
      "  (activation): ELU(alpha=1.0)\n",
      "),\n",
      " Linear(in_features=576, out_features=128, bias=True),\n",
      " ELU(alpha=1.0),\n",
      " Linear(in_features=5888, out_features=146, bias=True),\n",
      " Linear(in_features=146, out_features=5888, bias=True),\n",
      " ModuleList(\n",
      "  (0): SpiralConv(\n",
      "    (conv): Linear(in_features=1152, out_features=64, bias=True)\n",
      "    (activation): ELU(alpha=1.0)\n",
      "  )\n",
      "  (1): SpiralConv(\n",
      "    (conv): Linear(in_features=576, out_features=32, bias=True)\n",
      "    (activation): ELU(alpha=1.0)\n",
      "  )\n",
      "  (2): SpiralConv(\n",
      "    (conv): Linear(in_features=416, out_features=32, bias=True)\n",
      "    (activation): ELU(alpha=1.0)\n",
      "  )\n",
      "  (3): SpiralConv(\n",
      "    (conv): Linear(in_features=448, out_features=16, bias=True)\n",
      "    (activation): ELU(alpha=1.0)\n",
      "  )\n",
      "  (4): SpiralConv(\n",
      "    (conv): Linear(in_features=224, out_features=3, bias=True)\n",
      "  )\n",
      "),\n",
      " SpiralConv(\n",
      "  (conv): Linear(in_features=1152, out_features=64, bias=True)\n",
      "  (activation): ELU(alpha=1.0)\n",
      "),\n",
      " Linear(in_features=1152, out_features=64, bias=True),\n",
      " ELU(alpha=1.0),\n",
      " SpiralConv(\n",
      "  (conv): Linear(in_features=576, out_features=32, bias=True)\n",
      "  (activation): ELU(alpha=1.0)\n",
      "),\n",
      " Linear(in_features=576, out_features=32, bias=True),\n",
      " ELU(alpha=1.0),\n",
      " SpiralConv(\n",
      "  (conv): Linear(in_features=416, out_features=32, bias=True)\n",
      "  (activation): ELU(alpha=1.0)\n",
      "),\n",
      " Linear(in_features=416, out_features=32, bias=True),\n",
      " ELU(alpha=1.0),\n",
      " SpiralConv(\n",
      "  (conv): Linear(in_features=448, out_features=16, bias=True)\n",
      "  (activation): ELU(alpha=1.0)\n",
      "),\n",
      " Linear(in_features=448, out_features=16, bias=True),\n",
      " ELU(alpha=1.0),\n",
      " SpiralConv(\n",
      "  (conv): Linear(in_features=224, out_features=3, bias=True)\n",
      "),\n",
      " Linear(in_features=224, out_features=3, bias=True)]\n"
     ]
    }
   ],
   "source": [
    "from pprint import pprint\n",
    "pprint(list(model.modules()))"
   ]
  },
  {
   "cell_type": "code",
   "execution_count": 10,
   "metadata": {},
   "outputs": [
    {
     "name": "stdout",
     "output_type": "stream",
     "text": [
      "torch.Size([20, 11511, 3])\n",
      "('loss ', 0.4986802637577057)\n",
      "('loss ', 0.49858540296554565)\n",
      "('loss ', 0.5245462656021118)\n",
      "('loss ', 0.42691150307655334)\n",
      "('loss ', 0.43026289343833923)\n",
      "('loss ', 0.4063626825809479)\n",
      "('loss ', 0.40158355236053467)\n",
      "('loss ', 0.39085909724235535)\n",
      "('loss ', 0.3910890221595764)\n",
      "('loss ', 0.38281163573265076)\n",
      "('loss ', 0.38037484884262085)\n",
      "('loss ', 0.3779156506061554)\n",
      "('loss ', 0.375139057636261)\n",
      "('loss ', 0.37313753366470337)\n",
      "('loss ', 0.36904338002204895)\n",
      "('loss ', 0.3667895197868347)\n",
      "('loss ', 0.36510035395622253)\n",
      "('loss ', 0.3637033998966217)\n",
      "('loss ', 0.3623831570148468)\n",
      "('loss ', 0.36083289980888367)\n",
      "('loss ', 0.35960763692855835)\n",
      "('loss ', 0.35859280824661255)\n",
      "('loss ', 0.357584148645401)\n",
      "('loss ', 0.35685405135154724)\n",
      "('loss ', 0.35606375336647034)\n",
      "('loss ', 0.3552369475364685)\n",
      "('loss ', 0.35456404089927673)\n",
      "('loss ', 0.35376542806625366)\n",
      "('loss ', 0.3530873954296112)\n",
      "('loss ', 0.35253989696502686)\n",
      "('loss ', 0.35190171003341675)\n",
      "('loss ', 0.351177841424942)\n",
      "('loss ', 0.35043516755104065)\n",
      "('loss ', 0.34984955191612244)\n",
      "('loss ', 0.3491973280906677)\n",
      "('loss ', 0.34878209233283997)\n",
      "('loss ', 0.34825611114501953)\n",
      "('loss ', 0.3478456735610962)\n",
      "('loss ', 0.34749650955200195)\n",
      "('loss ', 0.34696924686431885)\n",
      "('loss ', 0.3465192914009094)\n",
      "('loss ', 0.3461175560951233)\n",
      "('loss ', 0.3456501364707947)\n",
      "('loss ', 0.345258891582489)\n",
      "('loss ', 0.34475505352020264)\n",
      "('loss ', 0.3441745340824127)\n",
      "('loss ', 0.343665212392807)\n",
      "('loss ', 0.34317266941070557)\n",
      "('loss ', 0.3424416482448578)\n",
      "('loss ', 0.3418714702129364)\n",
      "('loss ', 0.34120944142341614)\n",
      "('loss ', 0.3403657376766205)\n",
      "('loss ', 0.339721143245697)\n",
      "('loss ', 0.33897534012794495)\n",
      "('loss ', 0.33822208642959595)\n",
      "('loss ', 0.3375040888786316)\n",
      "('loss ', 0.33675432205200195)\n",
      "('loss ', 0.3359965980052948)\n",
      "('loss ', 0.3352510333061218)\n",
      "('loss ', 0.3345275819301605)\n",
      "('loss ', 0.33376285433769226)\n",
      "('loss ', 0.3330364525318146)\n",
      "('loss ', 0.3323589861392975)\n",
      "('loss ', 0.33169227838516235)\n",
      "('loss ', 0.33111464977264404)\n",
      "('loss ', 0.3304513692855835)\n",
      "('loss ', 0.3297274708747864)\n",
      "('loss ', 0.32921186089515686)\n",
      "('loss ', 0.32872822880744934)\n",
      "('loss ', 0.3283096253871918)\n",
      "('loss ', 0.3278435170650482)\n",
      "('loss ', 0.3274904191493988)\n",
      "('loss ', 0.3270878195762634)\n",
      "('loss ', 0.3268260657787323)\n",
      "('loss ', 0.32656458020210266)\n",
      "('loss ', 0.32629096508026123)\n",
      "('loss ', 0.32601580023765564)\n",
      "('loss ', 0.325847864151001)\n",
      "('loss ', 0.3256215453147888)\n",
      "('loss ', 0.325406014919281)\n",
      "('loss ', 0.3252057433128357)\n",
      "('loss ', 0.3250476121902466)\n",
      "('loss ', 0.32491952180862427)\n",
      "('loss ', 0.3247549831867218)\n",
      "('loss ', 0.3246196508407593)\n",
      "('loss ', 0.3244875371456146)\n",
      "('loss ', 0.32439762353897095)\n",
      "('loss ', 0.3242851197719574)\n",
      "('loss ', 0.3241485059261322)\n",
      "('loss ', 0.32404327392578125)\n",
      "('loss ', 0.3239539563655853)\n",
      "('loss ', 0.3238614499568939)\n",
      "('loss ', 0.32376670837402344)\n",
      "('loss ', 0.3236544132232666)\n",
      "('loss ', 0.3235546946525574)\n",
      "('loss ', 0.32347434759140015)\n",
      "('loss ', 0.3233944773674011)\n",
      "('loss ', 0.3232923746109009)\n",
      "('loss ', 0.32319924235343933)\n",
      "('loss ', 0.32311728596687317)\n",
      "('loss ', 0.3230133056640625)\n",
      "('loss ', 0.3229213356971741)\n",
      "('loss ', 0.32282203435897827)\n",
      "('loss ', 0.32270926237106323)\n",
      "('loss ', 0.32262080907821655)\n",
      "('loss ', 0.3225342631340027)\n",
      "('loss ', 0.32242316007614136)\n",
      "('loss ', 0.32232508063316345)\n",
      "('loss ', 0.32223325967788696)\n",
      "('loss ', 0.32211920619010925)\n",
      "('loss ', 0.3220241963863373)\n",
      "('loss ', 0.3219403624534607)\n",
      "('loss ', 0.32183846831321716)\n",
      "('loss ', 0.3217633366584778)\n",
      "('loss ', 0.3216913044452667)\n",
      "('loss ', 0.32162925601005554)\n",
      "('loss ', 0.3215603232383728)\n",
      "('loss ', 0.3214865028858185)\n",
      "('loss ', 0.3214116096496582)\n",
      "('loss ', 0.32135137915611267)\n",
      "('loss ', 0.3212987780570984)\n",
      "('loss ', 0.32123762369155884)\n",
      "('loss ', 0.3211737275123596)\n",
      "('loss ', 0.32111725211143494)\n",
      "('loss ', 0.32107028365135193)\n",
      "('loss ', 0.3210182785987854)\n",
      "('loss ', 0.32096531987190247)\n",
      "('loss ', 0.32091107964515686)\n",
      "('loss ', 0.3208611309528351)\n",
      "('loss ', 0.32081708312034607)\n",
      "('loss ', 0.3207714259624481)\n",
      "('loss ', 0.3207293152809143)\n",
      "('loss ', 0.32068783044815063)\n",
      "('loss ', 0.32064831256866455)\n",
      "('loss ', 0.320607453584671)\n",
      "('loss ', 0.32056596875190735)\n",
      "('loss ', 0.32052791118621826)\n",
      "('loss ', 0.3204944431781769)\n",
      "('loss ', 0.3204629421234131)\n",
      "('loss ', 0.3204321265220642)\n",
      "('loss ', 0.3204023540019989)\n",
      "('loss ', 0.3203701674938202)\n",
      "('loss ', 0.3203366696834564)\n",
      "('loss ', 0.3203112781047821)\n",
      "('loss ', 0.3202846348285675)\n",
      "('loss ', 0.32025259733200073)\n",
      "('loss ', 0.3202241063117981)\n",
      "('loss ', 0.32019543647766113)\n",
      "('loss ', 0.32016831636428833)\n",
      "('loss ', 0.3201422095298767)\n",
      "('loss ', 0.32011595368385315)\n",
      "('loss ', 0.3200899362564087)\n",
      "('loss ', 0.32006558775901794)\n",
      "('loss ', 0.32003918290138245)\n",
      "('loss ', 0.3200151324272156)\n",
      "('loss ', 0.3199950158596039)\n",
      "('loss ', 0.3199775516986847)\n",
      "('loss ', 0.3199550211429596)\n",
      "('loss ', 0.3199330270290375)\n",
      "('loss ', 0.3199131488800049)\n",
      "('loss ', 0.31989428400993347)\n",
      "('loss ', 0.3198758065700531)\n",
      "('loss ', 0.3198532462120056)\n",
      "('loss ', 0.3198357820510864)\n",
      "('loss ', 0.31981900334358215)\n",
      "('loss ', 0.3198036253452301)\n",
      "('loss ', 0.3197859525680542)\n",
      "('loss ', 0.31976959109306335)\n",
      "('loss ', 0.3197542428970337)\n",
      "('loss ', 0.3197401463985443)\n",
      "('loss ', 0.3197268843650818)\n",
      "('loss ', 0.31971117854118347)\n",
      "('loss ', 0.3196954131126404)\n",
      "('loss ', 0.3196820914745331)\n",
      "('loss ', 0.3196697235107422)\n",
      "('loss ', 0.31965646147727966)\n",
      "('loss ', 0.31964361667633057)\n",
      "('loss ', 0.3196316659450531)\n",
      "('loss ', 0.31961968541145325)\n",
      "('loss ', 0.3196076452732086)\n",
      "('loss ', 0.319595068693161)\n",
      "('loss ', 0.31958305835723877)\n",
      "('loss ', 0.3195727467536926)\n",
      "('loss ', 0.3195628523826599)\n",
      "('loss ', 0.3195516765117645)\n",
      "('loss ', 0.3195415437221527)\n",
      "('loss ', 0.31953203678131104)\n",
      "('loss ', 0.3195231258869171)\n",
      "('loss ', 0.3195143938064575)\n",
      "('loss ', 0.31950634717941284)\n",
      "('loss ', 0.31949859857559204)\n",
      "('loss ', 0.31949105858802795)\n",
      "('loss ', 0.3194829225540161)\n",
      "('loss ', 0.31947439908981323)\n",
      "('loss ', 0.3194660544395447)\n",
      "('loss ', 0.3194579482078552)\n",
      "('loss ', 0.31945058703422546)\n",
      "('loss ', 0.319443017244339)\n",
      "('loss ', 0.3194359540939331)\n",
      "('loss ', 0.3194296956062317)\n",
      "tensor([[ 3.3743, 13.6212, -0.4256,  ...,  1.7157,  1.5403, -3.1382],\n",
      "        [ 2.3821, 13.6704,  4.1089,  ...,  0.3133,  1.7208, -4.3542],\n",
      "        [ 2.1050, 15.5061,  3.2485,  ...,  0.3632,  0.6899, -3.5554],\n",
      "        ...,\n",
      "        [ 3.5368, 16.1566,  3.6678,  ...,  0.5354,  0.1360, -3.3642],\n",
      "        [ 5.6792, 20.6508,  0.3593,  ...,  2.4201, -0.0755, -3.3377],\n",
      "        [ 4.7821, 18.0641,  3.2891,  ...,  3.0604, -1.1482, -4.9393]],\n",
      "       device='cuda:0')\n",
      "(560, tensor(0.0246, device='cuda:0', grad_fn=<MeanBackward0>))\n",
      "(169, tensor(0.0241, device='cuda:0', grad_fn=<MeanBackward0>))\n",
      "(499, tensor(0.0241, device='cuda:0', grad_fn=<MeanBackward0>))\n",
      "(402, tensor(0.0237, device='cuda:0', grad_fn=<MeanBackward0>))\n",
      "(537, tensor(0.0247, device='cuda:0', grad_fn=<MeanBackward0>))\n",
      "(364, tensor(0.0242, device='cuda:0', grad_fn=<MeanBackward0>))\n",
      "(612, tensor(0.0260, device='cuda:0', grad_fn=<MeanBackward0>))\n",
      "(370, tensor(0.0252, device='cuda:0', grad_fn=<MeanBackward0>))\n",
      "(390, tensor(0.0243, device='cuda:0', grad_fn=<MeanBackward0>))\n",
      "(389, tensor(0.0245, device='cuda:0', grad_fn=<MeanBackward0>))\n",
      "(628, tensor(0.0241, device='cuda:0', grad_fn=<MeanBackward0>))\n",
      "(602, tensor(0.0246, device='cuda:0', grad_fn=<MeanBackward0>))\n",
      "(583, tensor(0.0073, device='cuda:0', grad_fn=<MeanBackward0>))\n",
      "(50, tensor(0.0241, device='cuda:0', grad_fn=<MeanBackward0>))\n",
      "(626, tensor(0.0246, device='cuda:0', grad_fn=<MeanBackward0>))\n",
      "(341, tensor(0.0246, device='cuda:0', grad_fn=<MeanBackward0>))\n",
      "(125, tensor(0.0248, device='cuda:0', grad_fn=<MeanBackward0>))\n",
      "(8, tensor(0.0244, device='cuda:0', grad_fn=<MeanBackward0>))\n",
      "(194, tensor(0.0254, device='cuda:0', grad_fn=<MeanBackward0>))\n",
      "(559, tensor(0.0250, device='cuda:0', grad_fn=<MeanBackward0>))\n"
     ]
    }
   ],
   "source": [
    "# from optimize_to_get_result import optimize_to_get_result\n",
    "\n",
    "import torch\n",
    "import torch.optim as optim\n",
    "import torch.nn as nn\n",
    "\n",
    "\n",
    "def optimize_to_get_result(model, loss_fun, z_dim, device, targets, n_iter=10, output_loss=True):\n",
    "    model.eval()\n",
    "    \n",
    "#     return torch.empty(0), model(targets)\n",
    "    \n",
    "    model.only_encode(True)\n",
    "    z = model(targets)\n",
    "    model.only_encode(False)\n",
    "    \n",
    "    model.only_decode(True)\n",
    "    z_param = nn.Parameter(z)\n",
    "    optimizer = optim.LBFGS(params=[z_param])\n",
    "    for it in range(n_iter):\n",
    "        def closure():\n",
    "            optimizer.zero_grad()\n",
    "            outputs = model(z_param)\n",
    "            outputs = outputs.reshape(targets.shape) # decode, don't know shape\n",
    "            loss = loss_fun(outputs, targets)\n",
    "            loss.backward()\n",
    "            if output_loss:\n",
    "                print('loss ', loss.item())\n",
    "            return loss\n",
    "        optimizer.step(closure)\n",
    "    outputs = model(z_param)\n",
    "    outputs = outputs.reshape(targets.shape)\n",
    "    \n",
    "    model.only_decode(False)\n",
    "    return z_param.data, outputs\n",
    "\n",
    "def work_optimize():\n",
    "\n",
    "    test_dataset = dataset_test\n",
    "    test_ids =[560,169,499,402,537,364,612,370,390,389,628,602,583,50, 626,341,125,8,194,559]\n",
    "    inputs = torch.cat([test_dataset[idx]['points'].to(device).unsqueeze(0) for idx in test_ids])\n",
    "    inputs = inputs.to(device)\n",
    "\n",
    "    print(inputs.shape) # fixme\n",
    "\n",
    "    shapedata_mean = torch.Tensor(shapedata.mean).to(device)\n",
    "    shapedata_std = torch.Tensor(shapedata.std).to(device)\n",
    "\n",
    "    z, outputs = optimize_to_get_result(model, loss_fn, args['nz'], device,\n",
    "                          inputs)\n",
    "    from pprint import pprint\n",
    "    pprint(z)\n",
    "\n",
    "    outputs = outputs[:,:-1]\n",
    "    inputs = inputs[:,:-1]\n",
    "\n",
    "    old_outputs = outputs\n",
    "    old_inputs = inputs\n",
    "\n",
    "    outputs = outputs * shapedata_std + shapedata_mean\n",
    "    inputs = inputs * shapedata_std + shapedata_mean\n",
    "\n",
    "    per_l2_loss = torch.sqrt(torch.sum((outputs - inputs)**2, dim=2))\n",
    "\n",
    "    for i in range(len(test_ids)):\n",
    "        print(test_ids[i], torch.mean(per_l2_loss[i]))\n",
    "\n",
    "    shapedata.save_meshes(os.path.join(worst_mesh_path, 'opt_input'),old_inputs.detach().cpu().numpy(),test_ids)\n",
    "    shapedata.save_meshes(os.path.join(worst_mesh_path, 'opt_output'),old_outputs.detach().cpu().numpy(),test_ids)\n",
    "\n",
    "work_optimize()"
   ]
  },
  {
   "cell_type": "code",
   "execution_count": 10,
   "metadata": {},
   "outputs": [
    {
     "name": "stdout",
     "output_type": "stream",
     "text": [
      "torch.Size([20, 11511, 3])\n",
      "('loss ', 0.5567759275436401)\n",
      "('loss ', 0.5563845634460449)\n",
      "('loss ', 0.5783909559249878)\n",
      "('loss ', 0.496934175491333)\n",
      "('loss ', 0.48533686995506287)\n",
      "('loss ', 0.47421765327453613)\n",
      "('loss ', 0.47161945700645447)\n",
      "('loss ', 0.46805039048194885)\n",
      "('loss ', 0.4635757803916931)\n",
      "('loss ', 0.4615626633167267)\n",
      "('loss ', 0.4599860608577728)\n",
      "('loss ', 0.4563556909561157)\n",
      "('loss ', 0.45438069105148315)\n",
      "('loss ', 0.4522996246814728)\n",
      "('loss ', 0.4508543014526367)\n",
      "('loss ', 0.44892674684524536)\n",
      "('loss ', 0.4474303722381592)\n",
      "('loss ', 0.4460495412349701)\n",
      "('loss ', 0.44529640674591064)\n",
      "('loss ', 0.44481122493743896)\n",
      "('loss ', 0.44385385513305664)\n",
      "('loss ', 0.4430656433105469)\n",
      "('loss ', 0.44228968024253845)\n",
      "('loss ', 0.4414037764072418)\n",
      "('loss ', 0.44081467390060425)\n",
      "('loss ', 0.4402202367782593)\n",
      "('loss ', 0.4397233724594116)\n",
      "('loss ', 0.4393344819545746)\n",
      "('loss ', 0.43894192576408386)\n",
      "('loss ', 0.4384746253490448)\n",
      "('loss ', 0.4380544126033783)\n",
      "('loss ', 0.43765899538993835)\n",
      "('loss ', 0.43717241287231445)\n",
      "('loss ', 0.4368774890899658)\n",
      "('loss ', 0.4366115927696228)\n",
      "('loss ', 0.43622151017189026)\n",
      "('loss ', 0.43601763248443604)\n",
      "('loss ', 0.4357612133026123)\n",
      "('loss ', 0.4354018270969391)\n",
      "('loss ', 0.43518614768981934)\n",
      "('loss ', 0.4350089132785797)\n",
      "('loss ', 0.43479326367378235)\n",
      "('loss ', 0.4346461594104767)\n",
      "('loss ', 0.434478759765625)\n",
      "('loss ', 0.4343385398387909)\n",
      "('loss ', 0.4341994822025299)\n",
      "('loss ', 0.43408262729644775)\n",
      "('loss ', 0.4339616000652313)\n",
      "('loss ', 0.4337647259235382)\n",
      "('loss ', 0.43369096517562866)\n",
      "('loss ', 0.433591365814209)\n",
      "('loss ', 0.43349331617355347)\n",
      "('loss ', 0.4334094524383545)\n",
      "('loss ', 0.43329131603240967)\n",
      "('loss ', 0.4331755042076111)\n",
      "('loss ', 0.43309250473976135)\n",
      "('loss ', 0.43297716975212097)\n",
      "('loss ', 0.43288910388946533)\n",
      "('loss ', 0.4327749013900757)\n",
      "('loss ', 0.43267762660980225)\n",
      "('loss ', 0.43259695172309875)\n",
      "('loss ', 0.43252262473106384)\n",
      "('loss ', 0.4324527978897095)\n",
      "('loss ', 0.43238747119903564)\n",
      "('loss ', 0.43233633041381836)\n",
      "('loss ', 0.4322783648967743)\n",
      "('loss ', 0.4321989119052887)\n",
      "('loss ', 0.43213167786598206)\n",
      "('loss ', 0.4320753812789917)\n",
      "('loss ', 0.43201807141304016)\n",
      "('loss ', 0.43196675181388855)\n",
      "('loss ', 0.4319101572036743)\n",
      "('loss ', 0.4318622946739197)\n",
      "('loss ', 0.4317948520183563)\n",
      "('loss ', 0.4317644536495209)\n",
      "('loss ', 0.43171486258506775)\n",
      "('loss ', 0.4316467344760895)\n",
      "('loss ', 0.4315756857395172)\n",
      "('loss ', 0.431511789560318)\n",
      "('loss ', 0.43146201968193054)\n",
      "('loss ', 0.43141281604766846)\n",
      "('loss ', 0.43134087324142456)\n",
      "('loss ', 0.43126440048217773)\n",
      "('loss ', 0.4311974346637726)\n",
      "('loss ', 0.43113213777542114)\n",
      "('loss ', 0.43106624484062195)\n",
      "('loss ', 0.43099987506866455)\n",
      "('loss ', 0.4309411942958832)\n",
      "('loss ', 0.4308859407901764)\n",
      "('loss ', 0.43082451820373535)\n",
      "('loss ', 0.43076449632644653)\n",
      "('loss ', 0.4307127594947815)\n",
      "('loss ', 0.43066737055778503)\n",
      "('loss ', 0.43061500787734985)\n",
      "('loss ', 0.43055447936058044)\n",
      "('loss ', 0.4304857850074768)\n",
      "('loss ', 0.43042439222335815)\n",
      "('loss ', 0.43036067485809326)\n",
      "('loss ', 0.43029680848121643)\n",
      "('loss ', 0.43024036288261414)\n",
      "('loss ', 0.4301895201206207)\n",
      "('loss ', 0.4301193058490753)\n",
      "('loss ', 0.4300658106803894)\n",
      "('loss ', 0.43001043796539307)\n",
      "('loss ', 0.4299483001232147)\n",
      "('loss ', 0.42989885807037354)\n",
      "('loss ', 0.42983904480934143)\n",
      "('loss ', 0.4297764003276825)\n",
      "('loss ', 0.4297339618206024)\n",
      "('loss ', 0.4296998977661133)\n",
      "('loss ', 0.42967334389686584)\n",
      "('loss ', 0.4296153783798218)\n",
      "('loss ', 0.42955148220062256)\n",
      "('loss ', 0.42949533462524414)\n",
      "('loss ', 0.42944276332855225)\n",
      "('loss ', 0.42941051721572876)\n",
      "('loss ', 0.4293558895587921)\n",
      "('loss ', 0.42930692434310913)\n",
      "('loss ', 0.4292503893375397)\n",
      "('loss ', 0.42920440435409546)\n",
      "('loss ', 0.4291576147079468)\n",
      "('loss ', 0.4290878176689148)\n",
      "('loss ', 0.42904478311538696)\n",
      "('loss ', 0.4289851486682892)\n",
      "('loss ', 0.4289487302303314)\n",
      "('loss ', 0.4288994371891022)\n",
      "('loss ', 0.42881664633750916)\n",
      "('loss ', 0.4287716746330261)\n",
      "('loss ', 0.4286953806877136)\n",
      "('loss ', 0.42865467071533203)\n",
      "('loss ', 0.42859721183776855)\n",
      "('loss ', 0.4285257160663605)\n",
      "('loss ', 0.4284370243549347)\n",
      "('loss ', 0.428384006023407)\n",
      "('loss ', 0.42830991744995117)\n",
      "('loss ', 0.42822861671447754)\n",
      "('loss ', 0.42814263701438904)\n",
      "('loss ', 0.4280633330345154)\n",
      "('loss ', 0.42797592282295227)\n",
      "('loss ', 0.42790013551712036)\n",
      "('loss ', 0.42780253291130066)\n",
      "('loss ', 0.42768219113349915)\n",
      "('loss ', 0.4275815486907959)\n",
      "('loss ', 0.42751291394233704)\n",
      "('loss ', 0.42735767364501953)\n",
      "('loss ', 0.4272790849208832)\n",
      "('loss ', 0.4271600842475891)\n",
      "('loss ', 0.4270694851875305)\n",
      "('loss ', 0.4269651174545288)\n",
      "('loss ', 0.4268079102039337)\n",
      "('loss ', 0.42670443654060364)\n",
      "('loss ', 0.426553875207901)\n",
      "('loss ', 0.42644202709198)\n",
      "('loss ', 0.42633089423179626)\n",
      "('loss ', 0.4261075556278229)\n",
      "('loss ', 0.42591938376426697)\n",
      "('loss ', 0.425754576921463)\n",
      "('loss ', 0.4255721867084503)\n",
      "('loss ', 0.42542821168899536)\n",
      "('loss ', 0.42523202300071716)\n",
      "('loss ', 0.4249717593193054)\n",
      "('loss ', 0.4248006343841553)\n",
      "('loss ', 0.4246748685836792)\n",
      "('loss ', 0.42442917823791504)\n",
      "('loss ', 0.4242132902145386)\n",
      "('loss ', 0.4239804148674011)\n",
      "('loss ', 0.42368942499160767)\n",
      "('loss ', 0.4235175549983978)\n",
      "('loss ', 0.42323440313339233)\n",
      "('loss ', 0.42290621995925903)\n",
      "('loss ', 0.4226114749908447)\n",
      "('loss ', 0.4223552644252777)\n",
      "('loss ', 0.42210620641708374)\n",
      "('loss ', 0.42185327410697937)\n",
      "('loss ', 0.4214763939380646)\n",
      "('loss ', 0.42112359404563904)\n",
      "('loss ', 0.4207834005355835)\n",
      "('loss ', 0.42039358615875244)\n",
      "('loss ', 0.42000895738601685)\n",
      "('loss ', 0.4195951521396637)\n",
      "('loss ', 0.4191531836986542)\n",
      "('loss ', 0.4187670052051544)\n",
      "('loss ', 0.418428897857666)\n",
      "('loss ', 0.41782090067863464)\n",
      "('loss ', 0.417476087808609)\n",
      "('loss ', 0.417032390832901)\n",
      "('loss ', 0.4163413941860199)\n",
      "('loss ', 0.4158996641635895)\n",
      "('loss ', 0.41535812616348267)\n",
      "('loss ', 0.4148338735103607)\n",
      "('loss ', 0.4143541157245636)\n",
      "('loss ', 0.41362062096595764)\n",
      "('loss ', 0.41288265585899353)\n",
      "('loss ', 0.4120210111141205)\n",
      "('loss ', 0.4110517203807831)\n",
      "('loss ', 0.4101713299751282)\n",
      "('loss ', 0.4093479812145233)\n",
      "('loss ', 0.4083305299282074)\n",
      "('loss ', 0.4074646830558777)\n",
      "('loss ', 0.4066465497016907)\n",
      "tensor([[  3.2524,   4.8551, -10.8490,  ...,   6.0484,   0.5610,  -2.9525],\n",
      "        [  2.8166,  13.3389, -11.1508,  ...,   4.8187,  -5.0924,  -4.1127],\n",
      "        [  2.5147,  17.5552,  -8.7429,  ...,   3.5091, -11.0279,  -2.4013],\n",
      "        ...,\n",
      "        [  3.3031,  15.7257,  -5.7943,  ...,   5.7341,  -6.2245,  -3.2711],\n",
      "        [  4.0149,  19.9342, -17.4228,  ...,   5.0737,   6.8127,  -1.3915],\n",
      "        [  4.8891,  20.8858, -26.2003,  ...,   9.1271,  -5.3304,  -0.2459]],\n",
      "       device='cuda:0')\n",
      "(560, tensor(0.0285, device='cuda:0', grad_fn=<MeanBackward0>))\n",
      "(169, tensor(0.0288, device='cuda:0', grad_fn=<MeanBackward0>))\n",
      "(499, tensor(0.0295, device='cuda:0', grad_fn=<MeanBackward0>))\n",
      "(402, tensor(0.0281, device='cuda:0', grad_fn=<MeanBackward0>))\n",
      "(537, tensor(0.0283, device='cuda:0', grad_fn=<MeanBackward0>))\n",
      "(364, tensor(0.0288, device='cuda:0', grad_fn=<MeanBackward0>))\n",
      "(612, tensor(0.0289, device='cuda:0', grad_fn=<MeanBackward0>))\n",
      "(370, tensor(0.0297, device='cuda:0', grad_fn=<MeanBackward0>))\n",
      "(390, tensor(0.0297, device='cuda:0', grad_fn=<MeanBackward0>))\n",
      "(389, tensor(0.0297, device='cuda:0', grad_fn=<MeanBackward0>))\n",
      "(628, tensor(0.0289, device='cuda:0', grad_fn=<MeanBackward0>))\n",
      "(602, tensor(0.0294, device='cuda:0', grad_fn=<MeanBackward0>))\n",
      "(583, tensor(0.0085, device='cuda:0', grad_fn=<MeanBackward0>))\n",
      "(50, tensor(0.0281, device='cuda:0', grad_fn=<MeanBackward0>))\n",
      "(626, tensor(0.0294, device='cuda:0', grad_fn=<MeanBackward0>))\n",
      "(341, tensor(0.0289, device='cuda:0', grad_fn=<MeanBackward0>))\n",
      "(125, tensor(0.0298, device='cuda:0', grad_fn=<MeanBackward0>))\n",
      "(8, tensor(0.0289, device='cuda:0', grad_fn=<MeanBackward0>))\n",
      "(194, tensor(0.0298, device='cuda:0', grad_fn=<MeanBackward0>))\n",
      "(559, tensor(0.0304, device='cuda:0', grad_fn=<MeanBackward0>))\n"
     ]
    }
   ],
   "source": [
    "# from optimize_to_get_result import optimize_to_get_result\n",
    "# lambda_var = 1e-5\n",
    "\n",
    "import torch\n",
    "import torch.optim as optim\n",
    "import torch.nn as nn\n",
    "\n",
    "\n",
    "def optimize_to_get_result(model, loss_fun, z_dim, device, targets, n_iter=10, output_loss=True):\n",
    "    model.eval()\n",
    "    \n",
    "#     return torch.empty(0), model(targets)\n",
    "    \n",
    "    model.only_encode(True)\n",
    "    z = model(targets)\n",
    "    model.only_encode(False)\n",
    "    \n",
    "    model.only_decode(True)\n",
    "    z_param = nn.Parameter(z)\n",
    "    optimizer = optim.LBFGS(params=[z_param])\n",
    "    for it in range(n_iter):\n",
    "        def closure():\n",
    "            optimizer.zero_grad()\n",
    "            outputs = model(z_param)\n",
    "            outputs = outputs.reshape(targets.shape) # decode, don't know shape\n",
    "            loss = loss_fun(outputs, targets)\n",
    "            loss.backward()\n",
    "            if output_loss:\n",
    "                print('loss ', loss.item())\n",
    "            return loss\n",
    "        optimizer.step(closure)\n",
    "    outputs = model(z_param)\n",
    "    outputs = outputs.reshape(targets.shape)\n",
    "    \n",
    "    model.only_decode(False)\n",
    "    return z_param.data, outputs\n",
    "\n",
    "def work_optimize():\n",
    "\n",
    "    test_dataset = dataset_test\n",
    "    test_ids =[560,169,499,402,537,364,612,370,390,389,628,602,583,50, 626,341,125,8,194,559]\n",
    "    inputs = torch.cat([test_dataset[idx]['points'].to(device).unsqueeze(0) for idx in test_ids])\n",
    "    inputs = inputs.to(device)\n",
    "\n",
    "    print(inputs.shape) # fixme\n",
    "\n",
    "    shapedata_mean = torch.Tensor(shapedata.mean).to(device)\n",
    "    shapedata_std = torch.Tensor(shapedata.std).to(device)\n",
    "\n",
    "    z, outputs = optimize_to_get_result(model, loss_fn, args['nz'], device,\n",
    "                          inputs)\n",
    "    from pprint import pprint\n",
    "    pprint(z)\n",
    "\n",
    "    outputs = outputs[:,:-1]\n",
    "    inputs = inputs[:,:-1]\n",
    "\n",
    "    old_outputs = outputs\n",
    "    old_inputs = inputs\n",
    "\n",
    "    outputs = outputs * shapedata_std + shapedata_mean\n",
    "    inputs = inputs * shapedata_std + shapedata_mean\n",
    "\n",
    "    per_l2_loss = torch.sqrt(torch.sum((outputs - inputs)**2, dim=2))\n",
    "\n",
    "    for i in range(len(test_ids)):\n",
    "        print(test_ids[i], torch.mean(per_l2_loss[i]))\n",
    "\n",
    "    shapedata.save_meshes(os.path.join(worst_mesh_path, 'opt_input'),old_inputs.detach().cpu().numpy(),test_ids)\n",
    "    shapedata.save_meshes(os.path.join(worst_mesh_path, 'opt_output'),old_outputs.detach().cpu().numpy(),test_ids)\n",
    "\n",
    "work_optimize()"
   ]
  }
 ],
 "metadata": {
  "kernelspec": {
   "display_name": "Python 3",
   "language": "python",
   "name": "python3"
  },
  "language_info": {
   "codemirror_mode": {
    "name": "ipython",
    "version": 3
   },
   "file_extension": ".py",
   "mimetype": "text/x-python",
   "name": "python",
   "nbconvert_exporter": "python",
   "pygments_lexer": "ipython3",
   "version": "3.7.3"
  },
  "varInspector": {
   "cols": {
    "lenName": 16,
    "lenType": 16,
    "lenVar": 40
   },
   "kernels_config": {
    "python": {
     "delete_cmd_postfix": "",
     "delete_cmd_prefix": "del ",
     "library": "var_list.py",
     "varRefreshCmd": "print(var_dic_list())"
    },
    "r": {
     "delete_cmd_postfix": ") ",
     "delete_cmd_prefix": "rm(",
     "library": "var_list.r",
     "varRefreshCmd": "cat(var_dic_list()) "
    }
   },
   "types_to_exclude": [
    "module",
    "function",
    "builtin_function_or_method",
    "instance",
    "_Feature"
   ],
   "window_display": false
  }
 },
 "nbformat": 4,
 "nbformat_minor": 2
}
