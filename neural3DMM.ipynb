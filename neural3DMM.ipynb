{
 "cells": [
  {
   "cell_type": "code",
   "execution_count": 12,
   "metadata": {},
   "outputs": [
    {
     "name": "stdout",
     "output_type": "stream",
     "text": [
      "GeForce GTX TITAN X\n",
      "GeForce GTX TITAN X\n",
      "GeForce GTX TITAN X\n",
      "GeForce GTX TITAN X\n"
     ]
    }
   ],
   "source": [
    "import numpy as np\n",
    "import json\n",
    "import os\n",
    "import copy\n",
    "import pickle\n",
    "\n",
    "import mesh_sampling\n",
    "import trimesh\n",
    "from shape_data import ShapeData\n",
    "\n",
    "from autoencoder_dataset import autoencoder_dataset\n",
    "from torch.utils.data import DataLoader\n",
    "\n",
    "from spiral_utils import get_adj_trigs, generate_spirals\n",
    "from models import SpiralAutoencoder\n",
    "from train_funcs import train_autoencoder_dataloader\n",
    "from test_funcs import test_autoencoder_dataloader\n",
    "\n",
    "\n",
    "import torch\n",
    "from tensorboardX import SummaryWriter\n",
    "\n",
    "from sklearn.metrics.pairwise import euclidean_distances\n",
    "meshpackage = 'mpi-mesh' # 'mpi-mesh', 'trimesh'\n",
    "root_dir = '/home/jingwang/Data/data/'\n",
    "\n",
    "dataset = 'FaceWarehouse'\n",
    "name = 'align_pose'\n",
    "\n",
    "torch.backends.cudnn.benchmark = True\n",
    "\n",
    "\n",
    "GPU = True\n",
    "device_idx = 0 # 0, 1, 2, 3\n",
    "device_ids = [0, 1, 2, 3]\n",
    "for idx in device_ids:\n",
    "    print(torch.cuda.get_device_name(idx))"
   ]
  },
  {
   "cell_type": "code",
   "execution_count": 13,
   "metadata": {},
   "outputs": [],
   "source": [
    "args = {}\n",
    "\n",
    "generative_model = 'simple_autoencoder'\n",
    "downsample_method = 'COMA_downsample' # choose'COMA_downsample' or 'meshlab_downsample'\n",
    "\n",
    "\n",
    "# below are the arguments for the DFAUST run\n",
    "reference_mesh_file = os.path.join(root_dir, dataset, 'template', 'template.obj')\n",
    "downsample_directory = os.path.join(root_dir, dataset,'template', downsample_method)\n",
    "ds_factors = [4]\n",
    "step_sizes = [1, 1]\n",
    "filter_sizes_enc = [[3, 32],[[],[]]]\n",
    "filter_sizes_dec = [[32, 16],[[],3]]\n",
    "dilation_flag = True\n",
    "if dilation_flag:\n",
    "    dilation=[1, 1] \n",
    "else:\n",
    "    dilation = None\n",
    "reference_points = [[5930]]# [[3567,4051,4597]] # [[414]]  # used for COMA with 3 disconnected components\n",
    "\n",
    "args = {'generative_model': generative_model,\n",
    "        'name': name, 'data': os.path.join(root_dir, dataset, 'preprocessed',name),\n",
    "        'results_folder':  os.path.join(root_dir, dataset,'results/spirals_'+ generative_model),\n",
    "        'reference_mesh_file':reference_mesh_file, 'downsample_directory': downsample_directory,\n",
    "        'checkpoint_file': 'checkpoint',\n",
    "        'seed':2, 'loss':'l1',\n",
    "        'batch_size': 96, 'num_epochs':300, 'eval_frequency':200, 'num_workers': 40,\n",
    "        'filter_sizes_enc': filter_sizes_enc, 'filter_sizes_dec': filter_sizes_dec,\n",
    "        'nz': 128, # 100 identity + 46 expression \n",
    "        'ds_factors': ds_factors, 'step_sizes' : step_sizes, 'dilation': dilation,\n",
    "        \n",
    "        'lr':1e-3, \n",
    "        'regularization': 5e-5,         \n",
    "        'scheduler': True, 'decay_rate': 0.99,'decay_steps':1,  \n",
    "        'resume': False,\n",
    "        \n",
    "        'mode':'train', 'shuffle': True, 'nVal': 100, 'normalization': True,\n",
    "        'write_mesh': True,\n",
    "        'lambda_var': 0.5,\n",
    "        'worst_face_num': 20}\n",
    "\n",
    "args['results_folder'] = os.path.join(args['results_folder'],'latent_'+str(args['nz']))\n",
    "    \n",
    "if not os.path.exists(os.path.join(args['results_folder'])):\n",
    "    os.makedirs(os.path.join(args['results_folder']))\n",
    "\n",
    "summary_path = os.path.join(args['results_folder'],'summaries',args['name'])\n",
    "if not os.path.exists(summary_path):\n",
    "    os.makedirs(summary_path)  \n",
    "    \n",
    "checkpoint_path = os.path.join(args['results_folder'],'checkpoints', args['name'])\n",
    "if not os.path.exists(checkpoint_path):\n",
    "    os.makedirs(checkpoint_path)\n",
    "    \n",
    "samples_path = os.path.join(args['results_folder'],'samples', args['name'])\n",
    "if not os.path.exists(samples_path):\n",
    "    os.makedirs(samples_path)\n",
    "    \n",
    "prediction_path = os.path.join(args['results_folder'],'predictions', args['name'])\n",
    "if not os.path.exists(prediction_path):\n",
    "    os.makedirs(prediction_path)\n",
    "\n",
    "if not os.path.exists(downsample_directory):\n",
    "    os.makedirs(downsample_directory)\n",
    "\n",
    "downsample_mesh_path = os.path.join(args['results_folder'],'downsample_mesh', args['name'])\n",
    "if not os.path.exists(downsample_mesh_path):\n",
    "    os.makedirs(downsample_mesh_path)\n",
    "\n",
    "\n",
    "worst_mesh_path = os.path.join(args['results_folder'],'worst_test', args['name'])\n",
    "if not os.path.exists(downsample_mesh_path):\n",
    "    os.makedirs(downsample_mesh_path)"
   ]
  },
  {
   "cell_type": "code",
   "execution_count": 14,
   "metadata": {},
   "outputs": [
    {
     "name": "stdout",
     "output_type": "stream",
     "text": [
      "Loading data .. \n",
      "Loading Transform Matrices ..\n",
      "Calculating reference points for downsampled versions..\n"
     ]
    }
   ],
   "source": [
    "np.random.seed(args['seed'])\n",
    "print(\"Loading data .. \")\n",
    "if not os.path.exists(args['data']+'/mean.npy') or not os.path.exists(args['data']+'/std.npy'):\n",
    "    shapedata =  ShapeData(nVal=args['nVal'], \n",
    "                          train_file=args['data']+'/train.npy', \n",
    "                          test_file=args['data']+'/test.npy', \n",
    "                          reference_mesh_file=args['reference_mesh_file'],\n",
    "                          normalization = args['normalization'],\n",
    "                          meshpackage = meshpackage, load_flag = True)\n",
    "    np.save(args['data']+'/mean.npy', shapedata.mean)\n",
    "    np.save(args['data']+'/std.npy', shapedata.std)\n",
    "else:\n",
    "    shapedata = ShapeData(nVal=args['nVal'], \n",
    "                         train_file=args['data']+'/train.npy',\n",
    "                         test_file=args['data']+'/test.npy', \n",
    "                         reference_mesh_file=args['reference_mesh_file'],\n",
    "                         normalization = args['normalization'],\n",
    "                         meshpackage = meshpackage, load_flag = False)\n",
    "    shapedata.mean = np.load(args['data']+'/mean.npy')\n",
    "    shapedata.std = np.load(args['data']+'/std.npy')\n",
    "    shapedata.n_vertex = shapedata.mean.shape[0]\n",
    "    shapedata.n_features = shapedata.mean.shape[1]\n",
    "\n",
    "if not os.path.exists(os.path.join(args['downsample_directory'],'downsampling_matrices.pkl')):\n",
    "    if shapedata.meshpackage == 'trimesh':\n",
    "        raise NotImplementedError('Rerun with mpi-mesh as meshpackage')\n",
    "    print(\"Generating Transform Matrices ..\")\n",
    "    if downsample_method == 'COMA_downsample':\n",
    "        M,A,D,U,F = mesh_sampling.generate_transform_matrices(shapedata.reference_mesh, args['ds_factors'])\n",
    "        if args['write_mesh']:\n",
    "            import openmesh\n",
    "            for i in range(len(M)):\n",
    "                mesh = openmesh.TriMesh(points=M[i].v,face_vertex_indices=M[i].f)\n",
    "                openmesh.write_mesh(os.path.join(args['results_folder'],'downsample_mesh',args['name'], '%d.obj'%i),mesh)\n",
    "    with open(os.path.join(args['downsample_directory'],'downsampling_matrices.pkl'), 'wb') as fp:\n",
    "        M_verts_faces = [(M[i].v, M[i].f) for i in range(len(M))]\n",
    "        pickle.dump({'M_verts_faces':M_verts_faces,'A':A,'D':D,'U':U,'F':F}, fp)\n",
    "else:\n",
    "    print(\"Loading Transform Matrices ..\")\n",
    "    with open(os.path.join(args['downsample_directory'],'downsampling_matrices.pkl'), 'rb') as fp:\n",
    "        #downsampling_matrices = pickle.load(fp,encoding = 'latin1')\n",
    "        downsampling_matrices = pickle.load(fp)\n",
    "            \n",
    "    M_verts_faces = downsampling_matrices['M_verts_faces']\n",
    "    if shapedata.meshpackage == 'mpi-mesh':\n",
    "        from psbody.mesh import Mesh\n",
    "        M = [Mesh(v=M_verts_faces[i][0], f=M_verts_faces[i][1]) for i in range(len(M_verts_faces))]\n",
    "    elif shapedata.meshpackage == 'trimesh':\n",
    "        M = [trimesh.base.Trimesh(vertices=M_verts_faces[i][0], faces=M_verts_faces[i][1], process = False) for i in range(len(M_verts_faces))]\n",
    "    A = downsampling_matrices['A']\n",
    "    D = downsampling_matrices['D']\n",
    "    U = downsampling_matrices['U']\n",
    "    F = downsampling_matrices['F']\n",
    "        \n",
    "# Needs also an extra check to enforce points to belong to different disconnected component at each hierarchy level\n",
    "print(\"Calculating reference points for downsampled versions..\")\n",
    "for i in range(len(args['ds_factors'])):\n",
    "    if shapedata.meshpackage == 'mpi-mesh':\n",
    "        dist = euclidean_distances(M[i+1].v, M[0].v[reference_points[0]])\n",
    "    elif shapedata.meshpackage == 'trimesh':\n",
    "        dist = euclidean_distances(M[i+1].vertices, M[0].vertices[reference_points[0]])\n",
    "    reference_points.append(np.argmin(dist,axis=0).tolist())\n",
    "\n"
   ]
  },
  {
   "cell_type": "code",
   "execution_count": 15,
   "metadata": {
    "scrolled": true
   },
   "outputs": [
    {
     "name": "stdout",
     "output_type": "stream",
     "text": [
      "spiral generation for hierarchy 0 (11510 vertices) finished\n",
      "spiral generation for hierarchy 1 (2878 vertices) finished\n",
      "spiral sizes for hierarchy 0:  10\n",
      "spiral sizes for hierarchy 1:  9\n"
     ]
    }
   ],
   "source": [
    "if shapedata.meshpackage == 'mpi-mesh':\n",
    "    sizes = [x.v.shape[0] for x in M]\n",
    "elif shapedata.meshpackage == 'trimesh':\n",
    "    sizes = [x.vertices.shape[0] for x in M]\n",
    "Adj, Trigs = get_adj_trigs(A, F, shapedata.reference_mesh, meshpackage = shapedata.meshpackage)\n",
    "\n",
    "spirals_np, spiral_sizes,spirals = generate_spirals(args['step_sizes'], \n",
    "                                                    M, Adj, Trigs, \n",
    "                                                    reference_points = reference_points, \n",
    "                                                    dilation = args['dilation'], random = False, \n",
    "                                                    meshpackage = shapedata.meshpackage, \n",
    "                                                    counter_clockwise = True)\n",
    "\n",
    "bU = []\n",
    "bD = []\n",
    "for i in range(len(D)):\n",
    "    d = np.zeros((1,D[i].shape[0]+1,D[i].shape[1]+1))\n",
    "    u = np.zeros((1,U[i].shape[0]+1,U[i].shape[1]+1))\n",
    "    d[0,:-1,:-1] = D[i].todense()\n",
    "    u[0,:-1,:-1] = U[i].todense()\n",
    "    d[0,-1,-1] = 1\n",
    "    u[0,-1,-1] = 1\n",
    "    bD.append(d)\n",
    "    bU.append(u)\n"
   ]
  },
  {
   "cell_type": "code",
   "execution_count": 16,
   "metadata": {},
   "outputs": [
    {
     "name": "stdout",
     "output_type": "stream",
     "text": [
      "cuda:0\n"
     ]
    }
   ],
   "source": [
    "torch.manual_seed(args['seed'])\n",
    "\n",
    "if GPU:\n",
    "#     device = torch.device(\"cuda:0\" if torch.cuda.is_available() else \"cpu\")\n",
    "    device = torch.device(\"cuda:\"+str(device_idx) if torch.cuda.is_available() else \"cpu\")\n",
    "else:\n",
    "    device = torch.device(\"cpu\")\n",
    "print(device)\n",
    "\n",
    "tspirals = [torch.from_numpy(s).long().to(device) for s in spirals_np]\n",
    "tD = [torch.from_numpy(s).float().to(device) for s in bD]\n",
    "tU = [torch.from_numpy(s).float().to(device) for s in bU]"
   ]
  },
  {
   "cell_type": "code",
   "execution_count": 17,
   "metadata": {},
   "outputs": [
    {
     "data": {
      "text/plain": [
       "torch.Size([1, 11511, 10])"
      ]
     },
     "execution_count": 17,
     "metadata": {},
     "output_type": "execute_result"
    }
   ],
   "source": [
    "tspirals[0].shape"
   ]
  },
  {
   "cell_type": "code",
   "execution_count": 18,
   "metadata": {
    "scrolled": true
   },
   "outputs": [
    {
     "name": "stdout",
     "output_type": "stream",
     "text": [
      "Let's use 4 GPUs!\n"
     ]
    },
    {
     "name": "stderr",
     "output_type": "stream",
     "text": [
      "/home/jingwang/Data/anaconda3/envs/py2-spiral/lib/python2.7/site-packages/torch/nn/parallel/data_parallel.py:26: UserWarning: \n",
      "    There is an imbalance between your GPUs. You may want to exclude GPU 0 which\n",
      "    has less than 75% of the memory or cores of GPU 1. You can do so by setting\n",
      "    the device_ids argument to DataParallel, or by setting the CUDA_VISIBLE_DEVICES\n",
      "    environment variable.\n",
      "  warnings.warn(imbalance_warn.format(device_ids[min_pos], device_ids[max_pos]))\n"
     ]
    }
   ],
   "source": [
    "# Building model, optimizer, and loss function\n",
    "\n",
    "dataset_train = autoencoder_dataset(root_dir = args['data'], points_dataset = 'train',\n",
    "                                           shapedata = shapedata,\n",
    "                                           normalization = args['normalization'])\n",
    "\n",
    "dataloader_train = DataLoader(dataset_train, batch_size=args['batch_size'],\\\n",
    "                                     shuffle = args['shuffle'], num_workers = args['num_workers'], pin_memory=True)\n",
    "\n",
    "dataset_val = autoencoder_dataset(root_dir = args['data'], points_dataset = 'val', \n",
    "                                         shapedata = shapedata,\n",
    "                                         normalization = args['normalization'])\n",
    "\n",
    "dataloader_val = DataLoader(dataset_val, batch_size=args['batch_size'],\\\n",
    "                                     shuffle = False, num_workers = args['num_workers'], pin_memory=True)\n",
    "\n",
    "\n",
    "dataset_test = autoencoder_dataset(root_dir = args['data'], points_dataset = 'test',\n",
    "                                          shapedata = shapedata,\n",
    "                                          normalization = args['normalization'])\n",
    "\n",
    "dataloader_test = DataLoader(dataset_test, batch_size=args['batch_size'],\\\n",
    "                                     shuffle = False, num_workers = args['num_workers'],  pin_memory=True)\n",
    "\n",
    "\n",
    "\n",
    "if 'autoencoder' in args['generative_model']:\n",
    "        model = torch.nn.DataParallel(SpiralAutoencoder(filters_enc = args['filter_sizes_enc'],   \n",
    "                                  filters_dec = args['filter_sizes_dec'],\n",
    "                                  latent_size=args['nz'],\n",
    "                                  sizes=sizes,\n",
    "                                  spiral_sizes=spiral_sizes,\n",
    "                                  spirals=tspirals,\n",
    "                                  D=tD, U=tU).to(device),device_ids=device_ids)\n",
    "        if torch.cuda.device_count() > 1:\n",
    "#             model = torch.nn.parallel.DataParallel(model, device_ids=device_ids)\n",
    "            print('Let\\'s use %d GPUs!'%torch.cuda.device_count())\n",
    " \n",
    "    \n",
    "optim = torch.optim.Adam(model.parameters(),lr=args['lr'],weight_decay=args['regularization'])\n",
    "if args['scheduler']:\n",
    "    scheduler=torch.optim.lr_scheduler.StepLR(optim, args['decay_steps'],gamma=args['decay_rate'])\n",
    "else:\n",
    "    scheduler = None\n",
    "\n",
    "def loss_l2(outputs, targets):\n",
    "    L = torch.sqrt(torch.mean((outputs - targets)**2))\n",
    "    return L\n",
    "    \n",
    "if args['loss']=='l1':\n",
    "    def loss_l1(outputs, targets):\n",
    "        L = torch.abs(outputs - targets).mean()\n",
    "        return L \n",
    "    loss_fn = loss_l1\n",
    "elif arg['loss']=='l1_var':\n",
    "    lambda_var = args['lambda_var']\n",
    "    def variational_loss(tx,tx_hat):\n",
    "        x,mu,logvar = tx\n",
    "        l1_loss = torch.mean(torch.abs(x-tx))\n",
    "        var_loss = -0.5 * torch.sum(1 + logvar - mu.pow(2) - logvar.exp())\n",
    "        return l1_loss + lambda_var * var_loss\n",
    "    loss_fn = variational_loss\n",
    "\n"
   ]
  },
  {
   "cell_type": "code",
   "execution_count": 19,
   "metadata": {},
   "outputs": [
    {
     "name": "stdout",
     "output_type": "stream",
     "text": [
      "Total number of parameters is: 23683635\n",
      "DataParallel(\n",
      "  (module): SpiralAutoencoder(\n",
      "    (conv): ModuleList(\n",
      "      (0): SpiralConv(\n",
      "        (conv): Linear(in_features=30, out_features=32, bias=True)\n",
      "        (activation): ELU(alpha=1.0)\n",
      "      )\n",
      "    )\n",
      "    (fc_latent_enc): Linear(in_features=92128, out_features=128, bias=True)\n",
      "    (fc_latent_dec): Linear(in_features=128, out_features=92128, bias=True)\n",
      "    (dconv): ModuleList(\n",
      "      (0): SpiralConv(\n",
      "        (conv): Linear(in_features=320, out_features=16, bias=True)\n",
      "        (activation): ELU(alpha=1.0)\n",
      "      )\n",
      "      (1): SpiralConv(\n",
      "        (conv): Linear(in_features=160, out_features=3, bias=True)\n",
      "      )\n",
      "    )\n",
      "  )\n",
      ")\n"
     ]
    }
   ],
   "source": [
    "params = sum(p.numel() for p in model.parameters() if p.requires_grad)\n",
    "print(\"Total number of parameters is: {}\".format(params)) \n",
    "print(model)\n",
    "# print(M[4].v.shape)"
   ]
  },
  {
   "cell_type": "code",
   "execution_count": 10,
   "metadata": {},
   "outputs": [
    {
     "data": {
      "text/plain": [
       "642944"
      ]
     },
     "execution_count": 10,
     "metadata": {},
     "output_type": "execute_result"
    }
   ],
   "source": [
    "128*5023"
   ]
  },
  {
   "cell_type": "code",
   "execution_count": 11,
   "metadata": {},
   "outputs": [
    {
     "data": {
      "text/plain": [
       "21"
      ]
     },
     "execution_count": 11,
     "metadata": {},
     "output_type": "execute_result"
    }
   ],
   "source": [
    "2688/128"
   ]
  },
  {
   "cell_type": "code",
   "execution_count": 14,
   "metadata": {
    "scrolled": true
   },
   "outputs": [
    {
     "name": "stderr",
     "output_type": "stream",
     "text": [
      "100%|██████████| 97/97 [01:23<00:00,  1.48it/s]\n",
      "100%|██████████| 2/2 [00:05<00:00,  3.92s/it]\n"
     ]
    },
    {
     "name": "stdout",
     "output_type": "stream",
     "text": [
      "epoch 0 | tr 0.513800279745 | val 0.335121604204\n"
     ]
    },
    {
     "name": "stderr",
     "output_type": "stream",
     "text": [
      "100%|██████████| 97/97 [01:16<00:00,  1.48it/s]\n",
      "100%|██████████| 2/2 [00:05<00:00,  2.94s/it]\n"
     ]
    },
    {
     "name": "stdout",
     "output_type": "stream",
     "text": [
      "epoch 1 | tr 0.276958546967 | val 0.25284075439\n"
     ]
    },
    {
     "name": "stderr",
     "output_type": "stream",
     "text": [
      "100%|██████████| 97/97 [01:16<00:00,  1.48it/s]\n",
      "100%|██████████| 2/2 [00:05<00:00,  2.99s/it]\n"
     ]
    },
    {
     "name": "stdout",
     "output_type": "stream",
     "text": [
      "epoch 2 | tr 0.220896459499 | val 0.21656611383\n"
     ]
    },
    {
     "name": "stderr",
     "output_type": "stream",
     "text": [
      "100%|██████████| 97/97 [01:16<00:00,  1.48it/s]\n",
      "100%|██████████| 2/2 [00:06<00:00,  3.01s/it]\n"
     ]
    },
    {
     "name": "stdout",
     "output_type": "stream",
     "text": [
      "epoch 3 | tr 0.192009133563 | val 0.190629543066\n"
     ]
    },
    {
     "name": "stderr",
     "output_type": "stream",
     "text": [
      "100%|██████████| 97/97 [01:16<00:00,  1.47it/s]\n",
      "100%|██████████| 2/2 [00:06<00:00,  3.01s/it]\n"
     ]
    },
    {
     "name": "stdout",
     "output_type": "stream",
     "text": [
      "epoch 4 | tr 0.174960222738 | val 0.182885987163\n"
     ]
    },
    {
     "name": "stderr",
     "output_type": "stream",
     "text": [
      "100%|██████████| 97/97 [01:17<00:00,  1.47it/s]\n",
      "100%|██████████| 2/2 [00:05<00:00,  3.84s/it]\n"
     ]
    },
    {
     "name": "stdout",
     "output_type": "stream",
     "text": [
      "epoch 5 | tr 0.156118331336 | val 0.167732248902\n"
     ]
    },
    {
     "name": "stderr",
     "output_type": "stream",
     "text": [
      "100%|██████████| 97/97 [01:17<00:00,  1.46it/s]\n",
      "100%|██████████| 2/2 [00:05<00:00,  2.99s/it]\n"
     ]
    },
    {
     "name": "stdout",
     "output_type": "stream",
     "text": [
      "epoch 6 | tr 0.152241090248 | val 0.164357124567\n"
     ]
    },
    {
     "name": "stderr",
     "output_type": "stream",
     "text": [
      "100%|██████████| 97/97 [01:17<00:00,  1.47it/s]\n",
      "100%|██████████| 2/2 [00:05<00:00,  2.97s/it]\n"
     ]
    },
    {
     "name": "stdout",
     "output_type": "stream",
     "text": [
      "epoch 7 | tr 0.141347240631 | val 0.156274980307\n"
     ]
    },
    {
     "name": "stderr",
     "output_type": "stream",
     "text": [
      "100%|██████████| 97/97 [01:17<00:00,  1.47it/s]\n",
      "100%|██████████| 2/2 [00:05<00:00,  3.80s/it]\n"
     ]
    },
    {
     "name": "stdout",
     "output_type": "stream",
     "text": [
      "epoch 8 | tr 0.131721924451 | val 0.148227498531\n"
     ]
    },
    {
     "name": "stderr",
     "output_type": "stream",
     "text": [
      "100%|██████████| 97/97 [01:17<00:00,  1.46it/s]\n",
      "100%|██████████| 2/2 [00:05<00:00,  2.96s/it]\n"
     ]
    },
    {
     "name": "stdout",
     "output_type": "stream",
     "text": [
      "epoch 9 | tr 0.131757073079 | val 0.138187095523\n"
     ]
    },
    {
     "name": "stderr",
     "output_type": "stream",
     "text": [
      "100%|██████████| 97/97 [01:17<00:00,  1.47it/s]\n",
      "100%|██████████| 2/2 [00:05<00:00,  2.95s/it]\n"
     ]
    },
    {
     "name": "stdout",
     "output_type": "stream",
     "text": [
      "epoch 10 | tr 0.125128592448 | val 0.140960928798\n"
     ]
    },
    {
     "name": "stderr",
     "output_type": "stream",
     "text": [
      "100%|██████████| 97/97 [01:17<00:00,  1.47it/s]\n",
      "100%|██████████| 2/2 [00:05<00:00,  3.94s/it]\n"
     ]
    },
    {
     "name": "stdout",
     "output_type": "stream",
     "text": [
      "epoch 11 | tr 0.121042308905 | val 0.136604729891\n"
     ]
    },
    {
     "name": "stderr",
     "output_type": "stream",
     "text": [
      "100%|██████████| 97/97 [01:17<00:00,  1.48it/s]\n",
      "100%|██████████| 2/2 [00:05<00:00,  3.84s/it]\n"
     ]
    },
    {
     "name": "stdout",
     "output_type": "stream",
     "text": [
      "epoch 12 | tr 0.118327864388 | val 0.131004008949\n"
     ]
    },
    {
     "name": "stderr",
     "output_type": "stream",
     "text": [
      "100%|██████████| 97/97 [01:16<00:00,  1.46it/s]\n",
      "100%|██████████| 2/2 [00:05<00:00,  3.81s/it]\n"
     ]
    },
    {
     "name": "stdout",
     "output_type": "stream",
     "text": [
      "epoch 13 | tr 0.112974578322 | val 0.132992919385\n"
     ]
    },
    {
     "name": "stderr",
     "output_type": "stream",
     "text": [
      "100%|██████████| 97/97 [01:17<00:00,  1.47it/s]\n",
      "100%|██████████| 2/2 [00:06<00:00,  3.03s/it]\n"
     ]
    },
    {
     "name": "stdout",
     "output_type": "stream",
     "text": [
      "epoch 14 | tr 0.110354766841 | val 0.128003394008\n"
     ]
    },
    {
     "name": "stderr",
     "output_type": "stream",
     "text": [
      "100%|██████████| 97/97 [01:17<00:00,  1.47it/s]\n",
      "100%|██████████| 2/2 [00:05<00:00,  2.98s/it]\n"
     ]
    },
    {
     "name": "stdout",
     "output_type": "stream",
     "text": [
      "epoch 15 | tr 0.108574256918 | val 0.124137710929\n"
     ]
    },
    {
     "name": "stderr",
     "output_type": "stream",
     "text": [
      "100%|██████████| 97/97 [01:17<00:00,  1.47it/s]\n",
      "100%|██████████| 2/2 [00:05<00:00,  3.79s/it]\n"
     ]
    },
    {
     "name": "stdout",
     "output_type": "stream",
     "text": [
      "epoch 16 | tr 0.104700444125 | val 0.121392237544\n"
     ]
    },
    {
     "name": "stderr",
     "output_type": "stream",
     "text": [
      "100%|██████████| 97/97 [01:17<00:00,  1.47it/s]\n",
      "100%|██████████| 2/2 [00:06<00:00,  3.04s/it]\n"
     ]
    },
    {
     "name": "stdout",
     "output_type": "stream",
     "text": [
      "epoch 17 | tr 0.103483253049 | val 0.1215057832\n"
     ]
    },
    {
     "name": "stderr",
     "output_type": "stream",
     "text": [
      "100%|██████████| 97/97 [01:17<00:00,  1.47it/s]\n",
      "100%|██████████| 2/2 [00:05<00:00,  3.87s/it]\n"
     ]
    },
    {
     "name": "stdout",
     "output_type": "stream",
     "text": [
      "epoch 18 | tr 0.0999110979253 | val 0.115056543648\n"
     ]
    },
    {
     "name": "stderr",
     "output_type": "stream",
     "text": [
      "100%|██████████| 97/97 [01:17<00:00,  1.47it/s]\n",
      "100%|██████████| 2/2 [00:06<00:00,  3.03s/it]\n"
     ]
    },
    {
     "name": "stdout",
     "output_type": "stream",
     "text": [
      "epoch 19 | tr 0.0988929265275 | val 0.117165701091\n"
     ]
    },
    {
     "name": "stderr",
     "output_type": "stream",
     "text": [
      "100%|██████████| 97/97 [01:17<00:00,  1.47it/s]\n",
      "100%|██████████| 2/2 [00:05<00:00,  2.98s/it]\n"
     ]
    },
    {
     "name": "stdout",
     "output_type": "stream",
     "text": [
      "epoch 20 | tr 0.0972873931044 | val 0.115165958405\n"
     ]
    },
    {
     "name": "stderr",
     "output_type": "stream",
     "text": [
      "100%|██████████| 97/97 [01:17<00:00,  1.47it/s]\n",
      "100%|██████████| 2/2 [00:06<00:00,  3.05s/it]\n"
     ]
    },
    {
     "name": "stdout",
     "output_type": "stream",
     "text": [
      "epoch 21 | tr 0.0969804232747 | val 0.110871402621\n"
     ]
    },
    {
     "name": "stderr",
     "output_type": "stream",
     "text": [
      "100%|██████████| 97/97 [01:17<00:00,  1.46it/s]\n",
      "100%|██████████| 2/2 [00:05<00:00,  3.85s/it]\n"
     ]
    },
    {
     "name": "stdout",
     "output_type": "stream",
     "text": [
      "epoch 22 | tr 0.0963694453753 | val 0.114491105974\n"
     ]
    },
    {
     "name": "stderr",
     "output_type": "stream",
     "text": [
      "100%|██████████| 97/97 [01:17<00:00,  1.47it/s]\n",
      "100%|██████████| 2/2 [00:05<00:00,  3.91s/it]\n"
     ]
    },
    {
     "name": "stdout",
     "output_type": "stream",
     "text": [
      "epoch 23 | tr 0.0943089206157 | val 0.110424720645\n"
     ]
    },
    {
     "name": "stderr",
     "output_type": "stream",
     "text": [
      "100%|██████████| 97/97 [01:17<00:00,  1.47it/s]\n",
      "100%|██████████| 2/2 [00:05<00:00,  2.94s/it]\n"
     ]
    },
    {
     "name": "stdout",
     "output_type": "stream",
     "text": [
      "epoch 24 | tr 0.0948657818909 | val 0.107327494621\n"
     ]
    },
    {
     "name": "stderr",
     "output_type": "stream",
     "text": [
      "100%|██████████| 97/97 [01:16<00:00,  1.47it/s]\n",
      "100%|██████████| 2/2 [00:05<00:00,  2.94s/it]\n"
     ]
    },
    {
     "name": "stdout",
     "output_type": "stream",
     "text": [
      "epoch 25 | tr 0.0885547685726 | val 0.105570139289\n"
     ]
    },
    {
     "name": "stderr",
     "output_type": "stream",
     "text": [
      "100%|██████████| 97/97 [01:17<00:00,  1.47it/s]\n",
      "100%|██████████| 2/2 [00:05<00:00,  2.95s/it]\n"
     ]
    },
    {
     "name": "stdout",
     "output_type": "stream",
     "text": [
      "epoch 26 | tr 0.0871771808585 | val 0.108905961215\n"
     ]
    },
    {
     "name": "stderr",
     "output_type": "stream",
     "text": [
      "100%|██████████| 97/97 [01:17<00:00,  1.46it/s]\n",
      "100%|██████████| 2/2 [00:05<00:00,  3.80s/it]\n"
     ]
    },
    {
     "name": "stdout",
     "output_type": "stream",
     "text": [
      "epoch 27 | tr 0.0885929788238 | val 0.103905022144\n"
     ]
    },
    {
     "name": "stderr",
     "output_type": "stream",
     "text": [
      "100%|██████████| 97/97 [01:17<00:00,  1.46it/s]\n",
      "100%|██████████| 2/2 [00:05<00:00,  2.96s/it]\n"
     ]
    },
    {
     "name": "stdout",
     "output_type": "stream",
     "text": [
      "epoch 28 | tr 0.0857047013168 | val 0.111413721144\n"
     ]
    },
    {
     "name": "stderr",
     "output_type": "stream",
     "text": [
      "100%|██████████| 97/97 [01:16<00:00,  1.47it/s]\n",
      "100%|██████████| 2/2 [00:05<00:00,  3.87s/it]\n"
     ]
    },
    {
     "name": "stdout",
     "output_type": "stream",
     "text": [
      "epoch 29 | tr 0.0871363077441 | val 0.112896489799\n"
     ]
    },
    {
     "name": "stderr",
     "output_type": "stream",
     "text": [
      "100%|██████████| 97/97 [01:17<00:00,  1.47it/s]\n",
      "100%|██████████| 2/2 [00:05<00:00,  2.95s/it]\n"
     ]
    },
    {
     "name": "stdout",
     "output_type": "stream",
     "text": [
      "epoch 30 | tr 0.0847681838891 | val 0.103460202217\n"
     ]
    },
    {
     "name": "stderr",
     "output_type": "stream",
     "text": [
      "100%|██████████| 97/97 [01:17<00:00,  1.46it/s]\n",
      "100%|██████████| 2/2 [00:05<00:00,  2.90s/it]\n"
     ]
    },
    {
     "name": "stdout",
     "output_type": "stream",
     "text": [
      "epoch 31 | tr 0.0857295431967 | val 0.105345871747\n"
     ]
    },
    {
     "name": "stderr",
     "output_type": "stream",
     "text": [
      "100%|██████████| 97/97 [01:16<00:00,  1.47it/s]\n",
      "100%|██████████| 2/2 [00:06<00:00,  3.07s/it]\n"
     ]
    },
    {
     "name": "stdout",
     "output_type": "stream",
     "text": [
      "epoch 32 | tr 0.0829253701557 | val 0.102092578709\n"
     ]
    },
    {
     "name": "stderr",
     "output_type": "stream",
     "text": [
      "100%|██████████| 97/97 [01:17<00:00,  1.47it/s]\n",
      "100%|██████████| 2/2 [00:05<00:00,  3.81s/it]\n"
     ]
    },
    {
     "name": "stdout",
     "output_type": "stream",
     "text": [
      "epoch 33 | tr 0.0844706362691 | val 0.103589070141\n"
     ]
    },
    {
     "name": "stderr",
     "output_type": "stream",
     "text": [
      "100%|██████████| 97/97 [01:16<00:00,  1.47it/s]\n",
      "100%|██████████| 2/2 [00:06<00:00,  3.01s/it]\n"
     ]
    },
    {
     "name": "stdout",
     "output_type": "stream",
     "text": [
      "epoch 34 | tr 0.0805756643414 | val 0.102762301862\n"
     ]
    },
    {
     "name": "stderr",
     "output_type": "stream",
     "text": [
      "100%|██████████| 97/97 [01:16<00:00,  1.48it/s]\n",
      "100%|██████████| 2/2 [00:06<00:00,  3.06s/it]\n"
     ]
    },
    {
     "name": "stdout",
     "output_type": "stream",
     "text": [
      "epoch 35 | tr 0.0803270888483 | val 0.0991189852357\n"
     ]
    },
    {
     "name": "stderr",
     "output_type": "stream",
     "text": [
      "100%|██████████| 97/97 [01:17<00:00,  1.46it/s]\n",
      "100%|██████████| 2/2 [00:05<00:00,  2.96s/it]\n"
     ]
    },
    {
     "name": "stdout",
     "output_type": "stream",
     "text": [
      "epoch 36 | tr 0.0801903401983 | val 0.108584632277\n"
     ]
    },
    {
     "name": "stderr",
     "output_type": "stream",
     "text": [
      "100%|██████████| 97/97 [01:17<00:00,  1.47it/s]\n",
      "100%|██████████| 2/2 [00:05<00:00,  2.98s/it]\n"
     ]
    },
    {
     "name": "stdout",
     "output_type": "stream",
     "text": [
      "epoch 37 | tr 0.0786487989128 | val 0.0990088689327\n"
     ]
    },
    {
     "name": "stderr",
     "output_type": "stream",
     "text": [
      "100%|██████████| 97/97 [01:16<00:00,  1.47it/s]\n",
      "100%|██████████| 2/2 [00:06<00:00,  3.03s/it]\n"
     ]
    },
    {
     "name": "stdout",
     "output_type": "stream",
     "text": [
      "epoch 38 | tr 0.0763705218147 | val 0.100557996333\n"
     ]
    },
    {
     "name": "stderr",
     "output_type": "stream",
     "text": [
      "100%|██████████| 97/97 [01:17<00:00,  1.48it/s]\n",
      "100%|██████████| 2/2 [00:05<00:00,  2.82s/it]\n"
     ]
    },
    {
     "name": "stdout",
     "output_type": "stream",
     "text": [
      "epoch 39 | tr 0.0791962770809 | val 0.102594838142\n"
     ]
    },
    {
     "name": "stderr",
     "output_type": "stream",
     "text": [
      "100%|██████████| 97/97 [01:16<00:00,  1.47it/s]\n",
      "100%|██████████| 2/2 [00:05<00:00,  2.93s/it]\n"
     ]
    },
    {
     "name": "stdout",
     "output_type": "stream",
     "text": [
      "epoch 40 | tr 0.0790191060767 | val 0.101214667261\n"
     ]
    },
    {
     "name": "stderr",
     "output_type": "stream",
     "text": [
      "100%|██████████| 97/97 [01:16<00:00,  1.47it/s]\n",
      "100%|██████████| 2/2 [00:05<00:00,  2.95s/it]\n"
     ]
    },
    {
     "name": "stdout",
     "output_type": "stream",
     "text": [
      "epoch 41 | tr 0.0767901282115 | val 0.0973853135109\n"
     ]
    },
    {
     "name": "stderr",
     "output_type": "stream",
     "text": [
      "100%|██████████| 97/97 [01:17<00:00,  1.46it/s]\n",
      "100%|██████████| 2/2 [00:05<00:00,  2.96s/it]\n"
     ]
    },
    {
     "name": "stdout",
     "output_type": "stream",
     "text": [
      "epoch 42 | tr 0.0733429383615 | val 0.0959478378296\n"
     ]
    },
    {
     "name": "stderr",
     "output_type": "stream",
     "text": [
      "100%|██████████| 97/97 [01:17<00:00,  1.47it/s]\n",
      "100%|██████████| 2/2 [00:05<00:00,  2.97s/it]\n"
     ]
    },
    {
     "name": "stdout",
     "output_type": "stream",
     "text": [
      "epoch 43 | tr 0.0775003012398 | val 0.100433691442\n"
     ]
    },
    {
     "name": "stderr",
     "output_type": "stream",
     "text": [
      "100%|██████████| 97/97 [01:17<00:00,  1.46it/s]\n",
      "100%|██████████| 2/2 [00:05<00:00,  2.94s/it]\n"
     ]
    },
    {
     "name": "stdout",
     "output_type": "stream",
     "text": [
      "epoch 44 | tr 0.0738170081942 | val 0.0972260433435\n"
     ]
    },
    {
     "name": "stderr",
     "output_type": "stream",
     "text": [
      "100%|██████████| 97/97 [01:16<00:00,  1.47it/s]\n",
      "100%|██████████| 2/2 [00:05<00:00,  3.89s/it]\n"
     ]
    },
    {
     "name": "stdout",
     "output_type": "stream",
     "text": [
      "epoch 45 | tr 0.0718915398265 | val 0.0950180581212\n"
     ]
    },
    {
     "name": "stderr",
     "output_type": "stream",
     "text": [
      "100%|██████████| 97/97 [01:17<00:00,  1.47it/s]\n",
      "100%|██████████| 2/2 [00:05<00:00,  3.95s/it]\n"
     ]
    },
    {
     "name": "stdout",
     "output_type": "stream",
     "text": [
      "epoch 46 | tr 0.0734505271089 | val 0.0983893111348\n"
     ]
    },
    {
     "name": "stderr",
     "output_type": "stream",
     "text": [
      "100%|██████████| 97/97 [01:17<00:00,  1.47it/s]\n",
      "100%|██████████| 2/2 [00:06<00:00,  3.01s/it]\n"
     ]
    },
    {
     "name": "stdout",
     "output_type": "stream",
     "text": [
      "epoch 47 | tr 0.0730127130089 | val 0.101156622171\n"
     ]
    },
    {
     "name": "stderr",
     "output_type": "stream",
     "text": [
      "100%|██████████| 97/97 [01:16<00:00,  1.46it/s]\n",
      "100%|██████████| 2/2 [00:06<00:00,  3.02s/it]\n"
     ]
    },
    {
     "name": "stdout",
     "output_type": "stream",
     "text": [
      "epoch 48 | tr 0.0724734119043 | val 0.0946831774712\n"
     ]
    },
    {
     "name": "stderr",
     "output_type": "stream",
     "text": [
      "100%|██████████| 97/97 [01:16<00:00,  1.47it/s]\n",
      "100%|██████████| 2/2 [00:06<00:00,  3.02s/it]\n"
     ]
    },
    {
     "name": "stdout",
     "output_type": "stream",
     "text": [
      "epoch 49 | tr 0.0703534423791 | val 0.0950577184558\n"
     ]
    },
    {
     "name": "stderr",
     "output_type": "stream",
     "text": [
      "100%|██████████| 97/97 [01:17<00:00,  1.47it/s]\n",
      "100%|██████████| 2/2 [00:05<00:00,  2.83s/it]\n"
     ]
    },
    {
     "name": "stdout",
     "output_type": "stream",
     "text": [
      "epoch 50 | tr 0.0709805386077 | val 0.0940340796113\n"
     ]
    },
    {
     "name": "stderr",
     "output_type": "stream",
     "text": [
      "100%|██████████| 97/97 [01:17<00:00,  1.47it/s]\n",
      "100%|██████████| 2/2 [00:05<00:00,  3.85s/it]\n"
     ]
    },
    {
     "name": "stdout",
     "output_type": "stream",
     "text": [
      "epoch 51 | tr 0.0723444790933 | val 0.093690263927\n"
     ]
    },
    {
     "name": "stderr",
     "output_type": "stream",
     "text": [
      "100%|██████████| 97/97 [01:17<00:00,  1.48it/s]\n",
      "100%|██████████| 2/2 [00:05<00:00,  2.99s/it]\n"
     ]
    },
    {
     "name": "stdout",
     "output_type": "stream",
     "text": [
      "epoch 52 | tr 0.0692796472075 | val 0.0966285794973\n"
     ]
    },
    {
     "name": "stderr",
     "output_type": "stream",
     "text": [
      "100%|██████████| 97/97 [01:16<00:00,  1.47it/s]\n",
      "100%|██████████| 2/2 [00:06<00:00,  3.04s/it]\n"
     ]
    },
    {
     "name": "stdout",
     "output_type": "stream",
     "text": [
      "epoch 53 | tr 0.0680940414811 | val 0.0910237535834\n"
     ]
    },
    {
     "name": "stderr",
     "output_type": "stream",
     "text": [
      "100%|██████████| 97/97 [01:17<00:00,  1.47it/s]\n",
      "100%|██████████| 2/2 [00:06<00:00,  3.01s/it]\n"
     ]
    },
    {
     "name": "stdout",
     "output_type": "stream",
     "text": [
      "epoch 54 | tr 0.0683870873831 | val 0.0891500276327\n"
     ]
    },
    {
     "name": "stderr",
     "output_type": "stream",
     "text": [
      "100%|██████████| 97/97 [01:16<00:00,  1.48it/s]\n",
      "100%|██████████| 2/2 [00:05<00:00,  2.98s/it]\n"
     ]
    },
    {
     "name": "stdout",
     "output_type": "stream",
     "text": [
      "epoch 55 | tr 0.0675116892262 | val 0.0931577268243\n"
     ]
    },
    {
     "name": "stderr",
     "output_type": "stream",
     "text": [
      "100%|██████████| 97/97 [01:17<00:00,  1.46it/s]\n",
      "100%|██████████| 2/2 [00:05<00:00,  2.96s/it]\n"
     ]
    },
    {
     "name": "stdout",
     "output_type": "stream",
     "text": [
      "epoch 56 | tr 0.0691985542918 | val 0.0923396411538\n"
     ]
    },
    {
     "name": "stderr",
     "output_type": "stream",
     "text": [
      "100%|██████████| 97/97 [01:17<00:00,  1.47it/s]\n",
      "100%|██████████| 2/2 [00:05<00:00,  3.95s/it]\n"
     ]
    },
    {
     "name": "stdout",
     "output_type": "stream",
     "text": [
      "epoch 57 | tr 0.0665992095296 | val 0.0921356731653\n"
     ]
    },
    {
     "name": "stderr",
     "output_type": "stream",
     "text": [
      "100%|██████████| 97/97 [01:17<00:00,  1.47it/s]\n",
      "100%|██████████| 2/2 [00:05<00:00,  3.99s/it]\n"
     ]
    },
    {
     "name": "stdout",
     "output_type": "stream",
     "text": [
      "epoch 58 | tr 0.068219100427 | val 0.0876381412148\n"
     ]
    },
    {
     "name": "stderr",
     "output_type": "stream",
     "text": [
      "100%|██████████| 97/97 [01:17<00:00,  1.47it/s]\n",
      "100%|██████████| 2/2 [00:05<00:00,  3.90s/it]\n"
     ]
    },
    {
     "name": "stdout",
     "output_type": "stream",
     "text": [
      "epoch 59 | tr 0.0664227854204 | val 0.0931127288938\n"
     ]
    },
    {
     "name": "stderr",
     "output_type": "stream",
     "text": [
      "100%|██████████| 97/97 [01:17<00:00,  1.46it/s]\n",
      "100%|██████████| 2/2 [00:05<00:00,  2.95s/it]\n"
     ]
    },
    {
     "name": "stdout",
     "output_type": "stream",
     "text": [
      "epoch 60 | tr 0.0673470342211 | val 0.0881303203106\n"
     ]
    },
    {
     "name": "stderr",
     "output_type": "stream",
     "text": [
      "100%|██████████| 97/97 [01:17<00:00,  1.47it/s]\n",
      "100%|██████████| 2/2 [00:05<00:00,  2.97s/it]\n"
     ]
    },
    {
     "name": "stdout",
     "output_type": "stream",
     "text": [
      "epoch 61 | tr 0.0652612595337 | val 0.0888529220223\n"
     ]
    },
    {
     "name": "stderr",
     "output_type": "stream",
     "text": [
      "100%|██████████| 97/97 [01:17<00:00,  1.47it/s]\n",
      "100%|██████████| 2/2 [00:06<00:00,  3.04s/it]\n"
     ]
    },
    {
     "name": "stdout",
     "output_type": "stream",
     "text": [
      "epoch 62 | tr 0.0648579602868 | val 0.0895755526423\n"
     ]
    },
    {
     "name": "stderr",
     "output_type": "stream",
     "text": [
      "100%|██████████| 97/97 [01:17<00:00,  1.47it/s]\n",
      "100%|██████████| 2/2 [00:05<00:00,  2.97s/it]\n"
     ]
    },
    {
     "name": "stdout",
     "output_type": "stream",
     "text": [
      "epoch 63 | tr 0.0651003413545 | val 0.0871379181743\n"
     ]
    },
    {
     "name": "stderr",
     "output_type": "stream",
     "text": [
      "100%|██████████| 97/97 [01:17<00:00,  1.47it/s]\n",
      "100%|██████████| 2/2 [00:05<00:00,  2.98s/it]\n"
     ]
    },
    {
     "name": "stdout",
     "output_type": "stream",
     "text": [
      "epoch 64 | tr 0.0646103653543 | val 0.0890098166466\n"
     ]
    },
    {
     "name": "stderr",
     "output_type": "stream",
     "text": [
      "100%|██████████| 97/97 [01:17<00:00,  1.47it/s]\n",
      "100%|██████████| 2/2 [00:05<00:00,  2.99s/it]\n"
     ]
    },
    {
     "name": "stdout",
     "output_type": "stream",
     "text": [
      "epoch 65 | tr 0.0645993092451 | val 0.0890401789546\n"
     ]
    },
    {
     "name": "stderr",
     "output_type": "stream",
     "text": [
      "100%|██████████| 97/97 [01:17<00:00,  1.47it/s]\n",
      "100%|██████████| 2/2 [00:05<00:00,  2.95s/it]\n"
     ]
    },
    {
     "name": "stdout",
     "output_type": "stream",
     "text": [
      "epoch 66 | tr 0.0636784036098 | val 0.0914680179954\n"
     ]
    },
    {
     "name": "stderr",
     "output_type": "stream",
     "text": [
      "100%|██████████| 97/97 [01:17<00:00,  1.47it/s]\n",
      "100%|██████████| 2/2 [00:06<00:00,  3.04s/it]\n"
     ]
    },
    {
     "name": "stdout",
     "output_type": "stream",
     "text": [
      "epoch 67 | tr 0.0630666130704 | val 0.0873731401563\n"
     ]
    },
    {
     "name": "stderr",
     "output_type": "stream",
     "text": [
      "100%|██████████| 97/97 [01:17<00:00,  1.47it/s]\n",
      "100%|██████████| 2/2 [00:06<00:00,  3.00s/it]\n"
     ]
    },
    {
     "name": "stdout",
     "output_type": "stream",
     "text": [
      "epoch 68 | tr 0.0632755833196 | val 0.0880865639448\n"
     ]
    },
    {
     "name": "stderr",
     "output_type": "stream",
     "text": [
      "100%|██████████| 97/97 [01:17<00:00,  1.47it/s]\n",
      "100%|██████████| 2/2 [00:05<00:00,  3.82s/it]\n"
     ]
    },
    {
     "name": "stdout",
     "output_type": "stream",
     "text": [
      "epoch 69 | tr 0.0620367746286 | val 0.0912196516991\n"
     ]
    },
    {
     "name": "stderr",
     "output_type": "stream",
     "text": [
      "100%|██████████| 97/97 [01:17<00:00,  1.47it/s]\n",
      "100%|██████████| 2/2 [00:05<00:00,  2.95s/it]\n"
     ]
    },
    {
     "name": "stdout",
     "output_type": "stream",
     "text": [
      "epoch 70 | tr 0.0621185887733 | val 0.0879690054059\n"
     ]
    },
    {
     "name": "stderr",
     "output_type": "stream",
     "text": [
      "100%|██████████| 97/97 [01:16<00:00,  1.47it/s]\n",
      "100%|██████████| 2/2 [00:05<00:00,  2.94s/it]\n"
     ]
    },
    {
     "name": "stdout",
     "output_type": "stream",
     "text": [
      "epoch 71 | tr 0.061710526473 | val 0.086039044261\n"
     ]
    },
    {
     "name": "stderr",
     "output_type": "stream",
     "text": [
      "100%|██████████| 97/97 [01:17<00:00,  1.46it/s]\n",
      "100%|██████████| 2/2 [00:05<00:00,  2.98s/it]\n"
     ]
    },
    {
     "name": "stdout",
     "output_type": "stream",
     "text": [
      "epoch 72 | tr 0.0612018877062 | val 0.0883620604873\n"
     ]
    },
    {
     "name": "stderr",
     "output_type": "stream",
     "text": [
      "100%|██████████| 97/97 [01:17<00:00,  1.47it/s]\n",
      "100%|██████████| 2/2 [00:06<00:00,  4.43s/it]\n"
     ]
    },
    {
     "name": "stdout",
     "output_type": "stream",
     "text": [
      "epoch 73 | tr 0.0624775114758 | val 0.0863000246882\n"
     ]
    },
    {
     "name": "stderr",
     "output_type": "stream",
     "text": [
      "100%|██████████| 97/97 [01:17<00:00,  1.47it/s]\n",
      "100%|██████████| 2/2 [00:05<00:00,  2.98s/it]\n"
     ]
    },
    {
     "name": "stdout",
     "output_type": "stream",
     "text": [
      "epoch 74 | tr 0.0606706571862 | val 0.0854777187109\n"
     ]
    },
    {
     "name": "stderr",
     "output_type": "stream",
     "text": [
      "100%|██████████| 97/97 [01:17<00:00,  1.47it/s]\n",
      "100%|██████████| 2/2 [00:05<00:00,  2.98s/it]\n"
     ]
    },
    {
     "name": "stdout",
     "output_type": "stream",
     "text": [
      "epoch 75 | tr 0.061238202427 | val 0.0856770351529\n"
     ]
    },
    {
     "name": "stderr",
     "output_type": "stream",
     "text": [
      "100%|██████████| 97/97 [01:17<00:00,  1.46it/s]\n",
      "100%|██████████| 2/2 [00:05<00:00,  3.95s/it]\n"
     ]
    },
    {
     "name": "stdout",
     "output_type": "stream",
     "text": [
      "epoch 76 | tr 0.0600160404141 | val 0.0893356016278\n"
     ]
    },
    {
     "name": "stderr",
     "output_type": "stream",
     "text": [
      "100%|██████████| 97/97 [01:17<00:00,  1.47it/s]\n",
      "100%|██████████| 2/2 [00:06<00:00,  3.09s/it]\n"
     ]
    },
    {
     "name": "stdout",
     "output_type": "stream",
     "text": [
      "epoch 77 | tr 0.0606567973721 | val 0.0848695865273\n"
     ]
    },
    {
     "name": "stderr",
     "output_type": "stream",
     "text": [
      "100%|██████████| 97/97 [01:17<00:00,  1.46it/s]\n",
      "100%|██████████| 2/2 [00:06<00:00,  3.04s/it]\n"
     ]
    },
    {
     "name": "stdout",
     "output_type": "stream",
     "text": [
      "epoch 78 | tr 0.0602011043835 | val 0.0833241665363\n"
     ]
    },
    {
     "name": "stderr",
     "output_type": "stream",
     "text": [
      "100%|██████████| 97/97 [01:17<00:00,  1.47it/s]\n",
      "100%|██████████| 2/2 [00:06<00:00,  3.10s/it]\n"
     ]
    },
    {
     "name": "stdout",
     "output_type": "stream",
     "text": [
      "epoch 79 | tr 0.0596473264669 | val 0.0870857480168\n"
     ]
    },
    {
     "name": "stderr",
     "output_type": "stream",
     "text": [
      "100%|██████████| 97/97 [01:17<00:00,  1.47it/s]\n",
      "100%|██████████| 2/2 [00:05<00:00,  3.88s/it]\n"
     ]
    },
    {
     "name": "stdout",
     "output_type": "stream",
     "text": [
      "epoch 80 | tr 0.0605109778972 | val 0.0872258359194\n"
     ]
    },
    {
     "name": "stderr",
     "output_type": "stream",
     "text": [
      "100%|██████████| 97/97 [01:17<00:00,  1.47it/s]\n",
      "100%|██████████| 2/2 [00:05<00:00,  3.82s/it]\n"
     ]
    },
    {
     "name": "stdout",
     "output_type": "stream",
     "text": [
      "epoch 81 | tr 0.0584978110061 | val 0.0853892213106\n"
     ]
    },
    {
     "name": "stderr",
     "output_type": "stream",
     "text": [
      "100%|██████████| 97/97 [01:17<00:00,  1.47it/s]\n",
      "100%|██████████| 2/2 [00:05<00:00,  2.75s/it]\n"
     ]
    },
    {
     "name": "stdout",
     "output_type": "stream",
     "text": [
      "epoch 82 | tr 0.0587184519218 | val 0.0847591269016\n"
     ]
    },
    {
     "name": "stderr",
     "output_type": "stream",
     "text": [
      "100%|██████████| 97/97 [01:16<00:00,  1.47it/s]\n",
      "100%|██████████| 2/2 [00:05<00:00,  2.95s/it]\n"
     ]
    },
    {
     "name": "stdout",
     "output_type": "stream",
     "text": [
      "epoch 83 | tr 0.0592104845134 | val 0.0829868745804\n"
     ]
    },
    {
     "name": "stderr",
     "output_type": "stream",
     "text": [
      "100%|██████████| 97/97 [01:17<00:00,  1.46it/s]\n",
      "100%|██████████| 2/2 [00:06<00:00,  3.05s/it]\n"
     ]
    },
    {
     "name": "stdout",
     "output_type": "stream",
     "text": [
      "epoch 84 | tr 0.0580294880374 | val 0.0848208707571\n"
     ]
    },
    {
     "name": "stderr",
     "output_type": "stream",
     "text": [
      "100%|██████████| 97/97 [01:17<00:00,  1.47it/s]\n",
      "100%|██████████| 2/2 [00:06<00:00,  3.05s/it]\n"
     ]
    },
    {
     "name": "stdout",
     "output_type": "stream",
     "text": [
      "epoch 85 | tr 0.0579493360787 | val 0.0859024205804\n"
     ]
    },
    {
     "name": "stderr",
     "output_type": "stream",
     "text": [
      "100%|██████████| 97/97 [01:17<00:00,  1.47it/s]\n",
      "100%|██████████| 2/2 [00:05<00:00,  3.95s/it]\n"
     ]
    },
    {
     "name": "stdout",
     "output_type": "stream",
     "text": [
      "epoch 86 | tr 0.0573820202644 | val 0.0826702946424\n"
     ]
    },
    {
     "name": "stderr",
     "output_type": "stream",
     "text": [
      "100%|██████████| 97/97 [01:17<00:00,  1.46it/s]\n",
      "100%|██████████| 2/2 [00:05<00:00,  2.92s/it]\n"
     ]
    },
    {
     "name": "stdout",
     "output_type": "stream",
     "text": [
      "epoch 87 | tr 0.0579679606932 | val 0.0823867097497\n"
     ]
    },
    {
     "name": "stderr",
     "output_type": "stream",
     "text": [
      "100%|██████████| 97/97 [01:17<00:00,  1.47it/s]\n",
      "100%|██████████| 2/2 [00:05<00:00,  2.95s/it]\n"
     ]
    },
    {
     "name": "stdout",
     "output_type": "stream",
     "text": [
      "epoch 88 | tr 0.0573913198221 | val 0.0849234491587\n"
     ]
    },
    {
     "name": "stderr",
     "output_type": "stream",
     "text": [
      "100%|██████████| 97/97 [01:17<00:00,  1.48it/s]\n",
      "100%|██████████| 2/2 [00:05<00:00,  2.96s/it]\n"
     ]
    },
    {
     "name": "stdout",
     "output_type": "stream",
     "text": [
      "epoch 89 | tr 0.0576112286027 | val 0.0840978959203\n"
     ]
    },
    {
     "name": "stderr",
     "output_type": "stream",
     "text": [
      "100%|██████████| 97/97 [01:17<00:00,  1.47it/s]\n",
      "100%|██████████| 2/2 [00:06<00:00,  3.06s/it]\n"
     ]
    },
    {
     "name": "stdout",
     "output_type": "stream",
     "text": [
      "epoch 90 | tr 0.0571090320318 | val 0.0834539216757\n"
     ]
    },
    {
     "name": "stderr",
     "output_type": "stream",
     "text": [
      "100%|██████████| 97/97 [01:17<00:00,  1.47it/s]\n",
      "100%|██████████| 2/2 [00:05<00:00,  3.00s/it]\n"
     ]
    },
    {
     "name": "stdout",
     "output_type": "stream",
     "text": [
      "epoch 91 | tr 0.0561830147202 | val 0.0835397914052\n"
     ]
    },
    {
     "name": "stderr",
     "output_type": "stream",
     "text": [
      "100%|██████████| 97/97 [01:16<00:00,  1.47it/s]\n",
      "100%|██████████| 2/2 [00:06<00:00,  3.05s/it]\n"
     ]
    },
    {
     "name": "stdout",
     "output_type": "stream",
     "text": [
      "epoch 92 | tr 0.0567982992222 | val 0.085640167594\n"
     ]
    },
    {
     "name": "stderr",
     "output_type": "stream",
     "text": [
      "100%|██████████| 97/97 [01:17<00:00,  1.46it/s]\n",
      "100%|██████████| 2/2 [00:06<00:00,  3.06s/it]\n"
     ]
    },
    {
     "name": "stdout",
     "output_type": "stream",
     "text": [
      "epoch 93 | tr 0.0557449756254 | val 0.081491432786\n"
     ]
    },
    {
     "name": "stderr",
     "output_type": "stream",
     "text": [
      "100%|██████████| 97/97 [01:16<00:00,  1.47it/s]\n",
      "100%|██████████| 2/2 [00:06<00:00,  3.24s/it]\n"
     ]
    },
    {
     "name": "stdout",
     "output_type": "stream",
     "text": [
      "epoch 94 | tr 0.0564371332012 | val 0.0839791631699\n"
     ]
    },
    {
     "name": "stderr",
     "output_type": "stream",
     "text": [
      "100%|██████████| 97/97 [01:17<00:00,  1.46it/s]\n",
      "100%|██████████| 2/2 [00:05<00:00,  2.88s/it]\n"
     ]
    },
    {
     "name": "stdout",
     "output_type": "stream",
     "text": [
      "epoch 95 | tr 0.0557472694794 | val 0.0837182462215\n"
     ]
    },
    {
     "name": "stderr",
     "output_type": "stream",
     "text": [
      "100%|██████████| 97/97 [01:16<00:00,  1.47it/s]\n",
      "100%|██████████| 2/2 [00:05<00:00,  3.96s/it]\n"
     ]
    },
    {
     "name": "stdout",
     "output_type": "stream",
     "text": [
      "epoch 96 | tr 0.0550871528942 | val 0.082709518671\n"
     ]
    },
    {
     "name": "stderr",
     "output_type": "stream",
     "text": [
      "100%|██████████| 97/97 [01:17<00:00,  1.47it/s]\n",
      "100%|██████████| 2/2 [00:06<00:00,  3.02s/it]\n"
     ]
    },
    {
     "name": "stdout",
     "output_type": "stream",
     "text": [
      "epoch 97 | tr 0.0545989758881 | val 0.0836737778783\n"
     ]
    },
    {
     "name": "stderr",
     "output_type": "stream",
     "text": [
      "100%|██████████| 97/97 [01:17<00:00,  1.44it/s]\n",
      "100%|██████████| 2/2 [00:06<00:00,  3.05s/it]\n"
     ]
    },
    {
     "name": "stdout",
     "output_type": "stream",
     "text": [
      "epoch 98 | tr 0.0551566685197 | val 0.0833191302419\n"
     ]
    },
    {
     "name": "stderr",
     "output_type": "stream",
     "text": [
      "100%|██████████| 97/97 [01:16<00:00,  1.47it/s]\n",
      "100%|██████████| 2/2 [00:05<00:00,  3.75s/it]\n"
     ]
    },
    {
     "name": "stdout",
     "output_type": "stream",
     "text": [
      "epoch 99 | tr 0.0546748550673 | val 0.0838296976686\n"
     ]
    },
    {
     "name": "stderr",
     "output_type": "stream",
     "text": [
      "100%|██████████| 97/97 [01:16<00:00,  1.48it/s]\n",
      "100%|██████████| 2/2 [00:06<00:00,  3.02s/it]\n"
     ]
    },
    {
     "name": "stdout",
     "output_type": "stream",
     "text": [
      "epoch 100 | tr 0.0544670195158 | val 0.0818810129166\n"
     ]
    },
    {
     "name": "stderr",
     "output_type": "stream",
     "text": [
      "100%|██████████| 97/97 [01:16<00:00,  1.46it/s]\n",
      "100%|██████████| 2/2 [00:06<00:00,  3.02s/it]\n"
     ]
    },
    {
     "name": "stdout",
     "output_type": "stream",
     "text": [
      "epoch 101 | tr 0.055506487666 | val 0.081730542779\n"
     ]
    },
    {
     "name": "stderr",
     "output_type": "stream",
     "text": [
      "100%|██████████| 97/97 [01:16<00:00,  1.47it/s]\n",
      "100%|██████████| 2/2 [00:05<00:00,  2.98s/it]\n"
     ]
    },
    {
     "name": "stdout",
     "output_type": "stream",
     "text": [
      "epoch 102 | tr 0.0539771685955 | val 0.0822180664539\n"
     ]
    },
    {
     "name": "stderr",
     "output_type": "stream",
     "text": [
      "100%|██████████| 97/97 [01:17<00:00,  1.46it/s]\n",
      "100%|██████████| 2/2 [00:05<00:00,  3.85s/it]\n"
     ]
    },
    {
     "name": "stdout",
     "output_type": "stream",
     "text": [
      "epoch 103 | tr 0.0537900714011 | val 0.0819152125716\n"
     ]
    },
    {
     "name": "stderr",
     "output_type": "stream",
     "text": [
      "100%|██████████| 97/97 [01:17<00:00,  1.47it/s]\n",
      "100%|██████████| 2/2 [00:05<00:00,  4.06s/it]\n"
     ]
    },
    {
     "name": "stdout",
     "output_type": "stream",
     "text": [
      "epoch 104 | tr 0.0541855352064 | val 0.0843082004786\n"
     ]
    },
    {
     "name": "stderr",
     "output_type": "stream",
     "text": [
      "100%|██████████| 97/97 [01:17<00:00,  1.47it/s]\n",
      "100%|██████████| 2/2 [00:05<00:00,  2.98s/it]\n"
     ]
    },
    {
     "name": "stdout",
     "output_type": "stream",
     "text": [
      "epoch 105 | tr 0.0544590070715 | val 0.0847873979807\n"
     ]
    },
    {
     "name": "stderr",
     "output_type": "stream",
     "text": [
      "100%|██████████| 97/97 [01:17<00:00,  1.47it/s]\n",
      "100%|██████████| 2/2 [00:05<00:00,  2.99s/it]\n"
     ]
    },
    {
     "name": "stdout",
     "output_type": "stream",
     "text": [
      "epoch 106 | tr 0.0543028850879 | val 0.0837322482467\n"
     ]
    },
    {
     "name": "stderr",
     "output_type": "stream",
     "text": [
      "100%|██████████| 97/97 [01:17<00:00,  1.47it/s]\n",
      "100%|██████████| 2/2 [00:05<00:00,  2.96s/it]\n"
     ]
    },
    {
     "name": "stdout",
     "output_type": "stream",
     "text": [
      "epoch 107 | tr 0.0537593138244 | val 0.0820875179768\n"
     ]
    },
    {
     "name": "stderr",
     "output_type": "stream",
     "text": [
      "100%|██████████| 97/97 [01:17<00:00,  1.45it/s]\n",
      "100%|██████████| 2/2 [00:05<00:00,  2.98s/it]\n"
     ]
    },
    {
     "name": "stdout",
     "output_type": "stream",
     "text": [
      "epoch 108 | tr 0.0528712451972 | val 0.0814978203177\n"
     ]
    },
    {
     "name": "stderr",
     "output_type": "stream",
     "text": [
      "100%|██████████| 97/97 [01:17<00:00,  1.46it/s]\n",
      "100%|██████████| 2/2 [00:05<00:00,  2.92s/it]\n"
     ]
    },
    {
     "name": "stdout",
     "output_type": "stream",
     "text": [
      "epoch 109 | tr 0.0524014643169 | val 0.0818753686547\n"
     ]
    },
    {
     "name": "stderr",
     "output_type": "stream",
     "text": [
      "100%|██████████| 97/97 [01:16<00:00,  1.47it/s]\n",
      "100%|██████████| 2/2 [00:05<00:00,  3.84s/it]\n"
     ]
    },
    {
     "name": "stdout",
     "output_type": "stream",
     "text": [
      "epoch 110 | tr 0.0531212457295 | val 0.0817824172974\n"
     ]
    },
    {
     "name": "stderr",
     "output_type": "stream",
     "text": [
      "100%|██████████| 97/97 [01:17<00:00,  1.46it/s]\n",
      "100%|██████████| 2/2 [00:06<00:00,  3.03s/it]\n"
     ]
    },
    {
     "name": "stdout",
     "output_type": "stream",
     "text": [
      "epoch 111 | tr 0.05253004925 | val 0.0819513863325\n"
     ]
    },
    {
     "name": "stderr",
     "output_type": "stream",
     "text": [
      "100%|██████████| 97/97 [01:17<00:00,  1.47it/s]\n",
      "100%|██████████| 2/2 [00:05<00:00,  3.90s/it]\n"
     ]
    },
    {
     "name": "stdout",
     "output_type": "stream",
     "text": [
      "epoch 112 | tr 0.0528285017173 | val 0.0809443834424\n"
     ]
    },
    {
     "name": "stderr",
     "output_type": "stream",
     "text": [
      "100%|██████████| 97/97 [01:17<00:00,  1.47it/s]\n",
      "100%|██████████| 2/2 [00:06<00:00,  3.00s/it]\n"
     ]
    },
    {
     "name": "stdout",
     "output_type": "stream",
     "text": [
      "epoch 113 | tr 0.0525773321503 | val 0.0815666034818\n"
     ]
    },
    {
     "name": "stderr",
     "output_type": "stream",
     "text": [
      "100%|██████████| 97/97 [01:17<00:00,  1.46it/s]\n",
      "100%|██████████| 2/2 [00:05<00:00,  3.88s/it]\n"
     ]
    },
    {
     "name": "stdout",
     "output_type": "stream",
     "text": [
      "epoch 114 | tr 0.0533221821461 | val 0.0827595576644\n"
     ]
    },
    {
     "name": "stderr",
     "output_type": "stream",
     "text": [
      "100%|██████████| 97/97 [01:17<00:00,  1.47it/s]\n",
      "100%|██████████| 2/2 [00:06<00:00,  3.01s/it]\n"
     ]
    },
    {
     "name": "stdout",
     "output_type": "stream",
     "text": [
      "epoch 115 | tr 0.0523477437424 | val 0.0815759733319\n"
     ]
    },
    {
     "name": "stderr",
     "output_type": "stream",
     "text": [
      "100%|██████████| 97/97 [01:17<00:00,  1.47it/s]\n",
      "100%|██████████| 2/2 [00:05<00:00,  2.98s/it]\n"
     ]
    },
    {
     "name": "stdout",
     "output_type": "stream",
     "text": [
      "epoch 116 | tr 0.0516530590325 | val 0.0821881455183\n"
     ]
    },
    {
     "name": "stderr",
     "output_type": "stream",
     "text": [
      "100%|██████████| 97/97 [01:16<00:00,  1.47it/s]\n",
      "100%|██████████| 2/2 [00:06<00:00,  3.04s/it]\n"
     ]
    },
    {
     "name": "stdout",
     "output_type": "stream",
     "text": [
      "epoch 117 | tr 0.0518682603435 | val 0.0819729378819\n"
     ]
    },
    {
     "name": "stderr",
     "output_type": "stream",
     "text": [
      "100%|██████████| 97/97 [01:17<00:00,  1.47it/s]\n",
      "100%|██████████| 2/2 [00:05<00:00,  2.96s/it]\n"
     ]
    },
    {
     "name": "stdout",
     "output_type": "stream",
     "text": [
      "epoch 118 | tr 0.0518247302879 | val 0.0822987809777\n"
     ]
    },
    {
     "name": "stderr",
     "output_type": "stream",
     "text": [
      "100%|██████████| 97/97 [01:17<00:00,  1.46it/s]\n",
      "100%|██████████| 2/2 [00:05<00:00,  2.98s/it]\n"
     ]
    },
    {
     "name": "stdout",
     "output_type": "stream",
     "text": [
      "epoch 119 | tr 0.0510227641283 | val 0.0823409950733\n"
     ]
    },
    {
     "name": "stderr",
     "output_type": "stream",
     "text": [
      "100%|██████████| 97/97 [01:17<00:00,  1.47it/s]\n",
      "100%|██████████| 2/2 [00:05<00:00,  2.96s/it]\n"
     ]
    },
    {
     "name": "stdout",
     "output_type": "stream",
     "text": [
      "epoch 120 | tr 0.0507352735076 | val 0.0819452899694\n"
     ]
    },
    {
     "name": "stderr",
     "output_type": "stream",
     "text": [
      "100%|██████████| 97/97 [01:17<00:00,  1.47it/s]\n",
      "100%|██████████| 2/2 [00:05<00:00,  2.93s/it]\n"
     ]
    },
    {
     "name": "stdout",
     "output_type": "stream",
     "text": [
      "epoch 121 | tr 0.0504376232753 | val 0.0824178293347\n"
     ]
    },
    {
     "name": "stderr",
     "output_type": "stream",
     "text": [
      "100%|██████████| 97/97 [01:17<00:00,  1.47it/s]\n",
      "100%|██████████| 2/2 [00:05<00:00,  3.94s/it]\n"
     ]
    },
    {
     "name": "stdout",
     "output_type": "stream",
     "text": [
      "epoch 122 | tr 0.0508318605608 | val 0.0799914494157\n"
     ]
    },
    {
     "name": "stderr",
     "output_type": "stream",
     "text": [
      "100%|██████████| 97/97 [01:17<00:00,  1.47it/s]\n",
      "100%|██████████| 2/2 [00:05<00:00,  2.97s/it]\n"
     ]
    },
    {
     "name": "stdout",
     "output_type": "stream",
     "text": [
      "epoch 123 | tr 0.0515717535055 | val 0.0809717571735\n"
     ]
    },
    {
     "name": "stderr",
     "output_type": "stream",
     "text": [
      "100%|██████████| 97/97 [01:17<00:00,  1.47it/s]\n",
      "100%|██████████| 2/2 [00:05<00:00,  3.89s/it]\n"
     ]
    },
    {
     "name": "stdout",
     "output_type": "stream",
     "text": [
      "epoch 124 | tr 0.0509327776859 | val 0.0807193443179\n"
     ]
    },
    {
     "name": "stderr",
     "output_type": "stream",
     "text": [
      "100%|██████████| 97/97 [01:17<00:00,  1.47it/s]\n",
      "100%|██████████| 2/2 [00:05<00:00,  2.96s/it]\n"
     ]
    },
    {
     "name": "stdout",
     "output_type": "stream",
     "text": [
      "epoch 125 | tr 0.0504691418003 | val 0.0821026480198\n"
     ]
    },
    {
     "name": "stderr",
     "output_type": "stream",
     "text": [
      "100%|██████████| 97/97 [01:17<00:00,  1.47it/s]\n",
      "100%|██████████| 2/2 [00:05<00:00,  3.88s/it]\n"
     ]
    },
    {
     "name": "stdout",
     "output_type": "stream",
     "text": [
      "epoch 126 | tr 0.0500171009837 | val 0.0811383041739\n"
     ]
    },
    {
     "name": "stderr",
     "output_type": "stream",
     "text": [
      "100%|██████████| 97/97 [01:17<00:00,  1.47it/s]\n",
      "100%|██████████| 2/2 [00:06<00:00,  3.02s/it]\n"
     ]
    },
    {
     "name": "stdout",
     "output_type": "stream",
     "text": [
      "epoch 127 | tr 0.0503276660781 | val 0.0848111996055\n"
     ]
    },
    {
     "name": "stderr",
     "output_type": "stream",
     "text": [
      "100%|██████████| 97/97 [01:17<00:00,  1.46it/s]\n",
      "100%|██████████| 2/2 [00:05<00:00,  3.86s/it]\n"
     ]
    },
    {
     "name": "stdout",
     "output_type": "stream",
     "text": [
      "epoch 128 | tr 0.0500316419221 | val 0.0812847587466\n"
     ]
    },
    {
     "name": "stderr",
     "output_type": "stream",
     "text": [
      "100%|██████████| 97/97 [01:16<00:00,  1.47it/s]\n",
      "100%|██████████| 2/2 [00:05<00:00,  2.92s/it]\n"
     ]
    },
    {
     "name": "stdout",
     "output_type": "stream",
     "text": [
      "epoch 129 | tr 0.0495718402082 | val 0.0816916844249\n"
     ]
    },
    {
     "name": "stderr",
     "output_type": "stream",
     "text": [
      "100%|██████████| 97/97 [01:17<00:00,  1.46it/s]\n",
      "100%|██████████| 2/2 [00:06<00:00,  3.02s/it]\n"
     ]
    },
    {
     "name": "stdout",
     "output_type": "stream",
     "text": [
      "epoch 130 | tr 0.0495407554353 | val 0.0822428068519\n"
     ]
    },
    {
     "name": "stderr",
     "output_type": "stream",
     "text": [
      "100%|██████████| 97/97 [01:17<00:00,  1.46it/s]\n",
      "100%|██████████| 2/2 [00:06<00:00,  3.05s/it]\n"
     ]
    },
    {
     "name": "stdout",
     "output_type": "stream",
     "text": [
      "epoch 131 | tr 0.0496408722267 | val 0.0824397140741\n"
     ]
    },
    {
     "name": "stderr",
     "output_type": "stream",
     "text": [
      "100%|██████████| 97/97 [01:17<00:00,  1.46it/s]\n",
      "100%|██████████| 2/2 [00:05<00:00,  2.98s/it]\n"
     ]
    },
    {
     "name": "stdout",
     "output_type": "stream",
     "text": [
      "epoch 132 | tr 0.0496421236416 | val 0.0788401144743\n"
     ]
    },
    {
     "name": "stderr",
     "output_type": "stream",
     "text": [
      "100%|██████████| 97/97 [01:17<00:00,  1.47it/s]\n",
      "100%|██████████| 2/2 [00:06<00:00,  3.12s/it]\n"
     ]
    },
    {
     "name": "stdout",
     "output_type": "stream",
     "text": [
      "epoch 133 | tr 0.0492863344221 | val 0.0813623270392\n"
     ]
    },
    {
     "name": "stderr",
     "output_type": "stream",
     "text": [
      "100%|██████████| 97/97 [01:16<00:00,  1.47it/s]\n",
      "100%|██████████| 2/2 [00:05<00:00,  3.92s/it]\n"
     ]
    },
    {
     "name": "stdout",
     "output_type": "stream",
     "text": [
      "epoch 134 | tr 0.0491234937747 | val 0.0812745544314\n"
     ]
    },
    {
     "name": "stderr",
     "output_type": "stream",
     "text": [
      "100%|██████████| 97/97 [01:17<00:00,  1.47it/s]\n",
      "100%|██████████| 2/2 [00:06<00:00,  3.06s/it]\n"
     ]
    },
    {
     "name": "stdout",
     "output_type": "stream",
     "text": [
      "epoch 135 | tr 0.0491591027071 | val 0.0812903633714\n"
     ]
    },
    {
     "name": "stderr",
     "output_type": "stream",
     "text": [
      "100%|██████████| 97/97 [01:17<00:00,  1.46it/s]\n",
      "100%|██████████| 2/2 [00:06<00:00,  3.02s/it]\n"
     ]
    },
    {
     "name": "stdout",
     "output_type": "stream",
     "text": [
      "epoch 136 | tr 0.04927857418 | val 0.0821302828193\n"
     ]
    },
    {
     "name": "stderr",
     "output_type": "stream",
     "text": [
      "100%|██████████| 97/97 [01:17<00:00,  1.47it/s]\n",
      "100%|██████████| 2/2 [00:05<00:00,  3.00s/it]\n"
     ]
    },
    {
     "name": "stdout",
     "output_type": "stream",
     "text": [
      "epoch 137 | tr 0.049081345275 | val 0.0821248164773\n"
     ]
    },
    {
     "name": "stderr",
     "output_type": "stream",
     "text": [
      "100%|██████████| 97/97 [01:17<00:00,  1.47it/s]\n",
      "100%|██████████| 2/2 [00:05<00:00,  3.97s/it]\n"
     ]
    },
    {
     "name": "stdout",
     "output_type": "stream",
     "text": [
      "epoch 138 | tr 0.0487549237136 | val 0.0801691144705\n"
     ]
    },
    {
     "name": "stderr",
     "output_type": "stream",
     "text": [
      "100%|██████████| 97/97 [01:17<00:00,  1.47it/s]\n",
      "100%|██████████| 2/2 [00:06<00:00,  3.08s/it]\n"
     ]
    },
    {
     "name": "stdout",
     "output_type": "stream",
     "text": [
      "epoch 139 | tr 0.0489161602254 | val 0.0810024783015\n"
     ]
    },
    {
     "name": "stderr",
     "output_type": "stream",
     "text": [
      "100%|██████████| 97/97 [01:16<00:00,  1.47it/s]\n",
      "100%|██████████| 2/2 [00:05<00:00,  2.93s/it]\n"
     ]
    },
    {
     "name": "stdout",
     "output_type": "stream",
     "text": [
      "epoch 140 | tr 0.0486242692018 | val 0.0812080782652\n"
     ]
    },
    {
     "name": "stderr",
     "output_type": "stream",
     "text": [
      "100%|██████████| 97/97 [01:17<00:00,  1.46it/s]\n",
      "100%|██████████| 2/2 [00:06<00:00,  3.07s/it]\n"
     ]
    },
    {
     "name": "stdout",
     "output_type": "stream",
     "text": [
      "epoch 141 | tr 0.0486474095105 | val 0.0830516597629\n"
     ]
    },
    {
     "name": "stderr",
     "output_type": "stream",
     "text": [
      "100%|██████████| 97/97 [01:17<00:00,  1.47it/s]\n",
      "100%|██████████| 2/2 [00:05<00:00,  3.76s/it]\n"
     ]
    },
    {
     "name": "stdout",
     "output_type": "stream",
     "text": [
      "epoch 142 | tr 0.0481588004221 | val 0.0809144067764\n"
     ]
    },
    {
     "name": "stderr",
     "output_type": "stream",
     "text": [
      "100%|██████████| 97/97 [01:17<00:00,  1.46it/s]\n",
      "100%|██████████| 2/2 [00:05<00:00,  2.96s/it]\n"
     ]
    },
    {
     "name": "stdout",
     "output_type": "stream",
     "text": [
      "epoch 143 | tr 0.0478417363403 | val 0.0811122047901\n"
     ]
    },
    {
     "name": "stderr",
     "output_type": "stream",
     "text": [
      "100%|██████████| 97/97 [01:17<00:00,  1.46it/s]\n",
      "100%|██████████| 2/2 [00:06<00:00,  3.15s/it]\n"
     ]
    },
    {
     "name": "stdout",
     "output_type": "stream",
     "text": [
      "epoch 144 | tr 0.0484810113393 | val 0.080960008502\n"
     ]
    },
    {
     "name": "stderr",
     "output_type": "stream",
     "text": [
      "100%|██████████| 97/97 [01:17<00:00,  1.44it/s]\n",
      "100%|██████████| 2/2 [00:06<00:00,  3.01s/it]\n"
     ]
    },
    {
     "name": "stdout",
     "output_type": "stream",
     "text": [
      "epoch 145 | tr 0.0479782150352 | val 0.0804876026511\n"
     ]
    },
    {
     "name": "stderr",
     "output_type": "stream",
     "text": [
      "100%|██████████| 97/97 [01:17<00:00,  1.46it/s]\n",
      "100%|██████████| 2/2 [00:05<00:00,  3.83s/it]\n"
     ]
    },
    {
     "name": "stdout",
     "output_type": "stream",
     "text": [
      "epoch 146 | tr 0.0480051718909 | val 0.0809251672029\n"
     ]
    },
    {
     "name": "stderr",
     "output_type": "stream",
     "text": [
      "100%|██████████| 97/97 [01:17<00:00,  1.47it/s]\n",
      "100%|██████████| 2/2 [00:06<00:00,  3.07s/it]\n"
     ]
    },
    {
     "name": "stdout",
     "output_type": "stream",
     "text": [
      "epoch 147 | tr 0.0475192888287 | val 0.0809379518032\n"
     ]
    },
    {
     "name": "stderr",
     "output_type": "stream",
     "text": [
      "100%|██████████| 97/97 [01:17<00:00,  1.47it/s]\n",
      "100%|██████████| 2/2 [00:05<00:00,  2.99s/it]\n"
     ]
    },
    {
     "name": "stdout",
     "output_type": "stream",
     "text": [
      "epoch 148 | tr 0.0473585977637 | val 0.0797298666835\n"
     ]
    },
    {
     "name": "stderr",
     "output_type": "stream",
     "text": [
      "100%|██████████| 97/97 [01:17<00:00,  1.46it/s]\n",
      "100%|██████████| 2/2 [00:06<00:00,  3.13s/it]\n"
     ]
    },
    {
     "name": "stdout",
     "output_type": "stream",
     "text": [
      "epoch 149 | tr 0.0477638957701 | val 0.0797364276648\n"
     ]
    },
    {
     "name": "stderr",
     "output_type": "stream",
     "text": [
      "100%|██████████| 97/97 [01:17<00:00,  1.47it/s]\n",
      "100%|██████████| 2/2 [00:05<00:00,  3.94s/it]\n"
     ]
    },
    {
     "name": "stdout",
     "output_type": "stream",
     "text": [
      "epoch 150 | tr 0.0472013197582 | val 0.0816277834773\n"
     ]
    },
    {
     "name": "stderr",
     "output_type": "stream",
     "text": [
      "100%|██████████| 97/97 [01:17<00:00,  1.46it/s]\n",
      "100%|██████████| 2/2 [00:05<00:00,  3.91s/it]\n"
     ]
    },
    {
     "name": "stdout",
     "output_type": "stream",
     "text": [
      "epoch 151 | tr 0.0475721420528 | val 0.0797000494599\n"
     ]
    },
    {
     "name": "stderr",
     "output_type": "stream",
     "text": [
      "100%|██████████| 97/97 [01:17<00:00,  1.47it/s]\n",
      "100%|██████████| 2/2 [00:05<00:00,  2.97s/it]\n"
     ]
    },
    {
     "name": "stdout",
     "output_type": "stream",
     "text": [
      "epoch 152 | tr 0.0472324659084 | val 0.0799727171659\n"
     ]
    },
    {
     "name": "stderr",
     "output_type": "stream",
     "text": [
      "100%|██████████| 97/97 [01:17<00:00,  1.46it/s]\n",
      "100%|██████████| 2/2 [00:06<00:00,  3.02s/it]\n"
     ]
    },
    {
     "name": "stdout",
     "output_type": "stream",
     "text": [
      "epoch 153 | tr 0.0472273498003 | val 0.0812162402272\n"
     ]
    },
    {
     "name": "stderr",
     "output_type": "stream",
     "text": [
      "100%|██████████| 97/97 [01:17<00:00,  1.46it/s]\n",
      "100%|██████████| 2/2 [00:06<00:00,  3.03s/it]\n"
     ]
    },
    {
     "name": "stdout",
     "output_type": "stream",
     "text": [
      "epoch 154 | tr 0.0470241204161 | val 0.0791539546847\n"
     ]
    },
    {
     "name": "stderr",
     "output_type": "stream",
     "text": [
      "100%|██████████| 97/97 [01:17<00:00,  1.47it/s]\n",
      "100%|██████████| 2/2 [00:05<00:00,  2.74s/it]\n"
     ]
    },
    {
     "name": "stdout",
     "output_type": "stream",
     "text": [
      "epoch 155 | tr 0.0467513727859 | val 0.0798414325714\n"
     ]
    },
    {
     "name": "stderr",
     "output_type": "stream",
     "text": [
      "100%|██████████| 97/97 [01:17<00:00,  1.47it/s]\n",
      "100%|██████████| 2/2 [00:05<00:00,  3.87s/it]\n"
     ]
    },
    {
     "name": "stdout",
     "output_type": "stream",
     "text": [
      "epoch 156 | tr 0.0470137107218 | val 0.0810721036792\n"
     ]
    },
    {
     "name": "stderr",
     "output_type": "stream",
     "text": [
      "100%|██████████| 97/97 [01:17<00:00,  1.32it/s]\n",
      "100%|██████████| 2/2 [00:06<00:00,  3.02s/it]\n"
     ]
    },
    {
     "name": "stdout",
     "output_type": "stream",
     "text": [
      "epoch 157 | tr 0.0465080775449 | val 0.080331992209\n"
     ]
    },
    {
     "name": "stderr",
     "output_type": "stream",
     "text": [
      "100%|██████████| 97/97 [01:17<00:00,  1.46it/s]\n",
      "100%|██████████| 2/2 [00:05<00:00,  2.99s/it]\n"
     ]
    },
    {
     "name": "stdout",
     "output_type": "stream",
     "text": [
      "epoch 158 | tr 0.0469195251578 | val 0.0819525131583\n"
     ]
    },
    {
     "name": "stderr",
     "output_type": "stream",
     "text": [
      "100%|██████████| 97/97 [01:17<00:00,  1.47it/s]\n",
      "100%|██████████| 2/2 [00:06<00:00,  3.01s/it]\n"
     ]
    },
    {
     "name": "stdout",
     "output_type": "stream",
     "text": [
      "epoch 159 | tr 0.0475641274118 | val 0.0798272448778\n"
     ]
    },
    {
     "name": "stderr",
     "output_type": "stream",
     "text": [
      "100%|██████████| 97/97 [01:17<00:00,  1.47it/s]\n",
      "100%|██████████| 2/2 [00:06<00:00,  3.01s/it]\n"
     ]
    },
    {
     "name": "stdout",
     "output_type": "stream",
     "text": [
      "epoch 160 | tr 0.0466283605017 | val 0.0799839937687\n"
     ]
    },
    {
     "name": "stderr",
     "output_type": "stream",
     "text": [
      "100%|██████████| 97/97 [01:17<00:00,  1.47it/s]\n",
      "100%|██████████| 2/2 [00:05<00:00,  3.00s/it]\n"
     ]
    },
    {
     "name": "stdout",
     "output_type": "stream",
     "text": [
      "epoch 161 | tr 0.0461517550437 | val 0.0807928541303\n"
     ]
    },
    {
     "name": "stderr",
     "output_type": "stream",
     "text": [
      "100%|██████████| 97/97 [01:17<00:00,  1.46it/s]\n",
      "100%|██████████| 2/2 [00:06<00:00,  3.03s/it]\n"
     ]
    },
    {
     "name": "stdout",
     "output_type": "stream",
     "text": [
      "epoch 162 | tr 0.0461591037055 | val 0.0812677133083\n"
     ]
    },
    {
     "name": "stderr",
     "output_type": "stream",
     "text": [
      "100%|██████████| 97/97 [01:17<00:00,  1.47it/s]\n",
      "100%|██████████| 2/2 [00:05<00:00,  2.96s/it]\n"
     ]
    },
    {
     "name": "stdout",
     "output_type": "stream",
     "text": [
      "epoch 163 | tr 0.0466052077711 | val 0.0804954856634\n"
     ]
    },
    {
     "name": "stderr",
     "output_type": "stream",
     "text": [
      "100%|██████████| 97/97 [01:17<00:00,  1.46it/s]\n",
      "100%|██████████| 2/2 [00:06<00:00,  3.02s/it]\n"
     ]
    },
    {
     "name": "stdout",
     "output_type": "stream",
     "text": [
      "epoch 164 | tr 0.0460815508047 | val 0.0802111878991\n"
     ]
    },
    {
     "name": "stderr",
     "output_type": "stream",
     "text": [
      "100%|██████████| 97/97 [01:17<00:00,  1.35it/s]\n",
      "100%|██████████| 2/2 [00:05<00:00,  3.86s/it]\n"
     ]
    },
    {
     "name": "stdout",
     "output_type": "stream",
     "text": [
      "epoch 165 | tr 0.0460915263228 | val 0.0797876673937\n"
     ]
    },
    {
     "name": "stderr",
     "output_type": "stream",
     "text": [
      "100%|██████████| 97/97 [01:17<00:00,  1.46it/s]\n",
      "100%|██████████| 2/2 [00:06<00:00,  3.05s/it]\n"
     ]
    },
    {
     "name": "stdout",
     "output_type": "stream",
     "text": [
      "epoch 166 | tr 0.0458889733615 | val 0.0801259598136\n"
     ]
    },
    {
     "name": "stderr",
     "output_type": "stream",
     "text": [
      "100%|██████████| 97/97 [01:17<00:00,  1.46it/s]\n",
      "100%|██████████| 2/2 [00:06<00:00,  3.05s/it]\n"
     ]
    },
    {
     "name": "stdout",
     "output_type": "stream",
     "text": [
      "epoch 167 | tr 0.0459220889057 | val 0.0787330156565\n"
     ]
    },
    {
     "name": "stderr",
     "output_type": "stream",
     "text": [
      "100%|██████████| 97/97 [01:17<00:00,  1.46it/s]\n",
      "100%|██████████| 2/2 [00:05<00:00,  3.87s/it]\n"
     ]
    },
    {
     "name": "stdout",
     "output_type": "stream",
     "text": [
      "epoch 168 | tr 0.0463312172684 | val 0.0806934544444\n"
     ]
    },
    {
     "name": "stderr",
     "output_type": "stream",
     "text": [
      "100%|██████████| 97/97 [01:17<00:00,  1.46it/s]\n",
      "100%|██████████| 2/2 [00:06<00:00,  3.05s/it]\n"
     ]
    },
    {
     "name": "stdout",
     "output_type": "stream",
     "text": [
      "epoch 169 | tr 0.0458405612101 | val 0.0817112511396\n"
     ]
    },
    {
     "name": "stderr",
     "output_type": "stream",
     "text": [
      "100%|██████████| 97/97 [01:17<00:00,  1.47it/s]\n",
      "100%|██████████| 2/2 [00:05<00:00,  3.92s/it]\n"
     ]
    },
    {
     "name": "stdout",
     "output_type": "stream",
     "text": [
      "epoch 170 | tr 0.0457010189007 | val 0.0804140585661\n"
     ]
    },
    {
     "name": "stderr",
     "output_type": "stream",
     "text": [
      "100%|██████████| 97/97 [01:16<00:00,  1.47it/s]\n",
      "100%|██████████| 2/2 [00:05<00:00,  3.98s/it]\n"
     ]
    },
    {
     "name": "stdout",
     "output_type": "stream",
     "text": [
      "epoch 171 | tr 0.0453123283412 | val 0.0793489128351\n"
     ]
    },
    {
     "name": "stderr",
     "output_type": "stream",
     "text": [
      "100%|██████████| 97/97 [01:17<00:00,  1.47it/s]\n",
      "100%|██████████| 2/2 [00:06<00:00,  3.03s/it]\n"
     ]
    },
    {
     "name": "stdout",
     "output_type": "stream",
     "text": [
      "epoch 172 | tr 0.0455892373776 | val 0.0789650312066\n"
     ]
    },
    {
     "name": "stderr",
     "output_type": "stream",
     "text": [
      "100%|██████████| 97/97 [01:17<00:00,  1.47it/s]\n",
      "100%|██████████| 2/2 [00:05<00:00,  3.90s/it]\n"
     ]
    },
    {
     "name": "stdout",
     "output_type": "stream",
     "text": [
      "epoch 173 | tr 0.0455432417064 | val 0.0799448296428\n"
     ]
    },
    {
     "name": "stderr",
     "output_type": "stream",
     "text": [
      "100%|██████████| 97/97 [01:17<00:00,  1.47it/s]\n",
      "100%|██████████| 2/2 [00:06<00:00,  3.00s/it]\n"
     ]
    },
    {
     "name": "stdout",
     "output_type": "stream",
     "text": [
      "epoch 174 | tr 0.0454526579714 | val 0.0805144742131\n"
     ]
    },
    {
     "name": "stderr",
     "output_type": "stream",
     "text": [
      "100%|██████████| 97/97 [01:16<00:00,  1.48it/s]\n",
      "100%|██████████| 2/2 [00:05<00:00,  3.85s/it]\n"
     ]
    },
    {
     "name": "stdout",
     "output_type": "stream",
     "text": [
      "epoch 175 | tr 0.0456335348559 | val 0.082800039947\n"
     ]
    },
    {
     "name": "stderr",
     "output_type": "stream",
     "text": [
      "100%|██████████| 97/97 [01:16<00:00,  1.46it/s]\n",
      "100%|██████████| 2/2 [00:05<00:00,  2.97s/it]\n"
     ]
    },
    {
     "name": "stdout",
     "output_type": "stream",
     "text": [
      "epoch 176 | tr 0.0453452645191 | val 0.079732452631\n"
     ]
    },
    {
     "name": "stderr",
     "output_type": "stream",
     "text": [
      "100%|██████████| 97/97 [01:16<00:00,  1.48it/s]\n",
      "100%|██████████| 2/2 [00:05<00:00,  2.74s/it]\n"
     ]
    },
    {
     "name": "stdout",
     "output_type": "stream",
     "text": [
      "epoch 177 | tr 0.0448019974576 | val 0.080589722693\n"
     ]
    },
    {
     "name": "stderr",
     "output_type": "stream",
     "text": [
      "100%|██████████| 97/97 [01:16<00:00,  1.47it/s]\n",
      "100%|██████████| 2/2 [00:05<00:00,  2.97s/it]\n"
     ]
    },
    {
     "name": "stdout",
     "output_type": "stream",
     "text": [
      "epoch 178 | tr 0.0449023708701 | val 0.0794488078356\n"
     ]
    },
    {
     "name": "stderr",
     "output_type": "stream",
     "text": [
      "100%|██████████| 97/97 [01:16<00:00,  1.48it/s]\n",
      "100%|██████████| 2/2 [00:05<00:00,  2.96s/it]\n"
     ]
    },
    {
     "name": "stdout",
     "output_type": "stream",
     "text": [
      "epoch 179 | tr 0.0452224799785 | val 0.0811701521277\n"
     ]
    },
    {
     "name": "stderr",
     "output_type": "stream",
     "text": [
      "100%|██████████| 97/97 [01:16<00:00,  1.49it/s]\n",
      "100%|██████████| 2/2 [00:06<00:00,  3.11s/it]\n"
     ]
    },
    {
     "name": "stdout",
     "output_type": "stream",
     "text": [
      "epoch 180 | tr 0.0443791696095 | val 0.0810977292061\n"
     ]
    },
    {
     "name": "stderr",
     "output_type": "stream",
     "text": [
      "100%|██████████| 97/97 [01:17<00:00,  1.47it/s]\n",
      "100%|██████████| 2/2 [00:05<00:00,  2.98s/it]\n"
     ]
    },
    {
     "name": "stdout",
     "output_type": "stream",
     "text": [
      "epoch 181 | tr 0.0444695837153 | val 0.0785774725676\n"
     ]
    },
    {
     "name": "stderr",
     "output_type": "stream",
     "text": [
      "100%|██████████| 97/97 [01:17<00:00,  1.47it/s]\n",
      "100%|██████████| 2/2 [00:05<00:00,  2.99s/it]\n"
     ]
    },
    {
     "name": "stdout",
     "output_type": "stream",
     "text": [
      "epoch 182 | tr 0.0446719126969 | val 0.0809445130825\n"
     ]
    },
    {
     "name": "stderr",
     "output_type": "stream",
     "text": [
      "100%|██████████| 97/97 [01:17<00:00,  1.46it/s]\n",
      "100%|██████████| 2/2 [00:05<00:00,  3.83s/it]\n"
     ]
    },
    {
     "name": "stdout",
     "output_type": "stream",
     "text": [
      "epoch 183 | tr 0.0445976705901 | val 0.0813769769669\n"
     ]
    },
    {
     "name": "stderr",
     "output_type": "stream",
     "text": [
      "100%|██████████| 97/97 [01:17<00:00,  1.47it/s]\n",
      "100%|██████████| 2/2 [00:06<00:00,  3.01s/it]\n"
     ]
    },
    {
     "name": "stdout",
     "output_type": "stream",
     "text": [
      "epoch 184 | tr 0.0446146301026 | val 0.0805625742674\n"
     ]
    },
    {
     "name": "stderr",
     "output_type": "stream",
     "text": [
      "100%|██████████| 97/97 [01:17<00:00,  1.46it/s]\n",
      "100%|██████████| 2/2 [00:06<00:00,  3.09s/it]\n"
     ]
    },
    {
     "name": "stdout",
     "output_type": "stream",
     "text": [
      "epoch 185 | tr 0.0445354639456 | val 0.0796847113967\n"
     ]
    },
    {
     "name": "stderr",
     "output_type": "stream",
     "text": [
      "100%|██████████| 97/97 [01:17<00:00,  1.47it/s]\n",
      "100%|██████████| 2/2 [00:06<00:00,  3.06s/it]\n"
     ]
    },
    {
     "name": "stdout",
     "output_type": "stream",
     "text": [
      "epoch 186 | tr 0.0443267217612 | val 0.0802139154077\n"
     ]
    },
    {
     "name": "stderr",
     "output_type": "stream",
     "text": [
      "100%|██████████| 97/97 [01:17<00:00,  1.46it/s]\n",
      "100%|██████████| 2/2 [00:06<00:00,  3.01s/it]\n"
     ]
    },
    {
     "name": "stdout",
     "output_type": "stream",
     "text": [
      "epoch 187 | tr 0.0445886394587 | val 0.0795047777891\n"
     ]
    },
    {
     "name": "stderr",
     "output_type": "stream",
     "text": [
      "100%|██████████| 97/97 [01:17<00:00,  1.46it/s]\n",
      "100%|██████████| 2/2 [00:06<00:00,  3.06s/it]\n"
     ]
    },
    {
     "name": "stdout",
     "output_type": "stream",
     "text": [
      "epoch 188 | tr 0.0441853779786 | val 0.0803125622869\n"
     ]
    },
    {
     "name": "stderr",
     "output_type": "stream",
     "text": [
      "100%|██████████| 97/97 [01:17<00:00,  1.47it/s]\n",
      "100%|██████████| 2/2 [00:05<00:00,  4.10s/it]\n"
     ]
    },
    {
     "name": "stdout",
     "output_type": "stream",
     "text": [
      "epoch 189 | tr 0.0442246679345 | val 0.0806492355466\n"
     ]
    },
    {
     "name": "stderr",
     "output_type": "stream",
     "text": [
      "100%|██████████| 97/97 [01:16<00:00,  1.47it/s]\n",
      "100%|██████████| 2/2 [00:06<00:00,  3.05s/it]\n"
     ]
    },
    {
     "name": "stdout",
     "output_type": "stream",
     "text": [
      "epoch 190 | tr 0.0444306440138 | val 0.0803663027287\n"
     ]
    },
    {
     "name": "stderr",
     "output_type": "stream",
     "text": [
      "100%|██████████| 97/97 [01:17<00:00,  1.44it/s]\n",
      "100%|██████████| 2/2 [00:06<00:00,  3.00s/it]\n"
     ]
    },
    {
     "name": "stdout",
     "output_type": "stream",
     "text": [
      "epoch 191 | tr 0.0440830403104 | val 0.0803855222464\n"
     ]
    },
    {
     "name": "stderr",
     "output_type": "stream",
     "text": [
      "100%|██████████| 97/97 [01:17<00:00,  1.46it/s]\n",
      "100%|██████████| 2/2 [00:05<00:00,  3.00s/it]\n"
     ]
    },
    {
     "name": "stdout",
     "output_type": "stream",
     "text": [
      "epoch 192 | tr 0.0442004784556 | val 0.0797406247258\n"
     ]
    },
    {
     "name": "stderr",
     "output_type": "stream",
     "text": [
      "100%|██████████| 97/97 [01:17<00:00,  1.47it/s]\n",
      "100%|██████████| 2/2 [00:05<00:00,  2.97s/it]\n"
     ]
    },
    {
     "name": "stdout",
     "output_type": "stream",
     "text": [
      "epoch 193 | tr 0.0440965398761 | val 0.0796398848295\n"
     ]
    },
    {
     "name": "stderr",
     "output_type": "stream",
     "text": [
      "100%|██████████| 97/97 [01:17<00:00,  1.46it/s]\n",
      "100%|██████████| 2/2 [00:06<00:00,  3.06s/it]\n"
     ]
    },
    {
     "name": "stdout",
     "output_type": "stream",
     "text": [
      "epoch 194 | tr 0.0439418689701 | val 0.0802734678984\n"
     ]
    },
    {
     "name": "stderr",
     "output_type": "stream",
     "text": [
      "100%|██████████| 97/97 [01:16<00:00,  1.47it/s]\n",
      "100%|██████████| 2/2 [00:05<00:00,  2.77s/it]\n"
     ]
    },
    {
     "name": "stdout",
     "output_type": "stream",
     "text": [
      "epoch 195 | tr 0.0440829874883 | val 0.0803302931786\n"
     ]
    },
    {
     "name": "stderr",
     "output_type": "stream",
     "text": [
      "100%|██████████| 97/97 [01:16<00:00,  1.48it/s]\n",
      "100%|██████████| 2/2 [00:05<00:00,  3.56s/it]\n"
     ]
    },
    {
     "name": "stdout",
     "output_type": "stream",
     "text": [
      "epoch 196 | tr 0.0436791906454 | val 0.0794854050875\n"
     ]
    },
    {
     "name": "stderr",
     "output_type": "stream",
     "text": [
      "\r",
      "  0%|          | 0/97 [00:00<?, ?it/s]"
     ]
    },
    {
     "ename": "KeyboardInterrupt",
     "evalue": "",
     "output_type": "error",
     "traceback": [
      "\u001b[0;31m---------------------------------------------------------------------------\u001b[0m",
      "\u001b[0;31mKeyboardInterrupt\u001b[0m                         Traceback (most recent call last)",
      "\u001b[0;32m<ipython-input-14-f58217f83c02>\u001b[0m in \u001b[0;36m<module>\u001b[0;34m()\u001b[0m\n\u001b[1;32m     28\u001b[0m                           \u001b[0mshapedata\u001b[0m\u001b[0;34m=\u001b[0m\u001b[0mshapedata\u001b[0m\u001b[0;34m,\u001b[0m\u001b[0;34m\u001b[0m\u001b[0m\n\u001b[1;32m     29\u001b[0m                           \u001b[0mmetadata_dir\u001b[0m\u001b[0;34m=\u001b[0m\u001b[0mcheckpoint_path\u001b[0m\u001b[0;34m,\u001b[0m \u001b[0msamples_dir\u001b[0m\u001b[0;34m=\u001b[0m\u001b[0msamples_path\u001b[0m\u001b[0;34m,\u001b[0m\u001b[0;34m\u001b[0m\u001b[0m\n\u001b[0;32m---> 30\u001b[0;31m                           checkpoint_path = args['checkpoint_file'])\n\u001b[0m",
      "\u001b[0;32m/mnt/Data2/jingwang/git-task/Neural3DMM/train_funcs.pyc\u001b[0m in \u001b[0;36mtrain_autoencoder_dataloader\u001b[0;34m(dataloader_train, dataloader_val, device, model, optim, loss_fn, bsize, start_epoch, n_epochs, eval_freq, scheduler, writer, save_recons, shapedata, metadata_dir, samples_dir, checkpoint_path)\u001b[0m\n\u001b[1;32m    265\u001b[0m \u001b[0;34m\u001b[0m\u001b[0m\n\u001b[1;32m    266\u001b[0m         \u001b[0mtloss\u001b[0m \u001b[0;34m=\u001b[0m \u001b[0;34m[\u001b[0m\u001b[0;34m]\u001b[0m\u001b[0;34m\u001b[0m\u001b[0m\n\u001b[0;32m--> 267\u001b[0;31m         \u001b[0;32mfor\u001b[0m \u001b[0mb\u001b[0m\u001b[0;34m,\u001b[0m \u001b[0msample_dict\u001b[0m \u001b[0;32min\u001b[0m \u001b[0menumerate\u001b[0m\u001b[0;34m(\u001b[0m\u001b[0mtqdm\u001b[0m\u001b[0;34m(\u001b[0m\u001b[0mdataloader_train\u001b[0m\u001b[0;34m)\u001b[0m\u001b[0;34m)\u001b[0m\u001b[0;34m:\u001b[0m\u001b[0;34m\u001b[0m\u001b[0m\n\u001b[0m\u001b[1;32m    268\u001b[0m             \u001b[0moptim\u001b[0m\u001b[0;34m.\u001b[0m\u001b[0mzero_grad\u001b[0m\u001b[0;34m(\u001b[0m\u001b[0;34m)\u001b[0m\u001b[0;34m\u001b[0m\u001b[0m\n\u001b[1;32m    269\u001b[0m \u001b[0;34m\u001b[0m\u001b[0m\n",
      "\u001b[0;32m/home/jingwang/Data/anaconda3/envs/py2-spiral/lib/python2.7/site-packages/tqdm/_tqdm.pyc\u001b[0m in \u001b[0;36m__iter__\u001b[0;34m(self)\u001b[0m\n\u001b[1;32m   1015\u001b[0m                 \"\"\"), fp_write=getattr(self.fp, 'write', sys.stderr.write))\n\u001b[1;32m   1016\u001b[0m \u001b[0;34m\u001b[0m\u001b[0m\n\u001b[0;32m-> 1017\u001b[0;31m             \u001b[0;32mfor\u001b[0m \u001b[0mobj\u001b[0m \u001b[0;32min\u001b[0m \u001b[0miterable\u001b[0m\u001b[0;34m:\u001b[0m\u001b[0;34m\u001b[0m\u001b[0m\n\u001b[0m\u001b[1;32m   1018\u001b[0m                 \u001b[0;32myield\u001b[0m \u001b[0mobj\u001b[0m\u001b[0;34m\u001b[0m\u001b[0m\n\u001b[1;32m   1019\u001b[0m                 \u001b[0;31m# Update and possibly print the progressbar.\u001b[0m\u001b[0;34m\u001b[0m\u001b[0;34m\u001b[0m\u001b[0m\n",
      "\u001b[0;32m/home/jingwang/Data/anaconda3/envs/py2-spiral/lib/python2.7/site-packages/torch/utils/data/dataloader.pyc\u001b[0m in \u001b[0;36m__iter__\u001b[0;34m(self)\u001b[0m\n\u001b[1;32m    191\u001b[0m \u001b[0;34m\u001b[0m\u001b[0m\n\u001b[1;32m    192\u001b[0m     \u001b[0;32mdef\u001b[0m \u001b[0m__iter__\u001b[0m\u001b[0;34m(\u001b[0m\u001b[0mself\u001b[0m\u001b[0;34m)\u001b[0m\u001b[0;34m:\u001b[0m\u001b[0;34m\u001b[0m\u001b[0m\n\u001b[0;32m--> 193\u001b[0;31m         \u001b[0;32mreturn\u001b[0m \u001b[0m_DataLoaderIter\u001b[0m\u001b[0;34m(\u001b[0m\u001b[0mself\u001b[0m\u001b[0;34m)\u001b[0m\u001b[0;34m\u001b[0m\u001b[0m\n\u001b[0m\u001b[1;32m    194\u001b[0m \u001b[0;34m\u001b[0m\u001b[0m\n\u001b[1;32m    195\u001b[0m     \u001b[0;32mdef\u001b[0m \u001b[0m__len__\u001b[0m\u001b[0;34m(\u001b[0m\u001b[0mself\u001b[0m\u001b[0;34m)\u001b[0m\u001b[0;34m:\u001b[0m\u001b[0;34m\u001b[0m\u001b[0m\n",
      "\u001b[0;32m/home/jingwang/Data/anaconda3/envs/py2-spiral/lib/python2.7/site-packages/torch/utils/data/dataloader.pyc\u001b[0m in \u001b[0;36m__init__\u001b[0;34m(self, loader)\u001b[0m\n\u001b[1;32m    467\u001b[0m                 \u001b[0;31m#     before it starts, and __del__ tries to join but will get:\u001b[0m\u001b[0;34m\u001b[0m\u001b[0;34m\u001b[0m\u001b[0m\n\u001b[1;32m    468\u001b[0m                 \u001b[0;31m#     AssertionError: can only join a started process.\u001b[0m\u001b[0;34m\u001b[0m\u001b[0;34m\u001b[0m\u001b[0m\n\u001b[0;32m--> 469\u001b[0;31m                 \u001b[0mw\u001b[0m\u001b[0;34m.\u001b[0m\u001b[0mstart\u001b[0m\u001b[0;34m(\u001b[0m\u001b[0;34m)\u001b[0m\u001b[0;34m\u001b[0m\u001b[0m\n\u001b[0m\u001b[1;32m    470\u001b[0m                 \u001b[0mself\u001b[0m\u001b[0;34m.\u001b[0m\u001b[0mindex_queues\u001b[0m\u001b[0;34m.\u001b[0m\u001b[0mappend\u001b[0m\u001b[0;34m(\u001b[0m\u001b[0mindex_queue\u001b[0m\u001b[0;34m)\u001b[0m\u001b[0;34m\u001b[0m\u001b[0m\n\u001b[1;32m    471\u001b[0m                 \u001b[0mself\u001b[0m\u001b[0;34m.\u001b[0m\u001b[0mworkers\u001b[0m\u001b[0;34m.\u001b[0m\u001b[0mappend\u001b[0m\u001b[0;34m(\u001b[0m\u001b[0mw\u001b[0m\u001b[0;34m)\u001b[0m\u001b[0;34m\u001b[0m\u001b[0m\n",
      "\u001b[0;32m/home/jingwang/Data/anaconda3/envs/py2-spiral/lib/python2.7/multiprocessing/process.pyc\u001b[0m in \u001b[0;36mstart\u001b[0;34m(self)\u001b[0m\n\u001b[1;32m    128\u001b[0m         \u001b[0;32melse\u001b[0m\u001b[0;34m:\u001b[0m\u001b[0;34m\u001b[0m\u001b[0m\n\u001b[1;32m    129\u001b[0m             \u001b[0;32mfrom\u001b[0m \u001b[0;34m.\u001b[0m\u001b[0mforking\u001b[0m \u001b[0;32mimport\u001b[0m \u001b[0mPopen\u001b[0m\u001b[0;34m\u001b[0m\u001b[0m\n\u001b[0;32m--> 130\u001b[0;31m         \u001b[0mself\u001b[0m\u001b[0;34m.\u001b[0m\u001b[0m_popen\u001b[0m \u001b[0;34m=\u001b[0m \u001b[0mPopen\u001b[0m\u001b[0;34m(\u001b[0m\u001b[0mself\u001b[0m\u001b[0;34m)\u001b[0m\u001b[0;34m\u001b[0m\u001b[0m\n\u001b[0m\u001b[1;32m    131\u001b[0m         \u001b[0;31m# Avoid a refcycle if the target function holds an indirect\u001b[0m\u001b[0;34m\u001b[0m\u001b[0;34m\u001b[0m\u001b[0m\n\u001b[1;32m    132\u001b[0m         \u001b[0;31m# reference to the process object (see bpo-30775)\u001b[0m\u001b[0;34m\u001b[0m\u001b[0;34m\u001b[0m\u001b[0m\n",
      "\u001b[0;32m/home/jingwang/Data/anaconda3/envs/py2-spiral/lib/python2.7/multiprocessing/forking.pyc\u001b[0m in \u001b[0;36m__init__\u001b[0;34m(self, process_obj)\u001b[0m\n\u001b[1;32m    119\u001b[0m             \u001b[0mself\u001b[0m\u001b[0;34m.\u001b[0m\u001b[0mreturncode\u001b[0m \u001b[0;34m=\u001b[0m \u001b[0mNone\u001b[0m\u001b[0;34m\u001b[0m\u001b[0m\n\u001b[1;32m    120\u001b[0m \u001b[0;34m\u001b[0m\u001b[0m\n\u001b[0;32m--> 121\u001b[0;31m             \u001b[0mself\u001b[0m\u001b[0;34m.\u001b[0m\u001b[0mpid\u001b[0m \u001b[0;34m=\u001b[0m \u001b[0mos\u001b[0m\u001b[0;34m.\u001b[0m\u001b[0mfork\u001b[0m\u001b[0;34m(\u001b[0m\u001b[0;34m)\u001b[0m\u001b[0;34m\u001b[0m\u001b[0m\n\u001b[0m\u001b[1;32m    122\u001b[0m             \u001b[0;32mif\u001b[0m \u001b[0mself\u001b[0m\u001b[0;34m.\u001b[0m\u001b[0mpid\u001b[0m \u001b[0;34m==\u001b[0m \u001b[0;36m0\u001b[0m\u001b[0;34m:\u001b[0m\u001b[0;34m\u001b[0m\u001b[0m\n\u001b[1;32m    123\u001b[0m                 \u001b[0;32mif\u001b[0m \u001b[0;34m'random'\u001b[0m \u001b[0;32min\u001b[0m \u001b[0msys\u001b[0m\u001b[0;34m.\u001b[0m\u001b[0mmodules\u001b[0m\u001b[0;34m:\u001b[0m\u001b[0;34m\u001b[0m\u001b[0m\n",
      "\u001b[0;31mKeyboardInterrupt\u001b[0m: "
     ]
    }
   ],
   "source": [
    "if args['mode'] == 'train':\n",
    "    writer = SummaryWriter(summary_path)\n",
    "    with open(os.path.join(args['results_folder'],'checkpoints', args['name'] +'_params.json'),'w') as fp:\n",
    "        saveparams = copy.deepcopy(args)\n",
    "        json.dump(saveparams, fp)\n",
    "        \n",
    "    if args['resume']:\n",
    "            print('loading checkpoint from file %s'%(os.path.join(checkpoint_path,args['checkpoint_file'])))\n",
    "            checkpoint_dict = torch.load(os.path.join(checkpoint_path,args['checkpoint_file']+'.pth.tar'),map_location=device)\n",
    "            start_epoch = checkpoint_dict['epoch'] + 1\n",
    "            model.load_state_dict(checkpoint_dict['autoencoder_state_dict'])\n",
    "            optim.load_state_dict(checkpoint_dict['optimizer_state_dict'])\n",
    "            scheduler.load_state_dict(checkpoint_dict['scheduler_state_dict'])\n",
    "            print('Resuming from epoch %s'%(str(start_epoch)))     \n",
    "    else:\n",
    "        start_epoch = 0\n",
    "        \n",
    "    if args['generative_model'] == 'autoencoder':\n",
    "        train_autoencoder_dataloader(dataloader_train, dataloader_val,\n",
    "                          device, model, optim, loss_fn,\n",
    "                          bsize = args['batch_size'],\n",
    "                          start_epoch = start_epoch,\n",
    "                          n_epochs = args['num_epochs'],\n",
    "                          eval_freq = args['eval_frequency'],\n",
    "                          scheduler = scheduler,\n",
    "                          writer = writer,\n",
    "                          save_recons=True,\n",
    "                          shapedata=shapedata,\n",
    "                          metadata_dir=checkpoint_path, samples_dir=samples_path,\n",
    "                          checkpoint_path = args['checkpoint_file'])"
   ]
  },
  {
   "cell_type": "code",
   "execution_count": 13,
   "metadata": {},
   "outputs": [
    {
     "data": {
      "text/plain": [
       "False"
      ]
     },
     "execution_count": 13,
     "metadata": {},
     "output_type": "execute_result"
    }
   ],
   "source": [
    "model.module.only_decode"
   ]
  },
  {
   "cell_type": "code",
   "execution_count": null,
   "metadata": {},
   "outputs": [],
   "source": [
    "model.module.fc_latent_dec.weight.device"
   ]
  },
  {
   "cell_type": "code",
   "execution_count": 32,
   "metadata": {},
   "outputs": [
    {
     "name": "stdout",
     "output_type": "stream",
     "text": [
      "loading checkpoint from file /home/jingwang/Data/data/FaceWarehouse/results/spirals_autoencoder/latent_128/checkpoints/align_pose/checkpoint.pth.tar\n"
     ]
    },
    {
     "name": "stderr",
     "output_type": "stream",
     "text": [
      "100%|██████████| 7/7 [00:07<00:00,  1.02it/s]\n"
     ]
    },
    {
     "name": "stdout",
     "output_type": "stream",
     "text": [
      "('loss for ', 402, tensor(2.7376, device='cuda:0'))\n",
      "('loss for ', 560, tensor(2.7437, device='cuda:0'))\n",
      "('loss for ', 50, tensor(2.7965, device='cuda:0'))\n",
      "('loss for ', 537, tensor(2.7487, device='cuda:0'))\n",
      "('loss for ', 390, tensor(2.8354, device='cuda:0'))\n",
      "('loss for ', 364, tensor(2.8189, device='cuda:0'))\n",
      "('loss for ', 169, tensor(2.8539, device='cuda:0'))\n",
      "('loss for ', 616, tensor(2.7999, device='cuda:0'))\n",
      "('loss for ', 341, tensor(2.7889, device='cuda:0'))\n",
      "('loss for ', 590, tensor(2.8523, device='cuda:0'))\n",
      "('loss for ', 499, tensor(2.9018, device='cuda:0'))\n",
      "('loss for ', 389, tensor(2.8896, device='cuda:0'))\n",
      "('loss for ', 125, tensor(2.8902, device='cuda:0'))\n",
      "('loss for ', 370, tensor(2.9148, device='cuda:0'))\n",
      "('loss for ', 614, tensor(2.8942, device='cuda:0'))\n",
      "('loss for ', 600, tensor(2.9359, device='cuda:0'))\n",
      "('loss for ', 194, tensor(2.8669, device='cuda:0'))\n",
      "('loss for ', 8, tensor(2.8613, device='cuda:0'))\n",
      "('loss for ', 653, tensor(2.8374, device='cuda:0'))\n",
      "('loss for ', 559, tensor(2.9297, device='cuda:0'))\n",
      "('autoencoder: normalized loss', 0.13239245116710663)\n",
      "('autoencoder: euclidean distance in mm=', 0.9579762816429138)\n"
     ]
    }
   ],
   "source": [
    "if args['mode'] == 'test':\n",
    "    print('loading checkpoint from file %s'%(os.path.join(checkpoint_path,args['checkpoint_file']+'.pth.tar')))\n",
    "    checkpoint_dict = torch.load(os.path.join(checkpoint_path,args['checkpoint_file']+'.pth.tar'),map_location=device)\n",
    "    model.load_state_dict(checkpoint_dict['autoencoder_state_dict'])\n",
    "        \n",
    "    predictions, norm_l1_loss, l2_loss = test_autoencoder_dataloader(device, model, dataloader_test, \n",
    "                                                                     shapedata, worst_path=worst_mesh_path, \n",
    "                                                                     worst_face_num=args['worst_face_num'],\n",
    "                                                                     mm_constant = 100)    \n",
    "    np.save(os.path.join(prediction_path,'predictions'), predictions)   \n",
    "        \n",
    "    print('autoencoder: normalized loss', norm_l1_loss)\n",
    "    \n",
    "    print('autoencoder: euclidean distance in mm=', l2_loss)"
   ]
  },
  {
   "cell_type": "code",
   "execution_count": 18,
   "metadata": {},
   "outputs": [
    {
     "name": "stdout",
     "output_type": "stream",
     "text": [
      "loading checkpoint from file /home/jingwang/Data/data/FaceWarehouse/results/spirals_autoencoder/latent_128/checkpoints/align_pose/checkpoint.pth.tar\n"
     ]
    },
    {
     "name": "stderr",
     "output_type": "stream",
     "text": [
      "\n",
      "  0%|          | 0/97 [00:00<?, ?it/s]\u001b[A\n",
      "  1%|          | 1/97 [00:05<09:34,  5.99s/it]\u001b[A\n",
      "  2%|▏         | 2/97 [00:06<06:48,  4.30s/it]\u001b[A\n",
      "  3%|▎         | 3/97 [00:06<04:52,  3.11s/it]\u001b[A\n",
      "  4%|▍         | 4/97 [00:07<03:31,  2.27s/it]\u001b[A\n",
      "  5%|▌         | 5/97 [00:07<02:34,  1.68s/it]\u001b[A\n",
      "  6%|▌         | 6/97 [00:07<01:55,  1.27s/it]\u001b[A\n",
      "  7%|▋         | 7/97 [00:07<01:28,  1.02it/s]\u001b[A\n",
      "  8%|▊         | 8/97 [00:08<01:09,  1.28it/s]\u001b[A\n",
      "  9%|▉         | 9/97 [00:08<00:56,  1.56it/s]\u001b[A\n",
      " 10%|█         | 10/97 [00:08<00:47,  1.84it/s]\u001b[A\n",
      " 11%|█▏        | 11/97 [00:09<00:40,  2.11it/s]\u001b[A\n",
      " 12%|█▏        | 12/97 [00:09<00:40,  2.11it/s]\u001b[A\n",
      " 13%|█▎        | 13/97 [00:09<00:35,  2.37it/s]\u001b[A\n",
      " 14%|█▍        | 14/97 [00:10<00:31,  2.59it/s]\u001b[A\n",
      " 15%|█▌        | 15/97 [00:10<00:29,  2.78it/s]\u001b[A\n",
      " 16%|█▋        | 16/97 [00:10<00:27,  2.93it/s]\u001b[A\n",
      " 18%|█▊        | 17/97 [00:11<00:26,  3.05it/s]\u001b[A\n",
      " 19%|█▊        | 18/97 [00:11<00:25,  3.14it/s]\u001b[A\n",
      " 20%|█▉        | 19/97 [00:11<00:24,  3.18it/s]\u001b[A\n",
      " 21%|██        | 20/97 [00:12<00:23,  3.21it/s]\u001b[A\n",
      " 22%|██▏       | 21/97 [00:12<00:23,  3.22it/s]\u001b[A\n",
      " 23%|██▎       | 22/97 [00:12<00:23,  3.23it/s]\u001b[A\n",
      " 24%|██▎       | 23/97 [00:12<00:22,  3.24it/s]\u001b[A\n",
      " 25%|██▍       | 24/97 [00:13<00:22,  3.25it/s]\u001b[A\n",
      " 26%|██▌       | 25/97 [00:13<00:22,  3.25it/s]\u001b[A\n",
      " 27%|██▋       | 26/97 [00:13<00:21,  3.25it/s]\u001b[A\n",
      " 28%|██▊       | 27/97 [00:14<00:21,  3.26it/s]\u001b[A\n",
      " 29%|██▉       | 28/97 [00:14<00:21,  3.26it/s]\u001b[A\n",
      " 30%|██▉       | 29/97 [00:14<00:20,  3.25it/s]\u001b[A\n",
      " 31%|███       | 30/97 [00:15<00:20,  3.24it/s]\u001b[A\n",
      " 32%|███▏      | 31/97 [00:15<00:20,  3.25it/s]\u001b[A\n",
      " 33%|███▎      | 32/97 [00:15<00:19,  3.26it/s]\u001b[A\n",
      " 34%|███▍      | 33/97 [00:16<00:19,  3.25it/s]\u001b[A\n",
      " 35%|███▌      | 34/97 [00:16<00:19,  3.24it/s]\u001b[A\n",
      " 36%|███▌      | 35/97 [00:16<00:19,  3.25it/s]\u001b[A\n",
      " 37%|███▋      | 36/97 [00:16<00:18,  3.24it/s]\u001b[A\n",
      " 38%|███▊      | 37/97 [00:17<00:18,  3.23it/s]\u001b[A\n",
      " 39%|███▉      | 38/97 [00:17<00:18,  3.23it/s]\u001b[A\n",
      " 40%|████      | 39/97 [00:17<00:17,  3.23it/s]\u001b[A\n",
      " 41%|████      | 40/97 [00:18<00:17,  3.22it/s]\u001b[A\n",
      " 42%|████▏     | 41/97 [00:18<00:17,  3.22it/s]\u001b[A\n",
      " 43%|████▎     | 42/97 [00:18<00:17,  3.22it/s]\u001b[A\n",
      " 44%|████▍     | 43/97 [00:19<00:16,  3.22it/s]\u001b[A\n",
      " 45%|████▌     | 44/97 [00:19<00:16,  3.22it/s]\u001b[A\n",
      " 46%|████▋     | 45/97 [00:19<00:16,  3.22it/s]\u001b[A\n",
      " 47%|████▋     | 46/97 [00:20<00:15,  3.21it/s]\u001b[A\n",
      " 48%|████▊     | 47/97 [00:20<00:15,  3.21it/s]\u001b[A\n",
      " 49%|████▉     | 48/97 [00:20<00:15,  3.21it/s]\u001b[A\n",
      " 51%|█████     | 49/97 [00:21<00:14,  3.22it/s]\u001b[A\n",
      " 52%|█████▏    | 50/97 [00:21<00:14,  3.22it/s]\u001b[A\n",
      " 53%|█████▎    | 51/97 [00:21<00:14,  3.22it/s]\u001b[A\n",
      " 54%|█████▎    | 52/97 [00:21<00:14,  3.21it/s]\u001b[A\n",
      " 55%|█████▍    | 53/97 [00:22<00:13,  3.21it/s]\u001b[A\n",
      " 56%|█████▌    | 54/97 [00:22<00:13,  3.22it/s]\u001b[A\n",
      " 57%|█████▋    | 55/97 [00:22<00:13,  3.23it/s]\u001b[A\n",
      " 58%|█████▊    | 56/97 [00:23<00:12,  3.23it/s]\u001b[A\n",
      " 59%|█████▉    | 57/97 [00:23<00:12,  3.21it/s]\u001b[A\n",
      " 60%|█████▉    | 58/97 [00:23<00:12,  3.20it/s]\u001b[A\n",
      " 61%|██████    | 59/97 [00:24<00:11,  3.20it/s]\u001b[A\n",
      " 62%|██████▏   | 60/97 [00:24<00:11,  3.20it/s]\u001b[A\n",
      " 63%|██████▎   | 61/97 [00:24<00:11,  3.20it/s]\u001b[A\n",
      " 64%|██████▍   | 62/97 [00:25<00:10,  3.20it/s]\u001b[A\n",
      " 65%|██████▍   | 63/97 [00:25<00:10,  3.20it/s]\u001b[A\n",
      " 66%|██████▌   | 64/97 [00:25<00:10,  3.19it/s]\u001b[A\n",
      " 67%|██████▋   | 65/97 [00:26<00:10,  3.19it/s]\u001b[A\n",
      " 68%|██████▊   | 66/97 [00:26<00:09,  3.19it/s]\u001b[A\n",
      " 69%|██████▉   | 67/97 [00:26<00:09,  3.19it/s]\u001b[A\n",
      " 70%|███████   | 68/97 [00:26<00:09,  3.19it/s]\u001b[A\n",
      " 71%|███████   | 69/97 [00:27<00:08,  3.19it/s]\u001b[A\n",
      " 72%|███████▏  | 70/97 [00:27<00:08,  3.19it/s]\u001b[A\n",
      " 73%|███████▎  | 71/97 [00:27<00:08,  3.18it/s]\u001b[A\n",
      " 74%|███████▍  | 72/97 [00:28<00:07,  3.18it/s]\u001b[A\n",
      " 75%|███████▌  | 73/97 [00:28<00:07,  3.17it/s]\u001b[A\n",
      " 76%|███████▋  | 74/97 [00:28<00:07,  3.17it/s]\u001b[A\n",
      " 77%|███████▋  | 75/97 [00:29<00:06,  3.17it/s]\u001b[A\n",
      " 78%|███████▊  | 76/97 [00:29<00:06,  3.17it/s]\u001b[A\n",
      " 79%|███████▉  | 77/97 [00:29<00:06,  3.16it/s]\u001b[A\n",
      " 80%|████████  | 78/97 [00:30<00:06,  3.16it/s]\u001b[A\n",
      " 81%|████████▏ | 79/97 [00:30<00:05,  3.16it/s]\u001b[A\n",
      " 82%|████████▏ | 80/97 [00:30<00:05,  3.16it/s]\u001b[A\n",
      " 84%|████████▎ | 81/97 [00:31<00:05,  3.16it/s]\u001b[A\n",
      " 85%|████████▍ | 82/97 [00:31<00:04,  3.17it/s]\u001b[A\n",
      " 86%|████████▌ | 83/97 [00:31<00:04,  3.17it/s]\u001b[A\n",
      " 87%|████████▋ | 84/97 [00:32<00:04,  3.17it/s]\u001b[A\n",
      " 88%|████████▊ | 85/97 [00:32<00:03,  3.16it/s]\u001b[A\n",
      " 89%|████████▊ | 86/97 [00:32<00:03,  3.16it/s]\u001b[A\n",
      " 90%|████████▉ | 87/97 [00:32<00:03,  3.16it/s]\u001b[A\n",
      " 91%|█████████ | 88/97 [00:33<00:02,  3.16it/s]\u001b[A\n",
      " 92%|█████████▏| 89/97 [00:33<00:02,  3.15it/s]\u001b[A\n",
      " 93%|█████████▎| 90/97 [00:33<00:02,  3.15it/s]\u001b[A\n",
      " 94%|█████████▍| 91/97 [00:34<00:01,  3.15it/s]\u001b[A\n",
      " 95%|█████████▍| 92/97 [00:34<00:01,  3.15it/s]\u001b[A\n",
      " 96%|█████████▌| 93/97 [00:34<00:01,  3.15it/s]\u001b[A\n",
      " 97%|█████████▋| 94/97 [00:35<00:00,  3.15it/s]\u001b[A\n",
      " 98%|█████████▊| 95/97 [00:35<00:00,  3.15it/s]\u001b[A\n",
      " 99%|█████████▉| 96/97 [00:35<00:00,  3.15it/s]\u001b[A\n",
      "100%|██████████| 97/97 [00:36<00:00,  3.36it/s]\u001b[A"
     ]
    },
    {
     "name": "stdout",
     "output_type": "stream",
     "text": [
      "('loss for ', 586, tensor(0.6500, device='cuda:0'))\n",
      "('loss for ', 2114, tensor(0.6520, device='cuda:0'))\n",
      "('loss for ', 7367, tensor(0.6512, device='cuda:0'))\n",
      "('loss for ', 2851, tensor(0.6557, device='cuda:0'))\n",
      "('loss for ', 6893, tensor(0.6568, device='cuda:0'))\n",
      "('loss for ', 8053, tensor(0.6522, device='cuda:0'))\n",
      "('loss for ', 6181, tensor(0.6723, device='cuda:0'))\n",
      "('loss for ', 2481, tensor(0.6690, device='cuda:0'))\n",
      "('loss for ', 6458, tensor(0.6588, device='cuda:0'))\n",
      "('loss for ', 6215, tensor(0.6871, device='cuda:0'))\n",
      "('loss for ', 4388, tensor(0.7073, device='cuda:0'))\n",
      "('loss for ', 3775, tensor(0.8443, device='cuda:0'))\n",
      "('loss for ', 3728, tensor(0.6557, device='cuda:0'))\n",
      "('loss for ', 645, tensor(0.7630, device='cuda:0'))\n",
      "('loss for ', 4929, tensor(0.7139, device='cuda:0'))\n",
      "('loss for ', 1636, tensor(0.6774, device='cuda:0'))\n",
      "('loss for ', 2921, tensor(0.7664, device='cuda:0'))\n",
      "('loss for ', 8807, tensor(0.6903, device='cuda:0'))\n",
      "('loss for ', 2249, tensor(0.6622, device='cuda:0'))\n",
      "('loss for ', 1521, tensor(0.7572, device='cuda:0'))\n",
      "('autoencoder: normalized loss', 0.04332450032234192)\n",
      "('autoencoder: euclidean distance in mm=', 0.33068346977233887)\n"
     ]
    }
   ],
   "source": [
    "if args['mode'] == 'test': # test with train set\n",
    "    print('loading checkpoint from file %s'%(os.path.join(checkpoint_path,args['checkpoint_file']+'.pth.tar')))\n",
    "    checkpoint_dict = torch.load(os.path.join(checkpoint_path,args['checkpoint_file']+'.pth.tar'),map_location=device)\n",
    "    model.load_state_dict(checkpoint_dict['autoencoder_state_dict'])\n",
    "        \n",
    "    predictions, norm_l1_loss, l2_loss = test_autoencoder_dataloader(device, model, dataloader_train, \n",
    "                                                                     shapedata, worst_path=worst_mesh_path, \n",
    "                                                                     worst_face_num=args['worst_face_num'],\n",
    "                                                                     mm_constant = 100)    \n",
    "    np.save(os.path.join(prediction_path,'predictions'), predictions)   \n",
    "        \n",
    "    print('autoencoder: normalized loss', norm_l1_loss)\n",
    "    \n",
    "    print('autoencoder: euclidean distance in mm=', l2_loss)"
   ]
  },
  {
   "cell_type": "code",
   "execution_count": 39,
   "metadata": {
    "scrolled": false
   },
   "outputs": [
    {
     "name": "stdout",
     "output_type": "stream",
     "text": [
      "torch.Size([1, 11511, 3])\n",
      "('loss ', 0.39739155769348145)\n",
      "('loss ', 0.39277511835098267)\n",
      "('loss ', 0.35588905215263367)\n",
      "('loss ', 0.33115866780281067)\n",
      "('loss ', 0.3164112865924835)\n",
      "('loss ', 0.3067980408668518)\n",
      "('loss ', 0.2976946234703064)\n",
      "('loss ', 0.2918466627597809)\n",
      "('loss ', 0.2884432375431061)\n",
      "('loss ', 0.28520214557647705)\n",
      "('loss ', 0.2826074957847595)\n",
      "('loss ', 0.27986764907836914)\n",
      "('loss ', 0.27789127826690674)\n",
      "('loss ', 0.276755154132843)\n",
      "('loss ', 0.275785356760025)\n",
      "('loss ', 0.27493956685066223)\n",
      "('loss ', 0.2742707133293152)\n",
      "('loss ', 0.27380314469337463)\n",
      "('loss ', 0.2734643816947937)\n",
      "('loss ', 0.2732097804546356)\n",
      "tensor([[-1.2232,  0.2258,  0.2435, -0.7786,  2.4340, -0.1475, -0.0689,  0.4264,\n",
      "         -0.0836, -0.2713,  0.8224,  0.8065,  0.2474,  0.4163, -0.6270, -0.9571,\n",
      "          4.9992, -0.8653,  1.1199, -0.8996, -3.6033, -0.4942,  0.4912, -0.3746,\n",
      "         -1.2572,  1.9690, -0.7755, -0.2962,  0.1613, -1.5031,  1.9733,  0.6295,\n",
      "         -1.8684, -1.2721,  1.0964,  0.7270,  1.9877, -1.4139,  0.3740,  1.9864,\n",
      "         -1.5600, -2.0447,  0.3467,  1.2638, -0.4808, -1.9200, -0.5082, -1.8461,\n",
      "          0.5881, -0.6074,  0.1182,  0.8184,  0.6920, -0.5693,  1.7841,  0.6742,\n",
      "         -3.1680,  1.6980, -0.7337,  0.4768, -0.6022, -0.7740, -1.9361, -0.6034,\n",
      "         -0.9655, -1.7996,  2.4245,  0.1428,  0.1237,  0.5836, -0.5369,  0.4607,\n",
      "         -2.2807,  0.7481,  0.5067,  2.1551, -1.2782,  1.7908,  0.2442,  0.4227,\n",
      "          0.5867, -3.3627, -0.7388,  1.6211,  0.4266,  1.1509, -1.6773, -0.9014,\n",
      "          0.6319,  0.3915, -1.3346, -1.0620, -0.9584,  2.2943,  0.8840, -0.9233,\n",
      "          1.3074,  1.0167,  1.6441, -0.9835, -0.9838, -1.7014, -0.4229, -0.2344,\n",
      "          0.3546, -0.1157, -1.2786,  0.4113, -1.6505,  1.1152,  0.0992,  0.8703,\n",
      "          2.1788, -3.3860, -0.9681, -0.0666,  0.0117, -1.1297,  0.1345, -0.1201,\n",
      "          0.0587, -0.6846, -0.2038, -4.1665, -0.0267, -0.0303, -1.0650, -2.3129]],\n",
      "       device='cuda:0')\n",
      "(8, tensor(0.0211, device='cuda:0', grad_fn=<MeanBackward0>))\n"
     ]
    }
   ],
   "source": [
    "# from optimize_to_get_result import optimize_to_get_result\n",
    "\n",
    "import torch\n",
    "import torch.optim as optim\n",
    "import torch.nn as nn\n",
    "\n",
    "\n",
    "def optimize_to_get_result(model, loss_fun, z_dim, device, targets, n_iter=1, output_loss=True):\n",
    "    model.eval()\n",
    "    \n",
    "#     return torch.empty(0), model(targets)\n",
    "    \n",
    "    model.module.only_encode = True\n",
    "    z = model(targets)\n",
    "    model.module.only_encode = False\n",
    "    \n",
    "    model.module.only_decode = True\n",
    "    z_param = nn.Parameter(z)\n",
    "    optimizer = optim.LBFGS(params=[z_param])\n",
    "    for it in range(n_iter):\n",
    "        def closure():\n",
    "            optimizer.zero_grad()\n",
    "            outputs = model(z_param)\n",
    "            loss = loss_fun(outputs, targets)\n",
    "            loss.backward()\n",
    "            if output_loss:\n",
    "                print('loss ', loss.item())\n",
    "            return loss\n",
    "        optimizer.step(closure)\n",
    "    outputs = model(z_param)\n",
    "    \n",
    "    model.module.only_decode = False\n",
    "    return z_param.data, outputs\n",
    "\n",
    "def work_optimize():\n",
    "\n",
    "    test_dataset = dataset_test\n",
    "    # test_ids = [402,560, 50,  537, 390,\n",
    "    #             364, 169, 616, 341, 590,\n",
    "    #             499, 389,125, 370, 614,\n",
    "    #             600, 194, 8, 653, 559]\n",
    "    test_ids = [8]\n",
    "    inputs = torch.cat([test_dataset[idx]['points'].to(device).unsqueeze(0) for idx in test_ids])\n",
    "    inputs = inputs.to(device)\n",
    "\n",
    "    print(inputs.shape) # fixme\n",
    "\n",
    "    shapedata_mean = torch.Tensor(shapedata.mean).to(device)\n",
    "    shapedata_std = torch.Tensor(shapedata.std).to(device)\n",
    "\n",
    "    z, outputs = optimize_to_get_result(model, loss_fn, args['nz'], device,\n",
    "                          inputs)\n",
    "    from pprint import pprint\n",
    "    pprint(z)\n",
    "\n",
    "    outputs = outputs[:,:-1]\n",
    "    inputs = inputs[:,:-1]\n",
    "\n",
    "    old_outputs = outputs\n",
    "    old_inputs = inputs\n",
    "\n",
    "    outputs = outputs * shapedata_std + shapedata_mean\n",
    "    inputs = inputs * shapedata_std + shapedata_mean\n",
    "\n",
    "    per_l2_loss = torch.sqrt(torch.sum((outputs - inputs)**2, dim=2))\n",
    "\n",
    "    for i in range(len(test_ids)):\n",
    "        print(test_ids[i], torch.mean(per_l2_loss[i]))\n",
    "\n",
    "    shapedata.save_meshes(os.path.join(worst_mesh_path, 'opt_input'),old_inputs.detach().cpu().numpy(),test_ids)\n",
    "    shapedata.save_meshes(os.path.join(worst_mesh_path, 'opt_output'),old_outputs.detach().cpu().numpy(),test_ids)\n",
    "\n",
    "work_optimize()"
   ]
  },
  {
   "cell_type": "code",
   "execution_count": 19,
   "metadata": {},
   "outputs": [
    {
     "data": {
      "text/plain": [
       "torch.Tensor"
      ]
     },
     "execution_count": 19,
     "metadata": {},
     "output_type": "execute_result"
    }
   ],
   "source": [
    "type(inputs)"
   ]
  },
  {
   "cell_type": "code",
   "execution_count": 20,
   "metadata": {},
   "outputs": [
    {
     "data": {
      "text/plain": [
       "torch.Tensor"
      ]
     },
     "execution_count": 20,
     "metadata": {},
     "output_type": "execute_result"
    }
   ],
   "source": [
    "type(outputs)"
   ]
  },
  {
   "cell_type": "code",
   "execution_count": 21,
   "metadata": {},
   "outputs": [
    {
     "data": {
      "text/plain": [
       "torch.Tensor"
      ]
     },
     "execution_count": 21,
     "metadata": {},
     "output_type": "execute_result"
    }
   ],
   "source": [
    "type(old_inputs)"
   ]
  },
  {
   "cell_type": "code",
   "execution_count": 29,
   "metadata": {},
   "outputs": [
    {
     "data": {
      "text/plain": [
       "torch.Size([2, 11511, 3])"
      ]
     },
     "execution_count": 29,
     "metadata": {},
     "output_type": "execute_result"
    }
   ],
   "source": [
    "torch.cat([test_dataset[0]['points'].unsqueeze(0),test_dataset[1]['points'].unsqueeze(0)]).shape"
   ]
  },
  {
   "cell_type": "code",
   "execution_count": 21,
   "metadata": {},
   "outputs": [
    {
     "data": {
      "text/plain": [
       "128"
      ]
     },
     "execution_count": 21,
     "metadata": {},
     "output_type": "execute_result"
    }
   ],
   "source": [
    "args['nz']"
   ]
  },
  {
   "cell_type": "code",
   "execution_count": 23,
   "metadata": {},
   "outputs": [
    {
     "data": {
      "text/plain": [
       "True"
      ]
     },
     "execution_count": 23,
     "metadata": {},
     "output_type": "execute_result"
    }
   ],
   "source": [
    "model.only_decode"
   ]
  },
  {
   "cell_type": "code",
   "execution_count": 27,
   "metadata": {},
   "outputs": [
    {
     "data": {
      "text/plain": [
       "tensor([[[-0.0581,  0.0713, -0.0968],\n",
       "         [-0.0582,  0.0715, -0.0978],\n",
       "         [-0.0570,  0.0703, -0.0970],\n",
       "         ...,\n",
       "         [-0.0562,  0.0718, -0.0985],\n",
       "         [-0.0539,  0.0685, -0.1012],\n",
       "         [-0.0000,  0.0000, -0.0000]],\n",
       "\n",
       "        [[-0.0581,  0.0713, -0.0968],\n",
       "         [-0.0582,  0.0715, -0.0978],\n",
       "         [-0.0570,  0.0703, -0.0970],\n",
       "         ...,\n",
       "         [-0.0562,  0.0718, -0.0985],\n",
       "         [-0.0539,  0.0685, -0.1012],\n",
       "         [-0.0000,  0.0000, -0.0000]]], device='cuda:0',\n",
       "       grad_fn=<GatherBackward>)"
      ]
     },
     "execution_count": 27,
     "metadata": {},
     "output_type": "execute_result"
    }
   ],
   "source": [
    "z1 = torch.zeros((2,11511,3))\n",
    "z2 = torch.zeros((2,128))\n",
    "\n",
    "model(z1)"
   ]
  }
 ],
 "metadata": {
  "kernelspec": {
   "display_name": "Python 2",
   "language": "python",
   "name": "python2"
  },
  "language_info": {
   "codemirror_mode": {
    "name": "ipython",
    "version": 2
   },
   "file_extension": ".py",
   "mimetype": "text/x-python",
   "name": "python",
   "nbconvert_exporter": "python",
   "pygments_lexer": "ipython2",
   "version": "2.7.16"
  }
 },
 "nbformat": 4,
 "nbformat_minor": 2
}
