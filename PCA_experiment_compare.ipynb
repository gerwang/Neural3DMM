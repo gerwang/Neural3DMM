{
 "cells": [
  {
   "cell_type": "markdown",
   "metadata": {},
   "source": [
    "Compare N-mod SVD and SVD"
   ]
  },
  {
   "cell_type": "markdown",
   "metadata": {},
   "source": [
    "Compare different Identities and Expression"
   ]
  },
  {
   "cell_type": "code",
   "execution_count": 7,
   "metadata": {},
   "outputs": [],
   "source": [
    "import scipy.io as sio\n",
    "import struct\n",
    "import numpy as np\n",
    "import os\n",
    "from sklearn.decomposition import PCA\n",
    "import openmesh\n",
    "\n",
    "n_bs = 0\n",
    "n_vert = 0\n",
    "n_face = 0\n",
    "n_people = 150\n",
    "path_prefix = '/home/jingwang/Data/data/FaceWarehouse/'\n",
    "result_path = '/home/jingwang/Data/data/FaceWarehouse/preprocessed/'\n",
    "n_training_pose = 20\n",
    "\n",
    "n_test = 10\n",
    "n_train = n_people - n_test\n",
    "\n",
    "\n",
    "def load_bs_file(bs_path):\n",
    "    global n_bs, n_vert, n_face\n",
    "    with open(bs_path, 'rb') as fin:\n",
    "        n_bs, n_vert, n_face = struct.unpack('iii', fin.read(4 * 3))\n",
    "        # 46 11510 11400\n",
    "        neu_vert = np.fromfile(fin, dtype=np.float32,\n",
    "                               count=(n_bs + 1) * n_vert * 3)\n",
    "        return neu_vert\n",
    "\n",
    "\n",
    "def load_training_pose(idx):\n",
    "    ten = []\n",
    "    template = os.path.join(path_prefix, 'Tester_{}'.format(\n",
    "        idx), 'TrainingPose', 'pose_aligned_{}.obj')\n",
    "    for i in range(n_training_pose):\n",
    "        file_path = template.format(i)\n",
    "        mesh = openmesh.read_trimesh(file_path)\n",
    "        ten.append(mesh.points())\n",
    "    ten = np.array(ten,dtype=np.float32)\n",
    "    return ten\n",
    "\n",
    "\n",
    "def load_personalized_blendshape(idx):\n",
    "    file_path = os.path.join(\n",
    "        path_prefix, 'Tester_{}'.format(idx), 'Blendshape', 'shape.bs')\n",
    "    tmp = load_bs_file(file_path)\n",
    "    tmp = tmp.reshape(n_bs+1, n_vert, 3)\n",
    "    return tmp"
   ]
  },
  {
   "cell_type": "code",
   "execution_count": 2,
   "metadata": {},
   "outputs": [
    {
     "name": "stdout",
     "output_type": "stream",
     "text": [
      "(750, 11510, 3) (6300, 11510, 3)\n"
     ]
    }
   ],
   "source": [
    "ten_train = []\n",
    "ten_test = []\n",
    "n_exp_test = 5\n",
    "for i in range(1, n_people + 1):\n",
    "    blendshape = load_personalized_blendshape(i) # 47 x 11510 x 3\n",
    "    ten_train.append(blendshape[:-n_exp_test])\n",
    "    ten_test.append(blendshape[-n_exp_test:])\n",
    "    \n",
    "ten_test = np.concatenate(ten_test, axis=0)\n",
    "ten_train = np.concatenate(ten_train, axis=0)\n",
    "print(ten_test.shape, ten_train.shape)\n",
    "np.save(os.path.join(result_path, 'train_last_{}_exp.npy'.format(n_exp_test)), ten_train)\n",
    "np.save(os.path.join(result_path, 'test_last_{}_exp.npy'.format(n_exp_test)), ten_test)"
   ]
  },
  {
   "cell_type": "code",
   "execution_count": 3,
   "metadata": {},
   "outputs": [
    {
     "data": {
      "text/plain": [
       "42.0"
      ]
     },
     "execution_count": 3,
     "metadata": {},
     "output_type": "execute_result"
    }
   ],
   "source": [
    "6300/150"
   ]
  },
  {
   "cell_type": "markdown",
   "metadata": {},
   "source": [
    "exp10: All exp, test on new identities"
   ]
  },
  {
   "cell_type": "code",
   "execution_count": 5,
   "metadata": {},
   "outputs": [],
   "source": [
    "from sklearn.decomposition import PCA"
   ]
  },
  {
   "cell_type": "code",
   "execution_count": null,
   "metadata": {},
   "outputs": [],
   "source": [
    "from sklearn.decomposition import PCA\n",
    "import numpy as np\n",
    "pca = PCA(n_components=args['nz'])\n",
    "X = np.array([dataset_train[i]['points'].cpu().numpy() for i in range(len(dataset_train))])\n",
    "X = X.reshape(X.shape[0], -1)\n",
    "W = pca.fit_transform(X.T)\n",
    "X_val = np.array([dataset_test[i]['points'].cpu().numpy() for i in range(len(dataset_test))]) # prevbug forget to modify in len()\n",
    "X_mean = np.mean(X, axis=0)\n",
    "X_val = X_val.reshape(X_val.shape[0], -1).T\n",
    "x = np.linalg.lstsq(W,X_val-X_mean.reshape(-1,1),rcond=None)[0]\n",
    "pca_recon = np.matmul(W,x)+X_mean.reshape(-1,1)\n",
    "X_val = X_val[:-3]\n",
    "pca_recon = pca_recon[:-3]\n",
    "shapedata.save_meshes(os.path.join(worst_mesh_path,'pca'),pca_recon.T, list(range(pca_recon.shape[0])))\n",
    "shapedata.save_meshes(os.path.join(worst_mesh_path,'pca_input'),X_val.T, list(range(X_val.shape[0])))\n",
    "X_val_denorm = X_val * shapedata.std.reshape(-1,1) + shapedata.mean.reshape(-1,1)\n",
    "pca_denorm = pca_recon * shapedata.std.reshape(-1,1) + shapedata.mean.reshape(-1,1)\n",
    "residual = (X_val_denorm-pca_denorm)**2\n",
    "residual = residual.reshape(-1,3,10)\n",
    "residual = np.sqrt(np.sum(residual,axis=1))\n",
    "np.mean(residual)*100"
   ]
  },
  {
   "cell_type": "code",
   "execution_count": 139,
   "metadata": {},
   "outputs": [],
   "source": [
    "import pathlib\n",
    "template_path = '/home/jingwang/Data/data/FaceWarehouse/template/template.obj'\n",
    "def gen_separate_exp(n_id,last_exp):\n",
    "    for cur_id in range(1,n_id+1):\n",
    "        for cur_exp in range(-last_exp,0):\n",
    "            yield 'id_{0}_exp_{1}'.format(cur_id, cur_exp)\n",
    "def gen_sep_id(n_id, n_exp):\n",
    "    for cur_id in range(1,n_id+1):\n",
    "        for cur_exp in range(n_exp):\n",
    "            yield 'id_{}_exp_{}'.format(cur_id, cur_exp)"
   ]
  },
  {
   "cell_type": "code",
   "execution_count": null,
   "metadata": {},
   "outputs": [],
   "source": [
    "def test_pca_wrong(train_path, test_path, mesh_output_path, nz, template_path, name_gen, should_save_mesh=False):\n",
    "    train_data = np.load(train_path)\n",
    "    mean = np.mean(train_data, axis=0).reshape(1, -1, 3)\n",
    "    train_data -= mean\n",
    "    mean = mean.reshape(1, -1)\n",
    "    test_data = np.load(test_path)\n",
    "    pca = PCA(n_components=nz)\n",
    "    train_data = train_data.reshape(train_data.shape[0], -1)\n",
    "    test_data = test_data.reshape(test_data.shape[0], -1)\n",
    "    W = pca.fit_transform(train_data.T)\n",
    "    x = np.linalg.lstsq(W, (test_data-mean).T, rcond=None)\n",
    "    recon = W@x[0]+mean.T\n",
    "    recon = recon.T\n",
    "    recon = recon.reshape(recon.shape[0], -1, 3)\n",
    "    test_data = test_data.reshape(test_data.shape[0], -1, 3)\n",
    "    template = openmesh.read_trimesh(template_path)\n",
    "    pathlib.Path(mesh_output_path).mkdir(exist_ok=True, parents=True)\n",
    "    if should_save_mesh:\n",
    "        for i, name in enumerate(name_gen):\n",
    "            save_mesh(test_data[i], template, os.path.join(\n",
    "                mesh_output_path, 'test_'+name+'.obj'))\n",
    "            save_mesh(recon[i], template, os.path.join(\n",
    "                mesh_output_path, 'recon_'+name+'.obj'))\n",
    "    residual = np.sqrt(np.sum((test_data - recon)**2, axis=2))\n",
    "    return np.mean(residual)*100  # convert dm to mm"
   ]
  },
  {
   "cell_type": "code",
   "execution_count": 266,
   "metadata": {},
   "outputs": [],
   "source": [
    "def save_mesh(points, template, output_path):\n",
    "    template.points()[:] = points\n",
    "    print('saving', output_path)\n",
    "    openmesh.write_mesh(output_path, template)\n",
    "\n",
    "def test_pca(train_path, test_path, mesh_output_path, nz, template_path, name_gen, should_save_mesh=False):\n",
    "    train_data = np.load(train_path)\n",
    "    test_data = np.load(test_path)\n",
    "    pca = PCA(n_components=nz)\n",
    "    train_data = train_data.reshape(train_data.shape[0], -1)\n",
    "    test_data = test_data.reshape(test_data.shape[0], -1)\n",
    "    pca.fit(train_data)\n",
    "    recon = pca.inverse_transform(pca.transform(test_data))\n",
    "    recon = recon.reshape(recon.shape[0], -1, 3)\n",
    "    test_data = test_data.reshape(test_data.shape[0], -1, 3)\n",
    "    template = openmesh.read_trimesh(template_path)\n",
    "    pathlib.Path(mesh_output_path).mkdir(exist_ok=True, parents=True)\n",
    "    if should_save_mesh:\n",
    "        print('start saving')\n",
    "        for i, name in enumerate(name_gen):\n",
    "            save_mesh(test_data[i], template, os.path.join(\n",
    "                mesh_output_path, 'test_'+name+'.obj'))\n",
    "            save_mesh(recon[i], template, os.path.join(\n",
    "                mesh_output_path, 'recon_'+name+'.obj'))\n",
    "    residual = np.sqrt(np.sum((test_data - recon)**2, axis=2))\n",
    "    return np.mean(residual)*100  # convert dm to mm"
   ]
  },
  {
   "cell_type": "code",
   "execution_count": 144,
   "metadata": {},
   "outputs": [
    {
     "data": {
      "text/plain": [
       "0.1778074773028493"
      ]
     },
     "execution_count": 144,
     "metadata": {},
     "output_type": "execute_result"
    }
   ],
   "source": [
    "test_pca('/home/jingwang/Data/data/FaceWarehouse/preprocessed/train_last_5_exp.npy',\n",
    "        '/home/jingwang/Data/data/FaceWarehouse/preprocessed/train_last_5_exp.npy',\n",
    "        '/home/jingwang/Data/data/FaceWarehouse/preprocessed/pca_sep_exp',\n",
    "        128,\n",
    "        template_path,\n",
    "        gen_separate_exp(150,5),\n",
    "        should_save_mesh=False)"
   ]
  },
  {
   "cell_type": "markdown",
   "metadata": {},
   "source": [
    "Up, test on train set"
   ]
  },
  {
   "cell_type": "code",
   "execution_count": 142,
   "metadata": {},
   "outputs": [
    {
     "data": {
      "text/plain": [
       "0.3116756211966276"
      ]
     },
     "execution_count": 142,
     "metadata": {},
     "output_type": "execute_result"
    }
   ],
   "source": [
    "test_pca('/home/jingwang/Data/data/FaceWarehouse/preprocessed/train_last_5_exp.npy',\n",
    "        '/home/jingwang/Data/data/FaceWarehouse/preprocessed/test_last_5_exp.npy',\n",
    "        '/home/jingwang/Data/data/FaceWarehouse/preprocessed/pca_sep_exp',\n",
    "        128,\n",
    "        template_path,\n",
    "        gen_separate_exp(150,5),\n",
    "        should_save_mesh=True)"
   ]
  },
  {
   "cell_type": "markdown",
   "metadata": {},
   "source": [
    "Up, generalize on new expressions"
   ]
  },
  {
   "cell_type": "code",
   "execution_count": 143,
   "metadata": {},
   "outputs": [
    {
     "data": {
      "text/plain": [
       "0.470117898657918"
      ]
     },
     "execution_count": 143,
     "metadata": {},
     "output_type": "execute_result"
    }
   ],
   "source": [
    "test_pca('/home/jingwang/Data/data/FaceWarehouse/preprocessed/align_pose/train_bs_only.npy',\n",
    "        '/home/jingwang/Data/data/FaceWarehouse/preprocessed/align_pose/test_bs_only.npy',\n",
    "        '/home/jingwang/Data/data/FaceWarehouse/preprocessed/pca_sep_id',\n",
    "        128,\n",
    "        template_path,\n",
    "        gen_sep_id(10,47),\n",
    "        should_save_mesh=True)"
   ]
  },
  {
   "cell_type": "code",
   "execution_count": 147,
   "metadata": {},
   "outputs": [
    {
     "data": {
      "text/plain": [
       "0.17254167469218373"
      ]
     },
     "execution_count": 147,
     "metadata": {},
     "output_type": "execute_result"
    }
   ],
   "source": [
    "test_pca('/home/jingwang/Data/data/FaceWarehouse/preprocessed/align_pose/train_bs_only.npy',\n",
    "        '/home/jingwang/Data/data/FaceWarehouse/preprocessed/align_pose/train_bs_only.npy',\n",
    "        '/home/jingwang/Data/data/FaceWarehouse/preprocessed/pca_sep_id',\n",
    "        128,\n",
    "        template_path,\n",
    "        gen_sep_id(10,47),\n",
    "        should_save_mesh=False)"
   ]
  },
  {
   "cell_type": "markdown",
   "metadata": {},
   "source": [
    "Up, generalize on new unseen id"
   ]
  },
  {
   "cell_type": "code",
   "execution_count": 191,
   "metadata": {},
   "outputs": [],
   "source": [
    "tmp = np.load('/home/jingwang/Data/data/FaceWarehouse/preprocessed/neutral/train.npy')"
   ]
  },
  {
   "cell_type": "code",
   "execution_count": 192,
   "metadata": {},
   "outputs": [
    {
     "data": {
      "text/plain": [
       "(150, 11510, 3)"
      ]
     },
     "execution_count": 192,
     "metadata": {},
     "output_type": "execute_result"
    }
   ],
   "source": [
    "tmp.shape"
   ]
  },
  {
   "cell_type": "code",
   "execution_count": 216,
   "metadata": {},
   "outputs": [],
   "source": [
    "np.save('/home/jingwang/Data/data/FaceWarehouse/preprocessed/neutral/test_last_10.npy',tmp[140:])"
   ]
  },
  {
   "cell_type": "code",
   "execution_count": 217,
   "metadata": {},
   "outputs": [],
   "source": [
    "np.save('/home/jingwang/Data/data/FaceWarehouse/preprocessed/neutral/train_first_140.npy',tmp[:140])"
   ]
  },
  {
   "cell_type": "code",
   "execution_count": 221,
   "metadata": {},
   "outputs": [
    {
     "name": "stdout",
     "output_type": "stream",
     "text": [
      "start saving\n",
      "saving /home/jingwang/Data/data/FaceWarehouse/preprocessed/pca_neutral/test_id_1_exp_0.obj\n",
      "saving /home/jingwang/Data/data/FaceWarehouse/preprocessed/pca_neutral/recon_id_1_exp_0.obj\n",
      "saving /home/jingwang/Data/data/FaceWarehouse/preprocessed/pca_neutral/test_id_2_exp_0.obj\n",
      "saving /home/jingwang/Data/data/FaceWarehouse/preprocessed/pca_neutral/recon_id_2_exp_0.obj\n",
      "saving /home/jingwang/Data/data/FaceWarehouse/preprocessed/pca_neutral/test_id_3_exp_0.obj\n",
      "saving /home/jingwang/Data/data/FaceWarehouse/preprocessed/pca_neutral/recon_id_3_exp_0.obj\n",
      "saving /home/jingwang/Data/data/FaceWarehouse/preprocessed/pca_neutral/test_id_4_exp_0.obj\n",
      "saving /home/jingwang/Data/data/FaceWarehouse/preprocessed/pca_neutral/recon_id_4_exp_0.obj\n",
      "saving /home/jingwang/Data/data/FaceWarehouse/preprocessed/pca_neutral/test_id_5_exp_0.obj\n",
      "saving /home/jingwang/Data/data/FaceWarehouse/preprocessed/pca_neutral/recon_id_5_exp_0.obj\n",
      "saving /home/jingwang/Data/data/FaceWarehouse/preprocessed/pca_neutral/test_id_6_exp_0.obj\n",
      "saving /home/jingwang/Data/data/FaceWarehouse/preprocessed/pca_neutral/recon_id_6_exp_0.obj\n",
      "saving /home/jingwang/Data/data/FaceWarehouse/preprocessed/pca_neutral/test_id_7_exp_0.obj\n",
      "saving /home/jingwang/Data/data/FaceWarehouse/preprocessed/pca_neutral/recon_id_7_exp_0.obj\n",
      "saving /home/jingwang/Data/data/FaceWarehouse/preprocessed/pca_neutral/test_id_8_exp_0.obj\n",
      "saving /home/jingwang/Data/data/FaceWarehouse/preprocessed/pca_neutral/recon_id_8_exp_0.obj\n",
      "saving /home/jingwang/Data/data/FaceWarehouse/preprocessed/pca_neutral/test_id_9_exp_0.obj\n",
      "saving /home/jingwang/Data/data/FaceWarehouse/preprocessed/pca_neutral/recon_id_9_exp_0.obj\n",
      "saving /home/jingwang/Data/data/FaceWarehouse/preprocessed/pca_neutral/test_id_10_exp_0.obj\n",
      "saving /home/jingwang/Data/data/FaceWarehouse/preprocessed/pca_neutral/recon_id_10_exp_0.obj\n"
     ]
    },
    {
     "data": {
      "text/plain": [
       "1.4661343768239021"
      ]
     },
     "execution_count": 221,
     "metadata": {},
     "output_type": "execute_result"
    }
   ],
   "source": [
    "test_pca('/home/jingwang/Data/data/FaceWarehouse/preprocessed/neutral/train_first_140.npy',\n",
    "        '/home/jingwang/Data/data/FaceWarehouse/preprocessed/neutral/test_last_10.npy',\n",
    "        '/home/jingwang/Data/data/FaceWarehouse/preprocessed/pca_neutral',\n",
    "        16,\n",
    "        template_path,\n",
    "        gen_sep_id(10,1),\n",
    "        should_save_mesh=True)"
   ]
  },
  {
   "cell_type": "code",
   "execution_count": 220,
   "metadata": {},
   "outputs": [
    {
     "data": {
      "text/plain": [
       "1.1846146546304226"
      ]
     },
     "execution_count": 220,
     "metadata": {},
     "output_type": "execute_result"
    }
   ],
   "source": [
    "test_pca('/home/jingwang/Data/data/FaceWarehouse/preprocessed/neutral/train_first_140.npy',\n",
    "        '/home/jingwang/Data/data/FaceWarehouse/preprocessed/neutral/train_first_140.npy',\n",
    "        '/home/jingwang/Data/data/FaceWarehouse/preprocessed/pca_neutral',\n",
    "        16,\n",
    "        template_path,\n",
    "        gen_sep_id(10,1),\n",
    "        should_save_mesh=False)"
   ]
  },
  {
   "cell_type": "code",
   "execution_count": 215,
   "metadata": {},
   "outputs": [
    {
     "name": "stdout",
     "output_type": "stream",
     "text": [
      "start saving\n",
      "saving /home/jingwang/Data/data/FaceWarehouse/preprocessed/pca_neutral/test_id_1_exp_0.obj\n",
      "saving /home/jingwang/Data/data/FaceWarehouse/preprocessed/pca_neutral/recon_id_1_exp_0.obj\n",
      "saving /home/jingwang/Data/data/FaceWarehouse/preprocessed/pca_neutral/test_id_2_exp_0.obj\n",
      "saving /home/jingwang/Data/data/FaceWarehouse/preprocessed/pca_neutral/recon_id_2_exp_0.obj\n",
      "saving /home/jingwang/Data/data/FaceWarehouse/preprocessed/pca_neutral/test_id_3_exp_0.obj\n",
      "saving /home/jingwang/Data/data/FaceWarehouse/preprocessed/pca_neutral/recon_id_3_exp_0.obj\n",
      "saving /home/jingwang/Data/data/FaceWarehouse/preprocessed/pca_neutral/test_id_4_exp_0.obj\n",
      "saving /home/jingwang/Data/data/FaceWarehouse/preprocessed/pca_neutral/recon_id_4_exp_0.obj\n",
      "saving /home/jingwang/Data/data/FaceWarehouse/preprocessed/pca_neutral/test_id_5_exp_0.obj\n",
      "saving /home/jingwang/Data/data/FaceWarehouse/preprocessed/pca_neutral/recon_id_5_exp_0.obj\n",
      "saving /home/jingwang/Data/data/FaceWarehouse/preprocessed/pca_neutral/test_id_6_exp_0.obj\n",
      "saving /home/jingwang/Data/data/FaceWarehouse/preprocessed/pca_neutral/recon_id_6_exp_0.obj\n",
      "saving /home/jingwang/Data/data/FaceWarehouse/preprocessed/pca_neutral/test_id_7_exp_0.obj\n",
      "saving /home/jingwang/Data/data/FaceWarehouse/preprocessed/pca_neutral/recon_id_7_exp_0.obj\n",
      "saving /home/jingwang/Data/data/FaceWarehouse/preprocessed/pca_neutral/test_id_8_exp_0.obj\n",
      "saving /home/jingwang/Data/data/FaceWarehouse/preprocessed/pca_neutral/recon_id_8_exp_0.obj\n",
      "saving /home/jingwang/Data/data/FaceWarehouse/preprocessed/pca_neutral/test_id_9_exp_0.obj\n",
      "saving /home/jingwang/Data/data/FaceWarehouse/preprocessed/pca_neutral/recon_id_9_exp_0.obj\n",
      "saving /home/jingwang/Data/data/FaceWarehouse/preprocessed/pca_neutral/test_id_10_exp_0.obj\n",
      "saving /home/jingwang/Data/data/FaceWarehouse/preprocessed/pca_neutral/recon_id_10_exp_0.obj\n"
     ]
    },
    {
     "data": {
      "text/plain": [
       "1.6180649399757385"
      ]
     },
     "execution_count": 215,
     "metadata": {},
     "output_type": "execute_result"
    }
   ],
   "source": [
    "test_pca('/home/jingwang/Data/data/FaceWarehouse/preprocessed/neutral/train_140.npy',\n",
    "        '/home/jingwang/Data/data/FaceWarehouse/preprocessed/neutral/test_10.npy',\n",
    "        '/home/jingwang/Data/data/FaceWarehouse/preprocessed/pca_neutral',\n",
    "        16,\n",
    "        template_path,\n",
    "        gen_sep_id(10,1),\n",
    "        should_save_mesh=True)"
   ]
  },
  {
   "cell_type": "code",
   "execution_count": 214,
   "metadata": {
    "scrolled": true
   },
   "outputs": [
    {
     "data": {
      "text/plain": [
       "1.1815941892564297"
      ]
     },
     "execution_count": 214,
     "metadata": {},
     "output_type": "execute_result"
    }
   ],
   "source": [
    "test_pca('/home/jingwang/Data/data/FaceWarehouse/preprocessed/neutral/train_140.npy',\n",
    "        '/home/jingwang/Data/data/FaceWarehouse/preprocessed/neutral/train_140.npy',\n",
    "        '/home/jingwang/Data/data/FaceWarehouse/preprocessed/pca_neutral',\n",
    "        16,\n",
    "        template_path,\n",
    "        gen_sep_id(140,1),\n",
    "        should_save_mesh=False)"
   ]
  },
  {
   "cell_type": "code",
   "execution_count": null,
   "metadata": {},
   "outputs": [],
   "source": [
    "def test_bilinear(train_path, test_path, mesh_output_path, nz_id, nz_exp, n_id, n_exp,\n",
    "                  template_path, name_gen, should_save_mesh=False):\n",
    "    train_data = np.load(train_path)\n",
    "    test_data = np.load(test_path)\n",
    "    test_data = test_data[:10] # fixme, just because it's slow\n",
    "    pca_id = PCA(n_components=nz_id)\n",
    "    pca_exp = PCA(n_components=nz_exp)\n",
    "    test_data = test_data.reshape(test_data.shape[0], -1)\n",
    "    train_data = train_data.reshape(n_id, -1)\n",
    "    pca_id.fit(train_data)\n",
    "    # (nz_id+1) x n_exp*n_ver*3\n",
    "    exp_data = np.vstack([pca_id.mean_, pca_id.components_])\n",
    "    exp_data = exp_data.reshape(\n",
    "        nz_id+1, n_exp, -1).transpose([1, 0, 2]).reshape(n_exp, -1)\n",
    "    # prevbug: nz_id should +1\n",
    "    pca_exp.fit(exp_data)\n",
    "    core_tensor = np.vstack([pca_exp.mean_, pca_exp.components_]).reshape(\n",
    "        nz_exp+1, nz_id+1, -1)\n",
    "    print('computed core tensor')\n",
    "    recon = []\n",
    "    \n",
    "    pathlib.Path(mesh_output_path).mkdir(exist_ok=True, parents=True)\n",
    "    template = openmesh.read_trimesh(template_path)\n",
    "    \n",
    "    for i in range(test_data.shape[0]):\n",
    "        id_x = np.zeros(nz_id)\n",
    "        exp_x = np.zeros(nz_exp)\n",
    "        n_iter = 12\n",
    "        for iter_i in range(n_iter):\n",
    "            bs = np.tensordot(core_tensor, np.concatenate(\n",
    "                [[1], id_x]), axes=[[1], [0]])\n",
    "            exp_x = np.linalg.lstsq(bs[1:].T, test_data[i]-bs[0], rcond=None)[0]\n",
    "            idb = np.tensordot(core_tensor, np.concatenate(\n",
    "                [[1], exp_x]), axes=[[0], [0]])\n",
    "            id_x = np.linalg.lstsq(idb[1:].T, test_data[i]-idb[0], rcond=None)[0]\n",
    "\n",
    "        recon.append(np.tensordot(\n",
    "            np.tensordot(core_tensor,\n",
    "                         np.concatenate([[1], exp_x]),\n",
    "                         axes=[[0], [0]]),\n",
    "            np.concatenate([[1], id_x]),\n",
    "            axes=[[0], [0]]))\n",
    "        print('done {}'.format(i))\n",
    "        if should_save_mesh:\n",
    "            name = next(name_gen)\n",
    "            save_mesh(test_data[i].reshape(-1, 3), template, os.path.join(\n",
    "                mesh_output_path, 'test_'+name+'.obj'))\n",
    "            save_mesh(recon[i].reshape(-1, 3), template, os.path.join(\n",
    "                mesh_output_path, 'recon_'+name+'.obj'))\n",
    "        print('saved {}'.format(i))\n",
    "                \n",
    "    recon = np.array(recon)\n",
    "    test_data = test_data.reshape(test_data.shape[0], -1, 3)\n",
    "    recon = recon.reshape(recon.shape[0], -1, 3)\n",
    "\n",
    "    residual = np.sqrt(np.sum((test_data - recon)**2, axis=2))\n",
    "    return np.mean(residual)*100  # convert dm to mm"
   ]
  },
  {
   "cell_type": "code",
   "execution_count": 269,
   "metadata": {},
   "outputs": [
    {
     "data": {
      "text/plain": [
       "(29, 101, 34530)"
      ]
     },
     "execution_count": 269,
     "metadata": {},
     "output_type": "execute_result"
    }
   ],
   "source": [
    "core_tensor.shape"
   ]
  },
  {
   "cell_type": "code",
   "execution_count": 270,
   "metadata": {},
   "outputs": [],
   "source": [
    "id_x = np.concatenate([[1],np.zeros(100)])"
   ]
  },
  {
   "cell_type": "code",
   "execution_count": 271,
   "metadata": {},
   "outputs": [
    {
     "data": {
      "text/plain": [
       "(101,)"
      ]
     },
     "execution_count": 271,
     "metadata": {},
     "output_type": "execute_result"
    }
   ],
   "source": [
    "id_x.shape"
   ]
  },
  {
   "cell_type": "code",
   "execution_count": 272,
   "metadata": {},
   "outputs": [],
   "source": [
    "tmp = np.tensordot(core_tensor, id_x, axes=[[1],[0]])"
   ]
  },
  {
   "cell_type": "code",
   "execution_count": 273,
   "metadata": {},
   "outputs": [
    {
     "data": {
      "text/plain": [
       "(29, 34530)"
      ]
     },
     "execution_count": 273,
     "metadata": {},
     "output_type": "execute_result"
    }
   ],
   "source": [
    "tmp.shape"
   ]
  },
  {
   "cell_type": "code",
   "execution_count": 274,
   "metadata": {},
   "outputs": [
    {
     "data": {
      "text/plain": [
       "28"
      ]
     },
     "execution_count": 274,
     "metadata": {},
     "output_type": "execute_result"
    }
   ],
   "source": [
    "nz_exp"
   ]
  },
  {
   "cell_type": "code",
   "execution_count": 275,
   "metadata": {},
   "outputs": [
    {
     "data": {
      "text/plain": [
       "(28, 34530)"
      ]
     },
     "execution_count": 275,
     "metadata": {},
     "output_type": "execute_result"
    }
   ],
   "source": [
    "tmp[1:].shape"
   ]
  },
  {
   "cell_type": "code",
   "execution_count": null,
   "metadata": {},
   "outputs": [],
   "source": []
  },
  {
   "cell_type": "code",
   "execution_count": 264,
   "metadata": {},
   "outputs": [
    {
     "data": {
      "text/plain": [
       "(470, 34530)"
      ]
     },
     "execution_count": 264,
     "metadata": {},
     "output_type": "execute_result"
    }
   ],
   "source": [
    "test_data.shape"
   ]
  },
  {
   "cell_type": "code",
   "execution_count": 298,
   "metadata": {},
   "outputs": [
    {
     "name": "stdout",
     "output_type": "stream",
     "text": [
      "computed core tensor\n",
      "done 0\n",
      "saving /home/jingwang/Data/data/FaceWarehouse/preprocessed/bi_sep_id/test_id_1_exp_0.obj\n",
      "saving /home/jingwang/Data/data/FaceWarehouse/preprocessed/bi_sep_id/recon_id_1_exp_0.obj\n",
      "saving /home/jingwang/Data/data/FaceWarehouse/preprocessed/bi_sep_id/test_id_1_exp_1.obj\n"
     ]
    },
    {
     "ename": "IndexError",
     "evalue": "list index out of range",
     "output_type": "error",
     "traceback": [
      "\u001b[0;31m---------------------------------------------------------------------------\u001b[0m",
      "\u001b[0;31mIndexError\u001b[0m                                Traceback (most recent call last)",
      "\u001b[0;32m<ipython-input-298-a019fd4514b4>\u001b[0m in \u001b[0;36m<module>\u001b[0;34m\u001b[0m\n\u001b[1;32m      5\u001b[0m         \u001b[0mtemplate_path\u001b[0m\u001b[0;34m,\u001b[0m\u001b[0;34m\u001b[0m\u001b[0;34m\u001b[0m\u001b[0m\n\u001b[1;32m      6\u001b[0m         \u001b[0mgen_sep_id\u001b[0m\u001b[0;34m(\u001b[0m\u001b[0;36m10\u001b[0m\u001b[0;34m,\u001b[0m\u001b[0;36m47\u001b[0m\u001b[0;34m)\u001b[0m\u001b[0;34m,\u001b[0m\u001b[0;34m\u001b[0m\u001b[0;34m\u001b[0m\u001b[0m\n\u001b[0;32m----> 7\u001b[0;31m         should_save_mesh=True)\n\u001b[0m",
      "\u001b[0;32m<ipython-input-296-2c741872f72f>\u001b[0m in \u001b[0;36mtest_bilinear\u001b[0;34m(train_path, test_path, mesh_output_path, nz_id, nz_exp, n_id, n_exp, template_path, name_gen, should_save_mesh)\u001b[0m\n\u001b[1;32m     45\u001b[0m                 save_mesh(test_data[i].reshape(-1, 3), template, os.path.join(\n\u001b[1;32m     46\u001b[0m                     mesh_output_path, 'test_'+name+'.obj'))\n\u001b[0;32m---> 47\u001b[0;31m                 save_mesh(recon[i].reshape(-1, 3), template, os.path.join(\n\u001b[0m\u001b[1;32m     48\u001b[0m                     mesh_output_path, 'recon_'+name+'.obj'))\n\u001b[1;32m     49\u001b[0m         \u001b[0mprint\u001b[0m\u001b[0;34m(\u001b[0m\u001b[0;34m'saved {}'\u001b[0m\u001b[0;34m.\u001b[0m\u001b[0mformat\u001b[0m\u001b[0;34m(\u001b[0m\u001b[0mi\u001b[0m\u001b[0;34m)\u001b[0m\u001b[0;34m)\u001b[0m\u001b[0;34m\u001b[0m\u001b[0;34m\u001b[0m\u001b[0m\n",
      "\u001b[0;31mIndexError\u001b[0m: list index out of range"
     ]
    }
   ],
   "source": [
    "test_bilinear('/home/jingwang/Data/data/FaceWarehouse/preprocessed/align_pose/train_bs_only.npy',\n",
    "        '/home/jingwang/Data/data/FaceWarehouse/preprocessed/align_pose/test_bs_only.npy',\n",
    "        '/home/jingwang/Data/data/FaceWarehouse/preprocessed/bi_sep_id',\n",
    "        100,28,140,47,\n",
    "        template_path,\n",
    "        gen_sep_id(10,47),\n",
    "        should_save_mesh=True)"
   ]
  },
  {
   "cell_type": "code",
   "execution_count": null,
   "metadata": {},
   "outputs": [],
   "source": [
    "test_bilinear('/home/jingwang/Data/data/FaceWarehouse/preprocessed/align_pose/train_bs_only.npy',\n",
    "        '/home/jingwang/Data/data/FaceWarehouse/preprocessed/align_pose/test_bs_only.npy',\n",
    "        '/home/jingwang/Data/data/FaceWarehouse/preprocessed/bi_sep_id_88_40',\n",
    "        88,40,140,47,\n",
    "        template_path,\n",
    "        gen_sep_id(10,47),\n",
    "        should_save_mesh=True)"
   ]
  },
  {
   "cell_type": "code",
   "execution_count": 290,
   "metadata": {},
   "outputs": [
    {
     "data": {
      "text/plain": [
       "(10, 34530)"
      ]
     },
     "execution_count": 290,
     "metadata": {},
     "output_type": "execute_result"
    }
   ],
   "source": [
    "test_data.reshape(test_datast)"
   ]
  },
  {
   "cell_type": "code",
   "execution_count": 245,
   "metadata": {},
   "outputs": [
    {
     "data": {
      "text/plain": [
       "(47, 3453000)"
      ]
     },
     "execution_count": 245,
     "metadata": {},
     "output_type": "execute_result"
    }
   ],
   "source": [
    "exp_data.shape"
   ]
  },
  {
   "cell_type": "code",
   "execution_count": 246,
   "metadata": {},
   "outputs": [
    {
     "data": {
      "text/plain": [
       "(3453000,)"
      ]
     },
     "execution_count": 246,
     "metadata": {},
     "output_type": "execute_result"
    }
   ],
   "source": [
    "pca_exp.mean_.shape"
   ]
  },
  {
   "cell_type": "code",
   "execution_count": 263,
   "metadata": {},
   "outputs": [
    {
     "data": {
      "text/plain": [
       "(29, 101, 34530)"
      ]
     },
     "execution_count": 263,
     "metadata": {},
     "output_type": "execute_result"
    }
   ],
   "source": [
    "core_tensor.shape"
   ]
  },
  {
   "cell_type": "code",
   "execution_count": 235,
   "metadata": {},
   "outputs": [
    {
     "data": {
      "text/plain": [
       "(47, 3453000)"
      ]
     },
     "execution_count": 235,
     "metadata": {},
     "output_type": "execute_result"
    }
   ],
   "source": [
    "exp_data.shape"
   ]
  },
  {
   "cell_type": "code",
   "execution_count": 236,
   "metadata": {},
   "outputs": [
    {
     "data": {
      "text/plain": [
       "(100, 1622910)"
      ]
     },
     "execution_count": 236,
     "metadata": {},
     "output_type": "execute_result"
    }
   ],
   "source": [
    "pca_id.components_.shape"
   ]
  },
  {
   "cell_type": "code",
   "execution_count": 250,
   "metadata": {},
   "outputs": [
    {
     "data": {
      "text/plain": [
       "(28, 3453000)"
      ]
     },
     "execution_count": 250,
     "metadata": {},
     "output_type": "execute_result"
    }
   ],
   "source": [
    "pca_exp.components_.shape"
   ]
  },
  {
   "cell_type": "code",
   "execution_count": 156,
   "metadata": {
    "scrolled": true
   },
   "outputs": [
    {
     "data": {
      "text/plain": [
       "(1622910,)"
      ]
     },
     "execution_count": 156,
     "metadata": {},
     "output_type": "execute_result"
    }
   ],
   "source": [
    "pca_id.mean_.shape"
   ]
  },
  {
   "cell_type": "code",
   "execution_count": 157,
   "metadata": {},
   "outputs": [
    {
     "data": {
      "text/plain": [
       "(3453000,)"
      ]
     },
     "execution_count": 157,
     "metadata": {},
     "output_type": "execute_result"
    }
   ],
   "source": [
    "pca_exp.mean_.shape"
   ]
  },
  {
   "cell_type": "code",
   "execution_count": 158,
   "metadata": {},
   "outputs": [
    {
     "data": {
      "text/plain": [
       "(28, 100, 34530)"
      ]
     },
     "execution_count": 158,
     "metadata": {},
     "output_type": "execute_result"
    }
   ],
   "source": [
    "core_tensor.shape"
   ]
  },
  {
   "cell_type": "code",
   "execution_count": null,
   "metadata": {},
   "outputs": [],
   "source": []
  },
  {
   "cell_type": "code",
   "execution_count": 162,
   "metadata": {},
   "outputs": [
    {
     "data": {
      "text/plain": [
       "1622910"
      ]
     },
     "execution_count": 162,
     "metadata": {},
     "output_type": "execute_result"
    }
   ],
   "source": [
    "47*34530"
   ]
  },
  {
   "cell_type": "code",
   "execution_count": 161,
   "metadata": {},
   "outputs": [
    {
     "data": {
      "text/plain": [
       "3453000"
      ]
     },
     "execution_count": 161,
     "metadata": {},
     "output_type": "execute_result"
    }
   ],
   "source": [
    "100*34530"
   ]
  },
  {
   "cell_type": "code",
   "execution_count": 159,
   "metadata": {},
   "outputs": [
    {
     "data": {
      "text/plain": [
       "(47, 3453000)"
      ]
     },
     "execution_count": 159,
     "metadata": {},
     "output_type": "execute_result"
    }
   ],
   "source": [
    "exp_data.shape"
   ]
  },
  {
   "cell_type": "code",
   "execution_count": 126,
   "metadata": {},
   "outputs": [
    {
     "data": {
      "text/plain": [
       "(750, 34530)"
      ]
     },
     "execution_count": 126,
     "metadata": {},
     "output_type": "execute_result"
    }
   ],
   "source": [
    "train_data.shape"
   ]
  },
  {
   "cell_type": "code",
   "execution_count": 132,
   "metadata": {},
   "outputs": [
    {
     "data": {
      "text/plain": [
       "(34530,)"
      ]
     },
     "execution_count": 132,
     "metadata": {},
     "output_type": "execute_result"
    }
   ],
   "source": [
    "pca.mean_.shape"
   ]
  },
  {
   "cell_type": "code",
   "execution_count": 127,
   "metadata": {},
   "outputs": [],
   "source": [
    "pca = PCA(150)"
   ]
  },
  {
   "cell_type": "code",
   "execution_count": 128,
   "metadata": {},
   "outputs": [
    {
     "data": {
      "text/plain": [
       "PCA(copy=True, iterated_power='auto', n_components=150, random_state=None,\n",
       "    svd_solver='auto', tol=0.0, whiten=False)"
      ]
     },
     "execution_count": 128,
     "metadata": {},
     "output_type": "execute_result"
    }
   ],
   "source": [
    "pca.fit(train_data)"
   ]
  },
  {
   "cell_type": "code",
   "execution_count": 129,
   "metadata": {},
   "outputs": [
    {
     "data": {
      "text/plain": [
       "(150, 34530)"
      ]
     },
     "execution_count": 129,
     "metadata": {},
     "output_type": "execute_result"
    }
   ],
   "source": [
    "pca.components_.shape"
   ]
  },
  {
   "cell_type": "code",
   "execution_count": 131,
   "metadata": {},
   "outputs": [
    {
     "data": {
      "text/plain": [
       "(750, 34530)"
      ]
     },
     "execution_count": 131,
     "metadata": {},
     "output_type": "execute_result"
    }
   ],
   "source": [
    "pca.inverse_transform(pca.transform(train_data)).shape"
   ]
  },
  {
   "cell_type": "code",
   "execution_count": 63,
   "metadata": {
    "scrolled": true
   },
   "outputs": [
    {
     "data": {
      "text/plain": [
       "(34530, 750)"
      ]
     },
     "execution_count": 63,
     "metadata": {},
     "output_type": "execute_result"
    }
   ],
   "source": [
    "W.shape"
   ]
  },
  {
   "cell_type": "code",
   "execution_count": 90,
   "metadata": {
    "scrolled": true
   },
   "outputs": [
    {
     "data": {
      "text/plain": [
       "0.0019378662"
      ]
     },
     "execution_count": 90,
     "metadata": {},
     "output_type": "execute_result"
    }
   ],
   "source": [
    "np.dot(W[:,0],W[:,1])"
   ]
  },
  {
   "cell_type": "code",
   "execution_count": 91,
   "metadata": {
    "scrolled": true
   },
   "outputs": [
    {
     "data": {
      "text/plain": [
       "-0.073478766"
      ]
     },
     "execution_count": 91,
     "metadata": {},
     "output_type": "execute_result"
    }
   ],
   "source": [
    "np.dot(W[0],W[1])"
   ]
  },
  {
   "cell_type": "code",
   "execution_count": 93,
   "metadata": {
    "scrolled": true
   },
   "outputs": [
    {
     "data": {
      "text/plain": [
       "-0.04603089"
      ]
     },
     "execution_count": 93,
     "metadata": {},
     "output_type": "execute_result"
    }
   ],
   "source": [
    "np.dot(W[1],W[2])"
   ]
  },
  {
   "cell_type": "code",
   "execution_count": 122,
   "metadata": {},
   "outputs": [
    {
     "data": {
      "text/plain": [
       "(600, 750)"
      ]
     },
     "execution_count": 122,
     "metadata": {},
     "output_type": "execute_result"
    }
   ],
   "source": [
    "pca.components_.shape"
   ]
  },
  {
   "cell_type": "code",
   "execution_count": 124,
   "metadata": {},
   "outputs": [
    {
     "data": {
      "text/plain": [
       "-2.0303174e-10"
      ]
     },
     "execution_count": 124,
     "metadata": {},
     "output_type": "execute_result"
    }
   ],
   "source": [
    "np.mean([np.dot(pca.components_[i],pca.components_[j]) for i in range(600) for j in range(600) if i!=j])"
   ]
  },
  {
   "cell_type": "code",
   "execution_count": 125,
   "metadata": {},
   "outputs": [
    {
     "data": {
      "text/plain": [
       "-0.0010339294"
      ]
     },
     "execution_count": 125,
     "metadata": {},
     "output_type": "execute_result"
    }
   ],
   "source": [
    "np.mean([np.dot(pca.components_[:,i],pca.components_[:,j]) for i in range(600) for j in range(600) if i!=j])"
   ]
  },
  {
   "cell_type": "code",
   "execution_count": 94,
   "metadata": {},
   "outputs": [
    {
     "data": {
      "text/plain": [
       "-0.00031280518"
      ]
     },
     "execution_count": 94,
     "metadata": {},
     "output_type": "execute_result"
    }
   ],
   "source": [
    "np.dot(W[:,1],W[:,2])"
   ]
  },
  {
   "cell_type": "code",
   "execution_count": 64,
   "metadata": {},
   "outputs": [
    {
     "data": {
      "text/plain": [
       "(34530,)"
      ]
     },
     "execution_count": 64,
     "metadata": {},
     "output_type": "execute_result"
    }
   ],
   "source": [
    "tmp.shape"
   ]
  },
  {
   "cell_type": "code",
   "execution_count": 186,
   "metadata": {},
   "outputs": [],
   "source": [
    "tmp_data = np.array([\n",
    "    [1,2,3],\n",
    "    [3,4,10],\n",
    "    [6,7,8]\n",
    "])"
   ]
  },
  {
   "cell_type": "code",
   "execution_count": 187,
   "metadata": {},
   "outputs": [],
   "source": [
    "tmp_pca = PCA(3)"
   ]
  },
  {
   "cell_type": "code",
   "execution_count": 188,
   "metadata": {},
   "outputs": [
    {
     "data": {
      "text/plain": [
       "array([[ 5.16676770e+00, -4.39773150e-01,  4.32689795e-16],\n",
       "       [-1.81417842e+00,  2.43536011e+00,  4.32689795e-16],\n",
       "       [-3.35258928e+00, -1.99558696e+00,  4.32689795e-16]])"
      ]
     },
     "execution_count": 188,
     "metadata": {},
     "output_type": "execute_result"
    }
   ],
   "source": [
    "tmp_pca.fit_transform(tmp_data)"
   ]
  },
  {
   "cell_type": "code",
   "execution_count": 189,
   "metadata": {},
   "outputs": [
    {
     "data": {
      "text/plain": [
       "array([[-4.94615366e-01, -4.94615366e-01, -7.14640665e-01],\n",
       "       [-5.05327261e-01, -5.05327261e-01,  6.99491758e-01],\n",
       "       [-7.07106781e-01,  7.07106781e-01, -1.38953306e-16]])"
      ]
     },
     "execution_count": 189,
     "metadata": {},
     "output_type": "execute_result"
    }
   ],
   "source": [
    "tmp_pca.components_"
   ]
  },
  {
   "cell_type": "code",
   "execution_count": 185,
   "metadata": {},
   "outputs": [
    {
     "data": {
      "text/plain": [
       "array([1.00000000e+00, 2.81351049e-34])"
      ]
     },
     "execution_count": 185,
     "metadata": {},
     "output_type": "execute_result"
    }
   ],
   "source": [
    "tmp_pca.explained_variance_ratio_"
   ]
  },
  {
   "cell_type": "code",
   "execution_count": 184,
   "metadata": {},
   "outputs": [
    {
     "data": {
      "text/plain": [
       "-1.0"
      ]
     },
     "execution_count": 184,
     "metadata": {},
     "output_type": "execute_result"
    }
   ],
   "source": [
    "np.linalg.det(tmp_pca.components_)"
   ]
  },
  {
   "cell_type": "code",
   "execution_count": 60,
   "metadata": {},
   "outputs": [
    {
     "name": "stdout",
     "output_type": "stream",
     "text": [
      "(1, 2)\n"
     ]
    },
    {
     "data": {
      "text/plain": [
       "(2, 1)"
      ]
     },
     "execution_count": 60,
     "metadata": {},
     "output_type": "execute_result"
    }
   ],
   "source": [
    "w = np.array([[1,2]])\n",
    "print(w.shape)\n",
    "np.linalg.pinv(w).shape"
   ]
  },
  {
   "cell_type": "code",
   "execution_count": 169,
   "metadata": {},
   "outputs": [],
   "source": [
    "pca1 = PCA(100)\n",
    "pca2 = PCA(28)"
   ]
  },
  {
   "cell_type": "code",
   "execution_count": 174,
   "metadata": {},
   "outputs": [],
   "source": [
    "train_data_id = train_data.reshape(150,42,34530)"
   ]
  },
  {
   "cell_type": "code",
   "execution_count": 175,
   "metadata": {},
   "outputs": [],
   "source": [
    "W1 = pca1.fit_transform(train_data.reshape(150,-1).T).T"
   ]
  },
  {
   "cell_type": "code",
   "execution_count": 176,
   "metadata": {},
   "outputs": [],
   "source": [
    "W1 = W1.reshape(100,42,34530)"
   ]
  },
  {
   "cell_type": "code",
   "execution_count": 179,
   "metadata": {},
   "outputs": [],
   "source": [
    "W2 = pca2.fit_transform(W1.transpose([1,0,2]).reshape(42,-1).T).T"
   ]
  },
  {
   "cell_type": "code",
   "execution_count": 180,
   "metadata": {},
   "outputs": [],
   "source": [
    "W2 = W2.reshape(28,100,11510,3)"
   ]
  },
  {
   "cell_type": "code",
   "execution_count": 181,
   "metadata": {},
   "outputs": [],
   "source": [
    "train_data_sep = train_data.reshape(150,42,34530)"
   ]
  },
  {
   "cell_type": "code",
   "execution_count": 182,
   "metadata": {},
   "outputs": [],
   "source": [
    "mean_blendshape = np.mean(train_data_sep, axis=0)"
   ]
  },
  {
   "cell_type": "code",
   "execution_count": 192,
   "metadata": {},
   "outputs": [],
   "source": [
    "test_data = ten_test.reshape(750,34530)"
   ]
  },
  {
   "cell_type": "code",
   "execution_count": 184,
   "metadata": {},
   "outputs": [],
   "source": [
    "W2 = W2.reshape(28,100,34530)"
   ]
  },
  {
   "cell_type": "code",
   "execution_count": 187,
   "metadata": {},
   "outputs": [
    {
     "ename": "LinAlgError",
     "evalue": "3-dimensional array given. Array must be two-dimensional",
     "output_type": "error",
     "traceback": [
      "\u001b[0;31m---------------------------------------------------------------------------\u001b[0m",
      "\u001b[0;31mLinAlgError\u001b[0m                               Traceback (most recent call last)",
      "\u001b[0;32m<ipython-input-187-afed50ffa95b>\u001b[0m in \u001b[0;36m<module>\u001b[0;34m\u001b[0m\n\u001b[1;32m      3\u001b[0m \u001b[0;32mfor\u001b[0m \u001b[0mi\u001b[0m \u001b[0;32min\u001b[0m \u001b[0mrange\u001b[0m\u001b[0;34m(\u001b[0m\u001b[0;36m3\u001b[0m\u001b[0;34m)\u001b[0m\u001b[0;34m:\u001b[0m\u001b[0;34m\u001b[0m\u001b[0;34m\u001b[0m\u001b[0m\n\u001b[1;32m      4\u001b[0m     \u001b[0mbs\u001b[0m \u001b[0;34m=\u001b[0m \u001b[0mnp\u001b[0m\u001b[0;34m.\u001b[0m\u001b[0mtensordot\u001b[0m\u001b[0;34m(\u001b[0m\u001b[0mW2\u001b[0m\u001b[0;34m,\u001b[0m \u001b[0mid_x\u001b[0m\u001b[0;34m,\u001b[0m \u001b[0maxes\u001b[0m\u001b[0;34m=\u001b[0m\u001b[0;34m[\u001b[0m\u001b[0;34m[\u001b[0m\u001b[0;36m1\u001b[0m\u001b[0;34m]\u001b[0m\u001b[0;34m,\u001b[0m\u001b[0;34m[\u001b[0m\u001b[0;36m0\u001b[0m\u001b[0;34m]\u001b[0m\u001b[0;34m]\u001b[0m\u001b[0;34m)\u001b[0m \u001b[0;31m# 28 x 34530\u001b[0m\u001b[0;34m\u001b[0m\u001b[0;34m\u001b[0m\u001b[0m\n\u001b[0;32m----> 5\u001b[0;31m     \u001b[0mexp_x\u001b[0m \u001b[0;34m=\u001b[0m \u001b[0mnp\u001b[0m\u001b[0;34m.\u001b[0m\u001b[0mlinalg\u001b[0m\u001b[0;34m.\u001b[0m\u001b[0mlstsq\u001b[0m\u001b[0;34m(\u001b[0m\u001b[0mbs\u001b[0m\u001b[0;34m.\u001b[0m\u001b[0mT\u001b[0m\u001b[0;34m,\u001b[0m\u001b[0mtest_data\u001b[0m\u001b[0;34m,\u001b[0m\u001b[0mrcond\u001b[0m\u001b[0;34m=\u001b[0m\u001b[0;32mNone\u001b[0m\u001b[0;34m)\u001b[0m\u001b[0;34m[\u001b[0m\u001b[0;36m0\u001b[0m\u001b[0;34m]\u001b[0m\u001b[0;34m\u001b[0m\u001b[0;34m\u001b[0m\u001b[0m\n\u001b[0m\u001b[1;32m      6\u001b[0m     \u001b[0mid_base\u001b[0m \u001b[0;34m=\u001b[0m \u001b[0mnp\u001b[0m\u001b[0;34m.\u001b[0m\u001b[0mtensordot\u001b[0m\u001b[0;34m(\u001b[0m\u001b[0mW2\u001b[0m\u001b[0;34m,\u001b[0m \u001b[0mexp_x\u001b[0m\u001b[0;34m,\u001b[0m \u001b[0maxes\u001b[0m\u001b[0;34m=\u001b[0m\u001b[0;34m[\u001b[0m\u001b[0;34m[\u001b[0m\u001b[0;36m0\u001b[0m\u001b[0;34m]\u001b[0m\u001b[0;34m,\u001b[0m\u001b[0;34m[\u001b[0m\u001b[0;36m0\u001b[0m\u001b[0;34m]\u001b[0m\u001b[0;34m]\u001b[0m\u001b[0;34m)\u001b[0m\u001b[0;34m\u001b[0m\u001b[0;34m\u001b[0m\u001b[0m\n\u001b[1;32m      7\u001b[0m     \u001b[0mid_x\u001b[0m \u001b[0;34m=\u001b[0m \u001b[0mnp\u001b[0m\u001b[0;34m.\u001b[0m\u001b[0mlinalg\u001b[0m\u001b[0;34m.\u001b[0m\u001b[0mlstsq\u001b[0m\u001b[0;34m(\u001b[0m\u001b[0mid_base\u001b[0m\u001b[0;34m.\u001b[0m\u001b[0mT\u001b[0m\u001b[0;34m,\u001b[0m\u001b[0mtest_data\u001b[0m\u001b[0;34m,\u001b[0m\u001b[0mrcond\u001b[0m\u001b[0;34m=\u001b[0m\u001b[0;32mNone\u001b[0m\u001b[0;34m)\u001b[0m\u001b[0;34m[\u001b[0m\u001b[0;36m0\u001b[0m\u001b[0;34m]\u001b[0m\u001b[0;34m\u001b[0m\u001b[0;34m\u001b[0m\u001b[0m\n",
      "\u001b[0;32m~/Data/anaconda3/envs/spiral/lib/python3.7/site-packages/numpy/linalg/linalg.py\u001b[0m in \u001b[0;36mlstsq\u001b[0;34m(a, b, rcond)\u001b[0m\n\u001b[1;32m   2199\u001b[0m     \u001b[0;32mif\u001b[0m \u001b[0mis_1d\u001b[0m\u001b[0;34m:\u001b[0m\u001b[0;34m\u001b[0m\u001b[0;34m\u001b[0m\u001b[0m\n\u001b[1;32m   2200\u001b[0m         \u001b[0mb\u001b[0m \u001b[0;34m=\u001b[0m \u001b[0mb\u001b[0m\u001b[0;34m[\u001b[0m\u001b[0;34m:\u001b[0m\u001b[0;34m,\u001b[0m \u001b[0mnewaxis\u001b[0m\u001b[0;34m]\u001b[0m\u001b[0;34m\u001b[0m\u001b[0;34m\u001b[0m\u001b[0m\n\u001b[0;32m-> 2201\u001b[0;31m     \u001b[0m_assertRank2\u001b[0m\u001b[0;34m(\u001b[0m\u001b[0ma\u001b[0m\u001b[0;34m,\u001b[0m \u001b[0mb\u001b[0m\u001b[0;34m)\u001b[0m\u001b[0;34m\u001b[0m\u001b[0;34m\u001b[0m\u001b[0m\n\u001b[0m\u001b[1;32m   2202\u001b[0m     \u001b[0mm\u001b[0m\u001b[0;34m,\u001b[0m \u001b[0mn\u001b[0m \u001b[0;34m=\u001b[0m \u001b[0ma\u001b[0m\u001b[0;34m.\u001b[0m\u001b[0mshape\u001b[0m\u001b[0;34m[\u001b[0m\u001b[0;34m-\u001b[0m\u001b[0;36m2\u001b[0m\u001b[0;34m:\u001b[0m\u001b[0;34m]\u001b[0m\u001b[0;34m\u001b[0m\u001b[0;34m\u001b[0m\u001b[0m\n\u001b[1;32m   2203\u001b[0m     \u001b[0mm2\u001b[0m\u001b[0;34m,\u001b[0m \u001b[0mn_rhs\u001b[0m \u001b[0;34m=\u001b[0m \u001b[0mb\u001b[0m\u001b[0;34m.\u001b[0m\u001b[0mshape\u001b[0m\u001b[0;34m[\u001b[0m\u001b[0;34m-\u001b[0m\u001b[0;36m2\u001b[0m\u001b[0;34m:\u001b[0m\u001b[0;34m]\u001b[0m\u001b[0;34m\u001b[0m\u001b[0;34m\u001b[0m\u001b[0m\n",
      "\u001b[0;32m~/Data/anaconda3/envs/spiral/lib/python3.7/site-packages/numpy/linalg/linalg.py\u001b[0m in \u001b[0;36m_assertRank2\u001b[0;34m(*arrays)\u001b[0m\n\u001b[1;32m    199\u001b[0m         \u001b[0;32mif\u001b[0m \u001b[0ma\u001b[0m\u001b[0;34m.\u001b[0m\u001b[0mndim\u001b[0m \u001b[0;34m!=\u001b[0m \u001b[0;36m2\u001b[0m\u001b[0;34m:\u001b[0m\u001b[0;34m\u001b[0m\u001b[0;34m\u001b[0m\u001b[0m\n\u001b[1;32m    200\u001b[0m             raise LinAlgError('%d-dimensional array given. Array must be '\n\u001b[0;32m--> 201\u001b[0;31m                     'two-dimensional' % a.ndim)\n\u001b[0m\u001b[1;32m    202\u001b[0m \u001b[0;34m\u001b[0m\u001b[0m\n\u001b[1;32m    203\u001b[0m \u001b[0;32mdef\u001b[0m \u001b[0m_assertRankAtLeast2\u001b[0m\u001b[0;34m(\u001b[0m\u001b[0;34m*\u001b[0m\u001b[0marrays\u001b[0m\u001b[0;34m)\u001b[0m\u001b[0;34m:\u001b[0m\u001b[0;34m\u001b[0m\u001b[0;34m\u001b[0m\u001b[0m\n",
      "\u001b[0;31mLinAlgError\u001b[0m: 3-dimensional array given. Array must be two-dimensional"
     ]
    }
   ],
   "source": [
    "for i in range(test_data.shape[0]):\n",
    "    target = test_data[i]\n",
    "    id_x = np.zeros(100)\n",
    "    exp_x = np.zeros(28)\n",
    "    for it in range(3):\n",
    "        bs = np.tensordot(W2,id_x,)"
   ]
  },
  {
   "cell_type": "code",
   "execution_count": 200,
   "metadata": {},
   "outputs": [
    {
     "data": {
      "text/plain": [
       "(6300,)"
      ]
     },
     "execution_count": 200,
     "metadata": {},
     "output_type": "execute_result"
    }
   ],
   "source": [
    "pca.mean_.shape"
   ]
  },
  {
   "cell_type": "code",
   "execution_count": 102,
   "metadata": {},
   "outputs": [],
   "source": [
    "DMM_path = '/home/jingwang/Data/git-task/opencv-face/data/BFM.mat'"
   ]
  },
  {
   "cell_type": "code",
   "execution_count": 96,
   "metadata": {},
   "outputs": [],
   "source": [
    "import scipy.io as sio"
   ]
  },
  {
   "cell_type": "code",
   "execution_count": 103,
   "metadata": {},
   "outputs": [],
   "source": [
    "bfm = sio.loadmat(DMM_path)"
   ]
  },
  {
   "cell_type": "code",
   "execution_count": 104,
   "metadata": {},
   "outputs": [
    {
     "data": {
      "text/plain": [
       "dict_keys(['__header__', '__version__', '__globals__', 'model'])"
      ]
     },
     "execution_count": 104,
     "metadata": {},
     "output_type": "execute_result"
    }
   ],
   "source": [
    "bfm.keys()"
   ]
  },
  {
   "cell_type": "code",
   "execution_count": 112,
   "metadata": {},
   "outputs": [
    {
     "data": {
      "text/plain": [
       "(159645, 1)"
      ]
     },
     "execution_count": 112,
     "metadata": {},
     "output_type": "execute_result"
    }
   ],
   "source": [
    "bfm['model']['shapeMU'].item().shape"
   ]
  },
  {
   "cell_type": "code",
   "execution_count": 114,
   "metadata": {},
   "outputs": [],
   "source": [
    "shapePC = bfm['model']['shapePC'].item()"
   ]
  },
  {
   "cell_type": "code",
   "execution_count": 118,
   "metadata": {},
   "outputs": [
    {
     "data": {
      "text/plain": [
       "3.3273085e-05"
      ]
     },
     "execution_count": 118,
     "metadata": {},
     "output_type": "execute_result"
    }
   ],
   "source": [
    "np.mean([np.dot(shapePC[:,i],shapePC[:,j]) for i in range(199) for j in range(199) if i!=j])"
   ]
  },
  {
   "cell_type": "code",
   "execution_count": 117,
   "metadata": {},
   "outputs": [
    {
     "data": {
      "text/plain": [
       "3.7291107"
      ]
     },
     "execution_count": 117,
     "metadata": {},
     "output_type": "execute_result"
    }
   ],
   "source": [
    "np.sum([np.dot(shapePC[i,:],shapePC[j,:]) for i in range(199) for j in range(199) if i!=j])"
   ]
  }
 ],
 "metadata": {
  "kernelspec": {
   "display_name": "Python 3",
   "language": "python",
   "name": "python3"
  },
  "language_info": {
   "codemirror_mode": {
    "name": "ipython",
    "version": 3
   },
   "file_extension": ".py",
   "mimetype": "text/x-python",
   "name": "python",
   "nbconvert_exporter": "python",
   "pygments_lexer": "ipython3",
   "version": "3.7.3"
  },
  "varInspector": {
   "cols": {
    "lenName": 16,
    "lenType": 16,
    "lenVar": 40
   },
   "kernels_config": {
    "python": {
     "delete_cmd_postfix": "",
     "delete_cmd_prefix": "del ",
     "library": "var_list.py",
     "varRefreshCmd": "print(var_dic_list())"
    },
    "r": {
     "delete_cmd_postfix": ") ",
     "delete_cmd_prefix": "rm(",
     "library": "var_list.r",
     "varRefreshCmd": "cat(var_dic_list()) "
    }
   },
   "oldHeight": 691,
   "position": {
    "height": "712.997px",
    "left": "1313.99px",
    "right": "20px",
    "top": "111.994px",
    "width": "350px"
   },
   "types_to_exclude": [
    "module",
    "function",
    "builtin_function_or_method",
    "instance",
    "_Feature"
   ],
   "varInspector_section_display": "block",
   "window_display": false
  }
 },
 "nbformat": 4,
 "nbformat_minor": 2
}
