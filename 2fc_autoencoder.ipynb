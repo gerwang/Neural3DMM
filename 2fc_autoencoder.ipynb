{
 "cells": [
  {
   "cell_type": "code",
   "execution_count": 1,
   "metadata": {},
   "outputs": [
    {
     "name": "stdout",
     "output_type": "stream",
     "text": [
      "GeForce GTX TITAN X\n"
     ]
    }
   ],
   "source": [
    "import numpy as np\n",
    "import json\n",
    "import os\n",
    "import copy\n",
    "import pickle\n",
    "import trimesh\n",
    "\n",
    "from torch.utils.data import DataLoader, Dataset\n",
    "\n",
    "import torch\n",
    "from tensorboardX import SummaryWriter\n",
    "\n",
    "from sklearn.metrics.pairwise import euclidean_distances\n",
    "\n",
    "root_dir = '/home/jingwang/Data/data/'\n",
    "\n",
    "dataset = 'FaceWarehouse'\n",
    "name = 'neutral_140_10_id'\n",
    "\n",
    "torch.backends.cudnn.benchmark = True\n",
    "\n",
    "\n",
    "GPU = True\n",
    "os.environ['CUDA_VISIBLE_DEVICES'] = '3'\n",
    "device_idx = 0\n",
    "print(torch.cuda.get_device_name(device_idx))"
   ]
  },
  {
   "cell_type": "code",
   "execution_count": 2,
   "metadata": {},
   "outputs": [],
   "source": [
    "generative_model = 'autoencoder_2FC'\n",
    "meshpackage = 'trimesh'\n",
    "\n",
    "reference_mesh_file = os.path.join(root_dir, dataset, 'template', 'template.obj')\n",
    "\n",
    "args = {'generative_model': generative_model,\n",
    "        'name': name, 'data': os.path.join(root_dir, dataset, 'preprocessed',name),\n",
    "        'results_folder':  os.path.join(root_dir, dataset,'results/fully_connected_'+ generative_model),\n",
    "        'checkpoint_file': 'checkpoint',\n",
    "        'seed':2, 'loss':'l1',\n",
    "        'batch_size': 1, 'num_epochs':1000, 'eval_frequency':200, 'num_workers': 40,\n",
    "        'nz': 128,\n",
    "        \n",
    "        'lr':1e-4, \n",
    "        'regularization': 5e-4,         \n",
    "        'scheduler': True, 'decay_rate': 0.99, 'decay_steps': 1000,  \n",
    "        'resume': False,\n",
    "        'reference_mesh_file': reference_mesh_file,\n",
    "        'mode':'train', 'shuffle': True, 'nVal': 1, 'normalization': True,\n",
    "        'bs_write_mesh': True,\n",
    "        'worst_face_num': 20}\n",
    "\n",
    "args['results_folder'] = os.path.join(args['results_folder'],'latent_'+str(args['nz']))\n",
    "    \n",
    "if not os.path.exists(os.path.join(args['results_folder'])):\n",
    "    os.makedirs(os.path.join(args['results_folder']))\n",
    "\n",
    "summary_path = os.path.join(args['results_folder'],'summaries',args['name'])\n",
    "if not os.path.exists(summary_path):\n",
    "    os.makedirs(summary_path)  \n",
    "    \n",
    "checkpoint_path = os.path.join(args['results_folder'],'checkpoints', args['name'])\n",
    "if not os.path.exists(checkpoint_path):\n",
    "    os.makedirs(checkpoint_path)\n",
    "    \n",
    "samples_path = os.path.join(args['results_folder'],'samples', args['name'])\n",
    "if not os.path.exists(samples_path):\n",
    "    os.makedirs(samples_path)\n",
    "    \n",
    "prediction_path = os.path.join(args['results_folder'],'predictions', args['name'])\n",
    "if not os.path.exists(prediction_path):\n",
    "    os.makedirs(prediction_path)\n",
    "\n",
    "downsample_mesh_path = os.path.join(args['results_folder'],'downsample_mesh', args['name'])\n",
    "if not os.path.exists(downsample_mesh_path):\n",
    "    os.makedirs(downsample_mesh_path)\n",
    "\n",
    "\n",
    "worst_mesh_path = os.path.join(args['results_folder'],'worst_test', args['name'])\n",
    "if not os.path.exists(downsample_mesh_path):\n",
    "    os.makedirs(downsample_mesh_path)"
   ]
  },
  {
   "cell_type": "code",
   "execution_count": 3,
   "metadata": {},
   "outputs": [
    {
     "name": "stdout",
     "output_type": "stream",
     "text": [
      "cuda:0\n"
     ]
    }
   ],
   "source": [
    "torch.manual_seed(args['seed'])\n",
    "\n",
    "if GPU:\n",
    "#     device = torch.device(\"cuda:0\" if torch.cuda.is_available() else \"cpu\")\n",
    "    device = torch.device(\"cuda:\"+str(device_idx) if torch.cuda.is_available() else \"cpu\")\n",
    "else:\n",
    "    device = torch.device(\"cpu\")\n",
    "print(device)"
   ]
  },
  {
   "cell_type": "code",
   "execution_count": 4,
   "metadata": {},
   "outputs": [],
   "source": [
    "class OnDeviceDataset(Dataset):\n",
    "    def __init__(self, np_data, shapedata, device):\n",
    "        self.shapedata = shapedata\n",
    "        self.data = torch.as_tensor(np_data,device=device)\n",
    "    \n",
    "    def __len__(self):\n",
    "        return self.data.shape[0]\n",
    "    \n",
    "    def __getitem__(self, idx):\n",
    "        points = self.data[idx]\n",
    "        return {\n",
    "            'points': points\n",
    "        }"
   ]
  },
  {
   "cell_type": "code",
   "execution_count": 5,
   "metadata": {},
   "outputs": [],
   "source": [
    "\n",
    "### Code obtained and modified from https://github.com/anuragranj/coma, Copyright (c) 2018 Anurag Ranjan, Timo Bolkart, Soubhik Sanyal, Michael J. Black and the Max Planck Gesellschaft\n",
    "\n",
    "import os\n",
    "import numpy as np\n",
    "\n",
    "from trimesh.exchange.export import export_mesh\n",
    "import trimesh\n",
    "\n",
    "import time\n",
    "from tqdm import tqdm\n",
    "\n",
    "class ShapeData(object):\n",
    "    def __init__(self, nVal, train_file, test_file, reference_mesh_file, normalization = True, meshpackage = 'mpi-mesh', load_flag = True, mean_subtraction_only = False):\n",
    "        self.nVal = nVal\n",
    "        self.train_file = train_file\n",
    "        self.test_file = test_file\n",
    "        self.vertices_train = None\n",
    "        self.vertices_val = None\n",
    "        self.vertices_test = None\n",
    "        self.n_vertex = None\n",
    "        self.n_features = None\n",
    "        self.normalization = normalization\n",
    "        self.meshpackage = meshpackage\n",
    "        self.load_flag = load_flag\n",
    "        self.mean_subtraction_only = mean_subtraction_only\n",
    "        \n",
    "        if self.load_flag:\n",
    "            self.load()\n",
    "        if self.meshpackage == 'trimesh':\n",
    "            self.reference_mesh = trimesh.load(reference_mesh_file, process = False)\n",
    "        elif self.meshpackage =='mpi-mesh':\n",
    "            self.reference_mesh = Mesh(filename=reference_mesh_file)\n",
    "        \n",
    "        if self.load_flag:\n",
    "            self.mean = np.mean(self.vertices_train, axis=0)\n",
    "            self.std = np.std(self.vertices_train, axis=0)\n",
    "        else:\n",
    "            self.mean = None\n",
    "            self.std = None\n",
    "        self.normalize()\n",
    "        \n",
    "    def load(self):\n",
    "        vertices_train = np.load(self.train_file)\n",
    "        self.vertices_train = vertices_train[:-self.nVal]\n",
    "        self.vertices_val = vertices_train[-self.nVal:]\n",
    "\n",
    "        self.n_vertex = self.vertices_train.shape[1]\n",
    "        self.n_features = self.vertices_train.shape[2]\n",
    "\n",
    "        if os.path.exists(self.test_file):\n",
    "            self.vertices_test = np.load(self.test_file)\n",
    "            self.vertices_test = self.vertices_test\n",
    "\n",
    "    def normalize(self):\n",
    "        if self.load_flag:\n",
    "            if self.normalization:\n",
    "                if self.mean_subtraction_only:\n",
    "                    self.std = np.ones_like((self.std))\n",
    "                \n",
    "                if self.vertices_train.shape[0] > 0:\n",
    "                    self.vertices_train = self.vertices_train - self.mean\n",
    "                    self.vertices_train = self.vertices_train/self.std\n",
    "                    self.vertices_train[np.where(np.isnan(self.vertices_train))]=0.0\n",
    "\n",
    "                if self.vertices_val.shape[0] > 0:\n",
    "                    self.vertices_val = self.vertices_val - self.mean\n",
    "                    self.vertices_val = self.vertices_val/self.std\n",
    "                    self.vertices_val[np.where(np.isnan(self.vertices_val))]=0.0\n",
    "\n",
    "                if self.vertices_test.shape[0] > 0: # not empty\n",
    "                    self.vertices_test = self.vertices_test - self.mean\n",
    "                    self.vertices_test = self.vertices_test/self.std\n",
    "                    self.vertices_test[np.where(np.isnan(self.vertices_test))]=0.0\n",
    "                \n",
    "                self.N = self.vertices_train.shape[0]\n",
    "\n",
    "                print('Vertices normalized')\n",
    "            else:\n",
    "                print('Vertices not normalized')\n",
    "\n",
    "\n",
    "    def save_meshes(self, filename, meshes, mesh_indices):\n",
    "        for i in range(meshes.shape[0]):\n",
    "            if self.normalization:\n",
    "                vertices = meshes[i].reshape((self.n_vertex, self.n_features))*self.std + self.mean\n",
    "            else:\n",
    "                vertices = meshes[i].reshape((self.n_vertex, self.n_features))\n",
    "            if self.meshpackage == 'trimesh':\n",
    "                new_mesh = self.reference_mesh\n",
    "                if self.n_features == 3:\n",
    "                    new_mesh.vertices = vertices\n",
    "                elif self.n_features == 6:\n",
    "                    new_mesh.vertices = vertices[:,0:3]\n",
    "                    colors = vertices[:,3:]\n",
    "                    colors[np.where(colors<0)]=0\n",
    "                    colors[np.where(colors>1)]=1\n",
    "                    vertices[:,3:] = colors\n",
    "                    new_mesh.visual = trimesh.visual.create_visual(vertex_colors = vertices[:,3:])\n",
    "                else:\n",
    "                    raise NotImplementedError\n",
    "                new_mesh.export(filename+'.'+str(mesh_indices[i]).zfill(6)+'.ply','ply')   \n",
    "            elif self.meshpackage =='mpi-mesh':\n",
    "                if self.n_features == 3:\n",
    "                    mesh = Mesh(v=vertices, f=self.reference_mesh.f)\n",
    "                    mesh.write_ply(filename+'.'+str(mesh_indices[i]).zfill(6)+'.ply')\n",
    "                else:\n",
    "                    raise NotImplementedError\n",
    "        return 0\n"
   ]
  },
  {
   "cell_type": "code",
   "execution_count": 6,
   "metadata": {
    "scrolled": true
   },
   "outputs": [
    {
     "name": "stderr",
     "output_type": "stream",
     "text": [
      "specified material ()  not loaded!\n"
     ]
    },
    {
     "name": "stdout",
     "output_type": "stream",
     "text": [
      "Loading data .. \n",
      "Vertices normalized\n"
     ]
    }
   ],
   "source": [
    "np.random.seed(args['seed'])\n",
    "print(\"Loading data .. \")\n",
    "if True: # not os.path.exists(args['data']+'/mean.npy') or not os.path.exists(args['data']+'/std.npy'):\n",
    "    shapedata =  ShapeData(nVal=args['nVal'], \n",
    "                          train_file=args['data']+'/train.npy', \n",
    "                          test_file=args['data']+'/test.npy', \n",
    "                          reference_mesh_file=args['reference_mesh_file'],\n",
    "                          normalization = args['normalization'],\n",
    "                          meshpackage = meshpackage, load_flag = True)\n",
    "    np.save(args['data']+'/mean.npy', shapedata.mean)\n",
    "    np.save(args['data']+'/std.npy', shapedata.std)\n",
    "else:\n",
    "    shapedata = ShapeData(nVal=args['nVal'], \n",
    "                         train_file=args['data']+'/train.npy',\n",
    "                         test_file=args['data']+'/test.npy', \n",
    "                         reference_mesh_file=args['reference_mesh_file'],\n",
    "                         normalization = args['normalization'],\n",
    "                         meshpackage = meshpackage, load_flag = True)\n",
    "    shapedata.mean = np.load(args['data']+'/mean.npy')\n",
    "    shapedata.std = np.load(args['data']+'/std.npy')\n",
    "    shapedata.n_vertex = shapedata.mean.shape[0]\n",
    "    shapedata.n_features = shapedata.mean.shape[1]"
   ]
  },
  {
   "cell_type": "code",
   "execution_count": 7,
   "metadata": {
    "scrolled": false
   },
   "outputs": [],
   "source": [
    "# Building model, optimizer, and loss function\n",
    "\n",
    "dataset_train = OnDeviceDataset(shapedata.vertices_train, shapedata, device)\n",
    "\n",
    "dataloader_train = DataLoader(dataset_train, batch_size=args['batch_size'],\\\n",
    "                                     shuffle = args['shuffle'])\n",
    "\n",
    "dataset_val = OnDeviceDataset(shapedata.vertices_val, shapedata, device)\n",
    "\n",
    "dataloader_val = DataLoader(dataset_val, batch_size=args['batch_size'],\\\n",
    "                                     shuffle = False)\n",
    "\n",
    "dataset_test = OnDeviceDataset(shapedata.vertices_test, shapedata, device)\n",
    "\n",
    "dataloader_test = DataLoader(dataset_test, batch_size=args['batch_size'],\\\n",
    "                                     shuffle = False)\n",
    "\n",
    "if 'autoencoder_2FC' == args['generative_model']:\n",
    "    import torch.nn as nn\n",
    "    class MLPAutoEncoder(nn.Module):\n",
    "        def __init__(self, nz):\n",
    "            super().__init__()\n",
    "            self.nz = nz\n",
    "            self.en_fc1 = nn.Linear(11510*3, 1024)\n",
    "            self.en_fc2 = nn.Linear(1024, nz)\n",
    "            self.de_fc1 = nn.Linear(nz, 1024)\n",
    "            self.de_fc2 = nn.Linear(1024, 11510*3)\n",
    "            self._only_encode = False\n",
    "            self._only_decode = False\n",
    "            self.activation = nn.ELU()\n",
    "        \n",
    "        def only_encode(self, status):\n",
    "            self._only_encode = status\n",
    "        \n",
    "        def only_decode(self, status):\n",
    "            self._only_decode = status\n",
    "        \n",
    "        def encode(self, x):\n",
    "            x = x.reshape(x.shape[0],-1)\n",
    "            x = self.en_fc1(x)\n",
    "            x = self.activation(x)\n",
    "            x = self.en_fc2(x)\n",
    "            return x\n",
    "        \n",
    "        def decode(self, x):\n",
    "            x = self.de_fc1(x)\n",
    "            x = self.activation(x)\n",
    "            x = self.de_fc2(x)\n",
    "            x = x.reshape(x.shape[0],-1,3)\n",
    "            return x\n",
    "        \n",
    "        def forward(self, x):\n",
    "            if self._only_decode:\n",
    "                x = self.decode(x)\n",
    "                return x\n",
    "            z = self.encode(x)\n",
    "            if self._only_encode:\n",
    "                return z\n",
    "            x = self.decode(z)\n",
    "            return x\n",
    "            \n",
    "  \n",
    "    model = MLPAutoEncoder(nz=args['nz']).to(device)\n",
    "    \n",
    "optim = torch.optim.Adam(model.parameters(),lr=args['lr'],weight_decay=args['regularization'])\n",
    "if args['scheduler']:\n",
    "    scheduler=torch.optim.lr_scheduler.StepLR(optim, args['decay_steps'],gamma=args['decay_rate'])\n",
    "else:\n",
    "    scheduler = None\n",
    "    \n",
    "if args['loss']=='l1':\n",
    "    def loss_l1(outputs, targets):\n",
    "        L = torch.abs(outputs - targets).mean()\n",
    "        return L \n",
    "    loss_fn = loss_l1"
   ]
  },
  {
   "cell_type": "code",
   "execution_count": 8,
   "metadata": {
    "scrolled": true
   },
   "outputs": [
    {
     "name": "stdout",
     "output_type": "stream",
     "text": [
      "Total number of parameters is: 71016290\n",
      "MLPAutoEncoder(\n",
      "  (en_fc1): Linear(in_features=34530, out_features=1024, bias=True)\n",
      "  (en_fc2): Linear(in_features=1024, out_features=128, bias=True)\n",
      "  (de_fc1): Linear(in_features=128, out_features=1024, bias=True)\n",
      "  (de_fc2): Linear(in_features=1024, out_features=34530, bias=True)\n",
      "  (activation): ELU(alpha=1.0)\n",
      ")\n"
     ]
    }
   ],
   "source": [
    "params = sum(p.numel() for p in model.parameters() if p.requires_grad)\n",
    "print(\"Total number of parameters is: {}\".format(params)) \n",
    "print(model)\n",
    "# print(M[4].v.shape)"
   ]
  },
  {
   "cell_type": "code",
   "execution_count": 9,
   "metadata": {},
   "outputs": [],
   "source": [
    "def train_autoencoder_dataloader(dataloader_train, dataloader_val,\n",
    "                                 device, model, optim, loss_fn, \n",
    "                                 bsize, start_epoch, n_epochs, eval_freq, scheduler = None,\n",
    "                                 writer=None, save_recons=True, shapedata = None,\n",
    "                                 metadata_dir=None, samples_dir = None, checkpoint_path = None):\n",
    "    if not shapedata.normalization:\n",
    "        shapedata_mean = torch.Tensor(shapedata.mean).to(device)\n",
    "        shapedata_std = torch.Tensor(shapedata.std).to(device)\n",
    "    \n",
    "    total_steps = start_epoch*len(dataloader_train)\n",
    "\n",
    "    for epoch in range(start_epoch, n_epochs):\n",
    "        model.train()\n",
    "\n",
    "        tloss = []\n",
    "        for b, sample_dict in enumerate(tqdm(dataloader_train)):\n",
    "            optim.zero_grad()\n",
    "                \n",
    "            tx = sample_dict['points'].to(device)\n",
    "            cur_bsize = tx.shape[0]\n",
    "            \n",
    "            tx_hat = model(tx)\n",
    "            loss = loss_fn(tx, tx_hat)\n",
    "\n",
    "            loss.backward()\n",
    "            optim.step()\n",
    "            \n",
    "            if shapedata.normalization:\n",
    "                tloss.append(cur_bsize * loss.item())\n",
    "            else:\n",
    "                with torch.no_grad():\n",
    "                    tx_norm = tx\n",
    "                    tx_hat_norm = tx_hat\n",
    "                    tx_norm = (tx_norm - shapedata_mean)/shapedata_std\n",
    "                    tx_norm = torch.cat((tx_norm,torch.zeros(tx.shape[0],1,tx.shape[2]).to(device)),1)\n",
    "                    \n",
    "                    tx_hat_norm = (tx_hat_norm -shapedata_mean)/shapedata_std\n",
    "                    tx_hat_norm = torch.cat((tx_hat_norm,torch.zeros(tx.shape[0],1,tx.shape[2]).to(device)),1)\n",
    "                    \n",
    "                    loss_norm = loss_fn(tx_norm, tx_hat_norm)\n",
    "                    tloss.append(cur_bsize * loss_norm.item())\n",
    "            if writer and total_steps % eval_freq == 0:\n",
    "                writer.add_scalar('loss/loss/data_loss',loss.item(),total_steps)\n",
    "                writer.add_scalar('training/learning_rate', optim.param_groups[0]['lr'],total_steps)\n",
    "            total_steps += 1\n",
    "\n",
    "        # validate\n",
    "        model.eval()\n",
    "        vloss = []\n",
    "        with torch.no_grad():\n",
    "            for b, sample_dict in enumerate(tqdm(dataloader_val)):\n",
    "\n",
    "                tx = sample_dict['points'].to(device)\n",
    "                cur_bsize = tx.shape[0]\n",
    "\n",
    "                tx_hat = model(tx)\n",
    "                loss = loss_fn(tx, tx_hat)\n",
    "                \n",
    "                if shapedata.normalization:\n",
    "                    vloss.append(cur_bsize * loss.item())\n",
    "                else:\n",
    "                    with torch.no_grad():\n",
    "                        if shapedata.mean.shape[0]!=tx.shape[1]:\n",
    "                            tx_norm = tx[:,:-1,:]\n",
    "                            tx_hat_norm = tx_hat[:,:-1,:]\n",
    "                        else:\n",
    "                            tx_norm = tx\n",
    "                            tx_hat_norm = tx_hat\n",
    "                        tx_norm = (tx_norm - shapedata_mean)/shapedata_std\n",
    "                        tx_norm = torch.cat((tx_norm,torch.zeros(tx.shape[0],1,tx.shape[2]).to(device)),1)\n",
    "                    \n",
    "                        tx_hat_norm = (tx_hat_norm - shapedata_mean)/shapedata_std\n",
    "                        tx_hat_norm = torch.cat((tx_hat_norm,torch.zeros(tx.shape[0],1,tx.shape[2]).to(device)),1)\n",
    "                    \n",
    "                        loss_norm = loss_fn(tx_norm, tx_hat_norm)\n",
    "                        vloss.append(cur_bsize * loss_norm.item())   \n",
    "\n",
    "        if scheduler:\n",
    "            scheduler.step()\n",
    "            \n",
    "        epoch_tloss = sum(tloss) / float(len(dataloader_train.dataset))\n",
    "        writer.add_scalar('avg_epoch_train_loss',epoch_tloss,epoch)\n",
    "        if len(dataloader_val.dataset) > 0:\n",
    "            epoch_vloss = sum(vloss) / float(len(dataloader_val.dataset))\n",
    "            writer.add_scalar('avg_epoch_valid_loss', epoch_vloss,epoch)\n",
    "            print('epoch {0} | tr {1} | val {2}'.format(epoch,epoch_tloss,epoch_vloss))\n",
    "        else:\n",
    "            print('epoch {0} | tr {1} '.format(epoch,epoch_tloss))\n",
    "        \n",
    "        model.cpu()\n",
    "  \n",
    "        torch.save({'epoch': epoch,\n",
    "            'autoencoder_state_dict': model.state_dict(),\n",
    "            'optimizer_state_dict' : optim.state_dict(),\n",
    "            'scheduler_state_dict': scheduler.state_dict(),\n",
    "        },os.path.join(metadata_dir, checkpoint_path+'.pth.tar'))\n",
    "        \n",
    "        if epoch % 10 == 0:\n",
    "            torch.save({'epoch': epoch,\n",
    "            'autoencoder_state_dict': model.state_dict(),\n",
    "            'optimizer_state_dict' : optim.state_dict(),\n",
    "            'scheduler_state_dict': scheduler.state_dict(),\n",
    "            },os.path.join(metadata_dir, checkpoint_path+'%s.pth.tar'%(epoch)))\n",
    "        \n",
    "        model.to(device)\n",
    "\n",
    "        if save_recons:\n",
    "            with torch.no_grad():\n",
    "                if epoch == 0:\n",
    "                    mesh_ind = [0]\n",
    "                    msh = tx[mesh_ind].detach().cpu().numpy()\n",
    "                    shapedata.save_meshes(os.path.join(samples_dir,'input_epoch_{0}'.format(epoch)),\n",
    "                                                     msh, mesh_ind)\n",
    "                mesh_ind = [0]\n",
    "                msh = tx_hat[mesh_ind].detach().cpu().numpy()\n",
    "                shapedata.save_meshes(os.path.join(samples_dir,'epoch_{0}'.format(epoch)),\n",
    "                                                 msh, mesh_ind)\n",
    "\n",
    "    print('~FIN~')"
   ]
  },
  {
   "cell_type": "code",
   "execution_count": 10,
   "metadata": {
    "scrolled": false
   },
   "outputs": [
    {
     "name": "stderr",
     "output_type": "stream",
     "text": [
      "100%|██████████| 139/139 [00:04<00:00, 32.31it/s]\n",
      "100%|██████████| 10/10 [00:00<00:00, 764.12it/s]\n"
     ]
    },
    {
     "name": "stdout",
     "output_type": "stream",
     "text": [
      "epoch 0 | tr 0.7470248920454395 | val 0.7579585492610932\n"
     ]
    },
    {
     "name": "stderr",
     "output_type": "stream",
     "text": [
      "100%|██████████| 139/139 [00:04<00:00, 33.46it/s]\n",
      "100%|██████████| 10/10 [00:00<00:00, 743.33it/s]\n"
     ]
    },
    {
     "name": "stdout",
     "output_type": "stream",
     "text": [
      "epoch 1 | tr 0.5682690621708795 | val 0.5860979616641998\n"
     ]
    },
    {
     "name": "stderr",
     "output_type": "stream",
     "text": [
      "100%|██████████| 139/139 [00:04<00:00, 33.59it/s]\n",
      "100%|██████████| 10/10 [00:00<00:00, 759.81it/s]\n"
     ]
    },
    {
     "name": "stdout",
     "output_type": "stream",
     "text": [
      "epoch 2 | tr 0.47057335325282257 | val 0.4893051743507385\n"
     ]
    },
    {
     "name": "stderr",
     "output_type": "stream",
     "text": [
      "100%|██████████| 139/139 [00:04<00:00, 33.60it/s]\n",
      "100%|██████████| 10/10 [00:00<00:00, 767.06it/s]\n"
     ]
    },
    {
     "name": "stdout",
     "output_type": "stream",
     "text": [
      "epoch 3 | tr 0.40929313872357925 | val 0.4243993252515793\n"
     ]
    },
    {
     "name": "stderr",
     "output_type": "stream",
     "text": [
      "100%|██████████| 139/139 [00:04<00:00, 33.63it/s]\n",
      "100%|██████████| 10/10 [00:00<00:00, 761.47it/s]\n"
     ]
    },
    {
     "name": "stdout",
     "output_type": "stream",
     "text": [
      "epoch 4 | tr 0.3850856669943967 | val 0.44174264967441557\n"
     ]
    },
    {
     "name": "stderr",
     "output_type": "stream",
     "text": [
      "100%|██████████| 139/139 [00:04<00:00, 33.58it/s]\n",
      "100%|██████████| 10/10 [00:00<00:00, 766.46it/s]\n"
     ]
    },
    {
     "name": "stdout",
     "output_type": "stream",
     "text": [
      "epoch 5 | tr 0.36840607579663504 | val 0.4180426329374313\n"
     ]
    },
    {
     "name": "stderr",
     "output_type": "stream",
     "text": [
      "100%|██████████| 139/139 [00:04<00:00, 33.61it/s]\n",
      "100%|██████████| 10/10 [00:00<00:00, 742.14it/s]\n"
     ]
    },
    {
     "name": "stdout",
     "output_type": "stream",
     "text": [
      "epoch 6 | tr 0.3342518771080662 | val 0.3920901596546173\n"
     ]
    },
    {
     "name": "stderr",
     "output_type": "stream",
     "text": [
      "100%|██████████| 139/139 [00:04<00:00, 33.61it/s]\n",
      "100%|██████████| 10/10 [00:00<00:00, 754.83it/s]\n"
     ]
    },
    {
     "name": "stdout",
     "output_type": "stream",
     "text": [
      "epoch 7 | tr 0.3184933153202208 | val 0.35939197838306425\n"
     ]
    },
    {
     "name": "stderr",
     "output_type": "stream",
     "text": [
      "100%|██████████| 139/139 [00:04<00:00, 33.61it/s]\n",
      "100%|██████████| 10/10 [00:00<00:00, 749.65it/s]\n"
     ]
    },
    {
     "name": "stdout",
     "output_type": "stream",
     "text": [
      "epoch 8 | tr 0.3068565327486546 | val 0.37860535383224486\n"
     ]
    },
    {
     "name": "stderr",
     "output_type": "stream",
     "text": [
      "100%|██████████| 139/139 [00:04<00:00, 33.58it/s]\n",
      "100%|██████████| 10/10 [00:00<00:00, 723.92it/s]\n"
     ]
    },
    {
     "name": "stdout",
     "output_type": "stream",
     "text": [
      "epoch 9 | tr 0.3015177335670526 | val 0.3406058311462402\n"
     ]
    },
    {
     "name": "stderr",
     "output_type": "stream",
     "text": [
      "100%|██████████| 139/139 [00:04<00:00, 33.58it/s]\n",
      "100%|██████████| 10/10 [00:00<00:00, 732.80it/s]\n"
     ]
    },
    {
     "name": "stdout",
     "output_type": "stream",
     "text": [
      "epoch 10 | tr 0.30054238277802364 | val 0.3490185797214508\n"
     ]
    },
    {
     "name": "stderr",
     "output_type": "stream",
     "text": [
      "100%|██████████| 139/139 [00:04<00:00, 33.62it/s]\n",
      "100%|██████████| 10/10 [00:00<00:00, 760.83it/s]\n"
     ]
    },
    {
     "name": "stdout",
     "output_type": "stream",
     "text": [
      "epoch 11 | tr 0.3013143216748889 | val 0.3460609018802643\n"
     ]
    },
    {
     "name": "stderr",
     "output_type": "stream",
     "text": [
      "100%|██████████| 139/139 [00:04<00:00, 33.58it/s]\n",
      "100%|██████████| 10/10 [00:00<00:00, 744.13it/s]\n"
     ]
    },
    {
     "name": "stdout",
     "output_type": "stream",
     "text": [
      "epoch 12 | tr 0.2861821541040064 | val 0.3424264401197433\n"
     ]
    },
    {
     "name": "stderr",
     "output_type": "stream",
     "text": [
      "100%|██████████| 139/139 [00:04<00:00, 33.62it/s]\n",
      "100%|██████████| 10/10 [00:00<00:00, 747.00it/s]\n"
     ]
    },
    {
     "name": "stdout",
     "output_type": "stream",
     "text": [
      "epoch 13 | tr 0.2728207283954826 | val 0.34469828605651853\n"
     ]
    },
    {
     "name": "stderr",
     "output_type": "stream",
     "text": [
      "100%|██████████| 139/139 [00:04<00:00, 33.60it/s]\n",
      "100%|██████████| 10/10 [00:00<00:00, 762.21it/s]\n"
     ]
    },
    {
     "name": "stdout",
     "output_type": "stream",
     "text": [
      "epoch 14 | tr 0.26670224825255306 | val 0.3439511090517044\n"
     ]
    },
    {
     "name": "stderr",
     "output_type": "stream",
     "text": [
      "100%|██████████| 139/139 [00:04<00:00, 33.63it/s]\n",
      "100%|██████████| 10/10 [00:00<00:00, 756.53it/s]\n"
     ]
    },
    {
     "name": "stdout",
     "output_type": "stream",
     "text": [
      "epoch 15 | tr 0.26333732624276934 | val 0.33588297069072726\n"
     ]
    },
    {
     "name": "stderr",
     "output_type": "stream",
     "text": [
      "100%|██████████| 139/139 [00:04<00:00, 33.60it/s]\n",
      "100%|██████████| 10/10 [00:00<00:00, 746.68it/s]\n"
     ]
    },
    {
     "name": "stdout",
     "output_type": "stream",
     "text": [
      "epoch 16 | tr 0.26943616418958566 | val 0.36482842564582824\n"
     ]
    },
    {
     "name": "stderr",
     "output_type": "stream",
     "text": [
      "100%|██████████| 139/139 [00:04<00:00, 33.59it/s]\n",
      "100%|██████████| 10/10 [00:00<00:00, 751.71it/s]\n"
     ]
    },
    {
     "name": "stdout",
     "output_type": "stream",
     "text": [
      "epoch 17 | tr 0.2595121389884743 | val 0.3204833894968033\n"
     ]
    },
    {
     "name": "stderr",
     "output_type": "stream",
     "text": [
      "100%|██████████| 139/139 [00:04<00:00, 33.59it/s]\n",
      "100%|██████████| 10/10 [00:00<00:00, 752.77it/s]\n"
     ]
    },
    {
     "name": "stdout",
     "output_type": "stream",
     "text": [
      "epoch 18 | tr 0.24913210545083603 | val 0.3340738326311111\n"
     ]
    },
    {
     "name": "stderr",
     "output_type": "stream",
     "text": [
      "100%|██████████| 139/139 [00:04<00:00, 33.64it/s]\n",
      "100%|██████████| 10/10 [00:00<00:00, 765.72it/s]\n"
     ]
    },
    {
     "name": "stdout",
     "output_type": "stream",
     "text": [
      "epoch 19 | tr 0.24838435939318843 | val 0.3199803829193115\n"
     ]
    },
    {
     "name": "stderr",
     "output_type": "stream",
     "text": [
      "100%|██████████| 139/139 [00:04<00:00, 33.62it/s]\n",
      "100%|██████████| 10/10 [00:00<00:00, 764.57it/s]\n"
     ]
    },
    {
     "name": "stdout",
     "output_type": "stream",
     "text": [
      "epoch 20 | tr 0.24249375102331314 | val 0.32892336547374723\n"
     ]
    },
    {
     "name": "stderr",
     "output_type": "stream",
     "text": [
      "100%|██████████| 139/139 [00:04<00:00, 33.63it/s]\n",
      "100%|██████████| 10/10 [00:00<00:00, 749.38it/s]\n"
     ]
    },
    {
     "name": "stdout",
     "output_type": "stream",
     "text": [
      "epoch 21 | tr 0.25019676581346734 | val 0.32190696597099305\n"
     ]
    },
    {
     "name": "stderr",
     "output_type": "stream",
     "text": [
      "100%|██████████| 139/139 [00:04<00:00, 33.62it/s]\n",
      "100%|██████████| 10/10 [00:00<00:00, 759.81it/s]\n"
     ]
    },
    {
     "name": "stdout",
     "output_type": "stream",
     "text": [
      "epoch 22 | tr 0.24570621089111988 | val 0.331462898850441\n"
     ]
    },
    {
     "name": "stderr",
     "output_type": "stream",
     "text": [
      "100%|██████████| 139/139 [00:04<00:00, 33.57it/s]\n",
      "100%|██████████| 10/10 [00:00<00:00, 775.90it/s]\n"
     ]
    },
    {
     "name": "stdout",
     "output_type": "stream",
     "text": [
      "epoch 23 | tr 0.24684485257100716 | val 0.32085930109024047\n"
     ]
    },
    {
     "name": "stderr",
     "output_type": "stream",
     "text": [
      "100%|██████████| 139/139 [00:04<00:00, 33.64it/s]\n",
      "100%|██████████| 10/10 [00:00<00:00, 763.80it/s]\n"
     ]
    },
    {
     "name": "stdout",
     "output_type": "stream",
     "text": [
      "epoch 24 | tr 0.23479766618433617 | val 0.3218259632587433\n"
     ]
    },
    {
     "name": "stderr",
     "output_type": "stream",
     "text": [
      "100%|██████████| 139/139 [00:04<00:00, 33.62it/s]\n",
      "100%|██████████| 10/10 [00:00<00:00, 760.94it/s]\n"
     ]
    },
    {
     "name": "stdout",
     "output_type": "stream",
     "text": [
      "epoch 25 | tr 0.2340273431522383 | val 0.31821873784065247\n"
     ]
    },
    {
     "name": "stderr",
     "output_type": "stream",
     "text": [
      "100%|██████████| 139/139 [00:04<00:00, 33.63it/s]\n",
      "100%|██████████| 10/10 [00:00<00:00, 767.43it/s]\n"
     ]
    },
    {
     "name": "stdout",
     "output_type": "stream",
     "text": [
      "epoch 26 | tr 0.2336160007783835 | val 0.3423952370882034\n"
     ]
    },
    {
     "name": "stderr",
     "output_type": "stream",
     "text": [
      "100%|██████████| 139/139 [00:04<00:00, 33.63it/s]\n",
      "100%|██████████| 10/10 [00:00<00:00, 761.34it/s]\n"
     ]
    },
    {
     "name": "stdout",
     "output_type": "stream",
     "text": [
      "epoch 27 | tr 0.23165227247656678 | val 0.33134329319000244\n"
     ]
    },
    {
     "name": "stderr",
     "output_type": "stream",
     "text": [
      "100%|██████████| 139/139 [00:04<00:00, 33.63it/s]\n",
      "100%|██████████| 10/10 [00:00<00:00, 763.57it/s]\n"
     ]
    },
    {
     "name": "stdout",
     "output_type": "stream",
     "text": [
      "epoch 28 | tr 0.23272462274959618 | val 0.324185386300087\n"
     ]
    },
    {
     "name": "stderr",
     "output_type": "stream",
     "text": [
      "100%|██████████| 139/139 [00:04<00:00, 33.64it/s]\n",
      "100%|██████████| 10/10 [00:00<00:00, 766.99it/s]\n"
     ]
    },
    {
     "name": "stdout",
     "output_type": "stream",
     "text": [
      "epoch 29 | tr 0.22719887081238863 | val 0.3188954502344131\n"
     ]
    },
    {
     "name": "stderr",
     "output_type": "stream",
     "text": [
      "100%|██████████| 139/139 [00:04<00:00, 33.63it/s]\n",
      "100%|██████████| 10/10 [00:00<00:00, 762.77it/s]\n"
     ]
    },
    {
     "name": "stdout",
     "output_type": "stream",
     "text": [
      "epoch 30 | tr 0.23355290604581078 | val 0.342821004986763\n"
     ]
    },
    {
     "name": "stderr",
     "output_type": "stream",
     "text": [
      "100%|██████████| 139/139 [00:04<00:00, 33.64it/s]\n",
      "100%|██████████| 10/10 [00:00<00:00, 767.53it/s]\n"
     ]
    },
    {
     "name": "stdout",
     "output_type": "stream",
     "text": [
      "epoch 31 | tr 0.22981267116910262 | val 0.32851777970790863\n"
     ]
    },
    {
     "name": "stderr",
     "output_type": "stream",
     "text": [
      "100%|██████████| 139/139 [00:04<00:00, 33.69it/s]\n",
      "100%|██████████| 10/10 [00:00<00:00, 779.36it/s]\n"
     ]
    },
    {
     "name": "stdout",
     "output_type": "stream",
     "text": [
      "epoch 32 | tr 0.21698495852861474 | val 0.3272633761167526\n"
     ]
    },
    {
     "name": "stderr",
     "output_type": "stream",
     "text": [
      "100%|██████████| 139/139 [00:04<00:00, 33.66it/s]\n",
      "100%|██████████| 10/10 [00:00<00:00, 765.16it/s]\n"
     ]
    },
    {
     "name": "stdout",
     "output_type": "stream",
     "text": [
      "epoch 33 | tr 0.22166196160393653 | val 0.33893023431301117\n"
     ]
    },
    {
     "name": "stderr",
     "output_type": "stream",
     "text": [
      "100%|██████████| 139/139 [00:04<00:00, 33.64it/s]\n",
      "100%|██████████| 10/10 [00:00<00:00, 766.38it/s]\n"
     ]
    },
    {
     "name": "stdout",
     "output_type": "stream",
     "text": [
      "epoch 34 | tr 0.22485691223213142 | val 0.307107949256897\n"
     ]
    },
    {
     "name": "stderr",
     "output_type": "stream",
     "text": [
      "100%|██████████| 139/139 [00:04<00:00, 33.59it/s]\n",
      "100%|██████████| 10/10 [00:00<00:00, 763.54it/s]\n"
     ]
    },
    {
     "name": "stdout",
     "output_type": "stream",
     "text": [
      "epoch 35 | tr 0.22294689629146522 | val 0.33014419078826907\n"
     ]
    },
    {
     "name": "stderr",
     "output_type": "stream",
     "text": [
      "100%|██████████| 139/139 [00:04<00:00, 33.61it/s]\n",
      "100%|██████████| 10/10 [00:00<00:00, 759.05it/s]\n"
     ]
    },
    {
     "name": "stdout",
     "output_type": "stream",
     "text": [
      "epoch 36 | tr 0.2213785744828286 | val 0.32109299302101135\n"
     ]
    },
    {
     "name": "stderr",
     "output_type": "stream",
     "text": [
      "100%|██████████| 139/139 [00:04<00:00, 33.62it/s]\n",
      "100%|██████████| 10/10 [00:00<00:00, 761.85it/s]\n"
     ]
    },
    {
     "name": "stdout",
     "output_type": "stream",
     "text": [
      "epoch 37 | tr 0.21268746353310647 | val 0.3247026354074478\n"
     ]
    },
    {
     "name": "stderr",
     "output_type": "stream",
     "text": [
      "100%|██████████| 139/139 [00:04<00:00, 33.66it/s]\n",
      "100%|██████████| 10/10 [00:00<00:00, 764.34it/s]\n"
     ]
    },
    {
     "name": "stdout",
     "output_type": "stream",
     "text": [
      "epoch 38 | tr 0.21948090174215304 | val 0.3183679148554802\n"
     ]
    },
    {
     "name": "stderr",
     "output_type": "stream",
     "text": [
      "100%|██████████| 139/139 [00:04<00:00, 33.63it/s]\n",
      "100%|██████████| 10/10 [00:00<00:00, 765.68it/s]\n"
     ]
    },
    {
     "name": "stdout",
     "output_type": "stream",
     "text": [
      "epoch 39 | tr 0.21909503713786174 | val 0.3529699593782425\n"
     ]
    },
    {
     "name": "stderr",
     "output_type": "stream",
     "text": [
      "100%|██████████| 139/139 [00:04<00:00, 33.61it/s]\n",
      "100%|██████████| 10/10 [00:00<00:00, 752.58it/s]\n"
     ]
    },
    {
     "name": "stdout",
     "output_type": "stream",
     "text": [
      "epoch 40 | tr 0.2264627413355189 | val 0.3145695239305496\n"
     ]
    },
    {
     "name": "stderr",
     "output_type": "stream",
     "text": [
      "100%|██████████| 139/139 [00:04<00:00, 33.62it/s]\n",
      "100%|██████████| 10/10 [00:00<00:00, 744.75it/s]\n"
     ]
    },
    {
     "name": "stdout",
     "output_type": "stream",
     "text": [
      "epoch 41 | tr 0.21765666170943554 | val 0.3482165366411209\n"
     ]
    },
    {
     "name": "stderr",
     "output_type": "stream",
     "text": [
      "100%|██████████| 139/139 [00:04<00:00, 33.54it/s]\n",
      "100%|██████████| 10/10 [00:00<00:00, 747.31it/s]\n"
     ]
    },
    {
     "name": "stdout",
     "output_type": "stream",
     "text": [
      "epoch 42 | tr 0.2238967934315153 | val 0.3426130384206772\n"
     ]
    },
    {
     "name": "stderr",
     "output_type": "stream",
     "text": [
      "100%|██████████| 139/139 [00:04<00:00, 33.61it/s]\n",
      "100%|██████████| 10/10 [00:00<00:00, 763.41it/s]\n"
     ]
    },
    {
     "name": "stdout",
     "output_type": "stream",
     "text": [
      "epoch 43 | tr 0.21970286686643423 | val 0.32490213215351105\n"
     ]
    },
    {
     "name": "stderr",
     "output_type": "stream",
     "text": [
      "100%|██████████| 139/139 [00:04<00:00, 33.60it/s]\n",
      "100%|██████████| 10/10 [00:00<00:00, 755.55it/s]\n"
     ]
    },
    {
     "name": "stdout",
     "output_type": "stream",
     "text": [
      "epoch 44 | tr 0.2181110092633062 | val 0.31710055470466614\n"
     ]
    },
    {
     "name": "stderr",
     "output_type": "stream",
     "text": [
      "100%|██████████| 139/139 [00:04<00:00, 33.53it/s]\n",
      "100%|██████████| 10/10 [00:00<00:00, 759.93it/s]\n"
     ]
    },
    {
     "name": "stdout",
     "output_type": "stream",
     "text": [
      "epoch 45 | tr 0.2116886288356438 | val 0.32480294406414034\n"
     ]
    },
    {
     "name": "stderr",
     "output_type": "stream",
     "text": [
      "100%|██████████| 139/139 [00:04<00:00, 33.55it/s]\n",
      "100%|██████████| 10/10 [00:00<00:00, 743.78it/s]\n"
     ]
    },
    {
     "name": "stdout",
     "output_type": "stream",
     "text": [
      "epoch 46 | tr 0.20823736097529638 | val 0.3146198645234108\n"
     ]
    },
    {
     "name": "stderr",
     "output_type": "stream",
     "text": [
      "100%|██████████| 139/139 [00:04<00:00, 33.62it/s]\n",
      "100%|██████████| 10/10 [00:00<00:00, 765.10it/s]\n"
     ]
    },
    {
     "name": "stdout",
     "output_type": "stream",
     "text": [
      "epoch 47 | tr 0.21591483013664217 | val 0.3238052546977997\n"
     ]
    },
    {
     "name": "stderr",
     "output_type": "stream",
     "text": [
      "100%|██████████| 139/139 [00:04<00:00, 33.62it/s]\n",
      "100%|██████████| 10/10 [00:00<00:00, 766.12it/s]\n"
     ]
    },
    {
     "name": "stdout",
     "output_type": "stream",
     "text": [
      "epoch 48 | tr 0.20790122781726098 | val 0.32897807359695436\n"
     ]
    },
    {
     "name": "stderr",
     "output_type": "stream",
     "text": [
      "100%|██████████| 139/139 [00:04<00:00, 33.62it/s]\n",
      "100%|██████████| 10/10 [00:00<00:00, 763.21it/s]\n"
     ]
    },
    {
     "name": "stdout",
     "output_type": "stream",
     "text": [
      "epoch 49 | tr 0.21118402791966637 | val 0.32605709731578825\n"
     ]
    },
    {
     "name": "stderr",
     "output_type": "stream",
     "text": [
      "100%|██████████| 139/139 [00:04<00:00, 33.61it/s]\n",
      "100%|██████████| 10/10 [00:00<00:00, 759.22it/s]\n"
     ]
    },
    {
     "name": "stdout",
     "output_type": "stream",
     "text": [
      "epoch 50 | tr 0.21309364174338555 | val 0.32519481480121615\n"
     ]
    },
    {
     "name": "stderr",
     "output_type": "stream",
     "text": [
      "100%|██████████| 139/139 [00:04<00:00, 33.62it/s]\n",
      "100%|██████████| 10/10 [00:00<00:00, 733.65it/s]\n"
     ]
    },
    {
     "name": "stdout",
     "output_type": "stream",
     "text": [
      "epoch 51 | tr 0.20892449114605677 | val 0.32302557229995726\n"
     ]
    },
    {
     "name": "stderr",
     "output_type": "stream",
     "text": [
      "100%|██████████| 139/139 [00:04<00:00, 33.65it/s]\n",
      "100%|██████████| 10/10 [00:00<00:00, 768.10it/s]\n"
     ]
    },
    {
     "name": "stdout",
     "output_type": "stream",
     "text": [
      "epoch 52 | tr 0.21583451266340214 | val 0.3182853192090988\n"
     ]
    },
    {
     "name": "stderr",
     "output_type": "stream",
     "text": [
      "100%|██████████| 139/139 [00:04<00:00, 33.64it/s]\n",
      "100%|██████████| 10/10 [00:00<00:00, 758.78it/s]\n"
     ]
    },
    {
     "name": "stdout",
     "output_type": "stream",
     "text": [
      "epoch 53 | tr 0.2079571650611411 | val 0.32056833803653717\n"
     ]
    },
    {
     "name": "stderr",
     "output_type": "stream",
     "text": [
      "100%|██████████| 139/139 [00:04<00:00, 33.63it/s]\n",
      "100%|██████████| 10/10 [00:00<00:00, 757.52it/s]\n"
     ]
    },
    {
     "name": "stdout",
     "output_type": "stream",
     "text": [
      "epoch 54 | tr 0.2090302222281051 | val 0.31710422933101656\n"
     ]
    },
    {
     "name": "stderr",
     "output_type": "stream",
     "text": [
      "100%|██████████| 139/139 [00:04<00:00, 33.62it/s]\n",
      "100%|██████████| 10/10 [00:00<00:00, 736.31it/s]\n"
     ]
    },
    {
     "name": "stdout",
     "output_type": "stream",
     "text": [
      "epoch 55 | tr 0.21191304407531408 | val 0.3125067412853241\n"
     ]
    },
    {
     "name": "stderr",
     "output_type": "stream",
     "text": [
      "100%|██████████| 139/139 [00:04<00:00, 33.60it/s]\n",
      "100%|██████████| 10/10 [00:00<00:00, 749.83it/s]\n"
     ]
    },
    {
     "name": "stdout",
     "output_type": "stream",
     "text": [
      "epoch 56 | tr 0.2027386385652659 | val 0.3367756575345993\n"
     ]
    },
    {
     "name": "stderr",
     "output_type": "stream",
     "text": [
      "100%|██████████| 139/139 [00:04<00:00, 33.60it/s]\n",
      "100%|██████████| 10/10 [00:00<00:00, 761.33it/s]\n"
     ]
    },
    {
     "name": "stdout",
     "output_type": "stream",
     "text": [
      "epoch 57 | tr 0.21023087986081623 | val 0.3193173974752426\n"
     ]
    },
    {
     "name": "stderr",
     "output_type": "stream",
     "text": [
      "100%|██████████| 139/139 [00:04<00:00, 33.57it/s]\n",
      "100%|██████████| 10/10 [00:00<00:00, 758.26it/s]\n"
     ]
    },
    {
     "name": "stdout",
     "output_type": "stream",
     "text": [
      "epoch 58 | tr 0.20001452957554686 | val 0.3205308526754379\n"
     ]
    },
    {
     "name": "stderr",
     "output_type": "stream",
     "text": [
      "100%|██████████| 139/139 [00:04<00:00, 33.60it/s]\n",
      "100%|██████████| 10/10 [00:00<00:00, 739.36it/s]\n"
     ]
    },
    {
     "name": "stdout",
     "output_type": "stream",
     "text": [
      "epoch 59 | tr 0.20629537277084461 | val 0.33122505247592926\n"
     ]
    },
    {
     "name": "stderr",
     "output_type": "stream",
     "text": [
      "100%|██████████| 139/139 [00:04<00:00, 33.61it/s]\n",
      "100%|██████████| 10/10 [00:00<00:00, 750.42it/s]\n"
     ]
    },
    {
     "name": "stdout",
     "output_type": "stream",
     "text": [
      "epoch 60 | tr 0.20433072472433392 | val 0.32568121552467344\n"
     ]
    },
    {
     "name": "stderr",
     "output_type": "stream",
     "text": [
      "100%|██████████| 139/139 [00:04<00:00, 33.59it/s]\n",
      "100%|██████████| 10/10 [00:00<00:00, 759.15it/s]\n"
     ]
    },
    {
     "name": "stdout",
     "output_type": "stream",
     "text": [
      "epoch 61 | tr 0.2071470329336983 | val 0.3261470764875412\n"
     ]
    },
    {
     "name": "stderr",
     "output_type": "stream",
     "text": [
      "100%|██████████| 139/139 [00:04<00:00, 33.63it/s]\n",
      "100%|██████████| 10/10 [00:00<00:00, 762.27it/s]\n"
     ]
    },
    {
     "name": "stdout",
     "output_type": "stream",
     "text": [
      "epoch 62 | tr 0.2058210419557935 | val 0.3319068759679794\n"
     ]
    },
    {
     "name": "stderr",
     "output_type": "stream",
     "text": [
      "100%|██████████| 139/139 [00:04<00:00, 33.60it/s]\n",
      "100%|██████████| 10/10 [00:00<00:00, 762.68it/s]\n"
     ]
    },
    {
     "name": "stdout",
     "output_type": "stream",
     "text": [
      "epoch 63 | tr 0.20612512603938152 | val 0.3296146780252457\n"
     ]
    },
    {
     "name": "stderr",
     "output_type": "stream",
     "text": [
      "100%|██████████| 139/139 [00:04<00:00, 33.62it/s]\n",
      "100%|██████████| 10/10 [00:00<00:00, 761.83it/s]\n"
     ]
    },
    {
     "name": "stdout",
     "output_type": "stream",
     "text": [
      "epoch 64 | tr 0.20067553983317862 | val 0.32224391102790834\n"
     ]
    },
    {
     "name": "stderr",
     "output_type": "stream",
     "text": [
      "100%|██████████| 139/139 [00:04<00:00, 33.62it/s]\n",
      "100%|██████████| 10/10 [00:00<00:00, 743.04it/s]\n"
     ]
    },
    {
     "name": "stdout",
     "output_type": "stream",
     "text": [
      "epoch 65 | tr 0.19289453166851894 | val 0.3142645448446274\n"
     ]
    },
    {
     "name": "stderr",
     "output_type": "stream",
     "text": [
      "100%|██████████| 139/139 [00:04<00:00, 33.59it/s]\n",
      "100%|██████████| 10/10 [00:00<00:00, 744.90it/s]\n"
     ]
    },
    {
     "name": "stdout",
     "output_type": "stream",
     "text": [
      "epoch 66 | tr 0.19266254015320497 | val 0.3160652220249176\n"
     ]
    },
    {
     "name": "stderr",
     "output_type": "stream",
     "text": [
      "100%|██████████| 139/139 [00:04<00:00, 33.62it/s]\n",
      "100%|██████████| 10/10 [00:00<00:00, 763.88it/s]\n"
     ]
    },
    {
     "name": "stdout",
     "output_type": "stream",
     "text": [
      "epoch 67 | tr 0.19525322419919555 | val 0.3433757185935974\n"
     ]
    },
    {
     "name": "stderr",
     "output_type": "stream",
     "text": [
      "100%|██████████| 139/139 [00:04<00:00, 33.61it/s]\n",
      "100%|██████████| 10/10 [00:00<00:00, 755.01it/s]\n"
     ]
    },
    {
     "name": "stdout",
     "output_type": "stream",
     "text": [
      "epoch 68 | tr 0.20278480118341582 | val 0.31283386051654816\n"
     ]
    },
    {
     "name": "stderr",
     "output_type": "stream",
     "text": [
      "100%|██████████| 139/139 [00:04<00:00, 33.60it/s]\n",
      "100%|██████████| 10/10 [00:00<00:00, 753.00it/s]\n"
     ]
    },
    {
     "name": "stdout",
     "output_type": "stream",
     "text": [
      "epoch 69 | tr 0.19527138978671685 | val 0.33533055782318116\n"
     ]
    },
    {
     "name": "stderr",
     "output_type": "stream",
     "text": [
      "100%|██████████| 139/139 [00:04<00:00, 33.61it/s]\n",
      "100%|██████████| 10/10 [00:00<00:00, 752.72it/s]\n"
     ]
    },
    {
     "name": "stdout",
     "output_type": "stream",
     "text": [
      "epoch 70 | tr 0.1984170956148518 | val 0.3291134715080261\n"
     ]
    },
    {
     "name": "stderr",
     "output_type": "stream",
     "text": [
      "100%|██████████| 139/139 [00:04<00:00, 33.61it/s]\n",
      "100%|██████████| 10/10 [00:00<00:00, 759.76it/s]\n"
     ]
    },
    {
     "name": "stdout",
     "output_type": "stream",
     "text": [
      "epoch 71 | tr 0.19787069136719052 | val 0.3302000105381012\n"
     ]
    },
    {
     "name": "stderr",
     "output_type": "stream",
     "text": [
      "100%|██████████| 139/139 [00:04<00:00, 33.63it/s]\n",
      "100%|██████████| 10/10 [00:00<00:00, 762.30it/s]\n"
     ]
    },
    {
     "name": "stdout",
     "output_type": "stream",
     "text": [
      "epoch 72 | tr 0.20329484557933944 | val 0.32029558420181276\n"
     ]
    },
    {
     "name": "stderr",
     "output_type": "stream",
     "text": [
      "100%|██████████| 139/139 [00:04<00:00, 33.61it/s]\n",
      "100%|██████████| 10/10 [00:00<00:00, 765.59it/s]\n"
     ]
    },
    {
     "name": "stdout",
     "output_type": "stream",
     "text": [
      "epoch 73 | tr 0.20166806672974455 | val 0.35740339756011963\n"
     ]
    },
    {
     "name": "stderr",
     "output_type": "stream",
     "text": [
      "100%|██████████| 139/139 [00:04<00:00, 33.63it/s]\n",
      "100%|██████████| 10/10 [00:00<00:00, 762.18it/s]\n"
     ]
    },
    {
     "name": "stdout",
     "output_type": "stream",
     "text": [
      "epoch 74 | tr 0.20059476138876497 | val 0.34630589187145233\n"
     ]
    },
    {
     "name": "stderr",
     "output_type": "stream",
     "text": [
      "100%|██████████| 139/139 [00:04<00:00, 33.63it/s]\n",
      "100%|██████████| 10/10 [00:00<00:00, 737.78it/s]\n"
     ]
    },
    {
     "name": "stdout",
     "output_type": "stream",
     "text": [
      "epoch 75 | tr 0.1961316901574032 | val 0.3180973708629608\n"
     ]
    },
    {
     "name": "stderr",
     "output_type": "stream",
     "text": [
      "100%|██████████| 139/139 [00:04<00:00, 33.62it/s]\n",
      "100%|██████████| 10/10 [00:00<00:00, 763.00it/s]\n"
     ]
    },
    {
     "name": "stdout",
     "output_type": "stream",
     "text": [
      "epoch 76 | tr 0.2034112600435456 | val 0.3327509552240372\n"
     ]
    },
    {
     "name": "stderr",
     "output_type": "stream",
     "text": [
      "100%|██████████| 139/139 [00:04<00:00, 33.61it/s]\n",
      "100%|██████████| 10/10 [00:00<00:00, 765.30it/s]\n"
     ]
    },
    {
     "name": "stdout",
     "output_type": "stream",
     "text": [
      "epoch 77 | tr 0.20148346010300752 | val 0.31310772597789766\n"
     ]
    },
    {
     "name": "stderr",
     "output_type": "stream",
     "text": [
      "100%|██████████| 139/139 [00:04<00:00, 33.62it/s]\n",
      "100%|██████████| 10/10 [00:00<00:00, 753.98it/s]\n"
     ]
    },
    {
     "name": "stdout",
     "output_type": "stream",
     "text": [
      "epoch 78 | tr 0.19483377704088636 | val 0.3133306115865707\n"
     ]
    },
    {
     "name": "stderr",
     "output_type": "stream",
     "text": [
      "100%|██████████| 139/139 [00:04<00:00, 33.59it/s]\n",
      "100%|██████████| 10/10 [00:00<00:00, 765.13it/s]\n"
     ]
    },
    {
     "name": "stdout",
     "output_type": "stream",
     "text": [
      "epoch 79 | tr 0.19106076877537392 | val 0.31250561475753785\n"
     ]
    },
    {
     "name": "stderr",
     "output_type": "stream",
     "text": [
      "100%|██████████| 139/139 [00:04<00:00, 33.63it/s]\n",
      "100%|██████████| 10/10 [00:00<00:00, 735.88it/s]\n"
     ]
    },
    {
     "name": "stdout",
     "output_type": "stream",
     "text": [
      "epoch 80 | tr 0.19163304470854697 | val 0.33559106290340424\n"
     ]
    },
    {
     "name": "stderr",
     "output_type": "stream",
     "text": [
      "100%|██████████| 139/139 [00:04<00:00, 33.62it/s]\n",
      "100%|██████████| 10/10 [00:00<00:00, 764.81it/s]\n"
     ]
    },
    {
     "name": "stdout",
     "output_type": "stream",
     "text": [
      "epoch 81 | tr 0.1884879611914964 | val 0.3313271805644035\n"
     ]
    },
    {
     "name": "stderr",
     "output_type": "stream",
     "text": [
      "100%|██████████| 139/139 [00:04<00:00, 33.62it/s]\n",
      "100%|██████████| 10/10 [00:00<00:00, 763.18it/s]\n"
     ]
    },
    {
     "name": "stdout",
     "output_type": "stream",
     "text": [
      "epoch 82 | tr 0.1936525806463022 | val 0.3331275850534439\n"
     ]
    },
    {
     "name": "stderr",
     "output_type": "stream",
     "text": [
      "100%|██████████| 139/139 [00:04<00:00, 33.64it/s]\n",
      "100%|██████████| 10/10 [00:00<00:00, 768.74it/s]\n"
     ]
    },
    {
     "name": "stdout",
     "output_type": "stream",
     "text": [
      "epoch 83 | tr 0.1944005655513393 | val 0.34935018718242644\n"
     ]
    },
    {
     "name": "stderr",
     "output_type": "stream",
     "text": [
      "100%|██████████| 139/139 [00:04<00:00, 33.63it/s]\n",
      "100%|██████████| 10/10 [00:00<00:00, 766.60it/s]\n"
     ]
    },
    {
     "name": "stdout",
     "output_type": "stream",
     "text": [
      "epoch 84 | tr 0.1916620152459728 | val 0.350759419798851\n"
     ]
    },
    {
     "name": "stderr",
     "output_type": "stream",
     "text": [
      "100%|██████████| 139/139 [00:04<00:00, 33.61it/s]\n",
      "100%|██████████| 10/10 [00:00<00:00, 764.42it/s]\n"
     ]
    },
    {
     "name": "stdout",
     "output_type": "stream",
     "text": [
      "epoch 85 | tr 0.19019180986521056 | val 0.32317942976951597\n"
     ]
    },
    {
     "name": "stderr",
     "output_type": "stream",
     "text": [
      "100%|██████████| 139/139 [00:04<00:00, 33.62it/s]\n",
      "100%|██████████| 10/10 [00:00<00:00, 764.00it/s]\n"
     ]
    },
    {
     "name": "stdout",
     "output_type": "stream",
     "text": [
      "epoch 86 | tr 0.19361620369575006 | val 0.33708880841732025\n"
     ]
    },
    {
     "name": "stderr",
     "output_type": "stream",
     "text": [
      "100%|██████████| 139/139 [00:04<00:00, 33.59it/s]\n",
      "100%|██████████| 10/10 [00:00<00:00, 755.01it/s]\n"
     ]
    },
    {
     "name": "stdout",
     "output_type": "stream",
     "text": [
      "epoch 87 | tr 0.18939176775354274 | val 0.3261367917060852\n"
     ]
    },
    {
     "name": "stderr",
     "output_type": "stream",
     "text": [
      "100%|██████████| 139/139 [00:04<00:00, 33.61it/s]\n",
      "100%|██████████| 10/10 [00:00<00:00, 740.69it/s]\n"
     ]
    },
    {
     "name": "stdout",
     "output_type": "stream",
     "text": [
      "epoch 88 | tr 0.18940844628021872 | val 0.3267522484064102\n"
     ]
    },
    {
     "name": "stderr",
     "output_type": "stream",
     "text": [
      "100%|██████████| 139/139 [00:04<00:00, 33.59it/s]\n",
      "100%|██████████| 10/10 [00:00<00:00, 740.39it/s]\n"
     ]
    },
    {
     "name": "stdout",
     "output_type": "stream",
     "text": [
      "epoch 89 | tr 0.19127693504309481 | val 0.32557042241096495\n"
     ]
    },
    {
     "name": "stderr",
     "output_type": "stream",
     "text": [
      "100%|██████████| 139/139 [00:04<00:00, 33.60it/s]\n",
      "100%|██████████| 10/10 [00:00<00:00, 757.57it/s]\n"
     ]
    },
    {
     "name": "stdout",
     "output_type": "stream",
     "text": [
      "epoch 90 | tr 0.1957151775630258 | val 0.3428588002920151\n"
     ]
    },
    {
     "name": "stderr",
     "output_type": "stream",
     "text": [
      "100%|██████████| 139/139 [00:04<00:00, 33.62it/s]\n",
      "100%|██████████| 10/10 [00:00<00:00, 760.04it/s]\n"
     ]
    },
    {
     "name": "stdout",
     "output_type": "stream",
     "text": [
      "epoch 91 | tr 0.1938983102282174 | val 0.3226231873035431\n"
     ]
    },
    {
     "name": "stderr",
     "output_type": "stream",
     "text": [
      "100%|██████████| 139/139 [00:04<00:00, 33.64it/s]\n",
      "100%|██████████| 10/10 [00:00<00:00, 769.44it/s]\n"
     ]
    },
    {
     "name": "stdout",
     "output_type": "stream",
     "text": [
      "epoch 92 | tr 0.18723324048433374 | val 0.33186369836330415\n"
     ]
    },
    {
     "name": "stderr",
     "output_type": "stream",
     "text": [
      "100%|██████████| 139/139 [00:04<00:00, 33.61it/s]\n",
      "100%|██████████| 10/10 [00:00<00:00, 755.88it/s]\n"
     ]
    },
    {
     "name": "stdout",
     "output_type": "stream",
     "text": [
      "epoch 93 | tr 0.18702079827408138 | val 0.3253641903400421\n"
     ]
    },
    {
     "name": "stderr",
     "output_type": "stream",
     "text": [
      "100%|██████████| 139/139 [00:04<00:00, 33.62it/s]\n",
      "100%|██████████| 10/10 [00:00<00:00, 743.01it/s]\n"
     ]
    },
    {
     "name": "stdout",
     "output_type": "stream",
     "text": [
      "epoch 94 | tr 0.18145771823126636 | val 0.32642313539981843\n"
     ]
    },
    {
     "name": "stderr",
     "output_type": "stream",
     "text": [
      "100%|██████████| 139/139 [00:04<00:00, 33.63it/s]\n",
      "100%|██████████| 10/10 [00:00<00:00, 745.92it/s]\n"
     ]
    },
    {
     "name": "stdout",
     "output_type": "stream",
     "text": [
      "epoch 95 | tr 0.1847668549568533 | val 0.33913064897060397\n"
     ]
    },
    {
     "name": "stderr",
     "output_type": "stream",
     "text": [
      "100%|██████████| 139/139 [00:04<00:00, 33.62it/s]\n",
      "100%|██████████| 10/10 [00:00<00:00, 765.94it/s]\n"
     ]
    },
    {
     "name": "stdout",
     "output_type": "stream",
     "text": [
      "epoch 96 | tr 0.1870107850689682 | val 0.32587798237800597\n"
     ]
    },
    {
     "name": "stderr",
     "output_type": "stream",
     "text": [
      "100%|██████████| 139/139 [00:04<00:00, 33.61it/s]\n",
      "100%|██████████| 10/10 [00:00<00:00, 767.20it/s]\n"
     ]
    },
    {
     "name": "stdout",
     "output_type": "stream",
     "text": [
      "epoch 97 | tr 0.18369541997961003 | val 0.3268305271863937\n"
     ]
    },
    {
     "name": "stderr",
     "output_type": "stream",
     "text": [
      "100%|██████████| 139/139 [00:04<00:00, 33.60it/s]\n",
      "100%|██████████| 10/10 [00:00<00:00, 758.94it/s]\n"
     ]
    },
    {
     "name": "stdout",
     "output_type": "stream",
     "text": [
      "epoch 98 | tr 0.18312594986004796 | val 0.3402496099472046\n"
     ]
    },
    {
     "name": "stderr",
     "output_type": "stream",
     "text": [
      "100%|██████████| 139/139 [00:04<00:00, 33.62it/s]\n",
      "100%|██████████| 10/10 [00:00<00:00, 762.34it/s]\n"
     ]
    },
    {
     "name": "stdout",
     "output_type": "stream",
     "text": [
      "epoch 99 | tr 0.17758775952694228 | val 0.33234755992889403\n"
     ]
    },
    {
     "name": "stderr",
     "output_type": "stream",
     "text": [
      "100%|██████████| 139/139 [00:04<00:00, 33.60it/s]\n",
      "100%|██████████| 10/10 [00:00<00:00, 763.10it/s]\n"
     ]
    },
    {
     "name": "stdout",
     "output_type": "stream",
     "text": [
      "epoch 100 | tr 0.18380862940772832 | val 0.31945122480392457\n"
     ]
    },
    {
     "name": "stderr",
     "output_type": "stream",
     "text": [
      "100%|██████████| 139/139 [00:04<00:00, 33.63it/s]\n",
      "100%|██████████| 10/10 [00:00<00:00, 766.76it/s]\n"
     ]
    },
    {
     "name": "stdout",
     "output_type": "stream",
     "text": [
      "epoch 101 | tr 0.17867984858562622 | val 0.31865369975566865\n"
     ]
    },
    {
     "name": "stderr",
     "output_type": "stream",
     "text": [
      "100%|██████████| 139/139 [00:04<00:00, 33.60it/s]\n",
      "100%|██████████| 10/10 [00:00<00:00, 750.38it/s]\n"
     ]
    },
    {
     "name": "stdout",
     "output_type": "stream",
     "text": [
      "epoch 102 | tr 0.18343528135002946 | val 0.3205606549978256\n"
     ]
    },
    {
     "name": "stderr",
     "output_type": "stream",
     "text": [
      "100%|██████████| 139/139 [00:04<00:00, 33.63it/s]\n",
      "100%|██████████| 10/10 [00:00<00:00, 764.94it/s]\n"
     ]
    },
    {
     "name": "stdout",
     "output_type": "stream",
     "text": [
      "epoch 103 | tr 0.18173416221527744 | val 0.3159597724676132\n"
     ]
    },
    {
     "name": "stderr",
     "output_type": "stream",
     "text": [
      "100%|██████████| 139/139 [00:04<00:00, 33.63it/s]\n",
      "100%|██████████| 10/10 [00:00<00:00, 761.26it/s]\n"
     ]
    },
    {
     "name": "stdout",
     "output_type": "stream",
     "text": [
      "epoch 104 | tr 0.18588315872408503 | val 0.3286549836397171\n"
     ]
    },
    {
     "name": "stderr",
     "output_type": "stream",
     "text": [
      "100%|██████████| 139/139 [00:04<00:00, 33.64it/s]\n",
      "100%|██████████| 10/10 [00:00<00:00, 764.35it/s]\n"
     ]
    },
    {
     "name": "stdout",
     "output_type": "stream",
     "text": [
      "epoch 105 | tr 0.1777273641108609 | val 0.31982519328594206\n"
     ]
    },
    {
     "name": "stderr",
     "output_type": "stream",
     "text": [
      "100%|██████████| 139/139 [00:04<00:00, 33.63it/s]\n",
      "100%|██████████| 10/10 [00:00<00:00, 764.07it/s]\n"
     ]
    },
    {
     "name": "stdout",
     "output_type": "stream",
     "text": [
      "epoch 106 | tr 0.17720843937328393 | val 0.33276896476745604\n"
     ]
    },
    {
     "name": "stderr",
     "output_type": "stream",
     "text": [
      "100%|██████████| 139/139 [00:04<00:00, 33.61it/s]\n",
      "100%|██████████| 10/10 [00:00<00:00, 750.98it/s]\n"
     ]
    },
    {
     "name": "stdout",
     "output_type": "stream",
     "text": [
      "epoch 107 | tr 0.18192549398262725 | val 0.3213428229093552\n"
     ]
    },
    {
     "name": "stderr",
     "output_type": "stream",
     "text": [
      "100%|██████████| 139/139 [00:04<00:00, 33.63it/s]\n",
      "100%|██████████| 10/10 [00:00<00:00, 749.79it/s]\n"
     ]
    },
    {
     "name": "stdout",
     "output_type": "stream",
     "text": [
      "epoch 108 | tr 0.1794401052937233 | val 0.31745878159999846\n"
     ]
    },
    {
     "name": "stderr",
     "output_type": "stream",
     "text": [
      "100%|██████████| 139/139 [00:04<00:00, 33.63it/s]\n",
      "100%|██████████| 10/10 [00:00<00:00, 763.42it/s]\n"
     ]
    },
    {
     "name": "stdout",
     "output_type": "stream",
     "text": [
      "epoch 109 | tr 0.18697109416448812 | val 0.3312270551919937\n"
     ]
    },
    {
     "name": "stderr",
     "output_type": "stream",
     "text": [
      "100%|██████████| 139/139 [00:04<00:00, 33.63it/s]\n",
      "100%|██████████| 10/10 [00:00<00:00, 763.27it/s]\n"
     ]
    },
    {
     "name": "stdout",
     "output_type": "stream",
     "text": [
      "epoch 110 | tr 0.17860302146819 | val 0.3329686850309372\n"
     ]
    },
    {
     "name": "stderr",
     "output_type": "stream",
     "text": [
      "100%|██████████| 139/139 [00:04<00:00, 33.65it/s]\n",
      "100%|██████████| 10/10 [00:00<00:00, 758.26it/s]\n"
     ]
    },
    {
     "name": "stdout",
     "output_type": "stream",
     "text": [
      "epoch 111 | tr 0.17750203872112919 | val 0.331116758286953\n"
     ]
    },
    {
     "name": "stderr",
     "output_type": "stream",
     "text": [
      "100%|██████████| 139/139 [00:04<00:00, 33.63it/s]\n",
      "100%|██████████| 10/10 [00:00<00:00, 758.35it/s]\n"
     ]
    },
    {
     "name": "stdout",
     "output_type": "stream",
     "text": [
      "epoch 112 | tr 0.18107044316238638 | val 0.32121785581111906\n"
     ]
    },
    {
     "name": "stderr",
     "output_type": "stream",
     "text": [
      "100%|██████████| 139/139 [00:04<00:00, 33.64it/s]\n",
      "100%|██████████| 10/10 [00:00<00:00, 759.22it/s]\n"
     ]
    },
    {
     "name": "stdout",
     "output_type": "stream",
     "text": [
      "epoch 113 | tr 0.17990101664829597 | val 0.32177525460720063\n"
     ]
    },
    {
     "name": "stderr",
     "output_type": "stream",
     "text": [
      "100%|██████████| 139/139 [00:04<00:00, 33.63it/s]\n",
      "100%|██████████| 10/10 [00:00<00:00, 737.12it/s]\n"
     ]
    },
    {
     "name": "stdout",
     "output_type": "stream",
     "text": [
      "epoch 114 | tr 0.17640493595771653 | val 0.3343025356531143\n"
     ]
    },
    {
     "name": "stderr",
     "output_type": "stream",
     "text": [
      "100%|██████████| 139/139 [00:04<00:00, 33.61it/s]\n",
      "100%|██████████| 10/10 [00:00<00:00, 765.08it/s]\n"
     ]
    },
    {
     "name": "stdout",
     "output_type": "stream",
     "text": [
      "epoch 115 | tr 0.18076294263918624 | val 0.32270108461380004\n"
     ]
    },
    {
     "name": "stderr",
     "output_type": "stream",
     "text": [
      "100%|██████████| 139/139 [00:04<00:00, 33.62it/s]\n",
      "100%|██████████| 10/10 [00:00<00:00, 771.88it/s]\n"
     ]
    },
    {
     "name": "stdout",
     "output_type": "stream",
     "text": [
      "epoch 116 | tr 0.1745586386151451 | val 0.33255709409713746\n"
     ]
    },
    {
     "name": "stderr",
     "output_type": "stream",
     "text": [
      "100%|██████████| 139/139 [00:04<00:00, 33.61it/s]\n",
      "100%|██████████| 10/10 [00:00<00:00, 766.62it/s]\n"
     ]
    },
    {
     "name": "stdout",
     "output_type": "stream",
     "text": [
      "epoch 117 | tr 0.1777486801147461 | val 0.322221514582634\n"
     ]
    },
    {
     "name": "stderr",
     "output_type": "stream",
     "text": [
      "100%|██████████| 139/139 [00:04<00:00, 33.64it/s]\n",
      "100%|██████████| 10/10 [00:00<00:00, 762.17it/s]\n"
     ]
    },
    {
     "name": "stdout",
     "output_type": "stream",
     "text": [
      "epoch 118 | tr 0.1773210718906183 | val 0.31717527508735655\n"
     ]
    },
    {
     "name": "stderr",
     "output_type": "stream",
     "text": [
      "100%|██████████| 139/139 [00:04<00:00, 33.62it/s]\n",
      "100%|██████████| 10/10 [00:00<00:00, 764.69it/s]\n"
     ]
    },
    {
     "name": "stdout",
     "output_type": "stream",
     "text": [
      "epoch 119 | tr 0.17711633674317984 | val 0.3171135291457176\n"
     ]
    },
    {
     "name": "stderr",
     "output_type": "stream",
     "text": [
      "100%|██████████| 139/139 [00:04<00:00, 33.63it/s]\n",
      "100%|██████████| 10/10 [00:00<00:00, 765.79it/s]\n"
     ]
    },
    {
     "name": "stdout",
     "output_type": "stream",
     "text": [
      "epoch 120 | tr 0.17121199250435656 | val 0.32354954779148104\n"
     ]
    },
    {
     "name": "stderr",
     "output_type": "stream",
     "text": [
      "100%|██████████| 139/139 [00:04<00:00, 33.63it/s]\n",
      "100%|██████████| 10/10 [00:00<00:00, 766.14it/s]\n"
     ]
    },
    {
     "name": "stdout",
     "output_type": "stream",
     "text": [
      "epoch 121 | tr 0.1737909072594677 | val 0.328828489780426\n"
     ]
    },
    {
     "name": "stderr",
     "output_type": "stream",
     "text": [
      "100%|██████████| 139/139 [00:04<00:00, 33.63it/s]\n",
      "100%|██████████| 10/10 [00:00<00:00, 766.56it/s]\n"
     ]
    },
    {
     "name": "stdout",
     "output_type": "stream",
     "text": [
      "epoch 122 | tr 0.17609312353159884 | val 0.3250866323709488\n"
     ]
    },
    {
     "name": "stderr",
     "output_type": "stream",
     "text": [
      "100%|██████████| 139/139 [00:04<00:00, 33.61it/s]\n",
      "100%|██████████| 10/10 [00:00<00:00, 761.33it/s]\n"
     ]
    },
    {
     "name": "stdout",
     "output_type": "stream",
     "text": [
      "epoch 123 | tr 0.17173111765719146 | val 0.32847389578819275\n"
     ]
    },
    {
     "name": "stderr",
     "output_type": "stream",
     "text": [
      "100%|██████████| 139/139 [00:04<00:00, 33.64it/s]\n",
      "100%|██████████| 10/10 [00:00<00:00, 765.16it/s]\n"
     ]
    },
    {
     "name": "stdout",
     "output_type": "stream",
     "text": [
      "epoch 124 | tr 0.1745022278573873 | val 0.32704468071460724\n"
     ]
    },
    {
     "name": "stderr",
     "output_type": "stream",
     "text": [
      "100%|██████████| 139/139 [00:04<00:00, 33.57it/s]\n",
      "100%|██████████| 10/10 [00:00<00:00, 749.08it/s]\n"
     ]
    },
    {
     "name": "stdout",
     "output_type": "stream",
     "text": [
      "epoch 125 | tr 0.16932662721160505 | val 0.32800209820270537\n"
     ]
    },
    {
     "name": "stderr",
     "output_type": "stream",
     "text": [
      "100%|██████████| 139/139 [00:04<00:00, 33.65it/s]\n",
      "100%|██████████| 10/10 [00:00<00:00, 778.93it/s]\n"
     ]
    },
    {
     "name": "stdout",
     "output_type": "stream",
     "text": [
      "epoch 126 | tr 0.17384482711124763 | val 0.32424418330192567\n"
     ]
    },
    {
     "name": "stderr",
     "output_type": "stream",
     "text": [
      "100%|██████████| 139/139 [00:04<00:00, 33.63it/s]\n",
      "100%|██████████| 10/10 [00:00<00:00, 764.49it/s]\n"
     ]
    },
    {
     "name": "stdout",
     "output_type": "stream",
     "text": [
      "epoch 127 | tr 0.16997024331161445 | val 0.3121969014406204\n"
     ]
    },
    {
     "name": "stderr",
     "output_type": "stream",
     "text": [
      "100%|██████████| 139/139 [00:04<00:00, 33.64it/s]\n",
      "100%|██████████| 10/10 [00:00<00:00, 763.66it/s]\n"
     ]
    },
    {
     "name": "stdout",
     "output_type": "stream",
     "text": [
      "epoch 128 | tr 0.1802408503864309 | val 0.3405721068382263\n"
     ]
    },
    {
     "name": "stderr",
     "output_type": "stream",
     "text": [
      "100%|██████████| 139/139 [00:04<00:00, 33.61it/s]\n",
      "100%|██████████| 10/10 [00:00<00:00, 767.34it/s]\n"
     ]
    },
    {
     "name": "stdout",
     "output_type": "stream",
     "text": [
      "epoch 129 | tr 0.16928841050365845 | val 0.3250705927610397\n"
     ]
    },
    {
     "name": "stderr",
     "output_type": "stream",
     "text": [
      "100%|██████████| 139/139 [00:04<00:00, 33.66it/s]\n",
      "100%|██████████| 10/10 [00:00<00:00, 778.21it/s]\n"
     ]
    },
    {
     "name": "stdout",
     "output_type": "stream",
     "text": [
      "epoch 130 | tr 0.16539599655343473 | val 0.3267849788069725\n"
     ]
    },
    {
     "name": "stderr",
     "output_type": "stream",
     "text": [
      "100%|██████████| 139/139 [00:04<00:00, 33.63it/s]\n",
      "100%|██████████| 10/10 [00:00<00:00, 754.29it/s]\n"
     ]
    },
    {
     "name": "stdout",
     "output_type": "stream",
     "text": [
      "epoch 131 | tr 0.16992373694833235 | val 0.3219366669654846\n"
     ]
    },
    {
     "name": "stderr",
     "output_type": "stream",
     "text": [
      "100%|██████████| 139/139 [00:04<00:00, 33.61it/s]\n",
      "100%|██████████| 10/10 [00:00<00:00, 753.23it/s]\n"
     ]
    },
    {
     "name": "stdout",
     "output_type": "stream",
     "text": [
      "epoch 132 | tr 0.17189531055071372 | val 0.3200844585895538\n"
     ]
    },
    {
     "name": "stderr",
     "output_type": "stream",
     "text": [
      "100%|██████████| 139/139 [00:04<00:00, 33.62it/s]\n",
      "100%|██████████| 10/10 [00:00<00:00, 750.31it/s]\n"
     ]
    },
    {
     "name": "stdout",
     "output_type": "stream",
     "text": [
      "epoch 133 | tr 0.17068743764710942 | val 0.3239336371421814\n"
     ]
    },
    {
     "name": "stderr",
     "output_type": "stream",
     "text": [
      "100%|██████████| 139/139 [00:04<00:00, 33.61it/s]\n",
      "100%|██████████| 10/10 [00:00<00:00, 741.48it/s]\n"
     ]
    },
    {
     "name": "stdout",
     "output_type": "stream",
     "text": [
      "epoch 134 | tr 0.1675779706925797 | val 0.3167876571416855\n"
     ]
    },
    {
     "name": "stderr",
     "output_type": "stream",
     "text": [
      "100%|██████████| 139/139 [00:04<00:00, 33.62it/s]\n",
      "100%|██████████| 10/10 [00:00<00:00, 747.23it/s]\n"
     ]
    },
    {
     "name": "stdout",
     "output_type": "stream",
     "text": [
      "epoch 135 | tr 0.16198773515953435 | val 0.31925382316112516\n"
     ]
    },
    {
     "name": "stderr",
     "output_type": "stream",
     "text": [
      "100%|██████████| 139/139 [00:04<00:00, 33.58it/s]\n",
      "100%|██████████| 10/10 [00:00<00:00, 743.92it/s]\n"
     ]
    },
    {
     "name": "stdout",
     "output_type": "stream",
     "text": [
      "epoch 136 | tr 0.17292457304412512 | val 0.32783194780349734\n"
     ]
    },
    {
     "name": "stderr",
     "output_type": "stream",
     "text": [
      "100%|██████████| 139/139 [00:04<00:00, 33.60it/s]\n",
      "100%|██████████| 10/10 [00:00<00:00, 761.44it/s]\n"
     ]
    },
    {
     "name": "stdout",
     "output_type": "stream",
     "text": [
      "epoch 137 | tr 0.16681808549508775 | val 0.31516155898571013\n"
     ]
    },
    {
     "name": "stderr",
     "output_type": "stream",
     "text": [
      "100%|██████████| 139/139 [00:04<00:00, 33.56it/s]\n",
      "100%|██████████| 10/10 [00:00<00:00, 741.90it/s]\n"
     ]
    },
    {
     "name": "stdout",
     "output_type": "stream",
     "text": [
      "epoch 138 | tr 0.16989468145284722 | val 0.33229613602161406\n"
     ]
    },
    {
     "name": "stderr",
     "output_type": "stream",
     "text": [
      "100%|██████████| 139/139 [00:04<00:00, 33.60it/s]\n",
      "100%|██████████| 10/10 [00:00<00:00, 763.45it/s]\n"
     ]
    },
    {
     "name": "stdout",
     "output_type": "stream",
     "text": [
      "epoch 139 | tr 0.1672614248965284 | val 0.32402201890945437\n"
     ]
    },
    {
     "name": "stderr",
     "output_type": "stream",
     "text": [
      "100%|██████████| 139/139 [00:04<00:00, 33.61it/s]\n",
      "100%|██████████| 10/10 [00:00<00:00, 762.53it/s]\n"
     ]
    },
    {
     "name": "stdout",
     "output_type": "stream",
     "text": [
      "epoch 140 | tr 0.16810382688217027 | val 0.3294183075428009\n"
     ]
    },
    {
     "name": "stderr",
     "output_type": "stream",
     "text": [
      "100%|██████████| 139/139 [00:04<00:00, 33.61it/s]\n",
      "100%|██████████| 10/10 [00:00<00:00, 749.38it/s]\n"
     ]
    },
    {
     "name": "stdout",
     "output_type": "stream",
     "text": [
      "epoch 141 | tr 0.16642753008029443 | val 0.31798998415470126\n"
     ]
    },
    {
     "name": "stderr",
     "output_type": "stream",
     "text": [
      "100%|██████████| 139/139 [00:04<00:00, 33.62it/s]\n",
      "100%|██████████| 10/10 [00:00<00:00, 752.80it/s]\n"
     ]
    },
    {
     "name": "stdout",
     "output_type": "stream",
     "text": [
      "epoch 142 | tr 0.16950925434236047 | val 0.3394507169723511\n"
     ]
    },
    {
     "name": "stderr",
     "output_type": "stream",
     "text": [
      "100%|██████████| 139/139 [00:04<00:00, 33.63it/s]\n",
      "100%|██████████| 10/10 [00:00<00:00, 753.99it/s]\n"
     ]
    },
    {
     "name": "stdout",
     "output_type": "stream",
     "text": [
      "epoch 143 | tr 0.1684275536978845 | val 0.354433211684227\n"
     ]
    },
    {
     "name": "stderr",
     "output_type": "stream",
     "text": [
      "100%|██████████| 139/139 [00:04<00:00, 33.59it/s]\n",
      "100%|██████████| 10/10 [00:00<00:00, 766.90it/s]\n"
     ]
    },
    {
     "name": "stdout",
     "output_type": "stream",
     "text": [
      "epoch 144 | tr 0.16444431154204786 | val 0.31826775670051577\n"
     ]
    },
    {
     "name": "stderr",
     "output_type": "stream",
     "text": [
      "100%|██████████| 139/139 [00:04<00:00, 33.62it/s]\n",
      "100%|██████████| 10/10 [00:00<00:00, 750.59it/s]\n"
     ]
    },
    {
     "name": "stdout",
     "output_type": "stream",
     "text": [
      "epoch 145 | tr 0.16124486274642053 | val 0.3239775478839874\n"
     ]
    },
    {
     "name": "stderr",
     "output_type": "stream",
     "text": [
      "100%|██████████| 139/139 [00:04<00:00, 33.61it/s]\n",
      "100%|██████████| 10/10 [00:00<00:00, 767.71it/s]\n"
     ]
    },
    {
     "name": "stdout",
     "output_type": "stream",
     "text": [
      "epoch 146 | tr 0.16455290364704545 | val 0.31870146095752716\n"
     ]
    },
    {
     "name": "stderr",
     "output_type": "stream",
     "text": [
      "100%|██████████| 139/139 [00:04<00:00, 33.61it/s]\n",
      "100%|██████████| 10/10 [00:00<00:00, 764.80it/s]\n"
     ]
    },
    {
     "name": "stdout",
     "output_type": "stream",
     "text": [
      "epoch 147 | tr 0.16231118324849245 | val 0.3257096827030182\n"
     ]
    },
    {
     "name": "stderr",
     "output_type": "stream",
     "text": [
      "100%|██████████| 139/139 [00:04<00:00, 33.61it/s]\n",
      "100%|██████████| 10/10 [00:00<00:00, 772.29it/s]\n"
     ]
    },
    {
     "name": "stdout",
     "output_type": "stream",
     "text": [
      "epoch 148 | tr 0.1627229218431514 | val 0.31931748390197756\n"
     ]
    },
    {
     "name": "stderr",
     "output_type": "stream",
     "text": [
      "100%|██████████| 139/139 [00:04<00:00, 33.63it/s]\n",
      "100%|██████████| 10/10 [00:00<00:00, 754.25it/s]\n"
     ]
    },
    {
     "name": "stdout",
     "output_type": "stream",
     "text": [
      "epoch 149 | tr 0.16148349176422297 | val 0.3231218010187149\n"
     ]
    },
    {
     "name": "stderr",
     "output_type": "stream",
     "text": [
      "100%|██████████| 139/139 [00:04<00:00, 33.63it/s]\n",
      "100%|██████████| 10/10 [00:00<00:00, 766.18it/s]\n"
     ]
    },
    {
     "name": "stdout",
     "output_type": "stream",
     "text": [
      "epoch 150 | tr 0.16554047590751442 | val 0.316533574461937\n"
     ]
    },
    {
     "name": "stderr",
     "output_type": "stream",
     "text": [
      "100%|██████████| 139/139 [00:04<00:00, 33.61it/s]\n",
      "100%|██████████| 10/10 [00:00<00:00, 763.46it/s]\n"
     ]
    },
    {
     "name": "stdout",
     "output_type": "stream",
     "text": [
      "epoch 151 | tr 0.15609097679098732 | val 0.32312280535697935\n"
     ]
    },
    {
     "name": "stderr",
     "output_type": "stream",
     "text": [
      "100%|██████████| 139/139 [00:04<00:00, 33.62it/s]\n",
      "100%|██████████| 10/10 [00:00<00:00, 756.77it/s]\n"
     ]
    },
    {
     "name": "stdout",
     "output_type": "stream",
     "text": [
      "epoch 152 | tr 0.16129632379940087 | val 0.3298436313867569\n"
     ]
    },
    {
     "name": "stderr",
     "output_type": "stream",
     "text": [
      "100%|██████████| 139/139 [00:04<00:00, 33.56it/s]\n",
      "100%|██████████| 10/10 [00:00<00:00, 754.15it/s]\n"
     ]
    },
    {
     "name": "stdout",
     "output_type": "stream",
     "text": [
      "epoch 153 | tr 0.1615076246235868 | val 0.3379543423652649\n"
     ]
    },
    {
     "name": "stderr",
     "output_type": "stream",
     "text": [
      "100%|██████████| 139/139 [00:04<00:00, 33.63it/s]\n",
      "100%|██████████| 10/10 [00:00<00:00, 756.92it/s]\n"
     ]
    },
    {
     "name": "stdout",
     "output_type": "stream",
     "text": [
      "epoch 154 | tr 0.1717474377519793 | val 0.3241401582956314\n"
     ]
    },
    {
     "name": "stderr",
     "output_type": "stream",
     "text": [
      "100%|██████████| 139/139 [00:04<00:00, 33.62it/s]\n",
      "100%|██████████| 10/10 [00:00<00:00, 738.02it/s]\n"
     ]
    },
    {
     "name": "stdout",
     "output_type": "stream",
     "text": [
      "epoch 155 | tr 0.16709396334217608 | val 0.3150831997394562\n"
     ]
    },
    {
     "name": "stderr",
     "output_type": "stream",
     "text": [
      "100%|██████████| 139/139 [00:04<00:00, 33.62it/s]\n",
      "100%|██████████| 10/10 [00:00<00:00, 704.85it/s]\n"
     ]
    },
    {
     "name": "stdout",
     "output_type": "stream",
     "text": [
      "epoch 156 | tr 0.162201043084371 | val 0.31929767280817034\n"
     ]
    },
    {
     "name": "stderr",
     "output_type": "stream",
     "text": [
      "100%|██████████| 139/139 [00:04<00:00, 33.65it/s]\n",
      "100%|██████████| 10/10 [00:00<00:00, 764.83it/s]\n"
     ]
    },
    {
     "name": "stdout",
     "output_type": "stream",
     "text": [
      "epoch 157 | tr 0.16002092789188563 | val 0.3185028463602066\n"
     ]
    },
    {
     "name": "stderr",
     "output_type": "stream",
     "text": [
      "100%|██████████| 139/139 [00:04<00:00, 33.61it/s]\n",
      "100%|██████████| 10/10 [00:00<00:00, 760.44it/s]\n"
     ]
    },
    {
     "name": "stdout",
     "output_type": "stream",
     "text": [
      "epoch 158 | tr 0.1630337854190696 | val 0.3222132593393326\n"
     ]
    },
    {
     "name": "stderr",
     "output_type": "stream",
     "text": [
      "100%|██████████| 139/139 [00:04<00:00, 33.61it/s]\n",
      "100%|██████████| 10/10 [00:00<00:00, 759.65it/s]\n"
     ]
    },
    {
     "name": "stdout",
     "output_type": "stream",
     "text": [
      "epoch 159 | tr 0.1582857076105454 | val 0.3351942926645279\n"
     ]
    },
    {
     "name": "stderr",
     "output_type": "stream",
     "text": [
      "100%|██████████| 139/139 [00:04<00:00, 33.64it/s]\n",
      "100%|██████████| 10/10 [00:00<00:00, 760.86it/s]\n"
     ]
    },
    {
     "name": "stdout",
     "output_type": "stream",
     "text": [
      "epoch 160 | tr 0.15870777549717924 | val 0.31624763906002046\n"
     ]
    },
    {
     "name": "stderr",
     "output_type": "stream",
     "text": [
      "100%|██████████| 139/139 [00:04<00:00, 33.59it/s]\n",
      "100%|██████████| 10/10 [00:00<00:00, 755.31it/s]\n"
     ]
    },
    {
     "name": "stdout",
     "output_type": "stream",
     "text": [
      "epoch 161 | tr 0.15639537814066565 | val 0.32290743589401244\n"
     ]
    },
    {
     "name": "stderr",
     "output_type": "stream",
     "text": [
      "100%|██████████| 139/139 [00:04<00:00, 33.61it/s]\n",
      "100%|██████████| 10/10 [00:00<00:00, 762.07it/s]\n"
     ]
    },
    {
     "name": "stdout",
     "output_type": "stream",
     "text": [
      "epoch 162 | tr 0.1546113305597854 | val 0.31305738985538484\n"
     ]
    },
    {
     "name": "stderr",
     "output_type": "stream",
     "text": [
      "100%|██████████| 139/139 [00:04<00:00, 33.61it/s]\n",
      "100%|██████████| 10/10 [00:00<00:00, 762.71it/s]\n"
     ]
    },
    {
     "name": "stdout",
     "output_type": "stream",
     "text": [
      "epoch 163 | tr 0.1587902507443222 | val 0.3198126137256622\n"
     ]
    },
    {
     "name": "stderr",
     "output_type": "stream",
     "text": [
      "100%|██████████| 139/139 [00:04<00:00, 33.65it/s]\n",
      "100%|██████████| 10/10 [00:00<00:00, 767.79it/s]\n"
     ]
    },
    {
     "name": "stdout",
     "output_type": "stream",
     "text": [
      "epoch 164 | tr 0.16038280489633408 | val 0.33306617140769956\n"
     ]
    },
    {
     "name": "stderr",
     "output_type": "stream",
     "text": [
      "100%|██████████| 139/139 [00:04<00:00, 33.63it/s]\n",
      "100%|██████████| 10/10 [00:00<00:00, 758.82it/s]\n"
     ]
    },
    {
     "name": "stdout",
     "output_type": "stream",
     "text": [
      "epoch 165 | tr 0.16240496756575948 | val 0.3165725082159042\n"
     ]
    },
    {
     "name": "stderr",
     "output_type": "stream",
     "text": [
      "100%|██████████| 139/139 [00:04<00:00, 33.61it/s]\n",
      "100%|██████████| 10/10 [00:00<00:00, 760.50it/s]\n"
     ]
    },
    {
     "name": "stdout",
     "output_type": "stream",
     "text": [
      "epoch 166 | tr 0.15119110010296322 | val 0.32467406094074247\n"
     ]
    },
    {
     "name": "stderr",
     "output_type": "stream",
     "text": [
      "100%|██████████| 139/139 [00:04<00:00, 33.64it/s]\n",
      "100%|██████████| 10/10 [00:00<00:00, 763.81it/s]\n"
     ]
    },
    {
     "name": "stdout",
     "output_type": "stream",
     "text": [
      "epoch 167 | tr 0.15272996258392607 | val 0.3243481069803238\n"
     ]
    },
    {
     "name": "stderr",
     "output_type": "stream",
     "text": [
      "100%|██████████| 139/139 [00:04<00:00, 33.59it/s]\n",
      "100%|██████████| 10/10 [00:00<00:00, 761.83it/s]\n"
     ]
    },
    {
     "name": "stdout",
     "output_type": "stream",
     "text": [
      "epoch 168 | tr 0.15506248326181507 | val 0.32815546691417696\n"
     ]
    },
    {
     "name": "stderr",
     "output_type": "stream",
     "text": [
      "100%|██████████| 139/139 [00:04<00:00, 33.63it/s]\n",
      "100%|██████████| 10/10 [00:00<00:00, 764.81it/s]\n"
     ]
    },
    {
     "name": "stdout",
     "output_type": "stream",
     "text": [
      "epoch 169 | tr 0.1558203121526636 | val 0.3270919889211655\n"
     ]
    },
    {
     "name": "stderr",
     "output_type": "stream",
     "text": [
      "100%|██████████| 139/139 [00:04<00:00, 33.64it/s]\n",
      "100%|██████████| 10/10 [00:00<00:00, 763.71it/s]\n"
     ]
    },
    {
     "name": "stdout",
     "output_type": "stream",
     "text": [
      "epoch 170 | tr 0.1596512130910544 | val 0.33525845408439636\n"
     ]
    },
    {
     "name": "stderr",
     "output_type": "stream",
     "text": [
      "100%|██████████| 139/139 [00:04<00:00, 33.64it/s]\n",
      "100%|██████████| 10/10 [00:00<00:00, 764.77it/s]\n"
     ]
    },
    {
     "name": "stdout",
     "output_type": "stream",
     "text": [
      "epoch 171 | tr 0.15699009382896287 | val 0.3270025819540024\n"
     ]
    },
    {
     "name": "stderr",
     "output_type": "stream",
     "text": [
      "100%|██████████| 139/139 [00:04<00:00, 33.60it/s]\n",
      "100%|██████████| 10/10 [00:00<00:00, 761.19it/s]\n"
     ]
    },
    {
     "name": "stdout",
     "output_type": "stream",
     "text": [
      "epoch 172 | tr 0.15392689615916863 | val 0.327097499370575\n"
     ]
    },
    {
     "name": "stderr",
     "output_type": "stream",
     "text": [
      "100%|██████████| 139/139 [00:04<00:00, 33.64it/s]\n",
      "100%|██████████| 10/10 [00:00<00:00, 764.95it/s]\n"
     ]
    },
    {
     "name": "stdout",
     "output_type": "stream",
     "text": [
      "epoch 173 | tr 0.15743103167779154 | val 0.32404192388057707\n"
     ]
    },
    {
     "name": "stderr",
     "output_type": "stream",
     "text": [
      "100%|██████████| 139/139 [00:04<00:00, 33.59it/s]\n",
      "100%|██████████| 10/10 [00:00<00:00, 766.00it/s]\n"
     ]
    },
    {
     "name": "stdout",
     "output_type": "stream",
     "text": [
      "epoch 174 | tr 0.15607564730181112 | val 0.3136086016893387\n"
     ]
    },
    {
     "name": "stderr",
     "output_type": "stream",
     "text": [
      "100%|██████████| 139/139 [00:04<00:00, 33.61it/s]\n",
      "100%|██████████| 10/10 [00:00<00:00, 758.13it/s]\n"
     ]
    },
    {
     "name": "stdout",
     "output_type": "stream",
     "text": [
      "epoch 175 | tr 0.15275188953542024 | val 0.311580753326416\n"
     ]
    },
    {
     "name": "stderr",
     "output_type": "stream",
     "text": [
      "100%|██████████| 139/139 [00:04<00:00, 33.62it/s]\n",
      "100%|██████████| 10/10 [00:00<00:00, 760.49it/s]\n"
     ]
    },
    {
     "name": "stdout",
     "output_type": "stream",
     "text": [
      "epoch 176 | tr 0.15188315869878521 | val 0.3157477229833603\n"
     ]
    },
    {
     "name": "stderr",
     "output_type": "stream",
     "text": [
      "100%|██████████| 139/139 [00:04<00:00, 33.62it/s]\n",
      "100%|██████████| 10/10 [00:00<00:00, 752.49it/s]\n"
     ]
    },
    {
     "name": "stdout",
     "output_type": "stream",
     "text": [
      "epoch 177 | tr 0.14900567838185125 | val 0.31328860223293303\n"
     ]
    },
    {
     "name": "stderr",
     "output_type": "stream",
     "text": [
      "100%|██████████| 139/139 [00:04<00:00, 33.62it/s]\n",
      "100%|██████████| 10/10 [00:00<00:00, 752.52it/s]\n"
     ]
    },
    {
     "name": "stdout",
     "output_type": "stream",
     "text": [
      "epoch 178 | tr 0.15483996239926318 | val 0.3112043827772141\n"
     ]
    },
    {
     "name": "stderr",
     "output_type": "stream",
     "text": [
      "100%|██████████| 139/139 [00:04<00:00, 33.63it/s]\n",
      "100%|██████████| 10/10 [00:00<00:00, 747.18it/s]\n"
     ]
    },
    {
     "name": "stdout",
     "output_type": "stream",
     "text": [
      "epoch 179 | tr 0.15534495551594726 | val 0.31774559020996096\n"
     ]
    },
    {
     "name": "stderr",
     "output_type": "stream",
     "text": [
      "100%|██████████| 139/139 [00:04<00:00, 33.66it/s]\n",
      "100%|██████████| 10/10 [00:00<00:00, 767.64it/s]\n"
     ]
    },
    {
     "name": "stdout",
     "output_type": "stream",
     "text": [
      "epoch 180 | tr 0.15513423932113235 | val 0.3249187797307968\n"
     ]
    },
    {
     "name": "stderr",
     "output_type": "stream",
     "text": [
      "100%|██████████| 139/139 [00:04<00:00, 33.60it/s]\n",
      "100%|██████████| 10/10 [00:00<00:00, 753.41it/s]\n"
     ]
    },
    {
     "name": "stdout",
     "output_type": "stream",
     "text": [
      "epoch 181 | tr 0.1567514085297962 | val 0.3236036360263824\n"
     ]
    },
    {
     "name": "stderr",
     "output_type": "stream",
     "text": [
      "100%|██████████| 139/139 [00:04<00:00, 33.63it/s]\n",
      "100%|██████████| 10/10 [00:00<00:00, 763.53it/s]\n"
     ]
    },
    {
     "name": "stdout",
     "output_type": "stream",
     "text": [
      "epoch 182 | tr 0.15956188593622592 | val 0.32872618138790133\n"
     ]
    },
    {
     "name": "stderr",
     "output_type": "stream",
     "text": [
      "100%|██████████| 139/139 [00:04<00:00, 33.63it/s]\n",
      "100%|██████████| 10/10 [00:00<00:00, 766.03it/s]\n"
     ]
    },
    {
     "name": "stdout",
     "output_type": "stream",
     "text": [
      "epoch 183 | tr 0.1593394606983919 | val 0.3275903970003128\n"
     ]
    },
    {
     "name": "stderr",
     "output_type": "stream",
     "text": [
      "100%|██████████| 139/139 [00:04<00:00, 33.64it/s]\n",
      "100%|██████████| 10/10 [00:00<00:00, 764.80it/s]\n"
     ]
    },
    {
     "name": "stdout",
     "output_type": "stream",
     "text": [
      "epoch 184 | tr 0.1568783427313935 | val 0.3262942999601364\n"
     ]
    },
    {
     "name": "stderr",
     "output_type": "stream",
     "text": [
      "100%|██████████| 139/139 [00:04<00:00, 33.61it/s]\n",
      "100%|██████████| 10/10 [00:00<00:00, 761.84it/s]\n"
     ]
    },
    {
     "name": "stdout",
     "output_type": "stream",
     "text": [
      "epoch 185 | tr 0.1505814225232001 | val 0.30997552871704104\n"
     ]
    },
    {
     "name": "stderr",
     "output_type": "stream",
     "text": [
      "100%|██████████| 139/139 [00:04<00:00, 33.62it/s]\n",
      "100%|██████████| 10/10 [00:00<00:00, 763.17it/s]\n"
     ]
    },
    {
     "name": "stdout",
     "output_type": "stream",
     "text": [
      "epoch 186 | tr 0.14926413328741953 | val 0.3419854313135147\n"
     ]
    },
    {
     "name": "stderr",
     "output_type": "stream",
     "text": [
      "100%|██████████| 139/139 [00:04<00:00, 33.59it/s]\n",
      "100%|██████████| 10/10 [00:00<00:00, 757.71it/s]\n"
     ]
    },
    {
     "name": "stdout",
     "output_type": "stream",
     "text": [
      "epoch 187 | tr 0.1510441868210868 | val 0.32017464339733126\n"
     ]
    },
    {
     "name": "stderr",
     "output_type": "stream",
     "text": [
      "100%|██████████| 139/139 [00:04<00:00, 33.63it/s]\n",
      "100%|██████████| 10/10 [00:00<00:00, 766.43it/s]\n"
     ]
    },
    {
     "name": "stdout",
     "output_type": "stream",
     "text": [
      "epoch 188 | tr 0.14781192154121056 | val 0.3347804069519043\n"
     ]
    },
    {
     "name": "stderr",
     "output_type": "stream",
     "text": [
      "100%|██████████| 139/139 [00:04<00:00, 33.63it/s]\n",
      "100%|██████████| 10/10 [00:00<00:00, 704.04it/s]\n"
     ]
    },
    {
     "name": "stdout",
     "output_type": "stream",
     "text": [
      "epoch 189 | tr 0.14665324991341117 | val 0.324047377705574\n"
     ]
    },
    {
     "name": "stderr",
     "output_type": "stream",
     "text": [
      "100%|██████████| 139/139 [00:04<00:00, 33.65it/s]\n",
      "100%|██████████| 10/10 [00:00<00:00, 763.50it/s]\n"
     ]
    },
    {
     "name": "stdout",
     "output_type": "stream",
     "text": [
      "epoch 190 | tr 0.1474793695395799 | val 0.3265973001718521\n"
     ]
    },
    {
     "name": "stderr",
     "output_type": "stream",
     "text": [
      "100%|██████████| 139/139 [00:04<00:00, 33.64it/s]\n",
      "100%|██████████| 10/10 [00:00<00:00, 765.80it/s]\n"
     ]
    },
    {
     "name": "stdout",
     "output_type": "stream",
     "text": [
      "epoch 191 | tr 0.15377576649188995 | val 0.31724923849105835\n"
     ]
    },
    {
     "name": "stderr",
     "output_type": "stream",
     "text": [
      "100%|██████████| 139/139 [00:04<00:00, 33.63it/s]\n",
      "100%|██████████| 10/10 [00:00<00:00, 763.59it/s]\n"
     ]
    },
    {
     "name": "stdout",
     "output_type": "stream",
     "text": [
      "epoch 192 | tr 0.15155276018295358 | val 0.33812324404716493\n"
     ]
    },
    {
     "name": "stderr",
     "output_type": "stream",
     "text": [
      "100%|██████████| 139/139 [00:04<00:00, 33.62it/s]\n",
      "100%|██████████| 10/10 [00:00<00:00, 758.61it/s]\n"
     ]
    },
    {
     "name": "stdout",
     "output_type": "stream",
     "text": [
      "epoch 193 | tr 0.15145938511160636 | val 0.3240489214658737\n"
     ]
    },
    {
     "name": "stderr",
     "output_type": "stream",
     "text": [
      "100%|██████████| 139/139 [00:04<00:00, 33.62it/s]\n",
      "100%|██████████| 10/10 [00:00<00:00, 753.37it/s]\n"
     ]
    },
    {
     "name": "stdout",
     "output_type": "stream",
     "text": [
      "epoch 194 | tr 0.14728670374309416 | val 0.317399862408638\n"
     ]
    },
    {
     "name": "stderr",
     "output_type": "stream",
     "text": [
      "100%|██████████| 139/139 [00:04<00:00, 33.61it/s]\n",
      "100%|██████████| 10/10 [00:00<00:00, 763.46it/s]\n"
     ]
    },
    {
     "name": "stdout",
     "output_type": "stream",
     "text": [
      "epoch 195 | tr 0.15041200955994696 | val 0.3214731693267822\n"
     ]
    },
    {
     "name": "stderr",
     "output_type": "stream",
     "text": [
      "100%|██████████| 139/139 [00:04<00:00, 33.62it/s]\n",
      "100%|██████████| 10/10 [00:00<00:00, 757.96it/s]\n"
     ]
    },
    {
     "name": "stdout",
     "output_type": "stream",
     "text": [
      "epoch 196 | tr 0.15304106061192727 | val 0.33375799357891084\n"
     ]
    },
    {
     "name": "stderr",
     "output_type": "stream",
     "text": [
      "100%|██████████| 139/139 [00:04<00:00, 33.62it/s]\n",
      "100%|██████████| 10/10 [00:00<00:00, 752.99it/s]\n"
     ]
    },
    {
     "name": "stdout",
     "output_type": "stream",
     "text": [
      "epoch 197 | tr 0.15027952204934128 | val 0.3317644089460373\n"
     ]
    },
    {
     "name": "stderr",
     "output_type": "stream",
     "text": [
      "100%|██████████| 139/139 [00:04<00:00, 33.61it/s]\n",
      "100%|██████████| 10/10 [00:00<00:00, 763.13it/s]\n"
     ]
    },
    {
     "name": "stdout",
     "output_type": "stream",
     "text": [
      "epoch 198 | tr 0.14480987142959087 | val 0.3185988813638687\n"
     ]
    },
    {
     "name": "stderr",
     "output_type": "stream",
     "text": [
      "100%|██████████| 139/139 [00:04<00:00, 33.62it/s]\n",
      "100%|██████████| 10/10 [00:00<00:00, 764.03it/s]\n"
     ]
    },
    {
     "name": "stdout",
     "output_type": "stream",
     "text": [
      "epoch 199 | tr 0.14156291012069305 | val 0.3238462656736374\n"
     ]
    },
    {
     "name": "stderr",
     "output_type": "stream",
     "text": [
      "100%|██████████| 139/139 [00:04<00:00, 33.61it/s]\n",
      "100%|██████████| 10/10 [00:00<00:00, 761.73it/s]\n"
     ]
    },
    {
     "name": "stdout",
     "output_type": "stream",
     "text": [
      "epoch 200 | tr 0.14670227317930126 | val 0.3152292013168335\n"
     ]
    },
    {
     "name": "stderr",
     "output_type": "stream",
     "text": [
      "100%|██████████| 139/139 [00:04<00:00, 33.62it/s]\n",
      "100%|██████████| 10/10 [00:00<00:00, 757.63it/s]\n"
     ]
    },
    {
     "name": "stdout",
     "output_type": "stream",
     "text": [
      "epoch 201 | tr 0.1521709814882107 | val 0.3141728162765503\n"
     ]
    },
    {
     "name": "stderr",
     "output_type": "stream",
     "text": [
      "100%|██████████| 139/139 [00:04<00:00, 33.60it/s]\n",
      "100%|██████████| 10/10 [00:00<00:00, 761.85it/s]\n"
     ]
    },
    {
     "name": "stdout",
     "output_type": "stream",
     "text": [
      "epoch 202 | tr 0.1531343587118087 | val 0.3181846112012863\n"
     ]
    },
    {
     "name": "stderr",
     "output_type": "stream",
     "text": [
      "100%|██████████| 139/139 [00:04<00:00, 33.65it/s]\n",
      "100%|██████████| 10/10 [00:00<00:00, 763.42it/s]\n"
     ]
    },
    {
     "name": "stdout",
     "output_type": "stream",
     "text": [
      "epoch 203 | tr 0.1444663765619127 | val 0.3195459395647049\n"
     ]
    },
    {
     "name": "stderr",
     "output_type": "stream",
     "text": [
      "100%|██████████| 139/139 [00:04<00:00, 33.61it/s]\n",
      "100%|██████████| 10/10 [00:00<00:00, 760.65it/s]\n"
     ]
    },
    {
     "name": "stdout",
     "output_type": "stream",
     "text": [
      "epoch 204 | tr 0.14675818346172786 | val 0.3221837878227234\n"
     ]
    },
    {
     "name": "stderr",
     "output_type": "stream",
     "text": [
      "100%|██████████| 139/139 [00:04<00:00, 33.60it/s]\n",
      "100%|██████████| 10/10 [00:00<00:00, 758.55it/s]\n"
     ]
    },
    {
     "name": "stdout",
     "output_type": "stream",
     "text": [
      "epoch 205 | tr 0.15062980359192374 | val 0.33021411299705505\n"
     ]
    },
    {
     "name": "stderr",
     "output_type": "stream",
     "text": [
      "100%|██████████| 139/139 [00:04<00:00, 33.65it/s]\n",
      "100%|██████████| 10/10 [00:00<00:00, 763.42it/s]\n"
     ]
    },
    {
     "name": "stdout",
     "output_type": "stream",
     "text": [
      "epoch 206 | tr 0.14479825002469604 | val 0.31762353628873824\n"
     ]
    },
    {
     "name": "stderr",
     "output_type": "stream",
     "text": [
      "100%|██████████| 139/139 [00:04<00:00, 33.59it/s]\n",
      "100%|██████████| 10/10 [00:00<00:00, 754.60it/s]\n"
     ]
    },
    {
     "name": "stdout",
     "output_type": "stream",
     "text": [
      "epoch 207 | tr 0.150037793322004 | val 0.31582294702529906\n"
     ]
    },
    {
     "name": "stderr",
     "output_type": "stream",
     "text": [
      "100%|██████████| 139/139 [00:04<00:00, 33.62it/s]\n",
      "100%|██████████| 10/10 [00:00<00:00, 746.60it/s]\n"
     ]
    },
    {
     "name": "stdout",
     "output_type": "stream",
     "text": [
      "epoch 208 | tr 0.14680669499601393 | val 0.3231975495815277\n"
     ]
    },
    {
     "name": "stderr",
     "output_type": "stream",
     "text": [
      "100%|██████████| 139/139 [00:04<00:00, 33.58it/s]\n",
      "100%|██████████| 10/10 [00:00<00:00, 760.57it/s]\n"
     ]
    },
    {
     "name": "stdout",
     "output_type": "stream",
     "text": [
      "epoch 209 | tr 0.14710812608329513 | val 0.31525296717882156\n"
     ]
    },
    {
     "name": "stderr",
     "output_type": "stream",
     "text": [
      "100%|██████████| 139/139 [00:04<00:00, 33.64it/s]\n",
      "100%|██████████| 10/10 [00:00<00:00, 759.99it/s]\n"
     ]
    },
    {
     "name": "stdout",
     "output_type": "stream",
     "text": [
      "epoch 210 | tr 0.14714512416570308 | val 0.31617760956287383\n"
     ]
    },
    {
     "name": "stderr",
     "output_type": "stream",
     "text": [
      "100%|██████████| 139/139 [00:04<00:00, 33.61it/s]\n",
      "100%|██████████| 10/10 [00:00<00:00, 761.92it/s]\n"
     ]
    },
    {
     "name": "stdout",
     "output_type": "stream",
     "text": [
      "epoch 211 | tr 0.14697454633901444 | val 0.3245681345462799\n"
     ]
    },
    {
     "name": "stderr",
     "output_type": "stream",
     "text": [
      "100%|██████████| 139/139 [00:04<00:00, 33.60it/s]\n",
      "100%|██████████| 10/10 [00:00<00:00, 762.06it/s]\n"
     ]
    },
    {
     "name": "stdout",
     "output_type": "stream",
     "text": [
      "epoch 212 | tr 0.14695578025613756 | val 0.3294354885816574\n"
     ]
    },
    {
     "name": "stderr",
     "output_type": "stream",
     "text": [
      "100%|██████████| 139/139 [00:04<00:00, 33.59it/s]\n",
      "100%|██████████| 10/10 [00:00<00:00, 758.83it/s]\n"
     ]
    },
    {
     "name": "stdout",
     "output_type": "stream",
     "text": [
      "epoch 213 | tr 0.14098863652069793 | val 0.31542299389839173\n"
     ]
    },
    {
     "name": "stderr",
     "output_type": "stream",
     "text": [
      "100%|██████████| 139/139 [00:04<00:00, 33.57it/s]\n",
      "100%|██████████| 10/10 [00:00<00:00, 761.52it/s]\n"
     ]
    },
    {
     "name": "stdout",
     "output_type": "stream",
     "text": [
      "epoch 214 | tr 0.14556237047524762 | val 0.32632988393306733\n"
     ]
    },
    {
     "name": "stderr",
     "output_type": "stream",
     "text": [
      "100%|██████████| 139/139 [00:04<00:00, 33.61it/s]\n",
      "100%|██████████| 10/10 [00:00<00:00, 750.09it/s]\n"
     ]
    },
    {
     "name": "stdout",
     "output_type": "stream",
     "text": [
      "epoch 215 | tr 0.15205317301501473 | val 0.32709389328956606\n"
     ]
    },
    {
     "name": "stderr",
     "output_type": "stream",
     "text": [
      "100%|██████████| 139/139 [00:04<00:00, 33.63it/s]\n",
      "100%|██████████| 10/10 [00:00<00:00, 752.31it/s]\n"
     ]
    },
    {
     "name": "stdout",
     "output_type": "stream",
     "text": [
      "epoch 216 | tr 0.14720160481955508 | val 0.3093073397874832\n"
     ]
    },
    {
     "name": "stderr",
     "output_type": "stream",
     "text": [
      "100%|██████████| 139/139 [00:04<00:00, 33.61it/s]\n",
      "100%|██████████| 10/10 [00:00<00:00, 761.24it/s]\n"
     ]
    },
    {
     "name": "stdout",
     "output_type": "stream",
     "text": [
      "epoch 217 | tr 0.14362532640103814 | val 0.31523859351873396\n"
     ]
    },
    {
     "name": "stderr",
     "output_type": "stream",
     "text": [
      "100%|██████████| 139/139 [00:04<00:00, 33.62it/s]\n",
      "100%|██████████| 10/10 [00:00<00:00, 764.35it/s]\n"
     ]
    },
    {
     "name": "stdout",
     "output_type": "stream",
     "text": [
      "epoch 218 | tr 0.13954448565947924 | val 0.3139543175697327\n"
     ]
    },
    {
     "name": "stderr",
     "output_type": "stream",
     "text": [
      "100%|██████████| 139/139 [00:04<00:00, 33.63it/s]\n",
      "100%|██████████| 10/10 [00:00<00:00, 763.68it/s]\n"
     ]
    },
    {
     "name": "stdout",
     "output_type": "stream",
     "text": [
      "epoch 219 | tr 0.14267162469436798 | val 0.31578887701034547\n"
     ]
    },
    {
     "name": "stderr",
     "output_type": "stream",
     "text": [
      "100%|██████████| 139/139 [00:04<00:00, 33.63it/s]\n",
      "100%|██████████| 10/10 [00:00<00:00, 762.23it/s]\n"
     ]
    },
    {
     "name": "stdout",
     "output_type": "stream",
     "text": [
      "epoch 220 | tr 0.14217748884245646 | val 0.32834347486495974\n"
     ]
    },
    {
     "name": "stderr",
     "output_type": "stream",
     "text": [
      "100%|██████████| 139/139 [00:04<00:00, 33.62it/s]\n",
      "100%|██████████| 10/10 [00:00<00:00, 766.67it/s]\n"
     ]
    },
    {
     "name": "stdout",
     "output_type": "stream",
     "text": [
      "epoch 221 | tr 0.15619907169033298 | val 0.31525352895259856\n"
     ]
    },
    {
     "name": "stderr",
     "output_type": "stream",
     "text": [
      "100%|██████████| 139/139 [00:04<00:00, 33.59it/s]\n",
      "100%|██████████| 10/10 [00:00<00:00, 766.17it/s]\n"
     ]
    },
    {
     "name": "stdout",
     "output_type": "stream",
     "text": [
      "epoch 222 | tr 0.15052831859039745 | val 0.3218214392662048\n"
     ]
    },
    {
     "name": "stderr",
     "output_type": "stream",
     "text": [
      "100%|██████████| 139/139 [00:04<00:00, 33.59it/s]\n",
      "100%|██████████| 10/10 [00:00<00:00, 747.33it/s]\n"
     ]
    },
    {
     "name": "stdout",
     "output_type": "stream",
     "text": [
      "epoch 223 | tr 0.15237186221982077 | val 0.31826391518116\n"
     ]
    },
    {
     "name": "stderr",
     "output_type": "stream",
     "text": [
      "100%|██████████| 139/139 [00:04<00:00, 33.63it/s]\n",
      "100%|██████████| 10/10 [00:00<00:00, 736.17it/s]\n"
     ]
    },
    {
     "name": "stdout",
     "output_type": "stream",
     "text": [
      "epoch 224 | tr 0.1450744520524423 | val 0.31731190383434293\n"
     ]
    },
    {
     "name": "stderr",
     "output_type": "stream",
     "text": [
      "100%|██████████| 139/139 [00:04<00:00, 33.60it/s]\n",
      "100%|██████████| 10/10 [00:00<00:00, 767.41it/s]\n"
     ]
    },
    {
     "name": "stdout",
     "output_type": "stream",
     "text": [
      "epoch 225 | tr 0.14059096006609553 | val 0.322069326043129\n"
     ]
    },
    {
     "name": "stderr",
     "output_type": "stream",
     "text": [
      "100%|██████████| 139/139 [00:04<00:00, 33.63it/s]\n",
      "100%|██████████| 10/10 [00:00<00:00, 749.76it/s]\n"
     ]
    },
    {
     "name": "stdout",
     "output_type": "stream",
     "text": [
      "epoch 226 | tr 0.1406846909428672 | val 0.3239531010389328\n"
     ]
    },
    {
     "name": "stderr",
     "output_type": "stream",
     "text": [
      "100%|██████████| 139/139 [00:04<00:00, 33.60it/s]\n",
      "100%|██████████| 10/10 [00:00<00:00, 752.68it/s]\n"
     ]
    },
    {
     "name": "stdout",
     "output_type": "stream",
     "text": [
      "epoch 227 | tr 0.14431527160483298 | val 0.3205883055925369\n"
     ]
    },
    {
     "name": "stderr",
     "output_type": "stream",
     "text": [
      "100%|██████████| 139/139 [00:04<00:00, 33.59it/s]\n",
      "100%|██████████| 10/10 [00:00<00:00, 747.05it/s]\n"
     ]
    },
    {
     "name": "stdout",
     "output_type": "stream",
     "text": [
      "epoch 228 | tr 0.14937147155082484 | val 0.33227364122867586\n"
     ]
    },
    {
     "name": "stderr",
     "output_type": "stream",
     "text": [
      "100%|██████████| 139/139 [00:04<00:00, 33.62it/s]\n",
      "100%|██████████| 10/10 [00:00<00:00, 754.01it/s]\n"
     ]
    },
    {
     "name": "stdout",
     "output_type": "stream",
     "text": [
      "epoch 229 | tr 0.14792610458332858 | val 0.31434003114700315\n"
     ]
    },
    {
     "name": "stderr",
     "output_type": "stream",
     "text": [
      "100%|██████████| 139/139 [00:04<00:00, 33.61it/s]\n",
      "100%|██████████| 10/10 [00:00<00:00, 751.65it/s]\n"
     ]
    },
    {
     "name": "stdout",
     "output_type": "stream",
     "text": [
      "epoch 230 | tr 0.14452697690442312 | val 0.311609160900116\n"
     ]
    },
    {
     "name": "stderr",
     "output_type": "stream",
     "text": [
      "100%|██████████| 139/139 [00:04<00:00, 33.60it/s]\n",
      "100%|██████████| 10/10 [00:00<00:00, 672.55it/s]\n"
     ]
    },
    {
     "name": "stdout",
     "output_type": "stream",
     "text": [
      "epoch 231 | tr 0.14177965019032251 | val 0.3185761243104935\n"
     ]
    },
    {
     "name": "stderr",
     "output_type": "stream",
     "text": [
      "100%|██████████| 139/139 [00:04<00:00, 33.62it/s]\n",
      "100%|██████████| 10/10 [00:00<00:00, 761.51it/s]\n"
     ]
    },
    {
     "name": "stdout",
     "output_type": "stream",
     "text": [
      "epoch 232 | tr 0.14261662643804823 | val 0.3249056309461594\n"
     ]
    },
    {
     "name": "stderr",
     "output_type": "stream",
     "text": [
      "100%|██████████| 139/139 [00:04<00:00, 33.64it/s]\n",
      "100%|██████████| 10/10 [00:00<00:00, 767.74it/s]\n"
     ]
    },
    {
     "name": "stdout",
     "output_type": "stream",
     "text": [
      "epoch 233 | tr 0.14174980102039927 | val 0.32566404342651367\n"
     ]
    },
    {
     "name": "stderr",
     "output_type": "stream",
     "text": [
      "100%|██████████| 139/139 [00:04<00:00, 33.63it/s]\n",
      "100%|██████████| 10/10 [00:00<00:00, 755.19it/s]\n"
     ]
    },
    {
     "name": "stdout",
     "output_type": "stream",
     "text": [
      "epoch 234 | tr 0.13728318969122796 | val 0.33924931287765503\n"
     ]
    },
    {
     "name": "stderr",
     "output_type": "stream",
     "text": [
      "100%|██████████| 139/139 [00:04<00:00, 33.60it/s]\n",
      "100%|██████████| 10/10 [00:00<00:00, 749.65it/s]\n"
     ]
    },
    {
     "name": "stdout",
     "output_type": "stream",
     "text": [
      "epoch 235 | tr 0.13873623172156244 | val 0.32014939188957214\n"
     ]
    },
    {
     "name": "stderr",
     "output_type": "stream",
     "text": [
      "100%|██████████| 139/139 [00:04<00:00, 33.60it/s]\n",
      "100%|██████████| 10/10 [00:00<00:00, 769.75it/s]\n"
     ]
    },
    {
     "name": "stdout",
     "output_type": "stream",
     "text": [
      "epoch 236 | tr 0.1393767290299745 | val 0.3099713549017906\n"
     ]
    },
    {
     "name": "stderr",
     "output_type": "stream",
     "text": [
      "100%|██████████| 139/139 [00:04<00:00, 33.62it/s]\n",
      "100%|██████████| 10/10 [00:00<00:00, 766.66it/s]\n"
     ]
    },
    {
     "name": "stdout",
     "output_type": "stream",
     "text": [
      "epoch 237 | tr 0.13818616854201118 | val 0.3266228437423706\n"
     ]
    },
    {
     "name": "stderr",
     "output_type": "stream",
     "text": [
      "100%|██████████| 139/139 [00:04<00:00, 33.61it/s]\n",
      "100%|██████████| 10/10 [00:00<00:00, 747.59it/s]\n"
     ]
    },
    {
     "name": "stdout",
     "output_type": "stream",
     "text": [
      "epoch 238 | tr 0.14009480671488123 | val 0.31877903640270233\n"
     ]
    },
    {
     "name": "stderr",
     "output_type": "stream",
     "text": [
      "100%|██████████| 139/139 [00:04<00:00, 33.61it/s]\n",
      "100%|██████████| 10/10 [00:00<00:00, 767.04it/s]\n"
     ]
    },
    {
     "name": "stdout",
     "output_type": "stream",
     "text": [
      "epoch 239 | tr 0.13769330207606872 | val 0.31218455731868744\n"
     ]
    },
    {
     "name": "stderr",
     "output_type": "stream",
     "text": [
      "100%|██████████| 139/139 [00:04<00:00, 33.61it/s]\n",
      "100%|██████████| 10/10 [00:00<00:00, 755.25it/s]\n"
     ]
    },
    {
     "name": "stdout",
     "output_type": "stream",
     "text": [
      "epoch 240 | tr 0.14189739412755417 | val 0.3231246620416641\n"
     ]
    },
    {
     "name": "stderr",
     "output_type": "stream",
     "text": [
      "100%|██████████| 139/139 [00:04<00:00, 33.61it/s]\n",
      "100%|██████████| 10/10 [00:00<00:00, 736.39it/s]\n"
     ]
    },
    {
     "name": "stdout",
     "output_type": "stream",
     "text": [
      "epoch 241 | tr 0.14006689919842233 | val 0.33258658945560454\n"
     ]
    },
    {
     "name": "stderr",
     "output_type": "stream",
     "text": [
      "100%|██████████| 139/139 [00:04<00:00, 33.63it/s]\n",
      "100%|██████████| 10/10 [00:00<00:00, 765.12it/s]\n"
     ]
    },
    {
     "name": "stdout",
     "output_type": "stream",
     "text": [
      "epoch 242 | tr 0.14161049880140977 | val 0.31533723175525663\n"
     ]
    },
    {
     "name": "stderr",
     "output_type": "stream",
     "text": [
      "100%|██████████| 139/139 [00:04<00:00, 33.61it/s]\n",
      "100%|██████████| 10/10 [00:00<00:00, 766.36it/s]\n"
     ]
    },
    {
     "name": "stdout",
     "output_type": "stream",
     "text": [
      "epoch 243 | tr 0.14017781754620642 | val 0.31177187860012057\n"
     ]
    },
    {
     "name": "stderr",
     "output_type": "stream",
     "text": [
      "100%|██████████| 139/139 [00:04<00:00, 33.60it/s]\n",
      "100%|██████████| 10/10 [00:00<00:00, 758.60it/s]\n"
     ]
    },
    {
     "name": "stdout",
     "output_type": "stream",
     "text": [
      "epoch 244 | tr 0.13981846221488156 | val 0.3193259507417679\n"
     ]
    },
    {
     "name": "stderr",
     "output_type": "stream",
     "text": [
      "100%|██████████| 139/139 [00:04<00:00, 33.62it/s]\n",
      "100%|██████████| 10/10 [00:00<00:00, 756.75it/s]\n"
     ]
    },
    {
     "name": "stdout",
     "output_type": "stream",
     "text": [
      "epoch 245 | tr 0.1402492046677809 | val 0.3086621522903442\n"
     ]
    },
    {
     "name": "stderr",
     "output_type": "stream",
     "text": [
      "100%|██████████| 139/139 [00:04<00:00, 33.59it/s]\n",
      "100%|██████████| 10/10 [00:00<00:00, 764.55it/s]\n"
     ]
    },
    {
     "name": "stdout",
     "output_type": "stream",
     "text": [
      "epoch 246 | tr 0.14201240429132106 | val 0.33290485441684725\n"
     ]
    },
    {
     "name": "stderr",
     "output_type": "stream",
     "text": [
      "100%|██████████| 139/139 [00:04<00:00, 33.67it/s]\n",
      "100%|██████████| 10/10 [00:00<00:00, 779.48it/s]\n"
     ]
    },
    {
     "name": "stdout",
     "output_type": "stream",
     "text": [
      "epoch 247 | tr 0.14191626076646846 | val 0.3186261236667633\n"
     ]
    },
    {
     "name": "stderr",
     "output_type": "stream",
     "text": [
      "100%|██████████| 139/139 [00:04<00:00, 33.65it/s]\n",
      "100%|██████████| 10/10 [00:00<00:00, 751.37it/s]\n"
     ]
    },
    {
     "name": "stdout",
     "output_type": "stream",
     "text": [
      "epoch 248 | tr 0.14079368843449105 | val 0.3347887217998505\n"
     ]
    },
    {
     "name": "stderr",
     "output_type": "stream",
     "text": [
      "100%|██████████| 139/139 [00:04<00:00, 33.63it/s]\n",
      "100%|██████████| 10/10 [00:00<00:00, 648.40it/s]\n"
     ]
    },
    {
     "name": "stdout",
     "output_type": "stream",
     "text": [
      "epoch 249 | tr 0.1414110343233287 | val 0.31236010789871216\n"
     ]
    },
    {
     "name": "stderr",
     "output_type": "stream",
     "text": [
      "100%|██████████| 139/139 [00:04<00:00, 33.63it/s]\n",
      "100%|██████████| 10/10 [00:00<00:00, 757.89it/s]\n"
     ]
    },
    {
     "name": "stdout",
     "output_type": "stream",
     "text": [
      "epoch 250 | tr 0.13949378520893535 | val 0.326283723115921\n"
     ]
    },
    {
     "name": "stderr",
     "output_type": "stream",
     "text": [
      "100%|██████████| 139/139 [00:04<00:00, 33.61it/s]\n",
      "100%|██████████| 10/10 [00:00<00:00, 754.72it/s]\n"
     ]
    },
    {
     "name": "stdout",
     "output_type": "stream",
     "text": [
      "epoch 251 | tr 0.14197486912389454 | val 0.31879277229309083\n"
     ]
    },
    {
     "name": "stderr",
     "output_type": "stream",
     "text": [
      "100%|██████████| 139/139 [00:04<00:00, 33.59it/s]\n",
      "100%|██████████| 10/10 [00:00<00:00, 757.09it/s]\n"
     ]
    },
    {
     "name": "stdout",
     "output_type": "stream",
     "text": [
      "epoch 252 | tr 0.1385734845086825 | val 0.3196488231420517\n"
     ]
    },
    {
     "name": "stderr",
     "output_type": "stream",
     "text": [
      "100%|██████████| 139/139 [00:04<00:00, 33.61it/s]\n",
      "100%|██████████| 10/10 [00:00<00:00, 765.06it/s]\n"
     ]
    },
    {
     "name": "stdout",
     "output_type": "stream",
     "text": [
      "epoch 253 | tr 0.13557650036305832 | val 0.32018735110759733\n"
     ]
    },
    {
     "name": "stderr",
     "output_type": "stream",
     "text": [
      "100%|██████████| 139/139 [00:04<00:00, 33.62it/s]\n",
      "100%|██████████| 10/10 [00:00<00:00, 753.56it/s]\n"
     ]
    },
    {
     "name": "stdout",
     "output_type": "stream",
     "text": [
      "epoch 254 | tr 0.13694447118172542 | val 0.32303703427314756\n"
     ]
    },
    {
     "name": "stderr",
     "output_type": "stream",
     "text": [
      "100%|██████████| 139/139 [00:04<00:00, 33.61it/s]\n",
      "100%|██████████| 10/10 [00:00<00:00, 738.60it/s]\n"
     ]
    },
    {
     "name": "stdout",
     "output_type": "stream",
     "text": [
      "epoch 255 | tr 0.13981151746974574 | val 0.32974032759666444\n"
     ]
    },
    {
     "name": "stderr",
     "output_type": "stream",
     "text": [
      "100%|██████████| 139/139 [00:04<00:00, 33.62it/s]\n",
      "100%|██████████| 10/10 [00:00<00:00, 766.47it/s]\n"
     ]
    },
    {
     "name": "stdout",
     "output_type": "stream",
     "text": [
      "epoch 256 | tr 0.1352825066704544 | val 0.3183176785707474\n"
     ]
    },
    {
     "name": "stderr",
     "output_type": "stream",
     "text": [
      "100%|██████████| 139/139 [00:04<00:00, 33.60it/s]\n",
      "100%|██████████| 10/10 [00:00<00:00, 753.08it/s]\n"
     ]
    },
    {
     "name": "stdout",
     "output_type": "stream",
     "text": [
      "epoch 257 | tr 0.13973006916989525 | val 0.3264821618795395\n"
     ]
    },
    {
     "name": "stderr",
     "output_type": "stream",
     "text": [
      "100%|██████████| 139/139 [00:04<00:00, 33.62it/s]\n",
      "100%|██████████| 10/10 [00:00<00:00, 745.06it/s]\n"
     ]
    },
    {
     "name": "stdout",
     "output_type": "stream",
     "text": [
      "epoch 258 | tr 0.14111710178980724 | val 0.3157771825790405\n"
     ]
    },
    {
     "name": "stderr",
     "output_type": "stream",
     "text": [
      "100%|██████████| 139/139 [00:04<00:00, 33.61it/s]\n",
      "100%|██████████| 10/10 [00:00<00:00, 766.62it/s]\n"
     ]
    },
    {
     "name": "stdout",
     "output_type": "stream",
     "text": [
      "epoch 259 | tr 0.13888525630501533 | val 0.31763063073158265\n"
     ]
    },
    {
     "name": "stderr",
     "output_type": "stream",
     "text": [
      "100%|██████████| 139/139 [00:04<00:00, 33.61it/s]\n",
      "100%|██████████| 10/10 [00:00<00:00, 768.76it/s]\n"
     ]
    },
    {
     "name": "stdout",
     "output_type": "stream",
     "text": [
      "epoch 260 | tr 0.13773201009352432 | val 0.3236418038606644\n"
     ]
    },
    {
     "name": "stderr",
     "output_type": "stream",
     "text": [
      "100%|██████████| 139/139 [00:04<00:00, 33.62it/s]\n",
      "100%|██████████| 10/10 [00:00<00:00, 757.05it/s]\n"
     ]
    },
    {
     "name": "stdout",
     "output_type": "stream",
     "text": [
      "epoch 261 | tr 0.1426378950047836 | val 0.3195302903652191\n"
     ]
    },
    {
     "name": "stderr",
     "output_type": "stream",
     "text": [
      "100%|██████████| 139/139 [00:04<00:00, 33.63it/s]\n",
      "100%|██████████| 10/10 [00:00<00:00, 766.33it/s]\n"
     ]
    },
    {
     "name": "stdout",
     "output_type": "stream",
     "text": [
      "epoch 262 | tr 0.1423999120434411 | val 0.3233614653348923\n"
     ]
    },
    {
     "name": "stderr",
     "output_type": "stream",
     "text": [
      "100%|██████████| 139/139 [00:04<00:00, 33.60it/s]\n",
      "100%|██████████| 10/10 [00:00<00:00, 757.16it/s]\n"
     ]
    },
    {
     "name": "stdout",
     "output_type": "stream",
     "text": [
      "epoch 263 | tr 0.13988370576994025 | val 0.32530551850795747\n"
     ]
    },
    {
     "name": "stderr",
     "output_type": "stream",
     "text": [
      "100%|██████████| 139/139 [00:04<00:00, 33.62it/s]\n",
      "100%|██████████| 10/10 [00:00<00:00, 767.55it/s]\n"
     ]
    },
    {
     "name": "stdout",
     "output_type": "stream",
     "text": [
      "epoch 264 | tr 0.1362803794390006 | val 0.3138942539691925\n"
     ]
    },
    {
     "name": "stderr",
     "output_type": "stream",
     "text": [
      "100%|██████████| 139/139 [00:04<00:00, 33.63it/s]\n",
      "100%|██████████| 10/10 [00:00<00:00, 764.05it/s]\n"
     ]
    },
    {
     "name": "stdout",
     "output_type": "stream",
     "text": [
      "epoch 265 | tr 0.13206218735134 | val 0.31424769163131716\n"
     ]
    },
    {
     "name": "stderr",
     "output_type": "stream",
     "text": [
      "100%|██████████| 139/139 [00:04<00:00, 33.60it/s]\n",
      "100%|██████████| 10/10 [00:00<00:00, 758.74it/s]\n"
     ]
    },
    {
     "name": "stdout",
     "output_type": "stream",
     "text": [
      "epoch 266 | tr 0.13510229084774744 | val 0.3216286689043045\n"
     ]
    },
    {
     "name": "stderr",
     "output_type": "stream",
     "text": [
      "100%|██████████| 139/139 [00:04<00:00, 33.62it/s]\n",
      "100%|██████████| 10/10 [00:00<00:00, 761.27it/s]\n"
     ]
    },
    {
     "name": "stdout",
     "output_type": "stream",
     "text": [
      "epoch 267 | tr 0.13687899199535522 | val 0.32074220329523084\n"
     ]
    },
    {
     "name": "stderr",
     "output_type": "stream",
     "text": [
      "100%|██████████| 139/139 [00:04<00:00, 33.61it/s]\n",
      "100%|██████████| 10/10 [00:00<00:00, 760.57it/s]\n"
     ]
    },
    {
     "name": "stdout",
     "output_type": "stream",
     "text": [
      "epoch 268 | tr 0.13607549013422549 | val 0.3204768568277359\n"
     ]
    },
    {
     "name": "stderr",
     "output_type": "stream",
     "text": [
      "100%|██████████| 139/139 [00:04<00:00, 33.62it/s]\n",
      "100%|██████████| 10/10 [00:00<00:00, 763.03it/s]\n"
     ]
    },
    {
     "name": "stdout",
     "output_type": "stream",
     "text": [
      "epoch 269 | tr 0.13870019583607748 | val 0.3181479960680008\n"
     ]
    },
    {
     "name": "stderr",
     "output_type": "stream",
     "text": [
      "100%|██████████| 139/139 [00:04<00:00, 33.62it/s]\n",
      "100%|██████████| 10/10 [00:00<00:00, 769.94it/s]\n"
     ]
    },
    {
     "name": "stdout",
     "output_type": "stream",
     "text": [
      "epoch 270 | tr 0.13498604056432092 | val 0.3115687370300293\n"
     ]
    },
    {
     "name": "stderr",
     "output_type": "stream",
     "text": [
      "100%|██████████| 139/139 [00:04<00:00, 33.63it/s]\n",
      "100%|██████████| 10/10 [00:00<00:00, 764.74it/s]\n"
     ]
    },
    {
     "name": "stdout",
     "output_type": "stream",
     "text": [
      "epoch 271 | tr 0.13558151358537537 | val 0.3215828388929367\n"
     ]
    },
    {
     "name": "stderr",
     "output_type": "stream",
     "text": [
      "100%|██████████| 139/139 [00:04<00:00, 33.64it/s]\n",
      "100%|██████████| 10/10 [00:00<00:00, 768.26it/s]\n"
     ]
    },
    {
     "name": "stdout",
     "output_type": "stream",
     "text": [
      "epoch 272 | tr 0.13240027122145934 | val 0.3119936645030975\n"
     ]
    },
    {
     "name": "stderr",
     "output_type": "stream",
     "text": [
      "100%|██████████| 139/139 [00:04<00:00, 33.62it/s]\n",
      "100%|██████████| 10/10 [00:00<00:00, 766.74it/s]\n"
     ]
    },
    {
     "name": "stdout",
     "output_type": "stream",
     "text": [
      "epoch 273 | tr 0.13783260129338545 | val 0.31715368926525117\n"
     ]
    },
    {
     "name": "stderr",
     "output_type": "stream",
     "text": [
      "100%|██████████| 139/139 [00:04<00:00, 33.63it/s]\n",
      "100%|██████████| 10/10 [00:00<00:00, 769.87it/s]\n"
     ]
    },
    {
     "name": "stdout",
     "output_type": "stream",
     "text": [
      "epoch 274 | tr 0.13796306256767657 | val 0.3186077892780304\n"
     ]
    },
    {
     "name": "stderr",
     "output_type": "stream",
     "text": [
      "100%|██████████| 139/139 [00:04<00:00, 33.64it/s]\n",
      "100%|██████████| 10/10 [00:00<00:00, 764.64it/s]\n"
     ]
    },
    {
     "name": "stdout",
     "output_type": "stream",
     "text": [
      "epoch 275 | tr 0.13472398552748796 | val 0.32188925743103025\n"
     ]
    },
    {
     "name": "stderr",
     "output_type": "stream",
     "text": [
      "100%|██████████| 139/139 [00:04<00:00, 33.64it/s]\n",
      "100%|██████████| 10/10 [00:00<00:00, 770.01it/s]\n"
     ]
    },
    {
     "name": "stdout",
     "output_type": "stream",
     "text": [
      "epoch 276 | tr 0.13435671130101456 | val 0.3228010803461075\n"
     ]
    },
    {
     "name": "stderr",
     "output_type": "stream",
     "text": [
      "100%|██████████| 139/139 [00:04<00:00, 33.63it/s]\n",
      "100%|██████████| 10/10 [00:00<00:00, 757.35it/s]\n"
     ]
    },
    {
     "name": "stdout",
     "output_type": "stream",
     "text": [
      "epoch 277 | tr 0.1336299330532122 | val 0.32161290645599366\n"
     ]
    },
    {
     "name": "stderr",
     "output_type": "stream",
     "text": [
      "100%|██████████| 139/139 [00:04<00:00, 33.61it/s]\n",
      "100%|██████████| 10/10 [00:00<00:00, 757.08it/s]\n"
     ]
    },
    {
     "name": "stdout",
     "output_type": "stream",
     "text": [
      "epoch 278 | tr 0.13483875732627704 | val 0.3195620238780975\n"
     ]
    },
    {
     "name": "stderr",
     "output_type": "stream",
     "text": [
      "100%|██████████| 139/139 [00:04<00:00, 33.59it/s]\n",
      "100%|██████████| 10/10 [00:00<00:00, 761.55it/s]\n"
     ]
    },
    {
     "name": "stdout",
     "output_type": "stream",
     "text": [
      "epoch 279 | tr 0.13812266333068876 | val 0.32672778964042665\n"
     ]
    },
    {
     "name": "stderr",
     "output_type": "stream",
     "text": [
      "100%|██████████| 139/139 [00:04<00:00, 33.59it/s]\n",
      "100%|██████████| 10/10 [00:00<00:00, 762.20it/s]\n"
     ]
    },
    {
     "name": "stdout",
     "output_type": "stream",
     "text": [
      "epoch 280 | tr 0.1320019338092358 | val 0.3255660206079483\n"
     ]
    },
    {
     "name": "stderr",
     "output_type": "stream",
     "text": [
      "100%|██████████| 139/139 [00:04<00:00, 33.64it/s]\n",
      "100%|██████████| 10/10 [00:00<00:00, 765.80it/s]\n"
     ]
    },
    {
     "name": "stdout",
     "output_type": "stream",
     "text": [
      "epoch 281 | tr 0.1349264522679418 | val 0.32322433292865754\n"
     ]
    },
    {
     "name": "stderr",
     "output_type": "stream",
     "text": [
      "100%|██████████| 139/139 [00:04<00:00, 33.62it/s]\n",
      "100%|██████████| 10/10 [00:00<00:00, 754.90it/s]\n"
     ]
    },
    {
     "name": "stdout",
     "output_type": "stream",
     "text": [
      "epoch 282 | tr 0.13846163885842125 | val 0.31596886515617373\n"
     ]
    },
    {
     "name": "stderr",
     "output_type": "stream",
     "text": [
      "100%|██████████| 139/139 [00:04<00:00, 33.63it/s]\n",
      "100%|██████████| 10/10 [00:00<00:00, 764.38it/s]\n"
     ]
    },
    {
     "name": "stdout",
     "output_type": "stream",
     "text": [
      "epoch 283 | tr 0.13797349520295643 | val 0.3212949424982071\n"
     ]
    },
    {
     "name": "stderr",
     "output_type": "stream",
     "text": [
      "100%|██████████| 139/139 [00:04<00:00, 33.64it/s]\n",
      "100%|██████████| 10/10 [00:00<00:00, 765.31it/s]\n"
     ]
    },
    {
     "name": "stdout",
     "output_type": "stream",
     "text": [
      "epoch 284 | tr 0.1374398396491147 | val 0.3237941741943359\n"
     ]
    },
    {
     "name": "stderr",
     "output_type": "stream",
     "text": [
      "100%|██████████| 139/139 [00:04<00:00, 33.62it/s]\n",
      "100%|██████████| 10/10 [00:00<00:00, 757.37it/s]\n"
     ]
    },
    {
     "name": "stdout",
     "output_type": "stream",
     "text": [
      "epoch 285 | tr 0.13378864692912684 | val 0.3228325992822647\n"
     ]
    },
    {
     "name": "stderr",
     "output_type": "stream",
     "text": [
      "100%|██████████| 139/139 [00:04<00:00, 33.62it/s]\n",
      "100%|██████████| 10/10 [00:00<00:00, 735.37it/s]\n"
     ]
    },
    {
     "name": "stdout",
     "output_type": "stream",
     "text": [
      "epoch 286 | tr 0.13467828371970775 | val 0.3289759233593941\n"
     ]
    },
    {
     "name": "stderr",
     "output_type": "stream",
     "text": [
      "100%|██████████| 139/139 [00:04<00:00, 33.64it/s]\n",
      "100%|██████████| 10/10 [00:00<00:00, 768.57it/s]\n"
     ]
    },
    {
     "name": "stdout",
     "output_type": "stream",
     "text": [
      "epoch 287 | tr 0.1357672047808016 | val 0.31968663036823275\n"
     ]
    },
    {
     "name": "stderr",
     "output_type": "stream",
     "text": [
      "100%|██████████| 139/139 [00:04<00:00, 33.61it/s]\n",
      "100%|██████████| 10/10 [00:00<00:00, 754.36it/s]\n"
     ]
    },
    {
     "name": "stdout",
     "output_type": "stream",
     "text": [
      "epoch 288 | tr 0.13893717661392774 | val 0.3198554992675781\n"
     ]
    },
    {
     "name": "stderr",
     "output_type": "stream",
     "text": [
      "100%|██████████| 139/139 [00:04<00:00, 33.63it/s]\n",
      "100%|██████████| 10/10 [00:00<00:00, 754.67it/s]\n"
     ]
    },
    {
     "name": "stdout",
     "output_type": "stream",
     "text": [
      "epoch 289 | tr 0.13542680378011662 | val 0.3175499826669693\n"
     ]
    },
    {
     "name": "stderr",
     "output_type": "stream",
     "text": [
      "100%|██████████| 139/139 [00:04<00:00, 33.62it/s]\n",
      "100%|██████████| 10/10 [00:00<00:00, 767.89it/s]\n"
     ]
    },
    {
     "name": "stdout",
     "output_type": "stream",
     "text": [
      "epoch 290 | tr 0.1339286456433989 | val 0.32398271560668945\n"
     ]
    },
    {
     "name": "stderr",
     "output_type": "stream",
     "text": [
      "100%|██████████| 139/139 [00:04<00:00, 33.65it/s]\n",
      "100%|██████████| 10/10 [00:00<00:00, 754.68it/s]\n"
     ]
    },
    {
     "name": "stdout",
     "output_type": "stream",
     "text": [
      "epoch 291 | tr 0.13807246421309685 | val 0.3221352189779282\n"
     ]
    },
    {
     "name": "stderr",
     "output_type": "stream",
     "text": [
      "100%|██████████| 139/139 [00:04<00:00, 33.59it/s]\n",
      "100%|██████████| 10/10 [00:00<00:00, 757.60it/s]\n"
     ]
    },
    {
     "name": "stdout",
     "output_type": "stream",
     "text": [
      "epoch 292 | tr 0.12861832016877991 | val 0.3162169247865677\n"
     ]
    },
    {
     "name": "stderr",
     "output_type": "stream",
     "text": [
      "100%|██████████| 139/139 [00:04<00:00, 33.60it/s]\n",
      "100%|██████████| 10/10 [00:00<00:00, 765.72it/s]\n"
     ]
    },
    {
     "name": "stdout",
     "output_type": "stream",
     "text": [
      "epoch 293 | tr 0.1312961056292486 | val 0.32763558626174927\n"
     ]
    },
    {
     "name": "stderr",
     "output_type": "stream",
     "text": [
      "100%|██████████| 139/139 [00:04<00:00, 33.60it/s]\n",
      "100%|██████████| 10/10 [00:00<00:00, 767.41it/s]\n"
     ]
    },
    {
     "name": "stdout",
     "output_type": "stream",
     "text": [
      "epoch 294 | tr 0.13640491969937044 | val 0.3241056829690933\n"
     ]
    },
    {
     "name": "stderr",
     "output_type": "stream",
     "text": [
      "100%|██████████| 139/139 [00:04<00:00, 33.62it/s]\n",
      "100%|██████████| 10/10 [00:00<00:00, 762.89it/s]\n"
     ]
    },
    {
     "name": "stdout",
     "output_type": "stream",
     "text": [
      "epoch 295 | tr 0.13042929259349975 | val 0.32121927440166476\n"
     ]
    },
    {
     "name": "stderr",
     "output_type": "stream",
     "text": [
      "100%|██████████| 139/139 [00:04<00:00, 33.62it/s]\n",
      "100%|██████████| 10/10 [00:00<00:00, 761.05it/s]\n"
     ]
    },
    {
     "name": "stdout",
     "output_type": "stream",
     "text": [
      "epoch 296 | tr 0.1320782480694407 | val 0.32250626385211945\n"
     ]
    },
    {
     "name": "stderr",
     "output_type": "stream",
     "text": [
      "100%|██████████| 139/139 [00:04<00:00, 33.57it/s]\n",
      "100%|██████████| 10/10 [00:00<00:00, 760.20it/s]\n"
     ]
    },
    {
     "name": "stdout",
     "output_type": "stream",
     "text": [
      "epoch 297 | tr 0.12654756207903511 | val 0.32165985703468325\n"
     ]
    },
    {
     "name": "stderr",
     "output_type": "stream",
     "text": [
      "100%|██████████| 139/139 [00:04<00:00, 33.60it/s]\n",
      "100%|██████████| 10/10 [00:00<00:00, 764.76it/s]\n"
     ]
    },
    {
     "name": "stdout",
     "output_type": "stream",
     "text": [
      "epoch 298 | tr 0.12697671616463352 | val 0.3266040623188019\n"
     ]
    },
    {
     "name": "stderr",
     "output_type": "stream",
     "text": [
      "100%|██████████| 139/139 [00:04<00:00, 33.61it/s]\n",
      "100%|██████████| 10/10 [00:00<00:00, 762.60it/s]\n"
     ]
    },
    {
     "name": "stdout",
     "output_type": "stream",
     "text": [
      "epoch 299 | tr 0.14027771777171882 | val 0.33186618983745575\n"
     ]
    },
    {
     "name": "stderr",
     "output_type": "stream",
     "text": [
      "100%|██████████| 139/139 [00:04<00:00, 33.61it/s]\n",
      "100%|██████████| 10/10 [00:00<00:00, 665.18it/s]\n"
     ]
    },
    {
     "name": "stdout",
     "output_type": "stream",
     "text": [
      "epoch 300 | tr 0.14256041030660807 | val 0.32024884074926374\n"
     ]
    },
    {
     "name": "stderr",
     "output_type": "stream",
     "text": [
      "100%|██████████| 139/139 [00:04<00:00, 33.60it/s]\n",
      "100%|██████████| 10/10 [00:00<00:00, 749.22it/s]\n"
     ]
    },
    {
     "name": "stdout",
     "output_type": "stream",
     "text": [
      "epoch 301 | tr 0.1372716722192524 | val 0.31829063445329664\n"
     ]
    },
    {
     "name": "stderr",
     "output_type": "stream",
     "text": [
      "100%|██████████| 139/139 [00:04<00:00, 33.62it/s]\n",
      "100%|██████████| 10/10 [00:00<00:00, 762.81it/s]\n"
     ]
    },
    {
     "name": "stdout",
     "output_type": "stream",
     "text": [
      "epoch 302 | tr 0.13443658624192795 | val 0.31973184943199157\n"
     ]
    },
    {
     "name": "stderr",
     "output_type": "stream",
     "text": [
      "100%|██████████| 139/139 [00:04<00:00, 33.63it/s]\n",
      "100%|██████████| 10/10 [00:00<00:00, 766.50it/s]\n"
     ]
    },
    {
     "name": "stdout",
     "output_type": "stream",
     "text": [
      "epoch 303 | tr 0.13228493006966954 | val 0.3202237129211426\n"
     ]
    },
    {
     "name": "stderr",
     "output_type": "stream",
     "text": [
      "100%|██████████| 139/139 [00:04<00:00, 33.63it/s]\n",
      "100%|██████████| 10/10 [00:00<00:00, 758.81it/s]\n"
     ]
    },
    {
     "name": "stdout",
     "output_type": "stream",
     "text": [
      "epoch 304 | tr 0.12859542035370422 | val 0.3253708928823471\n"
     ]
    },
    {
     "name": "stderr",
     "output_type": "stream",
     "text": [
      "100%|██████████| 139/139 [00:04<00:00, 33.62it/s]\n",
      "100%|██████████| 10/10 [00:00<00:00, 766.88it/s]\n"
     ]
    },
    {
     "name": "stdout",
     "output_type": "stream",
     "text": [
      "epoch 305 | tr 0.1295323319357934 | val 0.32756169736385343\n"
     ]
    },
    {
     "name": "stderr",
     "output_type": "stream",
     "text": [
      "100%|██████████| 139/139 [00:04<00:00, 33.63it/s]\n",
      "100%|██████████| 10/10 [00:00<00:00, 765.13it/s]\n"
     ]
    },
    {
     "name": "stdout",
     "output_type": "stream",
     "text": [
      "epoch 306 | tr 0.1302100558289521 | val 0.324660050868988\n"
     ]
    },
    {
     "name": "stderr",
     "output_type": "stream",
     "text": [
      "100%|██████████| 139/139 [00:04<00:00, 33.63it/s]\n",
      "100%|██████████| 10/10 [00:00<00:00, 758.07it/s]\n"
     ]
    },
    {
     "name": "stdout",
     "output_type": "stream",
     "text": [
      "epoch 307 | tr 0.13242487341379947 | val 0.31425872147083284\n"
     ]
    },
    {
     "name": "stderr",
     "output_type": "stream",
     "text": [
      "100%|██████████| 139/139 [00:04<00:00, 33.63it/s]\n",
      "100%|██████████| 10/10 [00:00<00:00, 763.39it/s]\n"
     ]
    },
    {
     "name": "stdout",
     "output_type": "stream",
     "text": [
      "epoch 308 | tr 0.1331227352614883 | val 0.31910182535648346\n"
     ]
    },
    {
     "name": "stderr",
     "output_type": "stream",
     "text": [
      "100%|██████████| 139/139 [00:04<00:00, 33.61it/s]\n",
      "100%|██████████| 10/10 [00:00<00:00, 767.67it/s]\n"
     ]
    },
    {
     "name": "stdout",
     "output_type": "stream",
     "text": [
      "epoch 309 | tr 0.12961305849414936 | val 0.319986891746521\n"
     ]
    },
    {
     "name": "stderr",
     "output_type": "stream",
     "text": [
      "100%|██████████| 139/139 [00:04<00:00, 33.59it/s]\n",
      "100%|██████████| 10/10 [00:00<00:00, 765.59it/s]\n"
     ]
    },
    {
     "name": "stdout",
     "output_type": "stream",
     "text": [
      "epoch 310 | tr 0.13246801125703098 | val 0.3215436220169067\n"
     ]
    },
    {
     "name": "stderr",
     "output_type": "stream",
     "text": [
      "100%|██████████| 139/139 [00:04<00:00, 33.61it/s]\n",
      "100%|██████████| 10/10 [00:00<00:00, 756.86it/s]\n"
     ]
    },
    {
     "name": "stdout",
     "output_type": "stream",
     "text": [
      "epoch 311 | tr 0.137243649084791 | val 0.3172891020774841\n"
     ]
    },
    {
     "name": "stderr",
     "output_type": "stream",
     "text": [
      "100%|██████████| 139/139 [00:04<00:00, 33.58it/s]\n",
      "100%|██████████| 10/10 [00:00<00:00, 763.49it/s]\n"
     ]
    },
    {
     "name": "stdout",
     "output_type": "stream",
     "text": [
      "epoch 312 | tr 0.13548326154621385 | val 0.3180391162633896\n"
     ]
    },
    {
     "name": "stderr",
     "output_type": "stream",
     "text": [
      "100%|██████████| 139/139 [00:04<00:00, 33.62it/s]\n",
      "100%|██████████| 10/10 [00:00<00:00, 756.81it/s]\n"
     ]
    },
    {
     "name": "stdout",
     "output_type": "stream",
     "text": [
      "epoch 313 | tr 0.13185440925814265 | val 0.3281700611114502\n"
     ]
    },
    {
     "name": "stderr",
     "output_type": "stream",
     "text": [
      "100%|██████████| 139/139 [00:04<00:00, 33.62it/s]\n",
      "100%|██████████| 10/10 [00:00<00:00, 767.11it/s]\n"
     ]
    },
    {
     "name": "stdout",
     "output_type": "stream",
     "text": [
      "epoch 314 | tr 0.13307943382709148 | val 0.31675481200218203\n"
     ]
    },
    {
     "name": "stderr",
     "output_type": "stream",
     "text": [
      "100%|██████████| 139/139 [00:04<00:00, 33.62it/s]\n",
      "100%|██████████| 10/10 [00:00<00:00, 758.97it/s]\n"
     ]
    },
    {
     "name": "stdout",
     "output_type": "stream",
     "text": [
      "epoch 315 | tr 0.12924205549329304 | val 0.33519759476184846\n"
     ]
    },
    {
     "name": "stderr",
     "output_type": "stream",
     "text": [
      "100%|██████████| 139/139 [00:04<00:00, 33.63it/s]\n",
      "100%|██████████| 10/10 [00:00<00:00, 764.63it/s]\n"
     ]
    },
    {
     "name": "stdout",
     "output_type": "stream",
     "text": [
      "epoch 316 | tr 0.1343880210527413 | val 0.327389320731163\n"
     ]
    },
    {
     "name": "stderr",
     "output_type": "stream",
     "text": [
      "100%|██████████| 139/139 [00:04<00:00, 33.62it/s]\n",
      "100%|██████████| 10/10 [00:00<00:00, 756.33it/s]\n"
     ]
    },
    {
     "name": "stdout",
     "output_type": "stream",
     "text": [
      "epoch 317 | tr 0.1318461382560593 | val 0.31496661007404325\n"
     ]
    },
    {
     "name": "stderr",
     "output_type": "stream",
     "text": [
      "100%|██████████| 139/139 [00:04<00:00, 33.60it/s]\n",
      "100%|██████████| 10/10 [00:00<00:00, 760.04it/s]\n"
     ]
    },
    {
     "name": "stdout",
     "output_type": "stream",
     "text": [
      "epoch 318 | tr 0.1269834834358675 | val 0.3187137544155121\n"
     ]
    },
    {
     "name": "stderr",
     "output_type": "stream",
     "text": [
      "100%|██████████| 139/139 [00:04<00:00, 33.63it/s]\n",
      "100%|██████████| 10/10 [00:00<00:00, 756.84it/s]\n"
     ]
    },
    {
     "name": "stdout",
     "output_type": "stream",
     "text": [
      "epoch 319 | tr 0.12505669232538277 | val 0.3098644345998764\n"
     ]
    },
    {
     "name": "stderr",
     "output_type": "stream",
     "text": [
      "100%|██████████| 139/139 [00:04<00:00, 33.60it/s]\n",
      "100%|██████████| 10/10 [00:00<00:00, 762.55it/s]\n"
     ]
    },
    {
     "name": "stdout",
     "output_type": "stream",
     "text": [
      "epoch 320 | tr 0.1253884512957909 | val 0.31904538422822953\n"
     ]
    },
    {
     "name": "stderr",
     "output_type": "stream",
     "text": [
      "100%|██████████| 139/139 [00:04<00:00, 33.62it/s]\n",
      "100%|██████████| 10/10 [00:00<00:00, 762.32it/s]\n"
     ]
    },
    {
     "name": "stdout",
     "output_type": "stream",
     "text": [
      "epoch 321 | tr 0.1291445053631453 | val 0.31898787021636965\n"
     ]
    },
    {
     "name": "stderr",
     "output_type": "stream",
     "text": [
      "100%|██████████| 139/139 [00:04<00:00, 33.62it/s]\n",
      "100%|██████████| 10/10 [00:00<00:00, 748.26it/s]\n"
     ]
    },
    {
     "name": "stdout",
     "output_type": "stream",
     "text": [
      "epoch 322 | tr 0.12750982053631502 | val 0.3155555784702301\n"
     ]
    },
    {
     "name": "stderr",
     "output_type": "stream",
     "text": [
      "100%|██████████| 139/139 [00:04<00:00, 33.66it/s]\n",
      "100%|██████████| 10/10 [00:00<00:00, 780.51it/s]\n"
     ]
    },
    {
     "name": "stdout",
     "output_type": "stream",
     "text": [
      "epoch 323 | tr 0.130736899354475 | val 0.3271742194890976\n"
     ]
    },
    {
     "name": "stderr",
     "output_type": "stream",
     "text": [
      "100%|██████████| 139/139 [00:04<00:00, 33.68it/s]\n",
      "100%|██████████| 10/10 [00:00<00:00, 779.54it/s]\n"
     ]
    },
    {
     "name": "stdout",
     "output_type": "stream",
     "text": [
      "epoch 324 | tr 0.12962873698138505 | val 0.3392583876848221\n"
     ]
    },
    {
     "name": "stderr",
     "output_type": "stream",
     "text": [
      "100%|██████████| 139/139 [00:04<00:00, 33.68it/s]\n",
      "100%|██████████| 10/10 [00:00<00:00, 764.49it/s]\n"
     ]
    },
    {
     "name": "stdout",
     "output_type": "stream",
     "text": [
      "epoch 325 | tr 0.13376765499869697 | val 0.3211649179458618\n"
     ]
    },
    {
     "name": "stderr",
     "output_type": "stream",
     "text": [
      "100%|██████████| 139/139 [00:04<00:00, 33.63it/s]\n",
      "100%|██████████| 10/10 [00:00<00:00, 757.49it/s]\n"
     ]
    },
    {
     "name": "stdout",
     "output_type": "stream",
     "text": [
      "epoch 326 | tr 0.12777526199603254 | val 0.318491992354393\n"
     ]
    },
    {
     "name": "stderr",
     "output_type": "stream",
     "text": [
      "100%|██████████| 139/139 [00:04<00:00, 33.63it/s]\n",
      "100%|██████████| 10/10 [00:00<00:00, 763.86it/s]\n"
     ]
    },
    {
     "name": "stdout",
     "output_type": "stream",
     "text": [
      "epoch 327 | tr 0.12833134079579828 | val 0.32066847681999205\n"
     ]
    },
    {
     "name": "stderr",
     "output_type": "stream",
     "text": [
      "100%|██████████| 139/139 [00:04<00:00, 33.64it/s]\n",
      "100%|██████████| 10/10 [00:00<00:00, 756.62it/s]\n"
     ]
    },
    {
     "name": "stdout",
     "output_type": "stream",
     "text": [
      "epoch 328 | tr 0.1334294225993774 | val 0.33289145231246947\n"
     ]
    },
    {
     "name": "stderr",
     "output_type": "stream",
     "text": [
      "100%|██████████| 139/139 [00:04<00:00, 33.63it/s]\n",
      "100%|██████████| 10/10 [00:00<00:00, 763.93it/s]\n"
     ]
    },
    {
     "name": "stdout",
     "output_type": "stream",
     "text": [
      "epoch 329 | tr 0.1310392490608229 | val 0.3164786517620087\n"
     ]
    },
    {
     "name": "stderr",
     "output_type": "stream",
     "text": [
      "100%|██████████| 139/139 [00:04<00:00, 33.63it/s]\n",
      "100%|██████████| 10/10 [00:00<00:00, 764.28it/s]\n"
     ]
    },
    {
     "name": "stdout",
     "output_type": "stream",
     "text": [
      "epoch 330 | tr 0.13354428868285187 | val 0.3314520657062531\n"
     ]
    },
    {
     "name": "stderr",
     "output_type": "stream",
     "text": [
      "100%|██████████| 139/139 [00:04<00:00, 33.60it/s]\n",
      "100%|██████████| 10/10 [00:00<00:00, 663.03it/s]\n"
     ]
    },
    {
     "name": "stdout",
     "output_type": "stream",
     "text": [
      "epoch 331 | tr 0.13798148324378104 | val 0.3183962106704712\n"
     ]
    },
    {
     "name": "stderr",
     "output_type": "stream",
     "text": [
      "100%|██████████| 139/139 [00:04<00:00, 33.51it/s]\n",
      "100%|██████████| 10/10 [00:00<00:00, 756.23it/s]\n"
     ]
    },
    {
     "name": "stdout",
     "output_type": "stream",
     "text": [
      "epoch 332 | tr 0.12906833839931076 | val 0.32842738926410675\n"
     ]
    },
    {
     "name": "stderr",
     "output_type": "stream",
     "text": [
      "100%|██████████| 139/139 [00:04<00:00, 33.59it/s]\n",
      "100%|██████████| 10/10 [00:00<00:00, 746.88it/s]\n"
     ]
    },
    {
     "name": "stdout",
     "output_type": "stream",
     "text": [
      "epoch 333 | tr 0.12895360412143117 | val 0.3191160649061203\n"
     ]
    },
    {
     "name": "stderr",
     "output_type": "stream",
     "text": [
      "100%|██████████| 139/139 [00:04<00:00, 33.63it/s]\n",
      "100%|██████████| 10/10 [00:00<00:00, 738.30it/s]\n"
     ]
    },
    {
     "name": "stdout",
     "output_type": "stream",
     "text": [
      "epoch 334 | tr 0.13224197468526072 | val 0.3241217821836472\n"
     ]
    },
    {
     "name": "stderr",
     "output_type": "stream",
     "text": [
      "100%|██████████| 139/139 [00:04<00:00, 33.58it/s]\n",
      "100%|██████████| 10/10 [00:00<00:00, 766.73it/s]\n"
     ]
    },
    {
     "name": "stdout",
     "output_type": "stream",
     "text": [
      "epoch 335 | tr 0.1335508407448693 | val 0.3267980217933655\n"
     ]
    },
    {
     "name": "stderr",
     "output_type": "stream",
     "text": [
      "100%|██████████| 139/139 [00:04<00:00, 33.62it/s]\n",
      "100%|██████████| 10/10 [00:00<00:00, 752.26it/s]\n"
     ]
    },
    {
     "name": "stdout",
     "output_type": "stream",
     "text": [
      "epoch 336 | tr 0.12976742171340708 | val 0.3327140837907791\n"
     ]
    },
    {
     "name": "stderr",
     "output_type": "stream",
     "text": [
      "100%|██████████| 139/139 [00:04<00:00, 33.63it/s]\n",
      "100%|██████████| 10/10 [00:00<00:00, 751.40it/s]\n"
     ]
    },
    {
     "name": "stdout",
     "output_type": "stream",
     "text": [
      "epoch 337 | tr 0.12714894946744973 | val 0.3307223469018936\n"
     ]
    },
    {
     "name": "stderr",
     "output_type": "stream",
     "text": [
      "100%|██████████| 139/139 [00:04<00:00, 33.62it/s]\n",
      "100%|██████████| 10/10 [00:00<00:00, 745.01it/s]\n"
     ]
    },
    {
     "name": "stdout",
     "output_type": "stream",
     "text": [
      "epoch 338 | tr 0.12648287683510953 | val 0.32763367891311646\n"
     ]
    },
    {
     "name": "stderr",
     "output_type": "stream",
     "text": [
      "100%|██████████| 139/139 [00:04<00:00, 33.62it/s]\n",
      "100%|██████████| 10/10 [00:00<00:00, 766.39it/s]\n"
     ]
    },
    {
     "name": "stdout",
     "output_type": "stream",
     "text": [
      "epoch 339 | tr 0.1293324555317275 | val 0.3228475123643875\n"
     ]
    },
    {
     "name": "stderr",
     "output_type": "stream",
     "text": [
      "100%|██████████| 139/139 [00:04<00:00, 33.63it/s]\n",
      "100%|██████████| 10/10 [00:00<00:00, 762.52it/s]\n"
     ]
    },
    {
     "name": "stdout",
     "output_type": "stream",
     "text": [
      "epoch 340 | tr 0.13338894949113722 | val 0.3115009441971779\n"
     ]
    },
    {
     "name": "stderr",
     "output_type": "stream",
     "text": [
      "100%|██████████| 139/139 [00:04<00:00, 33.64it/s]\n",
      "100%|██████████| 10/10 [00:00<00:00, 763.70it/s]\n"
     ]
    },
    {
     "name": "stdout",
     "output_type": "stream",
     "text": [
      "epoch 341 | tr 0.12685811401699945 | val 0.318726059794426\n"
     ]
    },
    {
     "name": "stderr",
     "output_type": "stream",
     "text": [
      "100%|██████████| 139/139 [00:04<00:00, 33.61it/s]\n",
      "100%|██████████| 10/10 [00:00<00:00, 769.06it/s]\n"
     ]
    },
    {
     "name": "stdout",
     "output_type": "stream",
     "text": [
      "epoch 342 | tr 0.1289968339980935 | val 0.3258607476949692\n"
     ]
    },
    {
     "name": "stderr",
     "output_type": "stream",
     "text": [
      "100%|██████████| 139/139 [00:04<00:00, 33.63it/s]\n",
      "100%|██████████| 10/10 [00:00<00:00, 758.03it/s]\n"
     ]
    },
    {
     "name": "stdout",
     "output_type": "stream",
     "text": [
      "epoch 343 | tr 0.13354749184289424 | val 0.32731648683547976\n"
     ]
    },
    {
     "name": "stderr",
     "output_type": "stream",
     "text": [
      "100%|██████████| 139/139 [00:04<00:00, 33.62it/s]\n",
      "100%|██████████| 10/10 [00:00<00:00, 759.30it/s]\n"
     ]
    },
    {
     "name": "stdout",
     "output_type": "stream",
     "text": [
      "epoch 344 | tr 0.13096155622880234 | val 0.333060422539711\n"
     ]
    },
    {
     "name": "stderr",
     "output_type": "stream",
     "text": [
      "100%|██████████| 139/139 [00:04<00:00, 33.61it/s]\n",
      "100%|██████████| 10/10 [00:00<00:00, 757.67it/s]\n"
     ]
    },
    {
     "name": "stdout",
     "output_type": "stream",
     "text": [
      "epoch 345 | tr 0.13026836300067765 | val 0.329485160112381\n"
     ]
    },
    {
     "name": "stderr",
     "output_type": "stream",
     "text": [
      "100%|██████████| 139/139 [00:04<00:00, 33.62it/s]\n",
      "100%|██████████| 10/10 [00:00<00:00, 745.11it/s]\n"
     ]
    },
    {
     "name": "stdout",
     "output_type": "stream",
     "text": [
      "epoch 346 | tr 0.1318366970840118 | val 0.323959881067276\n"
     ]
    },
    {
     "name": "stderr",
     "output_type": "stream",
     "text": [
      "100%|██████████| 139/139 [00:04<00:00, 33.63it/s]\n",
      "100%|██████████| 10/10 [00:00<00:00, 752.60it/s]\n"
     ]
    },
    {
     "name": "stdout",
     "output_type": "stream",
     "text": [
      "epoch 347 | tr 0.14181323842607813 | val 0.33406731188297273\n"
     ]
    },
    {
     "name": "stderr",
     "output_type": "stream",
     "text": [
      "100%|██████████| 139/139 [00:04<00:00, 33.58it/s]\n",
      "100%|██████████| 10/10 [00:00<00:00, 765.09it/s]\n"
     ]
    },
    {
     "name": "stdout",
     "output_type": "stream",
     "text": [
      "epoch 348 | tr 0.1334607784482215 | val 0.31779715418815613\n"
     ]
    },
    {
     "name": "stderr",
     "output_type": "stream",
     "text": [
      "100%|██████████| 139/139 [00:04<00:00, 33.62it/s]\n",
      "100%|██████████| 10/10 [00:00<00:00, 757.41it/s]\n"
     ]
    },
    {
     "name": "stdout",
     "output_type": "stream",
     "text": [
      "epoch 349 | tr 0.12419553947963304 | val 0.32537484765052793\n"
     ]
    },
    {
     "name": "stderr",
     "output_type": "stream",
     "text": [
      "100%|██████████| 139/139 [00:04<00:00, 33.61it/s]\n",
      "100%|██████████| 10/10 [00:00<00:00, 756.25it/s]\n"
     ]
    },
    {
     "name": "stdout",
     "output_type": "stream",
     "text": [
      "epoch 350 | tr 0.12913075796991802 | val 0.32232636511325835\n"
     ]
    },
    {
     "name": "stderr",
     "output_type": "stream",
     "text": [
      "100%|██████████| 139/139 [00:04<00:00, 33.62it/s]\n",
      "100%|██████████| 10/10 [00:00<00:00, 745.63it/s]\n"
     ]
    },
    {
     "name": "stdout",
     "output_type": "stream",
     "text": [
      "epoch 351 | tr 0.1243147348864473 | val 0.31891040354967115\n"
     ]
    },
    {
     "name": "stderr",
     "output_type": "stream",
     "text": [
      "100%|██████████| 139/139 [00:04<00:00, 33.63it/s]\n",
      "100%|██████████| 10/10 [00:00<00:00, 760.69it/s]\n"
     ]
    },
    {
     "name": "stdout",
     "output_type": "stream",
     "text": [
      "epoch 352 | tr 0.12205786718953428 | val 0.32153010964393614\n"
     ]
    },
    {
     "name": "stderr",
     "output_type": "stream",
     "text": [
      "100%|██████████| 139/139 [00:04<00:00, 33.59it/s]\n",
      "100%|██████████| 10/10 [00:00<00:00, 751.57it/s]\n"
     ]
    },
    {
     "name": "stdout",
     "output_type": "stream",
     "text": [
      "epoch 353 | tr 0.12463841378260002 | val 0.31072706580162046\n"
     ]
    },
    {
     "name": "stderr",
     "output_type": "stream",
     "text": [
      "100%|██████████| 139/139 [00:04<00:00, 33.62it/s]\n",
      "100%|██████████| 10/10 [00:00<00:00, 748.03it/s]\n"
     ]
    },
    {
     "name": "stdout",
     "output_type": "stream",
     "text": [
      "epoch 354 | tr 0.12414732151966301 | val 0.323344025015831\n"
     ]
    },
    {
     "name": "stderr",
     "output_type": "stream",
     "text": [
      "100%|██████████| 139/139 [00:04<00:00, 33.61it/s]\n",
      "100%|██████████| 10/10 [00:00<00:00, 756.45it/s]\n"
     ]
    },
    {
     "name": "stdout",
     "output_type": "stream",
     "text": [
      "epoch 355 | tr 0.12905359080583928 | val 0.31315427720546724\n"
     ]
    },
    {
     "name": "stderr",
     "output_type": "stream",
     "text": [
      "100%|██████████| 139/139 [00:04<00:00, 33.63it/s]\n",
      "100%|██████████| 10/10 [00:00<00:00, 760.84it/s]\n"
     ]
    },
    {
     "name": "stdout",
     "output_type": "stream",
     "text": [
      "epoch 356 | tr 0.12366706352654121 | val 0.328966823220253\n"
     ]
    },
    {
     "name": "stderr",
     "output_type": "stream",
     "text": [
      "100%|██████████| 139/139 [00:04<00:00, 33.61it/s]\n",
      "100%|██████████| 10/10 [00:00<00:00, 748.31it/s]\n"
     ]
    },
    {
     "name": "stdout",
     "output_type": "stream",
     "text": [
      "epoch 357 | tr 0.12844595425634933 | val 0.31210513710975646\n"
     ]
    },
    {
     "name": "stderr",
     "output_type": "stream",
     "text": [
      "100%|██████████| 139/139 [00:04<00:00, 33.62it/s]\n",
      "100%|██████████| 10/10 [00:00<00:00, 749.93it/s]\n"
     ]
    },
    {
     "name": "stdout",
     "output_type": "stream",
     "text": [
      "epoch 358 | tr 0.12417576815798986 | val 0.3153014272451401\n"
     ]
    },
    {
     "name": "stderr",
     "output_type": "stream",
     "text": [
      "100%|██████████| 139/139 [00:04<00:00, 33.59it/s]\n",
      "100%|██████████| 10/10 [00:00<00:00, 765.17it/s]\n"
     ]
    },
    {
     "name": "stdout",
     "output_type": "stream",
     "text": [
      "epoch 359 | tr 0.12901292130243863 | val 0.3308639883995056\n"
     ]
    },
    {
     "name": "stderr",
     "output_type": "stream",
     "text": [
      "100%|██████████| 139/139 [00:04<00:00, 33.60it/s]\n",
      "100%|██████████| 10/10 [00:00<00:00, 757.03it/s]\n"
     ]
    },
    {
     "name": "stdout",
     "output_type": "stream",
     "text": [
      "epoch 360 | tr 0.13921739289657675 | val 0.3250600785017014\n"
     ]
    },
    {
     "name": "stderr",
     "output_type": "stream",
     "text": [
      "100%|██████████| 139/139 [00:04<00:00, 33.64it/s]\n",
      "100%|██████████| 10/10 [00:00<00:00, 755.44it/s]\n"
     ]
    },
    {
     "name": "stdout",
     "output_type": "stream",
     "text": [
      "epoch 361 | tr 0.14187732210262216 | val 0.3256142199039459\n"
     ]
    },
    {
     "name": "stderr",
     "output_type": "stream",
     "text": [
      "100%|██████████| 139/139 [00:04<00:00, 33.62it/s]\n",
      "100%|██████████| 10/10 [00:00<00:00, 759.63it/s]\n"
     ]
    },
    {
     "name": "stdout",
     "output_type": "stream",
     "text": [
      "epoch 362 | tr 0.12852098133495385 | val 0.3215265840291977\n"
     ]
    },
    {
     "name": "stderr",
     "output_type": "stream",
     "text": [
      "100%|██████████| 139/139 [00:04<00:00, 33.63it/s]\n",
      "100%|██████████| 10/10 [00:00<00:00, 766.22it/s]\n"
     ]
    },
    {
     "name": "stdout",
     "output_type": "stream",
     "text": [
      "epoch 363 | tr 0.12540301750246569 | val 0.31969361901283266\n"
     ]
    },
    {
     "name": "stderr",
     "output_type": "stream",
     "text": [
      "100%|██████████| 139/139 [00:04<00:00, 33.62it/s]\n",
      "100%|██████████| 10/10 [00:00<00:00, 756.41it/s]\n"
     ]
    },
    {
     "name": "stdout",
     "output_type": "stream",
     "text": [
      "epoch 364 | tr 0.1247500984681596 | val 0.3190074697136879\n"
     ]
    },
    {
     "name": "stderr",
     "output_type": "stream",
     "text": [
      "100%|██████████| 139/139 [00:04<00:00, 33.63it/s]\n",
      "100%|██████████| 10/10 [00:00<00:00, 764.18it/s]\n"
     ]
    },
    {
     "name": "stdout",
     "output_type": "stream",
     "text": [
      "epoch 365 | tr 0.12065674016158358 | val 0.3195669025182724\n"
     ]
    },
    {
     "name": "stderr",
     "output_type": "stream",
     "text": [
      "100%|██████████| 139/139 [00:04<00:00, 33.56it/s]\n",
      "100%|██████████| 10/10 [00:00<00:00, 760.00it/s]\n"
     ]
    },
    {
     "name": "stdout",
     "output_type": "stream",
     "text": [
      "epoch 366 | tr 0.12594694671013373 | val 0.31874642670154574\n"
     ]
    },
    {
     "name": "stderr",
     "output_type": "stream",
     "text": [
      "100%|██████████| 139/139 [00:04<00:00, 33.63it/s]\n",
      "100%|██████████| 10/10 [00:00<00:00, 745.50it/s]\n"
     ]
    },
    {
     "name": "stdout",
     "output_type": "stream",
     "text": [
      "epoch 367 | tr 0.1259658426153574 | val 0.32614104747772216\n"
     ]
    },
    {
     "name": "stderr",
     "output_type": "stream",
     "text": [
      "100%|██████████| 139/139 [00:04<00:00, 33.63it/s]\n",
      "100%|██████████| 10/10 [00:00<00:00, 753.53it/s]\n"
     ]
    },
    {
     "name": "stdout",
     "output_type": "stream",
     "text": [
      "epoch 368 | tr 0.12540771897962624 | val 0.3314342796802521\n"
     ]
    },
    {
     "name": "stderr",
     "output_type": "stream",
     "text": [
      "100%|██████████| 139/139 [00:04<00:00, 33.63it/s]\n",
      "100%|██████████| 10/10 [00:00<00:00, 762.13it/s]\n"
     ]
    },
    {
     "name": "stdout",
     "output_type": "stream",
     "text": [
      "epoch 369 | tr 0.12680720361016637 | val 0.31617003083229067\n"
     ]
    },
    {
     "name": "stderr",
     "output_type": "stream",
     "text": [
      "100%|██████████| 139/139 [00:04<00:00, 33.62it/s]\n",
      "100%|██████████| 10/10 [00:00<00:00, 760.51it/s]\n"
     ]
    },
    {
     "name": "stdout",
     "output_type": "stream",
     "text": [
      "epoch 370 | tr 0.12275328685482628 | val 0.31721821129322053\n"
     ]
    },
    {
     "name": "stderr",
     "output_type": "stream",
     "text": [
      "100%|██████████| 139/139 [00:04<00:00, 33.62it/s]\n",
      "100%|██████████| 10/10 [00:00<00:00, 737.69it/s]\n"
     ]
    },
    {
     "name": "stdout",
     "output_type": "stream",
     "text": [
      "epoch 371 | tr 0.12456586067196276 | val 0.33469112515449523\n"
     ]
    },
    {
     "name": "stderr",
     "output_type": "stream",
     "text": [
      "100%|██████████| 139/139 [00:04<00:00, 33.61it/s]\n",
      "100%|██████████| 10/10 [00:00<00:00, 746.70it/s]\n"
     ]
    },
    {
     "name": "stdout",
     "output_type": "stream",
     "text": [
      "epoch 372 | tr 0.13043977974130094 | val 0.3268432289361954\n"
     ]
    },
    {
     "name": "stderr",
     "output_type": "stream",
     "text": [
      "100%|██████████| 139/139 [00:04<00:00, 33.61it/s]\n",
      "100%|██████████| 10/10 [00:00<00:00, 765.92it/s]\n"
     ]
    },
    {
     "name": "stdout",
     "output_type": "stream",
     "text": [
      "epoch 373 | tr 0.13165500904801938 | val 0.3252164989709854\n"
     ]
    },
    {
     "name": "stderr",
     "output_type": "stream",
     "text": [
      "100%|██████████| 139/139 [00:04<00:00, 33.62it/s]\n",
      "100%|██████████| 10/10 [00:00<00:00, 759.56it/s]\n"
     ]
    },
    {
     "name": "stdout",
     "output_type": "stream",
     "text": [
      "epoch 374 | tr 0.128358343575927 | val 0.32295076847076415\n"
     ]
    },
    {
     "name": "stderr",
     "output_type": "stream",
     "text": [
      "100%|██████████| 139/139 [00:04<00:00, 33.61it/s]\n",
      "100%|██████████| 10/10 [00:00<00:00, 766.91it/s]\n"
     ]
    },
    {
     "name": "stdout",
     "output_type": "stream",
     "text": [
      "epoch 375 | tr 0.1305781102223362 | val 0.32225688695907595\n"
     ]
    },
    {
     "name": "stderr",
     "output_type": "stream",
     "text": [
      "100%|██████████| 139/139 [00:04<00:00, 33.63it/s]\n",
      "100%|██████████| 10/10 [00:00<00:00, 764.98it/s]\n"
     ]
    },
    {
     "name": "stdout",
     "output_type": "stream",
     "text": [
      "epoch 376 | tr 0.12487063262102416 | val 0.32303217947483065\n"
     ]
    },
    {
     "name": "stderr",
     "output_type": "stream",
     "text": [
      "100%|██████████| 139/139 [00:04<00:00, 33.62it/s]\n",
      "100%|██████████| 10/10 [00:00<00:00, 746.90it/s]\n"
     ]
    },
    {
     "name": "stdout",
     "output_type": "stream",
     "text": [
      "epoch 377 | tr 0.11825301106885183 | val 0.31519563794136046\n"
     ]
    },
    {
     "name": "stderr",
     "output_type": "stream",
     "text": [
      "100%|██████████| 139/139 [00:04<00:00, 33.61it/s]\n",
      "100%|██████████| 10/10 [00:00<00:00, 748.15it/s]\n"
     ]
    },
    {
     "name": "stdout",
     "output_type": "stream",
     "text": [
      "epoch 378 | tr 0.12180810180499399 | val 0.3179297685623169\n"
     ]
    },
    {
     "name": "stderr",
     "output_type": "stream",
     "text": [
      "100%|██████████| 139/139 [00:04<00:00, 33.57it/s]\n",
      "100%|██████████| 10/10 [00:00<00:00, 751.64it/s]\n"
     ]
    },
    {
     "name": "stdout",
     "output_type": "stream",
     "text": [
      "epoch 379 | tr 0.12567805922288688 | val 0.3206733614206314\n"
     ]
    },
    {
     "name": "stderr",
     "output_type": "stream",
     "text": [
      "100%|██████████| 139/139 [00:04<00:00, 33.64it/s]\n",
      "100%|██████████| 10/10 [00:00<00:00, 766.04it/s]\n"
     ]
    },
    {
     "name": "stdout",
     "output_type": "stream",
     "text": [
      "epoch 380 | tr 0.12459977587564386 | val 0.3224435955286026\n"
     ]
    },
    {
     "name": "stderr",
     "output_type": "stream",
     "text": [
      "100%|██████████| 139/139 [00:04<00:00, 33.61it/s]\n",
      "100%|██████████| 10/10 [00:00<00:00, 740.01it/s]\n"
     ]
    },
    {
     "name": "stdout",
     "output_type": "stream",
     "text": [
      "epoch 381 | tr 0.1257844301436445 | val 0.3268303617835045\n"
     ]
    },
    {
     "name": "stderr",
     "output_type": "stream",
     "text": [
      "100%|██████████| 139/139 [00:04<00:00, 33.63it/s]\n",
      "100%|██████████| 10/10 [00:00<00:00, 746.92it/s]\n"
     ]
    },
    {
     "name": "stdout",
     "output_type": "stream",
     "text": [
      "epoch 382 | tr 0.1272189282148862 | val 0.31825901567935944\n"
     ]
    },
    {
     "name": "stderr",
     "output_type": "stream",
     "text": [
      "100%|██████████| 139/139 [00:04<00:00, 33.58it/s]\n",
      "100%|██████████| 10/10 [00:00<00:00, 731.70it/s]\n"
     ]
    },
    {
     "name": "stdout",
     "output_type": "stream",
     "text": [
      "epoch 383 | tr 0.12989704980910252 | val 0.3181851774454117\n"
     ]
    },
    {
     "name": "stderr",
     "output_type": "stream",
     "text": [
      "100%|██████████| 139/139 [00:04<00:00, 33.62it/s]\n",
      "100%|██████████| 10/10 [00:00<00:00, 760.24it/s]\n"
     ]
    },
    {
     "name": "stdout",
     "output_type": "stream",
     "text": [
      "epoch 384 | tr 0.12601448488321235 | val 0.3163796365261078\n"
     ]
    },
    {
     "name": "stderr",
     "output_type": "stream",
     "text": [
      "100%|██████████| 139/139 [00:04<00:00, 33.62it/s]\n",
      "100%|██████████| 10/10 [00:00<00:00, 747.62it/s]\n"
     ]
    },
    {
     "name": "stdout",
     "output_type": "stream",
     "text": [
      "epoch 385 | tr 0.12790296923556774 | val 0.31678656339645384\n"
     ]
    },
    {
     "name": "stderr",
     "output_type": "stream",
     "text": [
      "100%|██████████| 139/139 [00:04<00:00, 33.62it/s]\n",
      "100%|██████████| 10/10 [00:00<00:00, 748.69it/s]\n"
     ]
    },
    {
     "name": "stdout",
     "output_type": "stream",
     "text": [
      "epoch 386 | tr 0.12271537738952705 | val 0.32053891867399215\n"
     ]
    },
    {
     "name": "stderr",
     "output_type": "stream",
     "text": [
      "100%|██████████| 139/139 [00:04<00:00, 33.62it/s]\n",
      "100%|██████████| 10/10 [00:00<00:00, 755.25it/s]\n"
     ]
    },
    {
     "name": "stdout",
     "output_type": "stream",
     "text": [
      "epoch 387 | tr 0.12263820824220026 | val 0.32763115465641024\n"
     ]
    },
    {
     "name": "stderr",
     "output_type": "stream",
     "text": [
      "100%|██████████| 139/139 [00:04<00:00, 33.61it/s]\n",
      "100%|██████████| 10/10 [00:00<00:00, 747.34it/s]\n"
     ]
    },
    {
     "name": "stdout",
     "output_type": "stream",
     "text": [
      "epoch 388 | tr 0.12294557819263541 | val 0.3227368533611298\n"
     ]
    },
    {
     "name": "stderr",
     "output_type": "stream",
     "text": [
      "100%|██████████| 139/139 [00:04<00:00, 33.60it/s]\n",
      "100%|██████████| 10/10 [00:00<00:00, 754.21it/s]\n"
     ]
    },
    {
     "name": "stdout",
     "output_type": "stream",
     "text": [
      "epoch 389 | tr 0.13156797972728881 | val 0.3294797122478485\n"
     ]
    },
    {
     "name": "stderr",
     "output_type": "stream",
     "text": [
      "100%|██████████| 139/139 [00:04<00:00, 33.61it/s]\n",
      "100%|██████████| 10/10 [00:00<00:00, 757.87it/s]\n"
     ]
    },
    {
     "name": "stdout",
     "output_type": "stream",
     "text": [
      "epoch 390 | tr 0.12481123332282622 | val 0.32367868423461915\n"
     ]
    },
    {
     "name": "stderr",
     "output_type": "stream",
     "text": [
      "100%|██████████| 139/139 [00:04<00:00, 33.62it/s]\n",
      "100%|██████████| 10/10 [00:00<00:00, 748.53it/s]\n"
     ]
    },
    {
     "name": "stdout",
     "output_type": "stream",
     "text": [
      "epoch 391 | tr 0.12526155493671087 | val 0.3207708463072777\n"
     ]
    },
    {
     "name": "stderr",
     "output_type": "stream",
     "text": [
      "100%|██████████| 139/139 [00:04<00:00, 33.62it/s]\n",
      "100%|██████████| 10/10 [00:00<00:00, 766.90it/s]\n"
     ]
    },
    {
     "name": "stdout",
     "output_type": "stream",
     "text": [
      "epoch 392 | tr 0.12289892608742062 | val 0.3242859572172165\n"
     ]
    },
    {
     "name": "stderr",
     "output_type": "stream",
     "text": [
      "100%|██████████| 139/139 [00:04<00:00, 33.61it/s]\n",
      "100%|██████████| 10/10 [00:00<00:00, 763.14it/s]\n"
     ]
    },
    {
     "name": "stdout",
     "output_type": "stream",
     "text": [
      "epoch 393 | tr 0.1308620621403344 | val 0.3194746643304825\n"
     ]
    },
    {
     "name": "stderr",
     "output_type": "stream",
     "text": [
      "100%|██████████| 139/139 [00:04<00:00, 33.65it/s]\n",
      "100%|██████████| 10/10 [00:00<00:00, 765.02it/s]\n"
     ]
    },
    {
     "name": "stdout",
     "output_type": "stream",
     "text": [
      "epoch 394 | tr 0.12139336558447468 | val 0.31924371868371965\n"
     ]
    },
    {
     "name": "stderr",
     "output_type": "stream",
     "text": [
      "100%|██████████| 139/139 [00:04<00:00, 33.61it/s]\n",
      "100%|██████████| 10/10 [00:00<00:00, 748.90it/s]\n"
     ]
    },
    {
     "name": "stdout",
     "output_type": "stream",
     "text": [
      "epoch 395 | tr 0.12027952211687891 | val 0.3189203947782516\n"
     ]
    },
    {
     "name": "stderr",
     "output_type": "stream",
     "text": [
      "100%|██████████| 139/139 [00:04<00:00, 33.62it/s]\n",
      "100%|██████████| 10/10 [00:00<00:00, 749.21it/s]\n"
     ]
    },
    {
     "name": "stdout",
     "output_type": "stream",
     "text": [
      "epoch 396 | tr 0.12917413144446105 | val 0.3208824396133423\n"
     ]
    },
    {
     "name": "stderr",
     "output_type": "stream",
     "text": [
      "100%|██████████| 139/139 [00:04<00:00, 33.63it/s]\n",
      "100%|██████████| 10/10 [00:00<00:00, 760.71it/s]\n"
     ]
    },
    {
     "name": "stdout",
     "output_type": "stream",
     "text": [
      "epoch 397 | tr 0.1273602850788789 | val 0.3268128275871277\n"
     ]
    },
    {
     "name": "stderr",
     "output_type": "stream",
     "text": [
      "100%|██████████| 139/139 [00:04<00:00, 33.61it/s]\n",
      "100%|██████████| 10/10 [00:00<00:00, 765.13it/s]\n"
     ]
    },
    {
     "name": "stdout",
     "output_type": "stream",
     "text": [
      "epoch 398 | tr 0.1237419049302451 | val 0.3126863658428192\n"
     ]
    },
    {
     "name": "stderr",
     "output_type": "stream",
     "text": [
      "100%|██████████| 139/139 [00:04<00:00, 33.61it/s]\n",
      "100%|██████████| 10/10 [00:00<00:00, 735.89it/s]\n"
     ]
    },
    {
     "name": "stdout",
     "output_type": "stream",
     "text": [
      "epoch 399 | tr 0.12110726189591901 | val 0.3199482649564743\n"
     ]
    },
    {
     "name": "stderr",
     "output_type": "stream",
     "text": [
      "100%|██████████| 139/139 [00:04<00:00, 33.63it/s]\n",
      "100%|██████████| 10/10 [00:00<00:00, 756.34it/s]\n"
     ]
    },
    {
     "name": "stdout",
     "output_type": "stream",
     "text": [
      "epoch 400 | tr 0.12401518166708432 | val 0.3219810962677002\n"
     ]
    },
    {
     "name": "stderr",
     "output_type": "stream",
     "text": [
      "100%|██████████| 139/139 [00:04<00:00, 33.63it/s]\n",
      "100%|██████████| 10/10 [00:00<00:00, 767.51it/s]\n"
     ]
    },
    {
     "name": "stdout",
     "output_type": "stream",
     "text": [
      "epoch 401 | tr 0.1224687030847124 | val 0.3196847289800644\n"
     ]
    },
    {
     "name": "stderr",
     "output_type": "stream",
     "text": [
      "100%|██████████| 139/139 [00:04<00:00, 33.64it/s]\n",
      "100%|██████████| 10/10 [00:00<00:00, 766.28it/s]\n"
     ]
    },
    {
     "name": "stdout",
     "output_type": "stream",
     "text": [
      "epoch 402 | tr 0.12512184288218725 | val 0.31780724227428436\n"
     ]
    },
    {
     "name": "stderr",
     "output_type": "stream",
     "text": [
      "100%|██████████| 139/139 [00:04<00:00, 33.61it/s]\n",
      "100%|██████████| 10/10 [00:00<00:00, 747.47it/s]\n"
     ]
    },
    {
     "name": "stdout",
     "output_type": "stream",
     "text": [
      "epoch 403 | tr 0.12425373599147625 | val 0.3296582937240601\n"
     ]
    },
    {
     "name": "stderr",
     "output_type": "stream",
     "text": [
      "100%|██████████| 139/139 [00:04<00:00, 33.63it/s]\n",
      "100%|██████████| 10/10 [00:00<00:00, 746.82it/s]\n"
     ]
    },
    {
     "name": "stdout",
     "output_type": "stream",
     "text": [
      "epoch 404 | tr 0.12306321390884385 | val 0.32543974220752714\n"
     ]
    },
    {
     "name": "stderr",
     "output_type": "stream",
     "text": [
      "100%|██████████| 139/139 [00:04<00:00, 33.60it/s]\n",
      "100%|██████████| 10/10 [00:00<00:00, 759.66it/s]\n"
     ]
    },
    {
     "name": "stdout",
     "output_type": "stream",
     "text": [
      "epoch 405 | tr 0.12372974954920707 | val 0.316179022192955\n"
     ]
    },
    {
     "name": "stderr",
     "output_type": "stream",
     "text": [
      "100%|██████████| 139/139 [00:04<00:00, 33.64it/s]\n",
      "100%|██████████| 10/10 [00:00<00:00, 765.51it/s]\n"
     ]
    },
    {
     "name": "stdout",
     "output_type": "stream",
     "text": [
      "epoch 406 | tr 0.12785504699396572 | val 0.32616874277591706\n"
     ]
    },
    {
     "name": "stderr",
     "output_type": "stream",
     "text": [
      "100%|██████████| 139/139 [00:04<00:00, 33.61it/s]\n",
      "100%|██████████| 10/10 [00:00<00:00, 753.84it/s]\n"
     ]
    },
    {
     "name": "stdout",
     "output_type": "stream",
     "text": [
      "epoch 407 | tr 0.12566556304478818 | val 0.3178232640028\n"
     ]
    },
    {
     "name": "stderr",
     "output_type": "stream",
     "text": [
      "100%|██████████| 139/139 [00:04<00:00, 33.63it/s]\n",
      "100%|██████████| 10/10 [00:00<00:00, 765.76it/s]\n"
     ]
    },
    {
     "name": "stdout",
     "output_type": "stream",
     "text": [
      "epoch 408 | tr 0.12319327692548149 | val 0.3297798588871956\n"
     ]
    },
    {
     "name": "stderr",
     "output_type": "stream",
     "text": [
      "100%|██████████| 139/139 [00:04<00:00, 33.61it/s]\n",
      "100%|██████████| 10/10 [00:00<00:00, 736.37it/s]\n"
     ]
    },
    {
     "name": "stdout",
     "output_type": "stream",
     "text": [
      "epoch 409 | tr 0.11962481588125229 | val 0.32297003865242\n"
     ]
    },
    {
     "name": "stderr",
     "output_type": "stream",
     "text": [
      "100%|██████████| 139/139 [00:04<00:00, 33.62it/s]\n",
      "100%|██████████| 10/10 [00:00<00:00, 758.09it/s]\n"
     ]
    },
    {
     "name": "stdout",
     "output_type": "stream",
     "text": [
      "epoch 410 | tr 0.12077343469257835 | val 0.3164258226752281\n"
     ]
    },
    {
     "name": "stderr",
     "output_type": "stream",
     "text": [
      "100%|██████████| 139/139 [00:04<00:00, 33.61it/s]\n",
      "100%|██████████| 10/10 [00:00<00:00, 755.54it/s]\n"
     ]
    },
    {
     "name": "stdout",
     "output_type": "stream",
     "text": [
      "epoch 411 | tr 0.12492730323788073 | val 0.32004799246788024\n"
     ]
    },
    {
     "name": "stderr",
     "output_type": "stream",
     "text": [
      "100%|██████████| 139/139 [00:04<00:00, 33.65it/s]\n",
      "100%|██████████| 10/10 [00:00<00:00, 776.54it/s]\n"
     ]
    },
    {
     "name": "stdout",
     "output_type": "stream",
     "text": [
      "epoch 412 | tr 0.12092435223271521 | val 0.32134259939193727\n"
     ]
    },
    {
     "name": "stderr",
     "output_type": "stream",
     "text": [
      "100%|██████████| 139/139 [00:04<00:00, 33.66it/s]\n",
      "100%|██████████| 10/10 [00:00<00:00, 745.64it/s]\n"
     ]
    },
    {
     "name": "stdout",
     "output_type": "stream",
     "text": [
      "epoch 413 | tr 0.1202927605389691 | val 0.3200893968343735\n"
     ]
    },
    {
     "name": "stderr",
     "output_type": "stream",
     "text": [
      "100%|██████████| 139/139 [00:04<00:00, 33.62it/s]\n",
      "100%|██████████| 10/10 [00:00<00:00, 738.23it/s]\n"
     ]
    },
    {
     "name": "stdout",
     "output_type": "stream",
     "text": [
      "epoch 414 | tr 0.12332481799794616 | val 0.32147008180618286\n"
     ]
    },
    {
     "name": "stderr",
     "output_type": "stream",
     "text": [
      "100%|██████████| 139/139 [00:04<00:00, 33.62it/s]\n",
      "100%|██████████| 10/10 [00:00<00:00, 748.23it/s]\n"
     ]
    },
    {
     "name": "stdout",
     "output_type": "stream",
     "text": [
      "epoch 415 | tr 0.11858647573980496 | val 0.32632483541965485\n"
     ]
    },
    {
     "name": "stderr",
     "output_type": "stream",
     "text": [
      "100%|██████████| 139/139 [00:04<00:00, 33.65it/s]\n",
      "100%|██████████| 10/10 [00:00<00:00, 767.48it/s]\n"
     ]
    },
    {
     "name": "stdout",
     "output_type": "stream",
     "text": [
      "epoch 416 | tr 0.12330483950728136 | val 0.33079354763031005\n"
     ]
    },
    {
     "name": "stderr",
     "output_type": "stream",
     "text": [
      "100%|██████████| 139/139 [00:04<00:00, 33.61it/s]\n",
      "100%|██████████| 10/10 [00:00<00:00, 734.63it/s]\n"
     ]
    },
    {
     "name": "stdout",
     "output_type": "stream",
     "text": [
      "epoch 417 | tr 0.12775922856099314 | val 0.32162284553050996\n"
     ]
    },
    {
     "name": "stderr",
     "output_type": "stream",
     "text": [
      "100%|██████████| 139/139 [00:04<00:00, 33.61it/s]\n",
      "100%|██████████| 10/10 [00:00<00:00, 764.03it/s]\n"
     ]
    },
    {
     "name": "stdout",
     "output_type": "stream",
     "text": [
      "epoch 418 | tr 0.1250424582859595 | val 0.32558132112026217\n"
     ]
    },
    {
     "name": "stderr",
     "output_type": "stream",
     "text": [
      "100%|██████████| 139/139 [00:04<00:00, 33.63it/s]\n",
      "100%|██████████| 10/10 [00:00<00:00, 757.74it/s]\n"
     ]
    },
    {
     "name": "stdout",
     "output_type": "stream",
     "text": [
      "epoch 419 | tr 0.126846321087947 | val 0.3140366464853287\n"
     ]
    },
    {
     "name": "stderr",
     "output_type": "stream",
     "text": [
      "100%|██████████| 139/139 [00:04<00:00, 33.60it/s]\n",
      "100%|██████████| 10/10 [00:00<00:00, 729.76it/s]\n"
     ]
    },
    {
     "name": "stdout",
     "output_type": "stream",
     "text": [
      "epoch 420 | tr 0.12276253377576526 | val 0.32287071347236634\n"
     ]
    },
    {
     "name": "stderr",
     "output_type": "stream",
     "text": [
      "100%|██████████| 139/139 [00:04<00:00, 33.62it/s]\n",
      "100%|██████████| 10/10 [00:00<00:00, 746.53it/s]\n"
     ]
    },
    {
     "name": "stdout",
     "output_type": "stream",
     "text": [
      "epoch 421 | tr 0.11761047905511993 | val 0.31939035654067993\n"
     ]
    },
    {
     "name": "stderr",
     "output_type": "stream",
     "text": [
      "100%|██████████| 139/139 [00:04<00:00, 33.62it/s]\n",
      "100%|██████████| 10/10 [00:00<00:00, 743.43it/s]\n"
     ]
    },
    {
     "name": "stdout",
     "output_type": "stream",
     "text": [
      "epoch 422 | tr 0.12094625535843184 | val 0.3190260112285614\n"
     ]
    },
    {
     "name": "stderr",
     "output_type": "stream",
     "text": [
      "100%|██████████| 139/139 [00:04<00:00, 33.59it/s]\n",
      "100%|██████████| 10/10 [00:00<00:00, 741.51it/s]\n"
     ]
    },
    {
     "name": "stdout",
     "output_type": "stream",
     "text": [
      "epoch 423 | tr 0.11731945610732483 | val 0.3292523086071014\n"
     ]
    },
    {
     "name": "stderr",
     "output_type": "stream",
     "text": [
      "100%|██████████| 139/139 [00:04<00:00, 33.64it/s]\n",
      "100%|██████████| 10/10 [00:00<00:00, 740.59it/s]\n"
     ]
    },
    {
     "name": "stdout",
     "output_type": "stream",
     "text": [
      "epoch 424 | tr 0.11936698762847366 | val 0.3154976487159729\n"
     ]
    },
    {
     "name": "stderr",
     "output_type": "stream",
     "text": [
      "100%|██████████| 139/139 [00:04<00:00, 33.64it/s]\n",
      "100%|██████████| 10/10 [00:00<00:00, 770.15it/s]\n"
     ]
    },
    {
     "name": "stdout",
     "output_type": "stream",
     "text": [
      "epoch 425 | tr 0.11660872576691264 | val 0.31895252764225007\n"
     ]
    },
    {
     "name": "stderr",
     "output_type": "stream",
     "text": [
      "100%|██████████| 139/139 [00:04<00:00, 33.63it/s]\n",
      "100%|██████████| 10/10 [00:00<00:00, 767.25it/s]\n"
     ]
    },
    {
     "name": "stdout",
     "output_type": "stream",
     "text": [
      "epoch 426 | tr 0.12017064380774395 | val 0.3125159740447998\n"
     ]
    },
    {
     "name": "stderr",
     "output_type": "stream",
     "text": [
      "100%|██████████| 139/139 [00:04<00:00, 33.64it/s]\n",
      "100%|██████████| 10/10 [00:00<00:00, 756.90it/s]\n"
     ]
    },
    {
     "name": "stdout",
     "output_type": "stream",
     "text": [
      "epoch 427 | tr 0.12764697500484454 | val 0.32830687463283537\n"
     ]
    },
    {
     "name": "stderr",
     "output_type": "stream",
     "text": [
      "100%|██████████| 139/139 [00:04<00:00, 33.60it/s]\n",
      "100%|██████████| 10/10 [00:00<00:00, 752.58it/s]\n"
     ]
    },
    {
     "name": "stdout",
     "output_type": "stream",
     "text": [
      "epoch 428 | tr 0.13985799553154185 | val 0.32197974175214766\n"
     ]
    },
    {
     "name": "stderr",
     "output_type": "stream",
     "text": [
      "100%|██████████| 139/139 [00:04<00:00, 33.60it/s]\n",
      "100%|██████████| 10/10 [00:00<00:00, 754.67it/s]\n"
     ]
    },
    {
     "name": "stdout",
     "output_type": "stream",
     "text": [
      "epoch 429 | tr 0.13239389615093203 | val 0.31631597876548767\n"
     ]
    },
    {
     "name": "stderr",
     "output_type": "stream",
     "text": [
      "100%|██████████| 139/139 [00:04<00:00, 33.61it/s]\n",
      "100%|██████████| 10/10 [00:00<00:00, 771.64it/s]\n"
     ]
    },
    {
     "name": "stdout",
     "output_type": "stream",
     "text": [
      "epoch 430 | tr 0.12505104237323184 | val 0.314119827747345\n"
     ]
    },
    {
     "name": "stderr",
     "output_type": "stream",
     "text": [
      "100%|██████████| 139/139 [00:04<00:00, 33.61it/s]\n",
      "100%|██████████| 10/10 [00:00<00:00, 748.74it/s]\n"
     ]
    },
    {
     "name": "stdout",
     "output_type": "stream",
     "text": [
      "epoch 431 | tr 0.1179057257852966 | val 0.3219026893377304\n"
     ]
    },
    {
     "name": "stderr",
     "output_type": "stream",
     "text": [
      "100%|██████████| 139/139 [00:04<00:00, 33.60it/s]\n",
      "100%|██████████| 10/10 [00:00<00:00, 766.73it/s]\n"
     ]
    },
    {
     "name": "stdout",
     "output_type": "stream",
     "text": [
      "epoch 432 | tr 0.12006868915163356 | val 0.3155690640211105\n"
     ]
    },
    {
     "name": "stderr",
     "output_type": "stream",
     "text": [
      "100%|██████████| 139/139 [00:04<00:00, 33.63it/s]\n",
      "100%|██████████| 10/10 [00:00<00:00, 754.71it/s]\n"
     ]
    },
    {
     "name": "stdout",
     "output_type": "stream",
     "text": [
      "epoch 433 | tr 0.11800521687209177 | val 0.3228120654821396\n"
     ]
    },
    {
     "name": "stderr",
     "output_type": "stream",
     "text": [
      "100%|██████████| 139/139 [00:04<00:00, 33.61it/s]\n",
      "100%|██████████| 10/10 [00:00<00:00, 756.70it/s]\n"
     ]
    },
    {
     "name": "stdout",
     "output_type": "stream",
     "text": [
      "epoch 434 | tr 0.11757268027650367 | val 0.31280624568462373\n"
     ]
    },
    {
     "name": "stderr",
     "output_type": "stream",
     "text": [
      "100%|██████████| 139/139 [00:04<00:00, 33.62it/s]\n",
      "100%|██████████| 10/10 [00:00<00:00, 751.69it/s]\n"
     ]
    },
    {
     "name": "stdout",
     "output_type": "stream",
     "text": [
      "epoch 435 | tr 0.1149526902025552 | val 0.32171323895454407\n"
     ]
    },
    {
     "name": "stderr",
     "output_type": "stream",
     "text": [
      "100%|██████████| 139/139 [00:04<00:00, 33.63it/s]\n",
      "100%|██████████| 10/10 [00:00<00:00, 750.99it/s]\n"
     ]
    },
    {
     "name": "stdout",
     "output_type": "stream",
     "text": [
      "epoch 436 | tr 0.11749180309849677 | val 0.32125897109508517\n"
     ]
    },
    {
     "name": "stderr",
     "output_type": "stream",
     "text": [
      "100%|██████████| 139/139 [00:04<00:00, 33.68it/s]\n",
      "100%|██████████| 10/10 [00:00<00:00, 777.90it/s]\n"
     ]
    },
    {
     "name": "stdout",
     "output_type": "stream",
     "text": [
      "epoch 437 | tr 0.11921371037153888 | val 0.314913272857666\n"
     ]
    },
    {
     "name": "stderr",
     "output_type": "stream",
     "text": [
      "100%|██████████| 139/139 [00:04<00:00, 33.65it/s]\n",
      "100%|██████████| 10/10 [00:00<00:00, 755.81it/s]\n"
     ]
    },
    {
     "name": "stdout",
     "output_type": "stream",
     "text": [
      "epoch 438 | tr 0.1188457782427184 | val 0.3183256149291992\n"
     ]
    },
    {
     "name": "stderr",
     "output_type": "stream",
     "text": [
      "100%|██████████| 139/139 [00:04<00:00, 33.62it/s]\n",
      "100%|██████████| 10/10 [00:00<00:00, 764.91it/s]\n"
     ]
    },
    {
     "name": "stdout",
     "output_type": "stream",
     "text": [
      "epoch 439 | tr 0.129264141640646 | val 0.3237833738327026\n"
     ]
    },
    {
     "name": "stderr",
     "output_type": "stream",
     "text": [
      "100%|██████████| 139/139 [00:04<00:00, 33.63it/s]\n",
      "100%|██████████| 10/10 [00:00<00:00, 763.68it/s]\n"
     ]
    },
    {
     "name": "stdout",
     "output_type": "stream",
     "text": [
      "epoch 440 | tr 0.1241860590178332 | val 0.3236558109521866\n"
     ]
    },
    {
     "name": "stderr",
     "output_type": "stream",
     "text": [
      "100%|██████████| 139/139 [00:04<00:00, 33.62it/s]\n",
      "100%|██████████| 10/10 [00:00<00:00, 767.82it/s]\n"
     ]
    },
    {
     "name": "stdout",
     "output_type": "stream",
     "text": [
      "epoch 441 | tr 0.12131928052190397 | val 0.3236965984106064\n"
     ]
    },
    {
     "name": "stderr",
     "output_type": "stream",
     "text": [
      "100%|██████████| 139/139 [00:04<00:00, 33.64it/s]\n",
      "100%|██████████| 10/10 [00:00<00:00, 765.50it/s]\n"
     ]
    },
    {
     "name": "stdout",
     "output_type": "stream",
     "text": [
      "epoch 442 | tr 0.1259236664330359 | val 0.31842619478702544\n"
     ]
    },
    {
     "name": "stderr",
     "output_type": "stream",
     "text": [
      "100%|██████████| 139/139 [00:04<00:00, 33.62it/s]\n",
      "100%|██████████| 10/10 [00:00<00:00, 766.32it/s]\n"
     ]
    },
    {
     "name": "stdout",
     "output_type": "stream",
     "text": [
      "epoch 443 | tr 0.12649984941851322 | val 0.32344908118247984\n"
     ]
    },
    {
     "name": "stderr",
     "output_type": "stream",
     "text": [
      "100%|██████████| 139/139 [00:04<00:00, 33.61it/s]\n",
      "100%|██████████| 10/10 [00:00<00:00, 753.53it/s]\n"
     ]
    },
    {
     "name": "stdout",
     "output_type": "stream",
     "text": [
      "epoch 444 | tr 0.122811256606373 | val 0.3305709153413773\n"
     ]
    },
    {
     "name": "stderr",
     "output_type": "stream",
     "text": [
      "100%|██████████| 139/139 [00:04<00:00, 33.64it/s]\n",
      "100%|██████████| 10/10 [00:00<00:00, 767.75it/s]\n"
     ]
    },
    {
     "name": "stdout",
     "output_type": "stream",
     "text": [
      "epoch 445 | tr 0.11979746486214425 | val 0.3214824050664902\n"
     ]
    },
    {
     "name": "stderr",
     "output_type": "stream",
     "text": [
      "100%|██████████| 139/139 [00:04<00:00, 33.61it/s]\n",
      "100%|██████████| 10/10 [00:00<00:00, 745.27it/s]\n"
     ]
    },
    {
     "name": "stdout",
     "output_type": "stream",
     "text": [
      "epoch 446 | tr 0.12018713054897116 | val 0.31095649749040605\n"
     ]
    },
    {
     "name": "stderr",
     "output_type": "stream",
     "text": [
      "100%|██████████| 139/139 [00:04<00:00, 33.64it/s]\n",
      "100%|██████████| 10/10 [00:00<00:00, 756.04it/s]\n"
     ]
    },
    {
     "name": "stdout",
     "output_type": "stream",
     "text": [
      "epoch 447 | tr 0.11756274747333938 | val 0.33159672021865844\n"
     ]
    },
    {
     "name": "stderr",
     "output_type": "stream",
     "text": [
      "100%|██████████| 139/139 [00:04<00:00, 33.64it/s]\n",
      "100%|██████████| 10/10 [00:00<00:00, 768.22it/s]\n"
     ]
    },
    {
     "name": "stdout",
     "output_type": "stream",
     "text": [
      "epoch 448 | tr 0.11889039408817566 | val 0.3144788593053818\n"
     ]
    },
    {
     "name": "stderr",
     "output_type": "stream",
     "text": [
      "100%|██████████| 139/139 [00:04<00:00, 33.63it/s]\n",
      "100%|██████████| 10/10 [00:00<00:00, 765.23it/s]\n"
     ]
    },
    {
     "name": "stdout",
     "output_type": "stream",
     "text": [
      "epoch 449 | tr 0.12109932083663323 | val 0.32635927200317383\n"
     ]
    },
    {
     "name": "stderr",
     "output_type": "stream",
     "text": [
      "100%|██████████| 139/139 [00:04<00:00, 33.62it/s]\n",
      "100%|██████████| 10/10 [00:00<00:00, 759.04it/s]\n"
     ]
    },
    {
     "name": "stdout",
     "output_type": "stream",
     "text": [
      "epoch 450 | tr 0.12020719844660313 | val 0.3223694831132889\n"
     ]
    },
    {
     "name": "stderr",
     "output_type": "stream",
     "text": [
      "100%|██████████| 139/139 [00:04<00:00, 33.62it/s]\n",
      "100%|██████████| 10/10 [00:00<00:00, 749.09it/s]\n"
     ]
    },
    {
     "name": "stdout",
     "output_type": "stream",
     "text": [
      "epoch 451 | tr 0.1239090285284056 | val 0.32918741106987\n"
     ]
    },
    {
     "name": "stderr",
     "output_type": "stream",
     "text": [
      "100%|██████████| 139/139 [00:04<00:00, 33.67it/s]\n",
      "100%|██████████| 10/10 [00:00<00:00, 764.23it/s]\n"
     ]
    },
    {
     "name": "stdout",
     "output_type": "stream",
     "text": [
      "epoch 452 | tr 0.11997045640893977 | val 0.31971098482608795\n"
     ]
    },
    {
     "name": "stderr",
     "output_type": "stream",
     "text": [
      "100%|██████████| 139/139 [00:04<00:00, 33.65it/s]\n",
      "100%|██████████| 10/10 [00:00<00:00, 764.21it/s]\n"
     ]
    },
    {
     "name": "stdout",
     "output_type": "stream",
     "text": [
      "epoch 453 | tr 0.12642174841259882 | val 0.3308535426855087\n"
     ]
    },
    {
     "name": "stderr",
     "output_type": "stream",
     "text": [
      "100%|██████████| 139/139 [00:04<00:00, 33.64it/s]\n",
      "100%|██████████| 10/10 [00:00<00:00, 757.27it/s]\n"
     ]
    },
    {
     "name": "stdout",
     "output_type": "stream",
     "text": [
      "epoch 454 | tr 0.12594104579669965 | val 0.32217919528484346\n"
     ]
    },
    {
     "name": "stderr",
     "output_type": "stream",
     "text": [
      "100%|██████████| 139/139 [00:04<00:00, 33.64it/s]\n",
      "100%|██████████| 10/10 [00:00<00:00, 766.74it/s]\n"
     ]
    },
    {
     "name": "stdout",
     "output_type": "stream",
     "text": [
      "epoch 455 | tr 0.11883804100237304 | val 0.3230264961719513\n"
     ]
    },
    {
     "name": "stderr",
     "output_type": "stream",
     "text": [
      "100%|██████████| 139/139 [00:04<00:00, 33.63it/s]\n",
      "100%|██████████| 10/10 [00:00<00:00, 755.69it/s]\n"
     ]
    },
    {
     "name": "stdout",
     "output_type": "stream",
     "text": [
      "epoch 456 | tr 0.11783162043463412 | val 0.32087025940418246\n"
     ]
    },
    {
     "name": "stderr",
     "output_type": "stream",
     "text": [
      "100%|██████████| 139/139 [00:04<00:00, 33.64it/s]\n",
      "100%|██████████| 10/10 [00:00<00:00, 757.61it/s]\n"
     ]
    },
    {
     "name": "stdout",
     "output_type": "stream",
     "text": [
      "epoch 457 | tr 0.12270367263461189 | val 0.31876844465732573\n"
     ]
    },
    {
     "name": "stderr",
     "output_type": "stream",
     "text": [
      "100%|██████████| 139/139 [00:04<00:00, 33.63it/s]\n",
      "100%|██████████| 10/10 [00:00<00:00, 749.05it/s]\n"
     ]
    },
    {
     "name": "stdout",
     "output_type": "stream",
     "text": [
      "epoch 458 | tr 0.12060947035499614 | val 0.3144733801484108\n"
     ]
    },
    {
     "name": "stderr",
     "output_type": "stream",
     "text": [
      "100%|██████████| 139/139 [00:04<00:00, 33.62it/s]\n",
      "100%|██████████| 10/10 [00:00<00:00, 734.85it/s]\n"
     ]
    },
    {
     "name": "stdout",
     "output_type": "stream",
     "text": [
      "epoch 459 | tr 0.11934267477594691 | val 0.3192514568567276\n"
     ]
    },
    {
     "name": "stderr",
     "output_type": "stream",
     "text": [
      "100%|██████████| 139/139 [00:04<00:00, 33.61it/s]\n",
      "100%|██████████| 10/10 [00:00<00:00, 754.71it/s]\n"
     ]
    },
    {
     "name": "stdout",
     "output_type": "stream",
     "text": [
      "epoch 460 | tr 0.11981822512775873 | val 0.3135377436876297\n"
     ]
    },
    {
     "name": "stderr",
     "output_type": "stream",
     "text": [
      "100%|██████████| 139/139 [00:04<00:00, 33.62it/s]\n",
      "100%|██████████| 10/10 [00:00<00:00, 768.82it/s]\n"
     ]
    },
    {
     "name": "stdout",
     "output_type": "stream",
     "text": [
      "epoch 461 | tr 0.12367876109888228 | val 0.32284576296806333\n"
     ]
    },
    {
     "name": "stderr",
     "output_type": "stream",
     "text": [
      "100%|██████████| 139/139 [00:04<00:00, 33.62it/s]\n",
      "100%|██████████| 10/10 [00:00<00:00, 769.54it/s]\n"
     ]
    },
    {
     "name": "stdout",
     "output_type": "stream",
     "text": [
      "epoch 462 | tr 0.11637643906924365 | val 0.3180419147014618\n"
     ]
    },
    {
     "name": "stderr",
     "output_type": "stream",
     "text": [
      "100%|██████████| 139/139 [00:04<00:00, 33.62it/s]\n",
      "100%|██████████| 10/10 [00:00<00:00, 757.86it/s]\n"
     ]
    },
    {
     "name": "stdout",
     "output_type": "stream",
     "text": [
      "epoch 463 | tr 0.11529565784785388 | val 0.31369306743144987\n"
     ]
    },
    {
     "name": "stderr",
     "output_type": "stream",
     "text": [
      "100%|██████████| 139/139 [00:04<00:00, 33.64it/s]\n",
      "100%|██████████| 10/10 [00:00<00:00, 756.19it/s]\n"
     ]
    },
    {
     "name": "stdout",
     "output_type": "stream",
     "text": [
      "epoch 464 | tr 0.1153651689239543 | val 0.3238882958889008\n"
     ]
    },
    {
     "name": "stderr",
     "output_type": "stream",
     "text": [
      "100%|██████████| 139/139 [00:04<00:00, 33.64it/s]\n",
      "100%|██████████| 10/10 [00:00<00:00, 757.29it/s]\n"
     ]
    },
    {
     "name": "stdout",
     "output_type": "stream",
     "text": [
      "epoch 465 | tr 0.11865025758743286 | val 0.32415235638618467\n"
     ]
    },
    {
     "name": "stderr",
     "output_type": "stream",
     "text": [
      "100%|██████████| 139/139 [00:04<00:00, 33.62it/s]\n",
      "100%|██████████| 10/10 [00:00<00:00, 757.94it/s]\n"
     ]
    },
    {
     "name": "stdout",
     "output_type": "stream",
     "text": [
      "epoch 466 | tr 0.11922137112283021 | val 0.3461074024438858\n"
     ]
    },
    {
     "name": "stderr",
     "output_type": "stream",
     "text": [
      "100%|██████████| 139/139 [00:04<00:00, 33.62it/s]\n",
      "100%|██████████| 10/10 [00:00<00:00, 767.36it/s]\n"
     ]
    },
    {
     "name": "stdout",
     "output_type": "stream",
     "text": [
      "epoch 467 | tr 0.13270374103415783 | val 0.32407432794570923\n"
     ]
    },
    {
     "name": "stderr",
     "output_type": "stream",
     "text": [
      "100%|██████████| 139/139 [00:04<00:00, 33.64it/s]\n",
      "100%|██████████| 10/10 [00:00<00:00, 754.56it/s]\n"
     ]
    },
    {
     "name": "stdout",
     "output_type": "stream",
     "text": [
      "epoch 468 | tr 0.1248686848034104 | val 0.32409332096576693\n"
     ]
    },
    {
     "name": "stderr",
     "output_type": "stream",
     "text": [
      "100%|██████████| 139/139 [00:04<00:00, 33.63it/s]\n",
      "100%|██████████| 10/10 [00:00<00:00, 760.83it/s]\n"
     ]
    },
    {
     "name": "stdout",
     "output_type": "stream",
     "text": [
      "epoch 469 | tr 0.12279202676505493 | val 0.32288854420185087\n"
     ]
    },
    {
     "name": "stderr",
     "output_type": "stream",
     "text": [
      "100%|██████████| 139/139 [00:04<00:00, 33.64it/s]\n",
      "100%|██████████| 10/10 [00:00<00:00, 768.64it/s]\n"
     ]
    },
    {
     "name": "stdout",
     "output_type": "stream",
     "text": [
      "epoch 470 | tr 0.1237399822516407 | val 0.32044732868671416\n"
     ]
    },
    {
     "name": "stderr",
     "output_type": "stream",
     "text": [
      "100%|██████████| 139/139 [00:04<00:00, 33.61it/s]\n",
      "100%|██████████| 10/10 [00:00<00:00, 744.23it/s]\n"
     ]
    },
    {
     "name": "stdout",
     "output_type": "stream",
     "text": [
      "epoch 471 | tr 0.12401190266120347 | val 0.3197801634669304\n"
     ]
    },
    {
     "name": "stderr",
     "output_type": "stream",
     "text": [
      "100%|██████████| 139/139 [00:04<00:00, 33.62it/s]\n",
      "100%|██████████| 10/10 [00:00<00:00, 761.23it/s]\n"
     ]
    },
    {
     "name": "stdout",
     "output_type": "stream",
     "text": [
      "epoch 472 | tr 0.12440888160209862 | val 0.3232248067855835\n"
     ]
    },
    {
     "name": "stderr",
     "output_type": "stream",
     "text": [
      "100%|██████████| 139/139 [00:04<00:00, 33.61it/s]\n",
      "100%|██████████| 10/10 [00:00<00:00, 767.08it/s]\n"
     ]
    },
    {
     "name": "stdout",
     "output_type": "stream",
     "text": [
      "epoch 473 | tr 0.12048375638697645 | val 0.3210651218891144\n"
     ]
    },
    {
     "name": "stderr",
     "output_type": "stream",
     "text": [
      "100%|██████████| 139/139 [00:04<00:00, 33.62it/s]\n",
      "100%|██████████| 10/10 [00:00<00:00, 747.04it/s]\n"
     ]
    },
    {
     "name": "stdout",
     "output_type": "stream",
     "text": [
      "epoch 474 | tr 0.12498496360272812 | val 0.32406872808933257\n"
     ]
    },
    {
     "name": "stderr",
     "output_type": "stream",
     "text": [
      "100%|██████████| 139/139 [00:04<00:00, 33.64it/s]\n",
      "100%|██████████| 10/10 [00:00<00:00, 758.05it/s]\n"
     ]
    },
    {
     "name": "stdout",
     "output_type": "stream",
     "text": [
      "epoch 475 | tr 0.12176606814852721 | val 0.3215084165334702\n"
     ]
    },
    {
     "name": "stderr",
     "output_type": "stream",
     "text": [
      "100%|██████████| 139/139 [00:04<00:00, 33.65it/s]\n",
      "100%|██████████| 10/10 [00:00<00:00, 759.31it/s]\n"
     ]
    },
    {
     "name": "stdout",
     "output_type": "stream",
     "text": [
      "epoch 476 | tr 0.11707084802843684 | val 0.32522503435611727\n"
     ]
    },
    {
     "name": "stderr",
     "output_type": "stream",
     "text": [
      "100%|██████████| 139/139 [00:04<00:00, 33.63it/s]\n",
      "100%|██████████| 10/10 [00:00<00:00, 752.30it/s]\n"
     ]
    },
    {
     "name": "stdout",
     "output_type": "stream",
     "text": [
      "epoch 477 | tr 0.12153339482468667 | val 0.3203993707895279\n"
     ]
    },
    {
     "name": "stderr",
     "output_type": "stream",
     "text": [
      "100%|██████████| 139/139 [00:04<00:00, 33.63it/s]\n",
      "100%|██████████| 10/10 [00:00<00:00, 765.86it/s]\n"
     ]
    },
    {
     "name": "stdout",
     "output_type": "stream",
     "text": [
      "epoch 478 | tr 0.11490017012190476 | val 0.3130807340145111\n"
     ]
    },
    {
     "name": "stderr",
     "output_type": "stream",
     "text": [
      "100%|██████████| 139/139 [00:04<00:00, 33.66it/s]\n",
      "100%|██████████| 10/10 [00:00<00:00, 780.82it/s]\n"
     ]
    },
    {
     "name": "stdout",
     "output_type": "stream",
     "text": [
      "epoch 479 | tr 0.11256341389614902 | val 0.3221041262149811\n"
     ]
    },
    {
     "name": "stderr",
     "output_type": "stream",
     "text": [
      "100%|██████████| 139/139 [00:04<00:00, 33.66it/s]\n",
      "100%|██████████| 10/10 [00:00<00:00, 755.09it/s]\n"
     ]
    },
    {
     "name": "stdout",
     "output_type": "stream",
     "text": [
      "epoch 480 | tr 0.11390018736501392 | val 0.3139296919107437\n"
     ]
    },
    {
     "name": "stderr",
     "output_type": "stream",
     "text": [
      "100%|██████████| 139/139 [00:04<00:00, 33.62it/s]\n",
      "100%|██████████| 10/10 [00:00<00:00, 747.29it/s]\n"
     ]
    },
    {
     "name": "stdout",
     "output_type": "stream",
     "text": [
      "epoch 481 | tr 0.12093195426378318 | val 0.32684682309627533\n"
     ]
    },
    {
     "name": "stderr",
     "output_type": "stream",
     "text": [
      "100%|██████████| 139/139 [00:04<00:00, 33.61it/s]\n",
      "100%|██████████| 10/10 [00:00<00:00, 764.46it/s]\n"
     ]
    },
    {
     "name": "stdout",
     "output_type": "stream",
     "text": [
      "epoch 482 | tr 0.12409235510251505 | val 0.3303990691900253\n"
     ]
    },
    {
     "name": "stderr",
     "output_type": "stream",
     "text": [
      "100%|██████████| 139/139 [00:04<00:00, 33.63it/s]\n",
      "100%|██████████| 10/10 [00:00<00:00, 759.21it/s]\n"
     ]
    },
    {
     "name": "stdout",
     "output_type": "stream",
     "text": [
      "epoch 483 | tr 0.12126545924291336 | val 0.3189311891794205\n"
     ]
    },
    {
     "name": "stderr",
     "output_type": "stream",
     "text": [
      "100%|██████████| 139/139 [00:04<00:00, 33.64it/s]\n",
      "100%|██████████| 10/10 [00:00<00:00, 758.53it/s]\n"
     ]
    },
    {
     "name": "stdout",
     "output_type": "stream",
     "text": [
      "epoch 484 | tr 0.11763935691589932 | val 0.32854912579059603\n"
     ]
    },
    {
     "name": "stderr",
     "output_type": "stream",
     "text": [
      "100%|██████████| 139/139 [00:04<00:00, 33.56it/s]\n",
      "100%|██████████| 10/10 [00:00<00:00, 757.34it/s]\n"
     ]
    },
    {
     "name": "stdout",
     "output_type": "stream",
     "text": [
      "epoch 485 | tr 0.12009559786148208 | val 0.32372159957885743\n"
     ]
    },
    {
     "name": "stderr",
     "output_type": "stream",
     "text": [
      "100%|██████████| 139/139 [00:04<00:00, 33.61it/s]\n",
      "100%|██████████| 10/10 [00:00<00:00, 742.72it/s]\n"
     ]
    },
    {
     "name": "stdout",
     "output_type": "stream",
     "text": [
      "epoch 486 | tr 0.11955124911644475 | val 0.3194888859987259\n"
     ]
    },
    {
     "name": "stderr",
     "output_type": "stream",
     "text": [
      "100%|██████████| 139/139 [00:04<00:00, 33.61it/s]\n",
      "100%|██████████| 10/10 [00:00<00:00, 767.20it/s]\n"
     ]
    },
    {
     "name": "stdout",
     "output_type": "stream",
     "text": [
      "epoch 487 | tr 0.12463463692785166 | val 0.33314423859119413\n"
     ]
    },
    {
     "name": "stderr",
     "output_type": "stream",
     "text": [
      "100%|██████████| 139/139 [00:04<00:00, 33.62it/s]\n",
      "100%|██████████| 10/10 [00:00<00:00, 747.14it/s]\n"
     ]
    },
    {
     "name": "stdout",
     "output_type": "stream",
     "text": [
      "epoch 488 | tr 0.11923418906952837 | val 0.31986175626516344\n"
     ]
    },
    {
     "name": "stderr",
     "output_type": "stream",
     "text": [
      "100%|██████████| 139/139 [00:04<00:00, 33.61it/s]\n",
      "100%|██████████| 10/10 [00:00<00:00, 739.21it/s]\n"
     ]
    },
    {
     "name": "stdout",
     "output_type": "stream",
     "text": [
      "epoch 489 | tr 0.11902451466956585 | val 0.32170814275741577\n"
     ]
    },
    {
     "name": "stderr",
     "output_type": "stream",
     "text": [
      "100%|██████████| 139/139 [00:04<00:00, 33.61it/s]\n",
      "100%|██████████| 10/10 [00:00<00:00, 670.52it/s]\n"
     ]
    },
    {
     "name": "stdout",
     "output_type": "stream",
     "text": [
      "epoch 490 | tr 0.11835850308910548 | val 0.33007071614265443\n"
     ]
    },
    {
     "name": "stderr",
     "output_type": "stream",
     "text": [
      "100%|██████████| 139/139 [00:04<00:00, 33.61it/s]\n",
      "100%|██████████| 10/10 [00:00<00:00, 746.40it/s]\n"
     ]
    },
    {
     "name": "stdout",
     "output_type": "stream",
     "text": [
      "epoch 491 | tr 0.12091911790503872 | val 0.3184077501296997\n"
     ]
    },
    {
     "name": "stderr",
     "output_type": "stream",
     "text": [
      "100%|██████████| 139/139 [00:04<00:00, 33.62it/s]\n",
      "100%|██████████| 10/10 [00:00<00:00, 763.54it/s]\n"
     ]
    },
    {
     "name": "stdout",
     "output_type": "stream",
     "text": [
      "epoch 492 | tr 0.12006122350907154 | val 0.3317998468875885\n"
     ]
    },
    {
     "name": "stderr",
     "output_type": "stream",
     "text": [
      "100%|██████████| 139/139 [00:04<00:00, 33.61it/s]\n",
      "100%|██████████| 10/10 [00:00<00:00, 741.62it/s]\n"
     ]
    },
    {
     "name": "stdout",
     "output_type": "stream",
     "text": [
      "epoch 493 | tr 0.12232322953373408 | val 0.31247048676013944\n"
     ]
    },
    {
     "name": "stderr",
     "output_type": "stream",
     "text": [
      "100%|██████████| 139/139 [00:04<00:00, 33.60it/s]\n",
      "100%|██████████| 10/10 [00:00<00:00, 740.95it/s]\n"
     ]
    },
    {
     "name": "stdout",
     "output_type": "stream",
     "text": [
      "epoch 494 | tr 0.11301322994257906 | val 0.3215578109025955\n"
     ]
    },
    {
     "name": "stderr",
     "output_type": "stream",
     "text": [
      "100%|██████████| 139/139 [00:04<00:00, 33.56it/s]\n",
      "100%|██████████| 10/10 [00:00<00:00, 766.24it/s]\n"
     ]
    },
    {
     "name": "stdout",
     "output_type": "stream",
     "text": [
      "epoch 495 | tr 0.11538108711620029 | val 0.3209711968898773\n"
     ]
    },
    {
     "name": "stderr",
     "output_type": "stream",
     "text": [
      "100%|██████████| 139/139 [00:04<00:00, 33.63it/s]\n",
      "100%|██████████| 10/10 [00:00<00:00, 750.46it/s]\n"
     ]
    },
    {
     "name": "stdout",
     "output_type": "stream",
     "text": [
      "epoch 496 | tr 0.11679111565831754 | val 0.32068727910518646\n"
     ]
    },
    {
     "name": "stderr",
     "output_type": "stream",
     "text": [
      "100%|██████████| 139/139 [00:04<00:00, 33.63it/s]\n",
      "100%|██████████| 10/10 [00:00<00:00, 767.06it/s]\n"
     ]
    },
    {
     "name": "stdout",
     "output_type": "stream",
     "text": [
      "epoch 497 | tr 0.11459849806998273 | val 0.3275795727968216\n"
     ]
    },
    {
     "name": "stderr",
     "output_type": "stream",
     "text": [
      "100%|██████████| 139/139 [00:04<00:00, 33.62it/s]\n",
      "100%|██████████| 10/10 [00:00<00:00, 758.59it/s]\n"
     ]
    },
    {
     "name": "stdout",
     "output_type": "stream",
     "text": [
      "epoch 498 | tr 0.12170490997729541 | val 0.31887449622154235\n"
     ]
    },
    {
     "name": "stderr",
     "output_type": "stream",
     "text": [
      "100%|██████████| 139/139 [00:04<00:00, 33.64it/s]\n",
      "100%|██████████| 10/10 [00:00<00:00, 766.12it/s]\n"
     ]
    },
    {
     "name": "stdout",
     "output_type": "stream",
     "text": [
      "epoch 499 | tr 0.12030251951311989 | val 0.3190891295671463\n"
     ]
    },
    {
     "name": "stderr",
     "output_type": "stream",
     "text": [
      "100%|██████████| 139/139 [00:04<00:00, 33.63it/s]\n",
      "100%|██████████| 10/10 [00:00<00:00, 752.50it/s]\n"
     ]
    },
    {
     "name": "stdout",
     "output_type": "stream",
     "text": [
      "epoch 500 | tr 0.1290816725801221 | val 0.32798764258623125\n"
     ]
    },
    {
     "name": "stderr",
     "output_type": "stream",
     "text": [
      "100%|██████████| 139/139 [00:04<00:00, 33.64it/s]\n",
      "100%|██████████| 10/10 [00:00<00:00, 765.20it/s]\n"
     ]
    },
    {
     "name": "stdout",
     "output_type": "stream",
     "text": [
      "epoch 501 | tr 0.12383299792627636 | val 0.3260905772447586\n"
     ]
    },
    {
     "name": "stderr",
     "output_type": "stream",
     "text": [
      "100%|██████████| 139/139 [00:04<00:00, 33.65it/s]\n",
      "100%|██████████| 10/10 [00:00<00:00, 760.79it/s]\n"
     ]
    },
    {
     "name": "stdout",
     "output_type": "stream",
     "text": [
      "epoch 502 | tr 0.11839840968521378 | val 0.3283333331346512\n"
     ]
    },
    {
     "name": "stderr",
     "output_type": "stream",
     "text": [
      "100%|██████████| 139/139 [00:04<00:00, 33.59it/s]\n",
      "100%|██████████| 10/10 [00:00<00:00, 749.73it/s]\n"
     ]
    },
    {
     "name": "stdout",
     "output_type": "stream",
     "text": [
      "epoch 503 | tr 0.1176821570709455 | val 0.31792825162410737\n"
     ]
    },
    {
     "name": "stderr",
     "output_type": "stream",
     "text": [
      "100%|██████████| 139/139 [00:04<00:00, 33.65it/s]\n",
      "100%|██████████| 10/10 [00:00<00:00, 753.38it/s]\n"
     ]
    },
    {
     "name": "stdout",
     "output_type": "stream",
     "text": [
      "epoch 504 | tr 0.1205151376428364 | val 0.3258801758289337\n"
     ]
    },
    {
     "name": "stderr",
     "output_type": "stream",
     "text": [
      "100%|██████████| 139/139 [00:04<00:00, 33.61it/s]\n",
      "100%|██████████| 10/10 [00:00<00:00, 767.27it/s]\n"
     ]
    },
    {
     "name": "stdout",
     "output_type": "stream",
     "text": [
      "epoch 505 | tr 0.12256956947364396 | val 0.32762992531061175\n"
     ]
    },
    {
     "name": "stderr",
     "output_type": "stream",
     "text": [
      "100%|██████████| 139/139 [00:04<00:00, 33.59it/s]\n",
      "100%|██████████| 10/10 [00:00<00:00, 756.96it/s]\n"
     ]
    },
    {
     "name": "stdout",
     "output_type": "stream",
     "text": [
      "epoch 506 | tr 0.11936498674557364 | val 0.32661712169647217\n"
     ]
    },
    {
     "name": "stderr",
     "output_type": "stream",
     "text": [
      "100%|██████████| 139/139 [00:04<00:00, 33.60it/s]\n",
      "100%|██████████| 10/10 [00:00<00:00, 757.61it/s]\n"
     ]
    },
    {
     "name": "stdout",
     "output_type": "stream",
     "text": [
      "epoch 507 | tr 0.11984741317925693 | val 0.32643027007579806\n"
     ]
    },
    {
     "name": "stderr",
     "output_type": "stream",
     "text": [
      "100%|██████████| 139/139 [00:04<00:00, 33.63it/s]\n",
      "100%|██████████| 10/10 [00:00<00:00, 748.30it/s]\n"
     ]
    },
    {
     "name": "stdout",
     "output_type": "stream",
     "text": [
      "epoch 508 | tr 0.11873718420807407 | val 0.3250700682401657\n"
     ]
    },
    {
     "name": "stderr",
     "output_type": "stream",
     "text": [
      "100%|██████████| 139/139 [00:04<00:00, 33.62it/s]\n",
      "100%|██████████| 10/10 [00:00<00:00, 753.54it/s]\n"
     ]
    },
    {
     "name": "stdout",
     "output_type": "stream",
     "text": [
      "epoch 509 | tr 0.11784119770038042 | val 0.32424735724925996\n"
     ]
    },
    {
     "name": "stderr",
     "output_type": "stream",
     "text": [
      "100%|██████████| 139/139 [00:04<00:00, 33.61it/s]\n",
      "100%|██████████| 10/10 [00:00<00:00, 765.01it/s]\n"
     ]
    },
    {
     "name": "stdout",
     "output_type": "stream",
     "text": [
      "epoch 510 | tr 0.12007810011934891 | val 0.3237236738204956\n"
     ]
    },
    {
     "name": "stderr",
     "output_type": "stream",
     "text": [
      "100%|██████████| 139/139 [00:04<00:00, 33.64it/s]\n",
      "100%|██████████| 10/10 [00:00<00:00, 732.11it/s]\n"
     ]
    },
    {
     "name": "stdout",
     "output_type": "stream",
     "text": [
      "epoch 511 | tr 0.11964614775112208 | val 0.31881318241357803\n"
     ]
    },
    {
     "name": "stderr",
     "output_type": "stream",
     "text": [
      "100%|██████████| 139/139 [00:04<00:00, 33.63it/s]\n",
      "100%|██████████| 10/10 [00:00<00:00, 768.57it/s]\n"
     ]
    },
    {
     "name": "stdout",
     "output_type": "stream",
     "text": [
      "epoch 512 | tr 0.1204076901935845 | val 0.32097282707691194\n"
     ]
    },
    {
     "name": "stderr",
     "output_type": "stream",
     "text": [
      "100%|██████████| 139/139 [00:04<00:00, 33.64it/s]\n",
      "100%|██████████| 10/10 [00:00<00:00, 770.32it/s]\n"
     ]
    },
    {
     "name": "stdout",
     "output_type": "stream",
     "text": [
      "epoch 513 | tr 0.11691092297756414 | val 0.3249544411897659\n"
     ]
    },
    {
     "name": "stderr",
     "output_type": "stream",
     "text": [
      "100%|██████████| 139/139 [00:04<00:00, 33.67it/s]\n",
      "100%|██████████| 10/10 [00:00<00:00, 768.62it/s]\n"
     ]
    },
    {
     "name": "stdout",
     "output_type": "stream",
     "text": [
      "epoch 514 | tr 0.12107900648022728 | val 0.31899604201316833\n"
     ]
    },
    {
     "name": "stderr",
     "output_type": "stream",
     "text": [
      "100%|██████████| 139/139 [00:04<00:00, 33.62it/s]\n",
      "100%|██████████| 10/10 [00:00<00:00, 765.36it/s]\n"
     ]
    },
    {
     "name": "stdout",
     "output_type": "stream",
     "text": [
      "epoch 515 | tr 0.1170173332952767 | val 0.31716512739658353\n"
     ]
    },
    {
     "name": "stderr",
     "output_type": "stream",
     "text": [
      "100%|██████████| 139/139 [00:04<00:00, 33.62it/s]\n",
      "100%|██████████| 10/10 [00:00<00:00, 764.32it/s]\n"
     ]
    },
    {
     "name": "stdout",
     "output_type": "stream",
     "text": [
      "epoch 516 | tr 0.12096605449914932 | val 0.32672826051712034\n"
     ]
    },
    {
     "name": "stderr",
     "output_type": "stream",
     "text": [
      "100%|██████████| 139/139 [00:04<00:00, 33.64it/s]\n",
      "100%|██████████| 10/10 [00:00<00:00, 749.64it/s]\n"
     ]
    },
    {
     "name": "stdout",
     "output_type": "stream",
     "text": [
      "epoch 517 | tr 0.11887920578177884 | val 0.31544855386018755\n"
     ]
    },
    {
     "name": "stderr",
     "output_type": "stream",
     "text": [
      "100%|██████████| 139/139 [00:04<00:00, 33.58it/s]\n",
      "100%|██████████| 10/10 [00:00<00:00, 766.49it/s]\n"
     ]
    },
    {
     "name": "stdout",
     "output_type": "stream",
     "text": [
      "epoch 518 | tr 0.11890365799768365 | val 0.3192105621099472\n"
     ]
    },
    {
     "name": "stderr",
     "output_type": "stream",
     "text": [
      "100%|██████████| 139/139 [00:04<00:00, 33.61it/s]\n",
      "100%|██████████| 10/10 [00:00<00:00, 759.15it/s]\n"
     ]
    },
    {
     "name": "stdout",
     "output_type": "stream",
     "text": [
      "epoch 519 | tr 0.11626670879425763 | val 0.3251397132873535\n"
     ]
    },
    {
     "name": "stderr",
     "output_type": "stream",
     "text": [
      "100%|██████████| 139/139 [00:04<00:00, 33.60it/s]\n",
      "100%|██████████| 10/10 [00:00<00:00, 767.09it/s]\n"
     ]
    },
    {
     "name": "stdout",
     "output_type": "stream",
     "text": [
      "epoch 520 | tr 0.11814640087189435 | val 0.3215448439121246\n"
     ]
    },
    {
     "name": "stderr",
     "output_type": "stream",
     "text": [
      "100%|██████████| 139/139 [00:04<00:00, 33.62it/s]\n",
      "100%|██████████| 10/10 [00:00<00:00, 747.02it/s]\n"
     ]
    },
    {
     "name": "stdout",
     "output_type": "stream",
     "text": [
      "epoch 521 | tr 0.11365618465615691 | val 0.32330954968929293\n"
     ]
    },
    {
     "name": "stderr",
     "output_type": "stream",
     "text": [
      "100%|██████████| 139/139 [00:04<00:00, 33.62it/s]\n",
      "100%|██████████| 10/10 [00:00<00:00, 747.67it/s]\n"
     ]
    },
    {
     "name": "stdout",
     "output_type": "stream",
     "text": [
      "epoch 522 | tr 0.11320388590474781 | val 0.3266959086060524\n"
     ]
    },
    {
     "name": "stderr",
     "output_type": "stream",
     "text": [
      "100%|██████████| 139/139 [00:04<00:00, 33.61it/s]\n",
      "100%|██████████| 10/10 [00:00<00:00, 748.78it/s]\n"
     ]
    },
    {
     "name": "stdout",
     "output_type": "stream",
     "text": [
      "epoch 523 | tr 0.11513953168186353 | val 0.32112326472997665\n"
     ]
    },
    {
     "name": "stderr",
     "output_type": "stream",
     "text": [
      "100%|██████████| 139/139 [00:04<00:00, 33.63it/s]\n",
      "100%|██████████| 10/10 [00:00<00:00, 769.33it/s]\n"
     ]
    },
    {
     "name": "stdout",
     "output_type": "stream",
     "text": [
      "epoch 524 | tr 0.114728645026255 | val 0.3193219661712646\n"
     ]
    },
    {
     "name": "stderr",
     "output_type": "stream",
     "text": [
      "100%|██████████| 139/139 [00:04<00:00, 33.61it/s]\n",
      "100%|██████████| 10/10 [00:00<00:00, 745.07it/s]\n"
     ]
    },
    {
     "name": "stdout",
     "output_type": "stream",
     "text": [
      "epoch 525 | tr 0.11246962014505331 | val 0.32169643342494963\n"
     ]
    },
    {
     "name": "stderr",
     "output_type": "stream",
     "text": [
      "100%|██████████| 139/139 [00:04<00:00, 33.61it/s]\n",
      "100%|██████████| 10/10 [00:00<00:00, 762.91it/s]\n"
     ]
    },
    {
     "name": "stdout",
     "output_type": "stream",
     "text": [
      "epoch 526 | tr 0.11129366686875872 | val 0.32241539359092714\n"
     ]
    },
    {
     "name": "stderr",
     "output_type": "stream",
     "text": [
      "100%|██████████| 139/139 [00:04<00:00, 33.66it/s]\n",
      "100%|██████████| 10/10 [00:00<00:00, 764.84it/s]\n"
     ]
    },
    {
     "name": "stdout",
     "output_type": "stream",
     "text": [
      "epoch 527 | tr 0.11480497215077173 | val 0.3219136580824852\n"
     ]
    },
    {
     "name": "stderr",
     "output_type": "stream",
     "text": [
      "100%|██████████| 139/139 [00:04<00:00, 33.65it/s]\n",
      "100%|██████████| 10/10 [00:00<00:00, 767.40it/s]\n"
     ]
    },
    {
     "name": "stdout",
     "output_type": "stream",
     "text": [
      "epoch 528 | tr 0.12054356996961635 | val 0.33318471908569336\n"
     ]
    },
    {
     "name": "stderr",
     "output_type": "stream",
     "text": [
      "100%|██████████| 139/139 [00:04<00:00, 33.60it/s]\n",
      "100%|██████████| 10/10 [00:00<00:00, 759.71it/s]\n"
     ]
    },
    {
     "name": "stdout",
     "output_type": "stream",
     "text": [
      "epoch 529 | tr 0.12055997271760763 | val 0.3298644423484802\n"
     ]
    },
    {
     "name": "stderr",
     "output_type": "stream",
     "text": [
      "100%|██████████| 139/139 [00:04<00:00, 33.61it/s]\n",
      "100%|██████████| 10/10 [00:00<00:00, 759.42it/s]\n"
     ]
    },
    {
     "name": "stdout",
     "output_type": "stream",
     "text": [
      "epoch 530 | tr 0.1235326048817566 | val 0.33261609971523287\n"
     ]
    },
    {
     "name": "stderr",
     "output_type": "stream",
     "text": [
      "100%|██████████| 139/139 [00:04<00:00, 33.63it/s]\n",
      "100%|██████████| 10/10 [00:00<00:00, 753.50it/s]\n"
     ]
    },
    {
     "name": "stdout",
     "output_type": "stream",
     "text": [
      "epoch 531 | tr 0.12471087571742723 | val 0.3289394751191139\n"
     ]
    },
    {
     "name": "stderr",
     "output_type": "stream",
     "text": [
      "100%|██████████| 139/139 [00:04<00:00, 33.63it/s]\n",
      "100%|██████████| 10/10 [00:00<00:00, 764.85it/s]\n"
     ]
    },
    {
     "name": "stdout",
     "output_type": "stream",
     "text": [
      "epoch 532 | tr 0.12130995496785899 | val 0.321289199590683\n"
     ]
    },
    {
     "name": "stderr",
     "output_type": "stream",
     "text": [
      "100%|██████████| 139/139 [00:04<00:00, 33.61it/s]\n",
      "100%|██████████| 10/10 [00:00<00:00, 764.67it/s]\n"
     ]
    },
    {
     "name": "stdout",
     "output_type": "stream",
     "text": [
      "epoch 533 | tr 0.11833044296974758 | val 0.31836493611335753\n"
     ]
    },
    {
     "name": "stderr",
     "output_type": "stream",
     "text": [
      "100%|██████████| 139/139 [00:04<00:00, 33.67it/s]\n",
      "100%|██████████| 10/10 [00:00<00:00, 763.67it/s]\n"
     ]
    },
    {
     "name": "stdout",
     "output_type": "stream",
     "text": [
      "epoch 534 | tr 0.11779389401777185 | val 0.32539778351783755\n"
     ]
    },
    {
     "name": "stderr",
     "output_type": "stream",
     "text": [
      "100%|██████████| 139/139 [00:04<00:00, 33.62it/s]\n",
      "100%|██████████| 10/10 [00:00<00:00, 763.91it/s]\n"
     ]
    },
    {
     "name": "stdout",
     "output_type": "stream",
     "text": [
      "epoch 535 | tr 0.12141116437830514 | val 0.3227148294448853\n"
     ]
    },
    {
     "name": "stderr",
     "output_type": "stream",
     "text": [
      "100%|██████████| 139/139 [00:04<00:00, 33.63it/s]\n",
      "100%|██████████| 10/10 [00:00<00:00, 762.17it/s]\n"
     ]
    },
    {
     "name": "stdout",
     "output_type": "stream",
     "text": [
      "epoch 536 | tr 0.11858533574737233 | val 0.3210922360420227\n"
     ]
    },
    {
     "name": "stderr",
     "output_type": "stream",
     "text": [
      "100%|██████████| 139/139 [00:04<00:00, 33.61it/s]\n",
      "100%|██████████| 10/10 [00:00<00:00, 754.14it/s]\n"
     ]
    },
    {
     "name": "stdout",
     "output_type": "stream",
     "text": [
      "epoch 537 | tr 0.11742565679035598 | val 0.3236986130475998\n"
     ]
    },
    {
     "name": "stderr",
     "output_type": "stream",
     "text": [
      "100%|██████████| 139/139 [00:04<00:00, 33.60it/s]\n",
      "100%|██████████| 10/10 [00:00<00:00, 760.98it/s]\n"
     ]
    },
    {
     "name": "stdout",
     "output_type": "stream",
     "text": [
      "epoch 538 | tr 0.11698780031941777 | val 0.3264245539903641\n"
     ]
    },
    {
     "name": "stderr",
     "output_type": "stream",
     "text": [
      "100%|██████████| 139/139 [00:04<00:00, 33.62it/s]\n",
      "100%|██████████| 10/10 [00:00<00:00, 750.51it/s]\n"
     ]
    },
    {
     "name": "stdout",
     "output_type": "stream",
     "text": [
      "epoch 539 | tr 0.11702360239603536 | val 0.32371788620948794\n"
     ]
    },
    {
     "name": "stderr",
     "output_type": "stream",
     "text": [
      "100%|██████████| 139/139 [00:04<00:00, 33.63it/s]\n",
      "100%|██████████| 10/10 [00:00<00:00, 761.01it/s]\n"
     ]
    },
    {
     "name": "stdout",
     "output_type": "stream",
     "text": [
      "epoch 540 | tr 0.11491959091785142 | val 0.32410103976726534\n"
     ]
    },
    {
     "name": "stderr",
     "output_type": "stream",
     "text": [
      "100%|██████████| 139/139 [00:04<00:00, 33.63it/s]\n",
      "100%|██████████| 10/10 [00:00<00:00, 747.90it/s]\n"
     ]
    },
    {
     "name": "stdout",
     "output_type": "stream",
     "text": [
      "epoch 541 | tr 0.11490780517137308 | val 0.3299665778875351\n"
     ]
    },
    {
     "name": "stderr",
     "output_type": "stream",
     "text": [
      "100%|██████████| 139/139 [00:04<00:00, 33.58it/s]\n",
      "100%|██████████| 10/10 [00:00<00:00, 752.34it/s]\n"
     ]
    },
    {
     "name": "stdout",
     "output_type": "stream",
     "text": [
      "epoch 542 | tr 0.11840555672165301 | val 0.32208761274814607\n"
     ]
    },
    {
     "name": "stderr",
     "output_type": "stream",
     "text": [
      "100%|██████████| 139/139 [00:04<00:00, 33.60it/s]\n",
      "100%|██████████| 10/10 [00:00<00:00, 766.29it/s]\n"
     ]
    },
    {
     "name": "stdout",
     "output_type": "stream",
     "text": [
      "epoch 543 | tr 0.12145337735791858 | val 0.32885617166757586\n"
     ]
    },
    {
     "name": "stderr",
     "output_type": "stream",
     "text": [
      "100%|██████████| 139/139 [00:04<00:00, 33.63it/s]\n",
      "100%|██████████| 10/10 [00:00<00:00, 761.12it/s]\n"
     ]
    },
    {
     "name": "stdout",
     "output_type": "stream",
     "text": [
      "epoch 544 | tr 0.1203242618081381 | val 0.32775993943214415\n"
     ]
    },
    {
     "name": "stderr",
     "output_type": "stream",
     "text": [
      "100%|██████████| 139/139 [00:04<00:00, 33.59it/s]\n",
      "100%|██████████| 10/10 [00:00<00:00, 729.46it/s]\n"
     ]
    },
    {
     "name": "stdout",
     "output_type": "stream",
     "text": [
      "epoch 545 | tr 0.11983057317866695 | val 0.32537126541137695\n"
     ]
    },
    {
     "name": "stderr",
     "output_type": "stream",
     "text": [
      "100%|██████████| 139/139 [00:04<00:00, 33.59it/s]\n",
      "100%|██████████| 10/10 [00:00<00:00, 756.22it/s]\n"
     ]
    },
    {
     "name": "stdout",
     "output_type": "stream",
     "text": [
      "epoch 546 | tr 0.12089007728391414 | val 0.3305876672267914\n"
     ]
    },
    {
     "name": "stderr",
     "output_type": "stream",
     "text": [
      "100%|██████████| 139/139 [00:04<00:00, 33.62it/s]\n",
      "100%|██████████| 10/10 [00:00<00:00, 757.19it/s]\n"
     ]
    },
    {
     "name": "stdout",
     "output_type": "stream",
     "text": [
      "epoch 547 | tr 0.11768408435926163 | val 0.31995080411434174\n"
     ]
    },
    {
     "name": "stderr",
     "output_type": "stream",
     "text": [
      "100%|██████████| 139/139 [00:04<00:00, 33.59it/s]\n",
      "100%|██████████| 10/10 [00:00<00:00, 750.55it/s]\n"
     ]
    },
    {
     "name": "stdout",
     "output_type": "stream",
     "text": [
      "epoch 548 | tr 0.1183875016064095 | val 0.32356763184070586\n"
     ]
    },
    {
     "name": "stderr",
     "output_type": "stream",
     "text": [
      "100%|██████████| 139/139 [00:04<00:00, 33.59it/s]\n",
      "100%|██████████| 10/10 [00:00<00:00, 737.33it/s]\n"
     ]
    },
    {
     "name": "stdout",
     "output_type": "stream",
     "text": [
      "epoch 549 | tr 0.12443609005041259 | val 0.3215253859758377\n"
     ]
    },
    {
     "name": "stderr",
     "output_type": "stream",
     "text": [
      "100%|██████████| 139/139 [00:04<00:00, 33.60it/s]\n",
      "100%|██████████| 10/10 [00:00<00:00, 763.77it/s]\n"
     ]
    },
    {
     "name": "stdout",
     "output_type": "stream",
     "text": [
      "epoch 550 | tr 0.12516302663645298 | val 0.3282320499420166\n"
     ]
    },
    {
     "name": "stderr",
     "output_type": "stream",
     "text": [
      "100%|██████████| 139/139 [00:04<00:00, 33.58it/s]\n",
      "100%|██████████| 10/10 [00:00<00:00, 745.81it/s]\n"
     ]
    },
    {
     "name": "stdout",
     "output_type": "stream",
     "text": [
      "epoch 551 | tr 0.1222286394281353 | val 0.3206189975142479\n"
     ]
    },
    {
     "name": "stderr",
     "output_type": "stream",
     "text": [
      "100%|██████████| 139/139 [00:04<00:00, 33.63it/s]\n",
      "100%|██████████| 10/10 [00:00<00:00, 756.93it/s]\n"
     ]
    },
    {
     "name": "stdout",
     "output_type": "stream",
     "text": [
      "epoch 552 | tr 0.11205552019875684 | val 0.31861634850502013\n"
     ]
    },
    {
     "name": "stderr",
     "output_type": "stream",
     "text": [
      "100%|██████████| 139/139 [00:04<00:00, 33.60it/s]\n",
      "100%|██████████| 10/10 [00:00<00:00, 769.75it/s]\n"
     ]
    },
    {
     "name": "stdout",
     "output_type": "stream",
     "text": [
      "epoch 553 | tr 0.11457813021948011 | val 0.31597107350826265\n"
     ]
    },
    {
     "name": "stderr",
     "output_type": "stream",
     "text": [
      "100%|██████████| 139/139 [00:04<00:00, 33.37it/s]\n",
      "100%|██████████| 10/10 [00:00<00:00, 733.26it/s]\n"
     ]
    },
    {
     "name": "stdout",
     "output_type": "stream",
     "text": [
      "epoch 554 | tr 0.11538835301352061 | val 0.3148113965988159\n"
     ]
    },
    {
     "name": "stderr",
     "output_type": "stream",
     "text": [
      "100%|██████████| 139/139 [00:04<00:00, 33.44it/s]\n",
      "100%|██████████| 10/10 [00:00<00:00, 711.60it/s]\n"
     ]
    },
    {
     "name": "stdout",
     "output_type": "stream",
     "text": [
      "epoch 555 | tr 0.11858992975392788 | val 0.3309656798839569\n"
     ]
    },
    {
     "name": "stderr",
     "output_type": "stream",
     "text": [
      "100%|██████████| 139/139 [00:04<00:00, 33.36it/s]\n",
      "100%|██████████| 10/10 [00:00<00:00, 751.65it/s]\n"
     ]
    },
    {
     "name": "stdout",
     "output_type": "stream",
     "text": [
      "epoch 556 | tr 0.11751226786014846 | val 0.3174167722463608\n"
     ]
    },
    {
     "name": "stderr",
     "output_type": "stream",
     "text": [
      "100%|██████████| 139/139 [00:04<00:00, 33.26it/s]\n",
      "100%|██████████| 10/10 [00:00<00:00, 737.64it/s]\n"
     ]
    },
    {
     "name": "stdout",
     "output_type": "stream",
     "text": [
      "epoch 557 | tr 0.11380678854829115 | val 0.3162745475769043\n"
     ]
    },
    {
     "name": "stderr",
     "output_type": "stream",
     "text": [
      "100%|██████████| 139/139 [00:04<00:00, 33.40it/s]\n",
      "100%|██████████| 10/10 [00:00<00:00, 750.77it/s]\n"
     ]
    },
    {
     "name": "stdout",
     "output_type": "stream",
     "text": [
      "epoch 558 | tr 0.1122999456074598 | val 0.3217370927333832\n"
     ]
    },
    {
     "name": "stderr",
     "output_type": "stream",
     "text": [
      "100%|██████████| 139/139 [00:04<00:00, 32.98it/s]\n",
      "100%|██████████| 10/10 [00:00<00:00, 746.52it/s]\n"
     ]
    },
    {
     "name": "stdout",
     "output_type": "stream",
     "text": [
      "epoch 559 | tr 0.1114668920636177 | val 0.32407853901386263\n"
     ]
    },
    {
     "name": "stderr",
     "output_type": "stream",
     "text": [
      "100%|██████████| 139/139 [00:04<00:00, 33.54it/s]\n",
      "100%|██████████| 10/10 [00:00<00:00, 751.12it/s]\n"
     ]
    },
    {
     "name": "stdout",
     "output_type": "stream",
     "text": [
      "epoch 560 | tr 0.11928308991005095 | val 0.3228319376707077\n"
     ]
    },
    {
     "name": "stderr",
     "output_type": "stream",
     "text": [
      "100%|██████████| 139/139 [00:04<00:00, 33.47it/s]\n",
      "100%|██████████| 10/10 [00:00<00:00, 527.45it/s]\n"
     ]
    },
    {
     "name": "stdout",
     "output_type": "stream",
     "text": [
      "epoch 561 | tr 0.11906996701689933 | val 0.3243602901697159\n"
     ]
    },
    {
     "name": "stderr",
     "output_type": "stream",
     "text": [
      "100%|██████████| 139/139 [00:04<00:00, 33.45it/s]\n",
      "100%|██████████| 10/10 [00:00<00:00, 746.77it/s]\n"
     ]
    },
    {
     "name": "stdout",
     "output_type": "stream",
     "text": [
      "epoch 562 | tr 0.12178952656954313 | val 0.32080722898244857\n"
     ]
    },
    {
     "name": "stderr",
     "output_type": "stream",
     "text": [
      "100%|██████████| 139/139 [00:04<00:00, 33.35it/s]\n",
      "100%|██████████| 10/10 [00:00<00:00, 774.86it/s]\n"
     ]
    },
    {
     "name": "stdout",
     "output_type": "stream",
     "text": [
      "epoch 563 | tr 0.11695565685308237 | val 0.3235217481851578\n"
     ]
    },
    {
     "name": "stderr",
     "output_type": "stream",
     "text": [
      "100%|██████████| 139/139 [00:04<00:00, 33.37it/s]\n",
      "100%|██████████| 10/10 [00:00<00:00, 673.76it/s]\n"
     ]
    },
    {
     "name": "stdout",
     "output_type": "stream",
     "text": [
      "epoch 564 | tr 0.11499467074013442 | val 0.3251882791519165\n"
     ]
    },
    {
     "name": "stderr",
     "output_type": "stream",
     "text": [
      "100%|██████████| 139/139 [00:04<00:00, 33.42it/s]\n",
      "100%|██████████| 10/10 [00:00<00:00, 715.20it/s]\n"
     ]
    },
    {
     "name": "stdout",
     "output_type": "stream",
     "text": [
      "epoch 565 | tr 0.11606685082903868 | val 0.3259246289730072\n"
     ]
    },
    {
     "name": "stderr",
     "output_type": "stream",
     "text": [
      "100%|██████████| 139/139 [00:04<00:00, 33.48it/s]\n",
      "100%|██████████| 10/10 [00:00<00:00, 764.62it/s]\n"
     ]
    },
    {
     "name": "stdout",
     "output_type": "stream",
     "text": [
      "epoch 566 | tr 0.11509142076368813 | val 0.32346861958503725\n"
     ]
    },
    {
     "name": "stderr",
     "output_type": "stream",
     "text": [
      "100%|██████████| 139/139 [00:04<00:00, 33.46it/s]\n",
      "100%|██████████| 10/10 [00:00<00:00, 740.28it/s]\n"
     ]
    },
    {
     "name": "stdout",
     "output_type": "stream",
     "text": [
      "epoch 567 | tr 0.11571042802479627 | val 0.32310927510261533\n"
     ]
    },
    {
     "name": "stderr",
     "output_type": "stream",
     "text": [
      "100%|██████████| 139/139 [00:04<00:00, 33.36it/s]\n",
      "100%|██████████| 10/10 [00:00<00:00, 740.52it/s]\n"
     ]
    },
    {
     "name": "stdout",
     "output_type": "stream",
     "text": [
      "epoch 568 | tr 0.1183732190578104 | val 0.3244211196899414\n"
     ]
    },
    {
     "name": "stderr",
     "output_type": "stream",
     "text": [
      "100%|██████████| 139/139 [00:04<00:00, 33.60it/s]\n",
      "100%|██████████| 10/10 [00:00<00:00, 738.28it/s]\n"
     ]
    },
    {
     "name": "stdout",
     "output_type": "stream",
     "text": [
      "epoch 569 | tr 0.11769479732933662 | val 0.3195421457290649\n"
     ]
    },
    {
     "name": "stderr",
     "output_type": "stream",
     "text": [
      "100%|██████████| 139/139 [00:04<00:00, 33.62it/s]\n",
      "100%|██████████| 10/10 [00:00<00:00, 760.61it/s]\n"
     ]
    },
    {
     "name": "stdout",
     "output_type": "stream",
     "text": [
      "epoch 570 | tr 0.11461476172260243 | val 0.3323042273521423\n"
     ]
    },
    {
     "name": "stderr",
     "output_type": "stream",
     "text": [
      "100%|██████████| 139/139 [00:04<00:00, 33.60it/s]\n",
      "100%|██████████| 10/10 [00:00<00:00, 752.46it/s]\n"
     ]
    },
    {
     "name": "stdout",
     "output_type": "stream",
     "text": [
      "epoch 571 | tr 0.12424014101354339 | val 0.3271893709897995\n"
     ]
    },
    {
     "name": "stderr",
     "output_type": "stream",
     "text": [
      "100%|██████████| 139/139 [00:04<00:00, 33.62it/s]\n",
      "100%|██████████| 10/10 [00:00<00:00, 638.69it/s]\n"
     ]
    },
    {
     "name": "stdout",
     "output_type": "stream",
     "text": [
      "epoch 572 | tr 0.11795207938487581 | val 0.3323035776615143\n"
     ]
    },
    {
     "name": "stderr",
     "output_type": "stream",
     "text": [
      "100%|██████████| 139/139 [00:04<00:00, 33.62it/s]\n",
      "100%|██████████| 10/10 [00:00<00:00, 748.53it/s]\n"
     ]
    },
    {
     "name": "stdout",
     "output_type": "stream",
     "text": [
      "epoch 573 | tr 0.11383272423375425 | val 0.3223113387823105\n"
     ]
    },
    {
     "name": "stderr",
     "output_type": "stream",
     "text": [
      "100%|██████████| 139/139 [00:04<00:00, 33.63it/s]\n",
      "100%|██████████| 10/10 [00:00<00:00, 742.41it/s]\n"
     ]
    },
    {
     "name": "stdout",
     "output_type": "stream",
     "text": [
      "epoch 574 | tr 0.11250212349051195 | val 0.3102206394076347\n"
     ]
    },
    {
     "name": "stderr",
     "output_type": "stream",
     "text": [
      "100%|██████████| 139/139 [00:04<00:00, 33.62it/s]\n",
      "100%|██████████| 10/10 [00:00<00:00, 748.56it/s]\n"
     ]
    },
    {
     "name": "stdout",
     "output_type": "stream",
     "text": [
      "epoch 575 | tr 0.1115189213439715 | val 0.32154246866703035\n"
     ]
    },
    {
     "name": "stderr",
     "output_type": "stream",
     "text": [
      "100%|██████████| 139/139 [00:04<00:00, 33.60it/s]\n",
      "100%|██████████| 10/10 [00:00<00:00, 756.67it/s]\n"
     ]
    },
    {
     "name": "stdout",
     "output_type": "stream",
     "text": [
      "epoch 576 | tr 0.11142134913008847 | val 0.31919203251600264\n"
     ]
    },
    {
     "name": "stderr",
     "output_type": "stream",
     "text": [
      "100%|██████████| 139/139 [00:04<00:00, 33.59it/s]\n",
      "100%|██████████| 10/10 [00:00<00:00, 762.38it/s]\n"
     ]
    },
    {
     "name": "stdout",
     "output_type": "stream",
     "text": [
      "epoch 577 | tr 0.11721047265924138 | val 0.32747738659381864\n"
     ]
    },
    {
     "name": "stderr",
     "output_type": "stream",
     "text": [
      "100%|██████████| 139/139 [00:04<00:00, 33.64it/s]\n",
      "100%|██████████| 10/10 [00:00<00:00, 763.00it/s]\n"
     ]
    },
    {
     "name": "stdout",
     "output_type": "stream",
     "text": [
      "epoch 578 | tr 0.12543368296657534 | val 0.32065131366252897\n"
     ]
    },
    {
     "name": "stderr",
     "output_type": "stream",
     "text": [
      "100%|██████████| 139/139 [00:04<00:00, 33.62it/s]\n",
      "100%|██████████| 10/10 [00:00<00:00, 762.71it/s]\n"
     ]
    },
    {
     "name": "stdout",
     "output_type": "stream",
     "text": [
      "epoch 579 | tr 0.12519111655813328 | val 0.325547331571579\n"
     ]
    },
    {
     "name": "stderr",
     "output_type": "stream",
     "text": [
      "100%|██████████| 139/139 [00:04<00:00, 33.63it/s]\n",
      "100%|██████████| 10/10 [00:00<00:00, 758.29it/s]\n"
     ]
    },
    {
     "name": "stdout",
     "output_type": "stream",
     "text": [
      "epoch 580 | tr 0.1193926411298968 | val 0.31309518218040466\n"
     ]
    },
    {
     "name": "stderr",
     "output_type": "stream",
     "text": [
      "100%|██████████| 139/139 [00:04<00:00, 33.62it/s]\n",
      "100%|██████████| 10/10 [00:00<00:00, 758.88it/s]\n"
     ]
    },
    {
     "name": "stdout",
     "output_type": "stream",
     "text": [
      "epoch 581 | tr 0.1181280015827083 | val 0.32427878677845\n"
     ]
    },
    {
     "name": "stderr",
     "output_type": "stream",
     "text": [
      "100%|██████████| 139/139 [00:04<00:00, 33.63it/s]\n",
      "100%|██████████| 10/10 [00:00<00:00, 732.37it/s]\n"
     ]
    },
    {
     "name": "stdout",
     "output_type": "stream",
     "text": [
      "epoch 582 | tr 0.1136767070392053 | val 0.32886064797639847\n"
     ]
    },
    {
     "name": "stderr",
     "output_type": "stream",
     "text": [
      "100%|██████████| 139/139 [00:04<00:00, 33.62it/s]\n",
      "100%|██████████| 10/10 [00:00<00:00, 746.33it/s]\n"
     ]
    },
    {
     "name": "stdout",
     "output_type": "stream",
     "text": [
      "epoch 583 | tr 0.11739986915168145 | val 0.3167459055781364\n"
     ]
    },
    {
     "name": "stderr",
     "output_type": "stream",
     "text": [
      "100%|██████████| 139/139 [00:04<00:00, 33.57it/s]\n",
      "100%|██████████| 10/10 [00:00<00:00, 687.90it/s]\n"
     ]
    },
    {
     "name": "stdout",
     "output_type": "stream",
     "text": [
      "epoch 584 | tr 0.11068475428673862 | val 0.3211610674858093\n"
     ]
    },
    {
     "name": "stderr",
     "output_type": "stream",
     "text": [
      "100%|██████████| 139/139 [00:04<00:00, 33.61it/s]\n",
      "100%|██████████| 10/10 [00:00<00:00, 759.81it/s]\n"
     ]
    },
    {
     "name": "stdout",
     "output_type": "stream",
     "text": [
      "epoch 585 | tr 0.11196864216769342 | val 0.31626218408346174\n"
     ]
    },
    {
     "name": "stderr",
     "output_type": "stream",
     "text": [
      "100%|██████████| 139/139 [00:04<00:00, 33.61it/s]\n",
      "100%|██████████| 10/10 [00:00<00:00, 758.85it/s]\n"
     ]
    },
    {
     "name": "stdout",
     "output_type": "stream",
     "text": [
      "epoch 586 | tr 0.11221908182977773 | val 0.3335438907146454\n"
     ]
    },
    {
     "name": "stderr",
     "output_type": "stream",
     "text": [
      "100%|██████████| 139/139 [00:04<00:00, 33.63it/s]\n",
      "100%|██████████| 10/10 [00:00<00:00, 758.77it/s]\n"
     ]
    },
    {
     "name": "stdout",
     "output_type": "stream",
     "text": [
      "epoch 587 | tr 0.11270482516546043 | val 0.3273806869983673\n"
     ]
    },
    {
     "name": "stderr",
     "output_type": "stream",
     "text": [
      "100%|██████████| 139/139 [00:04<00:00, 33.63it/s]\n",
      "100%|██████████| 10/10 [00:00<00:00, 730.07it/s]\n"
     ]
    },
    {
     "name": "stdout",
     "output_type": "stream",
     "text": [
      "epoch 588 | tr 0.11575117648291074 | val 0.320123091340065\n"
     ]
    },
    {
     "name": "stderr",
     "output_type": "stream",
     "text": [
      "100%|██████████| 139/139 [00:04<00:00, 33.58it/s]\n",
      "100%|██████████| 10/10 [00:00<00:00, 766.08it/s]\n"
     ]
    },
    {
     "name": "stdout",
     "output_type": "stream",
     "text": [
      "epoch 589 | tr 0.11732449267300771 | val 0.31670197248458865\n"
     ]
    },
    {
     "name": "stderr",
     "output_type": "stream",
     "text": [
      "100%|██████████| 139/139 [00:04<00:00, 33.61it/s]\n",
      "100%|██████████| 10/10 [00:00<00:00, 766.22it/s]\n"
     ]
    },
    {
     "name": "stdout",
     "output_type": "stream",
     "text": [
      "epoch 590 | tr 0.11588042481340093 | val 0.319842991232872\n"
     ]
    },
    {
     "name": "stderr",
     "output_type": "stream",
     "text": [
      "100%|██████████| 139/139 [00:04<00:00, 33.62it/s]\n",
      "100%|██████████| 10/10 [00:00<00:00, 763.34it/s]\n"
     ]
    },
    {
     "name": "stdout",
     "output_type": "stream",
     "text": [
      "epoch 591 | tr 0.1154481283516335 | val 0.3186532199382782\n"
     ]
    },
    {
     "name": "stderr",
     "output_type": "stream",
     "text": [
      "100%|██████████| 139/139 [00:04<00:00, 33.63it/s]\n",
      "100%|██████████| 10/10 [00:00<00:00, 759.63it/s]\n"
     ]
    },
    {
     "name": "stdout",
     "output_type": "stream",
     "text": [
      "epoch 592 | tr 0.11827757638349808 | val 0.32160399556159974\n"
     ]
    },
    {
     "name": "stderr",
     "output_type": "stream",
     "text": [
      "100%|██████████| 139/139 [00:04<00:00, 33.64it/s]\n",
      "100%|██████████| 10/10 [00:00<00:00, 760.22it/s]\n"
     ]
    },
    {
     "name": "stdout",
     "output_type": "stream",
     "text": [
      "epoch 593 | tr 0.11360525270160153 | val 0.31424776613712313\n"
     ]
    },
    {
     "name": "stderr",
     "output_type": "stream",
     "text": [
      "100%|██████████| 139/139 [00:04<00:00, 33.63it/s]\n",
      "100%|██████████| 10/10 [00:00<00:00, 767.51it/s]\n"
     ]
    },
    {
     "name": "stdout",
     "output_type": "stream",
     "text": [
      "epoch 594 | tr 0.11411604773011996 | val 0.32584823966026305\n"
     ]
    },
    {
     "name": "stderr",
     "output_type": "stream",
     "text": [
      "100%|██████████| 139/139 [00:04<00:00, 33.60it/s]\n",
      "100%|██████████| 10/10 [00:00<00:00, 762.55it/s]\n"
     ]
    },
    {
     "name": "stdout",
     "output_type": "stream",
     "text": [
      "epoch 595 | tr 0.11180106995345877 | val 0.3155438005924225\n"
     ]
    },
    {
     "name": "stderr",
     "output_type": "stream",
     "text": [
      "100%|██████████| 139/139 [00:04<00:00, 33.62it/s]\n",
      "100%|██████████| 10/10 [00:00<00:00, 753.75it/s]\n"
     ]
    },
    {
     "name": "stdout",
     "output_type": "stream",
     "text": [
      "epoch 596 | tr 0.1121398758330791 | val 0.32014145255088805\n"
     ]
    },
    {
     "name": "stderr",
     "output_type": "stream",
     "text": [
      "100%|██████████| 139/139 [00:04<00:00, 33.62it/s]\n",
      "100%|██████████| 10/10 [00:00<00:00, 769.57it/s]\n"
     ]
    },
    {
     "name": "stdout",
     "output_type": "stream",
     "text": [
      "epoch 597 | tr 0.11358413148483784 | val 0.3244544714689255\n"
     ]
    },
    {
     "name": "stderr",
     "output_type": "stream",
     "text": [
      "100%|██████████| 139/139 [00:04<00:00, 33.62it/s]\n",
      "100%|██████████| 10/10 [00:00<00:00, 751.33it/s]\n"
     ]
    },
    {
     "name": "stdout",
     "output_type": "stream",
     "text": [
      "epoch 598 | tr 0.11332680871911185 | val 0.32447819113731385\n"
     ]
    },
    {
     "name": "stderr",
     "output_type": "stream",
     "text": [
      "100%|██████████| 139/139 [00:04<00:00, 33.62it/s]\n",
      "100%|██████████| 10/10 [00:00<00:00, 743.95it/s]\n"
     ]
    },
    {
     "name": "stdout",
     "output_type": "stream",
     "text": [
      "epoch 599 | tr 0.11569236749582154 | val 0.32637112140655516\n"
     ]
    },
    {
     "name": "stderr",
     "output_type": "stream",
     "text": [
      "100%|██████████| 139/139 [00:04<00:00, 33.62it/s]\n",
      "100%|██████████| 10/10 [00:00<00:00, 750.46it/s]\n"
     ]
    },
    {
     "name": "stdout",
     "output_type": "stream",
     "text": [
      "epoch 600 | tr 0.12083460760416745 | val 0.3226765275001526\n"
     ]
    },
    {
     "name": "stderr",
     "output_type": "stream",
     "text": [
      "100%|██████████| 139/139 [00:04<00:00, 33.61it/s]\n",
      "100%|██████████| 10/10 [00:00<00:00, 765.52it/s]\n"
     ]
    },
    {
     "name": "stdout",
     "output_type": "stream",
     "text": [
      "epoch 601 | tr 0.11526258053968279 | val 0.3286232739686966\n"
     ]
    },
    {
     "name": "stderr",
     "output_type": "stream",
     "text": [
      "100%|██████████| 139/139 [00:04<00:00, 33.59it/s]\n",
      "100%|██████████| 10/10 [00:00<00:00, 741.32it/s]\n"
     ]
    },
    {
     "name": "stdout",
     "output_type": "stream",
     "text": [
      "epoch 602 | tr 0.11366505073986465 | val 0.32063591331243513\n"
     ]
    },
    {
     "name": "stderr",
     "output_type": "stream",
     "text": [
      "100%|██████████| 139/139 [00:04<00:00, 33.62it/s]\n",
      "100%|██████████| 10/10 [00:00<00:00, 757.61it/s]\n"
     ]
    },
    {
     "name": "stdout",
     "output_type": "stream",
     "text": [
      "epoch 603 | tr 0.11236639251168683 | val 0.32154014706611633\n"
     ]
    },
    {
     "name": "stderr",
     "output_type": "stream",
     "text": [
      "100%|██████████| 139/139 [00:04<00:00, 33.60it/s]\n",
      "100%|██████████| 10/10 [00:00<00:00, 765.97it/s]\n"
     ]
    },
    {
     "name": "stdout",
     "output_type": "stream",
     "text": [
      "epoch 604 | tr 0.1126739782609528 | val 0.32326349765062334\n"
     ]
    },
    {
     "name": "stderr",
     "output_type": "stream",
     "text": [
      "100%|██████████| 139/139 [00:04<00:00, 33.64it/s]\n",
      "100%|██████████| 10/10 [00:00<00:00, 764.56it/s]\n"
     ]
    },
    {
     "name": "stdout",
     "output_type": "stream",
     "text": [
      "epoch 605 | tr 0.11997319950903063 | val 0.32827864289283754\n"
     ]
    },
    {
     "name": "stderr",
     "output_type": "stream",
     "text": [
      "100%|██████████| 139/139 [00:04<00:00, 33.61it/s]\n",
      "100%|██████████| 10/10 [00:00<00:00, 759.67it/s]\n"
     ]
    },
    {
     "name": "stdout",
     "output_type": "stream",
     "text": [
      "epoch 606 | tr 0.11981030457096992 | val 0.3364714592695236\n"
     ]
    },
    {
     "name": "stderr",
     "output_type": "stream",
     "text": [
      "100%|██████████| 139/139 [00:04<00:00, 33.63it/s]\n",
      "100%|██████████| 10/10 [00:00<00:00, 758.75it/s]\n"
     ]
    },
    {
     "name": "stdout",
     "output_type": "stream",
     "text": [
      "epoch 607 | tr 0.11813863098835774 | val 0.31381033807992936\n"
     ]
    },
    {
     "name": "stderr",
     "output_type": "stream",
     "text": [
      "100%|██████████| 139/139 [00:04<00:00, 33.61it/s]\n",
      "100%|██████████| 10/10 [00:00<00:00, 745.89it/s]\n"
     ]
    },
    {
     "name": "stdout",
     "output_type": "stream",
     "text": [
      "epoch 608 | tr 0.11477435122934176 | val 0.3200286507606506\n"
     ]
    },
    {
     "name": "stderr",
     "output_type": "stream",
     "text": [
      "100%|██████████| 139/139 [00:04<00:00, 33.60it/s]\n",
      "100%|██████████| 10/10 [00:00<00:00, 715.62it/s]\n"
     ]
    },
    {
     "name": "stdout",
     "output_type": "stream",
     "text": [
      "epoch 609 | tr 0.11451897443198472 | val 0.32028236240148544\n"
     ]
    },
    {
     "name": "stderr",
     "output_type": "stream",
     "text": [
      "100%|██████████| 139/139 [00:04<00:00, 33.58it/s]\n",
      "100%|██████████| 10/10 [00:00<00:00, 752.09it/s]\n"
     ]
    },
    {
     "name": "stdout",
     "output_type": "stream",
     "text": [
      "epoch 610 | tr 0.11514050685030093 | val 0.32550965547561644\n"
     ]
    },
    {
     "name": "stderr",
     "output_type": "stream",
     "text": [
      "100%|██████████| 139/139 [00:04<00:00, 33.58it/s]\n",
      "100%|██████████| 10/10 [00:00<00:00, 766.54it/s]\n"
     ]
    },
    {
     "name": "stdout",
     "output_type": "stream",
     "text": [
      "epoch 611 | tr 0.11290774132600791 | val 0.3261721134185791\n"
     ]
    },
    {
     "name": "stderr",
     "output_type": "stream",
     "text": [
      "100%|██████████| 139/139 [00:04<00:00, 33.61it/s]\n",
      "100%|██████████| 10/10 [00:00<00:00, 762.99it/s]\n"
     ]
    },
    {
     "name": "stdout",
     "output_type": "stream",
     "text": [
      "epoch 612 | tr 0.11174239931132296 | val 0.3266871526837349\n"
     ]
    },
    {
     "name": "stderr",
     "output_type": "stream",
     "text": [
      "100%|██████████| 139/139 [00:04<00:00, 33.62it/s]\n",
      "100%|██████████| 10/10 [00:00<00:00, 760.83it/s]\n"
     ]
    },
    {
     "name": "stdout",
     "output_type": "stream",
     "text": [
      "epoch 613 | tr 0.11388821672085378 | val 0.3250249117612839\n"
     ]
    },
    {
     "name": "stderr",
     "output_type": "stream",
     "text": [
      "100%|██████████| 139/139 [00:04<00:00, 33.62it/s]\n",
      "100%|██████████| 10/10 [00:00<00:00, 764.99it/s]\n"
     ]
    },
    {
     "name": "stdout",
     "output_type": "stream",
     "text": [
      "epoch 614 | tr 0.11594016008454261 | val 0.32365615516901014\n"
     ]
    },
    {
     "name": "stderr",
     "output_type": "stream",
     "text": [
      "100%|██████████| 139/139 [00:04<00:00, 33.61it/s]\n",
      "100%|██████████| 10/10 [00:00<00:00, 757.63it/s]\n"
     ]
    },
    {
     "name": "stdout",
     "output_type": "stream",
     "text": [
      "epoch 615 | tr 0.11061027085931181 | val 0.3183531492948532\n"
     ]
    },
    {
     "name": "stderr",
     "output_type": "stream",
     "text": [
      "100%|██████████| 139/139 [00:04<00:00, 33.64it/s]\n",
      "100%|██████████| 10/10 [00:00<00:00, 667.21it/s]\n"
     ]
    },
    {
     "name": "stdout",
     "output_type": "stream",
     "text": [
      "epoch 616 | tr 0.11386475374372743 | val 0.31950157731771467\n"
     ]
    },
    {
     "name": "stderr",
     "output_type": "stream",
     "text": [
      "100%|██████████| 139/139 [00:04<00:00, 33.64it/s]\n",
      "100%|██████████| 10/10 [00:00<00:00, 764.98it/s]\n"
     ]
    },
    {
     "name": "stdout",
     "output_type": "stream",
     "text": [
      "epoch 617 | tr 0.11578475705368056 | val 0.31976556926965716\n"
     ]
    },
    {
     "name": "stderr",
     "output_type": "stream",
     "text": [
      "100%|██████████| 139/139 [00:04<00:00, 33.62it/s]\n",
      "100%|██████████| 10/10 [00:00<00:00, 758.00it/s]\n"
     ]
    },
    {
     "name": "stdout",
     "output_type": "stream",
     "text": [
      "epoch 618 | tr 0.11720012889491568 | val 0.33090982139110564\n"
     ]
    },
    {
     "name": "stderr",
     "output_type": "stream",
     "text": [
      "100%|██████████| 139/139 [00:04<00:00, 33.63it/s]\n",
      "100%|██████████| 10/10 [00:00<00:00, 760.98it/s]\n"
     ]
    },
    {
     "name": "stdout",
     "output_type": "stream",
     "text": [
      "epoch 619 | tr 0.1170310623836603 | val 0.31735011041164396\n"
     ]
    },
    {
     "name": "stderr",
     "output_type": "stream",
     "text": [
      "100%|██████████| 139/139 [00:04<00:00, 33.64it/s]\n",
      "100%|██████████| 10/10 [00:00<00:00, 756.49it/s]\n"
     ]
    },
    {
     "name": "stdout",
     "output_type": "stream",
     "text": [
      "epoch 620 | tr 0.10939214212431324 | val 0.31738302409648894\n"
     ]
    },
    {
     "name": "stderr",
     "output_type": "stream",
     "text": [
      "100%|██████████| 139/139 [00:04<00:00, 33.56it/s]\n",
      "100%|██████████| 10/10 [00:00<00:00, 763.46it/s]\n"
     ]
    },
    {
     "name": "stdout",
     "output_type": "stream",
     "text": [
      "epoch 621 | tr 0.11249990873842788 | val 0.32323346734046937\n"
     ]
    },
    {
     "name": "stderr",
     "output_type": "stream",
     "text": [
      "100%|██████████| 139/139 [00:04<00:00, 33.62it/s]\n",
      "100%|██████████| 10/10 [00:00<00:00, 739.05it/s]\n"
     ]
    },
    {
     "name": "stdout",
     "output_type": "stream",
     "text": [
      "epoch 622 | tr 0.11446982064693094 | val 0.3236890256404877\n"
     ]
    },
    {
     "name": "stderr",
     "output_type": "stream",
     "text": [
      "100%|██████████| 139/139 [00:04<00:00, 33.61it/s]\n",
      "100%|██████████| 10/10 [00:00<00:00, 766.12it/s]\n"
     ]
    },
    {
     "name": "stdout",
     "output_type": "stream",
     "text": [
      "epoch 623 | tr 0.11705741623965957 | val 0.32525370121002195\n"
     ]
    },
    {
     "name": "stderr",
     "output_type": "stream",
     "text": [
      "100%|██████████| 139/139 [00:04<00:00, 33.66it/s]\n",
      "100%|██████████| 10/10 [00:00<00:00, 779.87it/s]\n"
     ]
    },
    {
     "name": "stdout",
     "output_type": "stream",
     "text": [
      "epoch 624 | tr 0.11228329120136851 | val 0.3197290003299713\n"
     ]
    },
    {
     "name": "stderr",
     "output_type": "stream",
     "text": [
      "100%|██████████| 139/139 [00:04<00:00, 33.66it/s]\n",
      "100%|██████████| 10/10 [00:00<00:00, 747.08it/s]\n"
     ]
    },
    {
     "name": "stdout",
     "output_type": "stream",
     "text": [
      "epoch 625 | tr 0.11669101994886673 | val 0.327473971247673\n"
     ]
    },
    {
     "name": "stderr",
     "output_type": "stream",
     "text": [
      "100%|██████████| 139/139 [00:04<00:00, 33.61it/s]\n",
      "100%|██████████| 10/10 [00:00<00:00, 765.09it/s]\n"
     ]
    },
    {
     "name": "stdout",
     "output_type": "stream",
     "text": [
      "epoch 626 | tr 0.1188301798358238 | val 0.33572553992271426\n"
     ]
    },
    {
     "name": "stderr",
     "output_type": "stream",
     "text": [
      "100%|██████████| 139/139 [00:04<00:00, 33.64it/s]\n",
      "100%|██████████| 10/10 [00:00<00:00, 764.80it/s]\n"
     ]
    },
    {
     "name": "stdout",
     "output_type": "stream",
     "text": [
      "epoch 627 | tr 0.11939914663918584 | val 0.3270974814891815\n"
     ]
    },
    {
     "name": "stderr",
     "output_type": "stream",
     "text": [
      "100%|██████████| 139/139 [00:04<00:00, 33.62it/s]\n",
      "100%|██████████| 10/10 [00:00<00:00, 761.53it/s]\n"
     ]
    },
    {
     "name": "stdout",
     "output_type": "stream",
     "text": [
      "epoch 628 | tr 0.11781271833846037 | val 0.32411530017852785\n"
     ]
    },
    {
     "name": "stderr",
     "output_type": "stream",
     "text": [
      "100%|██████████| 139/139 [00:04<00:00, 33.63it/s]\n",
      "100%|██████████| 10/10 [00:00<00:00, 766.70it/s]\n"
     ]
    },
    {
     "name": "stdout",
     "output_type": "stream",
     "text": [
      "epoch 629 | tr 0.1148582388707202 | val 0.3249019682407379\n"
     ]
    },
    {
     "name": "stderr",
     "output_type": "stream",
     "text": [
      "100%|██████████| 139/139 [00:04<00:00, 33.62it/s]\n",
      "100%|██████████| 10/10 [00:00<00:00, 758.42it/s]\n"
     ]
    },
    {
     "name": "stdout",
     "output_type": "stream",
     "text": [
      "epoch 630 | tr 0.11342318758046885 | val 0.32753084152936934\n"
     ]
    },
    {
     "name": "stderr",
     "output_type": "stream",
     "text": [
      "100%|██████████| 139/139 [00:04<00:00, 33.61it/s]\n",
      "100%|██████████| 10/10 [00:00<00:00, 746.34it/s]\n"
     ]
    },
    {
     "name": "stdout",
     "output_type": "stream",
     "text": [
      "epoch 631 | tr 0.12182231676235473 | val 0.3262743055820465\n"
     ]
    },
    {
     "name": "stderr",
     "output_type": "stream",
     "text": [
      "100%|██████████| 139/139 [00:04<00:00, 33.61it/s]\n",
      "100%|██████████| 10/10 [00:00<00:00, 744.36it/s]\n"
     ]
    },
    {
     "name": "stdout",
     "output_type": "stream",
     "text": [
      "epoch 632 | tr 0.11352664720025851 | val 0.3194061115384102\n"
     ]
    },
    {
     "name": "stderr",
     "output_type": "stream",
     "text": [
      "100%|██████████| 139/139 [00:04<00:00, 33.60it/s]\n",
      "100%|██████████| 10/10 [00:00<00:00, 768.15it/s]\n"
     ]
    },
    {
     "name": "stdout",
     "output_type": "stream",
     "text": [
      "epoch 633 | tr 0.11927385177972505 | val 0.3235937371850014\n"
     ]
    },
    {
     "name": "stderr",
     "output_type": "stream",
     "text": [
      "100%|██████████| 139/139 [00:04<00:00, 33.63it/s]\n",
      "100%|██████████| 10/10 [00:00<00:00, 764.80it/s]\n"
     ]
    },
    {
     "name": "stdout",
     "output_type": "stream",
     "text": [
      "epoch 634 | tr 0.12098288653994636 | val 0.3244665563106537\n"
     ]
    },
    {
     "name": "stderr",
     "output_type": "stream",
     "text": [
      "100%|██████████| 139/139 [00:04<00:00, 33.62it/s]\n",
      "100%|██████████| 10/10 [00:00<00:00, 738.46it/s]\n"
     ]
    },
    {
     "name": "stdout",
     "output_type": "stream",
     "text": [
      "epoch 635 | tr 0.11292833604400965 | val 0.32674730122089385\n"
     ]
    },
    {
     "name": "stderr",
     "output_type": "stream",
     "text": [
      "100%|██████████| 139/139 [00:04<00:00, 33.60it/s]\n",
      "100%|██████████| 10/10 [00:00<00:00, 749.49it/s]\n"
     ]
    },
    {
     "name": "stdout",
     "output_type": "stream",
     "text": [
      "epoch 636 | tr 0.11317107939034057 | val 0.3305875927209854\n"
     ]
    },
    {
     "name": "stderr",
     "output_type": "stream",
     "text": [
      "100%|██████████| 139/139 [00:04<00:00, 33.60it/s]\n",
      "100%|██████████| 10/10 [00:00<00:00, 757.82it/s]\n"
     ]
    },
    {
     "name": "stdout",
     "output_type": "stream",
     "text": [
      "epoch 637 | tr 0.11554170013974896 | val 0.32271328270435334\n"
     ]
    },
    {
     "name": "stderr",
     "output_type": "stream",
     "text": [
      "100%|██████████| 139/139 [00:04<00:00, 33.58it/s]\n",
      "100%|██████████| 10/10 [00:00<00:00, 746.41it/s]\n"
     ]
    },
    {
     "name": "stdout",
     "output_type": "stream",
     "text": [
      "epoch 638 | tr 0.11048591715826404 | val 0.31953920125961305\n"
     ]
    },
    {
     "name": "stderr",
     "output_type": "stream",
     "text": [
      "100%|██████████| 139/139 [00:04<00:00, 33.61it/s]\n",
      "100%|██████████| 10/10 [00:00<00:00, 745.97it/s]\n"
     ]
    },
    {
     "name": "stdout",
     "output_type": "stream",
     "text": [
      "epoch 639 | tr 0.1117729720987862 | val 0.31735917180776596\n"
     ]
    },
    {
     "name": "stderr",
     "output_type": "stream",
     "text": [
      "100%|██████████| 139/139 [00:04<00:00, 33.61it/s]\n",
      "100%|██████████| 10/10 [00:00<00:00, 755.40it/s]\n"
     ]
    },
    {
     "name": "stdout",
     "output_type": "stream",
     "text": [
      "epoch 640 | tr 0.10860407818778814 | val 0.33065006136894226\n"
     ]
    },
    {
     "name": "stderr",
     "output_type": "stream",
     "text": [
      "100%|██████████| 139/139 [00:04<00:00, 33.62it/s]\n",
      "100%|██████████| 10/10 [00:00<00:00, 762.82it/s]\n"
     ]
    },
    {
     "name": "stdout",
     "output_type": "stream",
     "text": [
      "epoch 641 | tr 0.10929070858003424 | val 0.3218254640698433\n"
     ]
    },
    {
     "name": "stderr",
     "output_type": "stream",
     "text": [
      "100%|██████████| 139/139 [00:04<00:00, 33.64it/s]\n",
      "100%|██████████| 10/10 [00:00<00:00, 768.41it/s]\n"
     ]
    },
    {
     "name": "stdout",
     "output_type": "stream",
     "text": [
      "epoch 642 | tr 0.11351776766262466 | val 0.3297635018825531\n"
     ]
    },
    {
     "name": "stderr",
     "output_type": "stream",
     "text": [
      "100%|██████████| 139/139 [00:04<00:00, 33.58it/s]\n",
      "100%|██████████| 10/10 [00:00<00:00, 744.60it/s]\n"
     ]
    },
    {
     "name": "stdout",
     "output_type": "stream",
     "text": [
      "epoch 643 | tr 0.11441281116266044 | val 0.32843535840511323\n"
     ]
    },
    {
     "name": "stderr",
     "output_type": "stream",
     "text": [
      "100%|██████████| 139/139 [00:04<00:00, 33.61it/s]\n",
      "100%|██████████| 10/10 [00:00<00:00, 764.84it/s]\n"
     ]
    },
    {
     "name": "stdout",
     "output_type": "stream",
     "text": [
      "epoch 644 | tr 0.11697693619367888 | val 0.3238243252038956\n"
     ]
    },
    {
     "name": "stderr",
     "output_type": "stream",
     "text": [
      "100%|██████████| 139/139 [00:04<00:00, 33.61it/s]\n",
      "100%|██████████| 10/10 [00:00<00:00, 760.82it/s]\n"
     ]
    },
    {
     "name": "stdout",
     "output_type": "stream",
     "text": [
      "epoch 645 | tr 0.1157639513341643 | val 0.3284168362617493\n"
     ]
    },
    {
     "name": "stderr",
     "output_type": "stream",
     "text": [
      "100%|██████████| 139/139 [00:04<00:00, 33.63it/s]\n",
      "100%|██████████| 10/10 [00:00<00:00, 740.36it/s]\n"
     ]
    },
    {
     "name": "stdout",
     "output_type": "stream",
     "text": [
      "epoch 646 | tr 0.11717716556230037 | val 0.3175293058156967\n"
     ]
    },
    {
     "name": "stderr",
     "output_type": "stream",
     "text": [
      "100%|██████████| 139/139 [00:04<00:00, 33.63it/s]\n",
      "100%|██████████| 10/10 [00:00<00:00, 767.82it/s]\n"
     ]
    },
    {
     "name": "stdout",
     "output_type": "stream",
     "text": [
      "epoch 647 | tr 0.12090967477654381 | val 0.3200962692499161\n"
     ]
    },
    {
     "name": "stderr",
     "output_type": "stream",
     "text": [
      "100%|██████████| 139/139 [00:04<00:00, 33.61it/s]\n",
      "100%|██████████| 10/10 [00:00<00:00, 765.68it/s]\n"
     ]
    },
    {
     "name": "stdout",
     "output_type": "stream",
     "text": [
      "epoch 648 | tr 0.11931668104027672 | val 0.32075166404247285\n"
     ]
    },
    {
     "name": "stderr",
     "output_type": "stream",
     "text": [
      "100%|██████████| 139/139 [00:04<00:00, 33.67it/s]\n",
      "100%|██████████| 10/10 [00:00<00:00, 776.87it/s]\n"
     ]
    },
    {
     "name": "stdout",
     "output_type": "stream",
     "text": [
      "epoch 649 | tr 0.11351406258001602 | val 0.3230381041765213\n"
     ]
    },
    {
     "name": "stderr",
     "output_type": "stream",
     "text": [
      "100%|██████████| 139/139 [00:04<00:00, 33.68it/s]\n",
      "100%|██████████| 10/10 [00:00<00:00, 779.15it/s]\n"
     ]
    },
    {
     "name": "stdout",
     "output_type": "stream",
     "text": [
      "epoch 650 | tr 0.1183211893486462 | val 0.3197017937898636\n"
     ]
    },
    {
     "name": "stderr",
     "output_type": "stream",
     "text": [
      "100%|██████████| 139/139 [00:04<00:00, 33.67it/s]\n",
      "100%|██████████| 10/10 [00:00<00:00, 780.51it/s]\n"
     ]
    },
    {
     "name": "stdout",
     "output_type": "stream",
     "text": [
      "epoch 651 | tr 0.11074468541702778 | val 0.322339141368866\n"
     ]
    },
    {
     "name": "stderr",
     "output_type": "stream",
     "text": [
      "100%|██████████| 139/139 [00:04<00:00, 33.66it/s]\n",
      "100%|██████████| 10/10 [00:00<00:00, 764.30it/s]\n"
     ]
    },
    {
     "name": "stdout",
     "output_type": "stream",
     "text": [
      "epoch 652 | tr 0.10665364166815504 | val 0.31656988263130187\n"
     ]
    },
    {
     "name": "stderr",
     "output_type": "stream",
     "text": [
      "100%|██████████| 139/139 [00:04<00:00, 33.62it/s]\n",
      "100%|██████████| 10/10 [00:00<00:00, 754.38it/s]\n"
     ]
    },
    {
     "name": "stdout",
     "output_type": "stream",
     "text": [
      "epoch 653 | tr 0.10605822181958946 | val 0.3227770209312439\n"
     ]
    },
    {
     "name": "stderr",
     "output_type": "stream",
     "text": [
      "100%|██████████| 139/139 [00:04<00:00, 33.65it/s]\n",
      "100%|██████████| 10/10 [00:00<00:00, 758.37it/s]\n"
     ]
    },
    {
     "name": "stdout",
     "output_type": "stream",
     "text": [
      "epoch 654 | tr 0.10848622286705661 | val 0.32620165646076205\n"
     ]
    },
    {
     "name": "stderr",
     "output_type": "stream",
     "text": [
      "100%|██████████| 139/139 [00:04<00:00, 33.63it/s]\n",
      "100%|██████████| 10/10 [00:00<00:00, 758.93it/s]\n"
     ]
    },
    {
     "name": "stdout",
     "output_type": "stream",
     "text": [
      "epoch 655 | tr 0.10743583982689775 | val 0.31934536397457125\n"
     ]
    },
    {
     "name": "stderr",
     "output_type": "stream",
     "text": [
      "100%|██████████| 139/139 [00:04<00:00, 33.64it/s]\n",
      "100%|██████████| 10/10 [00:00<00:00, 768.20it/s]\n"
     ]
    },
    {
     "name": "stdout",
     "output_type": "stream",
     "text": [
      "epoch 656 | tr 0.10856719851065025 | val 0.32114788740873335\n"
     ]
    },
    {
     "name": "stderr",
     "output_type": "stream",
     "text": [
      "100%|██████████| 139/139 [00:04<00:00, 33.64it/s]\n",
      "100%|██████████| 10/10 [00:00<00:00, 759.15it/s]\n"
     ]
    },
    {
     "name": "stdout",
     "output_type": "stream",
     "text": [
      "epoch 657 | tr 0.11467200356850521 | val 0.32024664878845216\n"
     ]
    },
    {
     "name": "stderr",
     "output_type": "stream",
     "text": [
      "100%|██████████| 139/139 [00:04<00:00, 33.64it/s]\n",
      "100%|██████████| 10/10 [00:00<00:00, 756.92it/s]\n"
     ]
    },
    {
     "name": "stdout",
     "output_type": "stream",
     "text": [
      "epoch 658 | tr 0.1166064077787262 | val 0.324116250872612\n"
     ]
    },
    {
     "name": "stderr",
     "output_type": "stream",
     "text": [
      "100%|██████████| 139/139 [00:04<00:00, 33.66it/s]\n",
      "100%|██████████| 10/10 [00:00<00:00, 754.37it/s]\n"
     ]
    },
    {
     "name": "stdout",
     "output_type": "stream",
     "text": [
      "epoch 659 | tr 0.11564359787127955 | val 0.3184945687651634\n"
     ]
    },
    {
     "name": "stderr",
     "output_type": "stream",
     "text": [
      "100%|██████████| 139/139 [00:04<00:00, 33.62it/s]\n",
      "100%|██████████| 10/10 [00:00<00:00, 745.36it/s]\n"
     ]
    },
    {
     "name": "stdout",
     "output_type": "stream",
     "text": [
      "epoch 660 | tr 0.11496433931932175 | val 0.3261399775743484\n"
     ]
    },
    {
     "name": "stderr",
     "output_type": "stream",
     "text": [
      "100%|██████████| 139/139 [00:04<00:00, 33.64it/s]\n",
      "100%|██████████| 10/10 [00:00<00:00, 761.38it/s]\n"
     ]
    },
    {
     "name": "stdout",
     "output_type": "stream",
     "text": [
      "epoch 661 | tr 0.10876891802219178 | val 0.31793333888053893\n"
     ]
    },
    {
     "name": "stderr",
     "output_type": "stream",
     "text": [
      "100%|██████████| 139/139 [00:04<00:00, 33.62it/s]\n",
      "100%|██████████| 10/10 [00:00<00:00, 749.12it/s]\n"
     ]
    },
    {
     "name": "stdout",
     "output_type": "stream",
     "text": [
      "epoch 662 | tr 0.10934329504589382 | val 0.3226212948560715\n"
     ]
    },
    {
     "name": "stderr",
     "output_type": "stream",
     "text": [
      "100%|██████████| 139/139 [00:04<00:00, 33.61it/s]\n",
      "100%|██████████| 10/10 [00:00<00:00, 749.97it/s]\n"
     ]
    },
    {
     "name": "stdout",
     "output_type": "stream",
     "text": [
      "epoch 663 | tr 0.10953563191800667 | val 0.32876133620738984\n"
     ]
    },
    {
     "name": "stderr",
     "output_type": "stream",
     "text": [
      "100%|██████████| 139/139 [00:04<00:00, 33.63it/s]\n",
      "100%|██████████| 10/10 [00:00<00:00, 764.78it/s]\n"
     ]
    },
    {
     "name": "stdout",
     "output_type": "stream",
     "text": [
      "epoch 664 | tr 0.12035465095755007 | val 0.3210116744041443\n"
     ]
    },
    {
     "name": "stderr",
     "output_type": "stream",
     "text": [
      "100%|██████████| 139/139 [00:04<00:00, 33.60it/s]\n",
      "100%|██████████| 10/10 [00:00<00:00, 763.52it/s]\n"
     ]
    },
    {
     "name": "stdout",
     "output_type": "stream",
     "text": [
      "epoch 665 | tr 0.12000921743808032 | val 0.332934644818306\n"
     ]
    },
    {
     "name": "stderr",
     "output_type": "stream",
     "text": [
      "100%|██████████| 139/139 [00:04<00:00, 33.61it/s]\n",
      "100%|██████████| 10/10 [00:00<00:00, 764.34it/s]\n"
     ]
    },
    {
     "name": "stdout",
     "output_type": "stream",
     "text": [
      "epoch 666 | tr 0.11628140659212209 | val 0.3237273722887039\n"
     ]
    },
    {
     "name": "stderr",
     "output_type": "stream",
     "text": [
      "100%|██████████| 139/139 [00:04<00:00, 33.63it/s]\n",
      "100%|██████████| 10/10 [00:00<00:00, 757.26it/s]\n"
     ]
    },
    {
     "name": "stdout",
     "output_type": "stream",
     "text": [
      "epoch 667 | tr 0.11293522858147999 | val 0.320198592543602\n"
     ]
    },
    {
     "name": "stderr",
     "output_type": "stream",
     "text": [
      "100%|██████████| 139/139 [00:04<00:00, 33.63it/s]\n",
      "100%|██████████| 10/10 [00:00<00:00, 757.64it/s]\n"
     ]
    },
    {
     "name": "stdout",
     "output_type": "stream",
     "text": [
      "epoch 668 | tr 0.11185539369102862 | val 0.319367915391922\n"
     ]
    },
    {
     "name": "stderr",
     "output_type": "stream",
     "text": [
      "100%|██████████| 139/139 [00:04<00:00, 33.63it/s]\n",
      "100%|██████████| 10/10 [00:00<00:00, 763.60it/s]\n"
     ]
    },
    {
     "name": "stdout",
     "output_type": "stream",
     "text": [
      "epoch 669 | tr 0.11117941500257245 | val 0.3235070049762726\n"
     ]
    },
    {
     "name": "stderr",
     "output_type": "stream",
     "text": [
      "100%|██████████| 139/139 [00:04<00:00, 33.62it/s]\n",
      "100%|██████████| 10/10 [00:00<00:00, 744.93it/s]\n"
     ]
    },
    {
     "name": "stdout",
     "output_type": "stream",
     "text": [
      "epoch 670 | tr 0.11044770924093054 | val 0.3256635099649429\n"
     ]
    },
    {
     "name": "stderr",
     "output_type": "stream",
     "text": [
      "100%|██████████| 139/139 [00:04<00:00, 33.62it/s]\n",
      "100%|██████████| 10/10 [00:00<00:00, 766.18it/s]\n"
     ]
    },
    {
     "name": "stdout",
     "output_type": "stream",
     "text": [
      "epoch 671 | tr 0.11496953473245497 | val 0.3271814852952957\n"
     ]
    },
    {
     "name": "stderr",
     "output_type": "stream",
     "text": [
      "100%|██████████| 139/139 [00:04<00:00, 33.64it/s]\n",
      "100%|██████████| 10/10 [00:00<00:00, 756.15it/s]\n"
     ]
    },
    {
     "name": "stdout",
     "output_type": "stream",
     "text": [
      "epoch 672 | tr 0.11517776114691933 | val 0.32293103337287904\n"
     ]
    },
    {
     "name": "stderr",
     "output_type": "stream",
     "text": [
      "100%|██████████| 139/139 [00:04<00:00, 33.64it/s]\n",
      "100%|██████████| 10/10 [00:00<00:00, 737.05it/s]\n"
     ]
    },
    {
     "name": "stdout",
     "output_type": "stream",
     "text": [
      "epoch 673 | tr 0.10985268829323405 | val 0.3270101100206375\n"
     ]
    },
    {
     "name": "stderr",
     "output_type": "stream",
     "text": [
      "100%|██████████| 139/139 [00:04<00:00, 33.63it/s]\n",
      "100%|██████████| 10/10 [00:00<00:00, 768.37it/s]\n"
     ]
    },
    {
     "name": "stdout",
     "output_type": "stream",
     "text": [
      "epoch 674 | tr 0.11093725398075667 | val 0.3164947599172592\n"
     ]
    },
    {
     "name": "stderr",
     "output_type": "stream",
     "text": [
      "100%|██████████| 139/139 [00:04<00:00, 33.60it/s]\n",
      "100%|██████████| 10/10 [00:00<00:00, 765.89it/s]\n"
     ]
    },
    {
     "name": "stdout",
     "output_type": "stream",
     "text": [
      "epoch 675 | tr 0.11423539520382024 | val 0.3265230402350426\n"
     ]
    },
    {
     "name": "stderr",
     "output_type": "stream",
     "text": [
      "100%|██████████| 139/139 [00:04<00:00, 33.60it/s]\n",
      "100%|██████████| 10/10 [00:00<00:00, 763.70it/s]\n"
     ]
    },
    {
     "name": "stdout",
     "output_type": "stream",
     "text": [
      "epoch 676 | tr 0.11361032563576595 | val 0.32598661482334135\n"
     ]
    },
    {
     "name": "stderr",
     "output_type": "stream",
     "text": [
      "100%|██████████| 139/139 [00:04<00:00, 33.61it/s]\n",
      "100%|██████████| 10/10 [00:00<00:00, 758.00it/s]\n"
     ]
    },
    {
     "name": "stdout",
     "output_type": "stream",
     "text": [
      "epoch 677 | tr 0.11366558787848452 | val 0.32916865646839144\n"
     ]
    },
    {
     "name": "stderr",
     "output_type": "stream",
     "text": [
      "100%|██████████| 139/139 [00:04<00:00, 33.63it/s]\n",
      "100%|██████████| 10/10 [00:00<00:00, 756.66it/s]\n"
     ]
    },
    {
     "name": "stdout",
     "output_type": "stream",
     "text": [
      "epoch 678 | tr 0.11396435819727053 | val 0.33158265650272367\n"
     ]
    },
    {
     "name": "stderr",
     "output_type": "stream",
     "text": [
      "100%|██████████| 139/139 [00:04<00:00, 33.63it/s]\n",
      "100%|██████████| 10/10 [00:00<00:00, 755.31it/s]\n"
     ]
    },
    {
     "name": "stdout",
     "output_type": "stream",
     "text": [
      "epoch 679 | tr 0.11575535877788667 | val 0.3399476259946823\n"
     ]
    },
    {
     "name": "stderr",
     "output_type": "stream",
     "text": [
      "100%|██████████| 139/139 [00:04<00:00, 33.64it/s]\n",
      "100%|██████████| 10/10 [00:00<00:00, 759.42it/s]\n"
     ]
    },
    {
     "name": "stdout",
     "output_type": "stream",
     "text": [
      "epoch 680 | tr 0.11193525801888472 | val 0.32398774921894075\n"
     ]
    },
    {
     "name": "stderr",
     "output_type": "stream",
     "text": [
      "100%|██████████| 139/139 [00:04<00:00, 33.63it/s]\n",
      "100%|██████████| 10/10 [00:00<00:00, 739.48it/s]\n"
     ]
    },
    {
     "name": "stdout",
     "output_type": "stream",
     "text": [
      "epoch 681 | tr 0.11566227730765617 | val 0.32248843014240264\n"
     ]
    },
    {
     "name": "stderr",
     "output_type": "stream",
     "text": [
      "100%|██████████| 139/139 [00:04<00:00, 33.63it/s]\n",
      "100%|██████████| 10/10 [00:00<00:00, 765.64it/s]\n"
     ]
    },
    {
     "name": "stdout",
     "output_type": "stream",
     "text": [
      "epoch 682 | tr 0.11961362752125418 | val 0.32522363066673277\n"
     ]
    },
    {
     "name": "stderr",
     "output_type": "stream",
     "text": [
      "100%|██████████| 139/139 [00:04<00:00, 33.61it/s]\n",
      "100%|██████████| 10/10 [00:00<00:00, 764.13it/s]\n"
     ]
    },
    {
     "name": "stdout",
     "output_type": "stream",
     "text": [
      "epoch 683 | tr 0.1152096405196533 | val 0.323713481426239\n"
     ]
    },
    {
     "name": "stderr",
     "output_type": "stream",
     "text": [
      "100%|██████████| 139/139 [00:04<00:00, 33.60it/s]\n",
      "100%|██████████| 10/10 [00:00<00:00, 766.73it/s]\n"
     ]
    },
    {
     "name": "stdout",
     "output_type": "stream",
     "text": [
      "epoch 684 | tr 0.11641733514533627 | val 0.3241910576820374\n"
     ]
    },
    {
     "name": "stderr",
     "output_type": "stream",
     "text": [
      "100%|██████████| 139/139 [00:04<00:00, 33.65it/s]\n",
      "100%|██████████| 10/10 [00:00<00:00, 765.83it/s]\n"
     ]
    },
    {
     "name": "stdout",
     "output_type": "stream",
     "text": [
      "epoch 685 | tr 0.11215486597242973 | val 0.33342185616493225\n"
     ]
    },
    {
     "name": "stderr",
     "output_type": "stream",
     "text": [
      "100%|██████████| 139/139 [00:04<00:00, 33.65it/s]\n",
      "100%|██████████| 10/10 [00:00<00:00, 769.02it/s]\n"
     ]
    },
    {
     "name": "stdout",
     "output_type": "stream",
     "text": [
      "epoch 686 | tr 0.1207256815094742 | val 0.3216221988201141\n"
     ]
    },
    {
     "name": "stderr",
     "output_type": "stream",
     "text": [
      "100%|██████████| 139/139 [00:04<00:00, 33.61it/s]\n",
      "100%|██████████| 10/10 [00:00<00:00, 768.15it/s]\n"
     ]
    },
    {
     "name": "stdout",
     "output_type": "stream",
     "text": [
      "epoch 687 | tr 0.11553968623173323 | val 0.32657383382320404\n"
     ]
    },
    {
     "name": "stderr",
     "output_type": "stream",
     "text": [
      "100%|██████████| 139/139 [00:04<00:00, 33.59it/s]\n",
      "100%|██████████| 10/10 [00:00<00:00, 734.62it/s]\n"
     ]
    },
    {
     "name": "stdout",
     "output_type": "stream",
     "text": [
      "epoch 688 | tr 0.11467398762059726 | val 0.32427856177091596\n"
     ]
    },
    {
     "name": "stderr",
     "output_type": "stream",
     "text": [
      "100%|██████████| 139/139 [00:04<00:00, 33.60it/s]\n",
      "100%|██████████| 10/10 [00:00<00:00, 764.42it/s]\n"
     ]
    },
    {
     "name": "stdout",
     "output_type": "stream",
     "text": [
      "epoch 689 | tr 0.10575525811035856 | val 0.32292358577251434\n"
     ]
    },
    {
     "name": "stderr",
     "output_type": "stream",
     "text": [
      "100%|██████████| 139/139 [00:04<00:00, 33.63it/s]\n",
      "100%|██████████| 10/10 [00:00<00:00, 764.57it/s]\n"
     ]
    },
    {
     "name": "stdout",
     "output_type": "stream",
     "text": [
      "epoch 690 | tr 0.10982080270274938 | val 0.3214791461825371\n"
     ]
    },
    {
     "name": "stderr",
     "output_type": "stream",
     "text": [
      "100%|██████████| 139/139 [00:04<00:00, 33.63it/s]\n",
      "100%|██████████| 10/10 [00:00<00:00, 738.73it/s]\n"
     ]
    },
    {
     "name": "stdout",
     "output_type": "stream",
     "text": [
      "epoch 691 | tr 0.10819316901963391 | val 0.3236790865659714\n"
     ]
    },
    {
     "name": "stderr",
     "output_type": "stream",
     "text": [
      "100%|██████████| 139/139 [00:04<00:00, 33.60it/s]\n",
      "100%|██████████| 10/10 [00:00<00:00, 756.21it/s]\n"
     ]
    },
    {
     "name": "stdout",
     "output_type": "stream",
     "text": [
      "epoch 692 | tr 0.10924078540193091 | val 0.3213329017162323\n"
     ]
    },
    {
     "name": "stderr",
     "output_type": "stream",
     "text": [
      "100%|██████████| 139/139 [00:04<00:00, 33.61it/s]\n",
      "100%|██████████| 10/10 [00:00<00:00, 768.88it/s]\n"
     ]
    },
    {
     "name": "stdout",
     "output_type": "stream",
     "text": [
      "epoch 693 | tr 0.10967020669000611 | val 0.317789363861084\n"
     ]
    },
    {
     "name": "stderr",
     "output_type": "stream",
     "text": [
      "100%|██████████| 139/139 [00:04<00:00, 33.64it/s]\n",
      "100%|██████████| 10/10 [00:00<00:00, 766.24it/s]\n"
     ]
    },
    {
     "name": "stdout",
     "output_type": "stream",
     "text": [
      "epoch 694 | tr 0.1105311115225442 | val 0.32856699675321577\n"
     ]
    },
    {
     "name": "stderr",
     "output_type": "stream",
     "text": [
      "100%|██████████| 139/139 [00:04<00:00, 33.58it/s]\n",
      "100%|██████████| 10/10 [00:00<00:00, 748.78it/s]\n"
     ]
    },
    {
     "name": "stdout",
     "output_type": "stream",
     "text": [
      "epoch 695 | tr 0.11152932583856925 | val 0.31949341893196104\n"
     ]
    },
    {
     "name": "stderr",
     "output_type": "stream",
     "text": [
      "100%|██████████| 139/139 [00:04<00:00, 33.61it/s]\n",
      "100%|██████████| 10/10 [00:00<00:00, 765.78it/s]\n"
     ]
    },
    {
     "name": "stdout",
     "output_type": "stream",
     "text": [
      "epoch 696 | tr 0.11110511759845473 | val 0.31977934539318087\n"
     ]
    },
    {
     "name": "stderr",
     "output_type": "stream",
     "text": [
      "100%|██████████| 139/139 [00:04<00:00, 33.63it/s]\n",
      "100%|██████████| 10/10 [00:00<00:00, 762.03it/s]\n"
     ]
    },
    {
     "name": "stdout",
     "output_type": "stream",
     "text": [
      "epoch 697 | tr 0.11362348641637418 | val 0.3260518848896027\n"
     ]
    },
    {
     "name": "stderr",
     "output_type": "stream",
     "text": [
      "100%|██████████| 139/139 [00:04<00:00, 33.62it/s]\n",
      "100%|██████████| 10/10 [00:00<00:00, 753.63it/s]\n"
     ]
    },
    {
     "name": "stdout",
     "output_type": "stream",
     "text": [
      "epoch 698 | tr 0.11119033219359761 | val 0.3178983211517334\n"
     ]
    },
    {
     "name": "stderr",
     "output_type": "stream",
     "text": [
      "100%|██████████| 139/139 [00:04<00:00, 33.62it/s]\n",
      "100%|██████████| 10/10 [00:00<00:00, 765.13it/s]\n"
     ]
    },
    {
     "name": "stdout",
     "output_type": "stream",
     "text": [
      "epoch 699 | tr 0.11189505414997074 | val 0.31998885571956637\n"
     ]
    },
    {
     "name": "stderr",
     "output_type": "stream",
     "text": [
      "100%|██████████| 139/139 [00:04<00:00, 33.63it/s]\n",
      "100%|██████████| 10/10 [00:00<00:00, 758.18it/s]\n"
     ]
    },
    {
     "name": "stdout",
     "output_type": "stream",
     "text": [
      "epoch 700 | tr 0.11258664421683592 | val 0.32766433656215666\n"
     ]
    },
    {
     "name": "stderr",
     "output_type": "stream",
     "text": [
      "100%|██████████| 139/139 [00:04<00:00, 33.62it/s]\n",
      "100%|██████████| 10/10 [00:00<00:00, 745.12it/s]\n"
     ]
    },
    {
     "name": "stdout",
     "output_type": "stream",
     "text": [
      "epoch 701 | tr 0.11624365176657121 | val 0.3323929846286774\n"
     ]
    },
    {
     "name": "stderr",
     "output_type": "stream",
     "text": [
      "100%|██████████| 139/139 [00:04<00:00, 33.60it/s]\n",
      "100%|██████████| 10/10 [00:00<00:00, 746.72it/s]\n"
     ]
    },
    {
     "name": "stdout",
     "output_type": "stream",
     "text": [
      "epoch 702 | tr 0.11313003470464576 | val 0.32469707578420637\n"
     ]
    },
    {
     "name": "stderr",
     "output_type": "stream",
     "text": [
      "100%|██████████| 139/139 [00:04<00:00, 33.60it/s]\n",
      "100%|██████████| 10/10 [00:00<00:00, 736.14it/s]\n"
     ]
    },
    {
     "name": "stdout",
     "output_type": "stream",
     "text": [
      "epoch 703 | tr 0.119909129876027 | val 0.3126666098833084\n"
     ]
    },
    {
     "name": "stderr",
     "output_type": "stream",
     "text": [
      "100%|██████████| 139/139 [00:04<00:00, 33.63it/s]\n",
      "100%|██████████| 10/10 [00:00<00:00, 744.77it/s]\n"
     ]
    },
    {
     "name": "stdout",
     "output_type": "stream",
     "text": [
      "epoch 704 | tr 0.11552778449204328 | val 0.3270613819360733\n"
     ]
    },
    {
     "name": "stderr",
     "output_type": "stream",
     "text": [
      "100%|██████████| 139/139 [00:04<00:00, 33.63it/s]\n",
      "100%|██████████| 10/10 [00:00<00:00, 759.48it/s]\n"
     ]
    },
    {
     "name": "stdout",
     "output_type": "stream",
     "text": [
      "epoch 705 | tr 0.11455561397530192 | val 0.32694993913173676\n"
     ]
    },
    {
     "name": "stderr",
     "output_type": "stream",
     "text": [
      "100%|██████████| 139/139 [00:04<00:00, 33.65it/s]\n",
      "100%|██████████| 10/10 [00:00<00:00, 754.75it/s]\n"
     ]
    },
    {
     "name": "stdout",
     "output_type": "stream",
     "text": [
      "epoch 706 | tr 0.10859361853745343 | val 0.32251981645822525\n"
     ]
    },
    {
     "name": "stderr",
     "output_type": "stream",
     "text": [
      "100%|██████████| 139/139 [00:04<00:00, 33.66it/s]\n",
      "100%|██████████| 10/10 [00:00<00:00, 750.15it/s]\n"
     ]
    },
    {
     "name": "stdout",
     "output_type": "stream",
     "text": [
      "epoch 707 | tr 0.11011436345765917 | val 0.32427131533622744\n"
     ]
    },
    {
     "name": "stderr",
     "output_type": "stream",
     "text": [
      "100%|██████████| 139/139 [00:04<00:00, 33.66it/s]\n",
      "100%|██████████| 10/10 [00:00<00:00, 765.16it/s]\n"
     ]
    },
    {
     "name": "stdout",
     "output_type": "stream",
     "text": [
      "epoch 708 | tr 0.11232401259082685 | val 0.3260397255420685\n"
     ]
    },
    {
     "name": "stderr",
     "output_type": "stream",
     "text": [
      "100%|██████████| 139/139 [00:04<00:00, 33.64it/s]\n",
      "100%|██████████| 10/10 [00:00<00:00, 760.84it/s]\n"
     ]
    },
    {
     "name": "stdout",
     "output_type": "stream",
     "text": [
      "epoch 709 | tr 0.11231017222614598 | val 0.33026290237903594\n"
     ]
    },
    {
     "name": "stderr",
     "output_type": "stream",
     "text": [
      "100%|██████████| 139/139 [00:04<00:00, 33.65it/s]\n",
      "100%|██████████| 10/10 [00:00<00:00, 763.78it/s]\n"
     ]
    },
    {
     "name": "stdout",
     "output_type": "stream",
     "text": [
      "epoch 710 | tr 0.10950279034834971 | val 0.3235627755522728\n"
     ]
    },
    {
     "name": "stderr",
     "output_type": "stream",
     "text": [
      "100%|██████████| 139/139 [00:04<00:00, 33.65it/s]\n",
      "100%|██████████| 10/10 [00:00<00:00, 755.29it/s]\n"
     ]
    },
    {
     "name": "stdout",
     "output_type": "stream",
     "text": [
      "epoch 711 | tr 0.1146775559126902 | val 0.32536104917526243\n"
     ]
    },
    {
     "name": "stderr",
     "output_type": "stream",
     "text": [
      "100%|██████████| 139/139 [00:04<00:00, 33.63it/s]\n",
      "100%|██████████| 10/10 [00:00<00:00, 761.00it/s]\n"
     ]
    },
    {
     "name": "stdout",
     "output_type": "stream",
     "text": [
      "epoch 712 | tr 0.11266547093074099 | val 0.3316645175218582\n"
     ]
    },
    {
     "name": "stderr",
     "output_type": "stream",
     "text": [
      "100%|██████████| 139/139 [00:04<00:00, 33.64it/s]\n",
      "100%|██████████| 10/10 [00:00<00:00, 750.95it/s]\n"
     ]
    },
    {
     "name": "stdout",
     "output_type": "stream",
     "text": [
      "epoch 713 | tr 0.11370931614002736 | val 0.31652341932058337\n"
     ]
    },
    {
     "name": "stderr",
     "output_type": "stream",
     "text": [
      "100%|██████████| 139/139 [00:04<00:00, 33.63it/s]\n",
      "100%|██████████| 10/10 [00:00<00:00, 768.36it/s]\n"
     ]
    },
    {
     "name": "stdout",
     "output_type": "stream",
     "text": [
      "epoch 714 | tr 0.10828357104131643 | val 0.3337844431400299\n"
     ]
    },
    {
     "name": "stderr",
     "output_type": "stream",
     "text": [
      "100%|██████████| 139/139 [00:04<00:00, 33.64it/s]\n",
      "100%|██████████| 10/10 [00:00<00:00, 765.71it/s]\n"
     ]
    },
    {
     "name": "stdout",
     "output_type": "stream",
     "text": [
      "epoch 715 | tr 0.11695358146437639 | val 0.3214335471391678\n"
     ]
    },
    {
     "name": "stderr",
     "output_type": "stream",
     "text": [
      "100%|██████████| 139/139 [00:04<00:00, 33.64it/s]\n",
      "100%|██████████| 10/10 [00:00<00:00, 768.99it/s]\n"
     ]
    },
    {
     "name": "stdout",
     "output_type": "stream",
     "text": [
      "epoch 716 | tr 0.11900524805775649 | val 0.32697929441928864\n"
     ]
    },
    {
     "name": "stderr",
     "output_type": "stream",
     "text": [
      "100%|██████████| 139/139 [00:04<00:00, 33.64it/s]\n",
      "100%|██████████| 10/10 [00:00<00:00, 758.68it/s]\n"
     ]
    },
    {
     "name": "stdout",
     "output_type": "stream",
     "text": [
      "epoch 717 | tr 0.10945990745969814 | val 0.32245349884033203\n"
     ]
    },
    {
     "name": "stderr",
     "output_type": "stream",
     "text": [
      "100%|██████████| 139/139 [00:04<00:00, 33.64it/s]\n",
      "100%|██████████| 10/10 [00:00<00:00, 762.39it/s]\n"
     ]
    },
    {
     "name": "stdout",
     "output_type": "stream",
     "text": [
      "epoch 718 | tr 0.11554890919289143 | val 0.3262482464313507\n"
     ]
    },
    {
     "name": "stderr",
     "output_type": "stream",
     "text": [
      "100%|██████████| 139/139 [00:04<00:00, 33.65it/s]\n",
      "100%|██████████| 10/10 [00:00<00:00, 760.42it/s]\n"
     ]
    },
    {
     "name": "stdout",
     "output_type": "stream",
     "text": [
      "epoch 719 | tr 0.11202123134041862 | val 0.3286404386162758\n"
     ]
    },
    {
     "name": "stderr",
     "output_type": "stream",
     "text": [
      "100%|██████████| 139/139 [00:04<00:00, 33.63it/s]\n",
      "100%|██████████| 10/10 [00:00<00:00, 754.85it/s]\n"
     ]
    },
    {
     "name": "stdout",
     "output_type": "stream",
     "text": [
      "epoch 720 | tr 0.11186416870612892 | val 0.3247429013252258\n"
     ]
    },
    {
     "name": "stderr",
     "output_type": "stream",
     "text": [
      "100%|██████████| 139/139 [00:04<00:00, 33.65it/s]\n",
      "100%|██████████| 10/10 [00:00<00:00, 763.68it/s]\n"
     ]
    },
    {
     "name": "stdout",
     "output_type": "stream",
     "text": [
      "epoch 721 | tr 0.11642981652947638 | val 0.33546637892723086\n"
     ]
    },
    {
     "name": "stderr",
     "output_type": "stream",
     "text": [
      "100%|██████████| 139/139 [00:04<00:00, 33.65it/s]\n",
      "100%|██████████| 10/10 [00:00<00:00, 757.37it/s]\n"
     ]
    },
    {
     "name": "stdout",
     "output_type": "stream",
     "text": [
      "epoch 722 | tr 0.11298993621155512 | val 0.33396699726581575\n"
     ]
    },
    {
     "name": "stderr",
     "output_type": "stream",
     "text": [
      "100%|██████████| 139/139 [00:04<00:00, 33.64it/s]\n",
      "100%|██████████| 10/10 [00:00<00:00, 768.58it/s]\n"
     ]
    },
    {
     "name": "stdout",
     "output_type": "stream",
     "text": [
      "epoch 723 | tr 0.1112159793968681 | val 0.3215960323810577\n"
     ]
    },
    {
     "name": "stderr",
     "output_type": "stream",
     "text": [
      "100%|██████████| 139/139 [00:04<00:00, 33.66it/s]\n",
      "100%|██████████| 10/10 [00:00<00:00, 763.41it/s]\n"
     ]
    },
    {
     "name": "stdout",
     "output_type": "stream",
     "text": [
      "epoch 724 | tr 0.11342743414340259 | val 0.3290713310241699\n"
     ]
    },
    {
     "name": "stderr",
     "output_type": "stream",
     "text": [
      "100%|██████████| 139/139 [00:04<00:00, 33.66it/s]\n",
      "100%|██████████| 10/10 [00:00<00:00, 768.68it/s]\n"
     ]
    },
    {
     "name": "stdout",
     "output_type": "stream",
     "text": [
      "epoch 725 | tr 0.11012129871536502 | val 0.32323547303676603\n"
     ]
    },
    {
     "name": "stderr",
     "output_type": "stream",
     "text": [
      "100%|██████████| 139/139 [00:04<00:00, 33.65it/s]\n",
      "100%|██████████| 10/10 [00:00<00:00, 764.32it/s]\n"
     ]
    },
    {
     "name": "stdout",
     "output_type": "stream",
     "text": [
      "epoch 726 | tr 0.10984862794121392 | val 0.32846337258815766\n"
     ]
    },
    {
     "name": "stderr",
     "output_type": "stream",
     "text": [
      "100%|██████████| 139/139 [00:04<00:00, 33.63it/s]\n",
      "100%|██████████| 10/10 [00:00<00:00, 744.52it/s]\n"
     ]
    },
    {
     "name": "stdout",
     "output_type": "stream",
     "text": [
      "epoch 727 | tr 0.10894950157661232 | val 0.3287373214960098\n"
     ]
    },
    {
     "name": "stderr",
     "output_type": "stream",
     "text": [
      "100%|██████████| 139/139 [00:04<00:00, 33.64it/s]\n",
      "100%|██████████| 10/10 [00:00<00:00, 736.89it/s]\n"
     ]
    },
    {
     "name": "stdout",
     "output_type": "stream",
     "text": [
      "epoch 728 | tr 0.1082452865813276 | val 0.33361331224441526\n"
     ]
    },
    {
     "name": "stderr",
     "output_type": "stream",
     "text": [
      "100%|██████████| 139/139 [00:04<00:00, 33.66it/s]\n",
      "100%|██████████| 10/10 [00:00<00:00, 764.28it/s]\n"
     ]
    },
    {
     "name": "stdout",
     "output_type": "stream",
     "text": [
      "epoch 729 | tr 0.10914812907040548 | val 0.3298667937517166\n"
     ]
    },
    {
     "name": "stderr",
     "output_type": "stream",
     "text": [
      "100%|██████████| 139/139 [00:04<00:00, 33.65it/s]\n",
      "100%|██████████| 10/10 [00:00<00:00, 763.35it/s]\n"
     ]
    },
    {
     "name": "stdout",
     "output_type": "stream",
     "text": [
      "epoch 730 | tr 0.10924407212639885 | val 0.3181251883506775\n"
     ]
    },
    {
     "name": "stderr",
     "output_type": "stream",
     "text": [
      "100%|██████████| 139/139 [00:04<00:00, 33.63it/s]\n",
      "100%|██████████| 10/10 [00:00<00:00, 767.06it/s]\n"
     ]
    },
    {
     "name": "stdout",
     "output_type": "stream",
     "text": [
      "epoch 731 | tr 0.10975345443907401 | val 0.323606738448143\n"
     ]
    },
    {
     "name": "stderr",
     "output_type": "stream",
     "text": [
      "100%|██████████| 139/139 [00:04<00:00, 33.65it/s]\n",
      "100%|██████████| 10/10 [00:00<00:00, 744.04it/s]\n"
     ]
    },
    {
     "name": "stdout",
     "output_type": "stream",
     "text": [
      "epoch 732 | tr 0.11648655312953235 | val 0.3297988474369049\n"
     ]
    },
    {
     "name": "stderr",
     "output_type": "stream",
     "text": [
      "100%|██████████| 139/139 [00:04<00:00, 33.65it/s]\n",
      "100%|██████████| 10/10 [00:00<00:00, 757.67it/s]\n"
     ]
    },
    {
     "name": "stdout",
     "output_type": "stream",
     "text": [
      "epoch 733 | tr 0.11547307185024666 | val 0.33492053747177125\n"
     ]
    },
    {
     "name": "stderr",
     "output_type": "stream",
     "text": [
      "100%|██████████| 139/139 [00:04<00:00, 33.66it/s]\n",
      "100%|██████████| 10/10 [00:00<00:00, 756.62it/s]\n"
     ]
    },
    {
     "name": "stdout",
     "output_type": "stream",
     "text": [
      "epoch 734 | tr 0.11448535031015925 | val 0.3299106478691101\n"
     ]
    },
    {
     "name": "stderr",
     "output_type": "stream",
     "text": [
      "100%|██████████| 139/139 [00:04<00:00, 33.64it/s]\n",
      "100%|██████████| 10/10 [00:00<00:00, 758.96it/s]\n"
     ]
    },
    {
     "name": "stdout",
     "output_type": "stream",
     "text": [
      "epoch 735 | tr 0.11154046354533957 | val 0.33208317756652833\n"
     ]
    },
    {
     "name": "stderr",
     "output_type": "stream",
     "text": [
      "100%|██████████| 139/139 [00:04<00:00, 33.65it/s]\n",
      "100%|██████████| 10/10 [00:00<00:00, 766.25it/s]\n"
     ]
    },
    {
     "name": "stdout",
     "output_type": "stream",
     "text": [
      "epoch 736 | tr 0.11342111176295246 | val 0.31985985189676286\n"
     ]
    },
    {
     "name": "stderr",
     "output_type": "stream",
     "text": [
      "100%|██████████| 139/139 [00:04<00:00, 33.66it/s]\n",
      "100%|██████████| 10/10 [00:00<00:00, 766.90it/s]\n"
     ]
    },
    {
     "name": "stdout",
     "output_type": "stream",
     "text": [
      "epoch 737 | tr 0.10987039564324798 | val 0.32383093535900115\n"
     ]
    },
    {
     "name": "stderr",
     "output_type": "stream",
     "text": [
      "100%|██████████| 139/139 [00:04<00:00, 33.66it/s]\n",
      "100%|██████████| 10/10 [00:00<00:00, 761.70it/s]\n"
     ]
    },
    {
     "name": "stdout",
     "output_type": "stream",
     "text": [
      "epoch 738 | tr 0.1099803062330047 | val 0.31745213866233823\n"
     ]
    },
    {
     "name": "stderr",
     "output_type": "stream",
     "text": [
      "100%|██████████| 139/139 [00:04<00:00, 33.66it/s]\n",
      "100%|██████████| 10/10 [00:00<00:00, 768.26it/s]\n"
     ]
    },
    {
     "name": "stdout",
     "output_type": "stream",
     "text": [
      "epoch 739 | tr 0.11711771352042397 | val 0.32719877660274505\n"
     ]
    },
    {
     "name": "stderr",
     "output_type": "stream",
     "text": [
      "100%|██████████| 139/139 [00:04<00:00, 33.65it/s]\n",
      "100%|██████████| 10/10 [00:00<00:00, 763.54it/s]\n"
     ]
    },
    {
     "name": "stdout",
     "output_type": "stream",
     "text": [
      "epoch 740 | tr 0.11242781370449409 | val 0.3269266918301582\n"
     ]
    },
    {
     "name": "stderr",
     "output_type": "stream",
     "text": [
      "100%|██████████| 139/139 [00:04<00:00, 33.62it/s]\n",
      "100%|██████████| 10/10 [00:00<00:00, 748.30it/s]\n"
     ]
    },
    {
     "name": "stdout",
     "output_type": "stream",
     "text": [
      "epoch 741 | tr 0.10935647860705423 | val 0.32195484191179274\n"
     ]
    },
    {
     "name": "stderr",
     "output_type": "stream",
     "text": [
      "100%|██████████| 139/139 [00:04<00:00, 33.60it/s]\n",
      "100%|██████████| 10/10 [00:00<00:00, 766.21it/s]\n"
     ]
    },
    {
     "name": "stdout",
     "output_type": "stream",
     "text": [
      "epoch 742 | tr 0.11022180801244091 | val 0.3239607572555542\n"
     ]
    },
    {
     "name": "stderr",
     "output_type": "stream",
     "text": [
      "100%|██████████| 139/139 [00:04<00:00, 33.62it/s]\n",
      "100%|██████████| 10/10 [00:00<00:00, 766.03it/s]\n"
     ]
    },
    {
     "name": "stdout",
     "output_type": "stream",
     "text": [
      "epoch 743 | tr 0.11462617842413539 | val 0.3278700828552246\n"
     ]
    },
    {
     "name": "stderr",
     "output_type": "stream",
     "text": [
      "100%|██████████| 139/139 [00:04<00:00, 33.63it/s]\n",
      "100%|██████████| 10/10 [00:00<00:00, 766.57it/s]\n"
     ]
    },
    {
     "name": "stdout",
     "output_type": "stream",
     "text": [
      "epoch 744 | tr 0.11220251179213146 | val 0.32988443225622177\n"
     ]
    },
    {
     "name": "stderr",
     "output_type": "stream",
     "text": [
      "100%|██████████| 139/139 [00:04<00:00, 33.69it/s]\n",
      "100%|██████████| 10/10 [00:00<00:00, 778.71it/s]\n"
     ]
    },
    {
     "name": "stdout",
     "output_type": "stream",
     "text": [
      "epoch 745 | tr 0.11002440386110073 | val 0.33713450729846955\n"
     ]
    },
    {
     "name": "stderr",
     "output_type": "stream",
     "text": [
      "100%|██████████| 139/139 [00:04<00:00, 33.67it/s]\n",
      "100%|██████████| 10/10 [00:00<00:00, 764.64it/s]\n"
     ]
    },
    {
     "name": "stdout",
     "output_type": "stream",
     "text": [
      "epoch 746 | tr 0.11147337857124617 | val 0.3299569845199585\n"
     ]
    },
    {
     "name": "stderr",
     "output_type": "stream",
     "text": [
      "100%|██████████| 139/139 [00:04<00:00, 33.62it/s]\n",
      "100%|██████████| 10/10 [00:00<00:00, 754.21it/s]\n"
     ]
    },
    {
     "name": "stdout",
     "output_type": "stream",
     "text": [
      "epoch 747 | tr 0.10964535653805561 | val 0.32456911355257034\n"
     ]
    },
    {
     "name": "stderr",
     "output_type": "stream",
     "text": [
      "100%|██████████| 139/139 [00:04<00:00, 33.63it/s]\n",
      "100%|██████████| 10/10 [00:00<00:00, 760.36it/s]\n"
     ]
    },
    {
     "name": "stdout",
     "output_type": "stream",
     "text": [
      "epoch 748 | tr 0.1109390334098888 | val 0.32394932508468627\n"
     ]
    },
    {
     "name": "stderr",
     "output_type": "stream",
     "text": [
      "100%|██████████| 139/139 [00:04<00:00, 33.65it/s]\n",
      "100%|██████████| 10/10 [00:00<00:00, 762.86it/s]\n"
     ]
    },
    {
     "name": "stdout",
     "output_type": "stream",
     "text": [
      "epoch 749 | tr 0.11107814981997442 | val 0.3138022094964981\n"
     ]
    },
    {
     "name": "stderr",
     "output_type": "stream",
     "text": [
      "100%|██████████| 139/139 [00:04<00:00, 33.64it/s]\n",
      "100%|██████████| 10/10 [00:00<00:00, 765.38it/s]\n"
     ]
    },
    {
     "name": "stdout",
     "output_type": "stream",
     "text": [
      "epoch 750 | tr 0.11055922776246242 | val 0.3228949397802353\n"
     ]
    },
    {
     "name": "stderr",
     "output_type": "stream",
     "text": [
      "100%|██████████| 139/139 [00:04<00:00, 33.65it/s]\n",
      "100%|██████████| 10/10 [00:00<00:00, 764.09it/s]\n"
     ]
    },
    {
     "name": "stdout",
     "output_type": "stream",
     "text": [
      "epoch 751 | tr 0.11749899516002738 | val 0.3387466728687286\n"
     ]
    },
    {
     "name": "stderr",
     "output_type": "stream",
     "text": [
      "100%|██████████| 139/139 [00:04<00:00, 33.65it/s]\n",
      "100%|██████████| 10/10 [00:00<00:00, 764.49it/s]\n"
     ]
    },
    {
     "name": "stdout",
     "output_type": "stream",
     "text": [
      "epoch 752 | tr 0.11278552535197718 | val 0.32315821945667267\n"
     ]
    },
    {
     "name": "stderr",
     "output_type": "stream",
     "text": [
      "100%|██████████| 139/139 [00:04<00:00, 33.63it/s]\n",
      "100%|██████████| 10/10 [00:00<00:00, 765.29it/s]\n"
     ]
    },
    {
     "name": "stdout",
     "output_type": "stream",
     "text": [
      "epoch 753 | tr 0.10851261695083096 | val 0.3265881657600403\n"
     ]
    },
    {
     "name": "stderr",
     "output_type": "stream",
     "text": [
      "100%|██████████| 139/139 [00:04<00:00, 33.65it/s]\n",
      "100%|██████████| 10/10 [00:00<00:00, 766.60it/s]\n"
     ]
    },
    {
     "name": "stdout",
     "output_type": "stream",
     "text": [
      "epoch 754 | tr 0.11056890397620715 | val 0.3207975149154663\n"
     ]
    },
    {
     "name": "stderr",
     "output_type": "stream",
     "text": [
      "100%|██████████| 139/139 [00:04<00:00, 33.61it/s]\n",
      "100%|██████████| 10/10 [00:00<00:00, 766.19it/s]\n"
     ]
    },
    {
     "name": "stdout",
     "output_type": "stream",
     "text": [
      "epoch 755 | tr 0.1097763583010478 | val 0.320666067302227\n"
     ]
    },
    {
     "name": "stderr",
     "output_type": "stream",
     "text": [
      "100%|██████████| 139/139 [00:04<00:00, 33.62it/s]\n",
      "100%|██████████| 10/10 [00:00<00:00, 756.88it/s]\n"
     ]
    },
    {
     "name": "stdout",
     "output_type": "stream",
     "text": [
      "epoch 756 | tr 0.11289627260441402 | val 0.31918759644031525\n"
     ]
    },
    {
     "name": "stderr",
     "output_type": "stream",
     "text": [
      "100%|██████████| 139/139 [00:04<00:00, 33.61it/s]\n",
      "100%|██████████| 10/10 [00:00<00:00, 763.17it/s]\n"
     ]
    },
    {
     "name": "stdout",
     "output_type": "stream",
     "text": [
      "epoch 757 | tr 0.10762307610657575 | val 0.31699987649917605\n"
     ]
    },
    {
     "name": "stderr",
     "output_type": "stream",
     "text": [
      "100%|██████████| 139/139 [00:04<00:00, 33.62it/s]\n",
      "100%|██████████| 10/10 [00:00<00:00, 765.34it/s]\n"
     ]
    },
    {
     "name": "stdout",
     "output_type": "stream",
     "text": [
      "epoch 758 | tr 0.10884862092973517 | val 0.3238035023212433\n"
     ]
    },
    {
     "name": "stderr",
     "output_type": "stream",
     "text": [
      "100%|██████████| 139/139 [00:04<00:00, 33.60it/s]\n",
      "100%|██████████| 10/10 [00:00<00:00, 757.26it/s]\n"
     ]
    },
    {
     "name": "stdout",
     "output_type": "stream",
     "text": [
      "epoch 759 | tr 0.1068775897725023 | val 0.3101267471909523\n"
     ]
    },
    {
     "name": "stderr",
     "output_type": "stream",
     "text": [
      "100%|██████████| 139/139 [00:04<00:00, 33.65it/s]\n",
      "100%|██████████| 10/10 [00:00<00:00, 767.16it/s]\n"
     ]
    },
    {
     "name": "stdout",
     "output_type": "stream",
     "text": [
      "epoch 760 | tr 0.11050606315298904 | val 0.3220509171485901\n"
     ]
    },
    {
     "name": "stderr",
     "output_type": "stream",
     "text": [
      "100%|██████████| 139/139 [00:04<00:00, 33.65it/s]\n",
      "100%|██████████| 10/10 [00:00<00:00, 767.81it/s]\n"
     ]
    },
    {
     "name": "stdout",
     "output_type": "stream",
     "text": [
      "epoch 761 | tr 0.11008041989889077 | val 0.32115829586982725\n"
     ]
    },
    {
     "name": "stderr",
     "output_type": "stream",
     "text": [
      "100%|██████████| 139/139 [00:04<00:00, 33.62it/s]\n",
      "100%|██████████| 10/10 [00:00<00:00, 768.23it/s]\n"
     ]
    },
    {
     "name": "stdout",
     "output_type": "stream",
     "text": [
      "epoch 762 | tr 0.11337487356697055 | val 0.32611438930034636\n"
     ]
    },
    {
     "name": "stderr",
     "output_type": "stream",
     "text": [
      "100%|██████████| 139/139 [00:04<00:00, 33.68it/s]\n",
      "100%|██████████| 10/10 [00:00<00:00, 779.58it/s]\n"
     ]
    },
    {
     "name": "stdout",
     "output_type": "stream",
     "text": [
      "epoch 763 | tr 0.11675620245204556 | val 0.3268897384405136\n"
     ]
    },
    {
     "name": "stderr",
     "output_type": "stream",
     "text": [
      "100%|██████████| 139/139 [00:04<00:00, 33.69it/s]\n",
      "100%|██████████| 10/10 [00:00<00:00, 760.43it/s]\n"
     ]
    },
    {
     "name": "stdout",
     "output_type": "stream",
     "text": [
      "epoch 764 | tr 0.11227448046100226 | val 0.3203070372343063\n"
     ]
    },
    {
     "name": "stderr",
     "output_type": "stream",
     "text": [
      "100%|██████████| 139/139 [00:04<00:00, 33.63it/s]\n",
      "100%|██████████| 10/10 [00:00<00:00, 760.71it/s]\n"
     ]
    },
    {
     "name": "stdout",
     "output_type": "stream",
     "text": [
      "epoch 765 | tr 0.1131510221325665 | val 0.3226950362324715\n"
     ]
    },
    {
     "name": "stderr",
     "output_type": "stream",
     "text": [
      "100%|██████████| 139/139 [00:04<00:00, 33.64it/s]\n",
      "100%|██████████| 10/10 [00:00<00:00, 750.63it/s]\n"
     ]
    },
    {
     "name": "stdout",
     "output_type": "stream",
     "text": [
      "epoch 766 | tr 0.10794103628011059 | val 0.3190520703792572\n"
     ]
    },
    {
     "name": "stderr",
     "output_type": "stream",
     "text": [
      "100%|██████████| 139/139 [00:04<00:00, 33.65it/s]\n",
      "100%|██████████| 10/10 [00:00<00:00, 772.70it/s]\n"
     ]
    },
    {
     "name": "stdout",
     "output_type": "stream",
     "text": [
      "epoch 767 | tr 0.111847494842766 | val 0.3259004637598991\n"
     ]
    },
    {
     "name": "stderr",
     "output_type": "stream",
     "text": [
      "100%|██████████| 139/139 [00:04<00:00, 33.64it/s]\n",
      "100%|██████████| 10/10 [00:00<00:00, 756.28it/s]\n"
     ]
    },
    {
     "name": "stdout",
     "output_type": "stream",
     "text": [
      "epoch 768 | tr 0.10986776113938942 | val 0.31824570894241333\n"
     ]
    },
    {
     "name": "stderr",
     "output_type": "stream",
     "text": [
      "100%|██████████| 139/139 [00:04<00:00, 33.65it/s]\n",
      "100%|██████████| 10/10 [00:00<00:00, 752.83it/s]\n"
     ]
    },
    {
     "name": "stdout",
     "output_type": "stream",
     "text": [
      "epoch 769 | tr 0.11031653978627362 | val 0.3274242341518402\n"
     ]
    },
    {
     "name": "stderr",
     "output_type": "stream",
     "text": [
      "100%|██████████| 139/139 [00:04<00:00, 33.63it/s]\n",
      "100%|██████████| 10/10 [00:00<00:00, 767.12it/s]\n"
     ]
    },
    {
     "name": "stdout",
     "output_type": "stream",
     "text": [
      "epoch 770 | tr 0.11439657575792546 | val 0.3209223568439484\n"
     ]
    },
    {
     "name": "stderr",
     "output_type": "stream",
     "text": [
      "100%|██████████| 139/139 [00:04<00:00, 33.60it/s]\n",
      "100%|██████████| 10/10 [00:00<00:00, 763.41it/s]\n"
     ]
    },
    {
     "name": "stdout",
     "output_type": "stream",
     "text": [
      "epoch 771 | tr 0.109070966248032 | val 0.3259841874241829\n"
     ]
    },
    {
     "name": "stderr",
     "output_type": "stream",
     "text": [
      "100%|██████████| 139/139 [00:04<00:00, 33.62it/s]\n",
      "100%|██████████| 10/10 [00:00<00:00, 763.28it/s]\n"
     ]
    },
    {
     "name": "stdout",
     "output_type": "stream",
     "text": [
      "epoch 772 | tr 0.11022096443519318 | val 0.32463130056858064\n"
     ]
    },
    {
     "name": "stderr",
     "output_type": "stream",
     "text": [
      "100%|██████████| 139/139 [00:04<00:00, 33.60it/s]\n",
      "100%|██████████| 10/10 [00:00<00:00, 767.61it/s]\n"
     ]
    },
    {
     "name": "stdout",
     "output_type": "stream",
     "text": [
      "epoch 773 | tr 0.1080703054079049 | val 0.325345578789711\n"
     ]
    },
    {
     "name": "stderr",
     "output_type": "stream",
     "text": [
      "100%|██████████| 139/139 [00:04<00:00, 33.62it/s]\n",
      "100%|██████████| 10/10 [00:00<00:00, 743.04it/s]\n"
     ]
    },
    {
     "name": "stdout",
     "output_type": "stream",
     "text": [
      "epoch 774 | tr 0.10801503689383431 | val 0.326030021905899\n"
     ]
    },
    {
     "name": "stderr",
     "output_type": "stream",
     "text": [
      "100%|██████████| 139/139 [00:04<00:00, 33.61it/s]\n",
      "100%|██████████| 10/10 [00:00<00:00, 742.66it/s]\n"
     ]
    },
    {
     "name": "stdout",
     "output_type": "stream",
     "text": [
      "epoch 775 | tr 0.10769322010681784 | val 0.32747243642807006\n"
     ]
    },
    {
     "name": "stderr",
     "output_type": "stream",
     "text": [
      "100%|██████████| 139/139 [00:04<00:00, 33.63it/s]\n",
      "100%|██████████| 10/10 [00:00<00:00, 762.86it/s]\n"
     ]
    },
    {
     "name": "stdout",
     "output_type": "stream",
     "text": [
      "epoch 776 | tr 0.11021951044634949 | val 0.3211595445871353\n"
     ]
    },
    {
     "name": "stderr",
     "output_type": "stream",
     "text": [
      "100%|██████████| 139/139 [00:04<00:00, 33.64it/s]\n",
      "100%|██████████| 10/10 [00:00<00:00, 753.13it/s]\n"
     ]
    },
    {
     "name": "stdout",
     "output_type": "stream",
     "text": [
      "epoch 777 | tr 0.11322456164111336 | val 0.31957840025424955\n"
     ]
    },
    {
     "name": "stderr",
     "output_type": "stream",
     "text": [
      "100%|██████████| 139/139 [00:04<00:00, 33.62it/s]\n",
      "100%|██████████| 10/10 [00:00<00:00, 760.55it/s]\n"
     ]
    },
    {
     "name": "stdout",
     "output_type": "stream",
     "text": [
      "epoch 778 | tr 0.11150292907472995 | val 0.33272272944450376\n"
     ]
    },
    {
     "name": "stderr",
     "output_type": "stream",
     "text": [
      "100%|██████████| 139/139 [00:04<00:00, 33.61it/s]\n",
      "100%|██████████| 10/10 [00:00<00:00, 758.88it/s]\n"
     ]
    },
    {
     "name": "stdout",
     "output_type": "stream",
     "text": [
      "epoch 779 | tr 0.11098829659519435 | val 0.3261308312416077\n"
     ]
    },
    {
     "name": "stderr",
     "output_type": "stream",
     "text": [
      "100%|██████████| 139/139 [00:04<00:00, 33.62it/s]\n",
      "100%|██████████| 10/10 [00:00<00:00, 761.74it/s]\n"
     ]
    },
    {
     "name": "stdout",
     "output_type": "stream",
     "text": [
      "epoch 780 | tr 0.11451608542915728 | val 0.32172182351350787\n"
     ]
    },
    {
     "name": "stderr",
     "output_type": "stream",
     "text": [
      "100%|██████████| 139/139 [00:04<00:00, 33.63it/s]\n",
      "100%|██████████| 10/10 [00:00<00:00, 755.05it/s]\n"
     ]
    },
    {
     "name": "stdout",
     "output_type": "stream",
     "text": [
      "epoch 781 | tr 0.10893265602828787 | val 0.32592872679233553\n"
     ]
    },
    {
     "name": "stderr",
     "output_type": "stream",
     "text": [
      "100%|██████████| 139/139 [00:04<00:00, 33.64it/s]\n",
      "100%|██████████| 10/10 [00:00<00:00, 766.36it/s]\n"
     ]
    },
    {
     "name": "stdout",
     "output_type": "stream",
     "text": [
      "epoch 782 | tr 0.11057217504909571 | val 0.3206539243459702\n"
     ]
    },
    {
     "name": "stderr",
     "output_type": "stream",
     "text": [
      "100%|██████████| 139/139 [00:04<00:00, 33.63it/s]\n",
      "100%|██████████| 10/10 [00:00<00:00, 738.75it/s]\n"
     ]
    },
    {
     "name": "stdout",
     "output_type": "stream",
     "text": [
      "epoch 783 | tr 0.1104789592808099 | val 0.3187953755259514\n"
     ]
    },
    {
     "name": "stderr",
     "output_type": "stream",
     "text": [
      "100%|██████████| 139/139 [00:04<00:00, 33.61it/s]\n",
      "100%|██████████| 10/10 [00:00<00:00, 739.84it/s]\n"
     ]
    },
    {
     "name": "stdout",
     "output_type": "stream",
     "text": [
      "epoch 784 | tr 0.11125317323122093 | val 0.31491900235414505\n"
     ]
    },
    {
     "name": "stderr",
     "output_type": "stream",
     "text": [
      "100%|██████████| 139/139 [00:04<00:00, 33.62it/s]\n",
      "100%|██████████| 10/10 [00:00<00:00, 766.49it/s]\n"
     ]
    },
    {
     "name": "stdout",
     "output_type": "stream",
     "text": [
      "epoch 785 | tr 0.10764133538916815 | val 0.3226822465658188\n"
     ]
    },
    {
     "name": "stderr",
     "output_type": "stream",
     "text": [
      "100%|██████████| 139/139 [00:04<00:00, 33.60it/s]\n",
      "100%|██████████| 10/10 [00:00<00:00, 767.65it/s]\n"
     ]
    },
    {
     "name": "stdout",
     "output_type": "stream",
     "text": [
      "epoch 786 | tr 0.10820209304634616 | val 0.32379088550806046\n"
     ]
    },
    {
     "name": "stderr",
     "output_type": "stream",
     "text": [
      "100%|██████████| 139/139 [00:04<00:00, 33.64it/s]\n",
      "100%|██████████| 10/10 [00:00<00:00, 767.27it/s]\n"
     ]
    },
    {
     "name": "stdout",
     "output_type": "stream",
     "text": [
      "epoch 787 | tr 0.1113729182121565 | val 0.3241275131702423\n"
     ]
    },
    {
     "name": "stderr",
     "output_type": "stream",
     "text": [
      "100%|██████████| 139/139 [00:04<00:00, 33.64it/s]\n",
      "100%|██████████| 10/10 [00:00<00:00, 740.85it/s]\n"
     ]
    },
    {
     "name": "stdout",
     "output_type": "stream",
     "text": [
      "epoch 788 | tr 0.11856506579964281 | val 0.3242121130228043\n"
     ]
    },
    {
     "name": "stderr",
     "output_type": "stream",
     "text": [
      "100%|██████████| 139/139 [00:04<00:00, 33.62it/s]\n",
      "100%|██████████| 10/10 [00:00<00:00, 753.00it/s]\n"
     ]
    },
    {
     "name": "stdout",
     "output_type": "stream",
     "text": [
      "epoch 789 | tr 0.11235993044625084 | val 0.3231680154800415\n"
     ]
    },
    {
     "name": "stderr",
     "output_type": "stream",
     "text": [
      "100%|██████████| 139/139 [00:04<00:00, 33.60it/s]\n",
      "100%|██████████| 10/10 [00:00<00:00, 763.35it/s]\n"
     ]
    },
    {
     "name": "stdout",
     "output_type": "stream",
     "text": [
      "epoch 790 | tr 0.11141918680007509 | val 0.32115980982780457\n"
     ]
    },
    {
     "name": "stderr",
     "output_type": "stream",
     "text": [
      "100%|██████████| 139/139 [00:04<00:00, 33.64it/s]\n",
      "100%|██████████| 10/10 [00:00<00:00, 757.92it/s]\n"
     ]
    },
    {
     "name": "stdout",
     "output_type": "stream",
     "text": [
      "epoch 791 | tr 0.1134777273312747 | val 0.31884092688560484\n"
     ]
    },
    {
     "name": "stderr",
     "output_type": "stream",
     "text": [
      "100%|██████████| 139/139 [00:04<00:00, 33.65it/s]\n",
      "100%|██████████| 10/10 [00:00<00:00, 759.92it/s]\n"
     ]
    },
    {
     "name": "stdout",
     "output_type": "stream",
     "text": [
      "epoch 792 | tr 0.10835950674234535 | val 0.31805217266082764\n"
     ]
    },
    {
     "name": "stderr",
     "output_type": "stream",
     "text": [
      "100%|██████████| 139/139 [00:04<00:00, 33.66it/s]\n",
      "100%|██████████| 10/10 [00:00<00:00, 754.09it/s]\n"
     ]
    },
    {
     "name": "stdout",
     "output_type": "stream",
     "text": [
      "epoch 793 | tr 0.10665901803927456 | val 0.32149685770273206\n"
     ]
    },
    {
     "name": "stderr",
     "output_type": "stream",
     "text": [
      "100%|██████████| 139/139 [00:04<00:00, 33.61it/s]\n",
      "100%|██████████| 10/10 [00:00<00:00, 743.86it/s]\n"
     ]
    },
    {
     "name": "stdout",
     "output_type": "stream",
     "text": [
      "epoch 794 | tr 0.10684605494891997 | val 0.32381187975406645\n"
     ]
    },
    {
     "name": "stderr",
     "output_type": "stream",
     "text": [
      "100%|██████████| 139/139 [00:04<00:00, 33.60it/s]\n",
      "100%|██████████| 10/10 [00:00<00:00, 744.81it/s]\n"
     ]
    },
    {
     "name": "stdout",
     "output_type": "stream",
     "text": [
      "epoch 795 | tr 0.10732033634357316 | val 0.3224576011300087\n"
     ]
    },
    {
     "name": "stderr",
     "output_type": "stream",
     "text": [
      "100%|██████████| 139/139 [00:04<00:00, 33.65it/s]\n",
      "100%|██████████| 10/10 [00:00<00:00, 759.76it/s]\n"
     ]
    },
    {
     "name": "stdout",
     "output_type": "stream",
     "text": [
      "epoch 796 | tr 0.10665535305043776 | val 0.3210048794746399\n"
     ]
    },
    {
     "name": "stderr",
     "output_type": "stream",
     "text": [
      "100%|██████████| 139/139 [00:04<00:00, 33.65it/s]\n",
      "100%|██████████| 10/10 [00:00<00:00, 765.22it/s]\n"
     ]
    },
    {
     "name": "stdout",
     "output_type": "stream",
     "text": [
      "epoch 797 | tr 0.10977076556828382 | val 0.32923421561717986\n"
     ]
    },
    {
     "name": "stderr",
     "output_type": "stream",
     "text": [
      "100%|██████████| 139/139 [00:04<00:00, 33.61it/s]\n",
      "100%|██████████| 10/10 [00:00<00:00, 763.13it/s]\n"
     ]
    },
    {
     "name": "stdout",
     "output_type": "stream",
     "text": [
      "epoch 798 | tr 0.1111732744913307 | val 0.3187229812145233\n"
     ]
    },
    {
     "name": "stderr",
     "output_type": "stream",
     "text": [
      "100%|██████████| 139/139 [00:04<00:00, 33.63it/s]\n",
      "100%|██████████| 10/10 [00:00<00:00, 765.29it/s]\n"
     ]
    },
    {
     "name": "stdout",
     "output_type": "stream",
     "text": [
      "epoch 799 | tr 0.10898089290951653 | val 0.32226628959178927\n"
     ]
    },
    {
     "name": "stderr",
     "output_type": "stream",
     "text": [
      "100%|██████████| 139/139 [00:04<00:00, 33.65it/s]\n",
      "100%|██████████| 10/10 [00:00<00:00, 761.74it/s]\n"
     ]
    },
    {
     "name": "stdout",
     "output_type": "stream",
     "text": [
      "epoch 800 | tr 0.11068233509929917 | val 0.3201820194721222\n"
     ]
    },
    {
     "name": "stderr",
     "output_type": "stream",
     "text": [
      "100%|██████████| 139/139 [00:04<00:00, 33.64it/s]\n",
      "100%|██████████| 10/10 [00:00<00:00, 753.38it/s]\n"
     ]
    },
    {
     "name": "stdout",
     "output_type": "stream",
     "text": [
      "epoch 801 | tr 0.11127767320588339 | val 0.3326208621263504\n"
     ]
    },
    {
     "name": "stderr",
     "output_type": "stream",
     "text": [
      "100%|██████████| 139/139 [00:04<00:00, 33.66it/s]\n",
      "100%|██████████| 10/10 [00:00<00:00, 759.21it/s]\n"
     ]
    },
    {
     "name": "stdout",
     "output_type": "stream",
     "text": [
      "epoch 802 | tr 0.11477251876172402 | val 0.31959924250841143\n"
     ]
    },
    {
     "name": "stderr",
     "output_type": "stream",
     "text": [
      "100%|██████████| 139/139 [00:04<00:00, 33.64it/s]\n",
      "100%|██████████| 10/10 [00:00<00:00, 758.29it/s]\n"
     ]
    },
    {
     "name": "stdout",
     "output_type": "stream",
     "text": [
      "epoch 803 | tr 0.11076708781204635 | val 0.32463568150997163\n"
     ]
    },
    {
     "name": "stderr",
     "output_type": "stream",
     "text": [
      "100%|██████████| 139/139 [00:04<00:00, 33.63it/s]\n",
      "100%|██████████| 10/10 [00:00<00:00, 752.98it/s]\n"
     ]
    },
    {
     "name": "stdout",
     "output_type": "stream",
     "text": [
      "epoch 804 | tr 0.11057367931595809 | val 0.318994902074337\n"
     ]
    },
    {
     "name": "stderr",
     "output_type": "stream",
     "text": [
      "100%|██████████| 139/139 [00:04<00:00, 33.64it/s]\n",
      "100%|██████████| 10/10 [00:00<00:00, 769.20it/s]\n"
     ]
    },
    {
     "name": "stdout",
     "output_type": "stream",
     "text": [
      "epoch 805 | tr 0.11371420409610804 | val 0.3252898991107941\n"
     ]
    },
    {
     "name": "stderr",
     "output_type": "stream",
     "text": [
      "100%|██████████| 139/139 [00:04<00:00, 33.64it/s]\n",
      "100%|██████████| 10/10 [00:00<00:00, 644.80it/s]\n"
     ]
    },
    {
     "name": "stdout",
     "output_type": "stream",
     "text": [
      "epoch 806 | tr 0.11272653208362113 | val 0.329523503780365\n"
     ]
    },
    {
     "name": "stderr",
     "output_type": "stream",
     "text": [
      "100%|██████████| 139/139 [00:04<00:00, 33.65it/s]\n",
      "100%|██████████| 10/10 [00:00<00:00, 757.90it/s]\n"
     ]
    },
    {
     "name": "stdout",
     "output_type": "stream",
     "text": [
      "epoch 807 | tr 0.10955052415458419 | val 0.3304698646068573\n"
     ]
    },
    {
     "name": "stderr",
     "output_type": "stream",
     "text": [
      "100%|██████████| 139/139 [00:04<00:00, 33.66it/s]\n",
      "100%|██████████| 10/10 [00:00<00:00, 758.59it/s]\n"
     ]
    },
    {
     "name": "stdout",
     "output_type": "stream",
     "text": [
      "epoch 808 | tr 0.10895996996395879 | val 0.31870949268341064\n"
     ]
    },
    {
     "name": "stderr",
     "output_type": "stream",
     "text": [
      "100%|██████████| 139/139 [00:04<00:00, 33.70it/s]\n",
      "100%|██████████| 10/10 [00:00<00:00, 778.77it/s]\n"
     ]
    },
    {
     "name": "stdout",
     "output_type": "stream",
     "text": [
      "epoch 809 | tr 0.11221595692763225 | val 0.3268155723810196\n"
     ]
    },
    {
     "name": "stderr",
     "output_type": "stream",
     "text": [
      "100%|██████████| 139/139 [00:04<00:00, 33.61it/s]\n",
      "100%|██████████| 10/10 [00:00<00:00, 752.19it/s]\n"
     ]
    },
    {
     "name": "stdout",
     "output_type": "stream",
     "text": [
      "epoch 810 | tr 0.11003540617098911 | val 0.3262868642807007\n"
     ]
    },
    {
     "name": "stderr",
     "output_type": "stream",
     "text": [
      "100%|██████████| 139/139 [00:04<00:00, 33.64it/s]\n",
      "100%|██████████| 10/10 [00:00<00:00, 764.21it/s]\n"
     ]
    },
    {
     "name": "stdout",
     "output_type": "stream",
     "text": [
      "epoch 811 | tr 0.10711376931813123 | val 0.32597016394138334\n"
     ]
    },
    {
     "name": "stderr",
     "output_type": "stream",
     "text": [
      "100%|██████████| 139/139 [00:04<00:00, 33.64it/s]\n",
      "100%|██████████| 10/10 [00:00<00:00, 765.40it/s]\n"
     ]
    },
    {
     "name": "stdout",
     "output_type": "stream",
     "text": [
      "epoch 812 | tr 0.10464376457732358 | val 0.3227440357208252\n"
     ]
    },
    {
     "name": "stderr",
     "output_type": "stream",
     "text": [
      "100%|██████████| 139/139 [00:04<00:00, 33.66it/s]\n",
      "100%|██████████| 10/10 [00:00<00:00, 750.19it/s]\n"
     ]
    },
    {
     "name": "stdout",
     "output_type": "stream",
     "text": [
      "epoch 813 | tr 0.10907952626832097 | val 0.32075110375881194\n"
     ]
    },
    {
     "name": "stderr",
     "output_type": "stream",
     "text": [
      "100%|██████████| 139/139 [00:04<00:00, 33.63it/s]\n",
      "100%|██████████| 10/10 [00:00<00:00, 752.00it/s]\n"
     ]
    },
    {
     "name": "stdout",
     "output_type": "stream",
     "text": [
      "epoch 814 | tr 0.1111882595921592 | val 0.32953811436891556\n"
     ]
    },
    {
     "name": "stderr",
     "output_type": "stream",
     "text": [
      "100%|██████████| 139/139 [00:04<00:00, 33.63it/s]\n",
      "100%|██████████| 10/10 [00:00<00:00, 757.74it/s]\n"
     ]
    },
    {
     "name": "stdout",
     "output_type": "stream",
     "text": [
      "epoch 815 | tr 0.11422900260566808 | val 0.32069664895534516\n"
     ]
    },
    {
     "name": "stderr",
     "output_type": "stream",
     "text": [
      "100%|██████████| 139/139 [00:04<00:00, 33.63it/s]\n",
      "100%|██████████| 10/10 [00:00<00:00, 759.45it/s]\n"
     ]
    },
    {
     "name": "stdout",
     "output_type": "stream",
     "text": [
      "epoch 816 | tr 0.11201610973627447 | val 0.32723207771778107\n"
     ]
    },
    {
     "name": "stderr",
     "output_type": "stream",
     "text": [
      "100%|██████████| 139/139 [00:04<00:00, 33.65it/s]\n",
      "100%|██████████| 10/10 [00:00<00:00, 748.94it/s]\n"
     ]
    },
    {
     "name": "stdout",
     "output_type": "stream",
     "text": [
      "epoch 817 | tr 0.11604285781546463 | val 0.3275164306163788\n"
     ]
    },
    {
     "name": "stderr",
     "output_type": "stream",
     "text": [
      "100%|██████████| 139/139 [00:04<00:00, 33.65it/s]\n",
      "100%|██████████| 10/10 [00:00<00:00, 750.73it/s]\n"
     ]
    },
    {
     "name": "stdout",
     "output_type": "stream",
     "text": [
      "epoch 818 | tr 0.10862286967768085 | val 0.32990234047174455\n"
     ]
    },
    {
     "name": "stderr",
     "output_type": "stream",
     "text": [
      "100%|██████████| 139/139 [00:04<00:00, 33.65it/s]\n",
      "100%|██████████| 10/10 [00:00<00:00, 744.77it/s]\n"
     ]
    },
    {
     "name": "stdout",
     "output_type": "stream",
     "text": [
      "epoch 819 | tr 0.10935949668181029 | val 0.3165456146001816\n"
     ]
    },
    {
     "name": "stderr",
     "output_type": "stream",
     "text": [
      "100%|██████████| 139/139 [00:04<00:00, 33.64it/s]\n",
      "100%|██████████| 10/10 [00:00<00:00, 764.59it/s]\n"
     ]
    },
    {
     "name": "stdout",
     "output_type": "stream",
     "text": [
      "epoch 820 | tr 0.11003789772018255 | val 0.32432907074689865\n"
     ]
    },
    {
     "name": "stderr",
     "output_type": "stream",
     "text": [
      "100%|██████████| 139/139 [00:04<00:00, 33.66it/s]\n",
      "100%|██████████| 10/10 [00:00<00:00, 764.83it/s]\n"
     ]
    },
    {
     "name": "stdout",
     "output_type": "stream",
     "text": [
      "epoch 821 | tr 0.10901833191621217 | val 0.31991499215364455\n"
     ]
    },
    {
     "name": "stderr",
     "output_type": "stream",
     "text": [
      "100%|██████████| 139/139 [00:04<00:00, 33.66it/s]\n",
      "100%|██████████| 10/10 [00:00<00:00, 762.78it/s]\n"
     ]
    },
    {
     "name": "stdout",
     "output_type": "stream",
     "text": [
      "epoch 822 | tr 0.10990717253989453 | val 0.3232767641544342\n"
     ]
    },
    {
     "name": "stderr",
     "output_type": "stream",
     "text": [
      "100%|██████████| 139/139 [00:04<00:00, 33.64it/s]\n",
      "100%|██████████| 10/10 [00:00<00:00, 760.47it/s]\n"
     ]
    },
    {
     "name": "stdout",
     "output_type": "stream",
     "text": [
      "epoch 823 | tr 0.11010044035937289 | val 0.32130778580904007\n"
     ]
    },
    {
     "name": "stderr",
     "output_type": "stream",
     "text": [
      "100%|██████████| 139/139 [00:04<00:00, 33.64it/s]\n",
      "100%|██████████| 10/10 [00:00<00:00, 757.19it/s]\n"
     ]
    },
    {
     "name": "stdout",
     "output_type": "stream",
     "text": [
      "epoch 824 | tr 0.10928060452071883 | val 0.32033412605524064\n"
     ]
    },
    {
     "name": "stderr",
     "output_type": "stream",
     "text": [
      "100%|██████████| 139/139 [00:04<00:00, 33.64it/s]\n",
      "100%|██████████| 10/10 [00:00<00:00, 761.08it/s]\n"
     ]
    },
    {
     "name": "stdout",
     "output_type": "stream",
     "text": [
      "epoch 825 | tr 0.1060308886410521 | val 0.3194667860865593\n"
     ]
    },
    {
     "name": "stderr",
     "output_type": "stream",
     "text": [
      "100%|██████████| 139/139 [00:04<00:00, 33.65it/s]\n",
      "100%|██████████| 10/10 [00:00<00:00, 762.92it/s]\n"
     ]
    },
    {
     "name": "stdout",
     "output_type": "stream",
     "text": [
      "epoch 826 | tr 0.10362127096318513 | val 0.3272664576768875\n"
     ]
    },
    {
     "name": "stderr",
     "output_type": "stream",
     "text": [
      "100%|██████████| 139/139 [00:04<00:00, 33.63it/s]\n",
      "100%|██████████| 10/10 [00:00<00:00, 766.80it/s]\n"
     ]
    },
    {
     "name": "stdout",
     "output_type": "stream",
     "text": [
      "epoch 827 | tr 0.10464556976188001 | val 0.31746304631233213\n"
     ]
    },
    {
     "name": "stderr",
     "output_type": "stream",
     "text": [
      "100%|██████████| 139/139 [00:04<00:00, 33.65it/s]\n",
      "100%|██████████| 10/10 [00:00<00:00, 754.87it/s]\n"
     ]
    },
    {
     "name": "stdout",
     "output_type": "stream",
     "text": [
      "epoch 828 | tr 0.10809083036381564 | val 0.3261748194694519\n"
     ]
    },
    {
     "name": "stderr",
     "output_type": "stream",
     "text": [
      "100%|██████████| 139/139 [00:04<00:00, 33.65it/s]\n",
      "100%|██████████| 10/10 [00:00<00:00, 764.69it/s]\n"
     ]
    },
    {
     "name": "stdout",
     "output_type": "stream",
     "text": [
      "epoch 829 | tr 0.10566146725373303 | val 0.3237804025411606\n"
     ]
    },
    {
     "name": "stderr",
     "output_type": "stream",
     "text": [
      "100%|██████████| 139/139 [00:04<00:00, 33.66it/s]\n",
      "100%|██████████| 10/10 [00:00<00:00, 676.17it/s]\n"
     ]
    },
    {
     "name": "stdout",
     "output_type": "stream",
     "text": [
      "epoch 830 | tr 0.1101437220684916 | val 0.32584199905395506\n"
     ]
    },
    {
     "name": "stderr",
     "output_type": "stream",
     "text": [
      "100%|██████████| 139/139 [00:04<00:00, 33.65it/s]\n",
      "100%|██████████| 10/10 [00:00<00:00, 769.07it/s]\n"
     ]
    },
    {
     "name": "stdout",
     "output_type": "stream",
     "text": [
      "epoch 831 | tr 0.11465175246163238 | val 0.31705227941274644\n"
     ]
    },
    {
     "name": "stderr",
     "output_type": "stream",
     "text": [
      "100%|██████████| 139/139 [00:04<00:00, 33.65it/s]\n",
      "100%|██████████| 10/10 [00:00<00:00, 753.00it/s]\n"
     ]
    },
    {
     "name": "stdout",
     "output_type": "stream",
     "text": [
      "epoch 832 | tr 0.11047155774540181 | val 0.3173008754849434\n"
     ]
    },
    {
     "name": "stderr",
     "output_type": "stream",
     "text": [
      "100%|██████████| 139/139 [00:04<00:00, 33.63it/s]\n",
      "100%|██████████| 10/10 [00:00<00:00, 764.71it/s]\n"
     ]
    },
    {
     "name": "stdout",
     "output_type": "stream",
     "text": [
      "epoch 833 | tr 0.11215937668256623 | val 0.32472965121269226\n"
     ]
    },
    {
     "name": "stderr",
     "output_type": "stream",
     "text": [
      "100%|██████████| 139/139 [00:04<00:00, 33.65it/s]\n",
      "100%|██████████| 10/10 [00:00<00:00, 757.19it/s]\n"
     ]
    },
    {
     "name": "stdout",
     "output_type": "stream",
     "text": [
      "epoch 834 | tr 0.11101080986450045 | val 0.32530616968870163\n"
     ]
    },
    {
     "name": "stderr",
     "output_type": "stream",
     "text": [
      "100%|██████████| 139/139 [00:04<00:00, 33.65it/s]\n",
      "100%|██████████| 10/10 [00:00<00:00, 765.83it/s]\n"
     ]
    },
    {
     "name": "stdout",
     "output_type": "stream",
     "text": [
      "epoch 835 | tr 0.11059623415307175 | val 0.3271562814712524\n"
     ]
    },
    {
     "name": "stderr",
     "output_type": "stream",
     "text": [
      "100%|██████████| 139/139 [00:04<00:00, 33.66it/s]\n",
      "100%|██████████| 10/10 [00:00<00:00, 758.38it/s]\n"
     ]
    },
    {
     "name": "stdout",
     "output_type": "stream",
     "text": [
      "epoch 836 | tr 0.11415955129501631 | val 0.3373808264732361\n"
     ]
    },
    {
     "name": "stderr",
     "output_type": "stream",
     "text": [
      "100%|██████████| 139/139 [00:04<00:00, 33.64it/s]\n",
      "100%|██████████| 10/10 [00:00<00:00, 751.71it/s]\n"
     ]
    },
    {
     "name": "stdout",
     "output_type": "stream",
     "text": [
      "epoch 837 | tr 0.11362189494019789 | val 0.32417752742767336\n"
     ]
    },
    {
     "name": "stderr",
     "output_type": "stream",
     "text": [
      "100%|██████████| 139/139 [00:04<00:00, 33.64it/s]\n",
      "100%|██████████| 10/10 [00:00<00:00, 760.40it/s]\n"
     ]
    },
    {
     "name": "stdout",
     "output_type": "stream",
     "text": [
      "epoch 838 | tr 0.11277893464342295 | val 0.32079854011535647\n"
     ]
    },
    {
     "name": "stderr",
     "output_type": "stream",
     "text": [
      "100%|██████████| 139/139 [00:04<00:00, 33.64it/s]\n",
      "100%|██████████| 10/10 [00:00<00:00, 728.82it/s]\n"
     ]
    },
    {
     "name": "stdout",
     "output_type": "stream",
     "text": [
      "epoch 839 | tr 0.1121591322606416 | val 0.32218059003353117\n"
     ]
    },
    {
     "name": "stderr",
     "output_type": "stream",
     "text": [
      "100%|██████████| 139/139 [00:04<00:00, 33.65it/s]\n",
      "100%|██████████| 10/10 [00:00<00:00, 761.13it/s]\n"
     ]
    },
    {
     "name": "stdout",
     "output_type": "stream",
     "text": [
      "epoch 840 | tr 0.10926774471140593 | val 0.32100860178470614\n"
     ]
    },
    {
     "name": "stderr",
     "output_type": "stream",
     "text": [
      "100%|██████████| 139/139 [00:04<00:00, 33.65it/s]\n",
      "100%|██████████| 10/10 [00:00<00:00, 767.89it/s]\n"
     ]
    },
    {
     "name": "stdout",
     "output_type": "stream",
     "text": [
      "epoch 841 | tr 0.11110214722885502 | val 0.32577926814556124\n"
     ]
    },
    {
     "name": "stderr",
     "output_type": "stream",
     "text": [
      "100%|██████████| 139/139 [00:04<00:00, 33.66it/s]\n",
      "100%|██████████| 10/10 [00:00<00:00, 764.07it/s]\n"
     ]
    },
    {
     "name": "stdout",
     "output_type": "stream",
     "text": [
      "epoch 842 | tr 0.11178220042007432 | val 0.31985891312360765\n"
     ]
    },
    {
     "name": "stderr",
     "output_type": "stream",
     "text": [
      "100%|██████████| 139/139 [00:04<00:00, 33.63it/s]\n",
      "100%|██████████| 10/10 [00:00<00:00, 763.67it/s]\n"
     ]
    },
    {
     "name": "stdout",
     "output_type": "stream",
     "text": [
      "epoch 843 | tr 0.10366877382822173 | val 0.3229515790939331\n"
     ]
    },
    {
     "name": "stderr",
     "output_type": "stream",
     "text": [
      "100%|██████████| 139/139 [00:04<00:00, 33.65it/s]\n",
      "100%|██████████| 10/10 [00:00<00:00, 765.94it/s]\n"
     ]
    },
    {
     "name": "stdout",
     "output_type": "stream",
     "text": [
      "epoch 844 | tr 0.10647847629386745 | val 0.32616724967956545\n"
     ]
    },
    {
     "name": "stderr",
     "output_type": "stream",
     "text": [
      "100%|██████████| 139/139 [00:04<00:00, 33.66it/s]\n",
      "100%|██████████| 10/10 [00:00<00:00, 761.38it/s]\n"
     ]
    },
    {
     "name": "stdout",
     "output_type": "stream",
     "text": [
      "epoch 845 | tr 0.1092410603765961 | val 0.3219750612974167\n"
     ]
    },
    {
     "name": "stderr",
     "output_type": "stream",
     "text": [
      "100%|██████████| 139/139 [00:04<00:00, 33.66it/s]\n",
      "100%|██████████| 10/10 [00:00<00:00, 767.36it/s]\n"
     ]
    },
    {
     "name": "stdout",
     "output_type": "stream",
     "text": [
      "epoch 846 | tr 0.10792378585437219 | val 0.328394977748394\n"
     ]
    },
    {
     "name": "stderr",
     "output_type": "stream",
     "text": [
      "100%|██████████| 139/139 [00:04<00:00, 33.65it/s]\n",
      "100%|██████████| 10/10 [00:00<00:00, 764.70it/s]\n"
     ]
    },
    {
     "name": "stdout",
     "output_type": "stream",
     "text": [
      "epoch 847 | tr 0.10839513769681505 | val 0.32414004802703855\n"
     ]
    },
    {
     "name": "stderr",
     "output_type": "stream",
     "text": [
      "100%|██████████| 139/139 [00:04<00:00, 33.61it/s]\n",
      "100%|██████████| 10/10 [00:00<00:00, 749.59it/s]\n"
     ]
    },
    {
     "name": "stdout",
     "output_type": "stream",
     "text": [
      "epoch 848 | tr 0.10874884409441364 | val 0.3262673169374466\n"
     ]
    },
    {
     "name": "stderr",
     "output_type": "stream",
     "text": [
      "100%|██████████| 139/139 [00:04<00:00, 33.61it/s]\n",
      "100%|██████████| 10/10 [00:00<00:00, 747.63it/s]\n"
     ]
    },
    {
     "name": "stdout",
     "output_type": "stream",
     "text": [
      "epoch 849 | tr 0.10667883175954544 | val 0.32195190340280533\n"
     ]
    },
    {
     "name": "stderr",
     "output_type": "stream",
     "text": [
      "100%|██████████| 139/139 [00:04<00:00, 33.67it/s]\n",
      "100%|██████████| 10/10 [00:00<00:00, 777.21it/s]\n"
     ]
    },
    {
     "name": "stdout",
     "output_type": "stream",
     "text": [
      "epoch 850 | tr 0.10931153434643642 | val 0.33294794857501986\n"
     ]
    },
    {
     "name": "stderr",
     "output_type": "stream",
     "text": [
      "100%|██████████| 139/139 [00:04<00:00, 33.62it/s]\n",
      "100%|██████████| 10/10 [00:00<00:00, 737.98it/s]\n"
     ]
    },
    {
     "name": "stdout",
     "output_type": "stream",
     "text": [
      "epoch 851 | tr 0.10862953912654369 | val 0.3237785011529922\n"
     ]
    },
    {
     "name": "stderr",
     "output_type": "stream",
     "text": [
      "100%|██████████| 139/139 [00:04<00:00, 33.65it/s]\n",
      "100%|██████████| 10/10 [00:00<00:00, 752.26it/s]\n"
     ]
    },
    {
     "name": "stdout",
     "output_type": "stream",
     "text": [
      "epoch 852 | tr 0.10610333899799869 | val 0.3212083265185356\n"
     ]
    },
    {
     "name": "stderr",
     "output_type": "stream",
     "text": [
      "100%|██████████| 139/139 [00:04<00:00, 33.65it/s]\n",
      "100%|██████████| 10/10 [00:00<00:00, 755.91it/s]\n"
     ]
    },
    {
     "name": "stdout",
     "output_type": "stream",
     "text": [
      "epoch 853 | tr 0.11411149060125832 | val 0.3233407765626907\n"
     ]
    },
    {
     "name": "stderr",
     "output_type": "stream",
     "text": [
      "100%|██████████| 139/139 [00:04<00:00, 33.64it/s]\n",
      "100%|██████████| 10/10 [00:00<00:00, 767.44it/s]\n"
     ]
    },
    {
     "name": "stdout",
     "output_type": "stream",
     "text": [
      "epoch 854 | tr 0.10990741706902174 | val 0.3230176091194153\n"
     ]
    },
    {
     "name": "stderr",
     "output_type": "stream",
     "text": [
      "100%|██████████| 139/139 [00:04<00:00, 33.63it/s]\n",
      "100%|██████████| 10/10 [00:00<00:00, 765.19it/s]\n"
     ]
    },
    {
     "name": "stdout",
     "output_type": "stream",
     "text": [
      "epoch 855 | tr 0.1083465394892281 | val 0.3281914293766022\n"
     ]
    },
    {
     "name": "stderr",
     "output_type": "stream",
     "text": [
      "100%|██████████| 139/139 [00:04<00:00, 33.63it/s]\n",
      "100%|██████████| 10/10 [00:00<00:00, 753.71it/s]\n"
     ]
    },
    {
     "name": "stdout",
     "output_type": "stream",
     "text": [
      "epoch 856 | tr 0.1063900165956655 | val 0.32366165667772295\n"
     ]
    },
    {
     "name": "stderr",
     "output_type": "stream",
     "text": [
      "100%|██████████| 139/139 [00:04<00:00, 33.63it/s]\n",
      "100%|██████████| 10/10 [00:00<00:00, 769.55it/s]\n"
     ]
    },
    {
     "name": "stdout",
     "output_type": "stream",
     "text": [
      "epoch 857 | tr 0.1073076262426891 | val 0.32610610127449036\n"
     ]
    },
    {
     "name": "stderr",
     "output_type": "stream",
     "text": [
      "100%|██████████| 139/139 [00:04<00:00, 33.62it/s]\n",
      "100%|██████████| 10/10 [00:00<00:00, 756.08it/s]\n"
     ]
    },
    {
     "name": "stdout",
     "output_type": "stream",
     "text": [
      "epoch 858 | tr 0.1062702630653227 | val 0.3238914906978607\n"
     ]
    },
    {
     "name": "stderr",
     "output_type": "stream",
     "text": [
      "100%|██████████| 139/139 [00:04<00:00, 33.62it/s]\n",
      "100%|██████████| 10/10 [00:00<00:00, 759.25it/s]\n"
     ]
    },
    {
     "name": "stdout",
     "output_type": "stream",
     "text": [
      "epoch 859 | tr 0.10693615063917723 | val 0.32074705958366395\n"
     ]
    },
    {
     "name": "stderr",
     "output_type": "stream",
     "text": [
      "100%|██████████| 139/139 [00:04<00:00, 33.63it/s]\n",
      "100%|██████████| 10/10 [00:00<00:00, 761.12it/s]\n"
     ]
    },
    {
     "name": "stdout",
     "output_type": "stream",
     "text": [
      "epoch 860 | tr 0.10769363878656635 | val 0.32284121960401535\n"
     ]
    },
    {
     "name": "stderr",
     "output_type": "stream",
     "text": [
      "100%|██████████| 139/139 [00:04<00:00, 33.65it/s]\n",
      "100%|██████████| 10/10 [00:00<00:00, 761.85it/s]\n"
     ]
    },
    {
     "name": "stdout",
     "output_type": "stream",
     "text": [
      "epoch 861 | tr 0.10716216678885247 | val 0.3195860043168068\n"
     ]
    },
    {
     "name": "stderr",
     "output_type": "stream",
     "text": [
      "100%|██████████| 139/139 [00:04<00:00, 33.65it/s]\n",
      "100%|██████████| 10/10 [00:00<00:00, 759.42it/s]\n"
     ]
    },
    {
     "name": "stdout",
     "output_type": "stream",
     "text": [
      "epoch 862 | tr 0.10455423046787865 | val 0.3268781155347824\n"
     ]
    },
    {
     "name": "stderr",
     "output_type": "stream",
     "text": [
      "100%|██████████| 139/139 [00:04<00:00, 33.63it/s]\n",
      "100%|██████████| 10/10 [00:00<00:00, 757.64it/s]\n"
     ]
    },
    {
     "name": "stdout",
     "output_type": "stream",
     "text": [
      "epoch 863 | tr 0.11269265054155597 | val 0.32160989195108414\n"
     ]
    },
    {
     "name": "stderr",
     "output_type": "stream",
     "text": [
      "100%|██████████| 139/139 [00:04<00:00, 33.64it/s]\n",
      "100%|██████████| 10/10 [00:00<00:00, 766.14it/s]\n"
     ]
    },
    {
     "name": "stdout",
     "output_type": "stream",
     "text": [
      "epoch 864 | tr 0.11627471623875255 | val 0.32063148617744447\n"
     ]
    },
    {
     "name": "stderr",
     "output_type": "stream",
     "text": [
      "100%|██████████| 139/139 [00:04<00:00, 33.65it/s]\n",
      "100%|██████████| 10/10 [00:00<00:00, 745.96it/s]\n"
     ]
    },
    {
     "name": "stdout",
     "output_type": "stream",
     "text": [
      "epoch 865 | tr 0.1108354999543094 | val 0.3242895945906639\n"
     ]
    },
    {
     "name": "stderr",
     "output_type": "stream",
     "text": [
      "100%|██████████| 139/139 [00:04<00:00, 33.60it/s]\n",
      "100%|██████████| 10/10 [00:00<00:00, 755.88it/s]\n"
     ]
    },
    {
     "name": "stdout",
     "output_type": "stream",
     "text": [
      "epoch 866 | tr 0.11167586321453396 | val 0.3219665944576263\n"
     ]
    },
    {
     "name": "stderr",
     "output_type": "stream",
     "text": [
      "100%|██████████| 139/139 [00:04<00:00, 33.63it/s]\n",
      "100%|██████████| 10/10 [00:00<00:00, 751.16it/s]\n"
     ]
    },
    {
     "name": "stdout",
     "output_type": "stream",
     "text": [
      "epoch 867 | tr 0.1087529962118581 | val 0.32827155143022535\n"
     ]
    },
    {
     "name": "stderr",
     "output_type": "stream",
     "text": [
      "100%|██████████| 139/139 [00:04<00:00, 33.64it/s]\n",
      "100%|██████████| 10/10 [00:00<00:00, 759.96it/s]\n"
     ]
    },
    {
     "name": "stdout",
     "output_type": "stream",
     "text": [
      "epoch 868 | tr 0.11001606757263485 | val 0.3229015678167343\n"
     ]
    },
    {
     "name": "stderr",
     "output_type": "stream",
     "text": [
      "100%|██████████| 139/139 [00:04<00:00, 33.63it/s]\n",
      "100%|██████████| 10/10 [00:00<00:00, 750.20it/s]\n"
     ]
    },
    {
     "name": "stdout",
     "output_type": "stream",
     "text": [
      "epoch 869 | tr 0.10830362604783593 | val 0.3230190575122833\n"
     ]
    },
    {
     "name": "stderr",
     "output_type": "stream",
     "text": [
      "100%|██████████| 139/139 [00:04<00:00, 33.62it/s]\n",
      "100%|██████████| 10/10 [00:00<00:00, 740.66it/s]\n"
     ]
    },
    {
     "name": "stdout",
     "output_type": "stream",
     "text": [
      "epoch 870 | tr 0.11022498019093233 | val 0.32405700236558915\n"
     ]
    },
    {
     "name": "stderr",
     "output_type": "stream",
     "text": [
      "100%|██████████| 139/139 [00:04<00:00, 33.63it/s]\n",
      "100%|██████████| 10/10 [00:00<00:00, 753.29it/s]\n"
     ]
    },
    {
     "name": "stdout",
     "output_type": "stream",
     "text": [
      "epoch 871 | tr 0.10820024079984898 | val 0.32424385398626326\n"
     ]
    },
    {
     "name": "stderr",
     "output_type": "stream",
     "text": [
      "100%|██████████| 139/139 [00:04<00:00, 33.66it/s]\n",
      "100%|██████████| 10/10 [00:00<00:00, 772.47it/s]\n"
     ]
    },
    {
     "name": "stdout",
     "output_type": "stream",
     "text": [
      "epoch 872 | tr 0.10737247963389046 | val 0.3194596186280251\n"
     ]
    },
    {
     "name": "stderr",
     "output_type": "stream",
     "text": [
      "100%|██████████| 139/139 [00:04<00:00, 33.62it/s]\n",
      "100%|██████████| 10/10 [00:00<00:00, 761.00it/s]\n"
     ]
    },
    {
     "name": "stdout",
     "output_type": "stream",
     "text": [
      "epoch 873 | tr 0.10855722352326345 | val 0.3212130606174469\n"
     ]
    },
    {
     "name": "stderr",
     "output_type": "stream",
     "text": [
      "100%|██████████| 139/139 [00:04<00:00, 33.64it/s]\n",
      "100%|██████████| 10/10 [00:00<00:00, 765.97it/s]\n"
     ]
    },
    {
     "name": "stdout",
     "output_type": "stream",
     "text": [
      "epoch 874 | tr 0.10735512508762826 | val 0.31732248812913894\n"
     ]
    },
    {
     "name": "stderr",
     "output_type": "stream",
     "text": [
      "100%|██████████| 139/139 [00:04<00:00, 33.65it/s]\n",
      "100%|██████████| 10/10 [00:00<00:00, 769.57it/s]\n"
     ]
    },
    {
     "name": "stdout",
     "output_type": "stream",
     "text": [
      "epoch 875 | tr 0.10535692493263767 | val 0.32162664383649825\n"
     ]
    },
    {
     "name": "stderr",
     "output_type": "stream",
     "text": [
      "100%|██████████| 139/139 [00:04<00:00, 33.66it/s]\n",
      "100%|██████████| 10/10 [00:00<00:00, 762.93it/s]\n"
     ]
    },
    {
     "name": "stdout",
     "output_type": "stream",
     "text": [
      "epoch 876 | tr 0.10939419569729043 | val 0.3164058953523636\n"
     ]
    },
    {
     "name": "stderr",
     "output_type": "stream",
     "text": [
      "100%|██████████| 139/139 [00:04<00:00, 33.65it/s]\n",
      "100%|██████████| 10/10 [00:00<00:00, 765.92it/s]\n"
     ]
    },
    {
     "name": "stdout",
     "output_type": "stream",
     "text": [
      "epoch 877 | tr 0.10659703606967445 | val 0.31439942717552183\n"
     ]
    },
    {
     "name": "stderr",
     "output_type": "stream",
     "text": [
      "100%|██████████| 139/139 [00:04<00:00, 33.66it/s]\n",
      "100%|██████████| 10/10 [00:00<00:00, 757.55it/s]\n"
     ]
    },
    {
     "name": "stdout",
     "output_type": "stream",
     "text": [
      "epoch 878 | tr 0.10762467664137161 | val 0.32150370478630064\n"
     ]
    },
    {
     "name": "stderr",
     "output_type": "stream",
     "text": [
      "100%|██████████| 139/139 [00:04<00:00, 33.64it/s]\n",
      "100%|██████████| 10/10 [00:00<00:00, 769.70it/s]\n"
     ]
    },
    {
     "name": "stdout",
     "output_type": "stream",
     "text": [
      "epoch 879 | tr 0.11193915456533432 | val 0.32479495704174044\n"
     ]
    },
    {
     "name": "stderr",
     "output_type": "stream",
     "text": [
      "100%|██████████| 139/139 [00:04<00:00, 33.63it/s]\n",
      "100%|██████████| 10/10 [00:00<00:00, 759.98it/s]\n"
     ]
    },
    {
     "name": "stdout",
     "output_type": "stream",
     "text": [
      "epoch 880 | tr 0.10487432177547071 | val 0.3219764530658722\n"
     ]
    },
    {
     "name": "stderr",
     "output_type": "stream",
     "text": [
      "100%|██████████| 139/139 [00:04<00:00, 33.64it/s]\n",
      "100%|██████████| 10/10 [00:00<00:00, 753.19it/s]\n"
     ]
    },
    {
     "name": "stdout",
     "output_type": "stream",
     "text": [
      "epoch 881 | tr 0.10340723620473052 | val 0.3186405450105667\n"
     ]
    },
    {
     "name": "stderr",
     "output_type": "stream",
     "text": [
      "100%|██████████| 139/139 [00:04<00:00, 33.65it/s]\n",
      "100%|██████████| 10/10 [00:00<00:00, 762.59it/s]\n"
     ]
    },
    {
     "name": "stdout",
     "output_type": "stream",
     "text": [
      "epoch 882 | tr 0.10857714699219456 | val 0.32682693004608154\n"
     ]
    },
    {
     "name": "stderr",
     "output_type": "stream",
     "text": [
      "100%|██████████| 139/139 [00:04<00:00, 33.60it/s]\n",
      "100%|██████████| 10/10 [00:00<00:00, 751.32it/s]\n"
     ]
    },
    {
     "name": "stdout",
     "output_type": "stream",
     "text": [
      "epoch 883 | tr 0.10526878895948259 | val 0.3285436451435089\n"
     ]
    },
    {
     "name": "stderr",
     "output_type": "stream",
     "text": [
      "100%|██████████| 139/139 [00:04<00:00, 33.62it/s]\n",
      "100%|██████████| 10/10 [00:00<00:00, 749.99it/s]\n"
     ]
    },
    {
     "name": "stdout",
     "output_type": "stream",
     "text": [
      "epoch 884 | tr 0.10530728519820481 | val 0.3241097629070282\n"
     ]
    },
    {
     "name": "stderr",
     "output_type": "stream",
     "text": [
      "100%|██████████| 139/139 [00:04<00:00, 33.60it/s]\n",
      "100%|██████████| 10/10 [00:00<00:00, 748.47it/s]\n"
     ]
    },
    {
     "name": "stdout",
     "output_type": "stream",
     "text": [
      "epoch 885 | tr 0.11040103891127401 | val 0.32631395310163497\n"
     ]
    },
    {
     "name": "stderr",
     "output_type": "stream",
     "text": [
      "100%|██████████| 139/139 [00:04<00:00, 33.64it/s]\n",
      "100%|██████████| 10/10 [00:00<00:00, 764.98it/s]\n"
     ]
    },
    {
     "name": "stdout",
     "output_type": "stream",
     "text": [
      "epoch 886 | tr 0.1120157678135865 | val 0.32531016170978544\n"
     ]
    },
    {
     "name": "stderr",
     "output_type": "stream",
     "text": [
      "100%|██████████| 139/139 [00:04<00:00, 33.63it/s]\n",
      "100%|██████████| 10/10 [00:00<00:00, 748.49it/s]\n"
     ]
    },
    {
     "name": "stdout",
     "output_type": "stream",
     "text": [
      "epoch 887 | tr 0.11311526269578248 | val 0.3250792890787125\n"
     ]
    },
    {
     "name": "stderr",
     "output_type": "stream",
     "text": [
      "100%|██████████| 139/139 [00:04<00:00, 33.64it/s]\n",
      "100%|██████████| 10/10 [00:00<00:00, 756.10it/s]\n"
     ]
    },
    {
     "name": "stdout",
     "output_type": "stream",
     "text": [
      "epoch 888 | tr 0.11016934300712544 | val 0.3297975078225136\n"
     ]
    },
    {
     "name": "stderr",
     "output_type": "stream",
     "text": [
      "100%|██████████| 139/139 [00:04<00:00, 33.64it/s]\n",
      "100%|██████████| 10/10 [00:00<00:00, 752.90it/s]\n"
     ]
    },
    {
     "name": "stdout",
     "output_type": "stream",
     "text": [
      "epoch 889 | tr 0.10759510169569537 | val 0.31764257699251175\n"
     ]
    },
    {
     "name": "stderr",
     "output_type": "stream",
     "text": [
      "100%|██████████| 139/139 [00:04<00:00, 33.65it/s]\n",
      "100%|██████████| 10/10 [00:00<00:00, 764.63it/s]\n"
     ]
    },
    {
     "name": "stdout",
     "output_type": "stream",
     "text": [
      "epoch 890 | tr 0.10566336629416445 | val 0.3214150592684746\n"
     ]
    },
    {
     "name": "stderr",
     "output_type": "stream",
     "text": [
      "100%|██████████| 139/139 [00:04<00:00, 33.65it/s]\n",
      "100%|██████████| 10/10 [00:00<00:00, 766.91it/s]\n"
     ]
    },
    {
     "name": "stdout",
     "output_type": "stream",
     "text": [
      "epoch 891 | tr 0.10408583052938791 | val 0.320126947760582\n"
     ]
    },
    {
     "name": "stderr",
     "output_type": "stream",
     "text": [
      "100%|██████████| 139/139 [00:04<00:00, 33.65it/s]\n",
      "100%|██████████| 10/10 [00:00<00:00, 755.02it/s]\n"
     ]
    },
    {
     "name": "stdout",
     "output_type": "stream",
     "text": [
      "epoch 892 | tr 0.10283483942742828 | val 0.32425535619258883\n"
     ]
    },
    {
     "name": "stderr",
     "output_type": "stream",
     "text": [
      "100%|██████████| 139/139 [00:04<00:00, 33.64it/s]\n",
      "100%|██████████| 10/10 [00:00<00:00, 758.04it/s]\n"
     ]
    },
    {
     "name": "stdout",
     "output_type": "stream",
     "text": [
      "epoch 893 | tr 0.1136677187177346 | val 0.32944141775369645\n"
     ]
    },
    {
     "name": "stderr",
     "output_type": "stream",
     "text": [
      "100%|██████████| 139/139 [00:04<00:00, 33.65it/s]\n",
      "100%|██████████| 10/10 [00:00<00:00, 757.93it/s]\n"
     ]
    },
    {
     "name": "stdout",
     "output_type": "stream",
     "text": [
      "epoch 894 | tr 0.11617600017314335 | val 0.32133318930864335\n"
     ]
    },
    {
     "name": "stderr",
     "output_type": "stream",
     "text": [
      "100%|██████████| 139/139 [00:04<00:00, 33.58it/s]\n",
      "100%|██████████| 10/10 [00:00<00:00, 736.02it/s]\n"
     ]
    },
    {
     "name": "stdout",
     "output_type": "stream",
     "text": [
      "epoch 895 | tr 0.10785475467070402 | val 0.3201575383543968\n"
     ]
    },
    {
     "name": "stderr",
     "output_type": "stream",
     "text": [
      "100%|██████████| 139/139 [00:04<00:00, 33.64it/s]\n",
      "100%|██████████| 10/10 [00:00<00:00, 766.28it/s]\n"
     ]
    },
    {
     "name": "stdout",
     "output_type": "stream",
     "text": [
      "epoch 896 | tr 0.11069452872486424 | val 0.31917050629854204\n"
     ]
    },
    {
     "name": "stderr",
     "output_type": "stream",
     "text": [
      "100%|██████████| 139/139 [00:04<00:00, 33.63it/s]\n",
      "100%|██████████| 10/10 [00:00<00:00, 766.24it/s]\n"
     ]
    },
    {
     "name": "stdout",
     "output_type": "stream",
     "text": [
      "epoch 897 | tr 0.10935803904807825 | val 0.32596832513809204\n"
     ]
    },
    {
     "name": "stderr",
     "output_type": "stream",
     "text": [
      "100%|██████████| 139/139 [00:04<00:00, 33.62it/s]\n",
      "100%|██████████| 10/10 [00:00<00:00, 761.49it/s]\n"
     ]
    },
    {
     "name": "stdout",
     "output_type": "stream",
     "text": [
      "epoch 898 | tr 0.11045142306055096 | val 0.33050690293312074\n"
     ]
    },
    {
     "name": "stderr",
     "output_type": "stream",
     "text": [
      "100%|██████████| 139/139 [00:04<00:00, 33.63it/s]\n",
      "100%|██████████| 10/10 [00:00<00:00, 764.46it/s]\n"
     ]
    },
    {
     "name": "stdout",
     "output_type": "stream",
     "text": [
      "epoch 899 | tr 0.11055366711007605 | val 0.32491637766361237\n"
     ]
    },
    {
     "name": "stderr",
     "output_type": "stream",
     "text": [
      "100%|██████████| 139/139 [00:04<00:00, 33.63it/s]\n",
      "100%|██████████| 10/10 [00:00<00:00, 764.41it/s]\n"
     ]
    },
    {
     "name": "stdout",
     "output_type": "stream",
     "text": [
      "epoch 900 | tr 0.11149351213046972 | val 0.3324692189693451\n"
     ]
    },
    {
     "name": "stderr",
     "output_type": "stream",
     "text": [
      "100%|██████████| 139/139 [00:04<00:00, 33.62it/s]\n",
      "100%|██████████| 10/10 [00:00<00:00, 755.12it/s]\n"
     ]
    },
    {
     "name": "stdout",
     "output_type": "stream",
     "text": [
      "epoch 901 | tr 0.11250570807739985 | val 0.3227547317743301\n"
     ]
    },
    {
     "name": "stderr",
     "output_type": "stream",
     "text": [
      "100%|██████████| 139/139 [00:04<00:00, 33.63it/s]\n",
      "100%|██████████| 10/10 [00:00<00:00, 746.98it/s]\n"
     ]
    },
    {
     "name": "stdout",
     "output_type": "stream",
     "text": [
      "epoch 902 | tr 0.10915839645287974 | val 0.3200586661696434\n"
     ]
    },
    {
     "name": "stderr",
     "output_type": "stream",
     "text": [
      "100%|██████████| 139/139 [00:04<00:00, 33.61it/s]\n",
      "100%|██████████| 10/10 [00:00<00:00, 761.31it/s]\n"
     ]
    },
    {
     "name": "stdout",
     "output_type": "stream",
     "text": [
      "epoch 903 | tr 0.1050973859943932 | val 0.32709754109382627\n"
     ]
    },
    {
     "name": "stderr",
     "output_type": "stream",
     "text": [
      "100%|██████████| 139/139 [00:04<00:00, 33.60it/s]\n",
      "100%|██████████| 10/10 [00:00<00:00, 753.08it/s]\n"
     ]
    },
    {
     "name": "stdout",
     "output_type": "stream",
     "text": [
      "epoch 904 | tr 0.10475976255943449 | val 0.31782121658325196\n"
     ]
    },
    {
     "name": "stderr",
     "output_type": "stream",
     "text": [
      "100%|██████████| 139/139 [00:04<00:00, 33.62it/s]\n",
      "100%|██████████| 10/10 [00:00<00:00, 764.97it/s]\n"
     ]
    },
    {
     "name": "stdout",
     "output_type": "stream",
     "text": [
      "epoch 905 | tr 0.10947870050402854 | val 0.3240542203187943\n"
     ]
    },
    {
     "name": "stderr",
     "output_type": "stream",
     "text": [
      "100%|██████████| 139/139 [00:04<00:00, 33.64it/s]\n",
      "100%|██████████| 10/10 [00:00<00:00, 765.97it/s]\n"
     ]
    },
    {
     "name": "stdout",
     "output_type": "stream",
     "text": [
      "epoch 906 | tr 0.10743654945449864 | val 0.3297752022743225\n"
     ]
    },
    {
     "name": "stderr",
     "output_type": "stream",
     "text": [
      "100%|██████████| 139/139 [00:04<00:00, 33.64it/s]\n",
      "100%|██████████| 10/10 [00:00<00:00, 749.56it/s]\n"
     ]
    },
    {
     "name": "stdout",
     "output_type": "stream",
     "text": [
      "epoch 907 | tr 0.1068784065491004 | val 0.32143320590257646\n"
     ]
    },
    {
     "name": "stderr",
     "output_type": "stream",
     "text": [
      "100%|██████████| 139/139 [00:04<00:00, 33.66it/s]\n",
      "100%|██████████| 10/10 [00:00<00:00, 763.10it/s]\n"
     ]
    },
    {
     "name": "stdout",
     "output_type": "stream",
     "text": [
      "epoch 908 | tr 0.10568679901335737 | val 0.3182187095284462\n"
     ]
    },
    {
     "name": "stderr",
     "output_type": "stream",
     "text": [
      "100%|██████████| 139/139 [00:04<00:00, 33.62it/s]\n",
      "100%|██████████| 10/10 [00:00<00:00, 747.41it/s]\n"
     ]
    },
    {
     "name": "stdout",
     "output_type": "stream",
     "text": [
      "epoch 909 | tr 0.10370843889687559 | val 0.3220568746328354\n"
     ]
    },
    {
     "name": "stderr",
     "output_type": "stream",
     "text": [
      "100%|██████████| 139/139 [00:04<00:00, 33.64it/s]\n",
      "100%|██████████| 10/10 [00:00<00:00, 764.83it/s]\n"
     ]
    },
    {
     "name": "stdout",
     "output_type": "stream",
     "text": [
      "epoch 910 | tr 0.10771072387909718 | val 0.3203863322734833\n"
     ]
    },
    {
     "name": "stderr",
     "output_type": "stream",
     "text": [
      "100%|██████████| 139/139 [00:04<00:00, 33.65it/s]\n",
      "100%|██████████| 10/10 [00:00<00:00, 757.46it/s]\n"
     ]
    },
    {
     "name": "stdout",
     "output_type": "stream",
     "text": [
      "epoch 911 | tr 0.11112127983741624 | val 0.3285092428326607\n"
     ]
    },
    {
     "name": "stderr",
     "output_type": "stream",
     "text": [
      "100%|██████████| 139/139 [00:04<00:00, 33.59it/s]\n",
      "100%|██████████| 10/10 [00:00<00:00, 751.51it/s]\n"
     ]
    },
    {
     "name": "stdout",
     "output_type": "stream",
     "text": [
      "epoch 912 | tr 0.11377187684285554 | val 0.32160181999206544\n"
     ]
    },
    {
     "name": "stderr",
     "output_type": "stream",
     "text": [
      "100%|██████████| 139/139 [00:04<00:00, 33.63it/s]\n",
      "100%|██████████| 10/10 [00:00<00:00, 744.73it/s]\n"
     ]
    },
    {
     "name": "stdout",
     "output_type": "stream",
     "text": [
      "epoch 913 | tr 0.1149254402668356 | val 0.3261916905641556\n"
     ]
    },
    {
     "name": "stderr",
     "output_type": "stream",
     "text": [
      "100%|██████████| 139/139 [00:04<00:00, 33.65it/s]\n",
      "100%|██████████| 10/10 [00:00<00:00, 748.77it/s]\n"
     ]
    },
    {
     "name": "stdout",
     "output_type": "stream",
     "text": [
      "epoch 914 | tr 0.11628747945852416 | val 0.32090498208999635\n"
     ]
    },
    {
     "name": "stderr",
     "output_type": "stream",
     "text": [
      "100%|██████████| 139/139 [00:04<00:00, 33.63it/s]\n",
      "100%|██████████| 10/10 [00:00<00:00, 763.25it/s]\n"
     ]
    },
    {
     "name": "stdout",
     "output_type": "stream",
     "text": [
      "epoch 915 | tr 0.11033101739000073 | val 0.32585490942001344\n"
     ]
    },
    {
     "name": "stderr",
     "output_type": "stream",
     "text": [
      "100%|██████████| 139/139 [00:04<00:00, 33.64it/s]\n",
      "100%|██████████| 10/10 [00:00<00:00, 757.40it/s]\n"
     ]
    },
    {
     "name": "stdout",
     "output_type": "stream",
     "text": [
      "epoch 916 | tr 0.10676217400770394 | val 0.31738795042037965\n"
     ]
    },
    {
     "name": "stderr",
     "output_type": "stream",
     "text": [
      "100%|██████████| 139/139 [00:04<00:00, 33.67it/s]\n",
      "100%|██████████| 10/10 [00:00<00:00, 779.35it/s]\n"
     ]
    },
    {
     "name": "stdout",
     "output_type": "stream",
     "text": [
      "epoch 917 | tr 0.10835299892820043 | val 0.3216457426548004\n"
     ]
    },
    {
     "name": "stderr",
     "output_type": "stream",
     "text": [
      "100%|██████████| 139/139 [00:04<00:00, 33.61it/s]\n",
      "100%|██████████| 10/10 [00:00<00:00, 748.35it/s]\n"
     ]
    },
    {
     "name": "stdout",
     "output_type": "stream",
     "text": [
      "epoch 918 | tr 0.10731386505871368 | val 0.3217335850000381\n"
     ]
    },
    {
     "name": "stderr",
     "output_type": "stream",
     "text": [
      "100%|██████████| 139/139 [00:04<00:00, 33.61it/s]\n",
      "100%|██████████| 10/10 [00:00<00:00, 745.65it/s]\n"
     ]
    },
    {
     "name": "stdout",
     "output_type": "stream",
     "text": [
      "epoch 919 | tr 0.10660615048820166 | val 0.3211253210902214\n"
     ]
    },
    {
     "name": "stderr",
     "output_type": "stream",
     "text": [
      "100%|██████████| 139/139 [00:04<00:00, 33.58it/s]\n",
      "100%|██████████| 10/10 [00:00<00:00, 744.63it/s]\n"
     ]
    },
    {
     "name": "stdout",
     "output_type": "stream",
     "text": [
      "epoch 920 | tr 0.10601179709108613 | val 0.3190207973122597\n"
     ]
    },
    {
     "name": "stderr",
     "output_type": "stream",
     "text": [
      "100%|██████████| 139/139 [00:04<00:00, 33.63it/s]\n",
      "100%|██████████| 10/10 [00:00<00:00, 765.86it/s]\n"
     ]
    },
    {
     "name": "stdout",
     "output_type": "stream",
     "text": [
      "epoch 921 | tr 0.10902430358336127 | val 0.32467113584280016\n"
     ]
    },
    {
     "name": "stderr",
     "output_type": "stream",
     "text": [
      "100%|██████████| 139/139 [00:04<00:00, 33.62it/s]\n",
      "100%|██████████| 10/10 [00:00<00:00, 763.36it/s]\n"
     ]
    },
    {
     "name": "stdout",
     "output_type": "stream",
     "text": [
      "epoch 922 | tr 0.12172343490792693 | val 0.34404580295085907\n"
     ]
    },
    {
     "name": "stderr",
     "output_type": "stream",
     "text": [
      "100%|██████████| 139/139 [00:04<00:00, 33.64it/s]\n",
      "100%|██████████| 10/10 [00:00<00:00, 747.54it/s]\n"
     ]
    },
    {
     "name": "stdout",
     "output_type": "stream",
     "text": [
      "epoch 923 | tr 0.11006233626775605 | val 0.31867608726024627\n"
     ]
    },
    {
     "name": "stderr",
     "output_type": "stream",
     "text": [
      "100%|██████████| 139/139 [00:04<00:00, 33.66it/s]\n",
      "100%|██████████| 10/10 [00:00<00:00, 746.05it/s]\n"
     ]
    },
    {
     "name": "stdout",
     "output_type": "stream",
     "text": [
      "epoch 924 | tr 0.10638327130096421 | val 0.31482045352458954\n"
     ]
    },
    {
     "name": "stderr",
     "output_type": "stream",
     "text": [
      "100%|██████████| 139/139 [00:04<00:00, 33.62it/s]\n",
      "100%|██████████| 10/10 [00:00<00:00, 759.49it/s]\n"
     ]
    },
    {
     "name": "stdout",
     "output_type": "stream",
     "text": [
      "epoch 925 | tr 0.1082842174729855 | val 0.3172242075204849\n"
     ]
    },
    {
     "name": "stderr",
     "output_type": "stream",
     "text": [
      "100%|██████████| 139/139 [00:04<00:00, 33.59it/s]\n",
      "100%|██████████| 10/10 [00:00<00:00, 758.70it/s]\n"
     ]
    },
    {
     "name": "stdout",
     "output_type": "stream",
     "text": [
      "epoch 926 | tr 0.10659365259486137 | val 0.32513696849346163\n"
     ]
    },
    {
     "name": "stderr",
     "output_type": "stream",
     "text": [
      "100%|██████████| 139/139 [00:04<00:00, 33.62it/s]\n",
      "100%|██████████| 10/10 [00:00<00:00, 749.69it/s]\n"
     ]
    },
    {
     "name": "stdout",
     "output_type": "stream",
     "text": [
      "epoch 927 | tr 0.11014405900625873 | val 0.3292274609208107\n"
     ]
    },
    {
     "name": "stderr",
     "output_type": "stream",
     "text": [
      "100%|██████████| 139/139 [00:04<00:00, 33.70it/s]\n",
      "100%|██████████| 10/10 [00:00<00:00, 779.74it/s]\n"
     ]
    },
    {
     "name": "stdout",
     "output_type": "stream",
     "text": [
      "epoch 928 | tr 0.1130582952349306 | val 0.32318071126937864\n"
     ]
    },
    {
     "name": "stderr",
     "output_type": "stream",
     "text": [
      "100%|██████████| 139/139 [00:04<00:00, 33.64it/s]\n",
      "100%|██████████| 10/10 [00:00<00:00, 765.68it/s]\n"
     ]
    },
    {
     "name": "stdout",
     "output_type": "stream",
     "text": [
      "epoch 929 | tr 0.11050465024954123 | val 0.3275368481874466\n"
     ]
    },
    {
     "name": "stderr",
     "output_type": "stream",
     "text": [
      "100%|██████████| 139/139 [00:04<00:00, 33.63it/s]\n",
      "100%|██████████| 10/10 [00:00<00:00, 764.66it/s]\n"
     ]
    },
    {
     "name": "stdout",
     "output_type": "stream",
     "text": [
      "epoch 930 | tr 0.10976722922256525 | val 0.3269500061869621\n"
     ]
    },
    {
     "name": "stderr",
     "output_type": "stream",
     "text": [
      "100%|██████████| 139/139 [00:04<00:00, 33.65it/s]\n",
      "100%|██████████| 10/10 [00:00<00:00, 766.10it/s]\n"
     ]
    },
    {
     "name": "stdout",
     "output_type": "stream",
     "text": [
      "epoch 931 | tr 0.10732618606776642 | val 0.32321939021348955\n"
     ]
    },
    {
     "name": "stderr",
     "output_type": "stream",
     "text": [
      "100%|██████████| 139/139 [00:04<00:00, 33.63it/s]\n",
      "100%|██████████| 10/10 [00:00<00:00, 749.17it/s]\n"
     ]
    },
    {
     "name": "stdout",
     "output_type": "stream",
     "text": [
      "epoch 932 | tr 0.1035682033184621 | val 0.3310769319534302\n"
     ]
    },
    {
     "name": "stderr",
     "output_type": "stream",
     "text": [
      "100%|██████████| 139/139 [00:04<00:00, 33.62it/s]\n",
      "100%|██████████| 10/10 [00:00<00:00, 747.13it/s]\n"
     ]
    },
    {
     "name": "stdout",
     "output_type": "stream",
     "text": [
      "epoch 933 | tr 0.10825257684043843 | val 0.32189608961343763\n"
     ]
    },
    {
     "name": "stderr",
     "output_type": "stream",
     "text": [
      "100%|██████████| 139/139 [00:04<00:00, 33.62it/s]\n",
      "100%|██████████| 10/10 [00:00<00:00, 762.03it/s]\n"
     ]
    },
    {
     "name": "stdout",
     "output_type": "stream",
     "text": [
      "epoch 934 | tr 0.10551520254757764 | val 0.3191703543066978\n"
     ]
    },
    {
     "name": "stderr",
     "output_type": "stream",
     "text": [
      "100%|██████████| 139/139 [00:04<00:00, 33.62it/s]\n",
      "100%|██████████| 10/10 [00:00<00:00, 763.23it/s]\n"
     ]
    },
    {
     "name": "stdout",
     "output_type": "stream",
     "text": [
      "epoch 935 | tr 0.11199383528755723 | val 0.32800268530845644\n"
     ]
    },
    {
     "name": "stderr",
     "output_type": "stream",
     "text": [
      "100%|██████████| 139/139 [00:04<00:00, 33.64it/s]\n",
      "100%|██████████| 10/10 [00:00<00:00, 768.68it/s]\n"
     ]
    },
    {
     "name": "stdout",
     "output_type": "stream",
     "text": [
      "epoch 936 | tr 0.11168132341808552 | val 0.32413056790828704\n"
     ]
    },
    {
     "name": "stderr",
     "output_type": "stream",
     "text": [
      "100%|██████████| 139/139 [00:04<00:00, 33.63it/s]\n",
      "100%|██████████| 10/10 [00:00<00:00, 749.26it/s]\n"
     ]
    },
    {
     "name": "stdout",
     "output_type": "stream",
     "text": [
      "epoch 937 | tr 0.10533182167535206 | val 0.328034433722496\n"
     ]
    },
    {
     "name": "stderr",
     "output_type": "stream",
     "text": [
      "100%|██████████| 139/139 [00:04<00:00, 33.63it/s]\n",
      "100%|██████████| 10/10 [00:00<00:00, 757.87it/s]\n"
     ]
    },
    {
     "name": "stdout",
     "output_type": "stream",
     "text": [
      "epoch 938 | tr 0.10419973052984519 | val 0.3175165966153145\n"
     ]
    },
    {
     "name": "stderr",
     "output_type": "stream",
     "text": [
      "100%|██████████| 139/139 [00:04<00:00, 33.61it/s]\n",
      "100%|██████████| 10/10 [00:00<00:00, 767.68it/s]\n"
     ]
    },
    {
     "name": "stdout",
     "output_type": "stream",
     "text": [
      "epoch 939 | tr 0.10761715782632073 | val 0.3324315294623375\n"
     ]
    },
    {
     "name": "stderr",
     "output_type": "stream",
     "text": [
      "100%|██████████| 139/139 [00:04<00:00, 33.68it/s]\n",
      "100%|██████████| 10/10 [00:00<00:00, 777.01it/s]\n"
     ]
    },
    {
     "name": "stdout",
     "output_type": "stream",
     "text": [
      "epoch 940 | tr 0.11163206787096511 | val 0.32995492219924927\n"
     ]
    },
    {
     "name": "stderr",
     "output_type": "stream",
     "text": [
      "100%|██████████| 139/139 [00:04<00:00, 33.68it/s]\n",
      "100%|██████████| 10/10 [00:00<00:00, 777.41it/s]\n"
     ]
    },
    {
     "name": "stdout",
     "output_type": "stream",
     "text": [
      "epoch 941 | tr 0.11162787504333387 | val 0.3196702733635902\n"
     ]
    },
    {
     "name": "stderr",
     "output_type": "stream",
     "text": [
      "100%|██████████| 139/139 [00:04<00:00, 33.66it/s]\n",
      "100%|██████████| 10/10 [00:00<00:00, 750.47it/s]\n"
     ]
    },
    {
     "name": "stdout",
     "output_type": "stream",
     "text": [
      "epoch 942 | tr 0.10946996145540004 | val 0.32920818626880644\n"
     ]
    },
    {
     "name": "stderr",
     "output_type": "stream",
     "text": [
      "100%|██████████| 139/139 [00:04<00:00, 33.62it/s]\n",
      "100%|██████████| 10/10 [00:00<00:00, 749.28it/s]\n"
     ]
    },
    {
     "name": "stdout",
     "output_type": "stream",
     "text": [
      "epoch 943 | tr 0.10624295995711423 | val 0.32385762929916384\n"
     ]
    },
    {
     "name": "stderr",
     "output_type": "stream",
     "text": [
      "100%|██████████| 139/139 [00:04<00:00, 33.62it/s]\n",
      "100%|██████████| 10/10 [00:00<00:00, 760.79it/s]\n"
     ]
    },
    {
     "name": "stdout",
     "output_type": "stream",
     "text": [
      "epoch 944 | tr 0.10794114396512079 | val 0.32742058485746384\n"
     ]
    },
    {
     "name": "stderr",
     "output_type": "stream",
     "text": [
      "100%|██████████| 139/139 [00:04<00:00, 33.62it/s]\n",
      "100%|██████████| 10/10 [00:00<00:00, 757.34it/s]\n"
     ]
    },
    {
     "name": "stdout",
     "output_type": "stream",
     "text": [
      "epoch 945 | tr 0.10744520936080877 | val 0.3219418004155159\n"
     ]
    },
    {
     "name": "stderr",
     "output_type": "stream",
     "text": [
      "100%|██████████| 139/139 [00:04<00:00, 33.63it/s]\n",
      "100%|██████████| 10/10 [00:00<00:00, 763.73it/s]\n"
     ]
    },
    {
     "name": "stdout",
     "output_type": "stream",
     "text": [
      "epoch 946 | tr 0.10734273579052027 | val 0.3252801105380058\n"
     ]
    },
    {
     "name": "stderr",
     "output_type": "stream",
     "text": [
      "100%|██████████| 139/139 [00:04<00:00, 33.65it/s]\n",
      "100%|██████████| 10/10 [00:00<00:00, 768.67it/s]\n"
     ]
    },
    {
     "name": "stdout",
     "output_type": "stream",
     "text": [
      "epoch 947 | tr 0.10650074321160213 | val 0.329468309879303\n"
     ]
    },
    {
     "name": "stderr",
     "output_type": "stream",
     "text": [
      "100%|██████████| 139/139 [00:04<00:00, 33.65it/s]\n",
      "100%|██████████| 10/10 [00:00<00:00, 769.41it/s]\n"
     ]
    },
    {
     "name": "stdout",
     "output_type": "stream",
     "text": [
      "epoch 948 | tr 0.10549086428803506 | val 0.323885777592659\n"
     ]
    },
    {
     "name": "stderr",
     "output_type": "stream",
     "text": [
      "100%|██████████| 139/139 [00:04<00:00, 33.66it/s]\n",
      "100%|██████████| 10/10 [00:00<00:00, 758.64it/s]\n"
     ]
    },
    {
     "name": "stdout",
     "output_type": "stream",
     "text": [
      "epoch 949 | tr 0.10611484341805788 | val 0.331332178413868\n"
     ]
    },
    {
     "name": "stderr",
     "output_type": "stream",
     "text": [
      "100%|██████████| 139/139 [00:04<00:00, 33.62it/s]\n",
      "100%|██████████| 10/10 [00:00<00:00, 741.36it/s]\n"
     ]
    },
    {
     "name": "stdout",
     "output_type": "stream",
     "text": [
      "epoch 950 | tr 0.1106367924069758 | val 0.3207303464412689\n"
     ]
    },
    {
     "name": "stderr",
     "output_type": "stream",
     "text": [
      "100%|██████████| 139/139 [00:04<00:00, 33.64it/s]\n",
      "100%|██████████| 10/10 [00:00<00:00, 763.67it/s]\n"
     ]
    },
    {
     "name": "stdout",
     "output_type": "stream",
     "text": [
      "epoch 951 | tr 0.11293766840541963 | val 0.32699518501758573\n"
     ]
    },
    {
     "name": "stderr",
     "output_type": "stream",
     "text": [
      "100%|██████████| 139/139 [00:04<00:00, 33.66it/s]\n",
      "100%|██████████| 10/10 [00:00<00:00, 779.91it/s]\n"
     ]
    },
    {
     "name": "stdout",
     "output_type": "stream",
     "text": [
      "epoch 952 | tr 0.10962565950781321 | val 0.3207848772406578\n"
     ]
    },
    {
     "name": "stderr",
     "output_type": "stream",
     "text": [
      "100%|██████████| 139/139 [00:04<00:00, 33.70it/s]\n",
      "100%|██████████| 10/10 [00:00<00:00, 777.95it/s]\n"
     ]
    },
    {
     "name": "stdout",
     "output_type": "stream",
     "text": [
      "epoch 953 | tr 0.10594227722437262 | val 0.3306495487689972\n"
     ]
    },
    {
     "name": "stderr",
     "output_type": "stream",
     "text": [
      "100%|██████████| 139/139 [00:04<00:00, 33.64it/s]\n",
      "100%|██████████| 10/10 [00:00<00:00, 746.64it/s]\n"
     ]
    },
    {
     "name": "stdout",
     "output_type": "stream",
     "text": [
      "epoch 954 | tr 0.10414776634826935 | val 0.3337107956409454\n"
     ]
    },
    {
     "name": "stderr",
     "output_type": "stream",
     "text": [
      "100%|██████████| 139/139 [00:04<00:00, 33.68it/s]\n",
      "100%|██████████| 10/10 [00:00<00:00, 781.00it/s]\n"
     ]
    },
    {
     "name": "stdout",
     "output_type": "stream",
     "text": [
      "epoch 955 | tr 0.10695777029442273 | val 0.32975939512252805\n"
     ]
    },
    {
     "name": "stderr",
     "output_type": "stream",
     "text": [
      "100%|██████████| 139/139 [00:04<00:00, 33.64it/s]\n",
      "100%|██████████| 10/10 [00:00<00:00, 758.68it/s]\n"
     ]
    },
    {
     "name": "stdout",
     "output_type": "stream",
     "text": [
      "epoch 956 | tr 0.10594705385055474 | val 0.31946591585874556\n"
     ]
    },
    {
     "name": "stderr",
     "output_type": "stream",
     "text": [
      "100%|██████████| 139/139 [00:04<00:00, 33.64it/s]\n",
      "100%|██████████| 10/10 [00:00<00:00, 766.07it/s]\n"
     ]
    },
    {
     "name": "stdout",
     "output_type": "stream",
     "text": [
      "epoch 957 | tr 0.10734455802028986 | val 0.329558527469635\n"
     ]
    },
    {
     "name": "stderr",
     "output_type": "stream",
     "text": [
      "100%|██████████| 139/139 [00:04<00:00, 33.63it/s]\n",
      "100%|██████████| 10/10 [00:00<00:00, 745.44it/s]\n"
     ]
    },
    {
     "name": "stdout",
     "output_type": "stream",
     "text": [
      "epoch 958 | tr 0.10854163757867093 | val 0.3230533078312874\n"
     ]
    },
    {
     "name": "stderr",
     "output_type": "stream",
     "text": [
      "100%|██████████| 139/139 [00:04<00:00, 33.69it/s]\n",
      "100%|██████████| 10/10 [00:00<00:00, 780.34it/s]\n"
     ]
    },
    {
     "name": "stdout",
     "output_type": "stream",
     "text": [
      "epoch 959 | tr 0.10657703311001654 | val 0.3267053633928299\n"
     ]
    },
    {
     "name": "stderr",
     "output_type": "stream",
     "text": [
      "100%|██████████| 139/139 [00:04<00:00, 33.69it/s]\n",
      "100%|██████████| 10/10 [00:00<00:00, 779.03it/s]\n"
     ]
    },
    {
     "name": "stdout",
     "output_type": "stream",
     "text": [
      "epoch 960 | tr 0.1074574024235602 | val 0.3244054690003395\n"
     ]
    },
    {
     "name": "stderr",
     "output_type": "stream",
     "text": [
      "100%|██████████| 139/139 [00:04<00:00, 33.65it/s]\n",
      "100%|██████████| 10/10 [00:00<00:00, 759.33it/s]\n"
     ]
    },
    {
     "name": "stdout",
     "output_type": "stream",
     "text": [
      "epoch 961 | tr 0.11474010182155979 | val 0.3333388492465019\n"
     ]
    },
    {
     "name": "stderr",
     "output_type": "stream",
     "text": [
      "100%|██████████| 139/139 [00:04<00:00, 33.65it/s]\n",
      "100%|██████████| 10/10 [00:00<00:00, 753.06it/s]\n"
     ]
    },
    {
     "name": "stdout",
     "output_type": "stream",
     "text": [
      "epoch 962 | tr 0.10946350525930632 | val 0.32520208060741423\n"
     ]
    },
    {
     "name": "stderr",
     "output_type": "stream",
     "text": [
      "100%|██████████| 139/139 [00:04<00:00, 33.63it/s]\n",
      "100%|██████████| 10/10 [00:00<00:00, 768.79it/s]\n"
     ]
    },
    {
     "name": "stdout",
     "output_type": "stream",
     "text": [
      "epoch 963 | tr 0.11821724206423588 | val 0.3338313862681389\n"
     ]
    },
    {
     "name": "stderr",
     "output_type": "stream",
     "text": [
      "100%|██████████| 139/139 [00:04<00:00, 33.66it/s]\n",
      "100%|██████████| 10/10 [00:00<00:00, 763.34it/s]\n"
     ]
    },
    {
     "name": "stdout",
     "output_type": "stream",
     "text": [
      "epoch 964 | tr 0.10818995948103692 | val 0.3250748857855797\n"
     ]
    },
    {
     "name": "stderr",
     "output_type": "stream",
     "text": [
      "100%|██████████| 139/139 [00:04<00:00, 33.64it/s]\n",
      "100%|██████████| 10/10 [00:00<00:00, 758.66it/s]\n"
     ]
    },
    {
     "name": "stdout",
     "output_type": "stream",
     "text": [
      "epoch 965 | tr 0.10526181768170363 | val 0.33016595989465714\n"
     ]
    },
    {
     "name": "stderr",
     "output_type": "stream",
     "text": [
      "100%|██████████| 139/139 [00:04<00:00, 33.64it/s]\n",
      "100%|██████████| 10/10 [00:00<00:00, 758.44it/s]\n"
     ]
    },
    {
     "name": "stdout",
     "output_type": "stream",
     "text": [
      "epoch 966 | tr 0.1054066234140945 | val 0.3261792227625847\n"
     ]
    },
    {
     "name": "stderr",
     "output_type": "stream",
     "text": [
      "100%|██████████| 139/139 [00:04<00:00, 33.68it/s]\n",
      "100%|██████████| 10/10 [00:00<00:00, 766.97it/s]\n"
     ]
    },
    {
     "name": "stdout",
     "output_type": "stream",
     "text": [
      "epoch 967 | tr 0.1091144008816575 | val 0.32163900285959246\n"
     ]
    },
    {
     "name": "stderr",
     "output_type": "stream",
     "text": [
      "100%|██████████| 139/139 [00:04<00:00, 33.66it/s]\n",
      "100%|██████████| 10/10 [00:00<00:00, 764.67it/s]\n"
     ]
    },
    {
     "name": "stdout",
     "output_type": "stream",
     "text": [
      "epoch 968 | tr 0.10799208004697622 | val 0.32845550775527954\n"
     ]
    },
    {
     "name": "stderr",
     "output_type": "stream",
     "text": [
      "100%|██████████| 139/139 [00:04<00:00, 33.64it/s]\n",
      "100%|██████████| 10/10 [00:00<00:00, 767.86it/s]\n"
     ]
    },
    {
     "name": "stdout",
     "output_type": "stream",
     "text": [
      "epoch 969 | tr 0.10250458732354555 | val 0.32281479239463806\n"
     ]
    },
    {
     "name": "stderr",
     "output_type": "stream",
     "text": [
      "100%|██████████| 139/139 [00:04<00:00, 33.66it/s]\n",
      "100%|██████████| 10/10 [00:00<00:00, 762.79it/s]\n"
     ]
    },
    {
     "name": "stdout",
     "output_type": "stream",
     "text": [
      "epoch 970 | tr 0.10159230452004096 | val 0.32522257417440414\n"
     ]
    },
    {
     "name": "stderr",
     "output_type": "stream",
     "text": [
      "100%|██████████| 139/139 [00:04<00:00, 33.62it/s]\n",
      "100%|██████████| 10/10 [00:00<00:00, 747.47it/s]\n"
     ]
    },
    {
     "name": "stdout",
     "output_type": "stream",
     "text": [
      "epoch 971 | tr 0.10245543420850801 | val 0.3325340002775192\n"
     ]
    },
    {
     "name": "stderr",
     "output_type": "stream",
     "text": [
      "100%|██████████| 139/139 [00:04<00:00, 33.63it/s]\n",
      "100%|██████████| 10/10 [00:00<00:00, 765.13it/s]\n"
     ]
    },
    {
     "name": "stdout",
     "output_type": "stream",
     "text": [
      "epoch 972 | tr 0.10529883020966173 | val 0.33276961743831635\n"
     ]
    },
    {
     "name": "stderr",
     "output_type": "stream",
     "text": [
      "100%|██████████| 139/139 [00:04<00:00, 33.65it/s]\n",
      "100%|██████████| 10/10 [00:00<00:00, 759.52it/s]\n"
     ]
    },
    {
     "name": "stdout",
     "output_type": "stream",
     "text": [
      "epoch 973 | tr 0.1083849431049052 | val 0.325321127474308\n"
     ]
    },
    {
     "name": "stderr",
     "output_type": "stream",
     "text": [
      "100%|██████████| 139/139 [00:04<00:00, 33.62it/s]\n",
      "100%|██████████| 10/10 [00:00<00:00, 705.66it/s]\n"
     ]
    },
    {
     "name": "stdout",
     "output_type": "stream",
     "text": [
      "epoch 974 | tr 0.10718825724806717 | val 0.3238678440451622\n"
     ]
    },
    {
     "name": "stderr",
     "output_type": "stream",
     "text": [
      "100%|██████████| 139/139 [00:04<00:00, 33.68it/s]\n",
      "100%|██████████| 10/10 [00:00<00:00, 781.24it/s]\n"
     ]
    },
    {
     "name": "stdout",
     "output_type": "stream",
     "text": [
      "epoch 975 | tr 0.1063577490959236 | val 0.3217142134904861\n"
     ]
    },
    {
     "name": "stderr",
     "output_type": "stream",
     "text": [
      "100%|██████████| 139/139 [00:04<00:00, 33.64it/s]\n",
      "100%|██████████| 10/10 [00:00<00:00, 768.58it/s]\n"
     ]
    },
    {
     "name": "stdout",
     "output_type": "stream",
     "text": [
      "epoch 976 | tr 0.10298699923127676 | val 0.31872409731149676\n"
     ]
    },
    {
     "name": "stderr",
     "output_type": "stream",
     "text": [
      "100%|██████████| 139/139 [00:04<00:00, 33.64it/s]\n",
      "100%|██████████| 10/10 [00:00<00:00, 763.49it/s]\n"
     ]
    },
    {
     "name": "stdout",
     "output_type": "stream",
     "text": [
      "epoch 977 | tr 0.10241974683867085 | val 0.32444110959768296\n"
     ]
    },
    {
     "name": "stderr",
     "output_type": "stream",
     "text": [
      "100%|██████████| 139/139 [00:04<00:00, 33.63it/s]\n",
      "100%|██████████| 10/10 [00:00<00:00, 756.71it/s]\n"
     ]
    },
    {
     "name": "stdout",
     "output_type": "stream",
     "text": [
      "epoch 978 | tr 0.10144173450392785 | val 0.32021245956420896\n"
     ]
    },
    {
     "name": "stderr",
     "output_type": "stream",
     "text": [
      "100%|██████████| 139/139 [00:04<00:00, 33.62it/s]\n",
      "100%|██████████| 10/10 [00:00<00:00, 763.84it/s]\n"
     ]
    },
    {
     "name": "stdout",
     "output_type": "stream",
     "text": [
      "epoch 979 | tr 0.10836564486832928 | val 0.3302452951669693\n"
     ]
    },
    {
     "name": "stderr",
     "output_type": "stream",
     "text": [
      "100%|██████████| 139/139 [00:04<00:00, 33.63it/s]\n",
      "100%|██████████| 10/10 [00:00<00:00, 767.82it/s]\n"
     ]
    },
    {
     "name": "stdout",
     "output_type": "stream",
     "text": [
      "epoch 980 | tr 0.10494061438835782 | val 0.3285332188010216\n"
     ]
    },
    {
     "name": "stderr",
     "output_type": "stream",
     "text": [
      "100%|██████████| 139/139 [00:04<00:00, 33.63it/s]\n",
      "100%|██████████| 10/10 [00:00<00:00, 762.31it/s]\n"
     ]
    },
    {
     "name": "stdout",
     "output_type": "stream",
     "text": [
      "epoch 981 | tr 0.10708278642712737 | val 0.3220667213201523\n"
     ]
    },
    {
     "name": "stderr",
     "output_type": "stream",
     "text": [
      "100%|██████████| 139/139 [00:04<00:00, 33.62it/s]\n",
      "100%|██████████| 10/10 [00:00<00:00, 766.87it/s]\n"
     ]
    },
    {
     "name": "stdout",
     "output_type": "stream",
     "text": [
      "epoch 982 | tr 0.10845366227541038 | val 0.3190093204379082\n"
     ]
    },
    {
     "name": "stderr",
     "output_type": "stream",
     "text": [
      "100%|██████████| 139/139 [00:04<00:00, 33.62it/s]\n",
      "100%|██████████| 10/10 [00:00<00:00, 761.92it/s]\n"
     ]
    },
    {
     "name": "stdout",
     "output_type": "stream",
     "text": [
      "epoch 983 | tr 0.11267706848305764 | val 0.3219033181667328\n"
     ]
    },
    {
     "name": "stderr",
     "output_type": "stream",
     "text": [
      "100%|██████████| 139/139 [00:04<00:00, 33.65it/s]\n",
      "100%|██████████| 10/10 [00:00<00:00, 757.34it/s]\n"
     ]
    },
    {
     "name": "stdout",
     "output_type": "stream",
     "text": [
      "epoch 984 | tr 0.11194329274644096 | val 0.32384794652462007\n"
     ]
    },
    {
     "name": "stderr",
     "output_type": "stream",
     "text": [
      "100%|██████████| 139/139 [00:04<00:00, 33.60it/s]\n",
      "100%|██████████| 10/10 [00:00<00:00, 766.33it/s]\n"
     ]
    },
    {
     "name": "stdout",
     "output_type": "stream",
     "text": [
      "epoch 985 | tr 0.10807861602134841 | val 0.3268074721097946\n"
     ]
    },
    {
     "name": "stderr",
     "output_type": "stream",
     "text": [
      "100%|██████████| 139/139 [00:04<00:00, 33.63it/s]\n",
      "100%|██████████| 10/10 [00:00<00:00, 756.60it/s]\n"
     ]
    },
    {
     "name": "stdout",
     "output_type": "stream",
     "text": [
      "epoch 986 | tr 0.10696707081666096 | val 0.3279690444469452\n"
     ]
    },
    {
     "name": "stderr",
     "output_type": "stream",
     "text": [
      "100%|██████████| 139/139 [00:04<00:00, 33.64it/s]\n",
      "100%|██████████| 10/10 [00:00<00:00, 763.52it/s]\n"
     ]
    },
    {
     "name": "stdout",
     "output_type": "stream",
     "text": [
      "epoch 987 | tr 0.10321034973473858 | val 0.3228475019335747\n"
     ]
    },
    {
     "name": "stderr",
     "output_type": "stream",
     "text": [
      "100%|██████████| 139/139 [00:04<00:00, 33.63it/s]\n",
      "100%|██████████| 10/10 [00:00<00:00, 764.35it/s]\n"
     ]
    },
    {
     "name": "stdout",
     "output_type": "stream",
     "text": [
      "epoch 988 | tr 0.1028927895340988 | val 0.31895203441381453\n"
     ]
    },
    {
     "name": "stderr",
     "output_type": "stream",
     "text": [
      "100%|██████████| 139/139 [00:04<00:00, 33.64it/s]\n",
      "100%|██████████| 10/10 [00:00<00:00, 754.76it/s]\n"
     ]
    },
    {
     "name": "stdout",
     "output_type": "stream",
     "text": [
      "epoch 989 | tr 0.10308916448689193 | val 0.3227086618542671\n"
     ]
    },
    {
     "name": "stderr",
     "output_type": "stream",
     "text": [
      "100%|██████████| 139/139 [00:04<00:00, 33.63it/s]\n",
      "100%|██████████| 10/10 [00:00<00:00, 768.27it/s]\n"
     ]
    },
    {
     "name": "stdout",
     "output_type": "stream",
     "text": [
      "epoch 990 | tr 0.11022080684737336 | val 0.325930118560791\n"
     ]
    },
    {
     "name": "stderr",
     "output_type": "stream",
     "text": [
      "100%|██████████| 139/139 [00:04<00:00, 33.63it/s]\n",
      "100%|██████████| 10/10 [00:00<00:00, 756.85it/s]\n"
     ]
    },
    {
     "name": "stdout",
     "output_type": "stream",
     "text": [
      "epoch 991 | tr 0.11317681810624308 | val 0.323358328640461\n"
     ]
    },
    {
     "name": "stderr",
     "output_type": "stream",
     "text": [
      "100%|██████████| 139/139 [00:04<00:00, 33.64it/s]\n",
      "100%|██████████| 10/10 [00:00<00:00, 764.25it/s]\n"
     ]
    },
    {
     "name": "stdout",
     "output_type": "stream",
     "text": [
      "epoch 992 | tr 0.10658218116640188 | val 0.32402256578207017\n"
     ]
    },
    {
     "name": "stderr",
     "output_type": "stream",
     "text": [
      "100%|██████████| 139/139 [00:04<00:00, 33.64it/s]\n",
      "100%|██████████| 10/10 [00:00<00:00, 764.55it/s]\n"
     ]
    },
    {
     "name": "stdout",
     "output_type": "stream",
     "text": [
      "epoch 993 | tr 0.1067342830004452 | val 0.3237267196178436\n"
     ]
    },
    {
     "name": "stderr",
     "output_type": "stream",
     "text": [
      "100%|██████████| 139/139 [00:04<00:00, 33.64it/s]\n",
      "100%|██████████| 10/10 [00:00<00:00, 764.70it/s]\n"
     ]
    },
    {
     "name": "stdout",
     "output_type": "stream",
     "text": [
      "epoch 994 | tr 0.10285657427186588 | val 0.32751223891973497\n"
     ]
    },
    {
     "name": "stderr",
     "output_type": "stream",
     "text": [
      "100%|██████████| 139/139 [00:04<00:00, 33.65it/s]\n",
      "100%|██████████| 10/10 [00:00<00:00, 759.33it/s]\n"
     ]
    },
    {
     "name": "stdout",
     "output_type": "stream",
     "text": [
      "epoch 995 | tr 0.1064224211539296 | val 0.3189402401447296\n"
     ]
    },
    {
     "name": "stderr",
     "output_type": "stream",
     "text": [
      "100%|██████████| 139/139 [00:04<00:00, 33.63it/s]\n",
      "100%|██████████| 10/10 [00:00<00:00, 751.72it/s]\n"
     ]
    },
    {
     "name": "stdout",
     "output_type": "stream",
     "text": [
      "epoch 996 | tr 0.10375677901420662 | val 0.32672118544578554\n"
     ]
    },
    {
     "name": "stderr",
     "output_type": "stream",
     "text": [
      "100%|██████████| 139/139 [00:04<00:00, 33.62it/s]\n",
      "100%|██████████| 10/10 [00:00<00:00, 754.37it/s]\n"
     ]
    },
    {
     "name": "stdout",
     "output_type": "stream",
     "text": [
      "epoch 997 | tr 0.10624212149879057 | val 0.32590864449739454\n"
     ]
    },
    {
     "name": "stderr",
     "output_type": "stream",
     "text": [
      "100%|██████████| 139/139 [00:04<00:00, 33.61it/s]\n",
      "100%|██████████| 10/10 [00:00<00:00, 758.56it/s]\n"
     ]
    },
    {
     "name": "stdout",
     "output_type": "stream",
     "text": [
      "epoch 998 | tr 0.1050861382977568 | val 0.33294921517372134\n"
     ]
    },
    {
     "name": "stderr",
     "output_type": "stream",
     "text": [
      "100%|██████████| 139/139 [00:04<00:00, 33.64it/s]\n",
      "100%|██████████| 10/10 [00:00<00:00, 756.03it/s]\n"
     ]
    },
    {
     "name": "stdout",
     "output_type": "stream",
     "text": [
      "epoch 999 | tr 0.10773994387696972 | val 0.3258523404598236\n",
      "~FIN~\n"
     ]
    }
   ],
   "source": [
    "if args['mode'] == 'train':\n",
    "    writer = SummaryWriter(summary_path)\n",
    "    with open(os.path.join(args['results_folder'],'checkpoints', args['name'] +'_params.json'),'w') as fp:\n",
    "        saveparams = copy.deepcopy(args)\n",
    "        json.dump(saveparams, fp)\n",
    "        \n",
    "    if args['resume']:\n",
    "            print('loading checkpoint from file %s'%(os.path.join(checkpoint_path,args['checkpoint_file'])))\n",
    "            checkpoint_dict = torch.load(os.path.join(checkpoint_path,args['checkpoint_file']+'.pth.tar'),map_location=device)\n",
    "            start_epoch = checkpoint_dict['epoch'] + 1\n",
    "            model.load_state_dict(checkpoint_dict['autoencoder_state_dict'])\n",
    "            optim.load_state_dict(checkpoint_dict['optimizer_state_dict'])\n",
    "            scheduler.load_state_dict(checkpoint_dict['scheduler_state_dict'])\n",
    "            print('Resuming from epoch %s'%(str(start_epoch)))     \n",
    "    else:\n",
    "        start_epoch = 0\n",
    "        \n",
    "    train_autoencoder_dataloader(dataloader_train, dataloader_test, # fixme dataloader_val\n",
    "                      device, model, optim, loss_fn,\n",
    "                      bsize = args['batch_size'],\n",
    "                      start_epoch = start_epoch,\n",
    "                      n_epochs = args['num_epochs'],\n",
    "                      eval_freq = args['eval_frequency'],\n",
    "                      scheduler = scheduler,\n",
    "                      writer = writer,\n",
    "                      save_recons=True,\n",
    "                      shapedata=shapedata,\n",
    "                      metadata_dir=checkpoint_path, samples_dir=samples_path,\n",
    "                      checkpoint_path = args['checkpoint_file'])"
   ]
  },
  {
   "cell_type": "code",
   "execution_count": 35,
   "metadata": {},
   "outputs": [],
   "source": [
    "import torch\n",
    "import copy\n",
    "from tqdm import tqdm\n",
    "import numpy as np\n",
    "import os\n",
    "import heapq\n",
    "\n",
    "def test_autoencoder_dataloader(device, model, dataloader_test, shapedata, worst_face_num, worst_path, mm_constant = 1000, save_recons=True, samples_dir=None):\n",
    "    model.eval()\n",
    "    l1_loss = 0\n",
    "    l2_loss = 0\n",
    "    shapedata_mean = torch.Tensor(shapedata.mean).to(device)\n",
    "    shapedata_std = torch.Tensor(shapedata.std).to(device)\n",
    "\n",
    "    min_heap = []\n",
    "\n",
    "    with torch.no_grad():\n",
    "        for i, sample_dict in enumerate(tqdm(dataloader_test)):\n",
    "            tx = sample_dict['points'].to(device)\n",
    "            prediction = model(tx)  \n",
    "            if i==0:\n",
    "                predictions = copy.deepcopy(prediction)\n",
    "            else:\n",
    "                predictions = torch.cat([predictions,prediction],0) \n",
    "                \n",
    "            if dataloader_test.dataset.dummy_node:\n",
    "                x_recon = prediction[:,:-1]\n",
    "                x = tx[:,:-1]\n",
    "            else:\n",
    "                x_recon = prediction\n",
    "                x = tx\n",
    "            l1_loss+= torch.mean(torch.abs(x_recon-x))*x.shape[0]/float(len(dataloader_test.dataset))\n",
    "            \n",
    "            old_x_recon = x_recon\n",
    "            old_x = x\n",
    "\n",
    "            x_recon = (x_recon * shapedata_std + shapedata_mean) * mm_constant\n",
    "            x = (x * shapedata_std + shapedata_mean) * mm_constant\n",
    "            per_l2_loss = torch.sqrt(torch.sum((x_recon - x)**2,dim=2))\n",
    "\n",
    "            for j in range(per_l2_loss.shape[0]):\n",
    "                payload = (torch.mean(per_l2_loss[j]), i *\n",
    "                           per_l2_loss.shape[0]+j, old_x[j], old_x_recon[j])\n",
    "                # print(payload[2].shape, payload[3].shape)\n",
    "                # print('pushing',payload)\n",
    "                if len(min_heap) < worst_face_num:\n",
    "                    heapq.heappush(min_heap, payload)\n",
    "                else:\n",
    "                    heapq.heappushpop(min_heap, payload)\n",
    "            l2_loss+= torch.mean(per_l2_loss)*x.shape[0]/float(len(dataloader_test.dataset))\n",
    "\n",
    "        msh = []\n",
    "        msh_recon = []\n",
    "        msh_ind = []\n",
    "        for loss, idx, x, x_recon in min_heap:\n",
    "            print('loss for ', idx, loss)\n",
    "            msh_ind.append(idx)\n",
    "            msh.append(x.detach().cpu().numpy())\n",
    "            msh_recon.append(x_recon.detach().cpu().numpy())\n",
    "        msh = np.array(msh)\n",
    "        msh_recon = np.array(msh_recon) # prevbug msh_ind msh_recon\n",
    "        shapedata.save_meshes(os.path.join(worst_path, 'input'), msh, msh_ind)\n",
    "        shapedata.save_meshes(os.path.join(\n",
    "            worst_path, 'worst'), msh_recon, msh_ind)\n",
    "\n",
    "            \n",
    "        predictions = predictions.cpu().numpy()\n",
    "        l1_loss = l1_loss.item()\n",
    "        l2_loss = l2_loss.item()\n",
    "\n",
    "    return predictions, l1_loss, l2_loss\n"
   ]
  },
  {
   "cell_type": "code",
   "execution_count": 17,
   "metadata": {},
   "outputs": [
    {
     "name": "stdout",
     "output_type": "stream",
     "text": [
      "loading checkpoint from file /home/jingwang/Data/data/FaceWarehouse/results/spirals_simple_autoencoder/latent_128/checkpoints/align_pose/checkpoint.pth.tar\n"
     ]
    },
    {
     "name": "stderr",
     "output_type": "stream",
     "text": [
      "100%|██████████| 21/21 [00:02<00:00,  8.53it/s]\n"
     ]
    },
    {
     "name": "stdout",
     "output_type": "stream",
     "text": [
      "('loss for ', 612, tensor(4.3394, device='cuda:0'))\n",
      "('loss for ', 602, tensor(4.3528, device='cuda:0'))\n",
      "('loss for ', 194, tensor(4.3574, device='cuda:0'))\n",
      "('loss for ', 560, tensor(4.3619, device='cuda:0'))\n",
      "('loss for ', 390, tensor(4.4021, device='cuda:0'))\n",
      "('loss for ', 402, tensor(4.3611, device='cuda:0'))\n",
      "('loss for ', 537, tensor(4.4436, device='cuda:0'))\n",
      "('loss for ', 625, tensor(4.3799, device='cuda:0'))\n",
      "('loss for ', 8, tensor(4.4154, device='cuda:0'))\n",
      "('loss for ', 628, tensor(4.5263, device='cuda:0'))\n",
      "('loss for ', 559, tensor(4.6070, device='cuda:0'))\n",
      "('loss for ', 626, tensor(4.6145, device='cuda:0'))\n",
      "('loss for ', 370, tensor(4.4514, device='cuda:0'))\n",
      "('loss for ', 125, tensor(4.5456, device='cuda:0'))\n",
      "('loss for ', 389, tensor(4.4977, device='cuda:0'))\n",
      "('loss for ', 364, tensor(4.5176, device='cuda:0'))\n",
      "('loss for ', 169, tensor(4.5499, device='cuda:0'))\n",
      "('loss for ', 499, tensor(4.4825, device='cuda:0'))\n",
      "('loss for ', 341, tensor(4.4610, device='cuda:0'))\n",
      "('loss for ', 50, tensor(4.5558, device='cuda:0'))\n",
      "('autoencoder: normalized loss', 0.3011136054992676)\n",
      "('autoencoder: euclidean distance in mm=', 2.037527322769165)\n"
     ]
    }
   ],
   "source": [
    "if args['mode'] == 'test':\n",
    "    print('loading checkpoint from file %s'%(os.path.join(checkpoint_path,args['checkpoint_file']+'.pth.tar')))\n",
    "    checkpoint_dict = torch.load(os.path.join(checkpoint_path,args['checkpoint_file']+'.pth.tar'),map_location=device)\n",
    "    model.load_state_dict(checkpoint_dict['autoencoder_state_dict'])\n",
    "        \n",
    "    predictions, norm_l1_loss, l2_loss = test_autoencoder_dataloader(device, model, dataloader_test, \n",
    "                                                                     shapedata, worst_path=worst_mesh_path, \n",
    "                                                                     worst_face_num=args['worst_face_num'],\n",
    "                                                                     mm_constant = 100)    \n",
    "    np.save(os.path.join(prediction_path,'predictions'), predictions)   \n",
    "        \n",
    "    print('autoencoder: normalized loss', norm_l1_loss)\n",
    "    \n",
    "    print('autoencoder: euclidean distance in mm=', l2_loss)"
   ]
  },
  {
   "cell_type": "code",
   "execution_count": 7,
   "metadata": {},
   "outputs": [
    {
     "name": "stdout",
     "output_type": "stream",
     "text": [
      "loading checkpoint from file /home/jingwang/Data/data/FaceWarehouse/results/fully_connected_simple_autoencoder/latent_128/checkpoints/align_pose/checkpoint.pth.tar\n"
     ]
    },
    {
     "name": "stderr",
     "output_type": "stream",
     "text": [
      "100%|██████████| 290/290 [00:18<00:00, 15.86it/s]\n"
     ]
    },
    {
     "name": "stdout",
     "output_type": "stream",
     "text": [
      "('loss for ', 4407, tensor(0.7333, device='cuda:0'))\n",
      "('loss for ', 7990, tensor(0.7386, device='cuda:0'))\n",
      "('loss for ', 4652, tensor(0.7499, device='cuda:0'))\n",
      "('loss for ', 4229, tensor(0.7571, device='cuda:0'))\n",
      "('loss for ', 9272, tensor(0.8053, device='cuda:0'))\n",
      "('loss for ', 5009, tensor(0.7569, device='cuda:0'))\n",
      "('loss for ', 5751, tensor(0.7895, device='cuda:0'))\n",
      "('loss for ', 3968, tensor(0.7604, device='cuda:0'))\n",
      "('loss for ', 8612, tensor(0.7764, device='cuda:0'))\n",
      "('loss for ', 4689, tensor(0.8434, device='cuda:0'))\n",
      "('loss for ', 2876, tensor(0.8575, device='cuda:0'))\n",
      "('loss for ', 8032, tensor(0.7779, device='cuda:0'))\n",
      "('loss for ', 2945, tensor(0.7627, device='cuda:0'))\n",
      "('loss for ', 6959, tensor(0.8138, device='cuda:0'))\n",
      "('loss for ', 1443, tensor(0.9869, device='cuda:0'))\n",
      "('loss for ', 988, tensor(0.8157, device='cuda:0'))\n",
      "('loss for ', 2040, tensor(0.8673, device='cuda:0'))\n",
      "('loss for ', 2952, tensor(0.7869, device='cuda:0'))\n",
      "('loss for ', 8520, tensor(0.8912, device='cuda:0'))\n",
      "('loss for ', 4046, tensor(0.8836, device='cuda:0'))\n",
      "('autoencoder: normalized loss', 0.027093905955553055)\n",
      "('autoencoder: euclidean distance in mm=', 0.2252335399389267)\n"
     ]
    }
   ],
   "source": [
    "if args['mode'] == 'test': # test with train set\n",
    "    print('loading checkpoint from file %s'%(os.path.join(checkpoint_path,args['checkpoint_file']+'.pth.tar')))\n",
    "    checkpoint_dict = torch.load(os.path.join(checkpoint_path,args['checkpoint_file']+'.pth.tar'),map_location=device)\n",
    "    model.load_state_dict(checkpoint_dict['autoencoder_state_dict'])\n",
    "        \n",
    "    predictions, norm_l1_loss, l2_loss = test_autoencoder_dataloader(device, model, dataloader_train, \n",
    "                                                                     shapedata, worst_path=worst_mesh_path, \n",
    "                                                                     worst_face_num=args['worst_face_num'],\n",
    "                                                                     mm_constant = 100)    \n",
    "    np.save(os.path.join(prediction_path,'predictions'), predictions)   \n",
    "        \n",
    "    print('autoencoder: normalized loss', norm_l1_loss)\n",
    "    \n",
    "    print('autoencoder: euclidean distance in mm=', l2_loss)"
   ]
  },
  {
   "cell_type": "code",
   "execution_count": 55,
   "metadata": {},
   "outputs": [
    {
     "name": "stderr",
     "output_type": "stream",
     "text": [
      "100%|██████████| 2/2 [00:00<00:00, 186.53it/s]"
     ]
    },
    {
     "name": "stdout",
     "output_type": "stream",
     "text": [
      "loading checkpoint from file /home/jingwang/Data/data/FaceWarehouse/results/fully_connected_pca_autoencoder/latent_16/checkpoints/neutral/checkpoint.pth.tar\n",
      "loss for  7 tensor(1.1442, device='cuda:0')\n",
      "loss for  5 tensor(1.4197, device='cuda:0')\n",
      "loss for  0 tensor(1.4422, device='cuda:0')\n",
      "loss for  2 tensor(1.5218, device='cuda:0')\n",
      "loss for  3 tensor(1.6134, device='cuda:0')\n",
      "loss for  2 tensor(1.7671, device='cuda:0')\n",
      "loss for  6 tensor(1.6526, device='cuda:0')\n",
      "loss for  1 tensor(1.6962, device='cuda:0')\n",
      "loss for  3 tensor(1.6305, device='cuda:0')\n",
      "loss for  4 tensor(1.6477, device='cuda:0')\n",
      "autoencoder: normalized loss 0.24331627786159515\n",
      "autoencoder: euclidean distance in mm= 1.5535428524017334\n"
     ]
    },
    {
     "name": "stderr",
     "output_type": "stream",
     "text": [
      "\n"
     ]
    }
   ],
   "source": [
    "if args['mode'] == 'test': # test with val set\n",
    "    print('loading checkpoint from file %s'%(os.path.join(checkpoint_path,args['checkpoint_file']+'.pth.tar')))\n",
    "    checkpoint_dict = torch.load(os.path.join(checkpoint_path,args['checkpoint_file']+'.pth.tar'),map_location=device)\n",
    "    model.load_state_dict(checkpoint_dict['autoencoder_state_dict'])\n",
    "        \n",
    "    predictions, norm_l1_loss, l2_loss = test_autoencoder_dataloader(device, model, dataloader_val, \n",
    "                                                                     shapedata, worst_path=worst_mesh_path, \n",
    "                                                                     worst_face_num=args['worst_face_num'],\n",
    "                                                                     mm_constant = 100)    \n",
    "    np.save(os.path.join(prediction_path,'predictions'), predictions)   \n",
    "        \n",
    "    print('autoencoder: normalized loss', norm_l1_loss)\n",
    "    \n",
    "    print('autoencoder: euclidean distance in mm=', l2_loss)"
   ]
  },
  {
   "cell_type": "code",
   "execution_count": 10,
   "metadata": {
    "scrolled": false
   },
   "outputs": [
    {
     "name": "stdout",
     "output_type": "stream",
     "text": [
      "torch.Size([10, 11511, 3])\n",
      "loss  0.24329513311386108\n",
      "loss  0.24329493939876556\n",
      "loss  0.24329471588134766\n",
      "loss  0.24329450726509094\n",
      "loss  0.24329429864883423\n",
      "loss  0.2432941049337387\n",
      "loss  0.2432938665151596\n",
      "loss  0.24329368770122528\n",
      "loss  0.24329344928264618\n",
      "loss  0.24329324066638947\n",
      "loss  0.24329303205013275\n",
      "loss  0.24329283833503723\n",
      "loss  0.24329259991645813\n",
      "loss  0.2432924211025238\n",
      "loss  0.2432921975851059\n",
      "loss  0.243291974067688\n",
      "loss  0.24329176545143127\n",
      "loss  0.24329157173633575\n",
      "loss  0.24329133331775665\n",
      "loss  0.24329115450382233\n",
      "tensor([[-2.1633e+01,  2.0553e+01,  4.9337e+01,  1.6851e+00,  2.3712e+01,\n",
      "         -3.7888e+01, -1.4641e+01, -3.7942e+01,  3.1905e+01, -2.4031e+01,\n",
      "          1.8875e+01, -3.5214e+01, -2.7131e+01,  3.2612e+01,  7.3559e+00,\n",
      "         -9.1403e-01],\n",
      "        [ 5.0887e+00, -4.2406e+00, -1.8859e+01,  4.0508e+01,  3.1154e+01,\n",
      "         -6.6240e+01, -2.3830e+01, -6.9777e+01,  4.2486e+01,  1.3714e+00,\n",
      "          3.7937e+01,  2.1957e+00,  4.2534e+01,  3.6115e+00, -3.7478e+01,\n",
      "         -2.5504e+01],\n",
      "        [-1.7244e+01,  2.0832e+01,  3.2837e+01, -1.8323e+01,  2.0134e+01,\n",
      "         -3.8102e+01, -4.1273e+01, -1.2494e+01, -1.3776e+01, -4.6756e+01,\n",
      "          4.8707e+01, -2.6016e+01, -1.9557e+01,  1.3521e+00, -6.5691e+01,\n",
      "         -2.0458e+01],\n",
      "        [ 1.0221e+00, -1.0165e+01, -4.2662e+01,  3.3774e+01,  1.1401e+01,\n",
      "         -1.1128e+01, -2.6130e+01, -3.5344e+01,  1.8386e+01, -3.0578e+01,\n",
      "          4.6449e+01, -2.2363e+01, -3.8228e+01,  4.4915e+01,  2.1171e+01,\n",
      "         -1.2557e+01],\n",
      "        [-6.1280e+00,  2.0549e+01,  1.0892e+02, -7.9975e+00, -1.6960e+01,\n",
      "          4.8530e+00,  1.6408e+01, -2.2470e+01, -3.5903e+01, -1.5252e+01,\n",
      "          1.6218e+01, -3.2623e+01,  4.2643e+01, -4.7392e+00,  8.7407e+00,\n",
      "         -3.9167e+00],\n",
      "        [-1.4564e+01, -4.0631e+01,  2.7039e+01,  7.1112e+00,  3.1661e+00,\n",
      "          1.7347e+01, -3.1734e+01,  1.0613e+01,  2.3263e+00, -2.3721e+01,\n",
      "          4.5096e+01, -2.3677e-03, -2.0243e+01, -1.2652e+01, -1.3315e+01,\n",
      "          2.8728e+01],\n",
      "        [-6.4686e+00,  9.7083e+00, -1.6120e+01, -2.2554e+01,  2.2722e+00,\n",
      "         -1.6716e+01, -5.5395e+00, -2.6768e+00,  1.8270e+01, -2.6112e+01,\n",
      "          4.0211e+01, -4.5079e+01, -2.1203e+01,  1.6972e+01,  3.0843e+01,\n",
      "          4.1973e-01],\n",
      "        [-2.7917e+01,  1.8597e+00,  2.3943e+01,  1.8998e+01, -1.7603e+01,\n",
      "         -3.2973e+01, -1.8601e+01, -6.1999e+01,  4.3164e+01,  1.0986e+01,\n",
      "          2.8515e+01, -2.6932e+01, -1.4099e+00, -1.3169e+01,  2.0511e+01,\n",
      "         -1.1494e+01],\n",
      "        [-9.9907e+00,  3.9465e+00, -1.3983e+01,  2.3855e+01, -1.2307e+01,\n",
      "         -6.2232e+01, -1.9366e+01,  2.2374e+01, -1.3836e+00, -3.0124e+01,\n",
      "          3.3598e+01,  7.4444e+00,  2.9435e+00,  1.5637e+00,  2.8579e+01,\n",
      "          1.9292e+00],\n",
      "        [-1.1549e+01, -2.8890e+01, -1.4880e+01, -6.4384e+00, -1.7252e+00,\n",
      "         -1.5236e+01, -1.3475e+01, -1.5763e+00,  2.1953e+01,  4.1802e-01,\n",
      "          5.3015e+01, -2.6517e+01, -5.0115e+00,  7.9838e+00,  2.1585e+01,\n",
      "         -1.7749e+00]], device='cuda:0')\n",
      "0 tensor(0.0144, device='cuda:0', grad_fn=<MeanBackward0>)\n",
      "1 tensor(0.0170, device='cuda:0', grad_fn=<MeanBackward0>)\n",
      "2 tensor(0.0177, device='cuda:0', grad_fn=<MeanBackward0>)\n",
      "3 tensor(0.0163, device='cuda:0', grad_fn=<MeanBackward0>)\n",
      "4 tensor(0.0165, device='cuda:0', grad_fn=<MeanBackward0>)\n",
      "5 tensor(0.0142, device='cuda:0', grad_fn=<MeanBackward0>)\n",
      "6 tensor(0.0165, device='cuda:0', grad_fn=<MeanBackward0>)\n",
      "7 tensor(0.0114, device='cuda:0', grad_fn=<MeanBackward0>)\n",
      "8 tensor(0.0152, device='cuda:0', grad_fn=<MeanBackward0>)\n",
      "9 tensor(0.0161, device='cuda:0', grad_fn=<MeanBackward0>)\n"
     ]
    }
   ],
   "source": [
    "# from optimize_to_get_result import optimize_to_get_result\n",
    "\n",
    "import torch\n",
    "import torch.optim as optim\n",
    "import torch.nn as nn\n",
    "\n",
    "\n",
    "def optimize_to_get_result(model, loss_fun, z_dim, device, targets, n_iter=1, output_loss=True):\n",
    "    model.eval()\n",
    "    \n",
    "#     return torch.empty(0), model(targets)\n",
    "    \n",
    "    model.only_encode(True)\n",
    "    z = model(targets)\n",
    "    model.only_encode(False)\n",
    "    \n",
    "    model.only_decode(True)\n",
    "    z_param = nn.Parameter(z)\n",
    "    optimizer = optim.LBFGS(params=[z_param])\n",
    "    for it in range(n_iter):\n",
    "        def closure():\n",
    "            optimizer.zero_grad()\n",
    "            outputs = model(z_param)\n",
    "            outputs = outputs.reshape(targets.shape) # decode, don't know shape\n",
    "            loss = loss_fun(outputs, targets)\n",
    "            loss.backward()\n",
    "            if output_loss:\n",
    "                print('loss ', loss.item())\n",
    "            return loss\n",
    "        optimizer.step(closure)\n",
    "    outputs = model(z_param)\n",
    "    outputs = outputs.reshape(targets.shape)\n",
    "    \n",
    "    model.only_decode(False)\n",
    "    return z_param.data, outputs\n",
    "\n",
    "def work_optimize():\n",
    "\n",
    "    test_dataset = dataset_val\n",
    "    # test_ids = [402,560, 50,  537, 390,\n",
    "    #             364, 169, 616, 341, 590,\n",
    "    #             499, 389,125, 370, 614,\n",
    "    #             600, 194, 8, 653, 559]\n",
    "#     test_ids = [602,194,560,390,402,537,625,8, 628,559,626,370,125,389,364,169,499,341,50]\n",
    "    test_ids = list(range(10))\n",
    "    inputs = torch.cat([test_dataset[idx]['points'].to(device).unsqueeze(0) for idx in test_ids])\n",
    "    inputs = inputs.to(device)\n",
    "\n",
    "    shapedata_mean = torch.Tensor(shapedata.mean).to(device)\n",
    "    shapedata_std = torch.Tensor(shapedata.std).to(device)\n",
    "\n",
    "    z, outputs = optimize_to_get_result(model, loss_fn, args['nz'], device,\n",
    "                          inputs)\n",
    "    from pprint import pprint\n",
    "    pprint(z)\n",
    "\n",
    "    outputs = outputs[:,:-1]\n",
    "    inputs = inputs[:,:-1]\n",
    "\n",
    "    old_outputs = outputs\n",
    "    old_inputs = inputs\n",
    "\n",
    "    outputs = outputs * shapedata_std + shapedata_mean\n",
    "    inputs = inputs * shapedata_std + shapedata_mean\n",
    "\n",
    "    per_l2_loss = torch.sqrt(torch.sum((outputs - inputs)**2, dim=2))\n",
    "\n",
    "    for i in range(len(test_ids)):\n",
    "        print(test_ids[i], torch.mean(per_l2_loss[i]))\n",
    "\n",
    "    shapedata.save_meshes(os.path.join(worst_mesh_path, 'opt_input'),old_inputs.detach().cpu().numpy(),test_ids)\n",
    "    shapedata.save_meshes(os.path.join(worst_mesh_path, 'opt_output'),old_outputs.detach().cpu().numpy(),test_ids)\n",
    "\n",
    "work_optimize()"
   ]
  }
 ],
 "metadata": {
  "kernelspec": {
   "display_name": "Python 3",
   "language": "python",
   "name": "python3"
  },
  "language_info": {
   "codemirror_mode": {
    "name": "ipython",
    "version": 3
   },
   "file_extension": ".py",
   "mimetype": "text/x-python",
   "name": "python",
   "nbconvert_exporter": "python",
   "pygments_lexer": "ipython3",
   "version": "3.7.3"
  },
  "varInspector": {
   "cols": {
    "lenName": 16,
    "lenType": 16,
    "lenVar": 40
   },
   "kernels_config": {
    "python": {
     "delete_cmd_postfix": "",
     "delete_cmd_prefix": "del ",
     "library": "var_list.py",
     "varRefreshCmd": "print(var_dic_list())"
    },
    "r": {
     "delete_cmd_postfix": ") ",
     "delete_cmd_prefix": "rm(",
     "library": "var_list.r",
     "varRefreshCmd": "cat(var_dic_list()) "
    }
   },
   "types_to_exclude": [
    "module",
    "function",
    "builtin_function_or_method",
    "instance",
    "_Feature"
   ],
   "window_display": false
  }
 },
 "nbformat": 4,
 "nbformat_minor": 2
}
